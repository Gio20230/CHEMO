{
 "cells": [
  {
   "cell_type": "markdown",
   "metadata": {},
   "source": [
    "# Introducción al lenguaje de programación Python\n",
    "El curso “Data Science for drug discovery” es una plataforma de aprendizaje autónomo dirigido a estudiantes e investigadores interesados en el desarrollo de herramientas biocomputaciones, desde Python, siendo este, el lenguaje de programación más empleado. Con el avance en las ciencias ómicas y las nuevas tecnologías se ha visto necesario adquirir habilidades informáticas aplicadas en las ciencias y el manejo de bases de datos biológicas.\n",
    "\n",
    "Bienvenido a la introducción del curso “Data Science for drug discovery”, en la primera parte encontrara los fundamentos para comprender el lenguaje de programación de Python, está enfocado en la manipulación, extracción y análisis de datos provenientes de bases de datos biológicos (ómicos), partiendo desde lo conceptos básicos de programación y sus aplicaciones, con ejemplos basados en manipulación de secuencias de DNA.\n",
    "## Contenidos\n",
    "En este primer Jupyter notebook de *Python_basic* aprenderá:\n",
    "1. Introducción a Python\n",
    "2. Variables\n",
    "3. Tipos de datos\n",
    "4. Tipos de arreglos\n",
    "5. Cargar archivos\n",
    "6. Manipulación de strings\n",
    "7. Estructuras de control de flujo\n",
    "8. Funciones"
   ]
  },
  {
   "cell_type": "markdown",
   "metadata": {},
   "source": [
    "# Resultados del aprendizaje\n",
    "Se espera que al finalizar este cuaderno el usuario pueda:\n",
    "1.\tEntender los conceptos básicos del lenguaje de programación de Python\n",
    "2.\tComprender los formatos de variables:\n",
    "    -\t¿Qué son?\n",
    "    -\tLas asignaciones\n",
    "    -\tLas operaciones básicas\n",
    "3.\tComprender los usos y los tipos de datos:\n",
    "    -\tNumérico\n",
    "    -\tBooleano\n",
    "    -\tTexto\n",
    "    -\tArreglo\n",
    "4.\tIdentificar los tipos de arreglos y su uso:\n",
    "    -\tListas\n",
    "    -\tTuplas\n",
    "    -\tConjuntos\n",
    "    -\tDiccionarios\n",
    "5.\tCargar y modificar archivos en diferentes formatos y tamaños, visualizarlos, analizarlos, leerlos y escribir sobre ellos.\n",
    "6.\tManejar las estructuras de control de flujo básicas:\n",
    "    -\tCondicionales\n",
    "    -\tIteraciones\n",
    "7.\tComprender las herramientas de Python que se pueden emplear en la biología."
   ]
  },
  {
   "cell_type": "markdown",
   "metadata": {},
   "source": [
    "# Teoría: conceptos básicos"
   ]
  },
  {
   "cell_type": "markdown",
   "metadata": {},
   "source": [
    "## Variables\n",
    "\n",
    "Una variable es una referencia a un valor en la memoria del computador, en donde se pueden almacenar diferentes **tipos de datos**. Por lo general se asignan valores a nombres de variables, un ejemplo de esto es: `texto = \"hola mundo\"`, `texto` es el nombre de la variable y hace referencia a `hola mundo` el cual seria el valor de la variable, y en el ejemplo anterior se utilizo el operador `=`, luego la operación que se realizó fue de asignación. A esto se le conoce como una expresión de asignación.\n",
    "\n",
    "Por lo general es el programador del software quien le asigna un nombre de variable que sea fácil de recordar y utilizar en el programa. Es importante saber que el nombre de las variables no puede comenzar por un número y distinguen entre mayusculas y minúsculas, además no se puede incluir espacios.\n",
    "\n",
    "La siguiente tabla muestra algunos de los datos que se pueden trabajar en Python:\n",
    "\n",
    "### Tipos de datos nativos de Python\n",
    "\n",
    "| Nombre en Inglés          | Nombre del tipo  | Categoria  | Descripción                                   | Ejemplo                                      |\n",
    "| :-------------------- | :--------- | :------------- | :-------------------------------------------- |:---------------------------------------------|\n",
    "| integer               | `int`      | Númerico  | Enteros positivos/negativos               | 1, 2, ..., n                                 |\n",
    "| floating point number | `float`    | Númerico   | Números reales en forma décimal                  | 1.0, 1.1, 1.22, 1.333, ..., n                |\n",
    "| boolean               | `bool`     | Lógico | Verdadero ó Falso                                 | True, False                                  |\n",
    "| string                | `str`      | Cadena  | Texto                                          | 'Hola mundo...'                              |\n",
    "| list                  | `list`     | Secuencia  | Una colección de objetos ordenada y mutable   | [0, 1, 2, 3, ..., n]                         |\n",
    "| tuple                 | `tuple`    | Secuencia  | Una colección de objetos ordenada y inmutable | (1, 2, 3, ..., n)                            |\n",
    "| dictionary            | `dict`     | Mapa   | Mapa de pares de objetos                    | { \"Nombre\": \"Doe\", 'Apellido: \"Laden\" } |\n",
    "| none                  | `NoneType` | Nulo    | Representa ningun valor                           | `None`                                       |\n",
    "\n",
    "(_Nota: El nombre de las variables no puede ser igual a las palabras reservadas de python_)"
   ]
  },
  {
   "cell_type": "markdown",
   "metadata": {},
   "source": [
    "## Tipos de datos"
   ]
  },
  {
   "cell_type": "markdown",
   "metadata": {},
   "source": [
    "### Datos tipo: numéricos\n",
    "\n",
    "Hay varios tipos de datos numéricos (`enteros`, `punto flotante`, `decimal`, `complejos`, entre otros), aquí trabajaremos generalmente con dos de ellos: `enteros` (`int`) y `punto flotante` (`float`). La función `type()` nos ayuda a determinar el tipo de un objeto en Python\n",
    "\n",
    "* **Enteros (int)**: este tipo de dato comprende todos los números enteros, ya que este conjunto es infinito, el lenguaje `Python` está limitado por la capacidad de memoria disponible.\n",
    "* **Punto flotante (float)**: este tipo de datos sirve para representar sin problemas la mayoría de números reales, los valores `float` son almacenados de una forma muy particular, denominada representación en coma flotante, en [el estándar IEEE 754](https://en.wikipedia.org/wiki/IEEE_754) se explica con detalle. Así, si un número entero se define con punto decimal, por ejemplo: 1.0, este será almacenado tipo flotante"
   ]
  },
  {
   "cell_type": "code",
   "execution_count": 1,
   "metadata": {},
   "outputs": [
    {
     "name": "stdout",
     "output_type": "stream",
     "text": [
      "El tipo de la variable entero_1 es: <class 'int'>\n",
      "El tipo de la variable flotante_1 es: <class 'float'>\n",
      "El tipo de la variable flotante_2 es: <class 'float'>\n"
     ]
    }
   ],
   "source": [
    "# Ejemplo Entero\n",
    "entero_1 = 12361\n",
    "flotante_1 = 123.215\n",
    "flotante_2 = 1236.0\n",
    "\n",
    "print(\"El tipo de la variable entero_1 es: \" + str(type(entero_1)))\n",
    "print(\"El tipo de la variable flotante_1 es: \" +  str(type(flotante_1)))\n",
    "print(\"El tipo de la variable flotante_2 es: \" + str(type(flotante_2)))"
   ]
  },
  {
   "cell_type": "markdown",
   "metadata": {},
   "source": [
    "#### Operaciones aritméticas\n",
    "| Símbolo |   Descripción   |\n",
    "|:-------:|:---------------:|\n",
    "|   `+`   |     adición     |\n",
    "|   `-`   |  sustracción   |\n",
    "|   `*`   | multiplicación  |\n",
    "|   `/`   |    división     |\n",
    "|  `**`   |    potencia     |\n",
    "|  `//`   | división entera |\n",
    "|   `%`   |     módulo      |\n",
    "\n",
    "*Observación*: En adelante trabajaremos con los `f-strings` que permiten hacer líneas cortas de texto con variables integradas. Más información en: [f-strings](https://platzi.com/blog/f-strings-en-python/?utm_source=google&utm_medium=cpc&utm_campaign=12915366154&utm_adgroup=&utm_content=&gclid=Cj0KCQjw3IqSBhCoARIsAMBkTb2p5ZOBtPtlGG2B7P0qrtnp8Wwvbgd2OY_F3_P-6OOU1YE_QHHCMaYaAnTaEALw_wcB&gclsrc=aw.ds), [f-strings](https://peps.python.org/pep-0498/)\n"
   ]
  },
  {
   "cell_type": "code",
   "execution_count": 2,
   "metadata": {},
   "outputs": [
    {
     "name": "stdout",
     "output_type": "stream",
     "text": [
      "La suma de dos números enteros es un entero, por ejemplo: 15\n"
     ]
    }
   ],
   "source": [
    "# Ejemplo operaciones con números enteros\n",
    "x = 10\n",
    "y = 5\n",
    "\n",
    "print(f'La suma de dos números enteros es un entero, por ejemplo: {x + y}')"
   ]
  },
  {
   "cell_type": "code",
   "execution_count": 3,
   "metadata": {},
   "outputs": [
    {
     "name": "stdout",
     "output_type": "stream",
     "text": [
      "La suma de dos números de tipo flotantes da como resultado un número flotante, por ejemplo: 15.0\n"
     ]
    }
   ],
   "source": [
    "# Ejemplo operaciones con números reales en forma décimal\n",
    "x = 10.0\n",
    "y = 5.0\n",
    "\n",
    "print(f'La suma de dos números de tipo flotantes da como resultado un número flotante, por ejemplo: {x + y}')"
   ]
  },
  {
   "cell_type": "code",
   "execution_count": 4,
   "metadata": {},
   "outputs": [
    {
     "name": "stdout",
     "output_type": "stream",
     "text": [
      "La suma un entero y un flotante es un flotante, por ejemplo: 15.0\n"
     ]
    }
   ],
   "source": [
    "# Ejemplo operaciones con números reales y enteros\n",
    "x = 10\n",
    "y = 5.0\n",
    "\n",
    "# Note que el interprete de Python da relevanciá a los tipos float sobre los tipos int.\n",
    "print(f'La suma un entero y un flotante es un flotante, por ejemplo: {x + y}')"
   ]
  },
  {
   "cell_type": "markdown",
   "metadata": {},
   "source": [
    "En los cuadernos `Jupyter` (versión interactiva de Python), la última línea de la celda será mostrada automáticamente.\n",
    "Esto quiere decir que no siempre es necesario utilizar la función `print()`"
   ]
  },
  {
   "cell_type": "code",
   "execution_count": 5,
   "metadata": {},
   "outputs": [
    {
     "data": {
      "text/plain": [
       "35"
      ]
     },
     "execution_count": 5,
     "metadata": {},
     "output_type": "execute_result"
    }
   ],
   "source": [
    "#Ejemplo\n",
    "x = 15\n",
    "y = 20\n",
    "\n",
    "x + y  # La operación de esta celda es mostrada automáticamente"
   ]
  },
  {
   "cell_type": "markdown",
   "metadata": {},
   "source": [
    "### Datos tipo: Booleano (bool)\n",
    "Este tipo de dato (`bool`) tiene únicamente dos valores: verdadero: `True` o falso: `False`. Puede ser usado para operadores lógicos donde se necesite evaluar si una afirmación es cierta o no."
   ]
  },
  {
   "cell_type": "markdown",
   "metadata": {},
   "source": [
    "### Datos tipo: texto (String)\n",
    "Los strings ó cadenas de texto, se denotan como <code>str</code> y son una secuencia de símbolos que pueden incluir letras mayúsculas y minúsculas, números, signos de puntuación y espacios.\n",
    "\n",
    "Existen tres formas de representar este tipo de datos, cualquiera de ellas es válida y no afecta el código:\n",
    "* **Entre comillas sencillas:** 'Donepezil'\n",
    "* **Entre comillas dobles:** \"Donepezil\"\n",
    "* **Entre tres comillas sencillas o tres comillas dobles:** '''Donepezil''' o \"\"\"Donepezil\"\"\" *(Sé usa principalmente para definir cadenas de textos en múltiples lineas)*"
   ]
  },
  {
   "cell_type": "code",
   "execution_count": 6,
   "metadata": {},
   "outputs": [
    {
     "name": "stdout",
     "output_type": "stream",
     "text": [
      "texto: Hola mundo\n"
     ]
    }
   ],
   "source": [
    "# Ejemplo de variable del tipo string\n",
    "texto = 'Hola mundo'\n",
    "print(f'texto: {texto}')"
   ]
  },
  {
   "cell_type": "code",
   "execution_count": 7,
   "metadata": {},
   "outputs": [
    {
     "name": "stdout",
     "output_type": "stream",
     "text": [
      "Texto - Comillas Doble: Hola mundo, comillas doble\n"
     ]
    }
   ],
   "source": [
    "# Ejemplo de definiciones de variables tipo string, con comillas, sencillas, dobles y triples.\n",
    "texto = \"Hola mundo, comillas doble\"\n",
    "print(f'Texto - Comillas Doble: {texto}')"
   ]
  },
  {
   "cell_type": "code",
   "execution_count": 8,
   "metadata": {},
   "outputs": [
    {
     "name": "stdout",
     "output_type": "stream",
     "text": [
      "Texto - Comillas Sencillas: Hola Mundo, comillas sencillas\n"
     ]
    }
   ],
   "source": [
    "texto = 'Hola Mundo, comillas sencillas'\n",
    "print(f'Texto - Comillas Sencillas: {texto}')"
   ]
  },
  {
   "cell_type": "code",
   "execution_count": 9,
   "metadata": {},
   "outputs": [
    {
     "name": "stdout",
     "output_type": "stream",
     "text": [
      "Texto - Triple Comilla Doble: Hola mundo,\n",
      "triple comilla doble\n"
     ]
    }
   ],
   "source": [
    "# La triple comilla conserva los separadores (espacios, saltos de línea)\n",
    "texto = \"\"\"Hola mundo,\n",
    "triple comilla doble\"\"\"\n",
    "print(f'Texto - Triple Comilla Doble: {texto}')"
   ]
  },
  {
   "cell_type": "code",
   "execution_count": 10,
   "metadata": {},
   "outputs": [
    {
     "name": "stdout",
     "output_type": "stream",
     "text": [
      "Texto - Triple Comilla Sencillas: Hola mundo,\n",
      "triple comilla sencilla\n"
     ]
    }
   ],
   "source": [
    "texto = '''Hola mundo,\n",
    "triple comilla sencilla'''\n",
    "print(f'Texto - Triple Comilla Sencillas: {texto}')"
   ]
  },
  {
   "cell_type": "markdown",
   "metadata": {},
   "source": [
    "Sí el texto es una cadena muy larga, es posible escribirla en modo multilinea, como se ve a continuación:"
   ]
  },
  {
   "cell_type": "code",
   "execution_count": 11,
   "metadata": {},
   "outputs": [
    {
     "name": "stdout",
     "output_type": "stream",
     "text": [
      "Texto multilinea \n",
      "Este texto es multilinea\n",
      "porque posee diferentes lineas\n",
      "para ello se imprime\n",
      "\n"
     ]
    }
   ],
   "source": [
    "texto_multilinea = \"\"\"Este texto es multilinea\n",
    "porque posee diferentes lineas\n",
    "para ello se imprime\n",
    "\"\"\"\n",
    "# \\n es un separador de linea\n",
    "print(f'Texto multilinea \\n{texto_multilinea}')"
   ]
  },
  {
   "cell_type": "markdown",
   "metadata": {},
   "source": [
    "#### Indexación"
   ]
  },
  {
   "cell_type": "markdown",
   "metadata": {},
   "source": [
    "Una de las formas más sencillas de manipular una cadena de caracteres, es a través del método de indexación:\n",
    "\n",
    "Un texto es similar a una lista, donde cada elemento tiene un _índice_, en `Python` el primer elemento tiene índice cero. De esta manera se puede hacer uso de la indexación para manipular partes del texto.\n"
   ]
  },
  {
   "cell_type": "code",
   "execution_count": 12,
   "metadata": {},
   "outputs": [
    {
     "name": "stdout",
     "output_type": "stream",
     "text": [
      "Extraer una palabra del texto (texto[6:9]): que\n"
     ]
    }
   ],
   "source": [
    "texto = \"Texto que se quiere manipular\"\n",
    "\n",
    "### EJEMPLO 1\n",
    "print(f'Extraer una palabra del texto (texto[6:9]): {texto[6:9]}')  # del principio al final"
   ]
  },
  {
   "cell_type": "code",
   "execution_count": 13,
   "metadata": {},
   "outputs": [
    {
     "name": "stdout",
     "output_type": "stream",
     "text": [
      "Extraer la palabra 'quiere' del texto recorriendo en string de adelante hacia atrás: quiere\n",
      "Extraer la palabra 'quiere' del texto recorriendo en string de atrás hacia adelante: quiere\n"
     ]
    }
   ],
   "source": [
    "#### EJEMPLO 2\n",
    "print(f'Extraer la palabra \\'quiere\\' del texto recorriendo en string de adelante hacia atrás: {texto[13:19]}')  # del principio al final\n",
    "print(f'Extraer la palabra \\'quiere\\' del texto recorriendo en string de atrás hacia adelante: {texto[-16:-10]}')  # del final al principio"
   ]
  },
  {
   "cell_type": "markdown",
   "metadata": {},
   "source": [
    "Incluso es posible hacer comprobaciones lógicas con las cadenas de carácteres como se ve a continuación:"
   ]
  },
  {
   "cell_type": "code",
   "execution_count": 14,
   "metadata": {},
   "outputs": [
    {
     "name": "stdout",
     "output_type": "stream",
     "text": [
      "¿Será que 'para' esta en texto?\n",
      "False\n",
      "\n",
      "¿Será que 'quiere' esta en texto?\n",
      "True\n"
     ]
    }
   ],
   "source": [
    "texto = \"Texto que se quiere manipular\"\n",
    "\n",
    "### EJEMPLO 1\n",
    "print(f'¿Será que \\'para\\' esta en texto?')\n",
    "print(\"para\" in texto)\n",
    "\n",
    "#### EJEMPLO 2\n",
    "\n",
    "print(f'\\n¿Será que \\'quiere\\' esta en texto?')\n",
    "print(\"quiere\" in texto)\n"
   ]
  },
  {
   "cell_type": "markdown",
   "metadata": {},
   "source": [
    "#### Métodos de String\n",
    "Hay varios operadores en el lenguaje de Python que permiten trabajar con los datos de los String mediante operaciones en las que se devuelven los valores sin cambiar la cadena. Entre las que se encuentran:\n",
    "* <code>.replace()</code>: sustituye en el string un valor específico por otro.\n",
    "* <code>.split()</code>: divide el string en subcadenas según el parámetro establecido. Da como resultado una lista de elementos.\n",
    "* <code>.find()</code>:  Busca en el string un valor específico y evidencia la posición en la que se encuentra. Da como resultado el índice (posición) del elemento buscado.\n"
   ]
  },
  {
   "cell_type": "code",
   "execution_count": 15,
   "metadata": {},
   "outputs": [
    {
     "name": "stdout",
     "output_type": "stream",
     "text": [
      "Hola mundo. Este es un texto de ejemplo\n"
     ]
    },
    {
     "data": {
      "text/plain": [
       "'Hi mundo. Este es un texto de ejemplo'"
      ]
     },
     "execution_count": 15,
     "metadata": {},
     "output_type": "execute_result"
    }
   ],
   "source": [
    "texto = \"Hola mundo. Este es un texto de ejemplo\"\n",
    "print(texto)\n",
    "\n",
    "# Reemplazar una palabra\n",
    "texto.replace(\"Hola\", \"Hi\")\n"
   ]
  },
  {
   "cell_type": "code",
   "execution_count": 16,
   "metadata": {},
   "outputs": [
    {
     "data": {
      "text/plain": [
       "['Hola', 'mundo.', 'Este', 'es', 'un', 'texto', 'de', 'ejemplo']"
      ]
     },
     "execution_count": 16,
     "metadata": {},
     "output_type": "execute_result"
    }
   ],
   "source": [
    "# Separa la frase por espacios\n",
    "lista_separada = texto.split(\" \")\n",
    "lista_separada"
   ]
  },
  {
   "cell_type": "code",
   "execution_count": 17,
   "metadata": {},
   "outputs": [
    {
     "data": {
      "text/plain": [
       "5"
      ]
     },
     "execution_count": 17,
     "metadata": {},
     "output_type": "execute_result"
    }
   ],
   "source": [
    "# Encontrar la posición de la palabra 'mundo' en texto\n",
    "texto.find(\"mundo\")"
   ]
  },
  {
   "cell_type": "markdown",
   "metadata": {},
   "source": [
    "### Datos tipo: Arreglos\n",
    "Las listas, tuplas, diccionarios y conjuntos se emplean para almacenar varios elementos en una misma variable.\n",
    "* **Listas (list):** los elementos tienen un índice y órden, pero pueden ser modificados, además puede tener elementos duplicados\n",
    "* **Tuplas (tuple):** los elementos tienen un índice y orden, pero no se puede cambiar, agregar o eliminar una vez creada la tupla, además pueden hacer duplicados\n",
    "* **Conjuntos (set):** los elementos no tienen un orden y no están indexados, tampoco puede haber duplicados. Se pueden usar operaciones entre conjuntos (por ejemplo la _union_ o _intersección_)\n",
    "* **Diccionarios (dict):** se emplean para almacenar valores de datos en pares `clave:valor` (`keys:values`)), los elementos tienen un orden no modificable, se pueden hacer modificaciones y no se permiten duplicados"
   ]
  },
  {
   "cell_type": "markdown",
   "metadata": {},
   "source": [
    "#### Listas\n",
    "Las listas se emplean para almacenar varios elementos en una sola variable. Los elementos o datos que se almacenan pueden ser de cualquier tipo. A continuación se encuentran las características de este tipo de datos:\n",
    "* Los elementos de las listas **están ordenados**, tienen un orden definido que no cambiará. Al agregar nuevos elementos a la lista por defecto estos se ubicarán al final de la misma.\n",
    "* tienen un orden definido que no cambiará pues al agregar nuevos elementos a la lista se colocaran al final de la misma\n",
    "* Los elementos de las listas **son modificables**, es decir, que se pueden cambiar, agregar y eliminar elementos después de que se haya creado la lista\n",
    "* Las listas **permiten duplicados**, es decir, que pueden haber elementos con el mismo valor"
   ]
  },
  {
   "cell_type": "code",
   "execution_count": 18,
   "metadata": {},
   "outputs": [
    {
     "name": "stdout",
     "output_type": "stream",
     "text": [
      "La lista de enteros del 0 al 10 es:\n"
     ]
    },
    {
     "data": {
      "text/plain": [
       "[0, 1, 2, 3, 4, 5, 6, 7, 8, 9, 10]"
      ]
     },
     "execution_count": 18,
     "metadata": {},
     "output_type": "execute_result"
    }
   ],
   "source": [
    "# Guardar en la variable num una lista ordenada de elementos del 0 al 10\n",
    "num = [0, 1, 2, 3, 4, 5, 6, 7, 8, 9, 10]\n",
    "print(f'La lista de enteros del 0 al 10 es:')\n",
    "num\n"
   ]
  },
  {
   "cell_type": "code",
   "execution_count": 19,
   "metadata": {},
   "outputs": [
    {
     "data": {
      "text/plain": [
       "[0, 1, 2, 3, 4, 5, 6, 7, 8, 9, 10]"
      ]
     },
     "execution_count": 19,
     "metadata": {},
     "output_type": "execute_result"
    }
   ],
   "source": [
    "# para escribir la misma lista se puede utilizar la función range\n",
    "num = list(range(11))\n",
    "num"
   ]
  },
  {
   "cell_type": "markdown",
   "metadata": {},
   "source": [
    "La listas se pueden definir a partir de diferentes tipos de datos:"
   ]
  },
  {
   "cell_type": "code",
   "execution_count": 20,
   "metadata": {},
   "outputs": [
    {
     "name": "stdout",
     "output_type": "stream",
     "text": [
      "La lista es:\n"
     ]
    },
    {
     "data": {
      "text/plain": [
       "[1, '2', 3, '4', 5, '6', 7, 8, '9', 10]"
      ]
     },
     "execution_count": 20,
     "metadata": {},
     "output_type": "execute_result"
    }
   ],
   "source": [
    "num = [1, \"2\", 3, \"4\", 5, \"6\", 7, 8, \"9\", 10]\n",
    "# Notar como los elementos tipo string están entre comillas\n",
    "print(f'La lista es:')\n",
    "num"
   ]
  },
  {
   "cell_type": "markdown",
   "metadata": {},
   "source": [
    "En el anterior ejemplo se ve la forma en la que esta escrita una lista:\n",
    "* Se encuentra delimitada por corchetes cuadrados `[ ]`\n",
    "* Cada elemento está separado por comas `,`\n",
    "\n",
    "Como los elementos de la listas están ordenados se puede saber el índice de un elemento con la función <code>index()</code> la cual devuelve el índice del elemento en la primera aparición que encuentra a partir del índice 0 independientemente de cuántas veces este el elemento dentro de la lista."
   ]
  },
  {
   "cell_type": "markdown",
   "metadata": {},
   "source": [
    "##### Indexación\n",
    "Utilizando la misma técnica para manipular las variables tipo string, por el método de indexación se puede manipular de manera similar las listas:"
   ]
  },
  {
   "cell_type": "code",
   "execution_count": 21,
   "metadata": {},
   "outputs": [
    {
     "name": "stdout",
     "output_type": "stream",
     "text": [
      "la lista es:\n",
      "[0, 1, 2, 3, 4, 5, 6, 7, 8, 9, 10]\n",
      "----------------------\n",
      "En la posición 0 de la lista está el elemento (primer elemento):\n",
      "0\n",
      "----------------------\n",
      "Los dos primeros elementos de la lista son:\n",
      "[0, 1]\n",
      "----------------------\n",
      "Los dos últimos elementos  de la lista son:\n",
      "[9, 10]\n"
     ]
    }
   ],
   "source": [
    "# num: una lista ordenada de elementos del 0-10\n",
    "num = [0, 1, 2, 3, 4, 5, 6, 7, 8, 9, 10]\n",
    "print('la lista es:')\n",
    "print(num)\n",
    "print('----------------------')\n",
    "\n",
    "#### EJEMPLO 1\n",
    "print(f'En la posición 0 de la lista está el elemento (primer elemento):')\n",
    "print(num[0])\n",
    "print('----------------------')\n",
    "\n",
    "#### EJEMPLO 2\n",
    "print(f'Los dos primeros elementos de la lista son:')\n",
    "print(num[0:2])\n",
    "print('----------------------')\n",
    "\n",
    "#### EJEMPLO 3\n",
    "print(f'Los dos últimos elementos  de la lista son:')\n",
    "print(num[-2:])"
   ]
  },
  {
   "cell_type": "markdown",
   "metadata": {},
   "source": [
    "##### Métodos de listas\n",
    "A veces es necesario realizar algunas operaciones básicas sobre las listas, algunos de los métodos existentes son:\n",
    "\n",
    "* <code>.len()</code>\n",
    "* <code>.index()</code>\n",
    "* <code>.pop()</code>\n",
    "* <code>.append()</code>\n",
    "* <code>.remove()</code>\n",
    "* <code>.reverse()</code>"
   ]
  },
  {
   "cell_type": "markdown",
   "metadata": {},
   "source": [
    "###### Método .len()\n",
    "Con `.len(<lista>)` se puede determinar el número de elementos de la lista:"
   ]
  },
  {
   "cell_type": "code",
   "execution_count": 22,
   "metadata": {},
   "outputs": [
    {
     "name": "stdout",
     "output_type": "stream",
     "text": [
      "Número de elementos de la lista:\n"
     ]
    },
    {
     "data": {
      "text/plain": [
       "11"
      ]
     },
     "execution_count": 22,
     "metadata": {},
     "output_type": "execute_result"
    }
   ],
   "source": [
    "num = [0, 1, 2, 3, 4, 5, 6, 7, 8, 9, 10]\n",
    "print('Número de elementos de la lista:')\n",
    "len(num)\n"
   ]
  },
  {
   "cell_type": "markdown",
   "metadata": {},
   "source": [
    "###### Método .index()\n",
    "Con `.index(<elemento>)` se puede encontrar la posición ó index de un elemento en la lista:"
   ]
  },
  {
   "cell_type": "code",
   "execution_count": 23,
   "metadata": {},
   "outputs": [
    {
     "name": "stdout",
     "output_type": "stream",
     "text": [
      "¿En que posición se encuentra el 5?\n"
     ]
    },
    {
     "data": {
      "text/plain": [
       "5"
      ]
     },
     "execution_count": 23,
     "metadata": {},
     "output_type": "execute_result"
    }
   ],
   "source": [
    "#Es posible averiguar la posición de un elemento, incluso el valor en un lugar de la lista\n",
    "print(f'¿En que posición se encuentra el 5?')\n",
    "num.index(5)"
   ]
  },
  {
   "cell_type": "markdown",
   "metadata": {},
   "source": [
    "###### Método .pop()\n",
    "Con `.pop(<índice>)`. Se puede eliminar un elemento de la lista y retornarlo.\n",
    "- En caso de que no se especifique el índice, se elimina el último elemento\n",
    "\n",
    "Este método **sobreescribe** la lista:"
   ]
  },
  {
   "cell_type": "code",
   "execution_count": 24,
   "metadata": {},
   "outputs": [
    {
     "name": "stdout",
     "output_type": "stream",
     "text": [
      "Eliminar el último elemento de la lista\n",
      "10\n",
      "[0, 1, 2, 3, 4, 5, 6, 7, 8, 9]\n"
     ]
    }
   ],
   "source": [
    "print('Eliminar el último elemento de la lista')\n",
    "print(num.pop())\n",
    "print(num)"
   ]
  },
  {
   "cell_type": "markdown",
   "metadata": {},
   "source": [
    "###### Método  .append()\n",
    "Con `.append(<elemento>)` se agrega el elemento al final la lista. Este método __sobreescribe__ la lista."
   ]
  },
  {
   "cell_type": "code",
   "execution_count": 25,
   "metadata": {},
   "outputs": [
    {
     "name": "stdout",
     "output_type": "stream",
     "text": [
      "La lista ahora con el elemento 6 al final:\n",
      "[0, 1, 2, 3, 4, 5, 6, 7, 8, 9, 6]\n"
     ]
    }
   ],
   "source": [
    "num.append(6)\n",
    "print(f'La lista ahora con el elemento 6 al final:')\n",
    "print(num)"
   ]
  },
  {
   "cell_type": "markdown",
   "metadata": {},
   "source": [
    "###### Método  .remove()\n",
    "Con `.remove(<elemento>)` se elimina un elemento de una lista, es necesario indicar el elemento a eliminar:\n",
    "- En caso de tener varios elementos iguales, solo se elimina el primero\n",
    "- Si el elemento no está en la lista, devuelve un error 'ValueError'\n",
    "\n",
    "Este método __sobreescribe__ la lista."
   ]
  },
  {
   "cell_type": "code",
   "execution_count": 26,
   "metadata": {},
   "outputs": [
    {
     "name": "stdout",
     "output_type": "stream",
     "text": [
      "La lista ahora sin el 2:\n",
      "[0, 1, 3, 4, 5, 6, 7, 8, 9, 6]\n"
     ]
    }
   ],
   "source": [
    "num.remove(2)\n",
    "print(f'La lista ahora sin el 2:')\n",
    "print(num)"
   ]
  },
  {
   "cell_type": "markdown",
   "metadata": {},
   "source": [
    "###### Método  .reverse()\n",
    "Con `.reverse()` se reordena la lista, del último elemento al primero. Este método __sobreescribe__ la lista."
   ]
  },
  {
   "cell_type": "code",
   "execution_count": 27,
   "metadata": {},
   "outputs": [
    {
     "name": "stdout",
     "output_type": "stream",
     "text": [
      "Lista en orden contrario\n",
      "[10, 9, 8, 7, 6, 5, 4, 3, 2, 1, 0]\n"
     ]
    }
   ],
   "source": [
    "# volver a crear num\n",
    "num = [0, 1, 2, 3, 4, 5, 6, 7, 8, 9, 10]\n",
    "num.reverse()  # Cambiar el orden\n",
    "print('Lista en orden contrario')\n",
    "print(num)\n"
   ]
  },
  {
   "cell_type": "markdown",
   "metadata": {},
   "source": [
    "#### Tuplas\n",
    "Las tuplas se emplean para almacenar varios elementos en una sola variable. Los elementos o datos que se almacenan pueden ser de cualquier tipo. A continuación se encuentran las características de este tipo de datos:\n",
    "* Los elementos de las tuplas **están ordenados**, es decir, tienen un orden definido que no cambiará pues al agregar nuevos elementos a la lista se colocaran al final de la misma.\n",
    "* Los elementos de las tuplas **son inmutables**, es decir, que no se pueden cambiar, agregar y eliminar elementos después de que se haya creado la tupla.\n",
    "* Las tuplas **permiten duplicados**, es decir, que pueden haber elementos con el mismo valor."
   ]
  },
  {
   "cell_type": "code",
   "execution_count": 28,
   "metadata": {},
   "outputs": [
    {
     "name": "stdout",
     "output_type": "stream",
     "text": [
      "La tupla de elementos del 1 al 10 es:\n",
      "(1, 2, 3, 4, 5, 6, 7, 8, 9, 10)\n"
     ]
    }
   ],
   "source": [
    "# Sea tupla_num una tupla ordenada de elementos del 1 al 10\n",
    "tupla_num = (1, 2, 3, 4, 5, 6, 7, 8, 9, 10)\n",
    "\n",
    "print(f'La tupla de elementos del 1 al 10 es:')\n",
    "print(tupla_num)"
   ]
  },
  {
   "cell_type": "markdown",
   "metadata": {},
   "source": [
    "Una tupla es inmutable, por lo cual no se pueden asignar nuevos valores a sus elementos"
   ]
  },
  {
   "cell_type": "code",
   "execution_count": 29,
   "metadata": {},
   "outputs": [],
   "source": [
    "# tupla_num[3] = 12"
   ]
  },
  {
   "cell_type": "markdown",
   "metadata": {},
   "source": [
    "A los elementos de la tupla se pueden acceder de la misma forma que una lista\n"
   ]
  },
  {
   "cell_type": "code",
   "execution_count": 30,
   "metadata": {},
   "outputs": [
    {
     "name": "stdout",
     "output_type": "stream",
     "text": [
      "Tupla de elementos\n",
      "(1, 2, 3, 4, 5, 6, 7, 8, 9, 10)\n",
      "----------------------\n",
      "Primer elemento (posición cero)\n",
      "1\n",
      "----------------------\n",
      "Últimos cuatro elementos\n",
      "(7, 8, 9, 10)\n",
      "----------------------\n",
      "tupla de elementos de la posición dos a la cinco\n",
      "(3, 4, 5)\n",
      "----------------------\n"
     ]
    }
   ],
   "source": [
    "tupla_num = (1, 2, 3, 4, 5, 6, 7, 8, 9, 10)\n",
    "print('Tupla de elementos')\n",
    "print(tupla_num)\n",
    "print('----------------------')\n",
    "\n",
    "#### EJEMPLO 1\n",
    "print('Primer elemento (posición cero)')\n",
    "print(tupla_num[0])\n",
    "print('----------------------')\n",
    "\n",
    "#### EJEMPLO 2\n",
    "print('Últimos cuatro elementos')\n",
    "print(tupla_num[-4:])\n",
    "print('----------------------')\n",
    "\n",
    "#### EJEMPLO 3\n",
    "print('tupla de elementos de la posición dos a la cinco')\n",
    "print(tupla_num[2:5])\n",
    "print('----------------------')"
   ]
  },
  {
   "cell_type": "markdown",
   "metadata": {},
   "source": [
    "#### Conjuntos\n",
    "Los conjuntos se emplean para almacenar varios elementos en una sola variable. Los elementos o datos que se almacenan pueden ser de cualquier tipo. A continuación se encuentran las características de este tipo de datos:\n",
    "* Los elementos de los conjuntos **no están ordenados**, es decir, no tienen un orden definido ya que los elementos pueden aparecer en un orden diferente cada vez que los usa y no se puede hacer referencia a ellos por índice o clave.\n",
    "* Los elementos de los conjuntos **son inmutables**, es decir, que no se pueden cambiar elementos después de que se haya creado el conjunto.\n",
    "* Los conjuntos **no permiten duplicados**, es decir, no pueden haber elementos con el mismo valor."
   ]
  },
  {
   "cell_type": "code",
   "execution_count": 31,
   "metadata": {},
   "outputs": [
    {
     "name": "stdout",
     "output_type": "stream",
     "text": [
      "El conjunto de elementos es:\n"
     ]
    },
    {
     "data": {
      "text/plain": [
       "{0, 1, 2, 3, 4, 5, 6, 7, 8, 9, 10}"
      ]
     },
     "execution_count": 31,
     "metadata": {},
     "output_type": "execute_result"
    }
   ],
   "source": [
    "# Conjunto de elementos con algunos repetidos\n",
    "conjunto_num_1 = {1, 2, 1, 2, 3, 5, 8, 1, 3, 9, 10, 2, 3, 4, 5, 6, 7, 8, 1, 0}\n",
    "\n",
    "print('El conjunto de elementos es:')\n",
    "conjunto_num_1"
   ]
  },
  {
   "cell_type": "markdown",
   "metadata": {},
   "source": [
    "#### Diccionarios\n",
    "\n",
    "Los diccionarios son una estructura de datos especial, que nos aporta un poco más flexibilidad debido a su naturaleza de lista de objetos donde cada par contiene una clave y un valor. Por clave hacemos referencia a un valor que describe el tipo de dato guardado, a este tipo de estructuras se les conoce como una lista de objetos clave-valor.\n",
    "\n",
    "Veamos un ejemplo, para ello definiremos un diccionario de codones con su traducción a su código genético:"
   ]
  },
  {
   "cell_type": "code",
   "execution_count": 32,
   "metadata": {},
   "outputs": [
    {
     "name": "stdout",
     "output_type": "stream",
     "text": [
      "{'GUU': 'V', 'GUC': 'V', 'GUA': 'V', 'GUG': 'V', 'GCU': 'A', 'GCC': 'A', 'GCA': 'A', 'GCG': 'A', 'GAU': 'D', 'GAC': 'D', 'GAA': 'E', 'GAG': 'E', 'GGU': 'G', 'GGC': 'G', 'GGA': 'G', 'GGG': 'G', 'AGA': 'R', 'AGG': 'R', 'AGU': 'S', 'AGC': 'S', 'AAU': 'N', 'AAC': 'N', 'AAA': 'K', 'AAG': 'K', 'ACU': 'T', 'ACC': 'T', 'ACA': 'T', 'ACG': 'T', 'AUU': 'I', 'AUC': 'I', 'AUA': 'I', 'AUG': 'M', 'CGU': 'R', 'CGC': 'R', 'CGA': 'R', 'CGG': 'R', 'CCU': 'P', 'CCC': 'P', 'CCA': 'P', 'CCG': 'P', 'CAU': 'H', 'CAC': 'H', 'CAA': 'Q', 'CAG': 'Q', 'UUU': 'F', 'UUC': 'F', 'UUA': 'L', 'UUG': 'L', 'UCU': 'S', 'UCC': 'S', 'UCA': 'S', 'UCG': 'S', 'UAU': 'Y', 'UAC': 'Y', 'UAA': 'STOP', 'UAG': 'STOP', 'UGU': 'C', 'UGC': 'C', 'UGA': 'STOP', 'UGG': 'W', 'CUU': 'L', 'CUC': 'L', 'CUA': 'L', 'CUG': 'L'}\n"
     ]
    }
   ],
   "source": [
    "codigo_genetico= {\n",
    "    \"GUU\": \"V\", \"GUC\": \"V\", \"GUA\": \"V\",\n",
    "    \"GUG\": \"V\", \"GCU\": \"A\", \"GCC\": \"A\",\n",
    "    \"GCA\": \"A\", \"GCG\": \"A\", \"GAU\": \"D\",\n",
    "    \"GAC\": \"D\", \"GAA\": \"E\", \"GAG\": \"E\",\n",
    "    \"GGU\": \"G\", \"GGC\": \"G\", \"GGA\": \"G\",\n",
    "    \"GGG\": \"G\", \"AGA\": \"R\", \"AGG\": \"R\",\n",
    "    \"AGU\": \"S\", \"AGC\": \"S\", \"AAU\": \"N\",\n",
    "    \"AAC\": \"N\", \"AAA\": \"K\", \"AAG\": \"K\",\n",
    "    \"ACU\": \"T\", \"ACC\": \"T\", \"ACA\": \"T\",\n",
    "    \"ACG\": \"T\", \"AUU\": \"I\", \"AUC\": \"I\",\n",
    "    \"AUA\": \"I\", \"AUG\": \"M\", \"CGU\": \"R\",\n",
    "    \"CGC\": \"R\", \"CGA\": \"R\", \"CGG\": \"R\",\n",
    "    \"CCU\": \"P\", \"CCC\": \"P\", \"CCA\": \"P\",\n",
    "    \"CCG\": \"P\", \"CAU\": \"H\", \"CAC\": \"H\",\n",
    "    \"CAA\": \"Q\", \"CAG\": \"Q\", \"UUU\": \"F\",\n",
    "    \"UUC\": \"F\", \"UUA\": \"L\", \"UUG\": \"L\",\n",
    "    \"UCU\": \"S\", \"UCC\": \"S\", \"UCA\": \"S\",\n",
    "    \"UCG\": \"S\", \"UAU\": \"Y\", \"UAC\": \"Y\",\n",
    "    \"UAA\": \"STOP\", \"UAG\": \"STOP\", \"UGU\":\"C\",\n",
    "    \"UGC\": \"C\", \"UGA\": \"STOP\", \"UGG\": \"W\",\n",
    "    \"CUU\": \"L\", \"CUC\": \"L\", \"CUA\": \"L\",\n",
    "    \"CUG\": \"L\"}\n",
    "\n",
    "# Se imprime el diccionario previamente creado\n",
    "print(codigo_genetico)"
   ]
  },
  {
   "cell_type": "markdown",
   "metadata": {},
   "source": [
    "Python tiene su propia forma de definir diccionarios, a través de la palabra clave `dict`. Lo que nos daria una forma más elegante de creación:"
   ]
  },
  {
   "cell_type": "markdown",
   "metadata": {},
   "source": [
    "Por lo general podemos acceder a los valores del diccionario de la misma manera que lo hacemos con los arreglos y las listas."
   ]
  },
  {
   "cell_type": "code",
   "execution_count": 33,
   "metadata": {},
   "outputs": [
    {
     "name": "stdout",
     "output_type": "stream",
     "text": [
      "El aminoácido de GGG es: G\n",
      "----------------------\n"
     ]
    },
    {
     "ename": "KeyError",
     "evalue": "'YYY'",
     "output_type": "error",
     "traceback": [
      "\u001b[1;31m---------------------------------------------------------------------------\u001b[0m",
      "\u001b[1;31mKeyError\u001b[0m                                  Traceback (most recent call last)",
      "\u001b[1;32m<ipython-input-33-9024904f99b8>\u001b[0m in \u001b[0;36m<module>\u001b[1;34m\u001b[0m\n\u001b[0;32m      4\u001b[0m \u001b[1;33m\u001b[0m\u001b[0m\n\u001b[0;32m      5\u001b[0m \u001b[1;31m### Ejemplo 2: ¿Cuál es el valor del código genético de YYY?\u001b[0m\u001b[1;33m\u001b[0m\u001b[1;33m\u001b[0m\u001b[1;33m\u001b[0m\u001b[0m\n\u001b[1;32m----> 6\u001b[1;33m \u001b[0mcodigo_genetico\u001b[0m\u001b[1;33m[\u001b[0m\u001b[1;34m'YYY'\u001b[0m\u001b[1;33m]\u001b[0m\u001b[1;33m\u001b[0m\u001b[1;33m\u001b[0m\u001b[0m\n\u001b[0m\u001b[0;32m      7\u001b[0m \u001b[1;33m\u001b[0m\u001b[0m\n",
      "\u001b[1;31mKeyError\u001b[0m: 'YYY'"
     ]
    }
   ],
   "source": [
    "### Ejemplo 1: ¿Cuál es el valor del código genético de GGG?\n",
    "print(f'El aminoácido de GGG es: {codigo_genetico[\"GGG\"]}')\n",
    "print('----------------------')\n",
    "\n",
    "### Ejemplo 2: ¿Cuál es el valor del código genético de YYY?\n",
    "codigo_genetico['YYY']\n",
    "\n"
   ]
  },
  {
   "cell_type": "markdown",
   "metadata": {},
   "source": [
    "En ejemplo 2 de la celda anterior arrojó el error `KeyError` debido a que `YYY` no está definida en el diccionario. En `Python` se pueden usar excepciones para definir de que manera manejar los errores. Esto se hace con la secuencia de comandos `try/except`. Por lo general un bloque del tipo `try/except` tiene la siguiente estructura:"
   ]
  },
  {
   "cell_type": "markdown",
   "metadata": {},
   "source": [
    "```markdown\n",
    "try:\n",
    "    bloque código\n",
    "except <tipo>:\n",
    "    bloque código\n",
    "```"
   ]
  },
  {
   "cell_type": "markdown",
   "metadata": {},
   "source": [
    "Ahora, el ejemplo se puede escribir de la siguiente manera:"
   ]
  },
  {
   "cell_type": "code",
   "execution_count": 34,
   "metadata": {},
   "outputs": [
    {
     "name": "stdout",
     "output_type": "stream",
     "text": [
      "La propiedad YYY no existe en el diccionario, intenta con otra!\n"
     ]
    }
   ],
   "source": [
    "### Ejemplo 2: Uso de try/catch para cuando una clave no existe en el diccionario\n",
    "try:\n",
    "    codigo_genetico['YYY']\n",
    "except KeyError:\n",
    "    print(f'La propiedad YYY no existe en el diccionario, intenta con otra!')"
   ]
  },
  {
   "cell_type": "markdown",
   "metadata": {},
   "source": [
    "# Práctica 1: Expresión del material genético\n",
    "\n",
    "## Conceptos a trabajar\n",
    "\n",
    "Los **ácidos nucleicos** son la unidad básica que compone el material genético. Están presentes en las células procariotas, eucariotas y virus. Se componen de pentosas, un grupo fosfato y bases nitrogenadas. Estas últimas están divididas en dos grupos: las purinas que son adenina (A) y guanina (G), y las pirimidinas que son citosina (C), la timina (T) y el uracilo (U). La unión de los ácidos nucleicos forma las macromoléculas esenciales para vida:\n",
    "\n",
    "<img src=\"img/Figura1-es.png\" alt=\"estructura\" width=\"600\"/>\n",
    "\n",
    "*Figura 1*. Estructura del DNA y RNA evidenciando sus características y los ácidos nucleicos que la componen. Elaboración propia\n",
    "\n",
    "**DNA (ácido desoxirribonucleico)**: es una macromolécula encargada de almacenar y expresar la información genética esencial para las funciones de cualquier organismo, tiene una organización ordenada de cuatro bases nitrogenadas A, G, T y C, las cuales, forman una cadena de doble hélice antiparalela y complementaria, donde la A siempre se une a T, y G a C, si se modificara alguna base o su orden cambiaria la información, lo cual puede desencadenar mutaciones.\n",
    "\n",
    "**RNA (ácido ribonucleico)**: Es la macromolécula resultante de la transcripción del DNA, donde la T pasa a ser una U, es decir, es la copia determinada por la secuencia de una de las hebras de DNA.\n",
    "\n",
    "Una de las funciones de la doble cadena de DNA es la expresión del material genético, es el proceso encargado de la síntesis de las proteínas que necesita la célula (fig. 2). Consta de dos fases principales, **transcripción** y **traducción** donde una secuencia de DNA codifica para una proteína en particular implicada en diferentes procesos como metabólicos o de identidad celular.\n",
    "\n",
    "<img src=\"img/Figura2-es.jpg\" alt=\"Transcripción-traducción\" width=\"600\"/>\n",
    "\n",
    "*Figura 2. Dogma central de la biología molecular, donde se evidencia la expresión del material genético, la transcripción de DNA a RNAm, traducción a aminoácidos y a la formación de la proteína. Tomado de:\n",
    "[Dogma](https://www.brainvta.tech/plus/list.php?tid=110).*\n",
    "\n",
    "La **transcripción** es el primer paso para la generación de proteínas, en la que a partir de una cadena de DNA, denominada como DNA molde, se sintetiza una de RNA por medio de la enzima RNA polimerasa, donde se establece una copia casi idéntica de la secuencia de DNA, con la variación de sustituir en toda la secuencia la T por el U, sin embargo, al igual que la T, el U se empareja con la A (fig. 3). En las células eucariotas, este primer transcrito, sufre un segundo proceso llamado “splicing” en el cual se eliminan fracciones específicas de la secuencia que\n",
    "\n",
    "<img src=\"img/Figura3-es.png\" alt=\"Transcripción\" width=\"600\"/>\n",
    "\n",
    "*Figura 3. Sintesis de RNAm, evidenciando la transcripción de DNA a RNA con la construcción de la cadena de RNAm a partir de la cadena molde de DNA, en ausencia de las enzimas implicadas. Figura modificada de: [Molecular biology of the gene, (2008), 13, 429-464]( https://books.google.com.co/books?id=7tadzgEACAAJ&dq=Molecular+biology+of+the+gene&hl=es-419&sa=X&redir_esc=y)*"
   ]
  },
  {
   "cell_type": "markdown",
   "metadata": {},
   "source": [
    "## Planteamiento del problema\n",
    "Supongamos que queremos obtener información básica de la enzima del citocromo P450, la cual codifica una proteína involucrada en el metabolismo de fármacos y la síntesis lípidos como de colesterol y esteroides. Para analizar la secuencia podemos emplear herramientas bioinformáticas, comenzaremos con la manipulación de <code>strings</code> de la secuencia, transcribiendo la secuencia de DNA a RNAm.\n",
    "\n",
    "Primero, debemos descargar el documento con el que se va a trabajar. Podemos hacer una búsqueda del gen en la base de datos de Genbank: buscamos la secuencia de DNA del citocromo P450, específicamente la subfamilia C9 de homo sapiens, ID: [NM_000771.4](https://www.ncbi.nlm.nih.gov/nuccore/NM_000771.4?report=genbank).\n",
    "\n",
    "Para descargar la secuencia, se selecciona el apartado **\"Fasta\"**, luego, en la sección **\"Send to\"** y luego **\"Complete Record\"**, se elige el archivo **(File)** y el formato para obtener la secuencia **(Fasta)**, posteriormente, se da clic en **\"Create File\"** y se descargar el documento. Para reconocer el archivo cambia el nombre del documento, en este caso \"sec_CYP2C9.fasta\".\n",
    "- *El archivo `sec_CYP2C9.fasta` lo puede encontrar en la carpeta `/data/`*\n",
    "\n",
    "A continuación, se carga el archivo para poder realizar el proceso de transcripción, para esto, se emplea el comando `with`, donde, la variable `GEN` está guardando un objeto (en este caso, un archivo). A estos objetos se les pueden llamar diferentes maneras. La línea `sec_CYP2C9 = (GEN.read())` guarda en la variable `sec_CYP2C9` un string con el contenido de la variable GEN."
   ]
  },
  {
   "cell_type": "markdown",
   "metadata": {},
   "source": [
    "### Secuencia NM_000771"
   ]
  },
  {
   "cell_type": "code",
   "execution_count": 35,
   "metadata": {},
   "outputs": [
    {
     "name": "stdout",
     "output_type": "stream",
     "text": [
      "Tipo variable GEN: <class '_io.TextIOWrapper'>\n",
      "Tipo variable sec_CYP2C9: <class 'str'>\n"
     ]
    }
   ],
   "source": [
    "#Secuencia de nucleótidos del gen CYP2C9\n",
    "with open(\"data/sec_CYP2C9.fasta\", \"r\") as GEN:\n",
    "    sec_CYP2C9 = GEN.read()\n",
    "\n",
    "# la variable GEN es un objeto que Python puede manipular\n",
    "print(f'Tipo variable GEN: {type(GEN)}')\n",
    "\n",
    "# La varialble sec_CYP2C9 es un string que podemos manipular\n",
    "print(f'Tipo variable sec_CYP2C9: {type(sec_CYP2C9)}')"
   ]
  },
  {
   "cell_type": "code",
   "execution_count": 36,
   "metadata": {},
   "outputs": [
    {
     "name": "stdout",
     "output_type": "stream",
     "text": [
      "El archivo descargado del GenBank del gen citocromo P450 es:\n"
     ]
    },
    {
     "data": {
      "text/plain": [
       "'>NM_000771.4 Homo sapiens cytochrome P450 family 2 subfamily C member 9 (CYP2C9), mRNA\\nGTCTTAACAAGAAGAGAAGGCTTCAATGGATTCTCTTGTGGTCCTTGTGCTCTGTCTCTCATGTTTGCTT\\nCTCCTTTCACTCTGGAGACAGAGCTCTGGGAGAGGAAAACTCCCTCCTGGCCCCACTCCTCTCCCAGTGA\\nTTGGAAATATCCTACAGATAGGTATTAAGGACATCAGCAAATCCTTAACCAATCTCTCAAAGGTCTATGG\\nCCCTGTGTTCACTCTGTATTTTGGCCTGAAACCCATAGTGGTGCTGCATGGATATGAAGCAGTGAAGGAA\\nGCCCTGATTGATCTTGGAGAGGAGTTTTCTGGAAGAGGCATTTTCCCACTGGCTGAAAGAGCTAACAGAG\\nGATTTGGAATTGTTTTCAGCAATGGAAAGAAATGGAAGGAGATCCGGCGTTTCTCCCTCATGACGCTGCG\\nGAATTTTGGGATGGGGAAGAGGAGCATTGAGGACCGTGTTCAAGAGGAAGCCCGCTGCCTTGTGGAGGAG\\nTTGAGAAAAACCAAGGCCTCACCCTGTGATCCCACTTTCATCCTGGGCTGTGCTCCCTGCAATGTGATCT\\nGCTCCATTATTTTCCATAAACGTTTTGATTATAAAGATCAGCAATTTCTTAACTTAATGGAAAAGTTGAA\\nTGAAAACATCAAGATTTTGAGCAGCCCCTGGATCCAGATCTGCAATAATTTTTCTCCTATCATTGATTAC\\nTTCCCGGGAACTCACAACAAATTACTTAAAAACGTTGCTTTTATGAAAAGTTATATTTTGGAAAAAGTAA\\nAAGAACACCAAGAATCAATGGACATGAACAACCCTCAGGACTTTATTGATTGCTTCCTGATGAAAATGGA\\nGAAGGAAAAGCACAACCAACCATCTGAATTTACTATTGAAAGCTTGGAAAACACTGCAGTTGACTTGTTT\\nGGAGCTGGGACAGAGACGACAAGCACAACCCTGAGATATGCTCTCCTTCTCCTGCTGAAGCACCCAGAGG\\nTCACAGCTAAAGTCCAGGAAGAGATTGAACGTGTGATTGGCAGAAACCGGAGCCCCTGCATGCAAGACAG\\nGAGCCACATGCCCTACACAGATGCTGTGGTGCACGAGGTCCAGAGATACATTGACCTTCTCCCCACCAGC\\nCTGCCCCATGCAGTGACCTGTGACATTAAATTCAGAAACTATCTCATTCCCAAGGGCACAACCATATTAA\\nTTTCCCTGACTTCTGTGCTACATGACAACAAAGAATTTCCCAACCCAGAGATGTTTGACCCTCATCACTT\\nTCTGGATGAAGGTGGCAATTTTAAGAAAAGTAAATACTTCATGCCTTTCTCAGCAGGAAAACGGATTTGT\\nGTGGGAGAAGCCCTGGCCGGCATGGAGCTGTTTTTATTCCTGACCTCCATTTTACAGAACTTTAACCTGA\\nAATCTCTGGTTGACCCAAAGAACCTTGACACCACTCCAGTTGTCAATGGATTTGCCTCTGTGCCGCCCTT\\nCTACCAGCTGTGCTTCATTCCTGTCTGAAGAAGAGCAGATGGCCTGGCTGCTGCTGTGCAGTCCCTGCAG\\nCTCTCTTTCCTCTGGGGCATTATCCATCTTTCACTATCTGTAATGCCTTTTCTCACCTGTCATCTCACAT\\nTTTCCCTTCCCTGAAGATCTAGTGAACATTCGACCTCCATTACGGAGAGTTTCCTATGTTTCACTGTGCA\\nAATATATCTGCTATTCTCCATACTCTGTAACAGTTGCATTGACTGTCACATAATGCTCATACTTATCTAA\\nTGTTGAGTTATTAATATGTTATTATTAAATAGAGAAATATGATTTGTGTATTATAATTCAAAGGCATTTC\\nTTTTCTGCATGTTCTAAATAAAAAGCATTATTATTTGCTGAGTCAGTTTATTAGACCTTCCTTCTTTTAT\\nGCATAATGTAGGTCAGAAATTAAAGAAAATAGAGTTCCAGGAGGCCATGCTGGTTCTCAAAATGATAAGG\\nACAGAAAGGACAAAGAGGAAGAGGGTAGGGAAGCTATTTTGGGTGAGTGTTAGAGTTACTTGAGGATTGG\\nATTTGAAAGTGAGAAACTGTGTCCAGGGGCAGCTCTAACCTCTAGGGAAATATTCAGAGGATCAGTCAAA\\nGGGTGGAATGGACATTAAATGCTAGAATTCTTATATCCACATTGGTGTTCCTTTTTTTTTGAGACAAAGT\\nCTTGCTCTGTCACCCAGGCTGGAGTGCAGTGGTGTGATCTCAGCTCTCTATAACCTCCGCCTCCCAGGTT\\nCAAGTGATTCTCCTGCCTCAGCCTCCTGAGTAGCTGGGATTACAGGTGCATGCCACCACACCTGGCTAAT\\nTTTTTGTATTTTTAGTACAGACGGGTTTTCACCGTGTTAGCCAGGATGGTCTTAATCTCCTGACCTTGTG\\nATCTGCCTGCCTCAGCCTCCCAAAGTGCTGGGATTACAGGTGTGAGCCACTGCGCCTGGCCTGGTGTTAC\\nTTTGAAGTGTCATTACTTTATCTCTAAATAAAGAATCAGATTACTTTTATTACTTCATGTTTCCAACTTA\\nGAATGATGTAATGAAGTATAAATACATGCTTTCATATCGCT\\n\\n'"
      ]
     },
     "execution_count": 36,
     "metadata": {},
     "output_type": "execute_result"
    }
   ],
   "source": [
    "print('El archivo descargado del GenBank del gen citocromo P450 es:')\n",
    "sec_CYP2C9"
   ]
  },
  {
   "cell_type": "markdown",
   "metadata": {},
   "source": [
    "Vemos que la variable `sec_CYP2C9` guardó una línea de texto con el **caracter especial** `\\n`. Este caracter siginifica *salto de línea*. Si imprimimos la secuencia se ve mejor:"
   ]
  },
  {
   "cell_type": "code",
   "execution_count": 37,
   "metadata": {},
   "outputs": [
    {
     "name": "stdout",
     "output_type": "stream",
     "text": [
      ">NM_000771.4 Homo sapiens cytochrome P450 family 2 subfamily C member 9 (CYP2C9), mRNA\n",
      "GTCTTAACAAGAAGAGAAGGCTTCAATGGATTCTCTTGTGGTCCTTGTGCTCTGTCTCTCATGTTTGCTT\n",
      "CTCCTTTCACTCTGGAGACAGAGCTCTGGGAGAGGAAAACTCCCTCCTGGCCCCACTCCTCTCCCAGTGA\n",
      "TTGGAAATATCCTACAGATAGGTATTAAGGACATCAGCAAATCCTTAACCAATCTCTCAAAGGTCTATGG\n",
      "CCCTGTGTTCACTCTGTATTTTGGCCTGAAACCCATAGTGGTGCTGCATGGATATGAAGCAGTGAAGGAA\n",
      "GCCCTGATTGATCTTGGAGAGGAGTTTTCTGGAAGAGGCATTTTCCCACTGGCTGAAAGAGCTAACAGAG\n",
      "GATTTGGAATTGTTTTCAGCAATGGAAAGAAATGGAAGGAGATCCGGCGTTTCTCCCTCATGACGCTGCG\n",
      "GAATTTTGGGATGGGGAAGAGGAGCATTGAGGACCGTGTTCAAGAGGAAGCCCGCTGCCTTGTGGAGGAG\n",
      "TTGAGAAAAACCAAGGCCTCACCCTGTGATCCCACTTTCATCCTGGGCTGTGCTCCCTGCAATGTGATCT\n",
      "GCTCCATTATTTTCCATAAACGTTTTGATTATAAAGATCAGCAATTTCTTAACTTAATGGAAAAGTTGAA\n",
      "TGAAAACATCAAGATTTTGAGCAGCCCCTGGATCCAGATCTGCAATAATTTTTCTCCTATCATTGATTAC\n",
      "TTCCCGGGAACTCACAACAAATTACTTAAAAACGTTGCTTTTATGAAAAGTTATATTTTGGAAAAAGTAA\n",
      "AAGAACACCAAGAATCAATGGACATGAACAACCCTCAGGACTTTATTGATTGCTTCCTGATGAAAATGGA\n",
      "GAAGGAAAAGCACAACCAACCATCTGAATTTACTATTGAAAGCTTGGAAAACACTGCAGTTGACTTGTTT\n",
      "GGAGCTGGGACAGAGACGACAAGCACAACCCTGAGATATGCTCTCCTTCTCCTGCTGAAGCACCCAGAGG\n",
      "TCACAGCTAAAGTCCAGGAAGAGATTGAACGTGTGATTGGCAGAAACCGGAGCCCCTGCATGCAAGACAG\n",
      "GAGCCACATGCCCTACACAGATGCTGTGGTGCACGAGGTCCAGAGATACATTGACCTTCTCCCCACCAGC\n",
      "CTGCCCCATGCAGTGACCTGTGACATTAAATTCAGAAACTATCTCATTCCCAAGGGCACAACCATATTAA\n",
      "TTTCCCTGACTTCTGTGCTACATGACAACAAAGAATTTCCCAACCCAGAGATGTTTGACCCTCATCACTT\n",
      "TCTGGATGAAGGTGGCAATTTTAAGAAAAGTAAATACTTCATGCCTTTCTCAGCAGGAAAACGGATTTGT\n",
      "GTGGGAGAAGCCCTGGCCGGCATGGAGCTGTTTTTATTCCTGACCTCCATTTTACAGAACTTTAACCTGA\n",
      "AATCTCTGGTTGACCCAAAGAACCTTGACACCACTCCAGTTGTCAATGGATTTGCCTCTGTGCCGCCCTT\n",
      "CTACCAGCTGTGCTTCATTCCTGTCTGAAGAAGAGCAGATGGCCTGGCTGCTGCTGTGCAGTCCCTGCAG\n",
      "CTCTCTTTCCTCTGGGGCATTATCCATCTTTCACTATCTGTAATGCCTTTTCTCACCTGTCATCTCACAT\n",
      "TTTCCCTTCCCTGAAGATCTAGTGAACATTCGACCTCCATTACGGAGAGTTTCCTATGTTTCACTGTGCA\n",
      "AATATATCTGCTATTCTCCATACTCTGTAACAGTTGCATTGACTGTCACATAATGCTCATACTTATCTAA\n",
      "TGTTGAGTTATTAATATGTTATTATTAAATAGAGAAATATGATTTGTGTATTATAATTCAAAGGCATTTC\n",
      "TTTTCTGCATGTTCTAAATAAAAAGCATTATTATTTGCTGAGTCAGTTTATTAGACCTTCCTTCTTTTAT\n",
      "GCATAATGTAGGTCAGAAATTAAAGAAAATAGAGTTCCAGGAGGCCATGCTGGTTCTCAAAATGATAAGG\n",
      "ACAGAAAGGACAAAGAGGAAGAGGGTAGGGAAGCTATTTTGGGTGAGTGTTAGAGTTACTTGAGGATTGG\n",
      "ATTTGAAAGTGAGAAACTGTGTCCAGGGGCAGCTCTAACCTCTAGGGAAATATTCAGAGGATCAGTCAAA\n",
      "GGGTGGAATGGACATTAAATGCTAGAATTCTTATATCCACATTGGTGTTCCTTTTTTTTTGAGACAAAGT\n",
      "CTTGCTCTGTCACCCAGGCTGGAGTGCAGTGGTGTGATCTCAGCTCTCTATAACCTCCGCCTCCCAGGTT\n",
      "CAAGTGATTCTCCTGCCTCAGCCTCCTGAGTAGCTGGGATTACAGGTGCATGCCACCACACCTGGCTAAT\n",
      "TTTTTGTATTTTTAGTACAGACGGGTTTTCACCGTGTTAGCCAGGATGGTCTTAATCTCCTGACCTTGTG\n",
      "ATCTGCCTGCCTCAGCCTCCCAAAGTGCTGGGATTACAGGTGTGAGCCACTGCGCCTGGCCTGGTGTTAC\n",
      "TTTGAAGTGTCATTACTTTATCTCTAAATAAAGAATCAGATTACTTTTATTACTTCATGTTTCCAACTTA\n",
      "GAATGATGTAATGAAGTATAAATACATGCTTTCATATCGCT\n",
      "\n",
      "\n"
     ]
    }
   ],
   "source": [
    "print(sec_CYP2C9)"
   ]
  },
  {
   "cell_type": "markdown",
   "metadata": {},
   "source": [
    "## Manipulación de strings"
   ]
  },
  {
   "cell_type": "markdown",
   "metadata": {},
   "source": [
    "### Carga y manipulación de archivos de texto\n",
    "Al descargar una secuencia desde Genbak en formato fasta, la primera línea contiene las referencias de la secuencia y el texto está separado por `\\n`, con el siguiente procedimiento se puede limpiar el texto y dejar solamente la secuencia:\n",
    " - Emplear el método `.split()` que separa la cadena en una lista de elementos. A nosotros nos sirve separarla en los saltos de línea, que se representan con **'\\n'**.\n",
    " - Luego se debe eliminar el primer elemento (índice cero).\n",
    " - Finalmente volver a unir toda la cadena en un solo string, para esto, se emplea el método `.join()`"
   ]
  },
  {
   "cell_type": "code",
   "execution_count": 38,
   "metadata": {},
   "outputs": [
    {
     "name": "stdout",
     "output_type": "stream",
     "text": [
      "Lista separada:\n",
      " ['>NM_000771.4 Homo sapiens cytochrome P450 family 2 subfamily C member 9 (CYP2C9), mRNA', 'GTCTTAACAAGAAGAGAAGGCTTCAATGGATTCTCTTGTGGTCCTTGTGCTCTGTCTCTCATGTTTGCTT', 'CTCCTTTCACTCTGGAGACAGAGCTCTGGGAGAGGAAAACTCCCTCCTGGCCCCACTCCTCTCCCAGTGA', 'TTGGAAATATCCTACAGATAGGTATTAAGGACATCAGCAAATCCTTAACCAATCTCTCAAAGGTCTATGG', 'CCCTGTGTTCACTCTGTATTTTGGCCTGAAACCCATAGTGGTGCTGCATGGATATGAAGCAGTGAAGGAA', 'GCCCTGATTGATCTTGGAGAGGAGTTTTCTGGAAGAGGCATTTTCCCACTGGCTGAAAGAGCTAACAGAG', 'GATTTGGAATTGTTTTCAGCAATGGAAAGAAATGGAAGGAGATCCGGCGTTTCTCCCTCATGACGCTGCG', 'GAATTTTGGGATGGGGAAGAGGAGCATTGAGGACCGTGTTCAAGAGGAAGCCCGCTGCCTTGTGGAGGAG', 'TTGAGAAAAACCAAGGCCTCACCCTGTGATCCCACTTTCATCCTGGGCTGTGCTCCCTGCAATGTGATCT', 'GCTCCATTATTTTCCATAAACGTTTTGATTATAAAGATCAGCAATTTCTTAACTTAATGGAAAAGTTGAA', 'TGAAAACATCAAGATTTTGAGCAGCCCCTGGATCCAGATCTGCAATAATTTTTCTCCTATCATTGATTAC', 'TTCCCGGGAACTCACAACAAATTACTTAAAAACGTTGCTTTTATGAAAAGTTATATTTTGGAAAAAGTAA', 'AAGAACACCAAGAATCAATGGACATGAACAACCCTCAGGACTTTATTGATTGCTTCCTGATGAAAATGGA', 'GAAGGAAAAGCACAACCAACCATCTGAATTTACTATTGAAAGCTTGGAAAACACTGCAGTTGACTTGTTT', 'GGAGCTGGGACAGAGACGACAAGCACAACCCTGAGATATGCTCTCCTTCTCCTGCTGAAGCACCCAGAGG', 'TCACAGCTAAAGTCCAGGAAGAGATTGAACGTGTGATTGGCAGAAACCGGAGCCCCTGCATGCAAGACAG', 'GAGCCACATGCCCTACACAGATGCTGTGGTGCACGAGGTCCAGAGATACATTGACCTTCTCCCCACCAGC', 'CTGCCCCATGCAGTGACCTGTGACATTAAATTCAGAAACTATCTCATTCCCAAGGGCACAACCATATTAA', 'TTTCCCTGACTTCTGTGCTACATGACAACAAAGAATTTCCCAACCCAGAGATGTTTGACCCTCATCACTT', 'TCTGGATGAAGGTGGCAATTTTAAGAAAAGTAAATACTTCATGCCTTTCTCAGCAGGAAAACGGATTTGT', 'GTGGGAGAAGCCCTGGCCGGCATGGAGCTGTTTTTATTCCTGACCTCCATTTTACAGAACTTTAACCTGA', 'AATCTCTGGTTGACCCAAAGAACCTTGACACCACTCCAGTTGTCAATGGATTTGCCTCTGTGCCGCCCTT', 'CTACCAGCTGTGCTTCATTCCTGTCTGAAGAAGAGCAGATGGCCTGGCTGCTGCTGTGCAGTCCCTGCAG', 'CTCTCTTTCCTCTGGGGCATTATCCATCTTTCACTATCTGTAATGCCTTTTCTCACCTGTCATCTCACAT', 'TTTCCCTTCCCTGAAGATCTAGTGAACATTCGACCTCCATTACGGAGAGTTTCCTATGTTTCACTGTGCA', 'AATATATCTGCTATTCTCCATACTCTGTAACAGTTGCATTGACTGTCACATAATGCTCATACTTATCTAA', 'TGTTGAGTTATTAATATGTTATTATTAAATAGAGAAATATGATTTGTGTATTATAATTCAAAGGCATTTC', 'TTTTCTGCATGTTCTAAATAAAAAGCATTATTATTTGCTGAGTCAGTTTATTAGACCTTCCTTCTTTTAT', 'GCATAATGTAGGTCAGAAATTAAAGAAAATAGAGTTCCAGGAGGCCATGCTGGTTCTCAAAATGATAAGG', 'ACAGAAAGGACAAAGAGGAAGAGGGTAGGGAAGCTATTTTGGGTGAGTGTTAGAGTTACTTGAGGATTGG', 'ATTTGAAAGTGAGAAACTGTGTCCAGGGGCAGCTCTAACCTCTAGGGAAATATTCAGAGGATCAGTCAAA', 'GGGTGGAATGGACATTAAATGCTAGAATTCTTATATCCACATTGGTGTTCCTTTTTTTTTGAGACAAAGT', 'CTTGCTCTGTCACCCAGGCTGGAGTGCAGTGGTGTGATCTCAGCTCTCTATAACCTCCGCCTCCCAGGTT', 'CAAGTGATTCTCCTGCCTCAGCCTCCTGAGTAGCTGGGATTACAGGTGCATGCCACCACACCTGGCTAAT', 'TTTTTGTATTTTTAGTACAGACGGGTTTTCACCGTGTTAGCCAGGATGGTCTTAATCTCCTGACCTTGTG', 'ATCTGCCTGCCTCAGCCTCCCAAAGTGCTGGGATTACAGGTGTGAGCCACTGCGCCTGGCCTGGTGTTAC', 'TTTGAAGTGTCATTACTTTATCTCTAAATAAAGAATCAGATTACTTTTATTACTTCATGTTTCCAACTTA', 'GAATGATGTAATGAAGTATAAATACATGCTTTCATATCGCT', '', '']\n"
     ]
    }
   ],
   "source": [
    "# 1. Separar la cadena por renglones\n",
    "sec_separada = sec_CYP2C9.split('\\n')\n",
    "print (\"Lista separada:\\n\", str (sec_separada))"
   ]
  },
  {
   "cell_type": "code",
   "execution_count": 39,
   "metadata": {},
   "outputs": [
    {
     "name": "stdout",
     "output_type": "stream",
     "text": [
      "Lista separada, sin el primer renglón:\n",
      "['GTCTTAACAAGAAGAGAAGGCTTCAATGGATTCTCTTGTGGTCCTTGTGCTCTGTCTCTCATGTTTGCTT', 'CTCCTTTCACTCTGGAGACAGAGCTCTGGGAGAGGAAAACTCCCTCCTGGCCCCACTCCTCTCCCAGTGA', 'TTGGAAATATCCTACAGATAGGTATTAAGGACATCAGCAAATCCTTAACCAATCTCTCAAAGGTCTATGG', 'CCCTGTGTTCACTCTGTATTTTGGCCTGAAACCCATAGTGGTGCTGCATGGATATGAAGCAGTGAAGGAA', 'GCCCTGATTGATCTTGGAGAGGAGTTTTCTGGAAGAGGCATTTTCCCACTGGCTGAAAGAGCTAACAGAG', 'GATTTGGAATTGTTTTCAGCAATGGAAAGAAATGGAAGGAGATCCGGCGTTTCTCCCTCATGACGCTGCG', 'GAATTTTGGGATGGGGAAGAGGAGCATTGAGGACCGTGTTCAAGAGGAAGCCCGCTGCCTTGTGGAGGAG', 'TTGAGAAAAACCAAGGCCTCACCCTGTGATCCCACTTTCATCCTGGGCTGTGCTCCCTGCAATGTGATCT', 'GCTCCATTATTTTCCATAAACGTTTTGATTATAAAGATCAGCAATTTCTTAACTTAATGGAAAAGTTGAA', 'TGAAAACATCAAGATTTTGAGCAGCCCCTGGATCCAGATCTGCAATAATTTTTCTCCTATCATTGATTAC', 'TTCCCGGGAACTCACAACAAATTACTTAAAAACGTTGCTTTTATGAAAAGTTATATTTTGGAAAAAGTAA', 'AAGAACACCAAGAATCAATGGACATGAACAACCCTCAGGACTTTATTGATTGCTTCCTGATGAAAATGGA', 'GAAGGAAAAGCACAACCAACCATCTGAATTTACTATTGAAAGCTTGGAAAACACTGCAGTTGACTTGTTT', 'GGAGCTGGGACAGAGACGACAAGCACAACCCTGAGATATGCTCTCCTTCTCCTGCTGAAGCACCCAGAGG', 'TCACAGCTAAAGTCCAGGAAGAGATTGAACGTGTGATTGGCAGAAACCGGAGCCCCTGCATGCAAGACAG', 'GAGCCACATGCCCTACACAGATGCTGTGGTGCACGAGGTCCAGAGATACATTGACCTTCTCCCCACCAGC', 'CTGCCCCATGCAGTGACCTGTGACATTAAATTCAGAAACTATCTCATTCCCAAGGGCACAACCATATTAA', 'TTTCCCTGACTTCTGTGCTACATGACAACAAAGAATTTCCCAACCCAGAGATGTTTGACCCTCATCACTT', 'TCTGGATGAAGGTGGCAATTTTAAGAAAAGTAAATACTTCATGCCTTTCTCAGCAGGAAAACGGATTTGT', 'GTGGGAGAAGCCCTGGCCGGCATGGAGCTGTTTTTATTCCTGACCTCCATTTTACAGAACTTTAACCTGA', 'AATCTCTGGTTGACCCAAAGAACCTTGACACCACTCCAGTTGTCAATGGATTTGCCTCTGTGCCGCCCTT', 'CTACCAGCTGTGCTTCATTCCTGTCTGAAGAAGAGCAGATGGCCTGGCTGCTGCTGTGCAGTCCCTGCAG', 'CTCTCTTTCCTCTGGGGCATTATCCATCTTTCACTATCTGTAATGCCTTTTCTCACCTGTCATCTCACAT', 'TTTCCCTTCCCTGAAGATCTAGTGAACATTCGACCTCCATTACGGAGAGTTTCCTATGTTTCACTGTGCA', 'AATATATCTGCTATTCTCCATACTCTGTAACAGTTGCATTGACTGTCACATAATGCTCATACTTATCTAA', 'TGTTGAGTTATTAATATGTTATTATTAAATAGAGAAATATGATTTGTGTATTATAATTCAAAGGCATTTC', 'TTTTCTGCATGTTCTAAATAAAAAGCATTATTATTTGCTGAGTCAGTTTATTAGACCTTCCTTCTTTTAT', 'GCATAATGTAGGTCAGAAATTAAAGAAAATAGAGTTCCAGGAGGCCATGCTGGTTCTCAAAATGATAAGG', 'ACAGAAAGGACAAAGAGGAAGAGGGTAGGGAAGCTATTTTGGGTGAGTGTTAGAGTTACTTGAGGATTGG', 'ATTTGAAAGTGAGAAACTGTGTCCAGGGGCAGCTCTAACCTCTAGGGAAATATTCAGAGGATCAGTCAAA', 'GGGTGGAATGGACATTAAATGCTAGAATTCTTATATCCACATTGGTGTTCCTTTTTTTTTGAGACAAAGT', 'CTTGCTCTGTCACCCAGGCTGGAGTGCAGTGGTGTGATCTCAGCTCTCTATAACCTCCGCCTCCCAGGTT', 'CAAGTGATTCTCCTGCCTCAGCCTCCTGAGTAGCTGGGATTACAGGTGCATGCCACCACACCTGGCTAAT', 'TTTTTGTATTTTTAGTACAGACGGGTTTTCACCGTGTTAGCCAGGATGGTCTTAATCTCCTGACCTTGTG', 'ATCTGCCTGCCTCAGCCTCCCAAAGTGCTGGGATTACAGGTGTGAGCCACTGCGCCTGGCCTGGTGTTAC', 'TTTGAAGTGTCATTACTTTATCTCTAAATAAAGAATCAGATTACTTTTATTACTTCATGTTTCCAACTTA', 'GAATGATGTAATGAAGTATAAATACATGCTTTCATATCGCT', '', '']\n"
     ]
    }
   ],
   "source": [
    "# 2. Guardar la lista de elementos desde el segundo (índice 1) hasta el final, eliminando las referencias de la secuencia (índice 0).\n",
    "sec_separada = sec_separada[1:]\n",
    "# Ver la lista sin el primer elemento\n",
    "print(\"Lista separada, sin el primer renglón:\\n\" + str (sec_separada))"
   ]
  },
  {
   "cell_type": "code",
   "execution_count": 40,
   "metadata": {},
   "outputs": [
    {
     "name": "stdout",
     "output_type": "stream",
     "text": [
      "Secuencia final:\n"
     ]
    },
    {
     "data": {
      "text/plain": [
       "'GTCTTAACAAGAAGAGAAGGCTTCAATGGATTCTCTTGTGGTCCTTGTGCTCTGTCTCTCATGTTTGCTTCTCCTTTCACTCTGGAGACAGAGCTCTGGGAGAGGAAAACTCCCTCCTGGCCCCACTCCTCTCCCAGTGATTGGAAATATCCTACAGATAGGTATTAAGGACATCAGCAAATCCTTAACCAATCTCTCAAAGGTCTATGGCCCTGTGTTCACTCTGTATTTTGGCCTGAAACCCATAGTGGTGCTGCATGGATATGAAGCAGTGAAGGAAGCCCTGATTGATCTTGGAGAGGAGTTTTCTGGAAGAGGCATTTTCCCACTGGCTGAAAGAGCTAACAGAGGATTTGGAATTGTTTTCAGCAATGGAAAGAAATGGAAGGAGATCCGGCGTTTCTCCCTCATGACGCTGCGGAATTTTGGGATGGGGAAGAGGAGCATTGAGGACCGTGTTCAAGAGGAAGCCCGCTGCCTTGTGGAGGAGTTGAGAAAAACCAAGGCCTCACCCTGTGATCCCACTTTCATCCTGGGCTGTGCTCCCTGCAATGTGATCTGCTCCATTATTTTCCATAAACGTTTTGATTATAAAGATCAGCAATTTCTTAACTTAATGGAAAAGTTGAATGAAAACATCAAGATTTTGAGCAGCCCCTGGATCCAGATCTGCAATAATTTTTCTCCTATCATTGATTACTTCCCGGGAACTCACAACAAATTACTTAAAAACGTTGCTTTTATGAAAAGTTATATTTTGGAAAAAGTAAAAGAACACCAAGAATCAATGGACATGAACAACCCTCAGGACTTTATTGATTGCTTCCTGATGAAAATGGAGAAGGAAAAGCACAACCAACCATCTGAATTTACTATTGAAAGCTTGGAAAACACTGCAGTTGACTTGTTTGGAGCTGGGACAGAGACGACAAGCACAACCCTGAGATATGCTCTCCTTCTCCTGCTGAAGCACCCAGAGGTCACAGCTAAAGTCCAGGAAGAGATTGAACGTGTGATTGGCAGAAACCGGAGCCCCTGCATGCAAGACAGGAGCCACATGCCCTACACAGATGCTGTGGTGCACGAGGTCCAGAGATACATTGACCTTCTCCCCACCAGCCTGCCCCATGCAGTGACCTGTGACATTAAATTCAGAAACTATCTCATTCCCAAGGGCACAACCATATTAATTTCCCTGACTTCTGTGCTACATGACAACAAAGAATTTCCCAACCCAGAGATGTTTGACCCTCATCACTTTCTGGATGAAGGTGGCAATTTTAAGAAAAGTAAATACTTCATGCCTTTCTCAGCAGGAAAACGGATTTGTGTGGGAGAAGCCCTGGCCGGCATGGAGCTGTTTTTATTCCTGACCTCCATTTTACAGAACTTTAACCTGAAATCTCTGGTTGACCCAAAGAACCTTGACACCACTCCAGTTGTCAATGGATTTGCCTCTGTGCCGCCCTTCTACCAGCTGTGCTTCATTCCTGTCTGAAGAAGAGCAGATGGCCTGGCTGCTGCTGTGCAGTCCCTGCAGCTCTCTTTCCTCTGGGGCATTATCCATCTTTCACTATCTGTAATGCCTTTTCTCACCTGTCATCTCACATTTTCCCTTCCCTGAAGATCTAGTGAACATTCGACCTCCATTACGGAGAGTTTCCTATGTTTCACTGTGCAAATATATCTGCTATTCTCCATACTCTGTAACAGTTGCATTGACTGTCACATAATGCTCATACTTATCTAATGTTGAGTTATTAATATGTTATTATTAAATAGAGAAATATGATTTGTGTATTATAATTCAAAGGCATTTCTTTTCTGCATGTTCTAAATAAAAAGCATTATTATTTGCTGAGTCAGTTTATTAGACCTTCCTTCTTTTATGCATAATGTAGGTCAGAAATTAAAGAAAATAGAGTTCCAGGAGGCCATGCTGGTTCTCAAAATGATAAGGACAGAAAGGACAAAGAGGAAGAGGGTAGGGAAGCTATTTTGGGTGAGTGTTAGAGTTACTTGAGGATTGGATTTGAAAGTGAGAAACTGTGTCCAGGGGCAGCTCTAACCTCTAGGGAAATATTCAGAGGATCAGTCAAAGGGTGGAATGGACATTAAATGCTAGAATTCTTATATCCACATTGGTGTTCCTTTTTTTTTGAGACAAAGTCTTGCTCTGTCACCCAGGCTGGAGTGCAGTGGTGTGATCTCAGCTCTCTATAACCTCCGCCTCCCAGGTTCAAGTGATTCTCCTGCCTCAGCCTCCTGAGTAGCTGGGATTACAGGTGCATGCCACCACACCTGGCTAATTTTTTGTATTTTTAGTACAGACGGGTTTTCACCGTGTTAGCCAGGATGGTCTTAATCTCCTGACCTTGTGATCTGCCTGCCTCAGCCTCCCAAAGTGCTGGGATTACAGGTGTGAGCCACTGCGCCTGGCCTGGTGTTACTTTGAAGTGTCATTACTTTATCTCTAAATAAAGAATCAGATTACTTTTATTACTTCATGTTTCCAACTTAGAATGATGTAATGAAGTATAAATACATGCTTTCATATCGCT'"
      ]
     },
     "execution_count": 40,
     "metadata": {},
     "output_type": "execute_result"
    }
   ],
   "source": [
    "# Unir la cadena para recopilar la secuencuencia.\n",
    "DNA_CYP2C9 =(''.join(sec_separada))\n",
    "print('Secuencia final:')\n",
    "DNA_CYP2C9"
   ]
  },
  {
   "cell_type": "markdown",
   "metadata": {},
   "source": [
    "Todo el proceso, desde cargar el archivo, hasta limpiarlo y guardarlo en una variable se puede combinar en una sola celda:"
   ]
  },
  {
   "cell_type": "code",
   "execution_count": 41,
   "metadata": {},
   "outputs": [
    {
     "name": "stdout",
     "output_type": "stream",
     "text": [
      "Secuencia final:\n"
     ]
    },
    {
     "data": {
      "text/plain": [
       "'GTCTTAACAAGAAGAGAAGGCTTCAATGGATTCTCTTGTGGTCCTTGTGCTCTGTCTCTCATGTTTGCTTCTCCTTTCACTCTGGAGACAGAGCTCTGGGAGAGGAAAACTCCCTCCTGGCCCCACTCCTCTCCCAGTGATTGGAAATATCCTACAGATAGGTATTAAGGACATCAGCAAATCCTTAACCAATCTCTCAAAGGTCTATGGCCCTGTGTTCACTCTGTATTTTGGCCTGAAACCCATAGTGGTGCTGCATGGATATGAAGCAGTGAAGGAAGCCCTGATTGATCTTGGAGAGGAGTTTTCTGGAAGAGGCATTTTCCCACTGGCTGAAAGAGCTAACAGAGGATTTGGAATTGTTTTCAGCAATGGAAAGAAATGGAAGGAGATCCGGCGTTTCTCCCTCATGACGCTGCGGAATTTTGGGATGGGGAAGAGGAGCATTGAGGACCGTGTTCAAGAGGAAGCCCGCTGCCTTGTGGAGGAGTTGAGAAAAACCAAGGCCTCACCCTGTGATCCCACTTTCATCCTGGGCTGTGCTCCCTGCAATGTGATCTGCTCCATTATTTTCCATAAACGTTTTGATTATAAAGATCAGCAATTTCTTAACTTAATGGAAAAGTTGAATGAAAACATCAAGATTTTGAGCAGCCCCTGGATCCAGATCTGCAATAATTTTTCTCCTATCATTGATTACTTCCCGGGAACTCACAACAAATTACTTAAAAACGTTGCTTTTATGAAAAGTTATATTTTGGAAAAAGTAAAAGAACACCAAGAATCAATGGACATGAACAACCCTCAGGACTTTATTGATTGCTTCCTGATGAAAATGGAGAAGGAAAAGCACAACCAACCATCTGAATTTACTATTGAAAGCTTGGAAAACACTGCAGTTGACTTGTTTGGAGCTGGGACAGAGACGACAAGCACAACCCTGAGATATGCTCTCCTTCTCCTGCTGAAGCACCCAGAGGTCACAGCTAAAGTCCAGGAAGAGATTGAACGTGTGATTGGCAGAAACCGGAGCCCCTGCATGCAAGACAGGAGCCACATGCCCTACACAGATGCTGTGGTGCACGAGGTCCAGAGATACATTGACCTTCTCCCCACCAGCCTGCCCCATGCAGTGACCTGTGACATTAAATTCAGAAACTATCTCATTCCCAAGGGCACAACCATATTAATTTCCCTGACTTCTGTGCTACATGACAACAAAGAATTTCCCAACCCAGAGATGTTTGACCCTCATCACTTTCTGGATGAAGGTGGCAATTTTAAGAAAAGTAAATACTTCATGCCTTTCTCAGCAGGAAAACGGATTTGTGTGGGAGAAGCCCTGGCCGGCATGGAGCTGTTTTTATTCCTGACCTCCATTTTACAGAACTTTAACCTGAAATCTCTGGTTGACCCAAAGAACCTTGACACCACTCCAGTTGTCAATGGATTTGCCTCTGTGCCGCCCTTCTACCAGCTGTGCTTCATTCCTGTCTGAAGAAGAGCAGATGGCCTGGCTGCTGCTGTGCAGTCCCTGCAGCTCTCTTTCCTCTGGGGCATTATCCATCTTTCACTATCTGTAATGCCTTTTCTCACCTGTCATCTCACATTTTCCCTTCCCTGAAGATCTAGTGAACATTCGACCTCCATTACGGAGAGTTTCCTATGTTTCACTGTGCAAATATATCTGCTATTCTCCATACTCTGTAACAGTTGCATTGACTGTCACATAATGCTCATACTTATCTAATGTTGAGTTATTAATATGTTATTATTAAATAGAGAAATATGATTTGTGTATTATAATTCAAAGGCATTTCTTTTCTGCATGTTCTAAATAAAAAGCATTATTATTTGCTGAGTCAGTTTATTAGACCTTCCTTCTTTTATGCATAATGTAGGTCAGAAATTAAAGAAAATAGAGTTCCAGGAGGCCATGCTGGTTCTCAAAATGATAAGGACAGAAAGGACAAAGAGGAAGAGGGTAGGGAAGCTATTTTGGGTGAGTGTTAGAGTTACTTGAGGATTGGATTTGAAAGTGAGAAACTGTGTCCAGGGGCAGCTCTAACCTCTAGGGAAATATTCAGAGGATCAGTCAAAGGGTGGAATGGACATTAAATGCTAGAATTCTTATATCCACATTGGTGTTCCTTTTTTTTTGAGACAAAGTCTTGCTCTGTCACCCAGGCTGGAGTGCAGTGGTGTGATCTCAGCTCTCTATAACCTCCGCCTCCCAGGTTCAAGTGATTCTCCTGCCTCAGCCTCCTGAGTAGCTGGGATTACAGGTGCATGCCACCACACCTGGCTAATTTTTTGTATTTTTAGTACAGACGGGTTTTCACCGTGTTAGCCAGGATGGTCTTAATCTCCTGACCTTGTGATCTGCCTGCCTCAGCCTCCCAAAGTGCTGGGATTACAGGTGTGAGCCACTGCGCCTGGCCTGGTGTTACTTTGAAGTGTCATTACTTTATCTCTAAATAAAGAATCAGATTACTTTTATTACTTCATGTTTCCAACTTAGAATGATGTAATGAAGTATAAATACATGCTTTCATATCGCT'"
      ]
     },
     "execution_count": 41,
     "metadata": {},
     "output_type": "execute_result"
    }
   ],
   "source": [
    "#Secuencia de nucleótidos del gen CYP2C9\n",
    "with open(\"data/sec_CYP2C9.fasta\", \"r\") as GEN:\n",
    "    sec_CYP2C9 = GEN.read()\n",
    "DNA_CYP2C9 =(''.join(sec_CYP2C9.split('\\n')[1:]))\n",
    "print('Secuencia final:')\n",
    "DNA_CYP2C9"
   ]
  },
  {
   "cell_type": "markdown",
   "metadata": {},
   "source": [
    "### Indexación y secuencia de listas\n",
    "Para manejar datos de tipo `string` muy largos, se puede referenciar variables por la posición, desde diferentes secciones, empleando corchetes <code>\"[inicio:final]\"</code> para acceder a determinados elementos de una cadena.\n",
    "Veamos algunos ejemplos:"
   ]
  },
  {
   "cell_type": "markdown",
   "metadata": {},
   "source": [
    "#### Ejemplo 1\n",
    "Imprimir partes de la secuencia `DNA_CYP2C9`\n",
    "(_el conteo comienza desde cero_)\n",
    "*Observación*: En adelante trabajaremos con los `f-strings` que permiten hacer líneas cortas de texto con variables integradas. Más información en: [f-strings](https://platzi.com/blog/f-strings-en-python/?utm_source=google&utm_medium=cpc&utm_campaign=12915366154&utm_adgroup=&utm_content=&gclid=Cj0KCQjw3IqSBhCoARIsAMBkTb2p5ZOBtPtlGG2B7P0qrtnp8Wwvbgd2OY_F3_P-6OOU1YE_QHHCMaYaAnTaEALw_wcB&gclsrc=aw.ds), [f-strings](https://peps.python.org/pep-0498/)"
   ]
  },
  {
   "cell_type": "code",
   "execution_count": 42,
   "metadata": {},
   "outputs": [
    {
     "name": "stdout",
     "output_type": "stream",
     "text": [
      "El primer nucleótido de la secuencia es: G\n",
      "Los primeros diez nucleótidos de la secuencia son: GTCTTAACAA\n"
     ]
    }
   ],
   "source": [
    "print(f'El primer nucleótido de la secuencia es: {DNA_CYP2C9[0]}')\n",
    "\n",
    "print(f'Los primeros diez nucleótidos de la secuencia son: {DNA_CYP2C9[:10]}')"
   ]
  },
  {
   "cell_type": "code",
   "execution_count": 43,
   "metadata": {},
   "outputs": [
    {
     "name": "stdout",
     "output_type": "stream",
     "text": [
      "La secuencia que abarca 2 a 10 nucleótidos es: CTTAACAA\n"
     ]
    }
   ],
   "source": [
    "print(f'La secuencia que abarca 2 a 10 nucleótidos es: {DNA_CYP2C9[2:10]}')"
   ]
  },
  {
   "cell_type": "code",
   "execution_count": 44,
   "metadata": {},
   "outputs": [
    {
     "name": "stdout",
     "output_type": "stream",
     "text": [
      "La secuencia de nucleótidos desde la posición 1100 es: TTGACCTTCTCCCCACCAGCCTGCCCCATGCAGTGACCTGTGACATTAAATTCAGAAACTATCTCATTCCCAAGGGCACAACCATATTAATTTCCCTGACTTCTGTGCTACATGACAACAAAGAATTTCCCAACCCAGAGATGTTTGACCCTCATCACTTTCTGGATGAAGGTGGCAATTTTAAGAAAAGTAAATACTTCATGCCTTTCTCAGCAGGAAAACGGATTTGTGTGGGAGAAGCCCTGGCCGGCATGGAGCTGTTTTTATTCCTGACCTCCATTTTACAGAACTTTAACCTGAAATCTCTGGTTGACCCAAAGAACCTTGACACCACTCCAGTTGTCAATGGATTTGCCTCTGTGCCGCCCTTCTACCAGCTGTGCTTCATTCCTGTCTGAAGAAGAGCAGATGGCCTGGCTGCTGCTGTGCAGTCCCTGCAGCTCTCTTTCCTCTGGGGCATTATCCATCTTTCACTATCTGTAATGCCTTTTCTCACCTGTCATCTCACATTTTCCCTTCCCTGAAGATCTAGTGAACATTCGACCTCCATTACGGAGAGTTTCCTATGTTTCACTGTGCAAATATATCTGCTATTCTCCATACTCTGTAACAGTTGCATTGACTGTCACATAATGCTCATACTTATCTAATGTTGAGTTATTAATATGTTATTATTAAATAGAGAAATATGATTTGTGTATTATAATTCAAAGGCATTTCTTTTCTGCATGTTCTAAATAAAAAGCATTATTATTTGCTGAGTCAGTTTATTAGACCTTCCTTCTTTTATGCATAATGTAGGTCAGAAATTAAAGAAAATAGAGTTCCAGGAGGCCATGCTGGTTCTCAAAATGATAAGGACAGAAAGGACAAAGAGGAAGAGGGTAGGGAAGCTATTTTGGGTGAGTGTTAGAGTTACTTGAGGATTGGATTTGAAAGTGAGAAACTGTGTCCAGGGGCAGCTCTAACCTCTAGGGAAATATTCAGAGGATCAGTCAAAGGGTGGAATGGACATTAAATGCTAGAATTCTTATATCCACATTGGTGTTCCTTTTTTTTTGAGACAAAGTCTTGCTCTGTCACCCAGGCTGGAGTGCAGTGGTGTGATCTCAGCTCTCTATAACCTCCGCCTCCCAGGTTCAAGTGATTCTCCTGCCTCAGCCTCCTGAGTAGCTGGGATTACAGGTGCATGCCACCACACCTGGCTAATTTTTTGTATTTTTAGTACAGACGGGTTTTCACCGTGTTAGCCAGGATGGTCTTAATCTCCTGACCTTGTGATCTGCCTGCCTCAGCCTCCCAAAGTGCTGGGATTACAGGTGTGAGCCACTGCGCCTGGCCTGGTGTTACTTTGAAGTGTCATTACTTTATCTCTAAATAAAGAATCAGATTACTTTTATTACTTCATGTTTCCAACTTAGAATGATGTAATGAAGTATAAATACATGCTTTCATATCGCT\n"
     ]
    }
   ],
   "source": [
    "print(f'La secuencia de nucleótidos desde la posición 1100 es: {DNA_CYP2C9[1100:]}')"
   ]
  },
  {
   "cell_type": "code",
   "execution_count": 45,
   "metadata": {},
   "outputs": [
    {
     "name": "stdout",
     "output_type": "stream",
     "text": [
      "Los últimos 25 nucleótidos de la secuencia son: TATAAATACATGCTTTCATATCGCT\n"
     ]
    }
   ],
   "source": [
    "# Al emplear índices negativos se comienza a contar desde el final del String, útil en documentos extensos\n",
    "print(f'Los últimos 25 nucleótidos de la secuencia son: {DNA_CYP2C9[-25:]}')"
   ]
  },
  {
   "cell_type": "code",
   "execution_count": 46,
   "metadata": {},
   "outputs": [
    {
     "name": "stdout",
     "output_type": "stream",
     "text": [
      "total de nucleótidos: 2561\n"
     ]
    }
   ],
   "source": [
    "print(f'total de nucleótidos: {len(DNA_CYP2C9)}')"
   ]
  },
  {
   "cell_type": "markdown",
   "metadata": {},
   "source": [
    "### Transcripción DNA\n",
    "Lo segundo que vamos a realizar es el proceso de **transcripción**, siendo la primera fase de la expresión génica. Para ello, sustituiremos en toda la secuencia la timina (T) por el uracilo (U). Empleando el método de String <code>.replace()</code>, obteniendo la secuencia de RNAm, que será sintetizado en una proteína."
   ]
  },
  {
   "cell_type": "code",
   "execution_count": 47,
   "metadata": {},
   "outputs": [
    {
     "name": "stdout",
     "output_type": "stream",
     "text": [
      "Secuencia RNAm:\n",
      " GUCUUAACAAGAAGAGAAGGCUUCAAUGGAUUCUCUUGUGGUCCUUGUGCUCUGUCUCUCAUGUUUGCUUCUCCUUUCACUCUGGAGACAGAGCUCUGGGAGAGGAAAACUCCCUCCUGGCCCCACUCCUCUCCCAGUGAUUGGAAAUAUCCUACAGAUAGGUAUUAAGGACAUCAGCAAAUCCUUAACCAAUCUCUCAAAGGUCUAUGGCCCUGUGUUCACUCUGUAUUUUGGCCUGAAACCCAUAGUGGUGCUGCAUGGAUAUGAAGCAGUGAAGGAAGCCCUGAUUGAUCUUGGAGAGGAGUUUUCUGGAAGAGGCAUUUUCCCACUGGCUGAAAGAGCUAACAGAGGAUUUGGAAUUGUUUUCAGCAAUGGAAAGAAAUGGAAGGAGAUCCGGCGUUUCUCCCUCAUGACGCUGCGGAAUUUUGGGAUGGGGAAGAGGAGCAUUGAGGACCGUGUUCAAGAGGAAGCCCGCUGCCUUGUGGAGGAGUUGAGAAAAACCAAGGCCUCACCCUGUGAUCCCACUUUCAUCCUGGGCUGUGCUCCCUGCAAUGUGAUCUGCUCCAUUAUUUUCCAUAAACGUUUUGAUUAUAAAGAUCAGCAAUUUCUUAACUUAAUGGAAAAGUUGAAUGAAAACAUCAAGAUUUUGAGCAGCCCCUGGAUCCAGAUCUGCAAUAAUUUUUCUCCUAUCAUUGAUUACUUCCCGGGAACUCACAACAAAUUACUUAAAAACGUUGCUUUUAUGAAAAGUUAUAUUUUGGAAAAAGUAAAAGAACACCAAGAAUCAAUGGACAUGAACAACCCUCAGGACUUUAUUGAUUGCUUCCUGAUGAAAAUGGAGAAGGAAAAGCACAACCAACCAUCUGAAUUUACUAUUGAAAGCUUGGAAAACACUGCAGUUGACUUGUUUGGAGCUGGGACAGAGACGACAAGCACAACCCUGAGAUAUGCUCUCCUUCUCCUGCUGAAGCACCCAGAGGUCACAGCUAAAGUCCAGGAAGAGAUUGAACGUGUGAUUGGCAGAAACCGGAGCCCCUGCAUGCAAGACAGGAGCCACAUGCCCUACACAGAUGCUGUGGUGCACGAGGUCCAGAGAUACAUUGACCUUCUCCCCACCAGCCUGCCCCAUGCAGUGACCUGUGACAUUAAAUUCAGAAACUAUCUCAUUCCCAAGGGCACAACCAUAUUAAUUUCCCUGACUUCUGUGCUACAUGACAACAAAGAAUUUCCCAACCCAGAGAUGUUUGACCCUCAUCACUUUCUGGAUGAAGGUGGCAAUUUUAAGAAAAGUAAAUACUUCAUGCCUUUCUCAGCAGGAAAACGGAUUUGUGUGGGAGAAGCCCUGGCCGGCAUGGAGCUGUUUUUAUUCCUGACCUCCAUUUUACAGAACUUUAACCUGAAAUCUCUGGUUGACCCAAAGAACCUUGACACCACUCCAGUUGUCAAUGGAUUUGCCUCUGUGCCGCCCUUCUACCAGCUGUGCUUCAUUCCUGUCUGAAGAAGAGCAGAUGGCCUGGCUGCUGCUGUGCAGUCCCUGCAGCUCUCUUUCCUCUGGGGCAUUAUCCAUCUUUCACUAUCUGUAAUGCCUUUUCUCACCUGUCAUCUCACAUUUUCCCUUCCCUGAAGAUCUAGUGAACAUUCGACCUCCAUUACGGAGAGUUUCCUAUGUUUCACUGUGCAAAUAUAUCUGCUAUUCUCCAUACUCUGUAACAGUUGCAUUGACUGUCACAUAAUGCUCAUACUUAUCUAAUGUUGAGUUAUUAAUAUGUUAUUAUUAAAUAGAGAAAUAUGAUUUGUGUAUUAUAAUUCAAAGGCAUUUCUUUUCUGCAUGUUCUAAAUAAAAAGCAUUAUUAUUUGCUGAGUCAGUUUAUUAGACCUUCCUUCUUUUAUGCAUAAUGUAGGUCAGAAAUUAAAGAAAAUAGAGUUCCAGGAGGCCAUGCUGGUUCUCAAAAUGAUAAGGACAGAAAGGACAAAGAGGAAGAGGGUAGGGAAGCUAUUUUGGGUGAGUGUUAGAGUUACUUGAGGAUUGGAUUUGAAAGUGAGAAACUGUGUCCAGGGGCAGCUCUAACCUCUAGGGAAAUAUUCAGAGGAUCAGUCAAAGGGUGGAAUGGACAUUAAAUGCUAGAAUUCUUAUAUCCACAUUGGUGUUCCUUUUUUUUUGAGACAAAGUCUUGCUCUGUCACCCAGGCUGGAGUGCAGUGGUGUGAUCUCAGCUCUCUAUAACCUCCGCCUCCCAGGUUCAAGUGAUUCUCCUGCCUCAGCCUCCUGAGUAGCUGGGAUUACAGGUGCAUGCCACCACACCUGGCUAAUUUUUUGUAUUUUUAGUACAGACGGGUUUUCACCGUGUUAGCCAGGAUGGUCUUAAUCUCCUGACCUUGUGAUCUGCCUGCCUCAGCCUCCCAAAGUGCUGGGAUUACAGGUGUGAGCCACUGCGCCUGGCCUGGUGUUACUUUGAAGUGUCAUUACUUUAUCUCUAAAUAAAGAAUCAGAUUACUUUUAUUACUUCAUGUUUCCAACUUAGAAUGAUGUAAUGAAGUAUAAAUACAUGCUUUCAUAUCGCU\n"
     ]
    }
   ],
   "source": [
    "# Transcripción de la secuencia de marmota de DNA a RNA, empleando la función \".replace()\"\n",
    "RNA_CYP2C9 = DNA_CYP2C9.replace(\"T\",\"U\")\n",
    "print (\"Secuencia RNAm:\\n\", str(RNA_CYP2C9))"
   ]
  },
  {
   "cell_type": "markdown",
   "metadata": {},
   "source": [
    "Podemos contar cuántas veces se realizó el cambio"
   ]
  },
  {
   "cell_type": "code",
   "execution_count": 48,
   "metadata": {},
   "outputs": [
    {
     "data": {
      "text/plain": [
       "755"
      ]
     },
     "execution_count": 48,
     "metadata": {},
     "output_type": "execute_result"
    }
   ],
   "source": [
    "RNA_CYP2C9.count('U')"
   ]
  },
  {
   "cell_type": "markdown",
   "metadata": {},
   "source": [
    "## Manipulación de strings de gran tamaño\n",
    "\n",
    "Las herramientas que vimos anteriormente se pueden aplicar en archivos pesados y con secuencias largas, como es el caso del genoma completo de la Marmota monax, ID: [JAIQCD010000022.1](https://www.ncbi.nlm.nih.gov/nuccore/JAIQCD010000022.1?report=fasta), gen que se irá trabajando en lo que queda de este cuaderno.\n",
    "\n",
    "El archivo está en la ubicación `data/dna_marmota.fasta`, a continuación se muestra como se puede cargar y guardar en la variable `DNA_marmota`"
   ]
  },
  {
   "cell_type": "code",
   "execution_count": 49,
   "metadata": {},
   "outputs": [
    {
     "name": "stdout",
     "output_type": "stream",
     "text": [
      "La secuencia del genoma de marmota tiene 34815635 nucleótidos\n",
      "Los primeros 100 nucleótidos del genoma de marmota son: CCAATATTCTGTACAATTAATTAGTAGCAGGGCATGGGTTGCATGTCTGCCATGGCAGTGACTCCTGGAGCCTGAGATAGGAGGATCTCAAGTTTGAGGT\n"
     ]
    }
   ],
   "source": [
    "# En adelante se va a trabajar con el método\n",
    "with open(\"data/dna_marmota.fasta\", \"r\") as GEN:\n",
    "    DNA_marmota =  ''.join((GEN.read()).split('\\n')[1:])\n",
    "print(f'La secuencia del genoma de marmota tiene {len(DNA_marmota)} nucleótidos') # Con el comando len() se cuenta el número de caracteres que tiene un string\n",
    "print(f'Los primeros 100 nucleótidos del genoma de marmota son: {DNA_marmota[:100]}')"
   ]
  },
  {
   "cell_type": "code",
   "execution_count": 50,
   "metadata": {},
   "outputs": [
    {
     "name": "stdout",
     "output_type": "stream",
     "text": [
      "Los primeros nucleótidos de la secuencia de RNA son: CCAAUAUUCUGUACAAUUAAUUAGUAGCAGGGCAUGGGUUGCAUGUCUGCCAUGGCAGUGACUCCUGGAGCCUGAGAUAGGAGGAUCUCAAGUUUGAGGUCACUUUGUAGGACCUUGUCUCAAAAAAAAAAAAAAAAACCCGGCUGGAAUGAAGUACAACUAGUGUGACAGCAGGUGGGUUUAUCCCAUUCCCAUUUGAAAAAUAAUGGAAAAUCUAGCCACUGGAGGGAUUGAAGGCCCAAUGAGGAGGGAGUAGGGUUAAUACUGCCAUUUUUCUUCUUUGGUGUAUUUUACAAAAAUGUGUGUGUGUGUGUGUGUGUGUGUGUGUGUGUGUGUGUGUGUUUCUCCCACCUUUGUUCUAUUGCUUUGACGUGUUUUUUUUUUUUCUUUUAUUUUUGGUAUUGGCUUGUUUUCACUUUCUUGUCAAUUUCUUUUGUAUCAAUUCUGUAGCUCUUUUUUUUUUACAGAAAAGAAAAUUACAGUCAAAAUAUUUUAUUUUCCUCUUAAUACUAACUUAAUUUCAAUCUCAUAAAGAUACUGUACCUUUAGAAUUCUAUCUCCCACUGUAUGUACUCAUUUUUCUUCCUUUAUUUUGGUGUUGUGCUGGGAUAGAACUCAGGAUGCUGCAGCACUGAGCUACAUCUCUAGCUUUUCUUUCUAUUUUUGCUUUGAGUGUGACCCAGUGUAAAGUGUUAGCCUAGCAUGCCUGAGGCCUUGGCUUCAAUUCUAACUAUCAUGAAACAAAUAUACUCUGUGUACCUGAUCUGACACUACAUGCUGUGUCCAUUAUUUUAAGGCUGCUAUCCUAUUGAAGAAGGUUUCAGAAAGGAUCAUGUAAGUCAUGUAAACAUGCUCCCCAAACAUCAAGUAUCCUUUACUUAAUUGUUAUGUUGAAGGCUAAGCUUAUUUUGAAUGUCAUCAUAUGAGCAAAAAAUCAAAGUGGACAUUAUGAUAAAUACUUGUCCCAACCCAAUGCUUCCUUUCUAUUUUAUAUAAUCUU\n"
     ]
    }
   ],
   "source": [
    "# Transcripción de la secuencia de marmota de DNA a RNA, empleando la función \".replace()\"\n",
    "RNA_marmota = DNA_marmota.replace(\"T\",\"U\")\n",
    "print(\"Los primeros nucleótidos de la secuencia de RNA son: \"+ (RNA_marmota[:1000]))"
   ]
  },
  {
   "cell_type": "markdown",
   "metadata": {},
   "source": [
    "## Actividad practica 1\n",
    "Teniendo en cuenta lo aprendido anteriormente, analice la secuencia obtenida de la proteina citocromo P450 y responda:\n",
    "1.\t¿Cuántas veces se realizó la sustitución de una timina (t) por un uracilo (U)?\n",
    "2.\t¿Cuál es el tamaño de la secuencia?\n",
    "3.\t¿Cuántas purinas hay en la enzima?\n",
    "4.\t¿Cuál es la pareja de nucleótidos más repetidas en la proteína?"
   ]
  },
  {
   "cell_type": "markdown",
   "metadata": {},
   "source": [
    "## Conclusiones\n",
    "En esta primera práctica, se emplearon comandos y métodos relacionados con la manipulación de `strings` de archivos de diferentes tamaños. Se trabajó con dos cadenas de DNA diferentes, donde vimos las herramientas que se pueden implementar en las prácticas biológicas\n",
    "\n",
    "Al mismo tiempo, se obtuvo información básica del genoma completo del citocromo P450, partiendo de la cadena de DNA para obtener el RNAm de la secuencia, la cual, será traducida a aminoácidos (práctica 2)."
   ]
  },
  {
   "cell_type": "markdown",
   "metadata": {},
   "source": [
    "# Teoría: Estructuras de control de flujo\n",
    "Python tiene sentencias de control de flujo que permite agrupar comandos de manera controlada. Dos de las más empleadas son:\n",
    "1. Estructuras de control condicionales\n",
    "2. Estructuras de control iterativas"
   ]
  },
  {
   "cell_type": "markdown",
   "metadata": {},
   "source": [
    "### 1. Condicionales\n",
    "\n",
    "\n",
    "\n",
    "\n",
    "Los condicionales permiten ejecutar una instrucción o tomar una decisión si se cumple una determinada condición, dando como resultado un valor booleano de verdadero o falso. Las funciones más empleadas:\n",
    "* <code>if</code>: donde si se cumple la expresión se ejecuta el bloque de sentencias seguidas.\n",
    "* <code>elif</code>: donde si no se cumplen las condiciones anteriores, se intenta con otra sentencia.\n",
    "* <code>else</code>:  donde la expresión booleana es falsa o no se cumple una condición tomar esta otra opción."
   ]
  },
  {
   "cell_type": "markdown",
   "metadata": {},
   "source": [
    "```markdown\n",
    "if <condicion_1>:\n",
    "    bloque código\n",
    "elif <condicion_2>:\n",
    "    bloque código\n",
    " ...\n",
    "else:\n",
    "    bloque código\n",
    "```"
   ]
  },
  {
   "cell_type": "markdown",
   "metadata": {},
   "source": [
    "Evalúa la expresión lógica condicion_1 y ejecuta el primer bloque de código si es `True`; si no, evalúa las siguientes condiciones hasta llegar a la primera que es `True` y ejecuta el bloque de código asociado. Si ninguna condición es `True` ejecuta el bloque de código después de `else`.\n",
    "*Observaciones*\n",
    "- Un condicional `if` no necesariamente necesita `elif` o `else`\n",
    "- Solo puede aparecer un `else`, y debe ir al final\n",
    "- Los bloques de código deben estar indentados por 4 espacios\n",
    "- El final del bloque condicional es cuando la línea vuelve al nivel anterior"
   ]
  },
  {
   "cell_type": "markdown",
   "metadata": {},
   "source": [
    "En ciertos escenarios se pueden tomar decisiones, como puede ser aumentar el valor de x ó en su defecto disminuir su valor"
   ]
  },
  {
   "cell_type": "code",
   "execution_count": 51,
   "metadata": {},
   "outputs": [
    {
     "name": "stdout",
     "output_type": "stream",
     "text": [
      "2\n"
     ]
    }
   ],
   "source": [
    "\n",
    "x = 1  # valor inicial (pruebe cambiando este valor)\n",
    "\n",
    "# Condición\n",
    "if x == 1:\n",
    "    x = x + 1\n",
    "else:\n",
    "    x = x -1\n",
    "\n",
    "print(x) # valor final"
   ]
  },
  {
   "cell_type": "markdown",
   "metadata": {},
   "source": [
    "Más de una expresión de comprobación puede ser parte del bloque a través de `elif`, ejemplo:"
   ]
  },
  {
   "cell_type": "code",
   "execution_count": 52,
   "metadata": {},
   "outputs": [
    {
     "name": "stdout",
     "output_type": "stream",
     "text": [
      "0\n"
     ]
    }
   ],
   "source": [
    "x = 3  # valor inicial (pruebe cambiando este valor)\n",
    "\n",
    "if x == 1:\n",
    "    x = x + 1\n",
    "elif x == 2:\n",
    "    x = x - 1\n",
    "else:\n",
    "    x = 0\n",
    "\n",
    "print(x) # valor final"
   ]
  },
  {
   "cell_type": "markdown",
   "metadata": {},
   "source": [
    "En ocasiones se pueden incluir expresiones **if** anidadas tanto como sea necesario, no es recomendable como práctica de desarrollo de software, por ejemplo:"
   ]
  },
  {
   "cell_type": "code",
   "execution_count": 53,
   "metadata": {},
   "outputs": [
    {
     "name": "stdout",
     "output_type": "stream",
     "text": [
      "Se espera que x,y sean iguales a 1. x=1 y=1\n"
     ]
    }
   ],
   "source": [
    "x = 2\n",
    "y = 2\n",
    "if x == 1:\n",
    "    if y == 2:\n",
    "        x = x + 1\n",
    "        y = y + 1\n",
    "elif x == 2:\n",
    "    if y == 2:\n",
    "        x = x - 1\n",
    "        y = y - 1\n",
    "else:\n",
    "    x = 0\n",
    "    y = 0\n",
    "\n",
    "print(f'Se espera que x,y sean iguales a 1. x={x} y={y}')"
   ]
  },
  {
   "cell_type": "markdown",
   "metadata": {},
   "source": [
    "### 2. Iteraciones\n",
    "Las iteraciones o bucles permiten repetir una porción del código las veces que sea necesario, mientras la condición booleana sea verdadera o falsa, en python se incluyen únicamente dos funciones:\n",
    "* <code>while</code>: permite realizar múltiples iteraciones ejecutando un código mientras la condición sea verdadera.\n",
    "* <code>for</code>: permite iterar en orden sobre cada uno de los elementos de una secuencia, ya sea lista, tupla, diccionario, conjunto o cadena\n",
    "\n",
    "Para más información revise el siguiente [link]( https://entrenamiento-python-basico.readthedocs.io/es/latest/leccion4/bucle_while.html)"
   ]
  },
  {
   "cell_type": "markdown",
   "metadata": {},
   "source": [
    "#### Estructura de While:\n",
    "\n",
    "Por lo general un bloque de código While debe seguir la siguiente forma:\n",
    "\n",
    "```markdown\n",
    "while <condicion>:\n",
    "    bloque de código\n",
    "```\n",
    "\n",
    "*Recordemos que en Python no es necesario la palabra clave `return` al final de un bloqué de código ya que la convención es que siempre se retorna la última línea del código.*"
   ]
  },
  {
   "cell_type": "code",
   "execution_count": 54,
   "metadata": {},
   "outputs": [
    {
     "name": "stdout",
     "output_type": "stream",
     "text": [
      "El valor inicial de x es:\n",
      "1\n",
      "El nuevo valor de x es 1\n",
      "El nuevo valor de x es 2\n",
      "El nuevo valor de x es 3\n",
      "El nuevo valor de x es 4\n",
      "El nuevo valor de x es 5\n",
      "El nuevo valor de x es 6\n",
      "El nuevo valor de x es 7\n",
      "El nuevo valor de x es 8\n",
      "El nuevo valor de x es 9\n",
      "Al finalizar el bucle, el valor de x es:\n",
      "10\n"
     ]
    }
   ],
   "source": [
    "#### EJEMPLO 1\n",
    "# Aumentemos el valor de x hasta 10\n",
    "x = 1\n",
    "print('El valor inicial de x es:')\n",
    "print(x)\n",
    "\n",
    "while x < 10:\n",
    "    print(f'El nuevo valor de x es {x}')\n",
    "    x = x + 1\n",
    "\n",
    "print('Al finalizar el bucle, el valor de x es:')\n",
    "print(x)"
   ]
  },
  {
   "cell_type": "markdown",
   "metadata": {},
   "source": [
    "#### Estructura For\n",
    "\n",
    "De la misma forma el bloque `for` sigue una estructura estandar para su definición:\n",
    "\n",
    "```markdown\n",
    "for <var> in <secuencia>:\n",
    "    bloque de código\n",
    "```\n",
    "\n",
    "*Recordemos: no es necesario la palabra clave `return` como en otros lenguajes.*"
   ]
  },
  {
   "cell_type": "code",
   "execution_count": 55,
   "metadata": {},
   "outputs": [
    {
     "name": "stdout",
     "output_type": "stream",
     "text": [
      "El aminoácido de GUU es V\n",
      "El aminoácido de GUC es V\n",
      "El aminoácido de GUA es V\n",
      "El aminoácido de GUG es V\n",
      "El aminoácido de GCU es A\n",
      "El aminoácido de GCC es A\n",
      "El aminoácido de GCA es A\n",
      "El aminoácido de GCG es A\n",
      "El aminoácido de GAU es D\n",
      "El aminoácido de GAC es D\n",
      "El aminoácido de GAA es E\n",
      "El aminoácido de GAG es E\n",
      "El aminoácido de GGU es G\n",
      "El aminoácido de GGC es G\n",
      "El aminoácido de GGA es G\n",
      "El aminoácido de GGG es G\n",
      "El aminoácido de AGA es R\n",
      "El aminoácido de AGG es R\n",
      "El aminoácido de AGU es S\n",
      "El aminoácido de AGC es S\n",
      "El aminoácido de AAU es N\n",
      "El aminoácido de AAC es N\n",
      "El aminoácido de AAA es K\n",
      "El aminoácido de AAG es K\n",
      "El aminoácido de ACU es T\n",
      "El aminoácido de ACC es T\n",
      "El aminoácido de ACA es T\n",
      "El aminoácido de ACG es T\n",
      "El aminoácido de AUU es I\n",
      "El aminoácido de AUC es I\n",
      "El aminoácido de AUA es I\n",
      "El aminoácido de AUG es M\n",
      "El aminoácido de CGU es R\n",
      "El aminoácido de CGC es R\n",
      "El aminoácido de CGA es R\n",
      "El aminoácido de CGG es R\n",
      "El aminoácido de CCU es P\n",
      "El aminoácido de CCC es P\n",
      "El aminoácido de CCA es P\n",
      "El aminoácido de CCG es P\n",
      "El aminoácido de CAU es H\n",
      "El aminoácido de CAC es H\n"
     ]
    }
   ],
   "source": [
    "#### EJEMPLO 2\n",
    "# tomemos como ejemplo una lista de objetos, por ejemplo los tipos de codones y su código genético:\n",
    "codigo_genetico= [\n",
    "    [\"GUU\", \"V\"], [\"GUC\", \"V\"], [\"GUA\", \"V\"],\n",
    "    [\"GUG\", \"V\"], [\"GCU\", \"A\"], [\"GCC\", \"A\"],\n",
    "    [\"GCA\", \"A\"], [\"GCG\", \"A\"], [\"GAU\", \"D\"],\n",
    "    [\"GAC\", \"D\"], [\"GAA\", \"E\"], [\"GAG\", \"E\"],\n",
    "    [\"GGU\", \"G\"], [\"GGC\", \"G\"], [\"GGA\", \"G\"],\n",
    "    [\"GGG\", \"G\"], [\"AGA\", \"R\"], [\"AGG\", \"R\"],\n",
    "    [\"AGU\", \"S\"], [\"AGC\", \"S\"], [\"AAU\", \"N\"],\n",
    "    [\"AAC\", \"N\"], [\"AAA\", \"K\"], [\"AAG\", \"K\"],\n",
    "    [\"ACU\", \"T\"], [\"ACC\", \"T\"], [\"ACA\", \"T\"],\n",
    "    [\"ACG\", \"T\"], [\"AUU\", \"I\"], [\"AUC\", \"I\"],\n",
    "    [\"AUA\", \"I\"], [\"AUG\", \"M\"], [\"CGU\", \"R\"],\n",
    "    [\"CGC\", \"R\"], [\"CGA\", \"R\"], [\"CGG\", \"R\"],\n",
    "    [\"CCU\", \"P\"], [\"CCC\", \"P\"], [\"CCA\", \"P\"],\n",
    "    [\"CCG\", \"P\"], [\"CAU\", \"H\"], [\"CAC\", \"H\"]\n",
    "]\n",
    "\n",
    "# Se puede recorrer todos los elementos de la lista lista_prot e imprimir la proteína y su tipo:\n",
    "for codon in codigo_genetico:\n",
    "    print(f'El aminoácido de {codon[0]} es {codon[1]}')"
   ]
  },
  {
   "cell_type": "markdown",
   "metadata": {},
   "source": [
    "Podemos iterar los elementos de un diccionario a través de los pares `key-value` usando el método `.items()`."
   ]
  },
  {
   "cell_type": "code",
   "execution_count": 56,
   "metadata": {},
   "outputs": [
    {
     "name": "stdout",
     "output_type": "stream",
     "text": [
      "El aminoácido de GUU es V\n",
      "El aminoácido de GUC es V\n",
      "El aminoácido de GUA es V\n",
      "El aminoácido de GUG es V\n",
      "El aminoácido de GCU es A\n",
      "El aminoácido de GCC es A\n",
      "El aminoácido de GCA es A\n",
      "El aminoácido de GCG es A\n",
      "El aminoácido de GAU es D\n",
      "El aminoácido de GAC es D\n",
      "El aminoácido de GAA es E\n",
      "El aminoácido de GAG es E\n",
      "El aminoácido de GGU es G\n",
      "El aminoácido de GGC es G\n",
      "El aminoácido de GGA es G\n",
      "El aminoácido de GGG es G\n",
      "El aminoácido de AGA es R\n",
      "El aminoácido de AGG es R\n",
      "El aminoácido de AGU es S\n",
      "El aminoácido de AGC es S\n",
      "El aminoácido de AAU es N\n",
      "El aminoácido de AAC es N\n",
      "El aminoácido de AAA es K\n",
      "El aminoácido de AAG es K\n",
      "El aminoácido de ACU es T\n",
      "El aminoácido de ACC es T\n",
      "El aminoácido de ACA es T\n",
      "El aminoácido de ACG es T\n",
      "El aminoácido de AUU es I\n",
      "El aminoácido de AUC es I\n",
      "El aminoácido de AUA es I\n",
      "El aminoácido de AUG es M\n",
      "El aminoácido de CGU es R\n",
      "El aminoácido de CGC es R\n",
      "El aminoácido de CGA es R\n",
      "El aminoácido de CGG es R\n",
      "El aminoácido de CCU es P\n",
      "El aminoácido de CCC es P\n",
      "El aminoácido de CCA es P\n",
      "El aminoácido de CCG es P\n",
      "El aminoácido de CAU es H\n",
      "El aminoácido de CAC es H\n",
      "El aminoácido de CAA es Q\n",
      "El aminoácido de CAG es Q\n",
      "El aminoácido de UUU es F\n",
      "El aminoácido de UUC es F\n",
      "El aminoácido de UUA es L\n",
      "El aminoácido de UUG es L\n",
      "El aminoácido de UCU es S\n",
      "El aminoácido de UCC es S\n",
      "El aminoácido de UCA es S\n",
      "El aminoácido de UCG es S\n",
      "El aminoácido de UAU es Y\n",
      "El aminoácido de UAC es Y\n",
      "El aminoácido de UAA es STOP\n",
      "El aminoácido de UAG es STOP\n",
      "El aminoácido de UGU es C\n",
      "El aminoácido de UGC es C\n",
      "El aminoácido de UGA es STOP\n",
      "El aminoácido de UGG es W\n",
      "El aminoácido de CUU es L\n",
      "El aminoácido de CUC es L\n",
      "El aminoácido de CUA es L\n",
      "El aminoácido de CUG es L\n"
     ]
    }
   ],
   "source": [
    "#### EJEMPLO 3: Uso de for para recorrer los elementos de un diccionario\n",
    "codigo_genetico= {\n",
    "    \"GUU\": \"V\", \"GUC\": \"V\", \"GUA\": \"V\",\n",
    "    \"GUG\": \"V\", \"GCU\": \"A\", \"GCC\": \"A\",\n",
    "    \"GCA\": \"A\", \"GCG\": \"A\", \"GAU\": \"D\",\n",
    "    \"GAC\": \"D\", \"GAA\": \"E\", \"GAG\": \"E\",\n",
    "    \"GGU\": \"G\", \"GGC\": \"G\", \"GGA\": \"G\",\n",
    "    \"GGG\": \"G\", \"AGA\": \"R\", \"AGG\": \"R\",\n",
    "    \"AGU\": \"S\", \"AGC\": \"S\", \"AAU\": \"N\",\n",
    "    \"AAC\": \"N\", \"AAA\": \"K\", \"AAG\": \"K\",\n",
    "    \"ACU\": \"T\", \"ACC\": \"T\", \"ACA\": \"T\",\n",
    "    \"ACG\": \"T\", \"AUU\": \"I\", \"AUC\": \"I\",\n",
    "    \"AUA\": \"I\", \"AUG\": \"M\", \"CGU\": \"R\",\n",
    "    \"CGC\": \"R\", \"CGA\": \"R\", \"CGG\": \"R\",\n",
    "    \"CCU\": \"P\", \"CCC\": \"P\", \"CCA\": \"P\",\n",
    "    \"CCG\": \"P\", \"CAU\": \"H\", \"CAC\": \"H\",\n",
    "    \"CAA\": \"Q\", \"CAG\": \"Q\", \"UUU\": \"F\",\n",
    "    \"UUC\": \"F\", \"UUA\": \"L\", \"UUG\": \"L\",\n",
    "    \"UCU\": \"S\", \"UCC\": \"S\", \"UCA\": \"S\",\n",
    "    \"UCG\": \"S\", \"UAU\": \"Y\", \"UAC\": \"Y\",\n",
    "    \"UAA\": \"STOP\", \"UAG\": \"STOP\", \"UGU\":\"C\",\n",
    "    \"UGC\": \"C\", \"UGA\": \"STOP\", \"UGG\": \"W\",\n",
    "    \"CUU\": \"L\", \"CUC\": \"L\", \"CUA\": \"L\",\n",
    "    \"CUG\": \"L\"}\n",
    "\n",
    "for codon, gen in codigo_genetico.items():\n",
    "    print(f\"El aminoácido de {codon} es {gen}\")"
   ]
  },
  {
   "cell_type": "markdown",
   "metadata": {},
   "source": [
    "# Práctica 2: Expresión del material genético\n",
    "\n",
    "## Conceptos a trabajar\n",
    "\n",
    "La **traducción**, es la síntesis de una proteína a partir de la cadena de RNAm, esto ocurre dentro de unas proteínas llamadas ribosomas, durante este proceso, la secuencia de RNAm se lee en grupos de tres nucleótidos, llamados **codones**, los cuales, son interpretados por un **código genético** dando como resultado una codificación de aminoácido (fig. 4), los cuales se plegarán y formarán las proteínas (fig. 3).\n",
    "\n",
    "<img src=\"img/Figura4-en-es.png\" alt=\"code\" width=\"1000\"/>\n",
    "\n",
    "*Figura 4. Código genético esencial en la expresión de proteínas donde se evidencia la formación de un codón a partir de un nucleótido (uracilo, adenina, guanina, o citocina), desde la secuencia de inicio (verde) y las de parada (rojo). Figura tomada de: [Molecular biology of the gene, (2008), 15, 509-569]( https://books.google.com.co/books?id=7tadzgEACAAJ&dq=Molecular+biology+of+the+gene&hl=es-419&sa=X&redir_esc=y)*\n",
    "\n",
    "El ribosoma lee la secuencia en orden, buscando el codón de **inicio** AUG, el cual, a su vez codifica para el aminoácido de metionina y da comienzo a la traducción, al seguir avanzando construye la cadena de aminoácidos, es un proceso que repite muchas veces, en el que se leen las tripletas de nucleótidos y se adhiere el aminoácido correspondiente (fig. 3). La cadena resultante puede ser largas o cortas, se direccionan hasta encontrar uno de los tres codones que codifican para el **stop** (UAA, UGA o UAG) (fig. 4), al sintetizarlo, la cadena se libera del ribosoma y es modificada o combinada para formar una proteína funcional con una estructura especifica involucrada en algún proceso esencial para la célula u organismo."
   ]
  },
  {
   "cell_type": "markdown",
   "metadata": {},
   "source": [
    "## Planteamiento del problema\n",
    "Continuando con el objetivo general, de obtener información básica de la enzima del citocromo P450, proteina anteriormente trabajada. Para ello, vamos a realizar la segunda fase implicada en la expresión génica, con el fin obtener los aminoácidos que codifican para la proteína.\n",
    "\n",
    "Primero, debemos crear un diccionario en el que se encuentre el código genético, donde especifiquen los codones (tripletas de nucleótidos) que sintetiza su correspondiente aminoácido. Debemos tener en cuenta los pares `key-value`, donde las `key` serían los codones y los `value` los aminoácidos."
   ]
  },
  {
   "cell_type": "code",
   "execution_count": 57,
   "metadata": {},
   "outputs": [
    {
     "name": "stdout",
     "output_type": "stream",
     "text": [
      "Los codones son: \n",
      "['GUU', 'GUC', 'GUA', 'GUG', 'GCU', 'GCC', 'GCA', 'GCG', 'GAU', 'GAC', 'GAA', 'GAG', 'GGU', 'GGC', 'GGA', 'GGG', 'AGA', 'AGG', 'AGU', 'AGC', 'AAU', 'AAC', 'AAA', 'AAG', 'ACU', 'ACC', 'ACA', 'ACG', 'AUU', 'AUC', 'AUA', 'AUG', 'CGU', 'CGC', 'CGA', 'CGG', 'CCU', 'CCC', 'CCA', 'CCG', 'CAU', 'CAC', 'CAA', 'CAG', 'UUU', 'UUC', 'UUA', 'UUG', 'UCU', 'UCC', 'UCA', 'UCG', 'UAU', 'UAC', 'UAA', 'UAG', 'UGU', 'UGC', 'UGA', 'UGG', 'CUU', 'CUC', 'CUA', 'CUG']\n",
      "-----------------\n",
      "Los aminoácidos son: \n",
      "['V', 'V', 'V', 'V', 'A', 'A', 'A', 'A', 'D', 'D', 'E', 'E', 'G', 'G', 'G', 'G', 'R', 'R', 'S', 'S', 'N', 'N', 'K', 'K', 'T', 'T', 'T', 'T', 'I', 'I', 'I', 'M', 'R', 'R', 'R', 'R', 'P', 'P', 'P', 'P', 'H', 'H', 'Q', 'Q', 'F', 'F', 'L', 'L', 'S', 'S', 'S', 'S', 'Y', 'Y', 'STOP', 'STOP', 'C', 'C', 'STOP', 'W', 'L', 'L', 'L', 'L']\n"
     ]
    }
   ],
   "source": [
    "#Diccionario de codones para la traduccion\n",
    "codigo_genetico = {\"GUU\": \"V\", \"GUC\": \"V\", \"GUA\": \"V\", \"GUG\": \"V\", \"GCU\": \"A\", \"GCC\": \"A\", \"GCA\": \"A\", \"GCG\": \"A\",\n",
    "                \"GAU\": \"D\", \"GAC\": \"D\", \"GAA\": \"E\", \"GAG\": \"E\", \"GGU\": \"G\", \"GGC\": \"G\", \"GGA\": \"G\", \"GGG\": \"G\",\n",
    "                \"AGA\": \"R\", \"AGG\": \"R\", \"AGU\": \"S\", \"AGC\": \"S\", \"AAU\": \"N\", \"AAC\": \"N\", \"AAA\": \"K\", \"AAG\": \"K\",\n",
    "                \"ACU\": \"T\", \"ACC\": \"T\", \"ACA\": \"T\", \"ACG\": \"T\", \"AUU\": \"I\", \"AUC\": \"I\", \"AUA\": \"I\", \"AUG\": \"M\",\n",
    "                \"CGU\": \"R\", \"CGC\": \"R\", \"CGA\": \"R\", \"CGG\": \"R\", \"CCU\": \"P\", \"CCC\": \"P\", \"CCA\": \"P\", \"CCG\": \"P\",\n",
    "                \"CAU\": \"H\", \"CAC\": \"H\", \"CAA\": \"Q\", \"CAG\": \"Q\", \"UUU\": \"F\", \"UUC\": \"F\", \"UUA\": \"L\", \"UUG\": \"L\",\n",
    "                \"UCU\": \"S\", \"UCC\": \"S\", \"UCA\": \"S\", \"UCG\": \"S\", \"UAU\": \"Y\", \"UAC\": \"Y\", \"UAA\": \"STOP\", \"UAG\": \"STOP\",\n",
    "                \"UGU\": \"C\", \"UGC\": \"C\", \"UGA\": \"STOP\", \"UGG\": \"W\", \"CUU\": \"L\", \"CUC\": \"L\", \"CUA\": \"L\", \"CUG\": \"L\"}\n",
    "\n",
    "print(f'Los codones son: \\n{list(codigo_genetico.keys())}')\n",
    "print('-----------------')\n",
    "print(f'Los aminoácidos son: \\n{list(codigo_genetico.values())}')"
   ]
  },
  {
   "cell_type": "markdown",
   "metadata": {},
   "source": [
    "## Estructuras de control\n",
    "A continuación, emplearemos las **estructuras de control** para poder analizar la secuencia de RNA del citocromo `RNA_CYP2C9` para sintetizar la proteína, siguiendo estos pasos:\n",
    "1. Identificar el inicio de la proteína: AUG\n",
    "2. Dividir de tres en tres\n",
    "3. Encontrar el stop (pueden ser varios, mirar diccionario)\n",
    "4. Imprimir la proteína: AUG(codones - de tres en tres)STOP"
   ]
  },
  {
   "cell_type": "code",
   "execution_count": 58,
   "metadata": {},
   "outputs": [
    {
     "name": "stdout",
     "output_type": "stream",
     "text": [
      ">> Proteína encontrada\n",
      "Proteina: MDSLVVLVLCLSCLLLLSLWRQSSGRGKLPPGPTPLPVIGNILQIGIKDISKSLTNLSKVYGPVFTLYFGLKPIVVLHGYEAVKEALIDLGEEFSGRGIFPLAERANRGFGIVFSNGKKWKEIRRFSLMTLRNFGMGKRSIEDRVQEEARCLVEELRKTKASPCDPTFILGCAPCNVICSIIFHKRFDYKDQQFLNLMEKLNENIKILSSPWIQICNNFSPIIDYFPGTHNKLLKNVAFMKSYILEKVKEHQESMDMNNPQDFIDCFLMKMEKEKHNQPSEFTIESLENTAVDLFGAGTETTSTTLRYALLLLLKHPEVTAKVQEEIERVIGRNRSPCMQDRSHMPYTDAVVHEVQRYIDLLPTSLPHAVTCDIKFRNYLIPKGTTILISLTSVLHDNKEFPNPEMFDPHHFLDEGGNFKKSKYFMPFSAGKRICVGEALAGMELFLFLTSILQNFNLKSLVDPKNLDTTPVVNGFASVPPFYQLCFIPV\n"
     ]
    }
   ],
   "source": [
    "# Volver a cargar la secuencia\n",
    "with open(\"data/sec_CYP2C9.fasta\", \"r\") as GEN:\n",
    "    sec_CYP2C9 = GEN.read()\n",
    "DNA_CYP2C9 =(''.join(sec_CYP2C9.split('\\n')[1:]))\n",
    "RNA_CYP2C9 = DNA_CYP2C9.replace(\"T\",\"U\")\n",
    "\n",
    "run = True\n",
    "# busqueda codón inicio AUG\n",
    "i = 0\n",
    "for i in range(len(RNA_CYP2C9)):\n",
    "    if RNA_CYP2C9[i:i + 3] == 'AUG':  # Inicio de proteína encontrado\n",
    "        RNA_CYP2C9 = RNA_CYP2C9[i:]  # recorte de secuencia. Nuevo RNA\n",
    "        break  # terminar el ciclo for\n",
    "    if i >= (len(RNA_CYP2C9) - 3):  # Inicio de proteína NO encontrado\n",
    "        print('No se encontró el codón de inicio AUG')\n",
    "        RNA_CYP2C9 = RNA_CYP2C9[i:i + 3]\n",
    "        run = False  # terminar\n",
    "        break  # termianr el ciclo for\n",
    "\n",
    "# Este código solo se ejecuta si se encontró el inicio de la proteína\n",
    "# Se ejecuta con la secuencia recortada\n",
    "proteina = list()\n",
    "if run:\n",
    "    i = 0\n",
    "    # inicio traducción\n",
    "    while i <= len(RNA_CYP2C9) - 2:\n",
    "        codon = codigo_genetico[RNA_CYP2C9[i:i + 3]]\n",
    "        proteina.append(codon)\n",
    "        i += 3\n",
    "        if codon == 'STOP':\n",
    "            print(f'>> Proteína encontrada')\n",
    "            RNA_CYP2C9 = RNA_CYP2C9[i:]  # nuevo RNA (recortado)\n",
    "            proteina = proteina[:-1]\n",
    "            texto_proteina = ''.join(proteina)\n",
    "            print(f'Proteina: {texto_proteina}')\n",
    "            break\n",
    "        if i >= (len(RNA_CYP2C9) - 3):\n",
    "            print('No se encontró el codón STOP')\n",
    "            RNA_KR711927 = RNA_CYP2C9[i:i + 3]\n",
    "            break"
   ]
  },
  {
   "cell_type": "code",
   "execution_count": 59,
   "metadata": {},
   "outputs": [
    {
     "name": "stdout",
     "output_type": "stream",
     "text": [
      "['M', 'D', 'S', 'L', 'V', 'V', 'L', 'V', 'L', 'C', 'L', 'S', 'C', 'L', 'L', 'L', 'L', 'S', 'L', 'W', 'R', 'Q', 'S', 'S', 'G', 'R', 'G', 'K', 'L', 'P', 'P', 'G', 'P', 'T', 'P', 'L', 'P', 'V', 'I', 'G', 'N', 'I', 'L', 'Q', 'I', 'G', 'I', 'K', 'D', 'I', 'S', 'K', 'S', 'L', 'T', 'N', 'L', 'S', 'K', 'V', 'Y', 'G', 'P', 'V', 'F', 'T', 'L', 'Y', 'F', 'G', 'L', 'K', 'P', 'I', 'V', 'V', 'L', 'H', 'G', 'Y', 'E', 'A', 'V', 'K', 'E', 'A', 'L', 'I', 'D', 'L', 'G', 'E', 'E', 'F', 'S', 'G', 'R', 'G', 'I', 'F', 'P', 'L', 'A', 'E', 'R', 'A', 'N', 'R', 'G', 'F', 'G', 'I', 'V', 'F', 'S', 'N', 'G', 'K', 'K', 'W', 'K', 'E', 'I', 'R', 'R', 'F', 'S', 'L', 'M', 'T', 'L', 'R', 'N', 'F', 'G', 'M', 'G', 'K', 'R', 'S', 'I', 'E', 'D', 'R', 'V', 'Q', 'E', 'E', 'A', 'R', 'C', 'L', 'V', 'E', 'E', 'L', 'R', 'K', 'T', 'K', 'A', 'S', 'P', 'C', 'D', 'P', 'T', 'F', 'I', 'L', 'G', 'C', 'A', 'P', 'C', 'N', 'V', 'I', 'C', 'S', 'I', 'I', 'F', 'H', 'K', 'R', 'F', 'D', 'Y', 'K', 'D', 'Q', 'Q', 'F', 'L', 'N', 'L', 'M', 'E', 'K', 'L', 'N', 'E', 'N', 'I', 'K', 'I', 'L', 'S', 'S', 'P', 'W', 'I', 'Q', 'I', 'C', 'N', 'N', 'F', 'S', 'P', 'I', 'I', 'D', 'Y', 'F', 'P', 'G', 'T', 'H', 'N', 'K', 'L', 'L', 'K', 'N', 'V', 'A', 'F', 'M', 'K', 'S', 'Y', 'I', 'L', 'E', 'K', 'V', 'K', 'E', 'H', 'Q', 'E', 'S', 'M', 'D', 'M', 'N', 'N', 'P', 'Q', 'D', 'F', 'I', 'D', 'C', 'F', 'L', 'M', 'K', 'M', 'E', 'K', 'E', 'K', 'H', 'N', 'Q', 'P', 'S', 'E', 'F', 'T', 'I', 'E', 'S', 'L', 'E', 'N', 'T', 'A', 'V', 'D', 'L', 'F', 'G', 'A', 'G', 'T', 'E', 'T', 'T', 'S', 'T', 'T', 'L', 'R', 'Y', 'A', 'L', 'L', 'L', 'L', 'L', 'K', 'H', 'P', 'E', 'V', 'T', 'A', 'K', 'V', 'Q', 'E', 'E', 'I', 'E', 'R', 'V', 'I', 'G', 'R', 'N', 'R', 'S', 'P', 'C', 'M', 'Q', 'D', 'R', 'S', 'H', 'M', 'P', 'Y', 'T', 'D', 'A', 'V', 'V', 'H', 'E', 'V', 'Q', 'R', 'Y', 'I', 'D', 'L', 'L', 'P', 'T', 'S', 'L', 'P', 'H', 'A', 'V', 'T', 'C', 'D', 'I', 'K', 'F', 'R', 'N', 'Y', 'L', 'I', 'P', 'K', 'G', 'T', 'T', 'I', 'L', 'I', 'S', 'L', 'T', 'S', 'V', 'L', 'H', 'D', 'N', 'K', 'E', 'F', 'P', 'N', 'P', 'E', 'M', 'F', 'D', 'P', 'H', 'H', 'F', 'L', 'D', 'E', 'G', 'G', 'N', 'F', 'K', 'K', 'S', 'K', 'Y', 'F', 'M', 'P', 'F', 'S', 'A', 'G', 'K', 'R', 'I', 'C', 'V', 'G', 'E', 'A', 'L', 'A', 'G', 'M', 'E', 'L', 'F', 'L', 'F', 'L', 'T', 'S', 'I', 'L', 'Q', 'N', 'F', 'N', 'L', 'K', 'S', 'L', 'V', 'D', 'P', 'K', 'N', 'L', 'D', 'T', 'T', 'P', 'V', 'V', 'N', 'G', 'F', 'A', 'S', 'V', 'P', 'P', 'F', 'Y', 'Q', 'L', 'C', 'F', 'I', 'P', 'V']\n"
     ]
    }
   ],
   "source": [
    "# la variable proteina guarda una lista con cada aminoácido\n",
    "print(proteina)"
   ]
  },
  {
   "cell_type": "markdown",
   "metadata": {},
   "source": [
    "## Actividad practica 2\n",
    "Partiendo de lo aprendido, analice la secuencia de aminoácidos obtenidos de la proteina de RNA y responda:\n",
    "1.\t¿Cuántos aminoácidos tiene la proteína?\n",
    "2.\t¿Cuál es el aminoácido más repetido?\n",
    "3.\tIdentifique el nucleótido en el que comienza la síntesis de aminoácidos\n",
    "4.\tEn que nucleótido termina la síntesis de aminoácidos"
   ]
  },
  {
   "cell_type": "markdown",
   "metadata": {},
   "source": [
    "## Conclusiones\n",
    "\n",
    "En este punto de la práctica, utilizamos diversos comandos y métodos con el fin de obtener una secuencia de aminoácidos a partir de un `strigns` de ADN, siendo este un proceso que puede emplearse en secuencias de nucleótidos de diferentes tamaños y de diferentes organismos.\n",
    "\n",
    "Así pues, para obtener los aminoácidos que componen las proteínas empelamos **arreglos** y **estructuras de control**, donde se obtuvo información básica de los aminoácidos de la proteína citocromo P450, la cual, emplearemos para clasificarlos y obtener información general de la enzima desde sus subunidades (practica 3)."
   ]
  },
  {
   "cell_type": "markdown",
   "metadata": {},
   "source": [
    "# Teoría: Funciones\n",
    "\n",
    "A parte de las expresiones y funcionalidades nativas de Python conocidas hasta ahora a través del libro, existen otras que son muy relevantes y necesarias a la hora de escribir cualquier programa de computadora. Y hablamos de las **funciones**: Una función básicamente es un fragmento de código que se puede reutilizar, que tiene un nombre que la identifica, y recibe unos parámetros de entrada. Las funciones por lo general no siempre devuelven un mismo resultado, ellas tienen un comportamiento basado en los valores de sus argumentos.\n",
    "\n",
    "A la hora de definir una función, es importante tener en cuenta que:\n",
    "\n",
    "1.\tTener un nombre que explique a primera vista, el resultado y la operación que realiza.\n",
    "2.\tLa mayoría de las funciones reciben uno o varios parámetros necesarios para realizar la operación, aunque pueden no recibir ninguno.\n",
    "3.\tPor lo general devuelven un resultado, aunque no siempre sucede.\n"
   ]
  },
  {
   "cell_type": "markdown",
   "metadata": {},
   "source": [
    "```markdown\n",
    "def <nombre_funcion>(<parámetros>):\n",
    "    bloque código\n",
    "    bloque código\n",
    "    ...\n",
    "    retun <objeto>\n",
    "```"
   ]
  },
  {
   "cell_type": "markdown",
   "metadata": {},
   "source": [
    "Veamos un ejemplo:\n",
    "La siguiente función al ser ejecutada devuelve un dato del tipo `string` si la proteína se encuentra en el diccionario o en su defecto devuelve `None`."
   ]
  },
  {
   "cell_type": "code",
   "execution_count": 60,
   "metadata": {},
   "outputs": [
    {
     "name": "stdout",
     "output_type": "stream",
     "text": [
      "El aminiácido de GCG es: A\n"
     ]
    }
   ],
   "source": [
    "#### EJEMPLO 1: Verificación de existencia de codon de una lista de codones\n",
    "# Diccionario de proteínas y su tipo:\n",
    "codigo_genetico = {\"GUU\": \"V\", \"GUC\": \"V\", \"GUA\": \"V\", \"GUG\": \"V\", \"GCU\": \"A\", \"GCC\": \"A\", \"GCA\": \"A\", \"GCG\": \"A\",\n",
    "                \"GAU\": \"D\", \"GAC\": \"D\", \"GAA\": \"E\", \"GAG\": \"E\", \"GGU\": \"G\", \"GGC\": \"G\", \"GGA\": \"G\", \"GGG\": \"G\",\n",
    "                \"AGA\": \"R\", \"AGG\": \"R\", \"AGU\": \"S\", \"AGC\": \"S\", \"AAU\": \"N\", \"AAC\": \"N\", \"AAA\": \"K\", \"AAG\": \"K\",\n",
    "                \"ACU\": \"T\", \"ACC\": \"T\", \"ACA\": \"T\", \"ACG\": \"T\", \"AUU\": \"I\", \"AUC\": \"I\", \"AUA\": \"I\", \"AUG\": \"M\",\n",
    "                \"CGU\": \"R\", \"CGC\": \"R\", \"CGA\": \"R\", \"CGG\": \"R\", \"CCU\": \"P\", \"CCC\": \"P\", \"CCA\": \"P\", \"CCG\": \"P\",\n",
    "                \"CAU\": \"H\", \"CAC\": \"H\", \"CAA\": \"Q\", \"CAG\": \"Q\", \"UUU\": \"F\", \"UUC\": \"F\", \"UUA\": \"L\", \"UUG\": \"L\",\n",
    "                \"UCU\": \"S\", \"UCC\": \"S\", \"UCA\": \"S\", \"UCG\": \"S\", \"UAU\": \"Y\", \"UAC\": \"Y\", \"UAA\": \"STOP\", \"UAG\": \"STOP\",\n",
    "                \"UGU\": \"C\", \"UGC\": \"C\", \"UGA\": \"STOP\", \"UGG\": \"W\", \"CUU\": \"L\", \"CUC\": \"L\", \"CUA\": \"L\", \"CUG\": \"L\"}\n",
    "\n",
    "# función que verifica si existe un codon definido en el diccionario y devuelve su código genético o su defecto devuelve un valor None.\n",
    "def codigo_gen_de_codon(codon):\n",
    "    if codon in codigo_genetico:\n",
    "        return codigo_genetico[codon]\n",
    "\n",
    "# Ejecutar la función\n",
    "print(f'El aminiácido de GCG es: {codigo_gen_de_codon(\"GCG\")}')"
   ]
  },
  {
   "cell_type": "markdown",
   "metadata": {},
   "source": [
    "*Observaciones*:\n",
    "* Toda función debe iniciar con la palabra clave **def** seguido del nombre, seguido de los parámetros entre paréntesis y finalizar la línea con dos puntos\n",
    "    * El nombre de la función es: **tipo_de_proteina**\n",
    "    * El parámetro que recibe la función es: **nombre_proteina**\n",
    "* El cuerpo de la función esta indentado cuatro espacios\n",
    "* El final del bloque es cuando la línea vuelve al nivel anterior\n",
    "* Una vez creada la función se puede invocar con su nombre seguido de paréntesis y si es necesario enviar los parámetros por referencia.\n",
    "\n",
    "\n",
    "\n"
   ]
  },
  {
   "cell_type": "markdown",
   "metadata": {},
   "source": [
    "### Parámetros de una función\n",
    "\n",
    "Una función puede recibir más de un parámetro, en el ejemplo anterior la función solo recibía uno, pero podemos agregar más. Por ejemplo, modifiquemos la función para que reciba también la lista de `proteinas`:"
   ]
  },
  {
   "cell_type": "code",
   "execution_count": 61,
   "metadata": {},
   "outputs": [
    {
     "data": {
      "text/plain": [
       "'T'"
      ]
     },
     "execution_count": 61,
     "metadata": {},
     "output_type": "execute_result"
    }
   ],
   "source": [
    "#### EJEMPLO 2\n",
    "\n",
    "# función que verifica si existe un codon definido en el diccionario y devuelve su código genético o su defecto devuelve un valor None.\n",
    "# notar que esta función recibe dos paramétros\n",
    "def codigo_gen_de_codon(tipo_de_codones, nombre):\n",
    "    if nombre in tipo_de_codones:\n",
    "        return tipo_de_codones[nombre]\n",
    "\n",
    "# Forma de ejecutar la función previamente creada\n",
    "codigo_gen_de_codon(codigo_genetico, \"ACC\")"
   ]
  },
  {
   "cell_type": "markdown",
   "metadata": {},
   "source": [
    "Ahora que no es necesario definir la variable proteínas antes de la función, esto es porque las funciones poseen su propio contexto de ejecución, ahora el valor de la variable `proteínas` es referenciada al momento de ejecutar la función, como su primer parametro.\n",
    "\n",
    "Sobre los parametros es importante resaltar que:\n",
    "\n",
    "* Deben tener nombres claros y legibles que complementen lo que la función realiza\n",
    "* Pueden ser de cualquier tipo como es el caso del ejemplo anterior `proteinas` es un diccionario mientras que `nombre_proteina` es de tipo string\n",
    "* Pueden tener valores por defecto, veamos un ejemplo a continuación."
   ]
  },
  {
   "cell_type": "code",
   "execution_count": 62,
   "metadata": {},
   "outputs": [
    {
     "data": {
      "text/plain": [
       "'N'"
      ]
     },
     "execution_count": 62,
     "metadata": {},
     "output_type": "execute_result"
    }
   ],
   "source": [
    "#### EJEMPLO 3\n",
    "\n",
    "# Parámetro por defecto nombre_proteina='AAU'\n",
    "def codigo_gen_de_codon(tipo_de_codones, nombre='AAU'):\n",
    "    if nombre in tipo_de_codones:\n",
    "        return tipo_de_codones[nombre]\n",
    "\n",
    "# nombre_proteina no es necesario pasarlo como referencia ya que tiene un valor por defecto en la definición de la función.\n",
    "codigo_gen_de_codon(codigo_genetico)"
   ]
  },
  {
   "cell_type": "markdown",
   "metadata": {},
   "source": [
    "Ahora revisemos la implementación de la práctica #1 y realizemos una función que sea del tipo general y que nos sirva para encontrar cualquier proteína."
   ]
  },
  {
   "cell_type": "code",
   "execution_count": 63,
   "metadata": {},
   "outputs": [
    {
     "name": "stdout",
     "output_type": "stream",
     "text": [
      ">> Proteína encontrada\n",
      "Proteina: MDSLVVLVLCLSCLLLLSLWRQSSGRGKLPPGPTPLPVIGNILQIGIKDISKSLTNLSKVYGPVFTLYFGLKPIVVLHGYEAVKEALIDLGEEFSGRGIFPLAERANRGFGIVFSNGKKWKEIRRFSLMTLRNFGMGKRSIEDRVQEEARCLVEELRKTKASPCDPTFILGCAPCNVICSIIFHKRFDYKDQQFLNLMEKLNENIKILSSPWIQICNNFSPIIDYFPGTHNKLLKNVAFMKSYILEKVKEHQESMDMNNPQDFIDCFLMKMEKEKHNQPSEFTIESLENTAVDLFGAGTETTSTTLRYALLLLLKHPEVTAKVQEEIERVIGRNRSPCMQDRSHMPYTDAVVHEVQRYIDLLPTSLPHAVTCDIKFRNYLIPKGTTILISLTSVLHDNKEFPNPEMFDPHHFLDEGGNFKKSKYFMPFSAGKRICVGEALAGMELFLFLTSILQNFNLKSLVDPKNLDTTPVVNGFASVPPFYQLCFIPV\n"
     ]
    }
   ],
   "source": [
    "#### EJEMPLO 4: Función que se encarga de encontrar una proteína a partir de RNA y un codon inicial.\n",
    "\n",
    "# Volver a cargar la secuencia\n",
    "with open(\"data/sec_CYP2C9.fasta\", \"r\") as GEN:\n",
    "    sec_CYP2C9 = GEN.read()\n",
    "DNA_CYP2C9 =(''.join(sec_CYP2C9.split('\\n')[1:]))\n",
    "RNA_CYP2C9 = DNA_CYP2C9.replace(\"T\",\"U\")\n",
    "\n",
    "\n",
    "def rna_a_proteina(rna, codon_inicial='AUG'):\n",
    "    run = True\n",
    "    # busqueda codón inicio AUG\n",
    "    i = 0\n",
    "    for i in range(len(rna)):\n",
    "        if rna[i:i + 3] == codon_inicial:  # Inicio de proteína encontrado\n",
    "            rna = rna[i:]  # recorte de secuencia. Nuevo RNA\n",
    "            break  # terminar el ciclo for\n",
    "        if i >= (len(rna) - 3):  # Inicio de proteína NO encontrado\n",
    "            print('No se encontró el codon de inicio AUG')\n",
    "            rna = rna[i:i + 3]\n",
    "            run = False  # terminar\n",
    "            break  # terminar el ciclo for\n",
    "\n",
    "    # Este código solo se ejecuta si se encontró el inicio de la proteína\n",
    "    # Se ejecuta con la secuencia recortada\n",
    "    if run:\n",
    "        i = 0\n",
    "        proteina = list()\n",
    "        # inicio traducción\n",
    "        while i <= len(rna) - 2:\n",
    "            codon = codigo_genetico[rna[i:i + 3]]\n",
    "            proteina.append(codon)\n",
    "            i += 3\n",
    "            if codon == 'STOP':\n",
    "                print(f'>> Proteína encontrada')\n",
    "                rna = rna[i:]  # nuevo RNA (recortado)\n",
    "                proteina = proteina[:-1]\n",
    "                texto_proteina = ''.join(proteina)\n",
    "                print(f'Proteina: {texto_proteina}')\n",
    "                break\n",
    "            if i >= (len(rna) - 3):\n",
    "                print('No se encontró el codon STOP')\n",
    "                rna = rna[i:i + 3]\n",
    "                break\n",
    "\n",
    "#Invocamos la función con los argumentos necesarios\n",
    "rna_a_proteina(RNA_CYP2C9, \"AUG\")"
   ]
  },
  {
   "cell_type": "markdown",
   "metadata": {},
   "source": [
    "# Práctica 3: Proteínas y aminoácidos\n",
    "## Conceptos a trabajar\n",
    "La diversidad funcional expresada por las proteínas, parten de la variedad molecular y la secuencia especifica que las componen. Los aminoácidos son subunidades de bajo peso molecular, los cuales, cumplen una función específica en la estructura de la proteína, por sus propiedades fisicoquímicas, como, polaridad, acidez o basicidad, aromaticidad, tamaño, capacidad de formar enlaces o su reactividad química (Fig. 5). Por tal razón, pueden ser clasificados de diversas formas:\n",
    "\n",
    "<img src=\"img/Figura5-es.jpg\" alt=\"aminoácidos1\" width=\"600\"/>\n",
    "\n",
    "*Figura 5. : Diagrama de algunas propiedades físico-químicas de aminoácidos. Figura tomada de: [Asencio, T., Aguilar, J. (2010) Congreso Español Sobre Tecnologías y Lógica Fuzzy.(https://www.researchgate.net/publication/266892662_Importancia_de_las_Propiedades_Fisico-Quimicas_de_los_Aminoacidos_en_la_Prediccion_de_Estructuras_de_Proteinas_usando_Vecinos_mas_Cercanos)*\n",
    "\n",
    "1.\tPor la polaridad, la capacidad de interaccionar con moléculas de agua, dividiéndose en:\n",
    "\n",
    "   * Apolares: hidrofóbicos.\n",
    "   * Polares: hidrofílicos.\n",
    "   * Ácidos: carga negativa a pH.\n",
    "   * Básicos: carga positiva a pH fisiológico.\n",
    "\n",
    "<img src=\"img/Figura6-es.jpg\" alt=\"aminoácidos2\" width=\"900\"/>\n",
    "\n",
    "*Figura 6. Estructura y clasificación de los aminoácidos por su polaridad. Figura tomada de: [Trudy McKee, James R. McKee. (2014)]( https://accessmedicina.mhmedical.com/book.aspx?bookid=1960)*\n",
    "\n",
    "2. Por la conformación de su cadena latera, se pueden agrupar en:\n",
    "   * Alifáticos\n",
    "   * Aromáticos\n",
    "   * Hidroxiáminoacidos\n",
    "   * Tioaminoácidos\n",
    "   * Iminoácidos\n",
    "   * Dicarboxílicos\n",
    "   * Amidas\n",
    "   * Dibásicos\n",
    "\n",
    "Conocer las propiedades fisicoquímicas de las proteínas, han facilitado la predicción de sus estructuras secundarias, es decir, entender el plegamiento de las proteínas para la formación tridimensional a partir de la cadena de aminoácidos que la forman, esto mediante los posibles enlaces que establecen entre las subunidades y entre proteínas."
   ]
  },
  {
   "cell_type": "markdown",
   "metadata": {},
   "source": [
    "## Planteamiento del problema\n",
    "Para dar solución al objetivo general de la práctica, analizaremos 2 propiedades fisicoquímicas de la enzima del citocromo P450, empleando como guía la información de las figuras 6 y 7. De esta forma, obtendremos la información básica de la proteína, la cual, facilitaría una predicción de su plegamiento mediante el uso de las ciencias ómicas. Las propiedades que vamos a evaluar son:\n",
    "* Polaridad\n",
    "* Acidez o basicidad\n",
    "\n",
    "Antes de comenzar, debemos crear un diccionario de las propiedades fisicoquímicas que queremos evaluar, con la clasificación de cada aminoácido. Donde, las `key` serían los aminoácidos y los `value` las propiedades."
   ]
  },
  {
   "cell_type": "code",
   "execution_count": 64,
   "metadata": {},
   "outputs": [
    {
     "name": "stdout",
     "output_type": "stream",
     "text": [
      "Los aminoácidos son: \n",
      "['A', 'V', 'L', 'G', 'I', 'F', 'W', 'M', 'P', 'S', 'T', 'Y', 'N', 'Q', 'C', 'D', 'E', 'K', 'R', 'H']\n",
      "-----------------\n",
      "Las propiedades son: \n",
      "{'Ácidos', 'Básicos', 'Polar', 'Apolar'}\n"
     ]
    }
   ],
   "source": [
    "#Diccionario de aminoácidos para su clasificación\n",
    "propiedades= {\"A\": \"Apolar\", \"V\": \"Apolar\", \"L\": \"Apolar\", \"G\": \"Apolar\", \"I\": \"Apolar\", \"F\": \"Apolar\",\"W\": \"Apolar\", \"M\": \"Apolar\", \"P\": \"Apolar\", \"S\": \"Polar\", \"T\": \"Polar\", \"Y\": \"Polar\", \"N\": \"Polar\", \"Q\": \"Polar\", \"C\": \"Polar\", \"D\": \"Ácidos\", \"E\": \"Ácidos\", \"K\": \"Básicos\", \"R\": \"Básicos\",  \"H\": \"Básicos\"}\n",
    "\n",
    "print(f'Los aminoácidos son: \\n{list(propiedades.keys())}')\n",
    "print('-----------------')\n",
    "print(f'Las propiedades son: \\n{set(propiedades.values())}')\n",
    "# se utiliza un conjunto a partir de la lista para que las propiedades no se repitan"
   ]
  },
  {
   "cell_type": "markdown",
   "metadata": {},
   "source": [
    "A continuación, vamos a crear la función `total_elements` para obtener el número de nucleótidos polares, apolares, ácidos y básicos presentes en la proteína.\n",
    "Se utilizará el módulo `collections.Counter` el cual organiza los elementos de una lista en un `Counter` que dice cuantas veces se repite cada elemento.\n",
    "El objeto `Counter` se puede comvertir luego en un `diccionario` donde podemos ver la infromación.\n",
    "\n",
    "`Counter` también tiene métodos útilies, por ejemplo: `.most_common(n)`, el cual retorna el n-elemento más común del `Counter`.\n",
    "\n",
    "mayor información https://docs.python.org/3/library/collections.html"
   ]
  },
  {
   "cell_type": "code",
   "execution_count": 65,
   "metadata": {},
   "outputs": [],
   "source": [
    "def total_elements(lista_proteina):\n",
    "    # Se importa el módulo a utilziar\n",
    "    from collections import Counter\n",
    "    # Se crea una lista vaçia donde se va a guardar la propiedad de cada aminoácido\n",
    "    list_propiedades_proteina = list()\n",
    "    contador = list()\n",
    "\n",
    "    # Se va a iterar por cada aminoácido de la proteína\n",
    "    for element in lista_proteina:\n",
    "\n",
    "        # Se busca la propiedad del aminoácido y se guarda en la lista (.append())\n",
    "        list_propiedades_proteina.append(propiedades[element])\n",
    "        # Se llama al método Counter para organizar los datos\n",
    "        contador = Counter(list_propiedades_proteina)\n",
    "    print(f'Resumen de propiedades de la proteína:')\n",
    "    print(f'Total elementos: {len(lista_proteina)}')\n",
    "    print(f'Frecuenca de las propiedades: {dict(contador)}')\n",
    "    print(f'Propiedad más común: {contador.most_common(1)[0]}')\n",
    "\n",
    "    return None\n"
   ]
  },
  {
   "cell_type": "code",
   "execution_count": 66,
   "metadata": {},
   "outputs": [
    {
     "name": "stdout",
     "output_type": "stream",
     "text": [
      "['M', 'D', 'S', 'L', 'V', 'V', 'L', 'V', 'L', 'C', 'L', 'S', 'C', 'L', 'L', 'L', 'L', 'S', 'L', 'W', 'R', 'Q', 'S', 'S', 'G', 'R', 'G', 'K', 'L', 'P', 'P', 'G', 'P', 'T', 'P', 'L', 'P', 'V', 'I', 'G', 'N', 'I', 'L', 'Q', 'I', 'G', 'I', 'K', 'D', 'I', 'S', 'K', 'S', 'L', 'T', 'N', 'L', 'S', 'K', 'V', 'Y', 'G', 'P', 'V', 'F', 'T', 'L', 'Y', 'F', 'G', 'L', 'K', 'P', 'I', 'V', 'V', 'L', 'H', 'G', 'Y', 'E', 'A', 'V', 'K', 'E', 'A', 'L', 'I', 'D', 'L', 'G', 'E', 'E', 'F', 'S', 'G', 'R', 'G', 'I', 'F', 'P', 'L', 'A', 'E', 'R', 'A', 'N', 'R', 'G', 'F', 'G', 'I', 'V', 'F', 'S', 'N', 'G', 'K', 'K', 'W', 'K', 'E', 'I', 'R', 'R', 'F', 'S', 'L', 'M', 'T', 'L', 'R', 'N', 'F', 'G', 'M', 'G', 'K', 'R', 'S', 'I', 'E', 'D', 'R', 'V', 'Q', 'E', 'E', 'A', 'R', 'C', 'L', 'V', 'E', 'E', 'L', 'R', 'K', 'T', 'K', 'A', 'S', 'P', 'C', 'D', 'P', 'T', 'F', 'I', 'L', 'G', 'C', 'A', 'P', 'C', 'N', 'V', 'I', 'C', 'S', 'I', 'I', 'F', 'H', 'K', 'R', 'F', 'D', 'Y', 'K', 'D', 'Q', 'Q', 'F', 'L', 'N', 'L', 'M', 'E', 'K', 'L', 'N', 'E', 'N', 'I', 'K', 'I', 'L', 'S', 'S', 'P', 'W', 'I', 'Q', 'I', 'C', 'N', 'N', 'F', 'S', 'P', 'I', 'I', 'D', 'Y', 'F', 'P', 'G', 'T', 'H', 'N', 'K', 'L', 'L', 'K', 'N', 'V', 'A', 'F', 'M', 'K', 'S', 'Y', 'I', 'L', 'E', 'K', 'V', 'K', 'E', 'H', 'Q', 'E', 'S', 'M', 'D', 'M', 'N', 'N', 'P', 'Q', 'D', 'F', 'I', 'D', 'C', 'F', 'L', 'M', 'K', 'M', 'E', 'K', 'E', 'K', 'H', 'N', 'Q', 'P', 'S', 'E', 'F', 'T', 'I', 'E', 'S', 'L', 'E', 'N', 'T', 'A', 'V', 'D', 'L', 'F', 'G', 'A', 'G', 'T', 'E', 'T', 'T', 'S', 'T', 'T', 'L', 'R', 'Y', 'A', 'L', 'L', 'L', 'L', 'L', 'K', 'H', 'P', 'E', 'V', 'T', 'A', 'K', 'V', 'Q', 'E', 'E', 'I', 'E', 'R', 'V', 'I', 'G', 'R', 'N', 'R', 'S', 'P', 'C', 'M', 'Q', 'D', 'R', 'S', 'H', 'M', 'P', 'Y', 'T', 'D', 'A', 'V', 'V', 'H', 'E', 'V', 'Q', 'R', 'Y', 'I', 'D', 'L', 'L', 'P', 'T', 'S', 'L', 'P', 'H', 'A', 'V', 'T', 'C', 'D', 'I', 'K', 'F', 'R', 'N', 'Y', 'L', 'I', 'P', 'K', 'G', 'T', 'T', 'I', 'L', 'I', 'S', 'L', 'T', 'S', 'V', 'L', 'H', 'D', 'N', 'K', 'E', 'F', 'P', 'N', 'P', 'E', 'M', 'F', 'D', 'P', 'H', 'H', 'F', 'L', 'D', 'E', 'G', 'G', 'N', 'F', 'K', 'K', 'S', 'K', 'Y', 'F', 'M', 'P', 'F', 'S', 'A', 'G', 'K', 'R', 'I', 'C', 'V', 'G', 'E', 'A', 'L', 'A', 'G', 'M', 'E', 'L', 'F', 'L', 'F', 'L', 'T', 'S', 'I', 'L', 'Q', 'N', 'F', 'N', 'L', 'K', 'S', 'L', 'V', 'D', 'P', 'K', 'N', 'L', 'D', 'T', 'T', 'P', 'V', 'V', 'N', 'G', 'F', 'A', 'S', 'V', 'P', 'P', 'F', 'Y', 'Q', 'L', 'C', 'F', 'I', 'P', 'V']\n",
      "-----------\n",
      "Resumen de propiedades de la proteína:\n",
      "Total elementos: 490\n",
      "Frecuenca de las propiedades: {'Apolar': 248, 'Ácidos': 53, 'Polar': 121, 'Básicos': 68}\n",
      "Propiedad más común: ('Apolar', 248)\n"
     ]
    }
   ],
   "source": [
    "# Proteína encontrada en la actividad 2\n",
    "print(proteina)\n",
    "print('-----------')\n",
    "total_elements(proteina)"
   ]
  },
  {
   "cell_type": "markdown",
   "metadata": {},
   "source": [
    "Con esta información, ya conocemos la longitud de la secuencia de aminoácidos y las propiedades fisicoquímicas de su estructura, la cual cuenta con regiones tanto polares, como apolares, siendo esta última la más común, lo que nos permite tener una aproximación del carácter de los grupos funcionales con los que es tiende a hacer reacción."
   ]
  },
  {
   "cell_type": "markdown",
   "metadata": {},
   "source": [
    "## Actividad practica 3\n",
    "Teniendo en cuenta lo revisado en este Notebook introductorio y con ayuda de la bibliografía, conteste:\n",
    "1.\t¿Se podrían clasificar los aminoácidos de una forma diferente?\n",
    "2.\tRealice una nueva clasificación de la proteína basándose en la conformación de la cadena latera\n",
    "3.\tQue diferencia presenta la secuencia de aminoácidos final en comparación con la secuencia de CYP2C19 (NM_000769.4) una secuencia de la misma familia de proteínas del citocromo P450 que presenta un polimorfismo (mutación) en la secuencia de aminoácidos."
   ]
  },
  {
   "cell_type": "markdown",
   "metadata": {},
   "source": [
    "## Conclusiones\n",
    "En este tutorial, comprendido los usos de las herramientas básicas de Python empleadas en las practicas bioinformáticas, que van desde el manejo y recopilación de datos, hasta el uso de comandos y métodos para su manipulación y análisis. Esto se realizó mediante dos fases, una teórica y una práctica, donde realizamos la expresión del material genético de una proteína desde una secuencia de ADN, hasta obtener los correspondientes aminoácidos y sus propiedades.\n",
    "En los próximos tutoriales, explicaremos más herramientas de Python utilizadas en la recopilación y organización de datos obtenidos de recursos electrónicos, implementando diferentes librerías y su desarrollo.\n"
   ]
  },
  {
   "cell_type": "markdown",
   "metadata": {},
   "source": [
    "# Bibliografía\n",
    "1.\tCortés, G. & Aguilar-Ruiz, J. (2006). Importancia de las Propiedades Físico-Químicas de los Aminoácidos en la Predicción de Estructuras de Proteínas usando Vecinos más Cercanos.\n",
    "2.\tJiménez, F. &  Merchant, H. (2003). Biología celular y molecular. (1ra ed.). Pearson Educación de México, S.A. de C.V\n",
    "3.\tMcKee, J. R., & McKee, T. (2014). Bioquímica. Las bases moleculares de la vida. McGraw-Hill Education LLC.\n",
    "4.\tSalazar, A., Sandoval, A., & Armendáriz, J. (2016). Biología Molecular. Fundamentos y aplicaciones en las ciencias de la salud. (2da ed.). HILL/INTERAMERICANA EDITORES, S.A. DE C.V.\n",
    "5.\tWatson, J. D. (2008). Molecular biology of the gene (6th ed.). Pearson/Benjamin Cummings."
   ]
  }
 ],
 "metadata": {
  "kernelspec": {
   "display_name": "Python 3",
   "language": "python",
   "name": "python3"
  },
  "language_info": {
   "codemirror_mode": {
    "name": "ipython",
    "version": 3
   },
   "file_extension": ".py",
   "mimetype": "text/x-python",
   "name": "python",
   "nbconvert_exporter": "python",
   "pygments_lexer": "ipython3",
   "version": "3.6.13"
  }
 },
 "nbformat": 4,
 "nbformat_minor": 4
}
