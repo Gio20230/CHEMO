{
 "cells": [
  {
   "cell_type": "markdown",
   "id": "100e8825",
   "metadata": {},
   "source": [
    "# Introducción al lenguaje de programación Python\n",
    "El curso “Data Science for drug discovery” es una plataforma de aprendizaje autónomo dirigido a estudiantes e investigadores interesados en el desarrollo de herramientas biocomputaciones, desde Python, siendo este, el lenguaje de programación más empleado. Con el avance en las ciencias ómicas y las nuevas tecnologías se ha visto necesario adquirir habilidades informáticas aplicadas en las ciencias y el manejo de bases de datos biológicas.\n",
    "\n",
    "Bienvenido a la introducción del curso “Data Science for drug discovery”, en la primera parte encontrara los fundamentos para comprender el lenguaje de programación de Python, está enfocado en la manipulación, extracción y análisis de datos provenientes de bases de datos biológicos (ómicos), partiendo desde lo conceptos básicos de programación y sus aplicaciones, con ejemplos basados en manipulación de secuencias de DNA.\n",
    "## Contenidos\n",
    "En este primer Jupyter notebook de *Python_basic* aprenderá:\n",
    "1. Introducción a Python.\n",
    "2. Variables.\n",
    "3. Tipos de datos\n",
    "4. Tipos de arreglos\n",
    "5. Cargar archivos\n",
    "6. Manipulación de strings\n",
    "7. Estructuras de control de flujo\n",
    "8. Funciones"
   ]
  },
  {
   "cell_type": "markdown",
   "id": "26b8a9b4",
   "metadata": {},
   "source": [
    "# Resultados del aprendizaje\n",
    "Se espera que al finalizar este curso el estudiante pueda:\n",
    "1.\tEntender los conceptos básicos del lenguaje de programación de Python\n",
    "2.\tComprender los formatos de variables:\n",
    "    -\tQué son\n",
    "    -\tLas asignaciones\n",
    "    -\tLas operaciones básicas.\n",
    "3.\tComprender los usos y los tipos de datos:\n",
    "    -\tNuméricos\n",
    "    -\tBooleano\n",
    "    -\tTexto\n",
    "    -\tArreglos\n",
    "4.\tIdentificar los tipos de arreglos y su uso:\n",
    "    -\tListas\n",
    "    -\tTuplas\n",
    "    -\tConjuntos\n",
    "    -\tDiccionarios\n",
    "5.\tCargar y modificar archivos en diferentes formatos y tamaños, visualizarlos, analizarlos, leerlos y escribir sobre ellos.\n",
    "6.\tManejar las estructuras de control de flujo básicas:\n",
    "    -\tCondicionales\n",
    "    -\tIteraciones.\n",
    "7.\tComprender las herramientas de Python que se pueden emplear en la biología."
   ]
  },
  {
   "cell_type": "markdown",
   "id": "cd0531f8",
   "metadata": {},
   "source": [
    "# Teoría: conceptos básicos\n",
    "## Variables\n",
    "\n",
    "Una variable es un espacio en la memoria del computador en donde se puede almacenar diferentes **tipos de datos**. Python no tiene un comando para declarar una variable, estas son definidas por el programador quien le asigna un nombre o identificador que sea fácil de recordar y utilizar en el programa. Es importante saber que el nombre de las variables no puede comenzar por un número y distinguen entre mayusculas y minúsculas, además no se puede incluir espacios.\n",
    "\n",
    "La siguiente tabla muestra algunos de los datos que se pueden trabajar en Python:\n",
    "\n",
    "[caramirez] traducir\n",
    "### Common built-in Python data types\n",
    "\n",
    "| English name          | Type name  | Type Category  | Description                                   | Example                                   |\n",
    "| :-------------------- | :--------- | :------------- | :-------------------------------------------- |:------------------------------------------|\n",
    "| integer               | `int`      | Numeric Type   | positive/negative whole numbers               |                                           |\n",
    "| floating point number | `float`    | Numeric Type   | real number in decimal form                   |                                           |\n",
    "| boolean               | `bool`     | Boolean Values | true or false                                 |                                           |\n",
    "| string                | `str`      | Sequence Type  | text                                          |                                           |\n",
    "| list                  | `list`     | Sequence Type  | a collection of objects - mutable & ordered   |                                           |\n",
    "| tuple                 | `tuple`    | Sequence Type  | a collection of objects - immutable & ordered |                                           |\n",
    "| dictionary            | `dict`     | Mapping Type   | mapping of key-value pairs                    |                                           |\n",
    "| none                  | `NoneType` | Null Object    | represents no value                           | `None`     "
   ]
  },
  {
   "cell_type": "markdown",
   "id": "c1a717f2",
   "metadata": {},
   "source": [
    "## Tipos de datos\n",
    "### Datos tipo: numéricos\n",
    "\n",
    "Hay tres tipos de datos numéricos, aquí trabajaremos generalmente con dos de ellos: `enteros` y `punto flotante` (`float`). La función `type()` nos ayuda a determinar el tipo de un objeto en Python\n",
    "\n",
    "* **Enteros (int)**: son números enteros positivos o negativos\n",
    "* **Punto flotante (float)**: son números con punto decimal\n",
    "si un número entero se define con punto decimal, por ejemplo: 1.0, este será alamacenado tipo flotante"
   ]
  },
  {
   "cell_type": "code",
   "execution_count": 1,
   "id": "18ac825e",
   "metadata": {},
   "outputs": [
    {
     "name": "stdout",
     "output_type": "stream",
     "text": [
      "1236 <class 'int'>\n",
      "123.215 <class 'float'>\n",
      "1236.0 <class 'float'>\n"
     ]
    }
   ],
   "source": [
    "# Ejemplo Entero\n",
    "entero = 1236\n",
    "flotante_1 = 123.215\n",
    "flotante_2 = 1236.0\n",
    "\n",
    "print(entero, type(entero))\n",
    "print(flotante_1, type(flotante_1))\n",
    "print(flotante_2, type(flotante_2))"
   ]
  },
  {
   "cell_type": "markdown",
   "id": "59515ca2",
   "metadata": {},
   "source": [
    "#### Operaciones aritmeticas\n",
    "| Símbolo |   Descripción   |\n",
    "|:-------:|:---------------:|\n",
    "|   `+`   |     adición     |\n",
    "|   `-`   |  substracción   |\n",
    "|   `*`   | multiplicación  |\n",
    "|   `/`   |    división     |\n",
    "|  `**`   |    potencia     |\n",
    "|  `//`   | división entera |\n",
    "|   `%`   |     módulo      |"
   ]
  },
  {
   "cell_type": "code",
   "execution_count": 2,
   "id": "e91f3a9e",
   "metadata": {},
   "outputs": [
    {
     "name": "stdout",
     "output_type": "stream",
     "text": [
      "La suma de 'x+y' es 27\n",
      "La resta de 'x-y' es 9\n",
      "La multiplicación de 'x*y' es 162\n",
      "La división de 'x/y' es 2.0\n",
      "La módulo de 'x%y' es 0\n"
     ]
    }
   ],
   "source": [
    "# Ejemplo operaciones\n",
    "x = 18\n",
    "y = 9\n",
    "#Suman de números enteros\n",
    "print(\"La suma de los números enteros 'x+y' es\", x+y)\n",
    "\n",
    "#Resta de números enteros\n",
    "print(\"La resta de los números enteros 'x-y' es\", x-y)\n",
    "\n",
    "# Multiplicación de números enteros\n",
    "print(\"La multiplicación de los números enteros 'x*y' es\", x*y)\n",
    "\n",
    "# División de números enteros\n",
    "print(\"La división de los números enteros 'x/y' es\", x/y)\n",
    "\n",
    "# Módulo de números enteros\n",
    "print(\"El módulo de los números enteros 'x%y' es\", x%y)"
   ]
  },
  {
   "cell_type": "markdown",
   "id": "096e4765",
   "metadata": {},
   "source": [
    "### Datos tipo: Booleano (bool)\n",
    "Este tipo de dato (`bool`) tiene dos únicamente dos valores: verdadero: `True` o falso: `False`"
   ]
  },
  {
   "cell_type": "markdown",
   "id": "28e8554e",
   "metadata": {},
   "source": [
    "### Datos tipo: texto (String)\n",
    "Los string se denotan como <code>str</code> y son una secuencia de símbolos que pueden incluir letras mayúsculas y minúsculas, números, signos de puntuación y espacios.\n",
    "Existen tres formas de representar este tipo de datos, cualquiera de ellas es valida y no afecta el código:\n",
    "* **Entre comillas sencillas:** 'Donepezil'\n",
    "* **Entre comillas dobles:** \"Donepezil\"\n",
    "* **Entre tres comillas sencillas o tres comillas cobles:** '''Donepezil''' o \"\"\"Donepezil\"\"\""
   ]
  },
  {
   "cell_type": "code",
   "execution_count": 4,
   "id": "c84b6da5",
   "metadata": {},
   "outputs": [
    {
     "name": "stdout",
     "output_type": "stream",
     "text": [
      "Hola mundo\n"
     ]
    }
   ],
   "source": [
    "# Ejemplo\n",
    "texto = 'Hola mundo'\n",
    "print(texto)"
   ]
  },
  {
   "cell_type": "markdown",
   "id": "1da329f8",
   "metadata": {},
   "source": [
    "### Datos tipo: Arreglos\n",
    "Las listas, tuplas, diccionarios y conjuntos se emplean para almacenar varios elementos en una misma variable\n",
    "* **Listas (list):** los elemetos tienen orden modificable, se pueden hacer modificaciones y pueden haber duplicados, además están indexados\n",
    "* **Tuplas (tuple):** los elementos tienen un orden y no se pueden cambiar, agregar o eliminar una vez creada la tupla, además pueden hacer duplicados\n",
    "* **Conjuntos (set):** los elementos no tienen un orden, no se pueden cambiar, agregar o eliminar una vez creado el conjunto, además no están indexadas ni pueden haber duplicados\n",
    "* **Diccionarios (dict):** se emplean para almacenar valores de datos en pares clave:valor, los elementos tienen un orden no modificable, se pueden hacer modificaciones y no se permiten duplicados"
   ]
  },
  {
   "cell_type": "markdown",
   "id": "56c78829",
   "metadata": {},
   "source": [
    "#### Listas\n",
    "Las listas se emplean para almacenar varios elementos en una sola variable. Los elementos o datos que se almacenan pueden ser de cualquier tipo. A continuación se encuentran als características de este tipo de datos:\n",
    "* Los elementos de las listas **están ordenados**, es decir, tienen un orden definido que no cambiará pues al agregar nuevos elementos a la lista se colocaran al final de la misma.\n",
    "* Los elementos de las listas **son modificables**, es decir, que se pueden cambiar, agregar y eliminar elementos después de que se haya creado la lista.\n",
    "* Las listas **permiten duplicados**, es decir, que pueden haber elementos con el mismo valor."
   ]
  },
  {
   "cell_type": "code",
   "execution_count": 5,
   "id": "e907f4c5",
   "metadata": {},
   "outputs": [
    {
     "name": "stdout",
     "output_type": "stream",
     "text": [
      "['A', 'T', 'G', 'G', 'A', 'T', 'T', 'C', 'T', 'C', 'T', 'T', 'G', 'T', 'G', 'G', 'T', 'C', 'C', 'T', 'T', 'G', 'T', 'G', 'C', 'T', 'C', 'T', 'G', 'T', 'C', 'T', 'C', 'T', 'C', 'A', 'T', 'G', 'T', 'T', 'T', 'G', 'C', 'T', 'T', 'C', 'T', 'C', 'C', 'T', 'T', 'T', 'C', 'A', 'C', 'T', 'C', 'T', 'G', 'G', 'A', 'G', 'A', 'C', 'A', 'G', 'A', 'G', 'C', 'T', 'C', 'T', 'G', 'G', 'G', 'A', 'G', 'A', 'G', 'G', 'A', 'A', 'A', 'A', 'C', 'T', 'C', 'C', 'C', 'T', 'C', 'C', 'T', 'G', 'G', 'C', 'C', 'C', 'C', 'A', 'C', 'T', 'C', 'C', 'T', 'C', 'T', 'C', 'C', 'C', 'A', 'G', 'T', 'G', 'A', 'T', 'T', 'G', 'G', 'A', 'A', 'A', 'T', 'A', 'T', 'C', 'C', 'T', 'A', 'C', 'A', 'G']\n"
     ]
    }
   ],
   "source": [
    "#Ejemplo\n",
    "list_DNA_CYP2C9 = [\"A\",\"T\",\"G\",\"G\",\"A\",\"T\",\"T\",\"C\",\"T\",\"C\",\"T\",\"T\",\"G\",\"T\",\"G\",\"G\",\"T\",\"C\",\"C\",\"T\",\"T\",\"G\",\"T\",\"G\",\"C\",\"T\",\"C\",\"T\",\"G\",\"T\",\"C\",\"T\",\"C\",\"T\",\"C\",\"A\",\"T\",\"G\",\"T\",\"T\",\"T\",\"G\",\"C\",\"T\",\"T\",\"C\",\"T\",\"C\",\"C\",\"T\",\"T\",\"T\",\"C\",\"A\",\"C\",\"T\",\"C\",\"T\",\"G\",\"G\",\"A\",\"G\",\"A\",\"C\",\"A\",\"G\",\"A\",\"G\",\"C\",\"T\",\"C\",\"T\",\"G\",\"G\",\"G\",\"A\",\"G\",\"A\",\"G\",\"G\",\"A\",\"A\",\"A\",\"A\",\"C\",\"T\",\"C\",\"C\",\"C\",\"T\",\"C\",\"C\",\"T\",\"G\",\"G\",\"C\",\"C\",\"C\",\"C\",\"A\",\"C\",\"T\",\"C\",\"C\",\"T\",\"C\",\"T\",\"C\",\"C\",\"C\",\"A\",\"G\",\"T\",\"G\",\"A\",\"T\",\"T\",\"G\",\"G\",\"A\",\"A\",\"A\",\"T\",\"A\",\"T\",\"C\",\"C\",\"T\",\"A\",\"C\",\"A\",\"G\"]\n",
    "print(list_DNA_CYP2C9)"
   ]
  },
  {
   "cell_type": "markdown",
   "id": "0630e35d",
   "metadata": {},
   "source": [
    "En el anterior ejemplo se ve la forma en la que esta escrita una lista:\n",
    "* Se encuentra delimitada por corchetes cuadrados `[ ]`\n",
    "* Cada elemento está separado por comas `,`\n",
    "\n",
    "Como los elementos de la listas están ordenados se puede saber el índice de un elemento con la función <code>index()</code> la cual devuelve el índice del elemento en la primera aparición que encuentra a partir del índice 0 independientemente de cuántas veces este el elemento dentro de la lista."
   ]
  },
  {
   "cell_type": "markdown",
   "id": "4c38aafe",
   "metadata": {},
   "source": [
    "#### Tuplas\n",
    "Las tuplas se emplean para almacenar varios elementos en una sola variable. Los elementos o datos que se almacenan pueden ser de cualquier tipo. A continuación se encuentran als características de este tipo de datos:\n",
    "* Los elementos de las tuplas **están ordenados**, es decir, tienen un orden definido que no cambiará pues al agregar nuevos elementos a la lista se colocaran al final de la misma.\n",
    "* Los elementos de las tuplas **son inmutables**, es decir, que no se pueden cambiar, agregar y eliminar elementos después de que se haya creado la tupla.\n",
    "* Las tuplas **permiten duplicados**, es decir, que pueden haber elementos con el mismo valor."
   ]
  },
  {
   "cell_type": "code",
   "execution_count": 16,
   "id": "c6ae7873",
   "metadata": {},
   "outputs": [
    {
     "name": "stdout",
     "output_type": "stream",
     "text": [
      "('A', 'T', 'G', 'G', 'A', 'T', 'T', 'C', 'T', 'C', 'T', 'T', 'G', 'T', 'G', 'G', 'T', 'C', 'C', 'T', 'T', 'G', 'T', 'G', 'C', 'T', 'C', 'T', 'G', 'T', 'C', 'T', 'C', 'T', 'C', 'A', 'T', 'G', 'T', 'T', 'T', 'G', 'C', 'T', 'T', 'C', 'T', 'C', 'C', 'T', 'T', 'T', 'C', 'A', 'C', 'T', 'C', 'T', 'G', 'G', 'A', 'G', 'A', 'C', 'A', 'G', 'A', 'G', 'C', 'T', 'C', 'T', 'G', 'G', 'G', 'A', 'G', 'A', 'G', 'G', 'A', 'A', 'A', 'A', 'C', 'T', 'C', 'C', 'C', 'T', 'C', 'C', 'T', 'G', 'G', 'C', 'C', 'C', 'C', 'A', 'C', 'T', 'C', 'C', 'T', 'C', 'T', 'C', 'C', 'C', 'A', 'G', 'T', 'G', 'A', 'T', 'T', 'G', 'G', 'A', 'A', 'A', 'T', 'A', 'T', 'C', 'C', 'T', 'A', 'C', 'A', 'G')\n"
     ]
    }
   ],
   "source": [
    "# Ejemplo\n",
    "# Es posible convertir una tupla con el string DNA_CYP2C9\n",
    "tupla_DNA_CYP2C9 = tuple(list_DNA_CYP2C9)\n",
    "print(tupla_DNA_CYP2C9)"
   ]
  },
  {
   "cell_type": "markdown",
   "id": "2664ca63",
   "metadata": {},
   "source": [
    "#### Conjuntos\n",
    "Los conjuntos se emplean para almacenar varios elementos en una sola variable. Los elementos o datos que se almacenan pueden ser de cualquier tipo. A continuación se encuentran als características de este tipo de datos:\n",
    "* Los elementos de los conjuntos **no están ordenados**, es decir, no tienen un orden definido ya que los elementos pueden aparecer en un orden diferente cada vez que los usa y no se puede hacer referencia a ellos por índice o clave.\n",
    "* Los elementos de los conjuntos **son inmutables**, es decir, que no se pueden cambiar elementos después de que se haya creado el conjunto.\n",
    "* Los conjuntos **no permiten duplicados**, es decir, no pueden haber elementos con el mismo valor."
   ]
  },
  {
   "cell_type": "code",
   "execution_count": 17,
   "id": "8feb3a3e",
   "metadata": {},
   "outputs": [
    {
     "name": "stdout",
     "output_type": "stream",
     "text": [
      "{'G', 'A', 'C', 'T'}\n"
     ]
    }
   ],
   "source": [
    "# Ejemplo\n",
    "# Es posible convertir un conjunto con el string list_DNA_CYP2C9\n",
    "conjunto_DNA_CYP2C9 = set(list_DNA_CYP2C9)\n",
    "print(conjunto_DNA_CYP2C9)\n",
    "# Debido a que no permite duplicados se imprime unicamente los 4 tipos de bases nitrogenadas que se tienen en el string"
   ]
  },
  {
   "cell_type": "markdown",
   "id": "0966e4bb",
   "metadata": {},
   "source": [
    "####  Dato tipo: Diccionario\n",
    "\n",
    "Los diccionarios se emplean para almacenar valores de datos en pares clave:valor. Los elementos o datos que se almacenan pueden ser de cualquier tipo. A continuación se encuentran als características de este tipo de datos:\n",
    "* Los elementos de los diccionarios **están ordenados**, es decir, tienen un orden definido y no cambiará.\n",
    "* Los elementos de los diccionarios **son modificables**, es decir, que se pueden cambiar, agregar y eliminar elementos después de que se haya creado el diccionario.\n",
    "* Los diccionarios **no permiten duplicados**, es decir, no pueden haber elementos con la misma clave."
   ]
  },
  {
   "cell_type": "code",
   "execution_count": 37,
   "id": "535f43cb",
   "metadata": {},
   "outputs": [
    {
     "name": "stdout",
     "output_type": "stream",
     "text": [
      "{'EcoRI': 'GATTC', 'CYP2C9': 'ATGGATTC', 'BisI': 'GCATGCGC'}\n",
      "Las llaves del diccionario son: dict_keys(['EcoRI', 'CYP2C9', 'BisI'])\n",
      "Los valores del diccionario son: dict_values(['GATTC', 'ATGGATTC', 'GCATGCGC'])\n"
     ]
    }
   ],
   "source": [
    "enzimas={'EcoRI':'GATTC','CYP2C9':'ATGGATTC','BisI':'GCATGCGC'}\n",
    "\n",
    "print(enzimas)\n",
    "\n",
    "print(\"Las llaves del diccionario son: \" + str (enzimas.keys()))\n",
    "\n",
    "print(\"Los valores del diccionario son: \"+ str (enzimas.values()))"
   ]
  },
  {
   "cell_type": "markdown",
   "id": "38fe2776",
   "metadata": {},
   "source": [
    "# Práctica: Expresion del material genetico (parte 1)\n",
    "\n",
    "## Conceptos a trabajar\n",
    "\n",
    "Los ácidos nucleicos es la unidad básica que componen el material genético, está presente en las células procariotas, eucariotas y virus, se compone de pentosas, un grupo fosfato y las bases nitrogenadas, divididas en dos grupos: las purinas que son adenina (A) y guanina (G), y las primidinas que son citosina (C), la timina (T) y el uracilo (U). La unión de los ácidos nucleicos forma las macromoléculas esenciales para vida:\n",
    "\n",
    "![estructura](img/img_1.png)\n",
    "*Figura 1*. Estructura del DNA y RNA evidenciando sus características y los ácidos nucleicos que la componen. Tomado de:\n",
    "[Khan Academy](https://www.khanacademy.org/science/high-school-biology/hs-molecular-genetics/hs-rna-and-protein-synthesis/a/hs-rna-and-protein-synthesis-review).\n",
    "\n",
    "\n",
    "**DNA (ácido desoxirribonucleico)**: es una macromolécula encargada de almacenar y expresar la información genética esencial para las funciones de cualquier organismo, tiene una organización ordenada de cuatro bases nitrogenadas A, G, T y C, las cuales, forman una cadena de doble hélice antiparalela y complementaria, donde la A siempre se une a T, y G a C, si se modificara alguna base o su orden cambiaria la información, lo cual puede desencadenar mutaciones.\n",
    "\n",
    "**RNA (ácido ribonucleico)**: Es la macromolecular resultante de la transcripción del DNA, donde la T pasa a ser una U, es decir, es la copia determinada por la secuencia de una de las hebras de DNA.\n",
    "\n",
    "Una de las funciones de la doble cadena de DNA es la expresión del material genético, es el proceso encargado de la síntesis de las proteínas que necesita la célula (fig. 2). Consta de dos fases principales, **transcripción** y **traducción** donde una secuencia de DNA codifica para una proteína en particular implicada en diferentes procesos como metabólicos o de identidad celular.\n",
    "\n",
    "![Dogma central](./img/img_2.jpg)\n",
    "\n",
    "*Figura 2. Dogma central de la biología molecular, donde se evidencia la expresión del material genético, la transcripción de DNA a RNAm, traducción a aminoácidos y a la formación de la proteína. Tomado de:\n",
    "[Dogma](https://www.brainvta.tech/plus/list.php?tid=110).*\n",
    "\n",
    "La **transcripción** es el primer paso para la generación de proteínas, en la que a partir de una cadena de DNA, denominada como DNA molde, se sintetiza una de RNA por medio de la enzima RNA polimerasa, donde se establece una copia casi idéntica de la secuencia de DNA, con la variación de sustituir en toda la secuencia la T por el U, sin embargo, al igual que la T, el U se empareja con la A (fig. 3). En las células eucariotas, este primer transcrito, sufre un segundo proceso llamado “splicing” en el cual se eliminan fracciones específicas de la secuencia que no codifican para proteínas y se denomina RNAm, después de esta modificación, la RNAm es transportado para que se realice el segundo paso de la expresión génica.\n",
    "![Dogma central](./img/img_3.png)\n",
    "\n",
    "*Figura 3. Sintesis de RNAm, evidenciando la transcripción de DNA a RNA con la construcción de la cadena de RNAm a partir de la cadena molde de DNA, en ausencia de las enzimas implicadas. Figura modificada de: [Molecular biology of the gene, (2008), 13, 429-464]( https://books.google.com.co/books?id=7tadzgEACAAJ&dq=Molecular+biology+of+the+gene&hl=es-419&sa=X&redir_esc=y)*"
   ]
  },
  {
   "cell_type": "markdown",
   "id": "802caa3f",
   "metadata": {},
   "source": [
    "### Planteamiento del problema\n",
    "Supongamos que queremos obtener información básica de la enzima del citocromo P450, la cual codifica una proteína involucrada en el metabolismo de fármacos y la síntesis lípidos como de colesterol y esteroides. Para analizar la secuencia podemos emplear herramientas biocomputaciones.\n",
    "\n",
    "Primero, debemos descargar el documento con el que se va a trabajar:\n",
    "Podemos hacer una búsqueda del gen en la base de datos de [Genbank](https://www.ncbi.nlm.nih.gov/genbank/), buscamos la secuencia de DNA del citocromo P450, específicamente la subfamilia C9 de homo sapiens, ID: [LR898357.1](https://www.ncbi.nlm.nih.gov/nuccore/LR898357.1?report=fasta&to=1149).\n",
    "\n",
    "Para descargar la secuencia, se selecciona el apartado **\"Fasta\"**, luego, en la sección **\"Send to\"** y luego **\"Complete Record\"**, se elige el archivo **(File)** y el formato para obtener la secuencia **(Fasta)**, posteriormente, se da clic en **\"Create File\"** y se descargar el documento. Para reconocer el archivo cambia el nombre del documento, en este caso \"dna_CYP2C9.fasta\". \n",
    "\n",
    "A continuación, se carga el archivo para poder realizar el proceso de transcripción, para esto, se emplea el comando `with`, donde, la variable `GEN` está guardando un objeto (en este caso, un archivo). A estos objetos se les pueden llamar diferentes maneras. La línea `sec_CYP2C9 = (GEN.read())` guarda en la variable `sec_CYP2C9` un string con el contenido de la variable GEN."
   ]
  },
  {
   "cell_type": "code",
   "execution_count": 3,
   "id": "db34ed6c",
   "metadata": {},
   "outputs": [
    {
     "name": "stdout",
     "output_type": "stream",
     "text": [
      "<_io.TextIOWrapper name='data/dna_CYP2C9.fasta' mode='r' encoding='cp1252'>\n"
     ]
    }
   ],
   "source": [
    "#Secuencia de nucleótidos del gen CYP2C9\n",
    "with open(\"data/dna_CYP2C9.fasta\", \"r\") as GEN:\n",
    "    sec_CYP2C9 = GEN.read()\n",
    "print(GEN)"
   ]
  },
  {
   "cell_type": "markdown",
   "id": "4214d875",
   "metadata": {},
   "source": [
    "En los cuadernos `Jupyther` (versión interactiva de Python), la última línea de la celda será mostrada automáticamente. Esto quiere decir que no siempre será necesario utilizar la función `print()`"
   ]
  },
  {
   "cell_type": "code",
   "execution_count": 10,
   "id": "eb296e67",
   "metadata": {},
   "outputs": [
    {
     "data": {
      "text/plain": [
       "'El archivo descargado del GenBank del gen citocromo P450 es >LR898357.1 Homo sapiens CYP2C9 gene for CYP2C9\\nATGGATTCTCTTGTGGTCCTTGTGCTCTGTCTCTCATGTTTGCTTCTCCTTTCACTCTGGAGACAGAGCT\\nCTGGGAGAGGAAAACTCCCTCCTGGCCCCACTCCTCTCCCAGTGATTGGAAATATCCTACAGATAGGTAT\\nTAAGGACATCAGCAAATCCTTAACCAATCTCTCAAAGGTCTATGGCCCTGTGTTCACTCTGTATTTTGGC\\nCTGAAACCCATAGTGGTGCTGCATGGATATGAAGCAGTGAAGGAAGCCCTGATTGATCTTGGAGAGGAGT\\nTTTCTGGAAGAGGCATTTTCCCACTGGCTGAAAGAGCTAACAGAGGATTTGGAATTGTTTTCAGCAATGG\\nAAAGAAATGGAAGGAGATCCGGCGTTTCTCCCTCATGACGCTGCGGAATTTTGGGATGGGGAAGAGGAGC\\nATTGAGGACCGTGTTCAAGAGGAAGCCCGCTGCCTTGTGGAGGAGTTGAGAAAAACCAAGGCCTCACCCT\\nGTGATCCCACTTTCATCCTGGGCTGTGCTCCCTGCAATGTGATCTGCTCCATTATTTTCCATAAACGTTT\\nTGATTATAAAGATCAGCAATTTCTTAACTTAATGGAAAAGTTGAATGAAAACATCAAGATTTTGAGCAGC\\nCCCTGGGTCCAGATCTGCAATAATTTTTCTCCTATCATTGATTACTTCCCGGGAACTCACAACAAATTAC\\nTTAAAAACGTTGCTTTTATGAAAAGTTATATTTTGGAAAAAGTAAAAGAACACCAAGAATCAATGGACAT\\nGAACAACCCTCAGGACTTTATTGATTGCTTCCTGATGAAAATGGAGAAGGAAAAGCACAACCAACCATCT\\nGAATTTACTATTGAAAGCTTGGAAAACACTGCAGTTGACTTGTTTGGAGCTGGGACAGAGACGACAAGCA\\nCAACCCTGAGATATGCTCTCCTTCTCCTGCTGAAGCACCCAGAGGTCACAGCTAAAGTCCAGGAAGAGAT\\nTGAACGTGTGATTGGCAGAAACCGGAGCCCCTGCATGCAAGACAGGAGCCACATGCCCTACACAGATGCT\\nGTGGTGCACGAGGTCCAGAGATACATTGACCTTCTCCCCACCAGCCTGCCCCATGCAGTGACCTGTGACA\\nTTAAATTCAGAAACTATCTCATTCCCAAG\\n\\n'"
      ]
     },
     "execution_count": 10,
     "metadata": {},
     "output_type": "execute_result"
    }
   ],
   "source": [
    "'El archivo descargado del GenBank del gen citocromo P450 es ' + sec_CYP2C9"
   ]
  },
  {
   "cell_type": "markdown",
   "id": "1e5b996a",
   "metadata": {},
   "source": [
    "## Metodos de String\n",
    "Hay varios operadores en el lenguaje de Python que permite trabajar con los datos de los String mediante operaciones en las que se devuelven los valores sin cambiar la cadena. Entre las que se encuentran:\n",
    "* <code>.replace()</code>: sustituye en el string un valor especifico por otro.\n",
    "* <code>.split()</code>: divide el string en subcadenas según el parámetro establecido\n",
    "* <code>.find()</code>:  Busca en el string un valor específico y evidencia la posición en la que se encuentra"
   ]
  },
  {
   "cell_type": "markdown",
   "id": "d5f3da00",
   "metadata": {},
   "source": [
    "#### Manipulación de strings\n",
    "Al descargar una secuencia desde Genbak en formato fasta, la primer línea contiene las referencias de la secuencia, para eliminarla se hace el siguiente procedimineto:\n",
    " - Emplear el móetodo `.split()` que separa la cadena en una lista de elementos. A nosotros nos sirve separarla en los saltos de línea, que se representan con **'\\n'**.\n",
    " - Luego se debe eliminar el primer elemto (índice cero).\n",
    " - Finalmente volver a unir toda la cadena en un solo string, para esto, se emplea el método `.join()`"
   ]
  },
  {
   "cell_type": "code",
   "execution_count": 11,
   "id": "6ff4c8a1",
   "metadata": {
    "scrolled": true
   },
   "outputs": [
    {
     "name": "stdout",
     "output_type": "stream",
     "text": [
      "Lista separada:\n",
      " ['>LR898357.1 Homo sapiens CYP2C9 gene for CYP2C9', 'ATGGATTCTCTTGTGGTCCTTGTGCTCTGTCTCTCATGTTTGCTTCTCCTTTCACTCTGGAGACAGAGCT', 'CTGGGAGAGGAAAACTCCCTCCTGGCCCCACTCCTCTCCCAGTGATTGGAAATATCCTACAGATAGGTAT', 'TAAGGACATCAGCAAATCCTTAACCAATCTCTCAAAGGTCTATGGCCCTGTGTTCACTCTGTATTTTGGC', 'CTGAAACCCATAGTGGTGCTGCATGGATATGAAGCAGTGAAGGAAGCCCTGATTGATCTTGGAGAGGAGT', 'TTTCTGGAAGAGGCATTTTCCCACTGGCTGAAAGAGCTAACAGAGGATTTGGAATTGTTTTCAGCAATGG', 'AAAGAAATGGAAGGAGATCCGGCGTTTCTCCCTCATGACGCTGCGGAATTTTGGGATGGGGAAGAGGAGC', 'ATTGAGGACCGTGTTCAAGAGGAAGCCCGCTGCCTTGTGGAGGAGTTGAGAAAAACCAAGGCCTCACCCT', 'GTGATCCCACTTTCATCCTGGGCTGTGCTCCCTGCAATGTGATCTGCTCCATTATTTTCCATAAACGTTT', 'TGATTATAAAGATCAGCAATTTCTTAACTTAATGGAAAAGTTGAATGAAAACATCAAGATTTTGAGCAGC', 'CCCTGGGTCCAGATCTGCAATAATTTTTCTCCTATCATTGATTACTTCCCGGGAACTCACAACAAATTAC', 'TTAAAAACGTTGCTTTTATGAAAAGTTATATTTTGGAAAAAGTAAAAGAACACCAAGAATCAATGGACAT', 'GAACAACCCTCAGGACTTTATTGATTGCTTCCTGATGAAAATGGAGAAGGAAAAGCACAACCAACCATCT', 'GAATTTACTATTGAAAGCTTGGAAAACACTGCAGTTGACTTGTTTGGAGCTGGGACAGAGACGACAAGCA', 'CAACCCTGAGATATGCTCTCCTTCTCCTGCTGAAGCACCCAGAGGTCACAGCTAAAGTCCAGGAAGAGAT', 'TGAACGTGTGATTGGCAGAAACCGGAGCCCCTGCATGCAAGACAGGAGCCACATGCCCTACACAGATGCT', 'GTGGTGCACGAGGTCCAGAGATACATTGACCTTCTCCCCACCAGCCTGCCCCATGCAGTGACCTGTGACA', 'TTAAATTCAGAAACTATCTCATTCCCAAG', '', '']\n"
     ]
    }
   ],
   "source": [
    "# Separar la cadena por renglones\n",
    "sec_separada = sec_CYP2C9.split('\\n')\n",
    "print (\"Lista separada:\\n\", str (sec_separada))"
   ]
  },
  {
   "cell_type": "code",
   "execution_count": 12,
   "id": "f51c3e52",
   "metadata": {},
   "outputs": [
    {
     "name": "stdout",
     "output_type": "stream",
     "text": [
      "Lista separada, sin el primer renglón:\n",
      "['ATGGATTCTCTTGTGGTCCTTGTGCTCTGTCTCTCATGTTTGCTTCTCCTTTCACTCTGGAGACAGAGCT', 'CTGGGAGAGGAAAACTCCCTCCTGGCCCCACTCCTCTCCCAGTGATTGGAAATATCCTACAGATAGGTAT', 'TAAGGACATCAGCAAATCCTTAACCAATCTCTCAAAGGTCTATGGCCCTGTGTTCACTCTGTATTTTGGC', 'CTGAAACCCATAGTGGTGCTGCATGGATATGAAGCAGTGAAGGAAGCCCTGATTGATCTTGGAGAGGAGT', 'TTTCTGGAAGAGGCATTTTCCCACTGGCTGAAAGAGCTAACAGAGGATTTGGAATTGTTTTCAGCAATGG', 'AAAGAAATGGAAGGAGATCCGGCGTTTCTCCCTCATGACGCTGCGGAATTTTGGGATGGGGAAGAGGAGC', 'ATTGAGGACCGTGTTCAAGAGGAAGCCCGCTGCCTTGTGGAGGAGTTGAGAAAAACCAAGGCCTCACCCT', 'GTGATCCCACTTTCATCCTGGGCTGTGCTCCCTGCAATGTGATCTGCTCCATTATTTTCCATAAACGTTT', 'TGATTATAAAGATCAGCAATTTCTTAACTTAATGGAAAAGTTGAATGAAAACATCAAGATTTTGAGCAGC', 'CCCTGGGTCCAGATCTGCAATAATTTTTCTCCTATCATTGATTACTTCCCGGGAACTCACAACAAATTAC', 'TTAAAAACGTTGCTTTTATGAAAAGTTATATTTTGGAAAAAGTAAAAGAACACCAAGAATCAATGGACAT', 'GAACAACCCTCAGGACTTTATTGATTGCTTCCTGATGAAAATGGAGAAGGAAAAGCACAACCAACCATCT', 'GAATTTACTATTGAAAGCTTGGAAAACACTGCAGTTGACTTGTTTGGAGCTGGGACAGAGACGACAAGCA', 'CAACCCTGAGATATGCTCTCCTTCTCCTGCTGAAGCACCCAGAGGTCACAGCTAAAGTCCAGGAAGAGAT', 'TGAACGTGTGATTGGCAGAAACCGGAGCCCCTGCATGCAAGACAGGAGCCACATGCCCTACACAGATGCT', 'GTGGTGCACGAGGTCCAGAGATACATTGACCTTCTCCCCACCAGCCTGCCCCATGCAGTGACCTGTGACA', 'TTAAATTCAGAAACTATCTCATTCCCAAG', '', '']\n"
     ]
    }
   ],
   "source": [
    "# Guardar la lista de elementos desde el segundo (índice 1) hasta el final, eliminando las referencias de la secuencia (índice 0).\n",
    "sec_separada = sec_separada[1:]\n",
    "# Ver la lista sin el primer elemento\n",
    "print (\"Lista separada, sin el primer renglón:\\n\" + str (sec_separada))"
   ]
  },
  {
   "cell_type": "code",
   "execution_count": 13,
   "id": "864c657d",
   "metadata": {},
   "outputs": [
    {
     "name": "stdout",
     "output_type": "stream",
     "text": [
      "Secuencia:\n",
      " ATGGATTCTCTTGTGGTCCTTGTGCTCTGTCTCTCATGTTTGCTTCTCCTTTCACTCTGGAGACAGAGCTCTGGGAGAGGAAAACTCCCTCCTGGCCCCACTCCTCTCCCAGTGATTGGAAATATCCTACAGATAGGTATTAAGGACATCAGCAAATCCTTAACCAATCTCTCAAAGGTCTATGGCCCTGTGTTCACTCTGTATTTTGGCCTGAAACCCATAGTGGTGCTGCATGGATATGAAGCAGTGAAGGAAGCCCTGATTGATCTTGGAGAGGAGTTTTCTGGAAGAGGCATTTTCCCACTGGCTGAAAGAGCTAACAGAGGATTTGGAATTGTTTTCAGCAATGGAAAGAAATGGAAGGAGATCCGGCGTTTCTCCCTCATGACGCTGCGGAATTTTGGGATGGGGAAGAGGAGCATTGAGGACCGTGTTCAAGAGGAAGCCCGCTGCCTTGTGGAGGAGTTGAGAAAAACCAAGGCCTCACCCTGTGATCCCACTTTCATCCTGGGCTGTGCTCCCTGCAATGTGATCTGCTCCATTATTTTCCATAAACGTTTTGATTATAAAGATCAGCAATTTCTTAACTTAATGGAAAAGTTGAATGAAAACATCAAGATTTTGAGCAGCCCCTGGGTCCAGATCTGCAATAATTTTTCTCCTATCATTGATTACTTCCCGGGAACTCACAACAAATTACTTAAAAACGTTGCTTTTATGAAAAGTTATATTTTGGAAAAAGTAAAAGAACACCAAGAATCAATGGACATGAACAACCCTCAGGACTTTATTGATTGCTTCCTGATGAAAATGGAGAAGGAAAAGCACAACCAACCATCTGAATTTACTATTGAAAGCTTGGAAAACACTGCAGTTGACTTGTTTGGAGCTGGGACAGAGACGACAAGCACAACCCTGAGATATGCTCTCCTTCTCCTGCTGAAGCACCCAGAGGTCACAGCTAAAGTCCAGGAAGAGATTGAACGTGTGATTGGCAGAAACCGGAGCCCCTGCATGCAAGACAGGAGCCACATGCCCTACACAGATGCTGTGGTGCACGAGGTCCAGAGATACATTGACCTTCTCCCCACCAGCCTGCCCCATGCAGTGACCTGTGACATTAAATTCAGAAACTATCTCATTCCCAAG\n"
     ]
    }
   ],
   "source": [
    "# Unir la cadena para recopilar la secuencuencia.\n",
    "DNA_CYP2C9 =(''.join(sec_separada))\n",
    "print (\"Secuencia:\\n\", str (DNA_CYP2C9))"
   ]
  },
  {
   "cell_type": "markdown",
   "id": "77c7fcea",
   "metadata": {},
   "source": [
    "El procedimiento anterior se puede combinar en una sola celda:"
   ]
  },
  {
   "cell_type": "code",
   "execution_count": 21,
   "id": "446bab4e",
   "metadata": {},
   "outputs": [
    {
     "name": "stdout",
     "output_type": "stream",
     "text": [
      "Secuencia:\n",
      " ATGGATTCTCTTGTGGTCCTTGTGCTCTGTCTCTCATGTTTGCTTCTCCTTTCACTCTGGAGACAGAGCTCTGGGAGAGGAAAACTCCCTCCTGGCCCCACTCCTCTCCCAGTGATTGGAAATATCCTACAGATAGGTATTAAGGACATCAGCAAATCCTTAACCAATCTCTCAAAGGTCTATGGCCCTGTGTTCACTCTGTATTTTGGCCTGAAACCCATAGTGGTGCTGCATGGATATGAAGCAGTGAAGGAAGCCCTGATTGATCTTGGAGAGGAGTTTTCTGGAAGAGGCATTTTCCCACTGGCTGAAAGAGCTAACAGAGGATTTGGAATTGTTTTCAGCAATGGAAAGAAATGGAAGGAGATCCGGCGTTTCTCCCTCATGACGCTGCGGAATTTTGGGATGGGGAAGAGGAGCATTGAGGACCGTGTTCAAGAGGAAGCCCGCTGCCTTGTGGAGGAGTTGAGAAAAACCAAGGCCTCACCCTGTGATCCCACTTTCATCCTGGGCTGTGCTCCCTGCAATGTGATCTGCTCCATTATTTTCCATAAACGTTTTGATTATAAAGATCAGCAATTTCTTAACTTAATGGAAAAGTTGAATGAAAACATCAAGATTTTGAGCAGCCCCTGGGTCCAGATCTGCAATAATTTTTCTCCTATCATTGATTACTTCCCGGGAACTCACAACAAATTACTTAAAAACGTTGCTTTTATGAAAAGTTATATTTTGGAAAAAGTAAAAGAACACCAAGAATCAATGGACATGAACAACCCTCAGGACTTTATTGATTGCTTCCTGATGAAAATGGAGAAGGAAAAGCACAACCAACCATCTGAATTTACTATTGAAAGCTTGGAAAACACTGCAGTTGACTTGTTTGGAGCTGGGACAGAGACGACAAGCACAACCCTGAGATATGCTCTCCTTCTCCTGCTGAAGCACCCAGAGGTCACAGCTAAAGTCCAGGAAGAGATTGAACGTGTGATTGGCAGAAACCGGAGCCCCTGCATGCAAGACAGGAGCCACATGCCCTACACAGATGCTGTGGTGCACGAGGTCCAGAGATACATTGACCTTCTCCCCACCAGCCTGCCCCATGCAGTGACCTGTGACATTAAATTCAGAAACTATCTCATTCCCAAG\n"
     ]
    }
   ],
   "source": [
    "#Secuencia de nucleótidos del gen CYP2C9\n",
    "with open(\"data/dna_CYP2C9.fasta\", \"r\") as GEN:\n",
    "    sec_CYP2C9 = GEN.read()\n",
    "DNA_CYP2C9 =(''.join(sec_CYP2C9.split('\\n')[1:]))\n",
    "print(\"Secuencia:\\n\", DNA_CYP2C9)"
   ]
  },
  {
   "cell_type": "markdown",
   "id": "776942c8",
   "metadata": {},
   "source": [
    "### Indexación y secuencia de listas\n",
    "Para manejar datos de tipo String realmente largo que no se quiere dividir, se puede referenciar variables por la posición, desde diferentes secciones, empleando corchetes <code>\"[inicio:final]\"</code> para acceder a determinados elementos de una cadena (como se empleó anteriormente).\n",
    "Veamos algunos ejemplos:"
   ]
  },
  {
   "cell_type": "code",
   "execution_count": 23,
   "id": "80d82a4e",
   "metadata": {},
   "outputs": [
    {
     "name": "stdout",
     "output_type": "stream",
     "text": [
      "El primer nucleótido de la secuencia es: A\n",
      "Los primeros diez nucleótidos de la secuencia son: ATGGATTCTC\n"
     ]
    }
   ],
   "source": [
    "# Se puede imprimir hasta el decimo nucleotido, el conteo al imprimir comienza desde cero. Donde el primer nucleotido comienza con el valor [0]\n",
    "print(\"El primer nucleótido de la secuencia es: \" +  DNA_CYP2C9[0])\n",
    "\n",
    "print(\"Los primeros diez nucleótidos de la secuencia son: \" + DNA_CYP2C9[:10])"
   ]
  },
  {
   "cell_type": "code",
   "execution_count": 24,
   "id": "ca2329df",
   "metadata": {},
   "outputs": [
    {
     "name": "stdout",
     "output_type": "stream",
     "text": [
      "La secuencia que abarca 2 a 10 nucleótidos es: GGATTCTC\n"
     ]
    }
   ],
   "source": [
    "print(\"La secuencia que abarca 2 a 10 nucleótidos es: \" + DNA_CYP2C9[2:10])"
   ]
  },
  {
   "cell_type": "code",
   "execution_count": 20,
   "id": "b22287c0",
   "metadata": {},
   "outputs": [
    {
     "name": "stdout",
     "output_type": "stream",
     "text": [
      "La secuencia de nucleótidos desde la posición 1100 es: CCATGCAGTGACCTGTGACATTAAATTCAGAAACTATCTCATTCCCAAG\n"
     ]
    }
   ],
   "source": [
    "print(\"La secuencia de nucleótidos desde la posición 1100 es: \" + DNA_CYP2C9[1100:])"
   ]
  },
  {
   "cell_type": "code",
   "execution_count": 25,
   "id": "27bc8258",
   "metadata": {
    "scrolled": false
   },
   "outputs": [
    {
     "data": {
      "text/plain": [
       "'Los últimos 25 nucleótidos de la secuencia son: ATTCAGAAACTATCTCATTCCCAAG'"
      ]
     },
     "execution_count": 25,
     "metadata": {},
     "output_type": "execute_result"
    }
   ],
   "source": [
    "# Al emplear índices negativos se comienza a contar desde el final del String, útil en documentos extensos\n",
    "\"Los últimos 25 nucleótidos de la secuencia son: \" + DNA_CYP2C9[-25:]"
   ]
  },
  {
   "cell_type": "markdown",
   "id": "b7046573",
   "metadata": {},
   "source": [
    "## Manipulación de strings de gran tamaño\n",
    "Las herramientas que vimos anteriormente se pueden aplicar en archivos pesados y con secuenicas largas, como es el caso del genoma completo de la Marmota monax, ID: [JAIQCD010000022.1](https://www.ncbi.nlm.nih.gov/nuccore/JAIQCD010000022.1?report=fasta), gen que se ira trabajando.\n",
    "\n",
    "Para descargar la secuencia, emplee la metodología de la practica 1, cambiando el nombre del documento a: *\"dna_marmota.fasta\"*.\n",
    "\n",
    "*Observación*: En adelante trabajaremos con los `f-strings` que permiten hacer líneas cortas de texto con variables integradas. Más información en: [f-strings](https://platzi.com/blog/f-strings-en-python/?utm_source=google&utm_medium=cpc&utm_campaign=12915366154&utm_adgroup=&utm_content=&gclid=Cj0KCQjw3IqSBhCoARIsAMBkTb2p5ZOBtPtlGG2B7P0qrtnp8Wwvbgd2OY_F3_P-6OOU1YE_QHHCMaYaAnTaEALw_wcB&gclsrc=aw.ds), [f-strings](https://peps.python.org/pep-0498/)"
   ]
  },
  {
   "cell_type": "code",
   "execution_count": 26,
   "id": "1aaa3b37",
   "metadata": {},
   "outputs": [
    {
     "name": "stdout",
     "output_type": "stream",
     "text": [
      "La secuencia del genoma de marmota tiene 34815635 nucleótidos\n",
      "Los primeros 100 nucleótidos del genoma de marmota son: CCAATATTCTGTACAATTAATTAGTAGCAGGGCATGGGTTGCATGTCTGCCATGGCAGTGACTCCTGGAGCCTGAGATAGGAGGATCTCAAGTTTGAGGT\n"
     ]
    }
   ],
   "source": [
    "# En adelante se va a trabajar con el método\n",
    "with open(\"data/dna_marmota.fasta\", \"r\") as GEN:\n",
    "    DNA_marmota =  ''.join((GEN.read()).split('\\n')[1:])\n",
    "print(f'La secuencia del genoma de marmota tiene {len(DNA_marmota)} nucleótidos') \n",
    "# Con el comando len() se cuenta el número de caracteres que tiene un string\n",
    "print(f'Los primeros 100 nucleótidos del genoma de marmota son: {DNA_marmota[:100]}')"
   ]
  },
  {
   "cell_type": "markdown",
   "id": "b308a93d",
   "metadata": {},
   "source": [
    "#### Transcripción DNA del citocromo P450\n",
    "Antes de realizar la **transcripción** de DNA, debemos asegurar que el string de DNA este compuesto de ácidos nucleicos únicamente, es decir, sin saltos de línea o las referencias de la secuencia. \n",
    "\n",
    "En seguida, se realiza el proceso de **transcripción**, donde, se sustituye la “T” por el “U” de la secuencia empleando el método <code>.replace()</code>, con el fin de obtener el RNAm de la secuencia de la marmota."
   ]
  },
  {
   "cell_type": "code",
   "execution_count": 27,
   "id": "6c603655",
   "metadata": {},
   "outputs": [
    {
     "name": "stdout",
     "output_type": "stream",
     "text": [
      "Los primeros nucleótidos de la secucenia de RNA son: AUGGAUUCUCUUGUGGUCCUUGUGCUCUGUCUCUCAUGUUUGCUUCUCCUUUCACUCUGGAGACAGAGCUCUGGGAGAGGAAAACUCCCUCCUGGCCCCACUCCUCUCCCAGUGAUUGGAAAUAUCCUACAGAUAGGUAUUAAGGACAUCAGCAAAUCCUUAACCAAUCUCUCAAAGGUCUAUGGCCCUGUGUUCACUCUGUAUUUUGGCCUGAAACCCAUAGUGGUGCUGCAUGGAUAUGAAGCAGUGAAGGAAGCCCUGAUUGAUCUUGGAGAGGAGUUUUCUGGAAGAGGCAUUUUCCCACUGGCUGAAAGAGCUAACAGAGGAUUUGGAAUUGUUUUCAGCAAUGGAAAGAAAUGGAAGGAGAUCCGGCGUUUCUCCCUCAUGACGCUGCGGAAUUUUGGGAUGGGGAAGAGGAGCAUUGAGGACCGUGUUCAAGAGGAAGCCCGCUGCCUUGUGGAGGAGUUGAGAAAAACCAAGGCCUCACCCUGUGAUCCCACUUUCAUCCUGGGCUGUGCUCCCUGCAAUGUGAUCUGCUCCAUUAUUUUCCAUAAACGUUUUGAUUAUAAAGAUCAGCAAUUUCUUAACUUAAUGGAAAAGUUGAAUGAAAACAUCAAGAUUUUGAGCAGCCCCUGGGUCCAGAUCUGCAAUAAUUUUUCUCCUAUCAUUGAUUACUUCCCGGGAACUCACAACAAAUUACUUAAAAACGUUGCUUUUAUGAAAAGUUAUAUUUUGGAAAAAGUAAAAGAACACCAAGAAUCAAUGGACAUGAACAACCCUCAGGACUUUAUUGAUUGCUUCCUGAUGAAAAUGGAGAAGGAAAAGCACAACCAACCAUCUGAAUUUACUAUUGAAAGCUUGGAAAACACUGCAGUUGACUUGUUUGGAGCUGGGACAGAGACGACAAGCACAACCCUGAGAUAUGCUCUCCUUCUCCUGCUGAAGCACCCAGAGGUCACAGCUAAAGUCCAGGAAGAGAUUGAACGUGUGAUUGGCAGAAACCGGAGCCCCUGCAUGCAAGACAGGAGCCACAUGCCCUACACAGAUGCUGUGGUGCACGAGGUCCAGAGAUACAUUGACCUUCUCCCCACCAGCCUGCCCCAUGCAGUGACCUGUGACAUUAAAUUCAGAAACUAUCUCAUUCCCAAG\n"
     ]
    }
   ],
   "source": [
    "RNA_CYP2C9 = DNA_CYP2C9.replace(\"T\",\"U\")\n",
    "print(f'Los primeros nucleótidos de la secucenia de RNA son: {RNA_CYP2C9}')"
   ]
  },
  {
   "cell_type": "markdown",
   "id": "4ef07188",
   "metadata": {},
   "source": [
    "En esta primera práctica, se emplearon comandos y métodos relacionados con la manipulación de **strigns** de archivos de diferentes tamaños, empleando como punto de partida se trabajó con dos cadenas de DNA diferentes, donde vimos las herramientas que se pueden implementar en las practicas biológicas. \n",
    "\n",
    "El objetivo practico, es obtener información básica de la proteína del citocromo P450, para lo cual, partiendo de la cadena de *RNAm*, se procedería a traducirla a aminoácidos (práctica 2).\n"
   ]
  },
  {
   "cell_type": "markdown",
   "id": "fea0bd06",
   "metadata": {},
   "source": [
    "# Teoría: Estructuras de control de flujo\n",
    "Python tiene sentencias de control de flujo que permite agrupar comandos de manera controlada. Dos de las mas empleadas son:\n",
    "1. Estructuras de control condicionales\n",
    "2. Estructuras de control iterativas"
   ]
  },
  {
   "cell_type": "markdown",
   "id": "0ac94c03",
   "metadata": {},
   "source": [
    "### 1. Condicionales\n",
    "Los condicionales permiten ejecutar una instrucción o tomar una decisión si se cumple una determinada condición, dando como resultado un valor booleano de verdadero o falso. Las funciones más empleadas:\n",
    "* <code>if</code>: donde si se cumple la expresión se ejecuta el bloque de sentencias seguidas.\n",
    "* <code>elif</code>: donde si no se cumplen las condiciones anteriores, se intenta con otra sentencia.\n",
    "* <code>else</code>:  donde la expresión booleana es falsa o no se cumple una condición tomar esta otra opción.\n",
    "\n",
    "Los operadores y las expresiones permiten validar la condición que se va a seguir, los mas conocidos son las condiciones lógicas:"
   ]
  },
  {
   "cell_type": "markdown",
   "id": "ee797911",
   "metadata": {},
   "source": [
    "### 2. Iterativas\n",
    "Las iteraciones o bubles permiten repetir una porción del código las veces que sea necesario, mientras la condición booleana sea verdadera o falsa, en python se incluyen únicamente dos funciones:\n",
    "* <code>while</code>: permite realizar múltiples iteraciones ejecutando un código mientras la condición sea verdadera.\n",
    "* <code>for</code>: permite iterar en orden sobre cada uno de los elementos de una secuencia, ya sea lista, tupla, diccionario, conjunto o cadena\n",
    "\n",
    "Para más información revise el siguiente [link]( https://entrenamiento-python-basico.readthedocs.io/es/latest/leccion4/bucle_while.html)"
   ]
  },
  {
   "cell_type": "markdown",
   "id": "a38ae7fb",
   "metadata": {},
   "source": [
    "# Práctica: Expresión del material genético (parte 2)\n",
    "\n",
    "A continuación, realizamos la segunda fase implicada en la expresión génica.\n",
    "La **traducción**, es la síntesis de una proteína a partir de la cadena de ARNm, esto ocurre dentro de unas proteínas llamadas ribosomas, durante este proceso, la secuencia de ARNm se lee en grupos de tres nucleótidos, llamados **codones**, los cuales, son interpretados por un **código genético** dando como resultado una codificación de aminoácido (fig. 4), los cuales se plegarán y formarán las proteínas (fig. 3).\n",
    "\n",
    "![código](./img/img_4.png)\n",
    "*Figura 4. Código genético esencial en la expresión de proteínas donde se evidencia la formación de un codón a partir de un nucleótido (uracilo, adenina, guanina, o citocina), desde la secuencia de inicio (verde) y las de parada (rojo). Figura tomada de: [Molecular biology of the gene, (2008), 15, 509-569]( https://books.google.com.co/books?id=7tadzgEACAAJ&dq=Molecular+biology+of+the+gene&hl=es-419&sa=X&redir_esc=y)*\n",
    "\n",
    "El ribosoma lee la secuencia en orden, buscando el codón de **inicio** AUG, el cual, a su vez codifica para el aminoácido de metionina y da comienzo a la traducción, al seguir avanzando construye la cadena de aminoácidos, es un proceso que repite muchas veces, en el que se leen las tripletas de nucleótidos y se adhiere el aminoácido correspondiente (fig. 3). La cadena resultante puede ser largas o cortas, se direccionan hasta encontrar uno de los tres codones que codifican para el **stop** (UAA, UGA o UAG) (fig. 4), al sintetizarlo, la cadena se libera del ribosoma y es modificada o combinada para formar una proteína funcional con una estructura especifica involucrada en algún proceso esencial para la célula u organismo."
   ]
  },
  {
   "cell_type": "markdown",
   "id": "6b28dc6d",
   "metadata": {},
   "source": [
    "### Planteamiento del problema\n",
    "Para poder analizar la información básica de la proteína, se empleará la secuencia de RNA del citocromo P450, y así obtener los aminoácidos resultantes.\n",
    "\n",
    "Para esto, primero se debe crear un diccionario con el código genético, útil para la traducción del RNAm, donde se establezcan los codones (tripletas de nucleótidos) y su correspondiente aminoácido."
   ]
  },
  {
   "cell_type": "code",
   "execution_count": 30,
   "id": "a0081dc2",
   "metadata": {},
   "outputs": [
    {
     "name": "stdout",
     "output_type": "stream",
     "text": [
      "Los codones son: dict_keys(['GUU', 'GUC', 'GUA', 'GUG', 'GCU', 'GCC', 'GCA', 'GCG', 'GAU', 'GAC', 'GAA', 'GAG', 'GGU', 'GGC', 'GGA', 'GGG', 'AGA', 'AGG', 'AGU', 'AGC', 'AAU', 'AAC', 'AAA', 'AAG', 'ACU', 'ACC', 'ACA', 'ACG', 'AUU', 'AUC', 'AUA', 'AUG', 'CGU', 'CGC', 'CGA', 'CGG', 'CCU', 'CCC', 'CCA', 'CCG', 'CAU', 'CAC', 'CAA', 'CAG', 'UUU', 'UUC', 'UUA', 'UUG', 'UCU', 'UCC', 'UCA', 'UCG', 'UAU', 'UAC', 'UAA', 'UAG', 'UGU', 'UGC', 'UGA', 'UGG', 'CUU', 'CUC', 'CUA', 'CUG'])\n",
      "-----------------\n",
      "Los aminoácidos son: dict_values(['V', 'V', 'V', 'V', 'A', 'A', 'A', 'A', 'D', 'D', 'E', 'E', 'G', 'G', 'G', 'G', 'R', 'R', 'S', 'S', 'N', 'N', 'K', 'K', 'T', 'T', 'T', 'T', 'I', 'I', 'I', 'M', 'R', 'R', 'R', 'R', 'P', 'P', 'P', 'P', 'H', 'H', 'Q', 'Q', 'F', 'F', 'L', 'L', 'S', 'S', 'S', 'S', 'Y', 'Y', 'STOP', 'STOP', 'C', 'C', 'STOP', 'W', 'L', 'L', 'L', 'L'])\n"
     ]
    }
   ],
   "source": [
    "#Diccionario de codones/aminoácido para la traduccion\n",
    "codones= {\"GUU\": \"V\", \"GUC\": \"V\", \"GUA\": \"V\", \"GUG\": \"V\", \"GCU\": \"A\", \"GCC\": \"A\", \"GCA\": \"A\", \"GCG\": \"A\",\n",
    "          \"GAU\": \"D\", \"GAC\": \"D\", \"GAA\": \"E\", \"GAG\": \"E\",\"GGU\": \"G\", \"GGC\": \"G\", \"GGA\": \"G\", \"GGG\": \"G\",\n",
    "          \"AGA\": \"R\", \"AGG\": \"R\", \"AGU\": \"S\", \"AGC\": \"S\", \"AAU\": \"N\", \"AAC\": \"N\", \"AAA\": \"K\", \"AAG\": \"K\",\n",
    "          \"ACU\": \"T\", \"ACC\": \"T\", \"ACA\": \"T\", \"ACG\": \"T\", \"AUU\": \"I\", \"AUC\": \"I\", \"AUA\": \"I\",\n",
    "          \"AUG\": \"M\", \"CGU\": \"R\", \"CGC\": \"R\", \"CGA\": \"R\", \"CGG\": \"R\", \"CCU\": \"P\", \"CCC\": \"P\",\n",
    "          \"CCA\": \"P\", \"CCG\": \"P\", \"CAU\": \"H\", \"CAC\": \"H\", \"CAA\": \"Q\", \"CAG\": \"Q\", \"UUU\": \"F\",\n",
    "          \"UUC\": \"F\", \"UUA\": \"L\", \"UUG\": \"L\", \"UCU\": \"S\", \"UCC\": \"S\", \"UCA\": \"S\", \"UCG\": \"S\", \"UAU\": \"Y\",\n",
    "          \"UAC\": \"Y\", \"UAA\": \"STOP\", \"UAG\": \"STOP\", \"UGU\": \"C\", \"UGC\": \"C\", \"UGA\": \"STOP\", \"UGG\": \"W\",\n",
    "          \"CUU\": \"L\", \"CUC\": \"L\", \"CUA\": \"L\", \"CUG\": \"L\", \"CCU\": \"P\", \"CCC\": \"P\", \"CCA\": \"P\", \"CCG\": \"P\",\n",
    "          \"CAU\": \"H\", \"CAC\": \"H\", \"CAA\": \"Q\", \"CAG\": \"Q\", \"CGU\": \"R\", \"CGC\": \"R\", \"CGA\": \"R\", \"CGG\": \"R\"}\n",
    "\n",
    "print(f'Los codones son: {codones.keys()}')\n",
    "print('-----------------')\n",
    "print(f'Los aminoácidos son: {codones.values()}')"
   ]
  },
  {
   "cell_type": "markdown",
   "id": "6a762b50",
   "metadata": {},
   "source": [
    "[caramirezs] corrregir\n",
    "\n",
    "En los que se observa la llave key que son las tripletas y los valores value que es el aminoácido, donde cada key:value está separado por comas (,). "
   ]
  },
  {
   "cell_type": "markdown",
   "id": "b14dc4e4",
   "metadata": {},
   "source": [
    "A continuación, se emplean las **estructuras de control** para poder analizar la secuencia y poder extraer la proteína, siguiendo estos pasos:\n",
    "1. Identificar el inicio de la proteína: AUG\n",
    "2. Dividir de tres en tres\n",
    "3. Encontrar el stop (pueden ser varios, mirar diccionario)\n",
    "4. Imprimir la proteína: AUG(codones - de tres en tres)STOP"
   ]
  },
  {
   "cell_type": "code",
   "execution_count": 41,
   "id": "c5c91fdc",
   "metadata": {},
   "outputs": [
    {
     "data": {
      "text/plain": [
       "'AUGGAUUCUCUUGUGGUCCUUGUGCUCUGUCUCUCAUGUUUGCUUCUCCUUUCACUCUGGAGACAGAGCUCUGGGAGAGGAAAACUCCCUCCUGGCCCCACUCCUCUCCCAGUGAUUGGAAAUAUCCUACAGAUAGGUAUUAAGGACAUCAGCAAAUCCUUAACCAAUCUCUCAAAGGUCUAUGGCCCUGUGUUCACUCUGUAUUUUGGCCUGAAACCCAUAGUGGUGCUGCAUGGAUAUGAAGCAGUGAAGGAAGCCCUGAUUGAUCUUGGAGAGGAGUUUUCUGGAAGAGGCAUUUUCCCACUGGCUGAAAGAGCUAACAGAGGAUUUGGAAUUGUUUUCAGCAAUGGAAAGAAAUGGAAGGAGAUCCGGCGUUUCUCCCUCAUGACGCUGCGGAAUUUUGGGAUGGGGAAGAGGAGCAUUGAGGACCGUGUUCAAGAGGAAGCCCGCUGCCUUGUGGAGGAGUUGAGAAAAACCAAGGCCUCACCCUGUGAUCCCACUUUCAUCCUGGGCUGUGCUCCCUGCAAUGUGAUCUGCUCCAUUAUUUUCCAUAAACGUUUUGAUUAUAAAGAUCAGCAAUUUCUUAACUUAAUGGAAAAGUUGAAUGAAAACAUCAAGAUUUUGAGCAGCCCCUGGGUCCAGAUCUGCAAUAAUUUUUCUCCUAUCAUUGAUUACUUCCCGGGAACUCACAACAAAUUACUUAAAAACGUUGCUUUUAUGAAAAGUUAUAUUUUGGAAAAAGUAAAAGAACACCAAGAAUCAAUGGACAUGAACAACCCUCAGGACUUUAUUGAUUGCUUCCUGAUGAAAAUGGAGAAGGAAAAGCACAACCAACCAUCUGAAUUUACUAUUGAAAGCUUGGAAAACACUGCAGUUGACUUGUUUGGAGCUGGGACAGAGACGACAAGCACAACCCUGAGAUAUGCUCUCCUUCUCCUGCUGAAGCACCCAGAGGUCACAGCUAAAGUCCAGGAAGAGAUUGAACGUGUGAUUGGCAGAAACCGGAGCCCCUGCAUGCAAGACAGGAGCCACAUGCCCUACACAGAUGCUGUGGUGCACGAGGUCCAGAGAUACAUUGACCUUCUCCCCACCAGCCUGCCCCAUGCAGUGACCUGUGACAUUAAAUUCAGAAACUAUCUCAUUCCCAAG'"
      ]
     },
     "execution_count": 41,
     "metadata": {},
     "output_type": "execute_result"
    }
   ],
   "source": [
    "# Iniciamos descargando la secuencia a trabajar\n",
    "with open(\"data/dna_CYP2C9.fasta\", \"r\") as GEN:\n",
    "    sec_CYP2C9 = GEN.read()\n",
    "DNA_CYP2C9 =(''.join(sec_CYP2C9.split('\\n')[1:]))\n",
    "\n",
    "# Reemplazamos t/u [caramirez] corregir\n",
    "DNA_CYP2C9 = DNA_CYP2C9.replace(\"T\",\"U\")\n",
    "DNA_CYP2C9"
   ]
  },
  {
   "cell_type": "code",
   "execution_count": 44,
   "id": "270bba64",
   "metadata": {},
   "outputs": [
    {
     "ename": "SyntaxError",
     "evalue": "unexpected character after line continuation character (24189211.py, line 2)",
     "output_type": "error",
     "traceback": [
      "\u001b[1;36m  Input \u001b[1;32mIn [44]\u001b[1;36m\u001b[0m\n\u001b[1;33m    re.findall('AUG'\\S, DNA_CYP2C9)\u001b[0m\n\u001b[1;37m                                   ^\u001b[0m\n\u001b[1;31mSyntaxError\u001b[0m\u001b[1;31m:\u001b[0m unexpected character after line continuation character\n"
     ]
    }
   ],
   "source": [
    "import re\n",
    "re.findall('AUG'\\S, DNA_CYP2C9)"
   ]
  },
  {
   "cell_type": "markdown",
   "id": "699db3de",
   "metadata": {},
   "source": [
    "# Poner el codigo de traduccion y explicarlo"
   ]
  },
  {
   "cell_type": "markdown",
   "id": "85c90d70",
   "metadata": {},
   "source": [
    "En la segunda práctica, se emplearon las estructuras de control, condicionales e iterativas, para poder ensamblar la secuencia empleando los codones del diccionario dando como resultado una proteína especifica, la cual, se analizará para poder obtener la información básica (práctica 3). "
   ]
  },
  {
   "cell_type": "markdown",
   "id": "1063fd1e",
   "metadata": {},
   "source": [
    "# Teoría: Funciones\n",
    "Las funciones son bloques de códigos que pueden ser usados varias veces solamente llamando la función, es decir, no es necesario escribir el código cada vez que se requiera usar siempre y cuando se haya definido la función. Su objetivo es dividir y organizar el código en partes más sencillas y encapsular este código para usarlo a lo largo de un programa.\n",
    "\n",
    "Python cuenta con funciones ya definidas que anteriormente han sido empleadas en este tutorial como por ejemplo: <code>len</code> o <code>print</code>. Sin embargo, también es posible definir funciones y para ello se usa <code>def</code> seguido de un nombre que debe ser claro y fácil de recordar. Después va un paréntesis y una lista de parámetros de forma opcional, para finalizar se usan dos puntos. Más información en el [link](https://www.mclibre.org/consultar/python/lecciones/python-funciones-2.html)"
   ]
  },
  {
   "cell_type": "markdown",
   "id": "f11dd01a",
   "metadata": {},
   "source": [
    "# Práctica: Proteínas y aminoácidos (parte 3)\n",
    "La diversidad funcional expresada por las proteínas, parten de la variedad molecular y la secuencia especifica que las componen.\n",
    "\n",
    "Los aminoácidos son subunidades de bajo peso molecular, los cuales, cumplen una función específica en la estructura de la proteína, con propiedades fisicoquímicas específicas, como su carácter hidrófobo o hidrófilo, carga, pH (ácido o básico) y su tamaño (Fig. 5).\n",
    "\n",
    "![aminoácidos](./img/img_5.png)\n",
    "*Figura 5. Estructura y clasificación de los aminoácidos. Figura tomada de: [Proteínas y aminoácidos.Propiedades físico-químicas y funcionales., (2008), 15, 509-569](https://m.riunet.upv.es/bitstream/handle/10251/147138/Cardona%20-%20PROTE%C3%8DNAS%20Y%20AMINO%C3%81CIDOS%20EN%20ALIMENTOS.%20PROPIEDADES%20F%C3%8DSICO-QU%C3%8DMICAS%20Y%20FUNCIONALES..pdf?sequence=1&isAllowed=y)*"
   ]
  },
  {
   "cell_type": "markdown",
   "id": "15362d97",
   "metadata": {},
   "source": [
    "Para analizar la proteína, vamos a obtener la información básica de la enzima del citocromo P450, para esto, se identificarán cuantitativamente las propiedades básicas, como: \n",
    "* Los grupos de aminoácidos de la proteína\n",
    "* Las cargas\n",
    "* El pH"
   ]
  },
  {
   "cell_type": "code",
   "execution_count": 39,
   "id": "9d0c78bd",
   "metadata": {},
   "outputs": [
    {
     "ename": "NameError",
     "evalue": "name 'total_elements' is not defined",
     "output_type": "error",
     "traceback": [
      "\u001b[1;31m---------------------------------------------------------------------------\u001b[0m",
      "\u001b[1;31mNameError\u001b[0m                                 Traceback (most recent call last)",
      "Input \u001b[1;32mIn [39]\u001b[0m, in \u001b[0;36m<module>\u001b[1;34m\u001b[0m\n\u001b[0;32m      3\u001b[0m     count \u001b[38;5;241m=\u001b[39m \u001b[38;5;241m0\u001b[39m\n\u001b[0;32m      4\u001b[0m     \u001b[38;5;28;01mreturn\u001b[39;00m count\n\u001b[1;32m----> 6\u001b[0m \u001b[38;5;28mprint\u001b[39m(\u001b[38;5;124m\"\u001b[39m\u001b[38;5;124mEl total de aminoácidos de la proteina es: \u001b[39m\u001b[38;5;124m\"\u001b[39m, \u001b[43mtotal_elements\u001b[49m(aminoácidos_CYP2C9))\n",
      "\u001b[1;31mNameError\u001b[0m: name 'total_elements' is not defined"
     ]
    }
   ],
   "source": [
    "# Total de aminoácidos presentes en la proteina\n",
    "def total_aminoacidos(string):\n",
    "    count = 0\n",
    "    return count\n",
    "\n",
    "print(\"El total de aminoácidos de la proteina es: \", total_elements(aminoácidos_CYP2C9))"
   ]
  },
  {
   "cell_type": "code",
   "execution_count": null,
   "id": "301121bc",
   "metadata": {},
   "outputs": [],
   "source": [
    "# Total de aminoácidos neutros polares o hidrófilos "
   ]
  },
  {
   "cell_type": "code",
   "execution_count": null,
   "id": "386e8115",
   "metadata": {},
   "outputs": [],
   "source": [
    "# Total de aminoácidos neutros no polares o hidrófobos"
   ]
  },
  {
   "cell_type": "code",
   "execution_count": null,
   "id": "3e1415f8",
   "metadata": {},
   "outputs": [],
   "source": [
    "# Total de aminoácidos ácidos o con carga negativa o ácidos "
   ]
  }
 ],
 "metadata": {
  "kernelspec": {
   "display_name": "Python 3 (ipykernel)",
   "language": "python",
   "name": "python3"
  },
  "language_info": {
   "codemirror_mode": {
    "name": "ipython",
    "version": 3
   },
   "file_extension": ".py",
   "mimetype": "text/x-python",
   "name": "python",
   "nbconvert_exporter": "python",
   "pygments_lexer": "ipython3",
   "version": "3.8.12"
  }
 },
 "nbformat": 4,
 "nbformat_minor": 5
}
