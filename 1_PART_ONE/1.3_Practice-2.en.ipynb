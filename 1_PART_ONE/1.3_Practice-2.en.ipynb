{
 "cells": [
  {
   "cell_type": "markdown",
   "metadata": {},
   "source": [
    "# Practice 2: Expression of genetic material\n",
    "\n",
    "## Concepts to work\n",
    "\n",
    "**Translation**, is the synthesis of a protein from the mRNA chain, this occurs within proteins called ribosomes, during this process, the mRNA sequence is read in groups of three nucleotides, called **codons **, which are interpreted by a **genetic code** resulting in an amino acid coding**<sup> 6 </sup>** (fig. 4), which will fold and form proteins (fig. 3).\n",
    "\n",
    "<img src=\"img/Figura4-en-es.png\" alt=\"code\" width=\"1000\"/>\n",
    "\n",
    "*Figure 4. Essential genetic code in the expression of proteins where the formation of a codon from a nucleotide (uracil, adenine, guanine, or cytokine) is evidenced, from the start sequence (green) and the stop sequences (red ). Figure modified from: [Molecular biology of the gene, (2008), 15, 509-569]( https://books.google.com.co/books?id=7tadzgEACAAJ&dq=Molecular+biology+of+the+gene&hl=es-419&sa=X&redir_esc=y)*\n",
    "\n",
    "The ribosome reads the sequence in order, looking for the AUG **start** codon, which, in turn, codes for the methionine amino acid and begins the translation, as it continues advancing it builds the chain of amino acids, it is a process that repeats many times, in which the nucleotide triplets are read and the corresponding amino acid is attached (fig. 3). The resulting chain can be long or short, it is addressed until it finds one of the three codons that code for **stop** (UAA, UGA or UAG) (fig. 4), when synthesized, the chain is released from the ribosome and it is modified or combined to form a functional protein with a specific structure involved in some essential process for the cell or organism**<sup> 7 </sup>**.\n"
   ]
  },
  {
   "cell_type": "markdown",
   "metadata": {},
   "source": [
    "## Problem Statement\n",
    "Continuing with the general objective, to obtain basic information on the cytochrome P450 enzyme, a protein previously worked on. To do this, we are going to carry out the second phase involved in gene expression, in order to obtain the amino acids that code for the protein.\n",
    "\n",
    "First, we must create a dictionary in which the genetic code is found, where they specify the codons (nucleotide triplets) that synthesize their corresponding amino acid. We must take into account the `key-value` pairs, where the `key` would be the codons and the `value` would be the amino acids."
   ]
  },
  {
   "cell_type": "code",
   "execution_count": 56,
   "metadata": {},
   "outputs": [
    {
     "name": "stdout",
     "output_type": "stream",
     "text": [
      " Codons are: \n",
      "['GUU', 'GUC', 'GUA', 'GUG', 'GCU', 'GCC', 'GCA', 'GCG', 'GAU', 'GAC', 'GAA', 'GAG', 'GGU', 'GGC', 'GGA', 'GGG', 'AGA', 'AGG', 'AGU', 'AGC', 'AAU', 'AAC', 'AAA', 'AAG', 'ACU', 'ACC', 'ACA', 'ACG', 'AUU', 'AUC', 'AUA', 'AUG', 'CGU', 'CGC', 'CGA', 'CGG', 'CCU', 'CCC', 'CCA', 'CCG', 'CAU', 'CAC', 'CAA', 'CAG', 'UUU', 'UUC', 'UUA', 'UUG', 'UCU', 'UCC', 'UCA', 'UCG', 'UAU', 'UAC', 'UAA', 'UAG', 'UGU', 'UGC', 'UGA', 'UGG', 'CUU', 'CUC', 'CUA', 'CUG']\n",
      "-----------------\n",
      " Amino acids are: \n",
      "['V', 'V', 'V', 'V', 'A', 'A', 'A', 'A', 'D', 'D', 'E', 'E', 'G', 'G', 'G', 'G', 'R', 'R', 'S', 'S', 'N', 'N', 'K', 'K', 'T', 'T', 'T', 'T', 'I', 'I', 'I', 'M', 'R', 'R', 'R', 'R', 'P', 'P', 'P', 'P', 'H', 'H', 'Q', 'Q', 'F', 'F', 'L', 'L', 'S', 'S', 'S', 'S', 'Y', 'Y', 'STOP', 'STOP', 'C', 'C', 'STOP', 'W', 'L', 'L', 'L', 'L']\n"
     ]
    }
   ],
   "source": [
    "#Dictionary of codons for translation\n",
    "genetic_code = {\"GUU\": \"V\", \"GUC\": \"V\", \"GUA\": \"V\", \"GUG\": \"V\", \"GCU\": \"A\", \"GCC\": \"A\", \"GCA\": \"A\", \"GCG\": \"A\",\n",
    "                \"GAU\": \"D\", \"GAC\": \"D\", \"GAA\": \"E\", \"GAG\": \"E\", \"GGU\": \"G\", \"GGC\": \"G\", \"GGA\": \"G\", \"GGG\": \"G\",\n",
    "                \"AGA\": \"R\", \"AGG\": \"R\", \"AGU\": \"S\", \"AGC\": \"S\", \"AAU\": \"N\", \"AAC\": \"N\", \"AAA\": \"K\", \"AAG\": \"K\",\n",
    "                \"ACU\": \"T\", \"ACC\": \"T\", \"ACA\": \"T\", \"ACG\": \"T\", \"AUU\": \"I\", \"AUC\": \"I\", \"AUA\": \"I\", \"AUG\": \"M\",\n",
    "                \"CGU\": \"R\", \"CGC\": \"R\", \"CGA\": \"R\", \"CGG\": \"R\", \"CCU\": \"P\", \"CCC\": \"P\", \"CCA\": \"P\", \"CCG\": \"P\",\n",
    "                \"CAU\": \"H\", \"CAC\": \"H\", \"CAA\": \"Q\", \"CAG\": \"Q\", \"UUU\": \"F\", \"UUC\": \"F\", \"UUA\": \"L\", \"UUG\": \"L\",\n",
    "                \"UCU\": \"S\", \"UCC\": \"S\", \"UCA\": \"S\", \"UCG\": \"S\", \"UAU\": \"Y\", \"UAC\": \"Y\", \"UAA\": \"STOP\", \"UAG\": \"STOP\",\n",
    "                \"UGU\": \"C\", \"UGC\": \"C\", \"UGA\": \"STOP\", \"UGG\": \"W\", \"CUU\": \"L\", \"CUC\": \"L\", \"CUA\": \"L\", \"CUG\": \"L\"}\n",
    "\n",
    "print(f' Codons are: \\n{list(genetic_code.keys())}')\n",
    "print('-----------------')\n",
    "print(f' Amino acids are: \\n{list(genetic_code.values())}')"
   ]
  },
  {
   "cell_type": "markdown",
   "metadata": {},
   "source": [
    "## Control Structures\n",
    "Next, we will use the **control structures** to be able to analyze the RNA sequence of the cytochrome `RNA_CYP2C9` to synthesize the protein, following these steps:\n",
    "1. Identify the start of the protein: AUG\n",
    "2. Divide by threes\n",
    "3. Find the stop (there can be several, look at the dictionary)\n",
    "4. Print the protein: AUG(codons - in threes)STOP"
   ]
  },
  {
   "cell_type": "code",
   "execution_count": 57,
   "metadata": {},
   "outputs": [
    {
     "name": "stdout",
     "output_type": "stream",
     "text": [
      ">> Protein found\n",
      "Protein: MDSLVVLVLCLSCLLLLSLWRQSSGRGKLPPGPTPLPVIGNILQIGIKDISKSLTNLSKVYGPVFTLYFGLKPIVVLHGYEAVKEALIDLGEEFSGRGIFPLAERANRGFGIVFSNGKKWKEIRRFSLMTLRNFGMGKRSIEDRVQEEARCLVEELRKTKASPCDPTFILGCAPCNVICSIIFHKRFDYKDQQFLNLMEKLNENIKILSSPWIQICNNFSPIIDYFPGTHNKLLKNVAFMKSYILEKVKEHQESMDMNNPQDFIDCFLMKMEKEKHNQPSEFTIESLENTAVDLFGAGTETTSTTLRYALLLLLKHPEVTAKVQEEIERVIGRNRSPCMQDRSHMPYTDAVVHEVQRYIDLLPTSLPHAVTCDIKFRNYLIPKGTTILISLTSVLHDNKEFPNPEMFDPHHFLDEGGNFKKSKYFMPFSAGKRICVGEALAGMELFLFLTSILQNFNLKSLVDPKNLDTTPVVNGFASVPPFYQLCFIPV\n"
     ]
    }
   ],
   "source": [
    "# reload the sequence\n",
    "with open(\"data/sec_CYP2C9.fasta\", \"r\") as GEN:\n",
    "    sec_CYP2C9 = GEN.read()\n",
    "DNA_CYP2C9 =(''.join(sec_CYP2C9.split('\\n')[1:]))\n",
    "RNA_CYP2C9 = DNA_CYP2C9.replace(\"T\",\"U\")\n",
    "\n",
    "run = True\n",
    "# search start codon AUG\n",
    "i = 0\n",
    "for i in range(len(RNA_CYP2C9)):\n",
    "    if RNA_CYP2C9[i:i + 3] == 'AUG':  # Start of protein found\n",
    "        RNA_CYP2C9 = RNA_CYP2C9[i:]  # trim sequence. new RNA\n",
    "        break  # end the for loop\n",
    "    if i >= (len(RNA_CYP2C9) - 3):   # Protein start NOT found\n",
    "        print('Start codon not found AUG')\n",
    "        RNA_CYP2C9 = RNA_CYP2C9[i:i + 3]\n",
    "        run = False   # end up\n",
    "        break   # end the for loop\n",
    "\n",
    "# This code is only executed if the start of the protein was found\n",
    "# Executes with the sequence trimmed\n",
    "\n",
    "protein = list()\n",
    "if run:\n",
    "    i = 0\n",
    "    # start translation\n",
    "    while i <= len(RNA_CYP2C9) - 2:\n",
    "        codon = genetic_code[RNA_CYP2C9[i:i + 3]]\n",
    "        protein.append(codon)\n",
    "        i += 3\n",
    "        if codon == 'STOP':\n",
    "            print(f'>> Protein found')\n",
    "            RNA_CYP2C9 = RNA_CYP2C9[i:]  # new RNA (trimmed)\n",
    "            protein = protein[:-1]\n",
    "            protein_text = ''.join(protein)\n",
    "            print(f'Protein: {protein_text}')\n",
    "            break\n",
    "        if i >= (len(RNA_CYP2C9) - 3):\n",
    "            print('Codon not found STOP')\n",
    "            RNA_KR711927 = RNA_CYP2C9[i:i + 3]\n",
    "            break"
   ]
  },
  {
   "cell_type": "code",
   "execution_count": 58,
   "metadata": {},
   "outputs": [
    {
     "name": "stdout",
     "output_type": "stream",
     "text": [
      "['M', 'D', 'S', 'L', 'V', 'V', 'L', 'V', 'L', 'C', 'L', 'S', 'C', 'L', 'L', 'L', 'L', 'S', 'L', 'W', 'R', 'Q', 'S', 'S', 'G', 'R', 'G', 'K', 'L', 'P', 'P', 'G', 'P', 'T', 'P', 'L', 'P', 'V', 'I', 'G', 'N', 'I', 'L', 'Q', 'I', 'G', 'I', 'K', 'D', 'I', 'S', 'K', 'S', 'L', 'T', 'N', 'L', 'S', 'K', 'V', 'Y', 'G', 'P', 'V', 'F', 'T', 'L', 'Y', 'F', 'G', 'L', 'K', 'P', 'I', 'V', 'V', 'L', 'H', 'G', 'Y', 'E', 'A', 'V', 'K', 'E', 'A', 'L', 'I', 'D', 'L', 'G', 'E', 'E', 'F', 'S', 'G', 'R', 'G', 'I', 'F', 'P', 'L', 'A', 'E', 'R', 'A', 'N', 'R', 'G', 'F', 'G', 'I', 'V', 'F', 'S', 'N', 'G', 'K', 'K', 'W', 'K', 'E', 'I', 'R', 'R', 'F', 'S', 'L', 'M', 'T', 'L', 'R', 'N', 'F', 'G', 'M', 'G', 'K', 'R', 'S', 'I', 'E', 'D', 'R', 'V', 'Q', 'E', 'E', 'A', 'R', 'C', 'L', 'V', 'E', 'E', 'L', 'R', 'K', 'T', 'K', 'A', 'S', 'P', 'C', 'D', 'P', 'T', 'F', 'I', 'L', 'G', 'C', 'A', 'P', 'C', 'N', 'V', 'I', 'C', 'S', 'I', 'I', 'F', 'H', 'K', 'R', 'F', 'D', 'Y', 'K', 'D', 'Q', 'Q', 'F', 'L', 'N', 'L', 'M', 'E', 'K', 'L', 'N', 'E', 'N', 'I', 'K', 'I', 'L', 'S', 'S', 'P', 'W', 'I', 'Q', 'I', 'C', 'N', 'N', 'F', 'S', 'P', 'I', 'I', 'D', 'Y', 'F', 'P', 'G', 'T', 'H', 'N', 'K', 'L', 'L', 'K', 'N', 'V', 'A', 'F', 'M', 'K', 'S', 'Y', 'I', 'L', 'E', 'K', 'V', 'K', 'E', 'H', 'Q', 'E', 'S', 'M', 'D', 'M', 'N', 'N', 'P', 'Q', 'D', 'F', 'I', 'D', 'C', 'F', 'L', 'M', 'K', 'M', 'E', 'K', 'E', 'K', 'H', 'N', 'Q', 'P', 'S', 'E', 'F', 'T', 'I', 'E', 'S', 'L', 'E', 'N', 'T', 'A', 'V', 'D', 'L', 'F', 'G', 'A', 'G', 'T', 'E', 'T', 'T', 'S', 'T', 'T', 'L', 'R', 'Y', 'A', 'L', 'L', 'L', 'L', 'L', 'K', 'H', 'P', 'E', 'V', 'T', 'A', 'K', 'V', 'Q', 'E', 'E', 'I', 'E', 'R', 'V', 'I', 'G', 'R', 'N', 'R', 'S', 'P', 'C', 'M', 'Q', 'D', 'R', 'S', 'H', 'M', 'P', 'Y', 'T', 'D', 'A', 'V', 'V', 'H', 'E', 'V', 'Q', 'R', 'Y', 'I', 'D', 'L', 'L', 'P', 'T', 'S', 'L', 'P', 'H', 'A', 'V', 'T', 'C', 'D', 'I', 'K', 'F', 'R', 'N', 'Y', 'L', 'I', 'P', 'K', 'G', 'T', 'T', 'I', 'L', 'I', 'S', 'L', 'T', 'S', 'V', 'L', 'H', 'D', 'N', 'K', 'E', 'F', 'P', 'N', 'P', 'E', 'M', 'F', 'D', 'P', 'H', 'H', 'F', 'L', 'D', 'E', 'G', 'G', 'N', 'F', 'K', 'K', 'S', 'K', 'Y', 'F', 'M', 'P', 'F', 'S', 'A', 'G', 'K', 'R', 'I', 'C', 'V', 'G', 'E', 'A', 'L', 'A', 'G', 'M', 'E', 'L', 'F', 'L', 'F', 'L', 'T', 'S', 'I', 'L', 'Q', 'N', 'F', 'N', 'L', 'K', 'S', 'L', 'V', 'D', 'P', 'K', 'N', 'L', 'D', 'T', 'T', 'P', 'V', 'V', 'N', 'G', 'F', 'A', 'S', 'V', 'P', 'P', 'F', 'Y', 'Q', 'L', 'C', 'F', 'I', 'P', 'V']\n"
     ]
    }
   ],
   "source": [
    "# the protein variable stores a list of each amino acid\n",
    "print(protein)"
   ]
  },
  {
   "cell_type": "markdown",
   "metadata": {},
   "source": [
    "## Practice activity 2\n",
    "Based on what you have learned, analyze the sequence of amino acids obtained from the RNA protein and answer:\n",
    "1. How many amino acids does the protein have?\n",
    "2. What is the most repeated amino acid?\n",
    "3. Identify the nucleotide at which amino acid synthesis begins\n",
    "4. At which nucleotide does amino acid synthesis end?"
   ]
  },
  {
   "cell_type": "markdown",
   "metadata": {},
   "source": [
    "## Conclusions\n",
    "\n",
    "At this point in the practice, we use various commands and methods in order to obtain an amino acid sequence from a DNA `strings`, this being a process that can be used in nucleotide sequences of different sizes and from different organisms.\n",
    "\n",
    "Thus, to obtain the amino acids that make up the proteins, we used **arrangements** and **control structures**, where basic information on the amino acids of the cytochrome P450 protein was obtained, which we will use to classify them and obtain general information. of the enzyme from its subunits (practice 3)."
   ]
  }
 ],
 "metadata": {
  "kernelspec": {
   "display_name": "Python 3 (ipykernel)",
   "language": "python",
   "name": "python3"
  },
  "language_info": {
   "codemirror_mode": {
    "name": "ipython",
    "version": 3
   },
   "file_extension": ".py",
   "mimetype": "text/x-python",
   "name": "python",
   "nbconvert_exporter": "python",
   "pygments_lexer": "ipython3",
   "version": "3.8.17"
  }
 },
 "nbformat": 4,
 "nbformat_minor": 4
}
