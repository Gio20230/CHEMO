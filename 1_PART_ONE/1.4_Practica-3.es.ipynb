{
 "cells": [
  {
   "cell_type": "markdown",
   "metadata": {},
   "source": [
    "# Práctica 3: Proteínas y aminoácidos\n",
    "## Conceptos a trabajar\n",
    "La diversidad funcional expresada por las proteínas, parten de la variedad molecular y la secuencia especifica que las componen. Los aminoácidos son subunidades de bajo peso molecular, los cuales, cumplen una función específica en la estructura de la proteína, por sus propiedades fisicoquímicas, como, polaridad, acidez o basicidad, aromaticidad, tamaño, capacidad de formar enlaces o su reactividad química**<sup> 8 </sup>** (Fig. 5). Por tal razón, pueden ser clasificados de diversas formas:\n",
    "\n",
    "1.\tPor la polaridad, la capacidad de interaccionar con moléculas de agua, dividiéndose en:\n",
    "\n",
    "   * Apolares: hidrofóbicos.\n",
    "   * Polares: hidrofílicos.\n",
    "   * Ácidos: carga negativa a pH.\n",
    "   * Básicos: carga positiva a pH fisiológico.\n",
    "\n",
    "<img src=\"img/Figura6-es.jpg\" alt=\"aminoácidos2\" width=\"900\"/>\n",
    "\n",
    "*Figura 5. Estructura y clasificación de los aminoácidos por su polaridad. Figura adaptada de: [A Brief Guide to the Twenty Common Amino Acids (2014)](https://www.compoundchem.com/2014/09/16/aminoacids/)*\n",
    "\n",
    "2. Por la conformación de su cadena latera, se pueden agrupar en:\n",
    "   * Alifáticos\n",
    "   * Aromáticos\n",
    "   * Hidroxiáminoacidos\n",
    "   * Tioaminoácidos\n",
    "   * Iminoácidos\n",
    "   * Dicarboxílicos\n",
    "   * Amidas\n",
    "   * Dibásicos\n",
    "\n",
    "Conocer las propiedades fisicoquímicas de las proteínas, han facilitado la predicción de sus estructuras secundarias, es decir, entender el plegamiento de las proteínas para la formación tridimensional a partir de la cadena de aminoácidos que la forman, esto mediante los posibles enlaces que establecen entre las subunidades y entre proteínas."
   ]
  },
  {
   "cell_type": "markdown",
   "metadata": {},
   "source": [
    "## Planteamiento del problema\n",
    "Para dar solución al objetivo general de la práctica, analizaremos 2 propiedades fisicoquímicas de la enzima del citocromo P450, empleando como guía la información de las figuras 6 y 7. De esta forma, obtendremos la información básica de la proteína, la cual, facilitaría una predicción de su plegamiento mediante el uso de las ciencias ómicas. Las propiedades que vamos a evaluar son:\n",
    "* Polaridad\n",
    "* Acidez o basicidad\n",
    "\n",
    "Antes de comenzar, debemos crear un diccionario de las propiedades fisicoquímicas que queremos evaluar, con la clasificación de cada aminoácido. Donde, las `key` serían los aminoácidos y los `value` las propiedades."
   ]
  },
  {
   "cell_type": "code",
   "execution_count": null,
   "metadata": {},
   "outputs": [],
   "source": [
    "#Diccionario de aminoácidos para su clasificación\n",
    "propiedades= {\"A\": \"Apolar\", \"V\": \"Apolar\", \"L\": \"Apolar\", \"G\": \"Apolar\", \"I\": \"Apolar\", \"F\": \"Apolar\",\"W\": \"Apolar\", \"M\": \"Apolar\", \"P\": \"Apolar\", \"S\": \"Polar\", \"T\": \"Polar\", \"Y\": \"Polar\", \"N\": \"Polar\", \"Q\": \"Polar\", \"C\": \"Polar\", \"D\": \"Ácidos\", \"E\": \"Ácidos\", \"K\": \"Básicos\", \"R\": \"Básicos\",  \"H\": \"Básicos\"}\n",
    "\n",
    "print(f'Los aminoácidos son: \\n{list(propiedades.keys())}')\n",
    "print('-----------------')\n",
    "print(f'Las propiedades son: \\n{set(propiedades.values())}')\n",
    "# se utiliza un conjunto a partir de la lista para que las propiedades no se repitan"
   ]
  },
  {
   "cell_type": "markdown",
   "metadata": {},
   "source": [
    "A continuación, vamos a crear la función `total_elements` para obtener el número de nucleótidos polares, apolares, ácidos y básicos presentes en la proteína.\n",
    "Se utilizará el módulo `collections.Counter` el cual organiza los elementos de una lista en un `Counter` que dice cuantas veces se repite cada elemento.\n",
    "El objeto `Counter` se puede comvertir luego en un `diccionario` donde podemos ver la infromación.\n",
    "\n",
    "`Counter` también tiene métodos útilies, por ejemplo: `.most_common(n)`, el cual retorna el n-elemento más común del `Counter`.\n",
    "\n",
    "mayor información https://docs.python.org/3/library/collections.html"
   ]
  },
  {
   "cell_type": "code",
   "execution_count": null,
   "metadata": {},
   "outputs": [],
   "source": [
    "def total_elements(lista_proteina):\n",
    "    # Se importa el módulo a utilziar\n",
    "    from collections import Counter\n",
    "    # Se crea una lista vaçia donde se va a guardar la propiedad de cada aminoácido\n",
    "    list_propiedades_proteina = list()\n",
    "    contador = list()\n",
    "\n",
    "    # Se va a iterar por cada aminoácido de la proteína\n",
    "    for element in lista_proteina:\n",
    "\n",
    "        # Se busca la propiedad del aminoácido y se guarda en la lista (.append())\n",
    "        list_propiedades_proteina.append(propiedades[element])\n",
    "        # Se llama al método Counter para organizar los datos\n",
    "        contador = Counter(list_propiedades_proteina)\n",
    "    print(f'Resumen de propiedades de la proteína:')\n",
    "    print(f'Total elementos: {len(lista_proteina)}')\n",
    "    print(f'Frecuenca de las propiedades: {dict(contador)}')\n",
    "    print(f'Propiedad más común: {contador.most_common(1)[0]}')\n",
    "\n",
    "    return None\n"
   ]
  },
  {
   "cell_type": "code",
   "execution_count": null,
   "metadata": {},
   "outputs": [],
   "source": [
    "# Proteína encontrada en la actividad 2\n",
    "print(proteina)\n",
    "print('-----------')\n",
    "total_elements(proteina)"
   ]
  },
  {
   "cell_type": "markdown",
   "metadata": {},
   "source": [
    "Con esta información, ya conocemos la longitud de la secuencia de aminoácidos y las propiedades fisicoquímicas de su estructura, la cual cuenta con regiones tanto polares, como apolares, siendo esta última la más común, lo que nos permite tener una aproximación del carácter de los grupos funcionales con los que es tiende a hacer reacción."
   ]
  },
  {
   "cell_type": "markdown",
   "metadata": {},
   "source": [
    "## Actividad practica 3\n",
    "Teniendo en cuenta lo revisado en este Notebook introductorio y con ayuda de la bibliografía, conteste:\n",
    "1.\t¿Se podrían clasificar los aminoácidos de una forma diferente?\n",
    "2.\tRealice una nueva clasificación de la proteína basándose en la conformación de la cadena latera\n",
    "3.\tQue diferencia presenta la secuencia de aminoácidos final en comparación con la secuencia de CYP2C19 (NM_000769.4) una secuencia de la misma familia de proteínas del citocromo P450 que presenta un polimorfismo (mutación) en la secuencia de aminoácidos."
   ]
  },
  {
   "cell_type": "markdown",
   "metadata": {},
   "source": [
    "## Conclusiones\n",
    "En este tutorial, comprendido los usos de las herramientas básicas de Python empleadas en las practicas bioinformáticas, que van desde el manejo y recopilación de datos, hasta el uso de comandos y métodos para su manipulación y análisis. Esto se realizó mediante dos fases, una teórica y una práctica, donde realizamos la expresión del material genético de una proteína desde una secuencia de ADN, hasta obtener los correspondientes aminoácidos y sus propiedades.\n",
    "En los próximos tutoriales, explicaremos más herramientas de Python utilizadas en la recopilación y organización de datos obtenidos de recursos electrónicos, implementando diferentes librerías y su desarrollo.\n"
   ]
  }
 ],
 "metadata": {
  "kernelspec": {
   "display_name": "Python 3 (ipykernel)",
   "language": "python",
   "name": "python3"
  },
  "language_info": {
   "codemirror_mode": {
    "name": "ipython",
    "version": 3
   },
   "file_extension": ".py",
   "mimetype": "text/x-python",
   "name": "python",
   "nbconvert_exporter": "python",
   "pygments_lexer": "ipython3",
   "version": "3.8.17"
  }
 },
 "nbformat": 4,
 "nbformat_minor": 4
}
