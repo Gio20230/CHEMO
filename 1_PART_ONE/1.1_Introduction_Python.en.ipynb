{
 "cells": [
  {
   "cell_type": "markdown",
   "metadata": {},
   "source": [
    "# Introduction to the Python programming language\n",
    "\n",
    "The \"Collaborative Chemoinformatics Open Platform\" (CHEMO) course is an autonomous learning platform aimed at students and researchers interested in the development of biocomputing tools, from Python, which is the most widely used programming language. With advances in omic sciences and new technologies, it has become necessary to acquire computer skills applied to science and the management of biological databases.\n",
    "\n",
    "Welcome to the introduction of the course CHEMO, in the first part you will find the fundamentals to understand the Python programming language, it is focused on the manipulation, extraction and analysis of data from biological databases (omics) , starting from the basic concepts of programming and its applications, with examples based on manipulation of DNA sequences.\n",
    "\n",
    "## Contents\n",
    "\n",
    "In this first *Python_basic* Jupyter notebook you will learn:\n",
    "\n",
    "1. Introduction to Python\n",
    "2. Variables\n",
    "3. Types of data\n",
    "4. Types of arrangements\n",
    "5. Upload files\n",
    "6. String manipulation\n",
    "7. Flow control structures\n",
    "8. Functions"
   ]
  },
  {
   "cell_type": "markdown",
   "metadata": {},
   "source": [
    "# Learning outcomes\n",
    "\n",
    "It is expected that by the end of this notebook the user will be able to:\n",
    "\n",
    "1. Understand the basics of the Python programming language.\n",
    "2. Understand variable formats:\n",
    "    - What are they?\n",
    "    - The assignments\n",
    "    - The basic operations\n",
    "3. Understand the uses and types of data:\n",
    "    - Numerical\n",
    "    - Boolean\n",
    "    - Text\n",
    "    - Arrangements\n",
    "4. Identify the types of arrangements and their use:\n",
    "    - Lists\n",
    "    - tuples\n",
    "    - Sets\n",
    "    - Dictionaries\n",
    "5. Load and modify files in different formats and sizes, view them, analyze them, read and write over them.\n",
    "6. Manage basic flow control structures:\n",
    "    - Conditionals\n",
    "    - Iterations\n",
    "7. Understand the Python tools that can be used in biology."
   ]
  },
  {
   "cell_type": "markdown",
   "metadata": {},
   "source": [
    "# Theory: basic concepts\n",
    "\n",
    "## Variables\n",
    "\n",
    "A variable is a reference to a value in the computer's memory, where different **types of data** can be stored. Values ​​are usually assigned to variable names, an example of this is: `text = \"hello world\"`, `text` is the name of the variable and refers to `hello world` which would be the value of the variable, and in the previous example the operator `=` was used, then the operation that was performed was assignment. This is known as an assignment expression.\n",
    "\n",
    "It is usually the software developer who assigns a variable name that is easy to remember and use in the program. It is important to know that the name of the variables cannot begin with a number and they are case sensitive, and spaces cannot be included.\n",
    "\n",
    "The following table shows some of the data that can be worked on in Python:\n",
    "\n",
    "### Native Python data types\n",
    "\n",
    "| Name in English | Type name | Category | Description | Example |\n",
    "| :-------------------- | :--------- | :------------- | :-------------------------------------------- |:--- ------------------------------------------|\n",
    "| integer | `int` | Numeric | Positive/negative integers | 1, 2, ..., n |\n",
    "| floating point number | `float` | Numeric | Real numbers in decimal form | 1.0, 1.1, 1.22, 1.333, ..., n |\n",
    "| boolean | `bool` | logical | True or False | True, False |\n",
    "| string | `str` | Chain | Text | 'Hello world...' |\n",
    "| list | `list` | sequence | An ordered and mutable collection of objects | [0, 1, 2, 3, ..., n] |\n",
    "| tuple | `tuple` | sequence | An immutable, ordered collection of objects | (1, 2, 3, ..., n) |\n",
    "| dictionary | `dict` | Map | Object Pair Map | { \"First Name\": \"Doe\", 'Last Name: \"Laden\" } |\n",
    "| none | `NoneType` | null | Represents no value | `None` |\n",
    "\n",
    "(_Note: Variable names cannot be equal to python_ reserved words)"
   ]
  },
  {
   "cell_type": "markdown",
   "metadata": {},
   "source": [
    "## Type of data"
   ]
  },
  {
   "cell_type": "markdown",
   "metadata": {},
   "source": [
    "### Data type: numeric\n",
    "\n",
    "There are three types of numeric data, here we will generally work with two of them: `integers` (`int`) and `Floating point` (`float`). The `type()` function helps us determine the type of an object in Python\n",
    "\n",
    "* **Integers (int)**: this data type includes all integers, since this set is infinite, the `Python` language is limited by the available memory capacity.\n",
    "* **Floating point (float)**: This type of data is used to represent most real numbers without problems. `Float` values are stored in a very particular way, called floating point representation, which is explained in detail in [the IEEE 754 standard](https://en.wikipedia.org/wiki/IEEE_754) Thus, if an integer is defined with a decimal point, for example: 1.0, it will be stored as a float.\n"
   ]
  },
  {
   "cell_type": "code",
   "execution_count": 1,
   "metadata": {},
   "outputs": [
    {
     "name": "stdout",
     "output_type": "stream",
     "text": [
      "The type of the variable integer_1 is: <class 'int'>\n",
      "The type of the variable float_1 is: <class 'tuple'>\n",
      "The type of float_2 is: <class 'float'>\n"
     ]
    }
   ],
   "source": [
    "# Example Integer\n",
    "integer_1 = 12361\n",
    "float_1 = 123,215\n",
    "float_2 = 1236.0\n",
    "\n",
    "print(\"The type of the variable integer_1 is: \" + str(type(integer_1)))\n",
    "print(\"The type of the variable float_1 is: \" + str(type(float_1)))\n",
    "print(\"The type of float_2 is: \" + str(type(float_2)))"
   ]
  },
  {
   "cell_type": "markdown",
   "metadata": {},
   "source": [
    "#### Arithmetic operations\n",
    "\n",
    "| Symbol | Description |\n",
    "|:-------:|:---------------:|\n",
    "| `+` | addition |\n",
    "| `-` | subtraction |\n",
    "| `*` | multiplication |\n",
    "| `/` | division |\n",
    "| `**` | power |\n",
    "| `//` | integer division |\n",
    "| `%` | module |\n",
    "\n",
    "*Note*: From now on we will work with `f-strings` that allow you to make short lines of text with built-in variables. Más información en: [f-strings](https://platzi.com/blog/f-strings-en-python/?utm_source=google&utm_medium=cpc&utm_campaign=12915366154&utm_adgroup=&utm_content=&gclid=Cj0KCQjw3IqSBhCoARIsAMBkTb2p5ZOBtPtlGG2B7P0qrtnp8Wwvbgd2OY_F3_P-6OOU1YE_QHHCMaYaAnTaEALw_wcB&gclsrc=aw.ds), [f-strings](https://peps.python.org/pep-0498/)"
   ]
  },
  {
   "cell_type": "code",
   "execution_count": 2,
   "metadata": {},
   "outputs": [
    {
     "name": "stdout",
     "output_type": "stream",
     "text": [
      "The sum of two integers is an integer, for example: 15\n"
     ]
    }
   ],
   "source": [
    "# Example operations with integers\n",
    "x = 10\n",
    "y = 5\n",
    "\n",
    "print(f'The sum of two integers is an integer, for example: {x + y}')"
   ]
  },
  {
   "cell_type": "code",
   "execution_count": 3,
   "metadata": {},
   "outputs": [
    {
     "name": "stdout",
     "output_type": "stream",
     "text": [
      "The sum of two float numbers results in a float number, for example: 15.0\n"
     ]
    }
   ],
   "source": [
    "# Example operations with real numbers in decimal form\n",
    "x = 10.0\n",
    "y = 5.0\n",
    "\n",
    "print(f'The sum of two float numbers results in a float number, for example: {x + y}')"
   ]
  },
  {
   "cell_type": "code",
   "execution_count": 4,
   "metadata": {},
   "outputs": [
    {
     "name": "stdout",
     "output_type": "stream",
     "text": [
      "The sum of an integer and a float is a float, for example: 15.0\n"
     ]
    }
   ],
   "source": [
    "# Example operations with real numbers and integers\n",
    "x = 10\n",
    "y = 5.0\n",
    "\n",
    "# Note that the Python interpreter gives importance to float types over int types.\n",
    "print(f'The sum of an integer and a float is a float, for example: {x + y}')"
   ]
  },
  {
   "cell_type": "markdown",
   "metadata": {},
   "source": [
    "\n",
    "In Jupyther (interactive version of Python) notebooks, the last line of the cell will be displayed automatically. This means that it is not always necessary to use the print() function"
   ]
  },
  {
   "cell_type": "code",
   "execution_count": 5,
   "metadata": {},
   "outputs": [
    {
     "data": {
      "text/plain": [
       "35"
      ]
     },
     "execution_count": 5,
     "metadata": {},
     "output_type": "execute_result"
    }
   ],
   "source": [
    "#Example\n",
    "x = 15\n",
    "y = 20\n",
    "\n",
    "x + y # The operation of this cell is displayed automatically"
   ]
  },
  {
   "cell_type": "markdown",
   "metadata": {},
   "source": [
    "### Data type: Boolean (bool)\n",
    "\n",
    "This data type (`bool`) has only two values: true: `True` or false: `False`. It can be used for logical operators where it is necessary to evaluate if a statement is true or not."
   ]
  },
  {
   "cell_type": "markdown",
   "metadata": {},
   "source": [
    "### Data type: text (String)\n",
    "\n",
    "Strings are denoted as <code>str</code> and are a sequence of symbols that can include uppercase and lowercase letters, numbers, punctuation marks, and spaces.\n",
    "\n",
    "There are three ways to represent this type of data, any of them is valid and does not affect the code:\n",
    "* **Enter single quotes:** 'Donepezil'\n",
    "* **Enter double quotes:** \"Donepezil\"\n",
    "* **Enter three single quotes or three double quotes:** '''Donepezil''' or \"\"\"Donepezil\"\"\" *(Mainly used to define multi-line strings)*"
   ]
  },
  {
   "cell_type": "code",
   "execution_count": 6,
   "metadata": {},
   "outputs": [
    {
     "name": "stdout",
     "output_type": "stream",
     "text": [
      "text: Hello world\n"
     ]
    }
   ],
   "source": [
    "# Example of a variable of type string\n",
    "text = 'Hello world'\n",
    "print(f'text: {text}')"
   ]
  },
  {
   "cell_type": "code",
   "execution_count": 7,
   "metadata": {},
   "outputs": [
    {
     "name": "stdout",
     "output_type": "stream",
     "text": [
      "Text - Double Quotes: Hello world, double quotes\n"
     ]
    }
   ],
   "source": [
    "# Example of definitions of string type variables, with single, double and triple quotes.\n",
    "text = \"Hello world, double quotes\"\n",
    "print(f'Text - Double Quotes: {text}')"
   ]
  },
  {
   "cell_type": "code",
   "execution_count": 8,
   "metadata": {},
   "outputs": [
    {
     "name": "stdout",
     "output_type": "stream",
     "text": [
      "Text - Single Quotes: Hello World, single quotes\n"
     ]
    }
   ],
   "source": [
    "text = 'Hello World, single quotes'\n",
    "print(f'Text - Single Quotes: {text}')"
   ]
  },
  {
   "cell_type": "code",
   "execution_count": 9,
   "metadata": {},
   "outputs": [
    {
     "name": "stdout",
     "output_type": "stream",
     "text": [
      "Text - Triple Double Quote: Hello world,\n",
      "triple double quote\n"
     ]
    }
   ],
   "source": [
    "# Triple quotes preserve separators (spaces, newlines)\n",
    "text = \"\"\"Hello world,\n",
    "triple double quote\"\"\"\n",
    "print(f'Text - Triple Double Quote: {text}')"
   ]
  },
  {
   "cell_type": "code",
   "execution_count": 10,
   "metadata": {},
   "outputs": [
    {
     "name": "stdout",
     "output_type": "stream",
     "text": [
      "Text - Triple Single Quote: Hello world,\n",
      "triple single quote\n"
     ]
    }
   ],
   "source": [
    "text = '''Hello world,\n",
    "triple single quote'''\n",
    "print(f'Text - Triple Single Quote: {text}')"
   ]
  },
  {
   "cell_type": "markdown",
   "metadata": {},
   "source": [
    "If the text is a very long string, it is possible to write it in multiline mode, as shown below:"
   ]
  },
  {
   "cell_type": "code",
   "execution_count": 11,
   "metadata": {},
   "outputs": [
    {
     "name": "stdout",
     "output_type": "stream",
     "text": [
      "Multiline text \n",
      "This text is multiline\n",
      "because it has different lines\n",
      "for this it is printed\n",
      "\n"
     ]
    }
   ],
   "source": [
    "multiline_text = \"\"\"This text is multiline\n",
    "because it has different lines\n",
    "for this it is printed\n",
    "\"\"\"\n",
    "# \\n is a line separator\n",
    "print(f'Multiline text \\n{multiline_text}')"
   ]
  },
  {
   "cell_type": "markdown",
   "metadata": {},
   "source": [
    "#### Indexing"
   ]
  },
  {
   "cell_type": "markdown",
   "metadata": {},
   "source": [
    "One of the easiest ways to manipulate a string is through the indexing method:\n",
    "\n",
    "A text is similar to a list, where each element has an _index_, in `Python` the first element has zero index. This way you can make use of indexing to manipulate parts of the text."
   ]
  },
  {
   "cell_type": "code",
   "execution_count": 12,
   "metadata": {},
   "outputs": [
    {
     "name": "stdout",
     "output_type": "stream",
     "text": [
      "Extract a word from text (text[6:9]): o b\n"
     ]
    }
   ],
   "source": [
    "text = \"Text to be manipulated\"\n",
    "\n",
    "### EXAMPLE 1\n",
    "print(f'Extract a word from text (text[6:9]): {text[6:9]}') # from beginning to end"
   ]
  },
  {
   "cell_type": "code",
   "execution_count": 13,
   "metadata": {},
   "outputs": [
    {
     "name": "stdout",
     "output_type": "stream",
     "text": [
      "Extract the word 'want' from the text by traversing the string from front to back: nipula\n",
      "Extract the word 'want' from the text by traversing the string from back to front: o be m\n"
     ]
    }
   ],
   "source": [
    "#### EXAMPLE 2\n",
    "print(f'Extract the word \\'want\\' from the text by traversing the string from front to back: {text[13:19]}') # from beginning to end\n",
    "print(f'Extract the word \\'want\\' from the text by traversing the string from back to front: {text[-16:-10]}') # from the end to the beginning"
   ]
  },
  {
   "cell_type": "markdown",
   "metadata": {},
   "source": [
    "It is even possible to do logic checks with strings as seen below:"
   ]
  },
  {
   "cell_type": "code",
   "execution_count": 14,
   "metadata": {},
   "outputs": [
    {
     "name": "stdout",
     "output_type": "stream",
     "text": [
      "Could it be that 'for' is in text?\n",
      "False\n",
      "\n",
      "Does it 'want' to be in text?\n",
      "False\n"
     ]
    }
   ],
   "source": [
    "text = \"Text to be manipulated\"\n",
    "\n",
    "### EXAMPLE 1\n",
    "print(f'Could it be that \\'for\\' is in text?')\n",
    "print(\"for\" in text)\n",
    "\n",
    "#### EXAMPLE 2\n",
    "\n",
    "print(f'\\nDoes it \\'want\\' to be in text?')\n",
    "print(\"want\" in text)"
   ]
  },
  {
   "cell_type": "markdown",
   "metadata": {},
   "source": [
    "#### String Methods\n",
    "\n",
    "There are several operators in the Python language that allow you to work with String data using operations that return the values ​​without changing the string. Among which are:\n",
    "* <code>.replace() </code>: Replaces a specific value in the string with another.\n",
    "* <code>.split()</code> - Splits the string into substrings based on the parameter set. Returns a list of items.\n",
    "* <code>.find()</code>: Searches the string for a specific value and shows the position in which it is found. Returns the index (position) of the searched element"
   ]
  },
  {
   "cell_type": "code",
   "execution_count": 15,
   "metadata": {},
   "outputs": [
    {
     "name": "stdout",
     "output_type": "stream",
     "text": [
      "Hello world. This is sample text\n"
     ]
    },
    {
     "data": {
      "text/plain": [
       "'Hi world. This is sample text'"
      ]
     },
     "execution_count": 15,
     "metadata": {},
     "output_type": "execute_result"
    }
   ],
   "source": [
    "text = \"Hello world. This is sample text\"\n",
    "print(text)\n",
    "\n",
    "# replace a word\n",
    "text.replace(\"Hello\", \"Hi\")"
   ]
  },
  {
   "cell_type": "code",
   "execution_count": 16,
   "metadata": {},
   "outputs": [
    {
     "data": {
      "text/plain": [
       "['Hello', 'world.', 'This', 'is', 'sample', 'text']"
      ]
     },
     "execution_count": 16,
     "metadata": {},
     "output_type": "execute_result"
    }
   ],
   "source": [
    "# Separate the phrase by spaces\n",
    "split_list = text.split(\" \")\n",
    "split_list"
   ]
  },
  {
   "cell_type": "code",
   "execution_count": 17,
   "metadata": {},
   "outputs": [
    {
     "data": {
      "text/plain": [
       "6"
      ]
     },
     "execution_count": 17,
     "metadata": {},
     "output_type": "execute_result"
    }
   ],
   "source": [
    "# Find the position of the word 'world' in text\n",
    "text.find(\"world\")"
   ]
  },
  {
   "cell_type": "markdown",
   "metadata": {},
   "source": [
    "### Data type: Arrays\n",
    "\n",
    "Lists, tuples, dictionaries, and arrays are used to store multiple items in the same variable.\n",
    "* **Lists (list):** the elements have a modifiable order, modifications can be made and there may be duplicates, they are also indexed\n",
    "* **Tuples (tuple):** the elements have an order and cannot be changed, added or deleted once the tuple is created, they can also make duplicates\n",
    "* **Sets (set):** the elements do not have an order, they cannot be changed, added or deleted once the set is created, they are not indexed nor can there be duplicates\n",
    "* **Dictionaries (dict):** are used to store data values ​​in key:value pairs, elements have a non-modifiable order, modifications can be made and duplicates are not allowed"
   ]
  },
  {
   "cell_type": "markdown",
   "metadata": {},
   "source": [
    "#### Lists\n",
    "\n",
    "Lists are used to store multiple items in a single variable. The elements or data that are stored can be of any type. The following are the characteristics of this type of data:\n",
    "* The elements of the lists **are ordered**, that is, they have a defined order that will not change because when adding new elements to the list they will be placed at the end of it.\n",
    "* Items in lists are **modifiable**, meaning you can change, add, and remove items after the list has been created.\n",
    "* Lists **allow duplicates**, that is, there can be elements with the same value."
   ]
  },
  {
   "cell_type": "code",
   "execution_count": 18,
   "metadata": {},
   "outputs": [
    {
     "name": "stdout",
     "output_type": "stream",
     "text": [
      "The list of integers from 0 to 10 is:\n"
     ]
    },
    {
     "data": {
      "text/plain": [
       "[0, 1, 2, 3, 4, 5, 6, 7, 8, 9, 10]"
      ]
     },
     "execution_count": 18,
     "metadata": {},
     "output_type": "execute_result"
    }
   ],
   "source": [
    "# Store in the num variable an ordered list of elements from 0 to 10\n",
    "num = [0, 1, 2, 3, 4, 5, 6, 7, 8, 9, 10]\n",
    "print(f'The list of integers from 0 to 10 is:')\n",
    "num"
   ]
  },
  {
   "cell_type": "code",
   "execution_count": 19,
   "metadata": {},
   "outputs": [
    {
     "data": {
      "text/plain": [
       "[0, 1, 2, 3, 4, 5, 6, 7, 8, 9, 10]"
      ]
     },
     "execution_count": 19,
     "metadata": {},
     "output_type": "execute_result"
    }
   ],
   "source": [
    "# to write the same list you can use the range function\n",
    "num = list(range(11))\n",
    "num"
   ]
  },
  {
   "cell_type": "code",
   "execution_count": 20,
   "metadata": {},
   "outputs": [
    {
     "name": "stdout",
     "output_type": "stream",
     "text": [
      "The list is:\n"
     ]
    },
    {
     "data": {
      "text/plain": [
       "[1, '2', 3, '4', 5, '6', 7, 8, '9', 10]"
      ]
     },
     "execution_count": 20,
     "metadata": {},
     "output_type": "execute_result"
    }
   ],
   "source": [
    "num = [1, \"2\", 3, \"4\", 5, \"6\", 7, 8, \"9\", 10]\n",
    "# Note how string elements are enclosed in quotes\n",
    "print(f'The list is:')\n",
    "num"
   ]
  },
  {
   "cell_type": "markdown",
   "metadata": {},
   "source": [
    "In the previous example you can see the way in which a list is written:\n",
    "* It is delimited by square brackets `[ ]`\n",
    "* Each element is separated by commas `,`\n",
    "\n",
    "Since the elements of the lists are ordered, the index of an element can be known with the function <code>index()</code> which returns the index of the element in the first occurrence that it finds from index 0 regardless of how many times is the element inside the list."
   ]
  },
  {
   "cell_type": "markdown",
   "metadata": {},
   "source": [
    "##### Indexing \n",
    "Using the same technique to manipulate string variables, the indexing method can manipulate lists in a similar way:"
   ]
  },
  {
   "cell_type": "code",
   "execution_count": 21,
   "metadata": {},
   "outputs": [
    {
     "name": "stdout",
     "output_type": "stream",
     "text": [
      "list is:\n",
      "[0, 1, 2, 3, 4, 5, 6, 7, 8, 9, 10]\n",
      "---------------------\n",
      "In position 0 of the list is the element (first element):\n",
      "0\n",
      "---------------------\n",
      "The first two elements of the list are:\n",
      "[0, 1]\n",
      "---------------------\n",
      "The last two elements of the list are:\n",
      "[9, 10]\n"
     ]
    }
   ],
   "source": [
    "# num: an ordered list of elements from 0-10\n",
    "num = [0, 1, 2, 3, 4, 5, 6, 7, 8, 9, 10]\n",
    "print('list is:')\n",
    "print(num)\n",
    "print('---------------------')\n",
    "\n",
    "#### EXAMPLE 1\n",
    "print(f'In position 0 of the list is the element (first element):')\n",
    "print(num[0])\n",
    "print('---------------------')\n",
    "\n",
    "#### EXAMPLE 2\n",
    "print(f'The first two elements of the list are:')\n",
    "print(num[0:2])\n",
    "print('---------------------')\n",
    "\n",
    "#### EXAMPLE 3\n",
    "print(f'The last two elements of the list are:')\n",
    "print(num[-2:])"
   ]
  },
  {
   "cell_type": "markdown",
   "metadata": {},
   "source": [
    "##### List Methods\n",
    "Sometimes it is necessary to perform some basic operations on the lists, some of the existing methods are:\n",
    "\n",
    "* <code>len()</code>\n",
    "* <code>.index() </code>\n",
    "* <code>.pop() </code>\n",
    "* <code>.append()</code>\n",
    "* <code>.remove() </code>\n",
    "* <code>.reverse()</code>"
   ]
  },
  {
   "cell_type": "markdown",
   "metadata": {},
   "source": [
    "###### .len() Method\n",
    "With `.len(<list>)` you can determine the number of elements in the list:"
   ]
  },
  {
   "cell_type": "code",
   "execution_count": 22,
   "metadata": {},
   "outputs": [
    {
     "name": "stdout",
     "output_type": "stream",
     "text": [
      "Number of elements in the list:\n"
     ]
    },
    {
     "data": {
      "text/plain": [
       "11"
      ]
     },
     "execution_count": 22,
     "metadata": {},
     "output_type": "execute_result"
    }
   ],
   "source": [
    "num = [0, 1, 2, 3, 4, 5, 6, 7, 8, 9, 10]\n",
    "print('Number of elements in the list:')\n",
    "len(num)"
   ]
  },
  {
   "cell_type": "markdown",
   "metadata": {},
   "source": [
    "###### .index() Method\n",
    "With `.index(<element>)` you can find the position or index of an element in the list:"
   ]
  },
  {
   "cell_type": "code",
   "execution_count": 23,
   "metadata": {},
   "outputs": [
    {
     "name": "stdout",
     "output_type": "stream",
     "text": [
      "What is the position of number 5?\n"
     ]
    },
    {
     "data": {
      "text/plain": [
       "5"
      ]
     },
     "execution_count": 23,
     "metadata": {},
     "output_type": "execute_result"
    }
   ],
   "source": [
    "# It is possible to find out the position of an element, even the value in a place of the list\n",
    "print(f'What is the position of number 5?')\n",
    "num.index(5)"
   ]
  },
  {
   "cell_type": "markdown",
   "metadata": {},
   "source": [
    "###### .pop() method\n",
    "With `.pop(<index>)`. An item can be removed from the list and returned.\n",
    "- In case the index is not specified, the last element is removed\n",
    "\n",
    "This method **overwrites** the list:"
   ]
  },
  {
   "cell_type": "code",
   "execution_count": 24,
   "metadata": {},
   "outputs": [
    {
     "name": "stdout",
     "output_type": "stream",
     "text": [
      "Remove the last item in the list\n",
      "10\n",
      "[0, 1, 2, 3, 4, 5, 6, 7, 8, 9]\n"
     ]
    }
   ],
   "source": [
    "print('Remove the last item in the list')\n",
    "print(num.pop())\n",
    "print(num)"
   ]
  },
  {
   "cell_type": "markdown",
   "metadata": {},
   "source": [
    "###### .append() Method\n",
    "`.append(<element>)` adds the element to the end of the list. This method __overwrites__ the list."
   ]
  },
  {
   "cell_type": "code",
   "execution_count": 25,
   "metadata": {},
   "outputs": [
    {
     "name": "stdout",
     "output_type": "stream",
     "text": [
      "The list now with element 6 at the end:\n",
      "[0, 1, 2, 3, 4, 5, 6, 7, 8, 9, 6]\n"
     ]
    }
   ],
   "source": [
    "num.append(6)\n",
    "print(f'The list now with element 6 at the end:')\n",
    "print(num)"
   ]
  },
  {
   "cell_type": "markdown",
   "metadata": {},
   "source": [
    "###### .remove() Method\n",
    "With `.remove(<element>)` an element is removed from a list, its element must be indicated:\n",
    "- In case of having several identical elements, only the first one is eliminated\n",
    "- If the element is not in the list, return a 'ValueError' error\n",
    "\n",
    "This method __overwrites__ the list."
   ]
  },
  {
   "cell_type": "code",
   "execution_count": 26,
   "metadata": {},
   "outputs": [
    {
     "name": "stdout",
     "output_type": "stream",
     "text": [
      "The list now without the 2:\n",
      "[0, 1, 3, 4, 5, 6, 7, 8, 9, 6]\n"
     ]
    }
   ],
   "source": [
    "num.remove(2)\n",
    "print(f'The list now without the 2:')\n",
    "print(num)"
   ]
  },
  {
   "cell_type": "markdown",
   "metadata": {},
   "source": [
    "###### .reverse() Method\n",
    "With `.reverse()` the list is reordered, from the last element to the first. This method __overwrites__ the list."
   ]
  },
  {
   "cell_type": "code",
   "execution_count": 27,
   "metadata": {},
   "outputs": [
    {
     "name": "stdout",
     "output_type": "stream",
     "text": [
      "List in reverse order\n",
      "[10, 9, 8, 7, 6, 5, 4, 3, 2, 1, 0]\n"
     ]
    }
   ],
   "source": [
    "# recreate num\n",
    "num = [0, 1, 2, 3, 4, 5, 6, 7, 8, 9, 10]\n",
    "num.reverse() # Change the order\n",
    "print('List in reverse order')\n",
    "print(num)"
   ]
  },
  {
   "cell_type": "markdown",
   "metadata": {},
   "source": [
    "#### Tuples\n",
    "Tuples are used to store multiple items in a single variable. The elements or data that are stored can be of any type. The following are the characteristics of this type of data:\n",
    "* The elements of the tuples **are ordered**, that is, they have a defined order that will not change because when adding new elements to the list they will be placed at the end of it.\n",
    "* Elements in tuples **are immutable**, that is, elements cannot be changed, added, and removed after the tuple has been created.\n",
    "* Tuples **allow duplicates**, that is, there can be elements with the same value."
   ]
  },
  {
   "cell_type": "code",
   "execution_count": 28,
   "metadata": {},
   "outputs": [
    {
     "name": "stdout",
     "output_type": "stream",
     "text": [
      "The tuple of elements from 1 to 10 is:\n",
      "(1, 2, 3, 4, 5, 6, 7, 8, 9, 10)\n"
     ]
    }
   ],
   "source": [
    "# Let tuple_num be an ordered tuple of elements from 1 to 10\n",
    "tuple_num = (1, 2, 3, 4, 5, 6, 7, 8, 9, 10)\n",
    "\n",
    "print(f'The tuple of elements from 1 to 10 is:')\n",
    "print(tuple_num)"
   ]
  },
  {
   "cell_type": "markdown",
   "metadata": {},
   "source": [
    "A tuple is immutable, so new values ​​cannot be assigned to its elements."
   ]
  },
  {
   "cell_type": "code",
   "execution_count": 29,
   "metadata": {},
   "outputs": [],
   "source": [
    "# tuple_num[3] = 12"
   ]
  },
  {
   "cell_type": "markdown",
   "metadata": {},
   "source": [
    "Tuple elements can be accessed in the same way as a list"
   ]
  },
  {
   "cell_type": "code",
   "execution_count": 30,
   "metadata": {},
   "outputs": [
    {
     "name": "stdout",
     "output_type": "stream",
     "text": [
      "Tuple of elements\n",
      "(1, 2, 3, 4, 5, 6, 7, 8, 9, 10)\n",
      "---------------------\n",
      "First element (zero position)\n",
      "1\n",
      "---------------------\n",
      "Last four items\n",
      "(7, 8, 9, 10)\n",
      "---------------------\n",
      "tuple of elements from position two to five\n",
      "(3, 4, 5)\n",
      "---------------------\n"
     ]
    }
   ],
   "source": [
    "tuple_num = (1, 2, 3, 4, 5, 6, 7, 8, 9, 10)\n",
    "print('Tuple of elements')\n",
    "print(tuple_num)\n",
    "print('---------------------')\n",
    "\n",
    "#### EXAMPLE 1\n",
    "print('First element (zero position)')\n",
    "print(tuple_num[0])\n",
    "print('---------------------')\n",
    "\n",
    "#### EXAMPLE 2\n",
    "print('Last four items')\n",
    "print(tuple_num[-4:])\n",
    "print('---------------------')\n",
    "\n",
    "#### EXAMPLE 3\n",
    "print('tuple of elements from position two to five')\n",
    "print(tuple_num[2:5])\n",
    "print('---------------------')"
   ]
  },
  {
   "cell_type": "markdown",
   "metadata": {},
   "source": [
    "#### Sets\n",
    "Sets are used to store multiple items in a single variable. The elements or data that are stored can be of any type. The following are the characteristics of this type of data:\n",
    "* Elements in arrays are **unordered**, that is, they do not have a defined order since the elements may appear in a different order each time you use them and cannot be referenced by index or key.\n",
    "* Elements in arrays **are immutable**, ie no elements can be changed after the array has been created.\n",
    "* Sets **do not allow duplicates**, that is, there cannot be elements with the same value."
   ]
  },
  {
   "cell_type": "code",
   "execution_count": 31,
   "metadata": {},
   "outputs": [
    {
     "name": "stdout",
     "output_type": "stream",
     "text": [
      "The set of elements is:\n"
     ]
    },
    {
     "data": {
      "text/plain": [
       "{0, 1, 2, 3, 4, 5, 6, 7, 8, 9, 10}"
      ]
     },
     "execution_count": 31,
     "metadata": {},
     "output_type": "execute_result"
    }
   ],
   "source": [
    "# Set of elements with some repetitions\n",
    "set_num_1 = {1, 2, 1, 2, 3, 5, 8, 1, 3, 9, 10, 2, 3, 4, 5, 6, 7, 8, 1, 0}\n",
    "\n",
    "print('The set of elements is:')\n",
    "set_num_1"
   ]
  },
  {
   "cell_type": "markdown",
   "metadata": {},
   "source": [
    "#### Dictionaries\n",
    "Dictionaries are a special data structure, which gives us a bit more flexibility due to their nature of a list of objects where each pair contains a key and a value. By key we refer to a value that describes the type of data stored, this type of structure is known as a list of key-value objects.\n",
    "\n",
    "Let's see an example, for this we will define a codon dictionary with its translation into its genetic code:"
   ]
  },
  {
   "cell_type": "code",
   "execution_count": 32,
   "metadata": {},
   "outputs": [
    {
     "name": "stdout",
     "output_type": "stream",
     "text": [
      "{'GUU': 'V', 'GUC': 'V', 'GUA': 'V', 'GUG': 'V', 'GCU': 'A', 'GCC': 'A', 'GCA': 'A', 'GCG': 'A', 'GAU': 'D', 'GAC': 'D', 'GAA': 'E', 'GAG': 'E', 'GGU': 'G', 'GGC': 'G', 'GGA': 'G', 'GGG': 'G', 'AGA': 'R', 'AGG': 'R', 'AGU': 'Y', 'AGC': 'Y', 'AAU': 'N', 'AAC': 'N', 'AAA': 'K', 'AAG': 'K', 'ACU': 'T', 'ACC': 'T', 'ACA': 'T', 'ACG': 'T', 'AUU': 'I', 'AUC': 'I', 'AUA': 'I', 'AUG': 'M', 'CGU': 'R', 'CGC': 'R', 'CGA': 'R', 'CGG': 'R', 'CCU': 'P', 'CCC': 'P', 'CCA': 'P', 'CCG': 'P', 'CAU': 'H', 'CAC': 'H', 'CAA': 'Q', 'CAG': 'Q', 'UUU': 'F', 'UUC': 'F', 'UUA': 'L', 'UUG': 'L', 'UCU': 'Y', 'UCC': 'Y', 'UCA': 'Y', 'UCG': 'Y', 'UAU': 'Y', 'UAC': 'Y', 'UAA': 'STOP', 'UAG': 'STOP', 'UGU': 'C', 'UGC': 'C', 'UGA': 'STOP', 'UGG': 'W', 'CUU': 'L', 'CUC': 'L', 'CUA': 'L', 'CUG': 'L'}\n"
     ]
    }
   ],
   "source": [
    "genetic_code = {\n",
    "    \"GUU\": \"V\", \"GUC\": \"V\", \"GUA\": \"V\",\n",
    "    \"GUG\": \"V\", \"GCU\": \"A\", \"GCC\": \"A\",\n",
    "    \"GCA\": \"A\", \"GCG\": \"A\", \"GAU\": \"D\",\n",
    "    \"GAC\": \"D\", \"GAA\": \"E\", \"GAG\": \"E\",\n",
    "    \"GGU\": \"G\", \"GGC\": \"G\", \"GGA\": \"G\",\n",
    "    \"GGG\": \"G\", \"AGA\": \"R\", \"AGG\": \"R\",\n",
    "    \"AGU\": \"Y\", \"AGC\": \"Y\", \"AAU\": \"N\",\n",
    "    \"AAC\": \"N\", \"AAA\": \"K\", \"AAG\": \"K\",\n",
    "    \"ACU\": \"T\", \"ACC\": \"T\", \"ACA\": \"T\",\n",
    "    \"ACG\": \"T\", \"AUU\": \"I\", \"AUC\": \"I\",\n",
    "    \"AUA\": \"I\", \"AUG\": \"M\", \"CGU\": \"R\",\n",
    "    \"CGC\": \"R\", \"CGA\": \"R\", \"CGG\": \"R\",\n",
    "    \"CCU\": \"P\", \"CCC\": \"P\", \"CCA\": \"P\",\n",
    "    \"CCG\": \"P\", \"CAU\": \"H\", \"CAC\": \"H\",\n",
    "    \"CAA\": \"Q\", \"CAG\": \"Q\", \"UUU\": \"F\",\n",
    "    \"UUC\": \"F\", \"UUA\": \"L\", \"UUG\": \"L\",\n",
    "    \"UCU\": \"Y\", \"UCC\": \"Y\", \"UCA\": \"Y\",\n",
    "    \"UCG\": \"Y\", \"UAU\": \"Y\", \"UAC\": \"Y\",\n",
    "    \"UAA\": \"STOP\", \"UAG\": \"STOP\", \"UGU\":\"C\",\n",
    "    \"UGC\": \"C\", \"UGA\": \"STOP\", \"UGG\": \"W\",\n",
    "    \"CUU\": \"L\", \"CUC\": \"L\", \"CUA\": \"L\",\n",
    "    \"CUG\": \"L\"}\n",
    "\n",
    "# The previously created dictionary is printed\n",
    "print(genetic_code)"
   ]
  },
  {
   "cell_type": "markdown",
   "metadata": {},
   "source": [
    "Python has its own way of defining dictionaries, via the `dict` keyword. Which would give us a more elegant form of creation:"
   ]
  },
  {
   "cell_type": "markdown",
   "metadata": {},
   "source": [
    "We can generally access dictionary values ​​in the same way that we can access arrays and lists."
   ]
  },
  {
   "cell_type": "code",
   "execution_count": 33,
   "metadata": {},
   "outputs": [
    {
     "name": "stdout",
     "output_type": "stream",
     "text": [
      "The amino acid of GGG is: G\n",
      "---------------------\n"
     ]
    },
    {
     "ename": "KeyError",
     "evalue": "'YYY'",
     "output_type": "error",
     "traceback": [
      "\u001b[1;31m---------------------------------------------------------------------------\u001b[0m",
      "\u001b[1;31mKeyError\u001b[0m                                  Traceback (most recent call last)",
      "\u001b[1;32m<ipython-input-33-fe4a729ea44c>\u001b[0m in \u001b[0;36m<module>\u001b[1;34m\u001b[0m\n\u001b[0;32m      4\u001b[0m \u001b[1;33m\u001b[0m\u001b[0m\n\u001b[0;32m      5\u001b[0m \u001b[1;31m### Example 2: Using try/catch for when a key does not exist in the dictionary\u001b[0m\u001b[1;33m\u001b[0m\u001b[1;33m\u001b[0m\u001b[1;33m\u001b[0m\u001b[0m\n\u001b[1;32m----> 6\u001b[1;33m \u001b[0mgenetic_code\u001b[0m\u001b[1;33m[\u001b[0m\u001b[1;34m'YYY'\u001b[0m\u001b[1;33m]\u001b[0m\u001b[1;33m\u001b[0m\u001b[1;33m\u001b[0m\u001b[0m\n\u001b[0m",
      "\u001b[1;31mKeyError\u001b[0m: 'YYY'"
     ]
    }
   ],
   "source": [
    "### Example 1: What is the value of the genetic code of GGG?\n",
    "print(f'The amino acid of GGG is: {genetic_code[\"GGG\"]}')\n",
    "print('---------------------')\n",
    "\n",
    "### Example 2: Using try/catch for when a key does not exist in the dictionary\n",
    "genetic_code['YYY']\n"
   ]
  },
  {
   "cell_type": "markdown",
   "metadata": {},
   "source": [
    "In example 2 of the cell above it threw the error `KeyError` because `YYY` is not defined in the dictionary. In `Python` you can use exceptions to define how to handle errors. This is done with the `try/except` script. In general, a `try/except` type block has the following structure:"
   ]
  },
  {
   "cell_type": "markdown",
   "metadata": {},
   "source": [
    "```markdown\n",
    "try:\n",
    "    code block\n",
    "except <type>:\n",
    "    code block\n",
    "```"
   ]
  },
  {
   "cell_type": "markdown",
   "metadata": {},
   "source": [
    "Now, the example can be written as follows:"
   ]
  },
  {
   "cell_type": "code",
   "execution_count": 34,
   "metadata": {},
   "outputs": [
    {
     "name": "stdout",
     "output_type": "stream",
     "text": [
      "Property YYY does not exist in the dictionary, try another one!\n"
     ]
    }
   ],
   "source": [
    "### Example 2: Using try/catch for when a key does not exist in the dictionary\n",
    "try:\n",
    "     genetic_code['YYY']\n",
    "except KeyError:\n",
    "     print(f'Property YYY does not exist in the dictionary, try another one!')"
   ]
  },
  {
   "cell_type": "markdown",
   "metadata": {},
   "source": [
    "# Practice 1: Expression of genetic material\n",
    "\n",
    "## Concepts to work\n",
    "\n",
    "Nucleic acids are the basic unit that make up the genetic material, it is present in prokaryotic and eukaryotic cells and viruses<sup> 1 </sup>, it is made up of pentoses, a phosphate group and nitrogenous bases, divided into two groups: purines that are adenine (A) and guanine (G), and the pyrimidines that are cytosine (C), thymine (T) and uracil (U)<sup> 2 </sup>. The union of nucleic acids forms the essential macromolecules for life:\n",
    "\n",
    "<img src=\"img/Figura1-en.png\" alt=\"estructure\" width=\"600\"/>\n",
    "\n",
    "*Figure 1. Structure of DNA and RNA showing its characteristics and the nucleic acids that compose it. Own elaboration.*\n",
    "\n",
    "**DNA (deoxyribonucleic acid)**: is a macromolecule in charge of storing and expressing essential genetic information for the functions of any organism, it has an ordered organization of four nitrogenous bases A, G, T and C, which form a antiparallel and complementary double helix chain, where A always binds to T, and G to C, if any base is modified or its order changes the information, which can trigger mutations<sup> 3 </sup>.\n",
    "\n",
    "**RNA (ribonucleic acid)**: It is the macromolecular resulting from the transcription of DNA, where the T becomes a U, that is, it is the copy determined by the sequence of one of the DNA strands<sup> 4 </sup>.\n",
    "\n",
    "One of the functions of the double stranded DNA is the expression of the genetic material, it is the process in charge of the synthesis of the proteins that the cell needs (fig. 2). It consists of two main phases, **transcription** and **translation** where a DNA sequence codes for a particular protein involved in different processes such as metabolism or cell identity.\n",
    "\n",
    "<img src=\"img/Figura2-en.jpg\" alt=\"transcription-translation\" width=\"600\"/>\n",
    "\n",
    "*Figure 2. Central dogma of molecular biology, where the expression of the genetic material, the transcription of DNA to RNAm, translation to amino acids and the formation of the protein are evident. Figure modified from: [Dogma](https://www.brainvta.tech/plus/list.php?tid=110).*\n",
    "\n",
    "**Transcription** is the first step for the generation of proteins, in which from a DNA strand, called template DNA, an RNA strand is synthesized by means of the enzyme RNA polymerase, where a copy is established. Almost identical to the DNA sequence, with the variation of substituting the T for the U throughout the sequence, however, like the T, the U pairs with the A (fig. 3). In eukaryotic cells, this first transcript undergoes a second process called \"splicing\" in which specific fractions of the sequence that do not code for proteins. Transcription is like translating a book from one language to another <sup> 5 </sup>.\n",
    "\n",
    "<img src=\"img/Figura3-en.png\" alt=\"transcription\" width=\"600\"/>\n",
    "\n",
    "*Figure 3. Synthesis of mRNA, showing the transcription of DNA to RNA with the construction of the mRNA chain from the DNA template chain, in the absence of the enzymes involved. Figure modified from: [Molecular biology of the gene, (2008), 13, 429-464]( https://books.google.com.co/books?id=7tadzgEACAAJ&dq=Molecular+biology+of+the+gene&hl=es-419&sa=X&redir_esc=y)*"
   ]
  },
  {
   "cell_type": "markdown",
   "metadata": {},
   "source": [
    "## Problem Statement\n",
    "Suppose we want to obtain basic information on the cytochrome P450 enzyme, which encodes a protein involved in drug metabolism and lipid synthesis such as cholesterol and steroids. To analyze the sequence we can use bioinformatics tools, we will start with the manipulation of <code>strings</code> of the sequence, transcribing the DNA sequence to mRNA.\n",
    "\n",
    "First, we must download the document with which we are going to work. We can do a gene search in the Genbank database: we look for the DNA sequence of cytochrome P450, specifically the C9 subfamily of homo sapiens, ID: [NM_000771.4](https://www.ncbi.nlm.nih.gov/nuccore/NM_000771.4?report=genbank)\n",
    "\n",
    "To download the sequence, select the **\"Fasta\"** section, then, in the **\"Send to\"** section and then **\"Complete Record\"**, choose the file **(File) ** and the format to obtain the sequence **(Fasta)**, then click on **\"Create File\"** and the document will be downloaded. To recognize the file, change the name of the document, in this case \"sec_CYP2C9.fasta\".\n",
    "- *The `sec_CYP2C9.fasta` file can be found in the `/data/` folder*\n",
    "\n",
    "Next, the file is loaded in order to carry out the transcription process, for this, the `with` command is used, where the `GEN` variable is saving an object (in this case, a file). These objects can be called different ways. The line `sec_CYP2C9 = (GEN.read())` saves in the `sec_CYP2C9` variable a string with the content of the GEN variable."
   ]
  },
  {
   "cell_type": "markdown",
   "metadata": {},
   "source": [
    "### Sequence NM_000771"
   ]
  },
  {
   "cell_type": "code",
   "execution_count": 35,
   "metadata": {},
   "outputs": [
    {
     "name": "stdout",
     "output_type": "stream",
     "text": [
      "GEN variable type: <class '_io.TextIOWrapper'>\n",
      "Variable type sec_CYP2C9: <class 'str'>\n"
     ]
    }
   ],
   "source": [
    "#Nucleotide sequence of the CYP2C9 gene\n",
    "with open(\"data/sec_CYP2C9.fasta\", \"r\") as GEN:\n",
    "    sec_CYP2C9 = GEN.read()\n",
    "\n",
    "# the GEN variable is an object that Python can manipulate\n",
    "print(f'GEN variable type: {type(GEN)}')\n",
    "\n",
    "# The variable sec_CYP2C9 is a string that we can manipulate\n",
    "print(f'Variable type sec_CYP2C9: {type(sec_CYP2C9)}')"
   ]
  },
  {
   "cell_type": "code",
   "execution_count": 36,
   "metadata": {},
   "outputs": [
    {
     "name": "stdout",
     "output_type": "stream",
     "text": [
      "The downloaded GenBank file of the cytochrome P450 gene is:\n"
     ]
    },
    {
     "data": {
      "text/plain": [
       "'>NM_000771.4 Homo sapiens cytochrome P450 family 2 subfamily C member 9 (CYP2C9), mRNA\\nGTCTTAACAAGAAGAGAAGGCTTCAATGGATTCTCTTGTGGTCCTTGTGCTCTGTCTCTCATGTTTGCTT\\nCTCCTTTCACTCTGGAGACAGAGCTCTGGGAGAGGAAAACTCCCTCCTGGCCCCACTCCTCTCCCAGTGA\\nTTGGAAATATCCTACAGATAGGTATTAAGGACATCAGCAAATCCTTAACCAATCTCTCAAAGGTCTATGG\\nCCCTGTGTTCACTCTGTATTTTGGCCTGAAACCCATAGTGGTGCTGCATGGATATGAAGCAGTGAAGGAA\\nGCCCTGATTGATCTTGGAGAGGAGTTTTCTGGAAGAGGCATTTTCCCACTGGCTGAAAGAGCTAACAGAG\\nGATTTGGAATTGTTTTCAGCAATGGAAAGAAATGGAAGGAGATCCGGCGTTTCTCCCTCATGACGCTGCG\\nGAATTTTGGGATGGGGAAGAGGAGCATTGAGGACCGTGTTCAAGAGGAAGCCCGCTGCCTTGTGGAGGAG\\nTTGAGAAAAACCAAGGCCTCACCCTGTGATCCCACTTTCATCCTGGGCTGTGCTCCCTGCAATGTGATCT\\nGCTCCATTATTTTCCATAAACGTTTTGATTATAAAGATCAGCAATTTCTTAACTTAATGGAAAAGTTGAA\\nTGAAAACATCAAGATTTTGAGCAGCCCCTGGATCCAGATCTGCAATAATTTTTCTCCTATCATTGATTAC\\nTTCCCGGGAACTCACAACAAATTACTTAAAAACGTTGCTTTTATGAAAAGTTATATTTTGGAAAAAGTAA\\nAAGAACACCAAGAATCAATGGACATGAACAACCCTCAGGACTTTATTGATTGCTTCCTGATGAAAATGGA\\nGAAGGAAAAGCACAACCAACCATCTGAATTTACTATTGAAAGCTTGGAAAACACTGCAGTTGACTTGTTT\\nGGAGCTGGGACAGAGACGACAAGCACAACCCTGAGATATGCTCTCCTTCTCCTGCTGAAGCACCCAGAGG\\nTCACAGCTAAAGTCCAGGAAGAGATTGAACGTGTGATTGGCAGAAACCGGAGCCCCTGCATGCAAGACAG\\nGAGCCACATGCCCTACACAGATGCTGTGGTGCACGAGGTCCAGAGATACATTGACCTTCTCCCCACCAGC\\nCTGCCCCATGCAGTGACCTGTGACATTAAATTCAGAAACTATCTCATTCCCAAGGGCACAACCATATTAA\\nTTTCCCTGACTTCTGTGCTACATGACAACAAAGAATTTCCCAACCCAGAGATGTTTGACCCTCATCACTT\\nTCTGGATGAAGGTGGCAATTTTAAGAAAAGTAAATACTTCATGCCTTTCTCAGCAGGAAAACGGATTTGT\\nGTGGGAGAAGCCCTGGCCGGCATGGAGCTGTTTTTATTCCTGACCTCCATTTTACAGAACTTTAACCTGA\\nAATCTCTGGTTGACCCAAAGAACCTTGACACCACTCCAGTTGTCAATGGATTTGCCTCTGTGCCGCCCTT\\nCTACCAGCTGTGCTTCATTCCTGTCTGAAGAAGAGCAGATGGCCTGGCTGCTGCTGTGCAGTCCCTGCAG\\nCTCTCTTTCCTCTGGGGCATTATCCATCTTTCACTATCTGTAATGCCTTTTCTCACCTGTCATCTCACAT\\nTTTCCCTTCCCTGAAGATCTAGTGAACATTCGACCTCCATTACGGAGAGTTTCCTATGTTTCACTGTGCA\\nAATATATCTGCTATTCTCCATACTCTGTAACAGTTGCATTGACTGTCACATAATGCTCATACTTATCTAA\\nTGTTGAGTTATTAATATGTTATTATTAAATAGAGAAATATGATTTGTGTATTATAATTCAAAGGCATTTC\\nTTTTCTGCATGTTCTAAATAAAAAGCATTATTATTTGCTGAGTCAGTTTATTAGACCTTCCTTCTTTTAT\\nGCATAATGTAGGTCAGAAATTAAAGAAAATAGAGTTCCAGGAGGCCATGCTGGTTCTCAAAATGATAAGG\\nACAGAAAGGACAAAGAGGAAGAGGGTAGGGAAGCTATTTTGGGTGAGTGTTAGAGTTACTTGAGGATTGG\\nATTTGAAAGTGAGAAACTGTGTCCAGGGGCAGCTCTAACCTCTAGGGAAATATTCAGAGGATCAGTCAAA\\nGGGTGGAATGGACATTAAATGCTAGAATTCTTATATCCACATTGGTGTTCCTTTTTTTTTGAGACAAAGT\\nCTTGCTCTGTCACCCAGGCTGGAGTGCAGTGGTGTGATCTCAGCTCTCTATAACCTCCGCCTCCCAGGTT\\nCAAGTGATTCTCCTGCCTCAGCCTCCTGAGTAGCTGGGATTACAGGTGCATGCCACCACACCTGGCTAAT\\nTTTTTGTATTTTTAGTACAGACGGGTTTTCACCGTGTTAGCCAGGATGGTCTTAATCTCCTGACCTTGTG\\nATCTGCCTGCCTCAGCCTCCCAAAGTGCTGGGATTACAGGTGTGAGCCACTGCGCCTGGCCTGGTGTTAC\\nTTTGAAGTGTCATTACTTTATCTCTAAATAAAGAATCAGATTACTTTTATTACTTCATGTTTCCAACTTA\\nGAATGATGTAATGAAGTATAAATACATGCTTTCATATCGCT\\n\\n'"
      ]
     },
     "execution_count": 36,
     "metadata": {},
     "output_type": "execute_result"
    }
   ],
   "source": [
    "print('The downloaded GenBank file of the cytochrome P450 gene is:')\n",
    "sec_CYP2C9"
   ]
  },
  {
   "cell_type": "markdown",
   "metadata": {},
   "source": [
    "We see that the variable sec_CYP2C9 stored a line of text with the special character \\n. This character means line break. If we print the sequence it looks better:"
   ]
  },
  {
   "cell_type": "code",
   "execution_count": 37,
   "metadata": {},
   "outputs": [
    {
     "name": "stdout",
     "output_type": "stream",
     "text": [
      ">NM_000771.4 Homo sapiens cytochrome P450 family 2 subfamily C member 9 (CYP2C9), mRNA\n",
      "GTCTTAACAAGAAGAGAAGGCTTCAATGGATTCTCTTGTGGTCCTTGTGCTCTGTCTCTCATGTTTGCTT\n",
      "CTCCTTTCACTCTGGAGACAGAGCTCTGGGAGAGGAAAACTCCCTCCTGGCCCCACTCCTCTCCCAGTGA\n",
      "TTGGAAATATCCTACAGATAGGTATTAAGGACATCAGCAAATCCTTAACCAATCTCTCAAAGGTCTATGG\n",
      "CCCTGTGTTCACTCTGTATTTTGGCCTGAAACCCATAGTGGTGCTGCATGGATATGAAGCAGTGAAGGAA\n",
      "GCCCTGATTGATCTTGGAGAGGAGTTTTCTGGAAGAGGCATTTTCCCACTGGCTGAAAGAGCTAACAGAG\n",
      "GATTTGGAATTGTTTTCAGCAATGGAAAGAAATGGAAGGAGATCCGGCGTTTCTCCCTCATGACGCTGCG\n",
      "GAATTTTGGGATGGGGAAGAGGAGCATTGAGGACCGTGTTCAAGAGGAAGCCCGCTGCCTTGTGGAGGAG\n",
      "TTGAGAAAAACCAAGGCCTCACCCTGTGATCCCACTTTCATCCTGGGCTGTGCTCCCTGCAATGTGATCT\n",
      "GCTCCATTATTTTCCATAAACGTTTTGATTATAAAGATCAGCAATTTCTTAACTTAATGGAAAAGTTGAA\n",
      "TGAAAACATCAAGATTTTGAGCAGCCCCTGGATCCAGATCTGCAATAATTTTTCTCCTATCATTGATTAC\n",
      "TTCCCGGGAACTCACAACAAATTACTTAAAAACGTTGCTTTTATGAAAAGTTATATTTTGGAAAAAGTAA\n",
      "AAGAACACCAAGAATCAATGGACATGAACAACCCTCAGGACTTTATTGATTGCTTCCTGATGAAAATGGA\n",
      "GAAGGAAAAGCACAACCAACCATCTGAATTTACTATTGAAAGCTTGGAAAACACTGCAGTTGACTTGTTT\n",
      "GGAGCTGGGACAGAGACGACAAGCACAACCCTGAGATATGCTCTCCTTCTCCTGCTGAAGCACCCAGAGG\n",
      "TCACAGCTAAAGTCCAGGAAGAGATTGAACGTGTGATTGGCAGAAACCGGAGCCCCTGCATGCAAGACAG\n",
      "GAGCCACATGCCCTACACAGATGCTGTGGTGCACGAGGTCCAGAGATACATTGACCTTCTCCCCACCAGC\n",
      "CTGCCCCATGCAGTGACCTGTGACATTAAATTCAGAAACTATCTCATTCCCAAGGGCACAACCATATTAA\n",
      "TTTCCCTGACTTCTGTGCTACATGACAACAAAGAATTTCCCAACCCAGAGATGTTTGACCCTCATCACTT\n",
      "TCTGGATGAAGGTGGCAATTTTAAGAAAAGTAAATACTTCATGCCTTTCTCAGCAGGAAAACGGATTTGT\n",
      "GTGGGAGAAGCCCTGGCCGGCATGGAGCTGTTTTTATTCCTGACCTCCATTTTACAGAACTTTAACCTGA\n",
      "AATCTCTGGTTGACCCAAAGAACCTTGACACCACTCCAGTTGTCAATGGATTTGCCTCTGTGCCGCCCTT\n",
      "CTACCAGCTGTGCTTCATTCCTGTCTGAAGAAGAGCAGATGGCCTGGCTGCTGCTGTGCAGTCCCTGCAG\n",
      "CTCTCTTTCCTCTGGGGCATTATCCATCTTTCACTATCTGTAATGCCTTTTCTCACCTGTCATCTCACAT\n",
      "TTTCCCTTCCCTGAAGATCTAGTGAACATTCGACCTCCATTACGGAGAGTTTCCTATGTTTCACTGTGCA\n",
      "AATATATCTGCTATTCTCCATACTCTGTAACAGTTGCATTGACTGTCACATAATGCTCATACTTATCTAA\n",
      "TGTTGAGTTATTAATATGTTATTATTAAATAGAGAAATATGATTTGTGTATTATAATTCAAAGGCATTTC\n",
      "TTTTCTGCATGTTCTAAATAAAAAGCATTATTATTTGCTGAGTCAGTTTATTAGACCTTCCTTCTTTTAT\n",
      "GCATAATGTAGGTCAGAAATTAAAGAAAATAGAGTTCCAGGAGGCCATGCTGGTTCTCAAAATGATAAGG\n",
      "ACAGAAAGGACAAAGAGGAAGAGGGTAGGGAAGCTATTTTGGGTGAGTGTTAGAGTTACTTGAGGATTGG\n",
      "ATTTGAAAGTGAGAAACTGTGTCCAGGGGCAGCTCTAACCTCTAGGGAAATATTCAGAGGATCAGTCAAA\n",
      "GGGTGGAATGGACATTAAATGCTAGAATTCTTATATCCACATTGGTGTTCCTTTTTTTTTGAGACAAAGT\n",
      "CTTGCTCTGTCACCCAGGCTGGAGTGCAGTGGTGTGATCTCAGCTCTCTATAACCTCCGCCTCCCAGGTT\n",
      "CAAGTGATTCTCCTGCCTCAGCCTCCTGAGTAGCTGGGATTACAGGTGCATGCCACCACACCTGGCTAAT\n",
      "TTTTTGTATTTTTAGTACAGACGGGTTTTCACCGTGTTAGCCAGGATGGTCTTAATCTCCTGACCTTGTG\n",
      "ATCTGCCTGCCTCAGCCTCCCAAAGTGCTGGGATTACAGGTGTGAGCCACTGCGCCTGGCCTGGTGTTAC\n",
      "TTTGAAGTGTCATTACTTTATCTCTAAATAAAGAATCAGATTACTTTTATTACTTCATGTTTCCAACTTA\n",
      "GAATGATGTAATGAAGTATAAATACATGCTTTCATATCGCT\n",
      "\n",
      "\n"
     ]
    }
   ],
   "source": [
    "print(sec_CYP2C9)"
   ]
  },
  {
   "cell_type": "markdown",
   "metadata": {},
   "source": [
    "## String manipulation"
   ]
  },
  {
   "cell_type": "markdown",
   "metadata": {},
   "source": [
    "### Loading and manipulation of text files\n",
    "When downloading a sequence from Genbak in fasta format, the first line contains the sequence references and the text is separated by `\\n`, with the following procedure you can clean the text and leave only the sequence:\n",
    " - Use the `.split()` method that splits the string into a list of elements. It is useful for us to separate it into line breaks, which are represented with **'\\n'**.\n",
    " - Then the first element (zero index) should be removed.\n",
    " - Finally, rejoin the entire string in a single string, for this, the `.join()` method is used"
   ]
  },
  {
   "cell_type": "code",
   "execution_count": 38,
   "metadata": {},
   "outputs": [
    {
     "name": "stdout",
     "output_type": "stream",
     "text": [
      "Separated list:\n",
      " ['>NM_000771.4 Homo sapiens cytochrome P450 family 2 subfamily C member 9 (CYP2C9), mRNA', 'GTCTTAACAAGAAGAGAAGGCTTCAATGGATTCTCTTGTGGTCCTTGTGCTCTGTCTCTCATGTTTGCTT', 'CTCCTTTCACTCTGGAGACAGAGCTCTGGGAGAGGAAAACTCCCTCCTGGCCCCACTCCTCTCCCAGTGA', 'TTGGAAATATCCTACAGATAGGTATTAAGGACATCAGCAAATCCTTAACCAATCTCTCAAAGGTCTATGG', 'CCCTGTGTTCACTCTGTATTTTGGCCTGAAACCCATAGTGGTGCTGCATGGATATGAAGCAGTGAAGGAA', 'GCCCTGATTGATCTTGGAGAGGAGTTTTCTGGAAGAGGCATTTTCCCACTGGCTGAAAGAGCTAACAGAG', 'GATTTGGAATTGTTTTCAGCAATGGAAAGAAATGGAAGGAGATCCGGCGTTTCTCCCTCATGACGCTGCG', 'GAATTTTGGGATGGGGAAGAGGAGCATTGAGGACCGTGTTCAAGAGGAAGCCCGCTGCCTTGTGGAGGAG', 'TTGAGAAAAACCAAGGCCTCACCCTGTGATCCCACTTTCATCCTGGGCTGTGCTCCCTGCAATGTGATCT', 'GCTCCATTATTTTCCATAAACGTTTTGATTATAAAGATCAGCAATTTCTTAACTTAATGGAAAAGTTGAA', 'TGAAAACATCAAGATTTTGAGCAGCCCCTGGATCCAGATCTGCAATAATTTTTCTCCTATCATTGATTAC', 'TTCCCGGGAACTCACAACAAATTACTTAAAAACGTTGCTTTTATGAAAAGTTATATTTTGGAAAAAGTAA', 'AAGAACACCAAGAATCAATGGACATGAACAACCCTCAGGACTTTATTGATTGCTTCCTGATGAAAATGGA', 'GAAGGAAAAGCACAACCAACCATCTGAATTTACTATTGAAAGCTTGGAAAACACTGCAGTTGACTTGTTT', 'GGAGCTGGGACAGAGACGACAAGCACAACCCTGAGATATGCTCTCCTTCTCCTGCTGAAGCACCCAGAGG', 'TCACAGCTAAAGTCCAGGAAGAGATTGAACGTGTGATTGGCAGAAACCGGAGCCCCTGCATGCAAGACAG', 'GAGCCACATGCCCTACACAGATGCTGTGGTGCACGAGGTCCAGAGATACATTGACCTTCTCCCCACCAGC', 'CTGCCCCATGCAGTGACCTGTGACATTAAATTCAGAAACTATCTCATTCCCAAGGGCACAACCATATTAA', 'TTTCCCTGACTTCTGTGCTACATGACAACAAAGAATTTCCCAACCCAGAGATGTTTGACCCTCATCACTT', 'TCTGGATGAAGGTGGCAATTTTAAGAAAAGTAAATACTTCATGCCTTTCTCAGCAGGAAAACGGATTTGT', 'GTGGGAGAAGCCCTGGCCGGCATGGAGCTGTTTTTATTCCTGACCTCCATTTTACAGAACTTTAACCTGA', 'AATCTCTGGTTGACCCAAAGAACCTTGACACCACTCCAGTTGTCAATGGATTTGCCTCTGTGCCGCCCTT', 'CTACCAGCTGTGCTTCATTCCTGTCTGAAGAAGAGCAGATGGCCTGGCTGCTGCTGTGCAGTCCCTGCAG', 'CTCTCTTTCCTCTGGGGCATTATCCATCTTTCACTATCTGTAATGCCTTTTCTCACCTGTCATCTCACAT', 'TTTCCCTTCCCTGAAGATCTAGTGAACATTCGACCTCCATTACGGAGAGTTTCCTATGTTTCACTGTGCA', 'AATATATCTGCTATTCTCCATACTCTGTAACAGTTGCATTGACTGTCACATAATGCTCATACTTATCTAA', 'TGTTGAGTTATTAATATGTTATTATTAAATAGAGAAATATGATTTGTGTATTATAATTCAAAGGCATTTC', 'TTTTCTGCATGTTCTAAATAAAAAGCATTATTATTTGCTGAGTCAGTTTATTAGACCTTCCTTCTTTTAT', 'GCATAATGTAGGTCAGAAATTAAAGAAAATAGAGTTCCAGGAGGCCATGCTGGTTCTCAAAATGATAAGG', 'ACAGAAAGGACAAAGAGGAAGAGGGTAGGGAAGCTATTTTGGGTGAGTGTTAGAGTTACTTGAGGATTGG', 'ATTTGAAAGTGAGAAACTGTGTCCAGGGGCAGCTCTAACCTCTAGGGAAATATTCAGAGGATCAGTCAAA', 'GGGTGGAATGGACATTAAATGCTAGAATTCTTATATCCACATTGGTGTTCCTTTTTTTTTGAGACAAAGT', 'CTTGCTCTGTCACCCAGGCTGGAGTGCAGTGGTGTGATCTCAGCTCTCTATAACCTCCGCCTCCCAGGTT', 'CAAGTGATTCTCCTGCCTCAGCCTCCTGAGTAGCTGGGATTACAGGTGCATGCCACCACACCTGGCTAAT', 'TTTTTGTATTTTTAGTACAGACGGGTTTTCACCGTGTTAGCCAGGATGGTCTTAATCTCCTGACCTTGTG', 'ATCTGCCTGCCTCAGCCTCCCAAAGTGCTGGGATTACAGGTGTGAGCCACTGCGCCTGGCCTGGTGTTAC', 'TTTGAAGTGTCATTACTTTATCTCTAAATAAAGAATCAGATTACTTTTATTACTTCATGTTTCCAACTTA', 'GAATGATGTAATGAAGTATAAATACATGCTTTCATATCGCT', '', '']\n"
     ]
    }
   ],
   "source": [
    "# 1. Separate the string by lines\n",
    "separated_sec = sec_CYP2C9.split('\\n')\n",
    "print (\"Separated list:\\n\", str (separated_sec))"
   ]
  },
  {
   "cell_type": "code",
   "execution_count": 39,
   "metadata": {},
   "outputs": [
    {
     "name": "stdout",
     "output_type": "stream",
     "text": [
      "Separated list, without the first line:\n",
      "['GTCTTAACAAGAAGAGAAGGCTTCAATGGATTCTCTTGTGGTCCTTGTGCTCTGTCTCTCATGTTTGCTT', 'CTCCTTTCACTCTGGAGACAGAGCTCTGGGAGAGGAAAACTCCCTCCTGGCCCCACTCCTCTCCCAGTGA', 'TTGGAAATATCCTACAGATAGGTATTAAGGACATCAGCAAATCCTTAACCAATCTCTCAAAGGTCTATGG', 'CCCTGTGTTCACTCTGTATTTTGGCCTGAAACCCATAGTGGTGCTGCATGGATATGAAGCAGTGAAGGAA', 'GCCCTGATTGATCTTGGAGAGGAGTTTTCTGGAAGAGGCATTTTCCCACTGGCTGAAAGAGCTAACAGAG', 'GATTTGGAATTGTTTTCAGCAATGGAAAGAAATGGAAGGAGATCCGGCGTTTCTCCCTCATGACGCTGCG', 'GAATTTTGGGATGGGGAAGAGGAGCATTGAGGACCGTGTTCAAGAGGAAGCCCGCTGCCTTGTGGAGGAG', 'TTGAGAAAAACCAAGGCCTCACCCTGTGATCCCACTTTCATCCTGGGCTGTGCTCCCTGCAATGTGATCT', 'GCTCCATTATTTTCCATAAACGTTTTGATTATAAAGATCAGCAATTTCTTAACTTAATGGAAAAGTTGAA', 'TGAAAACATCAAGATTTTGAGCAGCCCCTGGATCCAGATCTGCAATAATTTTTCTCCTATCATTGATTAC', 'TTCCCGGGAACTCACAACAAATTACTTAAAAACGTTGCTTTTATGAAAAGTTATATTTTGGAAAAAGTAA', 'AAGAACACCAAGAATCAATGGACATGAACAACCCTCAGGACTTTATTGATTGCTTCCTGATGAAAATGGA', 'GAAGGAAAAGCACAACCAACCATCTGAATTTACTATTGAAAGCTTGGAAAACACTGCAGTTGACTTGTTT', 'GGAGCTGGGACAGAGACGACAAGCACAACCCTGAGATATGCTCTCCTTCTCCTGCTGAAGCACCCAGAGG', 'TCACAGCTAAAGTCCAGGAAGAGATTGAACGTGTGATTGGCAGAAACCGGAGCCCCTGCATGCAAGACAG', 'GAGCCACATGCCCTACACAGATGCTGTGGTGCACGAGGTCCAGAGATACATTGACCTTCTCCCCACCAGC', 'CTGCCCCATGCAGTGACCTGTGACATTAAATTCAGAAACTATCTCATTCCCAAGGGCACAACCATATTAA', 'TTTCCCTGACTTCTGTGCTACATGACAACAAAGAATTTCCCAACCCAGAGATGTTTGACCCTCATCACTT', 'TCTGGATGAAGGTGGCAATTTTAAGAAAAGTAAATACTTCATGCCTTTCTCAGCAGGAAAACGGATTTGT', 'GTGGGAGAAGCCCTGGCCGGCATGGAGCTGTTTTTATTCCTGACCTCCATTTTACAGAACTTTAACCTGA', 'AATCTCTGGTTGACCCAAAGAACCTTGACACCACTCCAGTTGTCAATGGATTTGCCTCTGTGCCGCCCTT', 'CTACCAGCTGTGCTTCATTCCTGTCTGAAGAAGAGCAGATGGCCTGGCTGCTGCTGTGCAGTCCCTGCAG', 'CTCTCTTTCCTCTGGGGCATTATCCATCTTTCACTATCTGTAATGCCTTTTCTCACCTGTCATCTCACAT', 'TTTCCCTTCCCTGAAGATCTAGTGAACATTCGACCTCCATTACGGAGAGTTTCCTATGTTTCACTGTGCA', 'AATATATCTGCTATTCTCCATACTCTGTAACAGTTGCATTGACTGTCACATAATGCTCATACTTATCTAA', 'TGTTGAGTTATTAATATGTTATTATTAAATAGAGAAATATGATTTGTGTATTATAATTCAAAGGCATTTC', 'TTTTCTGCATGTTCTAAATAAAAAGCATTATTATTTGCTGAGTCAGTTTATTAGACCTTCCTTCTTTTAT', 'GCATAATGTAGGTCAGAAATTAAAGAAAATAGAGTTCCAGGAGGCCATGCTGGTTCTCAAAATGATAAGG', 'ACAGAAAGGACAAAGAGGAAGAGGGTAGGGAAGCTATTTTGGGTGAGTGTTAGAGTTACTTGAGGATTGG', 'ATTTGAAAGTGAGAAACTGTGTCCAGGGGCAGCTCTAACCTCTAGGGAAATATTCAGAGGATCAGTCAAA', 'GGGTGGAATGGACATTAAATGCTAGAATTCTTATATCCACATTGGTGTTCCTTTTTTTTTGAGACAAAGT', 'CTTGCTCTGTCACCCAGGCTGGAGTGCAGTGGTGTGATCTCAGCTCTCTATAACCTCCGCCTCCCAGGTT', 'CAAGTGATTCTCCTGCCTCAGCCTCCTGAGTAGCTGGGATTACAGGTGCATGCCACCACACCTGGCTAAT', 'TTTTTGTATTTTTAGTACAGACGGGTTTTCACCGTGTTAGCCAGGATGGTCTTAATCTCCTGACCTTGTG', 'ATCTGCCTGCCTCAGCCTCCCAAAGTGCTGGGATTACAGGTGTGAGCCACTGCGCCTGGCCTGGTGTTAC', 'TTTGAAGTGTCATTACTTTATCTCTAAATAAAGAATCAGATTACTTTTATTACTTCATGTTTCCAACTTA', 'GAATGATGTAATGAAGTATAAATACATGCTTTCATATCGCT', '', '']\n"
     ]
    }
   ],
   "source": [
    "#2. Save the list of elements from the second (index 1) to the end, dereferencing the sequence (index 0).\n",
    "separated_sec = separated_sec[1:]\n",
    "# View the list without the first item\n",
    "print(\"Separated list, without the first line:\\n\" + str (separated_sec))"
   ]
  },
  {
   "cell_type": "code",
   "execution_count": 40,
   "metadata": {},
   "outputs": [
    {
     "name": "stdout",
     "output_type": "stream",
     "text": [
      "Final sequence:\n"
     ]
    },
    {
     "data": {
      "text/plain": [
       "'GTCTTAACAAGAAGAGAAGGCTTCAATGGATTCTCTTGTGGTCCTTGTGCTCTGTCTCTCATGTTTGCTTCTCCTTTCACTCTGGAGACAGAGCTCTGGGAGAGGAAAACTCCCTCCTGGCCCCACTCCTCTCCCAGTGATTGGAAATATCCTACAGATAGGTATTAAGGACATCAGCAAATCCTTAACCAATCTCTCAAAGGTCTATGGCCCTGTGTTCACTCTGTATTTTGGCCTGAAACCCATAGTGGTGCTGCATGGATATGAAGCAGTGAAGGAAGCCCTGATTGATCTTGGAGAGGAGTTTTCTGGAAGAGGCATTTTCCCACTGGCTGAAAGAGCTAACAGAGGATTTGGAATTGTTTTCAGCAATGGAAAGAAATGGAAGGAGATCCGGCGTTTCTCCCTCATGACGCTGCGGAATTTTGGGATGGGGAAGAGGAGCATTGAGGACCGTGTTCAAGAGGAAGCCCGCTGCCTTGTGGAGGAGTTGAGAAAAACCAAGGCCTCACCCTGTGATCCCACTTTCATCCTGGGCTGTGCTCCCTGCAATGTGATCTGCTCCATTATTTTCCATAAACGTTTTGATTATAAAGATCAGCAATTTCTTAACTTAATGGAAAAGTTGAATGAAAACATCAAGATTTTGAGCAGCCCCTGGATCCAGATCTGCAATAATTTTTCTCCTATCATTGATTACTTCCCGGGAACTCACAACAAATTACTTAAAAACGTTGCTTTTATGAAAAGTTATATTTTGGAAAAAGTAAAAGAACACCAAGAATCAATGGACATGAACAACCCTCAGGACTTTATTGATTGCTTCCTGATGAAAATGGAGAAGGAAAAGCACAACCAACCATCTGAATTTACTATTGAAAGCTTGGAAAACACTGCAGTTGACTTGTTTGGAGCTGGGACAGAGACGACAAGCACAACCCTGAGATATGCTCTCCTTCTCCTGCTGAAGCACCCAGAGGTCACAGCTAAAGTCCAGGAAGAGATTGAACGTGTGATTGGCAGAAACCGGAGCCCCTGCATGCAAGACAGGAGCCACATGCCCTACACAGATGCTGTGGTGCACGAGGTCCAGAGATACATTGACCTTCTCCCCACCAGCCTGCCCCATGCAGTGACCTGTGACATTAAATTCAGAAACTATCTCATTCCCAAGGGCACAACCATATTAATTTCCCTGACTTCTGTGCTACATGACAACAAAGAATTTCCCAACCCAGAGATGTTTGACCCTCATCACTTTCTGGATGAAGGTGGCAATTTTAAGAAAAGTAAATACTTCATGCCTTTCTCAGCAGGAAAACGGATTTGTGTGGGAGAAGCCCTGGCCGGCATGGAGCTGTTTTTATTCCTGACCTCCATTTTACAGAACTTTAACCTGAAATCTCTGGTTGACCCAAAGAACCTTGACACCACTCCAGTTGTCAATGGATTTGCCTCTGTGCCGCCCTTCTACCAGCTGTGCTTCATTCCTGTCTGAAGAAGAGCAGATGGCCTGGCTGCTGCTGTGCAGTCCCTGCAGCTCTCTTTCCTCTGGGGCATTATCCATCTTTCACTATCTGTAATGCCTTTTCTCACCTGTCATCTCACATTTTCCCTTCCCTGAAGATCTAGTGAACATTCGACCTCCATTACGGAGAGTTTCCTATGTTTCACTGTGCAAATATATCTGCTATTCTCCATACTCTGTAACAGTTGCATTGACTGTCACATAATGCTCATACTTATCTAATGTTGAGTTATTAATATGTTATTATTAAATAGAGAAATATGATTTGTGTATTATAATTCAAAGGCATTTCTTTTCTGCATGTTCTAAATAAAAAGCATTATTATTTGCTGAGTCAGTTTATTAGACCTTCCTTCTTTTATGCATAATGTAGGTCAGAAATTAAAGAAAATAGAGTTCCAGGAGGCCATGCTGGTTCTCAAAATGATAAGGACAGAAAGGACAAAGAGGAAGAGGGTAGGGAAGCTATTTTGGGTGAGTGTTAGAGTTACTTGAGGATTGGATTTGAAAGTGAGAAACTGTGTCCAGGGGCAGCTCTAACCTCTAGGGAAATATTCAGAGGATCAGTCAAAGGGTGGAATGGACATTAAATGCTAGAATTCTTATATCCACATTGGTGTTCCTTTTTTTTTGAGACAAAGTCTTGCTCTGTCACCCAGGCTGGAGTGCAGTGGTGTGATCTCAGCTCTCTATAACCTCCGCCTCCCAGGTTCAAGTGATTCTCCTGCCTCAGCCTCCTGAGTAGCTGGGATTACAGGTGCATGCCACCACACCTGGCTAATTTTTTGTATTTTTAGTACAGACGGGTTTTCACCGTGTTAGCCAGGATGGTCTTAATCTCCTGACCTTGTGATCTGCCTGCCTCAGCCTCCCAAAGTGCTGGGATTACAGGTGTGAGCCACTGCGCCTGGCCTGGTGTTACTTTGAAGTGTCATTACTTTATCTCTAAATAAAGAATCAGATTACTTTTATTACTTCATGTTTCCAACTTAGAATGATGTAATGAAGTATAAATACATGCTTTCATATCGCT'"
      ]
     },
     "execution_count": 40,
     "metadata": {},
     "output_type": "execute_result"
    }
   ],
   "source": [
    "# Join the string to compile the sequence.\n",
    "DNA_CYP2C9 =(''.join(separated_sec))\n",
    "print('Final sequence:')\n",
    "DNA_CYP2C9"
   ]
  },
  {
   "cell_type": "markdown",
   "metadata": {},
   "source": [
    "The entire process, from uploading the file, to cleaning it up, and saving it to a variable can be combined into a single cell:"
   ]
  },
  {
   "cell_type": "code",
   "execution_count": 41,
   "metadata": {},
   "outputs": [
    {
     "name": "stdout",
     "output_type": "stream",
     "text": [
      "Final sequence:\n"
     ]
    },
    {
     "data": {
      "text/plain": [
       "'GTCTTAACAAGAAGAGAAGGCTTCAATGGATTCTCTTGTGGTCCTTGTGCTCTGTCTCTCATGTTTGCTTCTCCTTTCACTCTGGAGACAGAGCTCTGGGAGAGGAAAACTCCCTCCTGGCCCCACTCCTCTCCCAGTGATTGGAAATATCCTACAGATAGGTATTAAGGACATCAGCAAATCCTTAACCAATCTCTCAAAGGTCTATGGCCCTGTGTTCACTCTGTATTTTGGCCTGAAACCCATAGTGGTGCTGCATGGATATGAAGCAGTGAAGGAAGCCCTGATTGATCTTGGAGAGGAGTTTTCTGGAAGAGGCATTTTCCCACTGGCTGAAAGAGCTAACAGAGGATTTGGAATTGTTTTCAGCAATGGAAAGAAATGGAAGGAGATCCGGCGTTTCTCCCTCATGACGCTGCGGAATTTTGGGATGGGGAAGAGGAGCATTGAGGACCGTGTTCAAGAGGAAGCCCGCTGCCTTGTGGAGGAGTTGAGAAAAACCAAGGCCTCACCCTGTGATCCCACTTTCATCCTGGGCTGTGCTCCCTGCAATGTGATCTGCTCCATTATTTTCCATAAACGTTTTGATTATAAAGATCAGCAATTTCTTAACTTAATGGAAAAGTTGAATGAAAACATCAAGATTTTGAGCAGCCCCTGGATCCAGATCTGCAATAATTTTTCTCCTATCATTGATTACTTCCCGGGAACTCACAACAAATTACTTAAAAACGTTGCTTTTATGAAAAGTTATATTTTGGAAAAAGTAAAAGAACACCAAGAATCAATGGACATGAACAACCCTCAGGACTTTATTGATTGCTTCCTGATGAAAATGGAGAAGGAAAAGCACAACCAACCATCTGAATTTACTATTGAAAGCTTGGAAAACACTGCAGTTGACTTGTTTGGAGCTGGGACAGAGACGACAAGCACAACCCTGAGATATGCTCTCCTTCTCCTGCTGAAGCACCCAGAGGTCACAGCTAAAGTCCAGGAAGAGATTGAACGTGTGATTGGCAGAAACCGGAGCCCCTGCATGCAAGACAGGAGCCACATGCCCTACACAGATGCTGTGGTGCACGAGGTCCAGAGATACATTGACCTTCTCCCCACCAGCCTGCCCCATGCAGTGACCTGTGACATTAAATTCAGAAACTATCTCATTCCCAAGGGCACAACCATATTAATTTCCCTGACTTCTGTGCTACATGACAACAAAGAATTTCCCAACCCAGAGATGTTTGACCCTCATCACTTTCTGGATGAAGGTGGCAATTTTAAGAAAAGTAAATACTTCATGCCTTTCTCAGCAGGAAAACGGATTTGTGTGGGAGAAGCCCTGGCCGGCATGGAGCTGTTTTTATTCCTGACCTCCATTTTACAGAACTTTAACCTGAAATCTCTGGTTGACCCAAAGAACCTTGACACCACTCCAGTTGTCAATGGATTTGCCTCTGTGCCGCCCTTCTACCAGCTGTGCTTCATTCCTGTCTGAAGAAGAGCAGATGGCCTGGCTGCTGCTGTGCAGTCCCTGCAGCTCTCTTTCCTCTGGGGCATTATCCATCTTTCACTATCTGTAATGCCTTTTCTCACCTGTCATCTCACATTTTCCCTTCCCTGAAGATCTAGTGAACATTCGACCTCCATTACGGAGAGTTTCCTATGTTTCACTGTGCAAATATATCTGCTATTCTCCATACTCTGTAACAGTTGCATTGACTGTCACATAATGCTCATACTTATCTAATGTTGAGTTATTAATATGTTATTATTAAATAGAGAAATATGATTTGTGTATTATAATTCAAAGGCATTTCTTTTCTGCATGTTCTAAATAAAAAGCATTATTATTTGCTGAGTCAGTTTATTAGACCTTCCTTCTTTTATGCATAATGTAGGTCAGAAATTAAAGAAAATAGAGTTCCAGGAGGCCATGCTGGTTCTCAAAATGATAAGGACAGAAAGGACAAAGAGGAAGAGGGTAGGGAAGCTATTTTGGGTGAGTGTTAGAGTTACTTGAGGATTGGATTTGAAAGTGAGAAACTGTGTCCAGGGGCAGCTCTAACCTCTAGGGAAATATTCAGAGGATCAGTCAAAGGGTGGAATGGACATTAAATGCTAGAATTCTTATATCCACATTGGTGTTCCTTTTTTTTTGAGACAAAGTCTTGCTCTGTCACCCAGGCTGGAGTGCAGTGGTGTGATCTCAGCTCTCTATAACCTCCGCCTCCCAGGTTCAAGTGATTCTCCTGCCTCAGCCTCCTGAGTAGCTGGGATTACAGGTGCATGCCACCACACCTGGCTAATTTTTTGTATTTTTAGTACAGACGGGTTTTCACCGTGTTAGCCAGGATGGTCTTAATCTCCTGACCTTGTGATCTGCCTGCCTCAGCCTCCCAAAGTGCTGGGATTACAGGTGTGAGCCACTGCGCCTGGCCTGGTGTTACTTTGAAGTGTCATTACTTTATCTCTAAATAAAGAATCAGATTACTTTTATTACTTCATGTTTCCAACTTAGAATGATGTAATGAAGTATAAATACATGCTTTCATATCGCT'"
      ]
     },
     "execution_count": 41,
     "metadata": {},
     "output_type": "execute_result"
    }
   ],
   "source": [
    "#Nucleotide sequence of the CYP2C9 gene\n",
    "with open(\"data/sec_CYP2C9.fasta\", \"r\") as GEN:\n",
    "    sec_CYP2C9 = GEN.read()\n",
    "DNA_CYP2C9 =(''.join(sec_CYP2C9.split('\\n')[1:]))\n",
    "print('Final sequence:')\n",
    "DNA_CYP2C9"
   ]
  },
  {
   "cell_type": "markdown",
   "metadata": {},
   "source": [
    "### Indexing and sequencing of lists\n",
    "To handle very long `string` data, you can reference variables by position, from different sections, using brackets <code>\"[start:end]\"</code> to access certain elements of a string.\n",
    "Let's see some examples:"
   ]
  },
  {
   "cell_type": "markdown",
   "metadata": {},
   "source": [
    "#### Example 1\n",
    "Print parts of the `DNA_CYP2C9` sequence\n",
    "(_the count starts from zero_)\n",
    "*Note*: From now on we will work with `f-strings` that allow you to make short lines of text with built-in variables. Más información en: [f-strings](https://platzi.com/blog/f-strings-en-python/?utm_source=google&utm_medium=cpc&utm_campaign=12915366154&utm_adgroup=&utm_content=&gclid=Cj0KCQjw3IqSBhCoARIsAMBkTb2p5ZOBtPtlGG2B7P0qrtnp8Wwvbgd2OY_F3_P-6OOU1YE_QHHCMaYaAnTaEALw_wcB&gclsrc=aw.ds), [f-strings](https://peps.python.org/pep-0498/)"
   ]
  },
  {
   "cell_type": "code",
   "execution_count": 42,
   "metadata": {},
   "outputs": [
    {
     "name": "stdout",
     "output_type": "stream",
     "text": [
      "The first nucleotide of the sequence is: G\n",
      "The first ten nucleotides of the sequence are: GTCTTAACAA\n"
     ]
    }
   ],
   "source": [
    "print(f'The first nucleotide of the sequence is: {DNA_CYP2C9[0]}')\n",
    "\n",
    "print(f'The first ten nucleotides of the sequence are: {DNA_CYP2C9[:10]}')"
   ]
  },
  {
   "cell_type": "code",
   "execution_count": 43,
   "metadata": {},
   "outputs": [
    {
     "name": "stdout",
     "output_type": "stream",
     "text": [
      "The sequence spanning 2 to 10 nucleotides is: CTTAACAA\n"
     ]
    }
   ],
   "source": [
    "print(f'The sequence spanning 2 to 10 nucleotides is: {DNA_CYP2C9[2:10]}')"
   ]
  },
  {
   "cell_type": "code",
   "execution_count": 44,
   "metadata": {},
   "outputs": [
    {
     "name": "stdout",
     "output_type": "stream",
     "text": [
      "The nucleotide sequence from position 1100 is: TTGACCTTCTCCCCACCAGCCTGCCCCATGCAGTGACCTGTGACATTAAATTCAGAAACTATCTCATTCCCAAGGGCACAACCATATTAATTTCCCTGACTTCTGTGCTACATGACAACAAAGAATTTCCCAACCCAGAGATGTTTGACCCTCATCACTTTCTGGATGAAGGTGGCAATTTTAAGAAAAGTAAATACTTCATGCCTTTCTCAGCAGGAAAACGGATTTGTGTGGGAGAAGCCCTGGCCGGCATGGAGCTGTTTTTATTCCTGACCTCCATTTTACAGAACTTTAACCTGAAATCTCTGGTTGACCCAAAGAACCTTGACACCACTCCAGTTGTCAATGGATTTGCCTCTGTGCCGCCCTTCTACCAGCTGTGCTTCATTCCTGTCTGAAGAAGAGCAGATGGCCTGGCTGCTGCTGTGCAGTCCCTGCAGCTCTCTTTCCTCTGGGGCATTATCCATCTTTCACTATCTGTAATGCCTTTTCTCACCTGTCATCTCACATTTTCCCTTCCCTGAAGATCTAGTGAACATTCGACCTCCATTACGGAGAGTTTCCTATGTTTCACTGTGCAAATATATCTGCTATTCTCCATACTCTGTAACAGTTGCATTGACTGTCACATAATGCTCATACTTATCTAATGTTGAGTTATTAATATGTTATTATTAAATAGAGAAATATGATTTGTGTATTATAATTCAAAGGCATTTCTTTTCTGCATGTTCTAAATAAAAAGCATTATTATTTGCTGAGTCAGTTTATTAGACCTTCCTTCTTTTATGCATAATGTAGGTCAGAAATTAAAGAAAATAGAGTTCCAGGAGGCCATGCTGGTTCTCAAAATGATAAGGACAGAAAGGACAAAGAGGAAGAGGGTAGGGAAGCTATTTTGGGTGAGTGTTAGAGTTACTTGAGGATTGGATTTGAAAGTGAGAAACTGTGTCCAGGGGCAGCTCTAACCTCTAGGGAAATATTCAGAGGATCAGTCAAAGGGTGGAATGGACATTAAATGCTAGAATTCTTATATCCACATTGGTGTTCCTTTTTTTTTGAGACAAAGTCTTGCTCTGTCACCCAGGCTGGAGTGCAGTGGTGTGATCTCAGCTCTCTATAACCTCCGCCTCCCAGGTTCAAGTGATTCTCCTGCCTCAGCCTCCTGAGTAGCTGGGATTACAGGTGCATGCCACCACACCTGGCTAATTTTTTGTATTTTTAGTACAGACGGGTTTTCACCGTGTTAGCCAGGATGGTCTTAATCTCCTGACCTTGTGATCTGCCTGCCTCAGCCTCCCAAAGTGCTGGGATTACAGGTGTGAGCCACTGCGCCTGGCCTGGTGTTACTTTGAAGTGTCATTACTTTATCTCTAAATAAAGAATCAGATTACTTTTATTACTTCATGTTTCCAACTTAGAATGATGTAATGAAGTATAAATACATGCTTTCATATCGCT\n"
     ]
    }
   ],
   "source": [
    "print(f'The nucleotide sequence from position 1100 is: {DNA_CYP2C9[1100:]}')"
   ]
  },
  {
   "cell_type": "code",
   "execution_count": 45,
   "metadata": {},
   "outputs": [
    {
     "name": "stdout",
     "output_type": "stream",
     "text": [
      "The last 25 nucleotides of the sequence are: TATAAATACATGCTTTCATATCGCT\n"
     ]
    }
   ],
   "source": [
    "# Using negative indices starts counting from the end of the String, useful in long documents\n",
    "print(f'The last 25 nucleotides of the sequence are: {DNA_CYP2C9[-25:]}')"
   ]
  },
  {
   "cell_type": "code",
   "execution_count": 46,
   "metadata": {},
   "outputs": [
    {
     "name": "stdout",
     "output_type": "stream",
     "text": [
      "total nucleotides: 2561\n"
     ]
    }
   ],
   "source": [
    "print(f'total nucleotides: {len(DNA_CYP2C9)}')"
   ]
  },
  {
   "cell_type": "markdown",
   "metadata": {},
   "source": [
    "### DNA Transcription\n",
    "The second thing we are going to do is the **transcription** process, being the first phase of gene expression. To do this, we will replace thymine (T) with uracil (U) throughout the sequence. Using the String <code>.replace() </code> method, obtaining the mRNA sequence, which will be synthesized into a protein."
   ]
  },
  {
   "cell_type": "code",
   "execution_count": 47,
   "metadata": {},
   "outputs": [
    {
     "name": "stdout",
     "output_type": "stream",
     "text": [
      "mRNA Sequence:\n",
      " GUCUUAACAAGAAGAGAAGGCUUCAAUGGAUUCUCUUGUGGUCCUUGUGCUCUGUCUCUCAUGUUUGCUUCUCCUUUCACUCUGGAGACAGAGCUCUGGGAGAGGAAAACUCCCUCCUGGCCCCACUCCUCUCCCAGUGAUUGGAAAUAUCCUACAGAUAGGUAUUAAGGACAUCAGCAAAUCCUUAACCAAUCUCUCAAAGGUCUAUGGCCCUGUGUUCACUCUGUAUUUUGGCCUGAAACCCAUAGUGGUGCUGCAUGGAUAUGAAGCAGUGAAGGAAGCCCUGAUUGAUCUUGGAGAGGAGUUUUCUGGAAGAGGCAUUUUCCCACUGGCUGAAAGAGCUAACAGAGGAUUUGGAAUUGUUUUCAGCAAUGGAAAGAAAUGGAAGGAGAUCCGGCGUUUCUCCCUCAUGACGCUGCGGAAUUUUGGGAUGGGGAAGAGGAGCAUUGAGGACCGUGUUCAAGAGGAAGCCCGCUGCCUUGUGGAGGAGUUGAGAAAAACCAAGGCCUCACCCUGUGAUCCCACUUUCAUCCUGGGCUGUGCUCCCUGCAAUGUGAUCUGCUCCAUUAUUUUCCAUAAACGUUUUGAUUAUAAAGAUCAGCAAUUUCUUAACUUAAUGGAAAAGUUGAAUGAAAACAUCAAGAUUUUGAGCAGCCCCUGGAUCCAGAUCUGCAAUAAUUUUUCUCCUAUCAUUGAUUACUUCCCGGGAACUCACAACAAAUUACUUAAAAACGUUGCUUUUAUGAAAAGUUAUAUUUUGGAAAAAGUAAAAGAACACCAAGAAUCAAUGGACAUGAACAACCCUCAGGACUUUAUUGAUUGCUUCCUGAUGAAAAUGGAGAAGGAAAAGCACAACCAACCAUCUGAAUUUACUAUUGAAAGCUUGGAAAACACUGCAGUUGACUUGUUUGGAGCUGGGACAGAGACGACAAGCACAACCCUGAGAUAUGCUCUCCUUCUCCUGCUGAAGCACCCAGAGGUCACAGCUAAAGUCCAGGAAGAGAUUGAACGUGUGAUUGGCAGAAACCGGAGCCCCUGCAUGCAAGACAGGAGCCACAUGCCCUACACAGAUGCUGUGGUGCACGAGGUCCAGAGAUACAUUGACCUUCUCCCCACCAGCCUGCCCCAUGCAGUGACCUGUGACAUUAAAUUCAGAAACUAUCUCAUUCCCAAGGGCACAACCAUAUUAAUUUCCCUGACUUCUGUGCUACAUGACAACAAAGAAUUUCCCAACCCAGAGAUGUUUGACCCUCAUCACUUUCUGGAUGAAGGUGGCAAUUUUAAGAAAAGUAAAUACUUCAUGCCUUUCUCAGCAGGAAAACGGAUUUGUGUGGGAGAAGCCCUGGCCGGCAUGGAGCUGUUUUUAUUCCUGACCUCCAUUUUACAGAACUUUAACCUGAAAUCUCUGGUUGACCCAAAGAACCUUGACACCACUCCAGUUGUCAAUGGAUUUGCCUCUGUGCCGCCCUUCUACCAGCUGUGCUUCAUUCCUGUCUGAAGAAGAGCAGAUGGCCUGGCUGCUGCUGUGCAGUCCCUGCAGCUCUCUUUCCUCUGGGGCAUUAUCCAUCUUUCACUAUCUGUAAUGCCUUUUCUCACCUGUCAUCUCACAUUUUCCCUUCCCUGAAGAUCUAGUGAACAUUCGACCUCCAUUACGGAGAGUUUCCUAUGUUUCACUGUGCAAAUAUAUCUGCUAUUCUCCAUACUCUGUAACAGUUGCAUUGACUGUCACAUAAUGCUCAUACUUAUCUAAUGUUGAGUUAUUAAUAUGUUAUUAUUAAAUAGAGAAAUAUGAUUUGUGUAUUAUAAUUCAAAGGCAUUUCUUUUCUGCAUGUUCUAAAUAAAAAGCAUUAUUAUUUGCUGAGUCAGUUUAUUAGACCUUCCUUCUUUUAUGCAUAAUGUAGGUCAGAAAUUAAAGAAAAUAGAGUUCCAGGAGGCCAUGCUGGUUCUCAAAAUGAUAAGGACAGAAAGGACAAAGAGGAAGAGGGUAGGGAAGCUAUUUUGGGUGAGUGUUAGAGUUACUUGAGGAUUGGAUUUGAAAGUGAGAAACUGUGUCCAGGGGCAGCUCUAACCUCUAGGGAAAUAUUCAGAGGAUCAGUCAAAGGGUGGAAUGGACAUUAAAUGCUAGAAUUCUUAUAUCCACAUUGGUGUUCCUUUUUUUUUGAGACAAAGUCUUGCUCUGUCACCCAGGCUGGAGUGCAGUGGUGUGAUCUCAGCUCUCUAUAACCUCCGCCUCCCAGGUUCAAGUGAUUCUCCUGCCUCAGCCUCCUGAGUAGCUGGGAUUACAGGUGCAUGCCACCACACCUGGCUAAUUUUUUGUAUUUUUAGUACAGACGGGUUUUCACCGUGUUAGCCAGGAUGGUCUUAAUCUCCUGACCUUGUGAUCUGCCUGCCUCAGCCUCCCAAAGUGCUGGGAUUACAGGUGUGAGCCACUGCGCCUGGCCUGGUGUUACUUUGAAGUGUCAUUACUUUAUCUCUAAAUAAAGAAUCAGAUUACUUUUAUUACUUCAUGUUUCCAACUUAGAAUGAUGUAAUGAAGUAUAAAUACAUGCUUUCAUAUCGCU\n"
     ]
    }
   ],
   "source": [
    "# Transcribe the woodchuck sequence from DNA to RNA, using the \".replace()\" function\n",
    "RNA_CYP2C9 = DNA_CYP2C9.replace(\"T\",\"U\")\n",
    "print(\"mRNA Sequence:\\n\", str(RNA_CYP2C9))"
   ]
  },
  {
   "cell_type": "code",
   "execution_count": 48,
   "metadata": {},
   "outputs": [
    {
     "data": {
      "text/plain": [
       "755"
      ]
     },
     "execution_count": 48,
     "metadata": {},
     "output_type": "execute_result"
    }
   ],
   "source": [
    "RNA_CYP2C9.count('U')"
   ]
  },
  {
   "cell_type": "markdown",
   "metadata": {},
   "source": [
    "## Handling large strings\n",
    "The tools we saw above can be applied to large files with long sequences, such as the complete genome of the Marmot monax, ID: [JAIQCD010000022.1](https://www.ncbi.nlm.nih.gov/nuccore/JAIQCD010000022.1?report=fasta), gene that will be worked on in what remains of this notebook.\n",
    "\n",
    "The file is in the location `data/dna_marmota.fasta`, below is how it can be loaded and saved in the variable `DNA_marmota`"
   ]
  },
  {
   "cell_type": "code",
   "execution_count": 49,
   "metadata": {},
   "outputs": [
    {
     "name": "stdout",
     "output_type": "stream",
     "text": [
      "The marmot genome sequence has 34815635 nucleotides\n",
      "The first 100 nucleotides of the marmot genome are: CCAATATTCTGTACAATTAATTAGTAGCAGGGCATGGGTTGCATGTCTGCCATGGCAGTGACTCCTGGAGCCTGAGATAGGAGGATCTCAAGTTTGAGGT\n"
     ]
    }
   ],
   "source": [
    "# From now on we will work with the method\n",
    "with open(\"data/dna_marmota.fasta\", \"r\") as GEN:\n",
    "    DNA_woodchuck =  ''.join((GEN.read()).split('\\n')[1:])\n",
    "print(f'The marmot genome sequence has {len(DNA_woodchuck)} nucleotides') # The len() command counts the number of characters in a string.\n",
    "print(f'The first 100 nucleotides of the marmot genome are: {DNA_woodchuck[:100]}')"
   ]
  },
  {
   "cell_type": "code",
   "execution_count": 50,
   "metadata": {},
   "outputs": [
    {
     "name": "stdout",
     "output_type": "stream",
     "text": [
      "The first nucleotides of the RNA sequence are: CCAAUAUUCUGUACAAUUAAUUAGUAGCAGGGCAUGGGUUGCAUGUCUGCCAUGGCAGUGACUCCUGGAGCCUGAGAUAGGAGGAUCUCAAGUUUGAGGUCACUUUGUAGGACCUUGUCUCAAAAAAAAAAAAAAAAACCCGGCUGGAAUGAAGUACAACUAGUGUGACAGCAGGUGGGUUUAUCCCAUUCCCAUUUGAAAAAUAAUGGAAAAUCUAGCCACUGGAGGGAUUGAAGGCCCAAUGAGGAGGGAGUAGGGUUAAUACUGCCAUUUUUCUUCUUUGGUGUAUUUUACAAAAAUGUGUGUGUGUGUGUGUGUGUGUGUGUGUGUGUGUGUGUGUGUUUCUCCCACCUUUGUUCUAUUGCUUUGACGUGUUUUUUUUUUUUCUUUUAUUUUUGGUAUUGGCUUGUUUUCACUUUCUUGUCAAUUUCUUUUGUAUCAAUUCUGUAGCUCUUUUUUUUUUACAGAAAAGAAAAUUACAGUCAAAAUAUUUUAUUUUCCUCUUAAUACUAACUUAAUUUCAAUCUCAUAAAGAUACUGUACCUUUAGAAUUCUAUCUCCCACUGUAUGUACUCAUUUUUCUUCCUUUAUUUUGGUGUUGUGCUGGGAUAGAACUCAGGAUGCUGCAGCACUGAGCUACAUCUCUAGCUUUUCUUUCUAUUUUUGCUUUGAGUGUGACCCAGUGUAAAGUGUUAGCCUAGCAUGCCUGAGGCCUUGGCUUCAAUUCUAACUAUCAUGAAACAAAUAUACUCUGUGUACCUGAUCUGACACUACAUGCUGUGUCCAUUAUUUUAAGGCUGCUAUCCUAUUGAAGAAGGUUUCAGAAAGGAUCAUGUAAGUCAUGUAAACAUGCUCCCCAAACAUCAAGUAUCCUUUACUUAAUUGUUAUGUUGAAGGCUAAGCUUAUUUUGAAUGUCAUCAUAUGAGCAAAAAAUCAAAGUGGACAUUAUGAUAAAUACUUGUCCCAACCCAAUGCUUCCUUUCUAUUUUAUAUAAUCUU\n"
     ]
    }
   ],
   "source": [
    "# Transcribe the marmot sequence from DNA to RNA, using the \".replace()\" function\n",
    "RNA_woodchuck = DNA_woodchuck.replace(\"T\",\"U\")\n",
    "print(\"The first nucleotides of the RNA sequence are: \"+ (RNA_woodchuck[:1000]))"
   ]
  },
  {
   "cell_type": "markdown",
   "metadata": {},
   "source": [
    "## Practice Activity 1\n",
    "Taking into account what you have learned previously, analyze the sequence obtained from the cytochrome P450 protein and answer:\n",
    "1. How many times was a thymine (t) replaced by a uracil (U)?\n",
    "2. What is the size of the string?\n",
    "3. How many purines are in the enzyme?\n",
    "4. What is the most repeated pair of nucleotides in the protein?"
   ]
  },
  {
   "cell_type": "markdown",
   "metadata": {},
   "source": [
    "## Conclusions\n",
    "In this first practice, commands and methods related to the manipulation of `strings` of files of different sizes were used, using as a starting point we worked with two different DNA chains, where we saw the tools that can be implemented in biological practices. .\n",
    "\n",
    "At the same time, basic information on the complete cytochrome P450 genome was obtained, starting from the DNA chain to obtain the RNAm of the sequence, which will be translated into amino acids (practice 2)."
   ]
  },
  {
   "cell_type": "markdown",
   "metadata": {},
   "source": [
    "# Theory: Flow control structures\n",
    "Python has control flow statements that allow you to group commands in a controlled manner. Two of the most used are:\n",
    "1. Conditional control structures\n",
    "2. Iterative control structures"
   ]
  },
  {
   "cell_type": "markdown",
   "metadata": {},
   "source": [
    "### 1. Conditionals\n",
    "\n",
    "\n",
    "\n",
    "\n",
    "Conditionals allow you to execute a statement or make a decision if a certain condition is met, resulting in a Boolean value of true or false. The most used functions:\n",
    "* <code>if</code>: where if the expression is true, the block of followed statements is executed.\n",
    "* <code>elif</code>: where if the above conditions are not met, another statement is tried.\n",
    "* <code>else</code>: where the boolean expression is false or a condition is not met take this other option."
   ]
  },
  {
   "cell_type": "markdown",
   "metadata": {},
   "source": [
    "```markdown\n",
    "if <condition_1>:\n",
    "    code block\n",
    "elif <condition_2>:\n",
    "    code block\n",
    " ...\n",
    " else:\n",
    "    code block\n",
    "```"
   ]
  },
  {
   "cell_type": "markdown",
   "metadata": {},
   "source": [
    "Evaluates the logical expression condition_1 and executes the first block of code if it is `True`; if not, it evaluates the following conditions until it reaches the first one that is `True` and executes the associated block of code. If neither condition is `True` execute the block of code after `else`.\n",
    "*Observations*\n",
    "- An `if` conditional does not necessarily need `elif` or `else`\n",
    "- Only one `else` can appear, and it must go at the end\n",
    "- Code blocks must be indented by 4 spaces\n",
    "- The end of the conditional block is when the line returns to the previous level"
   ]
  },
  {
   "cell_type": "markdown",
   "metadata": {},
   "source": [
    "In certain scenarios, decisions can be made, such as increasing the value of x or, failing that, decreasing its value."
   ]
  },
  {
   "cell_type": "code",
   "execution_count": 51,
   "metadata": {},
   "outputs": [
    {
     "name": "stdout",
     "output_type": "stream",
     "text": [
      "2\n"
     ]
    }
   ],
   "source": [
    "x = 1 # initial value (try changing this value)\n",
    "\n",
    "# Condition\n",
    "if x == 1:\n",
    "    x = x + 1\n",
    "else:\n",
    "    x = x -1\n",
    "\n",
    "print(x) # final value"
   ]
  },
  {
   "cell_type": "markdown",
   "metadata": {},
   "source": [
    "More than one check expression can be part of the block via `elif`, example:"
   ]
  },
  {
   "cell_type": "code",
   "execution_count": 52,
   "metadata": {},
   "outputs": [
    {
     "name": "stdout",
     "output_type": "stream",
     "text": [
      "0\n"
     ]
    }
   ],
   "source": [
    "x = 3 # initial value (try changing this value)\n",
    "\n",
    "if x == 1:\n",
    "    x = x + 1\n",
    "elif x == 2:\n",
    "    x = x - 1\n",
    "else:\n",
    "    x = 0\n",
    "\n",
    "print(x) # final value"
   ]
  },
  {
   "cell_type": "markdown",
   "metadata": {},
   "source": [
    "Sometimes you can include nested if expressions as much as necessary, it is not recommended as a software development practice, for example:"
   ]
  },
  {
   "cell_type": "code",
   "execution_count": 53,
   "metadata": {},
   "outputs": [
    {
     "name": "stdout",
     "output_type": "stream",
     "text": [
      "Expect x,y to be equal to 1. x=1 y=1\n"
     ]
    }
   ],
   "source": [
    "x = 2\n",
    "y = 2\n",
    "if x == 1:\n",
    "    if y == 2:\n",
    "        x = x + 1\n",
    "        y = y + 1\n",
    "elif x == 2:\n",
    "    if y == 2:\n",
    "        x = x - 1\n",
    "        y = y - 1\n",
    "else:\n",
    "    x = 0\n",
    "    y = 0\n",
    "\n",
    "print(f'Expect x,y to be equal to 1. x={x} y={y}')"
   ]
  },
  {
   "cell_type": "markdown",
   "metadata": {},
   "source": [
    "### 2. Iterations\n",
    "The iterations or loops allow you to repeat a portion of the code as many times as necessary, while the boolean condition is true or false, in python only two functions are included:\n",
    "* <code>while</code> - Allows multiple iterations executing code while the condition is true.\n",
    "* <code>for</code>: allows iterating in order over each of the elements of a sequence, be it list, tuple, dictionary, array or string\n",
    "\n",
    "For more information check the following [link](https://entrenamiento-python-basico.readthedocs.io/es/latest/leccion4/loop_while.html)"
   ]
  },
  {
   "cell_type": "markdown",
   "metadata": {},
   "source": [
    "#### Structure of While:\n",
    "\n",
    "In general, a While code block should follow the following form:\n",
    "\n",
    "```markdown\n",
    "while <condition>:\n",
    "    code block\n",
    "```\n",
    "\n",
    "*Remember that in Python the `return` keyword is not necessary at the end of a code block since the convention is that the last line of code is always returned.*"
   ]
  },
  {
   "cell_type": "code",
   "execution_count": 54,
   "metadata": {},
   "outputs": [
    {
     "name": "stdout",
     "output_type": "stream",
     "text": [
      "The initial value of x is:\n",
      "1\n",
      "The new value of x is 1\n",
      "The new value of x is 2\n",
      "The new value of x is 3\n",
      "The new value of x is 4\n",
      "The new value of x is 5\n",
      "The new value of x is 6\n",
      "The new value of x is 7\n",
      "The new value of x is 8\n",
      "The new value of x is 9\n",
      "At the end of the loop, the value of x is:\n",
      "10\n"
     ]
    }
   ],
   "source": [
    "#### EXAMPLE 1\n",
    "# Let's increase the value of x up to 10\n",
    "x = 1\n",
    "print('The initial value of x is:')\n",
    "print(x)\n",
    "\n",
    "while x < 10:\n",
    "    print(f'The new value of x is {x}')\n",
    "    x = x + 1\n",
    "\n",
    "print('At the end of the loop, the value of x is:')\n",
    "print(x)"
   ]
  },
  {
   "cell_type": "markdown",
   "metadata": {},
   "source": [
    "#### Structure for\n",
    "\n",
    "In the same way, the `for` block follows a standard structure for its definition:\n",
    "\n",
    "```markdown\n",
    "for <var> in <sequence>:\n",
    "    code block\n",
    "```\n",
    "\n",
    "*Remember: you don't need the `return` keyword like in other languages.*"
   ]
  },
  {
   "cell_type": "code",
   "execution_count": 55,
   "metadata": {},
   "outputs": [
    {
     "name": "stdout",
     "output_type": "stream",
     "text": [
      "The amino acid of GUU is V\n",
      "The amino acid of GUC is V\n",
      "The amino acid of GUA is V\n",
      "The amino acid of GUG is V\n",
      "The amino acid of GCU is A\n",
      "The amino acid of GCC is A\n",
      "The amino acid of GCA is A\n",
      "The amino acid of GCG is A\n",
      "The amino acid of GAU is D\n",
      "The amino acid of GAC is D\n",
      "The amino acid of GAA is E\n",
      "The amino acid of GAG is E\n",
      "The amino acid of GGU is G\n",
      "The amino acid of GGC is G\n",
      "The amino acid of GGA is G\n",
      "The amino acid of GGG is G\n",
      "The amino acid of AGA is R\n",
      "The amino acid of AGG is R\n",
      "The amino acid of AGU is S\n",
      "The amino acid of AGC is S\n",
      "The amino acid of AAU is N\n",
      "The amino acid of AAC is N\n",
      "The amino acid of AAA is K\n",
      "The amino acid of AAG is K\n",
      "The amino acid of ACU is T\n",
      "The amino acid of ACC is T\n",
      "The amino acid of ACA is T\n",
      "The amino acid of ACG is T\n",
      "The amino acid of AUU is I\n",
      "The amino acid of AUC is I\n",
      "The amino acid of AUA is I\n",
      "The amino acid of AUG is M\n",
      "The amino acid of CGU is R\n",
      "The amino acid of CGC is R\n",
      "The amino acid of CGA is R\n",
      "The amino acid of CGC is R\n",
      "The amino acid of CCU is P\n",
      "The amino acid of CCC is P\n",
      "The amino acid of CCA is P\n",
      "The amino acid of CCG is P\n",
      "The amino acid of CAU is H\n",
      "The amino acid of CAC is H\n"
     ]
    }
   ],
   "source": [
    "#### EXAMPLE 2\n",
    "# Let's take as an example a list of objects, for example the types of codons and their genetic code:\n",
    "genetic_code= [\n",
    "    [\"GUU\", \"V\"], [\"GUC\", \"V\"], [\"GUA\", \"V\"],\n",
    "    [\"GUG\", \"V\"], [\"GCU\", \"A\"], [\"GCC\", \"A\"],\n",
    "    [\"GCA\", \"A\"], [\"GCG\", \"A\"], [\"GAU\", \"D\"],\n",
    "    [\"GAC\", \"D\"], [\"GAA\", \"E\"], [\"GAG\", \"E\"],\n",
    "    [\"GGU\", \"G\"], [\"GGC\", \"G\"], [\"GGA\", \"G\"],\n",
    "    [\"GGG\", \"G\"], [\"AGA\", \"R\"], [\"AGG\", \"R\"],\n",
    "    [\"AGU\", \"S\"], [\"AGC\", \"S\"], [\"AAU\", \"N\"],\n",
    "    [\"AAC\", \"N\"], [\"AAA\", \"K\"], [\"AAG\", \"K\"],\n",
    "    [\"ACU\", \"T\"], [\"ACC\", \"T\"], [\"ACA\", \"T\"],\n",
    "    [\"ACG\", \"T\"], [\"AUU\", \"I\"], [\"AUC\", \"I\"],\n",
    "    [\"AUA\", \"I\"], [\"AUG\", \"M\"], [\"CGU\", \"R\"],\n",
    "    [\"CGC\", \"R\"], [\"CGA\", \"R\"], [\"CGC\", \"R\"],\n",
    "    [\"CCU\", \"P\"], [\"CCC\", \"P\"], [\"CCA\", \"P\"],\n",
    "    [\"CCG\", \"P\"], [\"CAU\", \"H\"], [\"CAC\", \"H\"]\n",
    "]\n",
    "\n",
    "# You can iterate through all the list elements prot_list and print the protein and its type:\n",
    "for codon in genetic_code:\n",
    "    print(f'The amino acid of {codon[0]} is {codon[1]}')"
   ]
  },
  {
   "cell_type": "markdown",
   "metadata": {},
   "source": [
    "We can iterate the items in a dictionary through the `key-value` pairs using the `.items()` method."
   ]
  },
  {
   "cell_type": "code",
   "execution_count": 56,
   "metadata": {},
   "outputs": [
    {
     "name": "stdout",
     "output_type": "stream",
     "text": [
      "The amino acid of GUU is V\n",
      "The amino acid of GUC is V\n",
      "The amino acid of GUA is V\n",
      "The amino acid of GUG is V\n",
      "The amino acid of GCU is A\n",
      "The amino acid of GCC is A\n",
      "The amino acid of GCA is A\n",
      "The amino acid of GCG is A\n",
      "The amino acid of GAU is D\n",
      "The amino acid of GAC is D\n",
      "The amino acid of GAA is E\n",
      "The amino acid of GAG is E\n",
      "The amino acid of GGU is G\n",
      "The amino acid of GGC is G\n",
      "The amino acid of GGA is G\n",
      "The amino acid of GGG is G\n",
      "The amino acid of AGA is R\n",
      "The amino acid of AGG is R\n",
      "The amino acid of AGU is Y\n",
      "The amino acid of AGC is Y\n",
      "The amino acid of AAU is N\n",
      "The amino acid of AAC is N\n",
      "The amino acid of AAA is K\n",
      "The amino acid of AAG is K\n",
      "The amino acid of ACU is T\n",
      "The amino acid of ACC is T\n",
      "The amino acid of ACA is T\n",
      "The amino acid of ACG is T\n",
      "The amino acid of AUU is I\n",
      "The amino acid of AUC is I\n",
      "The amino acid of AUA is I\n",
      "The amino acid of AUG is M\n",
      "The amino acid of CGU is R\n",
      "The amino acid of CGC is R\n",
      "The amino acid of CGA is R\n",
      "The amino acid of CGG is R\n",
      "The amino acid of CCU is P\n",
      "The amino acid of CCC is P\n",
      "The amino acid of CCA is P\n",
      "The amino acid of CCG is P\n",
      "The amino acid of CAU is H\n",
      "The amino acid of CAC is H\n",
      "The amino acid of CAA is Q\n",
      "The amino acid of CAG is Q\n",
      "The amino acid of UUU is F\n",
      "The amino acid of UUC is F\n",
      "The amino acid of UUA is L\n",
      "The amino acid of UUG is L\n",
      "The amino acid of UCU is Y\n",
      "The amino acid of UCC is Y\n",
      "The amino acid of UCA is Y\n",
      "The amino acid of UCG is Y\n",
      "The amino acid of UAU is Y\n",
      "The amino acid of UAC is Y\n",
      "The amino acid of UAA is STOP\n",
      "The amino acid of UAG is STOP\n",
      "The amino acid of UGU is C\n",
      "The amino acid of UGC is C\n",
      "The amino acid of UGA is STOP\n",
      "The amino acid of UGG is W\n",
      "The amino acid of CUU is L\n",
      "The amino acid of CUC is L\n",
      "The amino acid of CUA is L\n",
      "The amino acid of CUG is L\n"
     ]
    }
   ],
   "source": [
    "#### EXAMPLE 3: Using for to loop through the elements of a dictionary\n",
    "genetic_code = {\n",
    "    \"GUU\": \"V\", \"GUC\": \"V\", \"GUA\": \"V\",\n",
    "    \"GUG\": \"V\", \"GCU\": \"A\", \"GCC\": \"A\",\n",
    "    \"GCA\": \"A\", \"GCG\": \"A\", \"GAU\": \"D\",\n",
    "    \"GAC\": \"D\", \"GAA\": \"E\", \"GAG\": \"E\",\n",
    "    \"GGU\": \"G\", \"GGC\": \"G\", \"GGA\": \"G\",\n",
    "    \"GGG\": \"G\", \"AGA\": \"R\", \"AGG\": \"R\",\n",
    "    \"AGU\": \"Y\", \"AGC\": \"Y\", \"AAU\": \"N\",\n",
    "    \"AAC\": \"N\", \"AAA\": \"K\", \"AAG\": \"K\",\n",
    "    \"ACU\": \"T\", \"ACC\": \"T\", \"ACA\": \"T\",\n",
    "    \"ACG\": \"T\", \"AUU\": \"I\", \"AUC\": \"I\",\n",
    "    \"AUA\": \"I\", \"AUG\": \"M\", \"CGU\": \"R\",\n",
    "    \"CGC\": \"R\", \"CGA\": \"R\", \"CGG\": \"R\",\n",
    "    \"CCU\": \"P\", \"CCC\": \"P\", \"CCA\": \"P\",\n",
    "    \"CCG\": \"P\", \"CAU\": \"H\", \"CAC\": \"H\",\n",
    "    \"CAA\": \"Q\", \"CAG\": \"Q\", \"UUU\": \"F\",\n",
    "    \"UUC\": \"F\", \"UUA\": \"L\", \"UUG\": \"L\",\n",
    "    \"UCU\": \"Y\", \"UCC\": \"Y\", \"UCA\": \"Y\",\n",
    "    \"UCG\": \"Y\", \"UAU\": \"Y\", \"UAC\": \"Y\",\n",
    "    \"UAA\": \"STOP\", \"UAG\": \"STOP\", \"UGU\":\"C\",\n",
    "    \"UGC\": \"C\", \"UGA\": \"STOP\", \"UGG\": \"W\",\n",
    "    \"CUU\": \"L\", \"CUC\": \"L\", \"CUA\": \"L\",\n",
    "    \"CUG\": \"L\"}\n",
    "\n",
    "for codon, gene in genetic_code.items():\n",
    "    print(f\"The amino acid of {codon} is {gene}\")"
   ]
  },
  {
   "cell_type": "markdown",
   "metadata": {},
   "source": [
    "# Practice 2: Expression of genetic material\n",
    "\n",
    "## Concepts to work\n",
    "\n",
    "**Translation**, is the synthesis of a protein from the mRNA chain, this occurs within proteins called ribosomes, during this process, the mRNA sequence is read in groups of three nucleotides, called **codons **, which are interpreted by a **genetic code** resulting in an amino acid coding (fig. 4), which will fold and form proteins (fig. 3).\n",
    "\n",
    "<img src=\"img/Figura4-en-es.png\" alt=\"code\" width=\"1000\"/>\n",
    "\n",
    "*Figure 4. Essential genetic code in the expression of proteins where the formation of a codon from a nucleotide (uracil, adenine, guanine, or cytokine) is evidenced, from the start sequence (green) and the stop sequences (red ). Figure modified from: [Molecular biology of the gene, (2008), 15, 509-569]( https://books.google.com.co/books?id=7tadzgEACAAJ&dq=Molecular+biology+of+the+gene&hl=es-419&sa=X&redir_esc=y)*\n",
    "\n",
    "The ribosome reads the sequence in order, looking for the AUG **start** codon, which, in turn, codes for the methionine amino acid and begins the translation, as it continues advancing it builds the chain of amino acids, it is a process that repeats many times, in which the nucleotide triplets are read and the corresponding amino acid is attached (fig. 3). The resulting chain can be long or short, it is addressed until it finds one of the three codons that code for **stop** (UAA, UGA or UAG) (fig. 4), when synthesized, the chain is released from the ribosome and It is modified or combined to form a functional protein with a specific structure involved in some essential process for the cell or organism.\n"
   ]
  },
  {
   "cell_type": "markdown",
   "metadata": {},
   "source": [
    "## Problem Statement\n",
    "Continuing with the general objective, to obtain basic information on the cytochrome P450 enzyme, a protein previously worked on. To do this, we are going to carry out the second phase involved in gene expression, in order to obtain the amino acids that code for the protein.\n",
    "\n",
    "First, we must create a dictionary in which the genetic code is found, where they specify the codons (nucleotide triplets) that synthesize their corresponding amino acid. We must take into account the `key-value` pairs, where the `key` would be the codons and the `value` would be the amino acids."
   ]
  },
  {
   "cell_type": "code",
   "execution_count": 57,
   "metadata": {},
   "outputs": [
    {
     "name": "stdout",
     "output_type": "stream",
     "text": [
      " Codons are: \n",
      "['GUU', 'GUC', 'GUA', 'GUG', 'GCU', 'GCC', 'GCA', 'GCG', 'GAU', 'GAC', 'GAA', 'GAG', 'GGU', 'GGC', 'GGA', 'GGG', 'AGA', 'AGG', 'AGU', 'AGC', 'AAU', 'AAC', 'AAA', 'AAG', 'ACU', 'ACC', 'ACA', 'ACG', 'AUU', 'AUC', 'AUA', 'AUG', 'CGU', 'CGC', 'CGA', 'CGG', 'CCU', 'CCC', 'CCA', 'CCG', 'CAU', 'CAC', 'CAA', 'CAG', 'UUU', 'UUC', 'UUA', 'UUG', 'UCU', 'UCC', 'UCA', 'UCG', 'UAU', 'UAC', 'UAA', 'UAG', 'UGU', 'UGC', 'UGA', 'UGG', 'CUU', 'CUC', 'CUA', 'CUG']\n",
      "-----------------\n",
      " Amino acids are: \n",
      "['V', 'V', 'V', 'V', 'A', 'A', 'A', 'A', 'D', 'D', 'E', 'E', 'G', 'G', 'G', 'G', 'R', 'R', 'S', 'S', 'N', 'N', 'K', 'K', 'T', 'T', 'T', 'T', 'I', 'I', 'I', 'M', 'R', 'R', 'R', 'R', 'P', 'P', 'P', 'P', 'H', 'H', 'Q', 'Q', 'F', 'F', 'L', 'L', 'S', 'S', 'S', 'S', 'Y', 'Y', 'STOP', 'STOP', 'C', 'C', 'STOP', 'W', 'L', 'L', 'L', 'L']\n"
     ]
    }
   ],
   "source": [
    "#Dictionary of codons for translation\n",
    "genetic_code = {\"GUU\": \"V\", \"GUC\": \"V\", \"GUA\": \"V\", \"GUG\": \"V\", \"GCU\": \"A\", \"GCC\": \"A\", \"GCA\": \"A\", \"GCG\": \"A\",\n",
    "                \"GAU\": \"D\", \"GAC\": \"D\", \"GAA\": \"E\", \"GAG\": \"E\", \"GGU\": \"G\", \"GGC\": \"G\", \"GGA\": \"G\", \"GGG\": \"G\",\n",
    "                \"AGA\": \"R\", \"AGG\": \"R\", \"AGU\": \"S\", \"AGC\": \"S\", \"AAU\": \"N\", \"AAC\": \"N\", \"AAA\": \"K\", \"AAG\": \"K\",\n",
    "                \"ACU\": \"T\", \"ACC\": \"T\", \"ACA\": \"T\", \"ACG\": \"T\", \"AUU\": \"I\", \"AUC\": \"I\", \"AUA\": \"I\", \"AUG\": \"M\",\n",
    "                \"CGU\": \"R\", \"CGC\": \"R\", \"CGA\": \"R\", \"CGG\": \"R\", \"CCU\": \"P\", \"CCC\": \"P\", \"CCA\": \"P\", \"CCG\": \"P\",\n",
    "                \"CAU\": \"H\", \"CAC\": \"H\", \"CAA\": \"Q\", \"CAG\": \"Q\", \"UUU\": \"F\", \"UUC\": \"F\", \"UUA\": \"L\", \"UUG\": \"L\",\n",
    "                \"UCU\": \"S\", \"UCC\": \"S\", \"UCA\": \"S\", \"UCG\": \"S\", \"UAU\": \"Y\", \"UAC\": \"Y\", \"UAA\": \"STOP\", \"UAG\": \"STOP\",\n",
    "                \"UGU\": \"C\", \"UGC\": \"C\", \"UGA\": \"STOP\", \"UGG\": \"W\", \"CUU\": \"L\", \"CUC\": \"L\", \"CUA\": \"L\", \"CUG\": \"L\"}\n",
    "\n",
    "print(f' Codons are: \\n{list(genetic_code.keys())}')\n",
    "print('-----------------')\n",
    "print(f' Amino acids are: \\n{list(genetic_code.values())}')"
   ]
  },
  {
   "cell_type": "markdown",
   "metadata": {},
   "source": [
    "## Control Structures\n",
    "Next, we will use the **control structures** to be able to analyze the RNA sequence of the cytochrome `RNA_CYP2C9` to synthesize the protein, following these steps:\n",
    "1. Identify the start of the protein: AUG\n",
    "2. Divide by threes\n",
    "3. Find the stop (there can be several, look at the dictionary)\n",
    "4. Print the protein: AUG(codons - in threes)STOP"
   ]
  },
  {
   "cell_type": "code",
   "execution_count": 58,
   "metadata": {},
   "outputs": [
    {
     "name": "stdout",
     "output_type": "stream",
     "text": [
      ">> Protein found\n",
      "Protein: MDSLVVLVLCLSCLLLLSLWRQSSGRGKLPPGPTPLPVIGNILQIGIKDISKSLTNLSKVYGPVFTLYFGLKPIVVLHGYEAVKEALIDLGEEFSGRGIFPLAERANRGFGIVFSNGKKWKEIRRFSLMTLRNFGMGKRSIEDRVQEEARCLVEELRKTKASPCDPTFILGCAPCNVICSIIFHKRFDYKDQQFLNLMEKLNENIKILSSPWIQICNNFSPIIDYFPGTHNKLLKNVAFMKSYILEKVKEHQESMDMNNPQDFIDCFLMKMEKEKHNQPSEFTIESLENTAVDLFGAGTETTSTTLRYALLLLLKHPEVTAKVQEEIERVIGRNRSPCMQDRSHMPYTDAVVHEVQRYIDLLPTSLPHAVTCDIKFRNYLIPKGTTILISLTSVLHDNKEFPNPEMFDPHHFLDEGGNFKKSKYFMPFSAGKRICVGEALAGMELFLFLTSILQNFNLKSLVDPKNLDTTPVVNGFASVPPFYQLCFIPV\n"
     ]
    }
   ],
   "source": [
    "# reload the sequence\n",
    "with open(\"data/sec_CYP2C9.fasta\", \"r\") as GEN:\n",
    "    sec_CYP2C9 = GEN.read()\n",
    "DNA_CYP2C9 =(''.join(sec_CYP2C9.split('\\n')[1:]))\n",
    "RNA_CYP2C9 = DNA_CYP2C9.replace(\"T\",\"U\")\n",
    "\n",
    "run = True\n",
    "# search start codon AUG\n",
    "i = 0\n",
    "for i in range(len(RNA_CYP2C9)):\n",
    "    if RNA_CYP2C9[i:i + 3] == 'AUG':  # Start of protein found\n",
    "        RNA_CYP2C9 = RNA_CYP2C9[i:]  # trim sequence. new RNA\n",
    "        break  # end the for loop\n",
    "    if i >= (len(RNA_CYP2C9) - 3):   # Protein start NOT found\n",
    "        print('Start codon not found AUG')\n",
    "        RNA_CYP2C9 = RNA_CYP2C9[i:i + 3]\n",
    "        run = False   # end up\n",
    "        break   # end the for loop\n",
    "\n",
    "# This code is only executed if the start of the protein was found\n",
    "# Executes with the sequence trimmed\n",
    "\n",
    "protein = list()\n",
    "if run:\n",
    "    i = 0\n",
    "    # start translation\n",
    "    while i <= len(RNA_CYP2C9) - 2:\n",
    "        codon = genetic_code[RNA_CYP2C9[i:i + 3]]\n",
    "        protein.append(codon)\n",
    "        i += 3\n",
    "        if codon == 'STOP':\n",
    "            print(f'>> Protein found')\n",
    "            RNA_CYP2C9 = RNA_CYP2C9[i:]  # new RNA (trimmed)\n",
    "            protein = protein[:-1]\n",
    "            protein_text = ''.join(protein)\n",
    "            print(f'Protein: {protein_text}')\n",
    "            break\n",
    "        if i >= (len(RNA_CYP2C9) - 3):\n",
    "            print('Codon not found STOP')\n",
    "            RNA_KR711927 = RNA_CYP2C9[i:i + 3]\n",
    "            break"
   ]
  },
  {
   "cell_type": "code",
   "execution_count": 59,
   "metadata": {},
   "outputs": [
    {
     "name": "stdout",
     "output_type": "stream",
     "text": [
      "['M', 'D', 'S', 'L', 'V', 'V', 'L', 'V', 'L', 'C', 'L', 'S', 'C', 'L', 'L', 'L', 'L', 'S', 'L', 'W', 'R', 'Q', 'S', 'S', 'G', 'R', 'G', 'K', 'L', 'P', 'P', 'G', 'P', 'T', 'P', 'L', 'P', 'V', 'I', 'G', 'N', 'I', 'L', 'Q', 'I', 'G', 'I', 'K', 'D', 'I', 'S', 'K', 'S', 'L', 'T', 'N', 'L', 'S', 'K', 'V', 'Y', 'G', 'P', 'V', 'F', 'T', 'L', 'Y', 'F', 'G', 'L', 'K', 'P', 'I', 'V', 'V', 'L', 'H', 'G', 'Y', 'E', 'A', 'V', 'K', 'E', 'A', 'L', 'I', 'D', 'L', 'G', 'E', 'E', 'F', 'S', 'G', 'R', 'G', 'I', 'F', 'P', 'L', 'A', 'E', 'R', 'A', 'N', 'R', 'G', 'F', 'G', 'I', 'V', 'F', 'S', 'N', 'G', 'K', 'K', 'W', 'K', 'E', 'I', 'R', 'R', 'F', 'S', 'L', 'M', 'T', 'L', 'R', 'N', 'F', 'G', 'M', 'G', 'K', 'R', 'S', 'I', 'E', 'D', 'R', 'V', 'Q', 'E', 'E', 'A', 'R', 'C', 'L', 'V', 'E', 'E', 'L', 'R', 'K', 'T', 'K', 'A', 'S', 'P', 'C', 'D', 'P', 'T', 'F', 'I', 'L', 'G', 'C', 'A', 'P', 'C', 'N', 'V', 'I', 'C', 'S', 'I', 'I', 'F', 'H', 'K', 'R', 'F', 'D', 'Y', 'K', 'D', 'Q', 'Q', 'F', 'L', 'N', 'L', 'M', 'E', 'K', 'L', 'N', 'E', 'N', 'I', 'K', 'I', 'L', 'S', 'S', 'P', 'W', 'I', 'Q', 'I', 'C', 'N', 'N', 'F', 'S', 'P', 'I', 'I', 'D', 'Y', 'F', 'P', 'G', 'T', 'H', 'N', 'K', 'L', 'L', 'K', 'N', 'V', 'A', 'F', 'M', 'K', 'S', 'Y', 'I', 'L', 'E', 'K', 'V', 'K', 'E', 'H', 'Q', 'E', 'S', 'M', 'D', 'M', 'N', 'N', 'P', 'Q', 'D', 'F', 'I', 'D', 'C', 'F', 'L', 'M', 'K', 'M', 'E', 'K', 'E', 'K', 'H', 'N', 'Q', 'P', 'S', 'E', 'F', 'T', 'I', 'E', 'S', 'L', 'E', 'N', 'T', 'A', 'V', 'D', 'L', 'F', 'G', 'A', 'G', 'T', 'E', 'T', 'T', 'S', 'T', 'T', 'L', 'R', 'Y', 'A', 'L', 'L', 'L', 'L', 'L', 'K', 'H', 'P', 'E', 'V', 'T', 'A', 'K', 'V', 'Q', 'E', 'E', 'I', 'E', 'R', 'V', 'I', 'G', 'R', 'N', 'R', 'S', 'P', 'C', 'M', 'Q', 'D', 'R', 'S', 'H', 'M', 'P', 'Y', 'T', 'D', 'A', 'V', 'V', 'H', 'E', 'V', 'Q', 'R', 'Y', 'I', 'D', 'L', 'L', 'P', 'T', 'S', 'L', 'P', 'H', 'A', 'V', 'T', 'C', 'D', 'I', 'K', 'F', 'R', 'N', 'Y', 'L', 'I', 'P', 'K', 'G', 'T', 'T', 'I', 'L', 'I', 'S', 'L', 'T', 'S', 'V', 'L', 'H', 'D', 'N', 'K', 'E', 'F', 'P', 'N', 'P', 'E', 'M', 'F', 'D', 'P', 'H', 'H', 'F', 'L', 'D', 'E', 'G', 'G', 'N', 'F', 'K', 'K', 'S', 'K', 'Y', 'F', 'M', 'P', 'F', 'S', 'A', 'G', 'K', 'R', 'I', 'C', 'V', 'G', 'E', 'A', 'L', 'A', 'G', 'M', 'E', 'L', 'F', 'L', 'F', 'L', 'T', 'S', 'I', 'L', 'Q', 'N', 'F', 'N', 'L', 'K', 'S', 'L', 'V', 'D', 'P', 'K', 'N', 'L', 'D', 'T', 'T', 'P', 'V', 'V', 'N', 'G', 'F', 'A', 'S', 'V', 'P', 'P', 'F', 'Y', 'Q', 'L', 'C', 'F', 'I', 'P', 'V']\n"
     ]
    }
   ],
   "source": [
    "# the protein variable stores a list of each amino acid\n",
    "print(protein)"
   ]
  },
  {
   "cell_type": "markdown",
   "metadata": {},
   "source": [
    "## Practice activity 2\n",
    "Based on what you have learned, analyze the sequence of amino acids obtained from the RNA protein and answer:\n",
    "1. How many amino acids does the protein have?\n",
    "2. What is the most repeated amino acid?\n",
    "3. Identify the nucleotide at which amino acid synthesis begins\n",
    "4. At which nucleotide does amino acid synthesis end?"
   ]
  },
  {
   "cell_type": "markdown",
   "metadata": {},
   "source": [
    "## Conclusions\n",
    "\n",
    "At this point in the practice, we use various commands and methods in order to obtain an amino acid sequence from a DNA `strings`, this being a process that can be used in nucleotide sequences of different sizes and from different organisms.\n",
    "\n",
    "Thus, to obtain the amino acids that make up the proteins, we used **arrangements** and **control structures**, where basic information on the amino acids of the cytochrome P450 protein was obtained, which we will use to classify them and obtain general information. of the enzyme from its subunits (practice 3)."
   ]
  },
  {
   "cell_type": "markdown",
   "metadata": {},
   "source": [
    "# Theory: Functions\n",
    "\n",
    "Apart from the native Python expressions and functionalities known so far throughout the book, there are others that are very relevant and necessary when writing any computer program. And we are talking about **functions**: A function is basically a piece of code that can be reused, that has a name that identifies it, and receives some input parameters. Functions generally do not always return the same result, they have a behavior based on the values ​​of their arguments.\n",
    "\n",
    "When defining a function, it is important to keep in mind that:\n",
    "\n",
    "1. Have a name that explains at first sight, the result and the operation it performs.\n",
    "2. Most functions receive one or more parameters necessary to perform the operation, although they may not receive any.\n",
    "3. They usually return a result, although this is not always the case."
   ]
  },
  {
   "cell_type": "markdown",
   "metadata": {},
   "source": [
    "```markdown\n",
    "def <function_name>(<parameters>):\n",
    "    code block\n",
    "    code block\n",
    "    ...\n",
    "    return <object>\n",
    "```"
   ]
  },
  {
   "cell_type": "markdown",
   "metadata": {},
   "source": [
    "Let's see an example:\n",
    "The following function, when executed, returns a data of the `string` type if the protein is found in the dictionary or, failing that, it returns `None`."
   ]
  },
  {
   "cell_type": "code",
   "execution_count": 60,
   "metadata": {},
   "outputs": [
    {
     "name": "stdout",
     "output_type": "stream",
     "text": [
      "The amino acid of GCG is: A\n"
     ]
    }
   ],
   "source": [
    "#### EXAMPLE 1: Checking for codon existence of a codon list\n",
    "# Dictionary of proteins and their type:\n",
    "genetic_code = {\"GUU\": \"V\", \"GUC\": \"V\", \"GUA\": \"V\", \"GUG\": \"V\", \"GCU\": \"A\", \"GCC\": \"A\", \"GCA\": \"A\", \"GCG\": \"A\",\n",
    "                \"GAU\": \"D\", \"GAC\": \"D\", \"GAA\": \"E\", \"GAG\": \"E\", \"GGU\": \"G\", \"GGC\": \"G\", \"GGA\": \"G\", \"GGG\": \"G\",\n",
    "                \"AGA\": \"R\", \"AGG\": \"R\", \"AGU\": \"S\", \"AGC\": \"S\", \"AAU\": \"N\", \"AAC\": \"N\", \"AAA\": \"K\", \"AAG\": \"K\",\n",
    "                \"ACU\": \"T\", \"ACC\": \"T\", \"ACA\": \"T\", \"ACG\": \"T\", \"AUU\": \"I\", \"AUC\": \"I\", \"AUA\": \"I\", \"AUG\": \"M\",\n",
    "                \"CGU\": \"R\", \"CGC\": \"R\", \"CGA\": \"R\", \"CGG\": \"R\", \"CCU\": \"P\", \"CCC\": \"P\", \"CCA\": \"P\", \"CCG\": \"P\",\n",
    "                \"CAU\": \"H\", \"CAC\": \"H\", \"CAA\": \"Q\", \"CAG\": \"Q\", \"UUU\": \"F\", \"UUC\": \"F\", \"UUA\": \"L\", \"UUG\": \"L\",\n",
    "                \"UCU\": \"S\", \"UCC\": \"S\", \"UCA\": \"S\", \"UCG\": \"S\", \"UAU\": \"Y\", \"UAC\": \"Y\", \"UAA\": \"STOP\", \"UAG\": \"STOP\",\n",
    "                \"UGU\": \"C\", \"UGC\": \"C\", \"UGA\": \"STOP\", \"UGG\": \"W\", \"CUU\": \"L\", \"CUC\": \"L\", \"CUA\": \"L\", \"CUG\": \"L\"}\n",
    "\n",
    "\n",
    "# function that checks if there is a codon defined in the dictionary and returns its genetic code or its default returns a None value.\n",
    "def codon_gen_code(codon):\n",
    "    if codon in genetic_code:\n",
    "        return genetic_code[codon]\n",
    "\n",
    "# execute the function\n",
    "print(f'The amino acid of GCG is: {codon_gen_code(\"GCG\")}')"
   ]
  },
  {
   "cell_type": "markdown",
   "metadata": {},
   "source": [
    "*Observations*:\n",
    "* Every function must start with the keyword **def** followed by the name, followed by the parameters in parentheses and end the line with a colon\n",
    "    * The name of the function is: **type_of_protein**\n",
    "    * The parameter that the function receives is: **protein_name**\n",
    "* The body of the function is indented four spaces.\n",
    "* The end of the block is when the line returns to the previous level\n",
    "* Once the function has been created, it can be called with its name followed by parentheses and, if necessary, send the parameters by reference."
   ]
  },
  {
   "cell_type": "markdown",
   "metadata": {},
   "source": [
    "### Parameters of a function\n",
    "\n",
    "A function can receive more than one parameter, in the previous example the function only received one, but we can add more. For example, let's modify the function so that it also receives the list of `proteins`:"
   ]
  },
  {
   "cell_type": "code",
   "execution_count": 61,
   "metadata": {},
   "outputs": [
    {
     "data": {
      "text/plain": [
       "'T'"
      ]
     },
     "execution_count": 61,
     "metadata": {},
     "output_type": "execute_result"
    }
   ],
   "source": [
    "#### EXAMPLE 2\n",
    "\n",
    "# function that checks if there is a codon defined in the dictionary and returns its genetic code or its default returns a None value.\n",
    "# notice that this function takes two parameters\n",
    "def codon_gen_code (codones_type, name):\n",
    "    if name in codones_type:\n",
    "        return codones_type[name]\n",
    "\n",
    "# Way to execute the previously created function\n",
    "codon_gen_code(genetic_code, \"ACC\")"
   ]
  },
  {
   "cell_type": "markdown",
   "metadata": {},
   "source": [
    "Now that it is not necessary to define the variable proteins before the function, this is because the functions have their own execution context, now the value of the variable `proteins` is referenced when executing the function, as its first parameter.\n",
    "\n",
    "About the parameters it is important to highlight that:\n",
    "\n",
    "* They must have clear and legible names that complement what the function does\n",
    "* They can be of any type as in the case of the previous example `proteins` is a dictionary while `protein_name` is of type string\n",
    "* They can have default values, let's see an example below."
   ]
  },
  {
   "cell_type": "code",
   "execution_count": 62,
   "metadata": {},
   "outputs": [
    {
     "data": {
      "text/plain": [
       "'N'"
      ]
     },
     "execution_count": 62,
     "metadata": {},
     "output_type": "execute_result"
    }
   ],
   "source": [
    "#### EXAMPLE 3\n",
    "\n",
    "# Default parameter protein_name='AAU'\n",
    "def codon_gen_code(codon_types, name='AAU'):\n",
    "    if name in codon_types:\n",
    "        return codon_types[name]\n",
    "\n",
    "# protein_name it is not necessary to pass it as a reference since it has a default value in the function definition.\n",
    "codon_gen_code(genetic_code)"
   ]
  },
  {
   "cell_type": "markdown",
   "metadata": {},
   "source": [
    "Now let's review the implementation of practice #1 and make a function that is of the general type and that helps us find any protein."
   ]
  },
  {
   "cell_type": "code",
   "execution_count": 63,
   "metadata": {},
   "outputs": [
    {
     "name": "stdout",
     "output_type": "stream",
     "text": [
      ">> Protein found\n",
      "Protein: MDSLVVLVLCLSCLLLLSLWRQSSGRGKLPPGPTPLPVIGNILQIGIKDISKSLTNLSKVYGPVFTLYFGLKPIVVLHGYEAVKEALIDLGEEFSGRGIFPLAERANRGFGIVFSNGKKWKEIRRFSLMTLRNFGMGKRSIEDRVQEEARCLVEELRKTKASPCDPTFILGCAPCNVICSIIFHKRFDYKDQQFLNLMEKLNENIKILSSPWIQICNNFSPIIDYFPGTHNKLLKNVAFMKSYILEKVKEHQESMDMNNPQDFIDCFLMKMEKEKHNQPSEFTIESLENTAVDLFGAGTETTSTTLRYALLLLLKHPEVTAKVQEEIERVIGRNRSPCMQDRSHMPYTDAVVHEVQRYIDLLPTSLPHAVTCDIKFRNYLIPKGTTILISLTSVLHDNKEFPNPEMFDPHHFLDEGGNFKKSKYFMPFSAGKRICVGEALAGMELFLFLTSILQNFNLKSLVDPKNLDTTPVVNGFASVPPFYQLCFIPV\n"
     ]
    }
   ],
   "source": [
    "#### EXAMPLE 4: Function that is responsible for finding a protein from RNA and an initial codon.\n",
    "\n",
    "# reload the sequence\n",
    "\n",
    "with open(\"data/sec_CYP2C9.fasta\", \"r\") as GEN:\n",
    "    sec_CYP2C9 = GEN.read()\n",
    "DNA_CYP2C9 =(''.join(sec_CYP2C9.split('\\n')[1:]))\n",
    "RNA_CYP2C9 = DNA_CYP2C9.replace(\"T\",\"U\")\n",
    "\n",
    "\n",
    "def rna_a_protein(rna, start_codon='AUG'):\n",
    "    run = True\n",
    "   # search start codon AUG\n",
    "    i = 0\n",
    "    for i in range(len(rna)):\n",
    "        if rna[i:i + 3] == start_codon:  # Start of protein found\n",
    "            rna = rna[i:]  # trim sequence. new RNA\n",
    "            break  # end the for loop\n",
    "        if i >= (len(rna) - 3):  # Protein start NOT found\n",
    "            print('Start codon not found AUG')\n",
    "            rna = rna[i:i + 3]\n",
    "            run = False  # end up\n",
    "            break  # end the for loop\n",
    "\n",
    "    # This code is only executed if the start of the protein was found\n",
    "    # Executes with the sequence trimmed\n",
    "    if run:\n",
    "        i = 0\n",
    "        protein = list()\n",
    "# start translation\n",
    "        while i <= len(rna) - 2:\n",
    "            codon = genetic_code[rna[i:i + 3]]\n",
    "            protein.append(codon)\n",
    "            i += 3\n",
    "            if codon == 'STOP':\n",
    "                print(f'>> Protein found')\n",
    "                rna = rna[i:]  # new RNA (trimmed)\n",
    "                protein = protein[:-1]\n",
    "                protein_text = ''.join(protein)\n",
    "                print(f'Protein: {protein_text}')\n",
    "                break\n",
    "            if i >= (len(rna) - 3):\n",
    "                print('No codon found STOP')\n",
    "                rna = rna[i:i + 3]\n",
    "                break\n",
    "\n",
    "# We call the function with the necessary arguments\n",
    "rna_a_protein(RNA_CYP2C9, \"AUG\")"
   ]
  },
  {
   "cell_type": "markdown",
   "metadata": {},
   "source": [
    "# Practice 3: Proteins and amino acids\n",
    "## Concepts to work\n",
    "The functional diversity expressed by the proteins starts from the molecular variety and the specific sequence that composes them. Amino acids are low molecular weight subunits, which fulfill a specific function in the structure of the protein, due to their physicochemical properties, such as polarity, acidity or basicity, aromaticity, size, capacity to form bonds or their chemical reactivity (Fig. . 5). For this reason, they can be classified in different ways:\n",
    "\n",
    "<img src=\"img/Figura5-en.jpg\" alt=\"aminoácidos1\" width=\"600\"/>\n",
    "\n",
    "*Figure 5. : Diagram of some physicochemical properties of amino acids. Figure modified from: [Asencio, T., Aguilar, J. (2010) Spanish Congress on Technologies and Fuzzy Logic.(https://www.researchgate.net/publication/266892662_Importancia_de_las_Propiedades_Fisico-Quimicas_de_los_Aminoacidos_en_la_Prediccion_de_Estructuras_de_Proteinas_usando_Vecinos_mas*)\n",
    "\n",
    "1. By polarity, the ability to interact with water molecules, dividing into:\n",
    "\n",
    "   * Apolar: hydrophobic.\n",
    "   * Polar: hydrophilic.\n",
    "   * Acids: negative charge at pH.\n",
    "   * Basic: positive charge at physiological pH.\n",
    "\n",
    "<img src=\"img/Figura6-en.jpg\" alt=\"aminoácidos2\" width=\"600\"/>\n",
    "\n",
    "*Figure 6. Structure and classification of amino acids by their polarity. Figure modified from: [Trudy McKee, James R. McKee. (2014)]( https://accessmedicina.mhmedical.com/book.aspx?bookid=1960)*\n",
    "\n",
    "2. Due to the conformation of their side chain, they can be grouped into:\n",
    "   * Aliphatic\n",
    "   * Aromatics\n",
    "   * Hydroxyamino acids\n",
    "   * Thioamino acids\n",
    "   * Imino acids\n",
    "   * Dicarboxylic\n",
    "   * Amides\n",
    "   * Dibasic\n",
    "\n",
    "Knowing the physicochemical properties of proteins have facilitated the prediction of their secondary structures, that is, understanding the folding of proteins for the three-dimensional formation from the chain of amino acids that form it, this through the possible links established between the proteins. subunits and between proteins."
   ]
  },
  {
   "cell_type": "markdown",
   "metadata": {},
   "source": [
    "## Problem Statement\n",
    "To solve the general objective of the practice, we will analyze 2 physicochemical properties of the cytochrome P450 enzyme, using the information in figures 6 and 7 as a guide. In this way, we will obtain the basic information of the protein, which would facilitate a prediction of its folding through the use of omic sciences. The properties we are going to evaluate are:\n",
    "* Polarity\n",
    "* Acidity or basicity\n",
    "\n",
    "Before beginning, we must create a dictionary of the physicochemical properties that we want to evaluate, with the classification of each amino acid. Where, the `key` would be the amino acids and the `value` the properties."
   ]
  },
  {
   "cell_type": "code",
   "execution_count": 64,
   "metadata": {},
   "outputs": [
    {
     "name": "stdout",
     "output_type": "stream",
     "text": [
      "Amino acids are: \n",
      "['A', 'V', 'L', 'G', 'I', 'F', 'W', 'M', 'P', 'S', 'T', 'Y', 'N', 'Q', 'C', 'D', 'E', 'K', 'R', 'H']\n",
      "-----------------\n",
      "The properties are: \n",
      "{'Acid', 'Polar', 'Nonpolar', 'Basic'}\n"
     ]
    }
   ],
   "source": [
    "#Dictionary of amino acids for their classification\n",
    "properties= {\"A\": \"Nonpolar\", \"V\": \"Nonpolar\", \"L\": \"Nonpolar\", \"G\": \"Nonpolar\", \"I\": \"Nonpolar\", \"F\": \"Nonpolar\",\"W\": \"Nonpolar\", \"M\": \"Nonpolar\", \"P\": \"Nonpolar\", \"S\": \"Polar\", \"T\": \"Polar\", \"Y\": \"Polar\", \"N\": \"Polar\", \"Q\": \"Polar\", \"C\": \"Polar\", \"D\": \"Acid\", \"E\": \"Acid\", \"K\": \"Basic\", \"R\": \"Basic\",  \"H\": \"Basic\"}\n",
    "\n",
    "print(f'Amino acids are: \\n{list(properties.keys())}')\n",
    "print('-----------------')\n",
    "print(f'The properties are: \\n{set(properties.values())}')\n",
    "# an array is used from the list so that the properties are not repeated"
   ]
  },
  {
   "cell_type": "markdown",
   "metadata": {},
   "source": [
    "Next, we are going to create the `total_elements` function to get the number of polar, nonpolar, acidic, and basic nucleotides present in the protein.\n",
    "The `collections.Counter` module will be used, which organizes the elements of a list in a `Counter` that tells how many times each element is repeated.\n",
    "The `Counter` object can then be turned into a `dictionary` where we can see the information.\n",
    "\n",
    "`Counter` also has useful methods, for example: `.most_common(n)`, which returns the most common n-element of `Counter`.\n",
    "\n",
    "more information https://docs.python.org/3/library/collections.html"
   ]
  },
  {
   "cell_type": "code",
   "execution_count": 65,
   "metadata": {},
   "outputs": [],
   "source": [
    "def total_elements(protein_list):\n",
    "    # The module to be used is imported\n",
    "    from collections import Counter\n",
    "    # An empty list is created where the property of each amino acid is to be stored\n",
    "    list_protein_properties = list()\n",
    "    counter_1 = list()\n",
    "\n",
    "    # Will iterate for each amino acid in the protein\n",
    "    for element in protein_list:\n",
    "\n",
    "        # The amino acid property is found and stored in the list (.append())\n",
    "        list_protein_properties.append(properties[element])\n",
    "        # The Counter method is called to arrange the data\n",
    "        counter_1 = Counter(list_protein_properties)\n",
    "    print(f'Summary of protein properties:')\n",
    "    print(f'Total items: {len(protein_list)}')\n",
    "    print(f'Frequency of properties: {dict(counter_1)}')\n",
    "    print(f'Most common property: {counter_1.most_common(1)[0]}')\n",
    "\n",
    "    return None"
   ]
  },
  {
   "cell_type": "code",
   "execution_count": 66,
   "metadata": {},
   "outputs": [
    {
     "name": "stdout",
     "output_type": "stream",
     "text": [
      "['M', 'D', 'S', 'L', 'V', 'V', 'L', 'V', 'L', 'C', 'L', 'S', 'C', 'L', 'L', 'L', 'L', 'S', 'L', 'W', 'R', 'Q', 'S', 'S', 'G', 'R', 'G', 'K', 'L', 'P', 'P', 'G', 'P', 'T', 'P', 'L', 'P', 'V', 'I', 'G', 'N', 'I', 'L', 'Q', 'I', 'G', 'I', 'K', 'D', 'I', 'S', 'K', 'S', 'L', 'T', 'N', 'L', 'S', 'K', 'V', 'Y', 'G', 'P', 'V', 'F', 'T', 'L', 'Y', 'F', 'G', 'L', 'K', 'P', 'I', 'V', 'V', 'L', 'H', 'G', 'Y', 'E', 'A', 'V', 'K', 'E', 'A', 'L', 'I', 'D', 'L', 'G', 'E', 'E', 'F', 'S', 'G', 'R', 'G', 'I', 'F', 'P', 'L', 'A', 'E', 'R', 'A', 'N', 'R', 'G', 'F', 'G', 'I', 'V', 'F', 'S', 'N', 'G', 'K', 'K', 'W', 'K', 'E', 'I', 'R', 'R', 'F', 'S', 'L', 'M', 'T', 'L', 'R', 'N', 'F', 'G', 'M', 'G', 'K', 'R', 'S', 'I', 'E', 'D', 'R', 'V', 'Q', 'E', 'E', 'A', 'R', 'C', 'L', 'V', 'E', 'E', 'L', 'R', 'K', 'T', 'K', 'A', 'S', 'P', 'C', 'D', 'P', 'T', 'F', 'I', 'L', 'G', 'C', 'A', 'P', 'C', 'N', 'V', 'I', 'C', 'S', 'I', 'I', 'F', 'H', 'K', 'R', 'F', 'D', 'Y', 'K', 'D', 'Q', 'Q', 'F', 'L', 'N', 'L', 'M', 'E', 'K', 'L', 'N', 'E', 'N', 'I', 'K', 'I', 'L', 'S', 'S', 'P', 'W', 'I', 'Q', 'I', 'C', 'N', 'N', 'F', 'S', 'P', 'I', 'I', 'D', 'Y', 'F', 'P', 'G', 'T', 'H', 'N', 'K', 'L', 'L', 'K', 'N', 'V', 'A', 'F', 'M', 'K', 'S', 'Y', 'I', 'L', 'E', 'K', 'V', 'K', 'E', 'H', 'Q', 'E', 'S', 'M', 'D', 'M', 'N', 'N', 'P', 'Q', 'D', 'F', 'I', 'D', 'C', 'F', 'L', 'M', 'K', 'M', 'E', 'K', 'E', 'K', 'H', 'N', 'Q', 'P', 'S', 'E', 'F', 'T', 'I', 'E', 'S', 'L', 'E', 'N', 'T', 'A', 'V', 'D', 'L', 'F', 'G', 'A', 'G', 'T', 'E', 'T', 'T', 'S', 'T', 'T', 'L', 'R', 'Y', 'A', 'L', 'L', 'L', 'L', 'L', 'K', 'H', 'P', 'E', 'V', 'T', 'A', 'K', 'V', 'Q', 'E', 'E', 'I', 'E', 'R', 'V', 'I', 'G', 'R', 'N', 'R', 'S', 'P', 'C', 'M', 'Q', 'D', 'R', 'S', 'H', 'M', 'P', 'Y', 'T', 'D', 'A', 'V', 'V', 'H', 'E', 'V', 'Q', 'R', 'Y', 'I', 'D', 'L', 'L', 'P', 'T', 'S', 'L', 'P', 'H', 'A', 'V', 'T', 'C', 'D', 'I', 'K', 'F', 'R', 'N', 'Y', 'L', 'I', 'P', 'K', 'G', 'T', 'T', 'I', 'L', 'I', 'S', 'L', 'T', 'S', 'V', 'L', 'H', 'D', 'N', 'K', 'E', 'F', 'P', 'N', 'P', 'E', 'M', 'F', 'D', 'P', 'H', 'H', 'F', 'L', 'D', 'E', 'G', 'G', 'N', 'F', 'K', 'K', 'S', 'K', 'Y', 'F', 'M', 'P', 'F', 'S', 'A', 'G', 'K', 'R', 'I', 'C', 'V', 'G', 'E', 'A', 'L', 'A', 'G', 'M', 'E', 'L', 'F', 'L', 'F', 'L', 'T', 'S', 'I', 'L', 'Q', 'N', 'F', 'N', 'L', 'K', 'S', 'L', 'V', 'D', 'P', 'K', 'N', 'L', 'D', 'T', 'T', 'P', 'V', 'V', 'N', 'G', 'F', 'A', 'S', 'V', 'P', 'P', 'F', 'Y', 'Q', 'L', 'C', 'F', 'I', 'P', 'V']\n",
      "-----------\n",
      "Summary of protein properties:\n",
      "Total items: 490\n",
      "Frequency of properties: {'Nonpolar': 248, 'Acid': 53, 'Polar': 121, 'Basic': 68}\n",
      "Most common property: ('Nonpolar', 248)\n"
     ]
    }
   ],
   "source": [
    "# Protein enzyme cytochrome P450 (found in activity 2)\n",
    "print(protein)\n",
    "print('-----------')\n",
    "total_elements(protein)"
   ]
  },
  {
   "cell_type": "markdown",
   "metadata": {},
   "source": [
    "With this information, we already know the length of the amino acid sequence and the physicochemical properties of its structure, which has both polar and apolar regions, the latter being the most common, which allows us to have an approximation of the character of the amino acids. functional groups with which it tends to react."
   ]
  },
  {
   "cell_type": "markdown",
   "metadata": {},
   "source": [
    "## Practice activities 3\n",
    "Taking into account what has been reviewed in this introductory Notebook and with the help of the bibliography, answer:\n",
    "1. Could amino acids be classified in a different way?\n",
    "2. Perform a new classification of the protein based on the conformation of the side chain\n",
    "3. What is the difference between the final amino acid sequence compared to the sequence of CYP2C19 (NM_000769.4) a sequence from the same family of cytochrome P450 proteins that presents a polymorphism (mutation) in the amino acid sequence."
   ]
  },
  {
   "cell_type": "markdown",
   "metadata": {},
   "source": [
    "## Conclusions\n",
    "In this tutorial, you understood the uses of basic Python tools used in bioinformatics practices, ranging from data collection and management, to the use of commands and methods for data management and analysis. This was done through two phases, a theory and a practice, where we carried out the expression of the genetic material of a protein from a DNA sequence, until obtaining the corresponding amino acids and their properties.\n",
    "In the next tutorials, we will explain more Python tools used in collecting and organizing data obtained from electronic resources, implementing different libraries and their development."
   ]
  },
  {
   "cell_type": "markdown",
   "metadata": {},
   "source": [
    "# Bibliography\n",
    "\n",
    "1.\tCortés, G. & Aguilar-Ruiz, J. (2006). Importancia de las Propiedades Físico-Químicas de los Aminoácidos en la Predicción de Estructuras de Proteínas usando Vecinos más Cercanos.\n",
    "\n",
    "2.\tJiménez, F. &  Merchant, H. (2003). Biología celular y molecular. (1ra ed.). Pearson Educación de México, S.A. de C.V.\n",
    "\n",
    "3.\tMcKee, J. R., & McKee, T. (2014). Bioquímica. Las bases moleculares de la vida. McGraw-Hill Education LLC.\n",
    "\n",
    "4.\tSalazar, A., Sandoval, A., & Armendáriz, J. (2016). Biología Molecular. Fundamentos y aplicaciones en las ciencias de la salud. (2da ed.). HILL/INTERAMERICANA EDITORES, S.A. DE C.V.\n",
    "\n",
    "5.\tWatson, J. D. (2008). Molecular biology of the gene (6th ed.). Pearson/Benjamin Cummings."
   ]
  }
 ],
 "metadata": {
  "kernelspec": {
   "display_name": "Python 3",
   "language": "python",
   "name": "python3"
  },
  "language_info": {
   "codemirror_mode": {
    "name": "ipython",
    "version": 3
   },
   "file_extension": ".py",
   "mimetype": "text/x-python",
   "name": "python",
   "nbconvert_exporter": "python",
   "pygments_lexer": "ipython3",
   "version": "3.6.13"
  }
 },
 "nbformat": 4,
 "nbformat_minor": 4
}
