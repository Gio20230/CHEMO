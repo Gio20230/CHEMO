{
 "cells": [
  {
   "cell_type": "markdown",
   "id": "cd0dd5c4",
   "metadata": {
    "pycharm": {
     "name": "#%% md\n"
    }
   },
   "source": [
    "# Introduccion a la Visualizacion de Datos.\n",
    "\n",
    "\n",
    "Algunos años atrás el reto era como obtener millones de datos, pero en la actualidad esto ya no es un problema, no más hay que visitar el sitio web de [ChEMBL](https://www.ebi.ac.uk/chembl/) donde podemos encontrar una cantidad interesante de moléculas bioactivas con ciertas características para ser convertidas en medicamentos.\n",
    "\n",
    "Si bien el campo de los datos va más allá de su manipulación, también como científicos es valioso desarrollar habilidades relacionadas con la presentación de nuestros hallazgos. Y si quisiéramos ir un poco más allá, algo importante a tener en cuenta aparte de una buena visualización es tener una historia que contar.\n",
    "\n",
    "En Notebooks anteriores aprendimos a manipular algunos conjuntos de datos y para ello vimos desde lo básico de Python hasta lo más avanzado como lo son los [DataFrame](../2_PART_TWO/2.1_Dataframes.ipynb), ahora es tiempo de aprender a crear gráficas *(Visualizaciones)* de nuestros datos utilizando dos de las librerías más famosas en el mundo `Matplotlib` y `Seaborn`. Para la mayoría de los casos, con la primera de éstas sería más que suficiente, pero para realizar gráficas un poco más complejas vamos a utilizar la segunda. Con ellas dos trataremos de crear la mayoría de visualizaciones más populares."
   ]
  },
  {
   "cell_type": "markdown",
   "source": [
    "### Introduccion a Matplotlib\n",
    "\n",
    "Según el sitio web **Matplotlib es una libreria para la creacion de visualizaciones estáticas, animadas e intercativas en Python**. Simple, ¿recuerdan el concepto de Libreria? Si no [aqui](https://www.geeksforgeeks.org/libraries-in-python/) pueden leer un poco más al respecto. No hay mucho que agregar, más alla de que la libreria ya se encuentra instalada como parte de las dependencias del ambiente virtual del curso.\n",
    "\n",
    "> En caso que la librería no esté instalada, puede utilizar el comnado `pip install matplotlib`, o `conda install matplotlib`.\n",
    "\n",
    "Antes de empezar a graficar es bueno desarrollar un entendimiento basico de como funciona esta libreria, dado que en muchos escenarios veremos que es necesario realizar ciertas configuraciones.\n",
    "\n",
    "#### El modulo Pyplot\n",
    "\n",
    "Por lo general el módulo `pyplot` es el foco de interós cuando queremos gráficas con `Matplotlib`, a pesar de que la librería posee una gran variedad de funcionalidades asociadas a otras características como la configuraciín de los estilos y las animaciones. Por lo general, siempre importaremos el modulo de la siguiente forma:\n",
    "\n",
    "```\n",
    "    import matplotlib.pyplot as plt\n",
    "```\n",
    "\n",
    "Para crear una gráfica o **plot** debemos seguir una serie de pasos o llamados de ciertas funciones *(métodos)* que pertenecen al módulo `pyplot`.\n",
    "\n",
    "\n",
    "Veamos cómo se hace a continuación, empecemos importando el dataset de [iris](./data/iris.data) y convirtiéndolo en un DataFrame:"
   ],
   "metadata": {
    "collapsed": false,
    "pycharm": {
     "name": "#%% md\n"
    }
   }
  },
  {
   "cell_type": "code",
   "execution_count": 2,
   "id": "a3b522a5",
   "metadata": {
    "pycharm": {
     "name": "#%%\n"
    }
   },
   "outputs": [
    {
     "data": {
      "text/plain": "   largo_sepalo  ancho_sepalo  largo_petalo  ancho_petalo        clase\n0           5.1           3.5           1.4           0.2  Iris-setosa\n1           4.9           3.0           1.4           0.2  Iris-setosa\n2           4.7           3.2           1.3           0.2  Iris-setosa\n3           4.6           3.1           1.5           0.2  Iris-setosa\n4           5.0           3.6           1.4           0.2  Iris-setosa",
      "text/html": "<div>\n<style scoped>\n    .dataframe tbody tr th:only-of-type {\n        vertical-align: middle;\n    }\n\n    .dataframe tbody tr th {\n        vertical-align: top;\n    }\n\n    .dataframe thead th {\n        text-align: right;\n    }\n</style>\n<table border=\"1\" class=\"dataframe\">\n  <thead>\n    <tr style=\"text-align: right;\">\n      <th></th>\n      <th>largo_sepalo</th>\n      <th>ancho_sepalo</th>\n      <th>largo_petalo</th>\n      <th>ancho_petalo</th>\n      <th>clase</th>\n    </tr>\n  </thead>\n  <tbody>\n    <tr>\n      <th>0</th>\n      <td>5.1</td>\n      <td>3.5</td>\n      <td>1.4</td>\n      <td>0.2</td>\n      <td>Iris-setosa</td>\n    </tr>\n    <tr>\n      <th>1</th>\n      <td>4.9</td>\n      <td>3.0</td>\n      <td>1.4</td>\n      <td>0.2</td>\n      <td>Iris-setosa</td>\n    </tr>\n    <tr>\n      <th>2</th>\n      <td>4.7</td>\n      <td>3.2</td>\n      <td>1.3</td>\n      <td>0.2</td>\n      <td>Iris-setosa</td>\n    </tr>\n    <tr>\n      <th>3</th>\n      <td>4.6</td>\n      <td>3.1</td>\n      <td>1.5</td>\n      <td>0.2</td>\n      <td>Iris-setosa</td>\n    </tr>\n    <tr>\n      <th>4</th>\n      <td>5.0</td>\n      <td>3.6</td>\n      <td>1.4</td>\n      <td>0.2</td>\n      <td>Iris-setosa</td>\n    </tr>\n  </tbody>\n</table>\n</div>"
     },
     "execution_count": 2,
     "metadata": {},
     "output_type": "execute_result"
    }
   ],
   "source": [
    "# Se importa la libreria Pandas\n",
    "import pandas as pd\n",
    "\n",
    "# Se importa los datos del dataset y se convierten en un DataFrame.\n",
    "df_iris = pd.read_csv(\"./data/iris.data\", names=[\"largo_sepalo\", \"ancho_sepalo\", \"largo_petalo\", \"ancho_petalo\", \"clase\"])\n",
    "df_iris.head()"
   ]
  },
  {
   "cell_type": "markdown",
   "id": "36c38aed",
   "metadata": {
    "pycharm": {
     "name": "#%% md\n"
    }
   },
   "source": [
    "Para la creación de la gráfica es necesario invocar el método `plot`, de la siguiente forma:\n",
    "\n",
    "```\n",
    "    plt.plot(x-axis, y-axis)\n",
    "```\n",
    "\n",
    "en donde `x-asix` y `y-axis` son los valores para los ejes respectivos del gráfico, y notemos que aun a este punto no tenemos nuestra visualización, porque para ello es necesario invocar el método `show` como lo vemos a continuación:"
   ]
  },
  {
   "cell_type": "code",
   "execution_count": 3,
   "id": "1a862e13",
   "metadata": {
    "pycharm": {
     "name": "#%%\n"
    }
   },
   "outputs": [
    {
     "data": {
      "text/plain": "<Figure size 432x288 with 1 Axes>",
      "image/png": "[encoded data removed]"
     },
     "metadata": {
      "needs_background": "light"
     },
     "output_type": "display_data"
    }
   ],
   "source": [
    "# Se importa el modulo pyplot de matplotlib\n",
    "import matplotlib.pyplot as plt\n",
    "\n",
    "# Se crea la grafica por medio del metodo plot\n",
    "plt.plot(df_iris.index, df_iris.ancho_petalo)\n",
    "\n",
    "# Se visualiza la grafica\n",
    "plt.show()"
   ]
  },
  {
   "cell_type": "markdown",
   "id": "d77c0606",
   "metadata": {
    "pycharm": {
     "name": "#%% md\n"
    }
   },
   "source": [
    "Como resultado tenemos un gráfico de líneas o por su nombre en inglés un **Line Plot**. \n",
    "En resumen, para la realización de una gráfica con `Matplotlib`, se deben seguir los siguientes pasos:\n",
    "\n",
    "1. Se debe importar el módulo `pyplot` de la librería `Matplotlib`\n",
    "2. Se debe inicializar la gráfica por medio del método `plot`.\n",
    "3. Una vez terminada la inicialización y configuración del **plot** se debe invocar la visualización por medio del método `show`.\n",
    "\n",
    "A veces es necesario crear una grafica de dos variables, por ejemplo si quisieramos ver la grafica de la evolucion del largo y ancho del petalo, hariamos lo siguiente:\n"
   ]
  },
  {
   "cell_type": "code",
   "execution_count": 4,
   "id": "2be87ce8",
   "metadata": {
    "pycharm": {
     "name": "#%%\n"
    }
   },
   "outputs": [
    {
     "data": {
      "text/plain": "<Figure size 432x288 with 1 Axes>",
      "image/png": "[encoded data removed]"
     },
     "metadata": {
      "needs_background": "light"
     },
     "output_type": "display_data"
    }
   ],
   "source": [
    "# Se importa el modulo pyplot de matplotlib\n",
    "import matplotlib.pyplot as plt\n",
    "\n",
    "# Se crea la grafica por medio del metodo plot\n",
    "plt.plot(df_iris.index[:10], df_iris.ancho_petalo[:10], 'o--')\n",
    "plt.plot(df_iris.index[:10], df_iris.largo_petalo[:10], 'o--')\n",
    "\n",
    "# Se visualiza la grafica\n",
    "plt.show()"
   ]
  },
  {
   "cell_type": "markdown",
   "id": "fe4fa6e4",
   "metadata": {
    "pycharm": {
     "name": "#%% md\n"
    }
   },
   "source": [
    "Ahora, que tal si quisieramos más alla de solo presentar una gráfica, darle un título y un nombre a sus ejes, y porque no visualizar los datos en una grilla:"
   ]
  },
  {
   "cell_type": "code",
   "execution_count": 5,
   "id": "ec49d532",
   "metadata": {
    "pycharm": {
     "name": "#%%\n"
    }
   },
   "outputs": [
    {
     "data": {
      "text/plain": "<Figure size 432x288 with 1 Axes>",
      "image/png": "[encoded data removed]"
     },
     "metadata": {
      "needs_background": "light"
     },
     "output_type": "display_data"
    }
   ],
   "source": [
    "# Se importa el modulo pyplot de matplotlib\n",
    "import matplotlib.pyplot as plt\n",
    "\n",
    "# Se crea la grafica por medio del metodo plot\n",
    "plt.plot(df_iris.index[:10], df_iris.ancho_petalo[:10], 'o--')\n",
    "plt.plot(df_iris.index[:10], df_iris.largo_petalo[:10], 'o--')\n",
    "\n",
    "# Se configura las leyendas de las lineas graficadas\n",
    "plt.legend(['Ancho Pétalo', 'Largo Pétalo'])\n",
    "\n",
    "# Se habilita la grilla\n",
    "plt.grid(True)\n",
    "\n",
    "# Se le da un nombre a los ejes\n",
    "plt.xlabel('x = Tiempo')\n",
    "plt.ylabel('y = Tamaño')\n",
    "\n",
    "# Se le da un titulo a la grafica\n",
    "plt.title('Ancho/Largo Pétalo en el Tiempo')\n",
    "\n",
    "# Se visualiza la grafica\n",
    "plt.show()"
   ]
  },
  {
   "cell_type": "markdown",
   "id": "d2b7071e",
   "metadata": {
    "pycharm": {
     "name": "#%% md\n"
    }
   },
   "source": [
    "Hasta aquí hemos visto como crear un gráfico de una línea y de multiples lineas y con ello hemos aprendido algunos de los métodos básicos de configuración de la libreria `Matplotlib`, ahora es el turno para configurar `Colores`, `Estilos` y `Marcadores` en la jerga de la libreria.\n",
    "\n",
    "En especial hablaremos del tercer parametro del metodo `plot`:\n",
    "\n",
    "```\n",
    "    plt.plot(x, y, '[color][marker][linestyle]')\n",
    "```\n",
    "\n",
    "En este caso y retomando la gráfica anterior cambiaremos el color de las líneas:"
   ]
  },
  {
   "cell_type": "code",
   "execution_count": 25,
   "id": "6a1cc6a8",
   "metadata": {
    "pycharm": {
     "name": "#%%\n"
    }
   },
   "outputs": [
    {
     "data": {
      "image/png": "[encoded data removed]",
      "text/plain": [
       "<Figure size 432x288 with 1 Axes>"
      ]
     },
     "metadata": {
      "needs_background": "light"
     },
     "output_type": "display_data"
    }
   ],
   "source": [
    "# Se importa el modulo pyplot de matplotlib\n",
    "import matplotlib.pyplot as plt\n",
    "\n",
    "# Se crea la grafica por medio del metodo plot\n",
    "plt.plot(df_iris.index[:10], df_iris.ancho_petalo[:10], 'go--')\n",
    "plt.plot(df_iris.index[:10], df_iris.largo_petalo[:10], 'bo-')\n",
    "\n",
    "# Se configura las leyendas de las lineas graficadas\n",
    "plt.legend(['Ancho Pétalo', 'Largo Pétalo'])\n",
    "\n",
    "# Se habilita la grilla\n",
    "plt.grid(True)\n",
    "\n",
    "# Se le da un nombre a los ejes\n",
    "plt.xlabel('x = Tiempo')\n",
    "plt.ylabel('y = Tamaño')\n",
    "\n",
    "# Se le da un titulo a la grafica\n",
    "plt.title('Ancho/Largo Pétalo en el Tiempo')\n",
    "\n",
    "# Se visualiza la grafica\n",
    "plt.show()"
   ]
  },
  {
   "cell_type": "markdown",
   "id": "6a333b3a",
   "metadata": {
    "pycharm": {
     "name": "#%% md\n"
    }
   },
   "source": [
    "La salida es la misma pero vale las lineas tienen ahora un estilo diferente, para saber como darle colores, estilos y marcadores a tus graficas lo mejores es que des [click aqui](https://matplotlib.org/api/_as_gen/matplotlib.pyplot.plot.html).\n",
    "\n",
    "Pero estos gráficos nos dicen mucho sobre el dataset, de hecho, no es la mejor forma de visualizar la información presente en él."
   ]
  },
  {
   "cell_type": "markdown",
   "id": "551832a4",
   "metadata": {
    "pycharm": {
     "name": "#%% md\n"
    }
   },
   "source": [
    "### Gráficando con Pandas\n",
    "\n",
    "Desde la libreria de `Pandas` poodemos invocar directamente la creacion de una grafica. Lo interesante es que aunque los objetos mas usuales de la libreria, como lo son `Series` y `DataFrame` tiene su propio metodo `plot`, que no es mas que una envoltura del metodo `plot` de `Matplotlib`.\n",
    "\n",
    "Veamos como funciona intentando realizar la visualizacion de las clases de iris presentes en el dataset.\n",
    "\n",
    "\n",
    "#### Grafico de Barras\n",
    "\n",
    "Una de las visualizaciones mas conocidas es el Grafico de Barras o en Ingles el Bar Chart. Por lo general estos son los tipos de visualizaciones con las que quizás más interactuamos y nos encontramos familiarizados, aunque no seamos tan letrados en el universo de las estadísticas, este es un gráfico que se entiende a primera vista.\n",
    "\n",
    "Tratemos de visualizar la cantidad de **clases de iris** desde el DataFrame previamente creado:\n",
    "\n"
   ]
  },
  {
   "cell_type": "code",
   "execution_count": 83,
   "id": "e3676489",
   "metadata": {
    "scrolled": true,
    "pycharm": {
     "name": "#%%\n"
    }
   },
   "outputs": [
    {
     "data": {
      "text/plain": [
       "<AxesSubplot:>"
      ]
     },
     "execution_count": 83,
     "metadata": {},
     "output_type": "execute_result"
    },
    {
     "data": {
      "image/png": "[encoded data removed]",
      "text/plain": [
       "<Figure size 432x288 with 1 Axes>"
      ]
     },
     "metadata": {
      "needs_background": "light"
     },
     "output_type": "display_data"
    }
   ],
   "source": [
    "df_iris_clases = pd.DataFrame([\n",
    "        len(df_iris.query('clase == \"Iris-setosa\"')),\n",
    "        len(df_iris.query('clase == \"Iris-virginica\"')),\n",
    "        len(df_iris.query('clase == \"Iris-versicolor\"'))\n",
    "    ],\n",
    "    columns=[\"total\"],\n",
    "    index=[\n",
    "        \"Iris-setosa\",\n",
    "        \"Iris-virginica\",\n",
    "        \"Iris-versicolor\"\n",
    "    ]\n",
    ")\n",
    "df_iris_clases.plot.bar(y=[\"total\"], rot=0)"
   ]
  },
  {
   "cell_type": "markdown",
   "id": "e4fd18fe",
   "metadata": {
    "pycharm": {
     "name": "#%% md\n"
    }
   },
   "source": [
    "Por ahora podemos identifar que tan solo hay 50 observaciones de cada clase, pero queremos un poco mas de detalle, hay varias estadisticas en juego asi que vamos a darle un poc mas de vida a nuestra visualizacion:\n",
    "    "
   ]
  },
  {
   "cell_type": "code",
   "execution_count": 123,
   "id": "1f7ed819",
   "metadata": {
    "pycharm": {
     "name": "#%%\n"
    }
   },
   "outputs": [
    {
     "data": {
      "text/html": [
       "<div>\n",
       "<style scoped>\n",
       "    .dataframe tbody tr th:only-of-type {\n",
       "        vertical-align: middle;\n",
       "    }\n",
       "\n",
       "    .dataframe tbody tr th {\n",
       "        vertical-align: top;\n",
       "    }\n",
       "\n",
       "    .dataframe thead th {\n",
       "        text-align: right;\n",
       "    }\n",
       "</style>\n",
       "<table border=\"1\" class=\"dataframe\">\n",
       "  <thead>\n",
       "    <tr style=\"text-align: right;\">\n",
       "      <th></th>\n",
       "      <th>median_largo_sepalo</th>\n",
       "      <th>median_ancho_sepalo</th>\n",
       "      <th>median_largo_petalo</th>\n",
       "      <th>medina_ancho_petalo</th>\n",
       "    </tr>\n",
       "  </thead>\n",
       "  <tbody>\n",
       "    <tr>\n",
       "      <th>setosa</th>\n",
       "      <td>5.0</td>\n",
       "      <td>3.4</td>\n",
       "      <td>1.50</td>\n",
       "      <td>0.2</td>\n",
       "    </tr>\n",
       "    <tr>\n",
       "      <th>virginica</th>\n",
       "      <td>6.5</td>\n",
       "      <td>3.0</td>\n",
       "      <td>5.55</td>\n",
       "      <td>2.0</td>\n",
       "    </tr>\n",
       "    <tr>\n",
       "      <th>versicolor</th>\n",
       "      <td>5.9</td>\n",
       "      <td>2.8</td>\n",
       "      <td>4.35</td>\n",
       "      <td>1.3</td>\n",
       "    </tr>\n",
       "  </tbody>\n",
       "</table>\n",
       "</div>"
      ],
      "text/plain": [
       "            median_largo_sepalo  median_ancho_sepalo  median_largo_petalo  \\\n",
       "setosa                      5.0                  3.4                 1.50   \n",
       "virginica                   6.5                  3.0                 5.55   \n",
       "versicolor                  5.9                  2.8                 4.35   \n",
       "\n",
       "            medina_ancho_petalo  \n",
       "setosa                      0.2  \n",
       "virginica                   2.0  \n",
       "versicolor                  1.3  "
      ]
     },
     "execution_count": 123,
     "metadata": {},
     "output_type": "execute_result"
    },
    {
     "data": {
      "image/png": "[encoded data removed]",
      "text/plain": [
       "<Figure size 432x288 with 1 Axes>"
      ]
     },
     "metadata": {
      "needs_background": "light"
     },
     "output_type": "display_data"
    }
   ],
   "source": [
    "import numpy as np\n",
    "\n",
    "df_iris_stats = pd.DataFrame([\n",
    "        df_iris.query('clase == \"Iris-setosa\"')[[\"largo_sepalo\", \"ancho_sepalo\", \"largo_petalo\", \"ancho_petalo\"]].median().tolist(),\n",
    "        df_iris.query('clase == \"Iris-virginica\"')[[\"largo_sepalo\", \"ancho_sepalo\", \"largo_petalo\", \"ancho_petalo\"]].median().tolist(),\n",
    "        df_iris.query('clase == \"Iris-versicolor\"')[[\"largo_sepalo\", \"ancho_sepalo\", \"largo_petalo\", \"ancho_petalo\"]].median().tolist()\n",
    "  ],\n",
    "  columns=[\"median_largo_sepalo\", \"median_ancho_sepalo\", \"median_largo_petalo\", \"medina_ancho_petalo\"],\n",
    "    index=[\n",
    "        \"setosa\",\n",
    "        \"virginica\",\n",
    "        \"versicolor\"\n",
    "   ]\n",
    ")\n",
    "\n",
    "df_iris_stats.plot.bar(rot=0, stacked=True)\n",
    "df_iris_stats.head()"
   ]
  },
  {
   "cell_type": "markdown",
   "id": "75747deb",
   "metadata": {
    "pycharm": {
     "name": "#%% md\n"
    }
   },
   "source": [
    "¿Y que podemos decir a través del grafico? Que tal la Iris-Virginicas en proporción a las demás sus sépalos y pétalos son mucho mas grandes.\n",
    "\n",
    "Ahora a la pregunta tendra algo que ver el ancho del sepalo con el ancho del petalo? Para esto daremos paso a `Seaborn`.\n",
    "\n",
    "\n",
    "### Graficando con Seaborn\n",
    "\n",
    "Aqui la idea es crear un Scatter Plot en donde pueda relacionar dos variables."
   ]
  },
  {
   "cell_type": "markdown",
   "id": "a5c69827",
   "metadata": {
    "pycharm": {
     "name": "#%% md\n"
    }
   },
   "source": [
    "# NO revisar de aqui para abajo"
   ]
  },
  {
   "cell_type": "markdown",
   "id": "fe220a43",
   "metadata": {
    "pycharm": {
     "name": "#%% md\n"
    }
   },
   "source": [
    "Como se puede ver en el grafico, visualizamos como el ancho del petalo ha variado en funcion del tiempo, aunque en el eje horizontal tecnicamente no hagamos referencia al tiempo.\n",
    "\n",
    "Que tal ahora si intentamos graficar un tipico, pero visualmente sencillo Scatter Plot?, para ello debemos ejecutar el metodo `plot` como se muestra a continuacion:\n",
    "\n",
    "```\n",
    "    plt.plot(column, column, '[marker][linestyle][color]', data)\n",
    "```\n",
    "\n",
    "Graficemos el *largo del sepalo* en relacion con su ancho:\n"
   ]
  },
  {
   "cell_type": "code",
   "execution_count": 15,
   "id": "9f5f350c",
   "metadata": {
    "pycharm": {
     "name": "#%%\n"
    }
   },
   "outputs": [
    {
     "data": {
      "image/png": "[encoded data removed]",
      "text/plain": [
       "<Figure size 432x288 with 1 Axes>"
      ]
     },
     "metadata": {
      "needs_background": "light"
     },
     "output_type": "display_data"
    }
   ],
   "source": [
    "# Se importa el modulo pyplot de matplotlib\n",
    "import matplotlib.pyplot as plt\n",
    "\n",
    "# Se crea la grafica por medio del metodo plot\n",
    "plt.plot('largo_sepalo', 'ancho_sepalo', 'or', data=df_iris)\n",
    "\n",
    "# Se visualiza la grafica de Scatter Plot\n",
    "plt.show()"
   ]
  },
  {
   "cell_type": "markdown",
   "id": "f6bb445d",
   "metadata": {
    "pycharm": {
     "name": "#%% md\n"
    }
   },
   "source": [
    "Por suerte la libreria de `Pandas` tiene un componente de visualizacion el cual es powered by `Matplotlib`, aunque esto tiene sus ventajas tambien tiene un costo asociado, se pierde un poco de flexibilidad, aun asi es un buen punto de partida.\n",
    "\n"
   ]
  },
  {
   "cell_type": "markdown",
   "id": "20165cde",
   "metadata": {
    "pycharm": {
     "name": "#%% md\n"
    }
   },
   "source": [
    "Es bonito, no? Inteligentemente `plot` recibio el *DataFrame* y accedio a sus columnas por medios de los *strings* pasados como parametros. Si quieren saber un poco mas de la configuracion de estilos para este tipo de graficos dirijanse a la seccion de la documentacion haciendo [clic aqui](https://matplotlib.org/api/_as_gen/matplotlib.pyplot.plot.html).\n",
    "\n",
    "Tambien es posible crear **histogramas** con el metodo `plot`, veamos como se hace a continuacion:\n",
    "\n",
    "```\n",
    "    plt.hist(data)\n",
    "```\n",
    "\n",
    "Intenemos basicamente hacer la distribucion del `ancho_petalo` para las `Iris-virginica`:\n"
   ]
  },
  {
   "cell_type": "code",
   "execution_count": 22,
   "id": "1580bf8f",
   "metadata": {
    "pycharm": {
     "name": "#%%\n"
    }
   },
   "outputs": [
    {
     "data": {
      "image/png": "[encoded data removed]",
      "text/plain": [
       "<Figure size 432x288 with 1 Axes>"
      ]
     },
     "metadata": {
      "needs_background": "light"
     },
     "output_type": "display_data"
    }
   ],
   "source": [
    "# Se importa el modulo pyplot de matplotlib\n",
    "import matplotlib.pyplot as plt\n",
    "\n",
    "# Se crea la grafica por medio del metodo plot\n",
    "plt.hist(df_iris.query('clase == \"Iris-setosa\"').ancho_petalo)\n",
    "\n",
    "# Se visualiza la grafica de Scatter Plot\n",
    "plt.show()"
   ]
  },
  {
   "cell_type": "markdown",
   "id": "5c07ee31",
   "metadata": {
    "pycharm": {
     "name": "#%% md\n"
    }
   },
   "source": [
    "Podriamos pasar el capitulo completo, divirtiendonos con el metodo `plot` pero no es el proposito principal de este Notebook. Volvamos y tratemos de graficar las barras por el tipo de clases de iris."
   ]
  },
  {
   "cell_type": "code",
   "execution_count": null,
   "id": "5b1f23f4",
   "metadata": {
    "pycharm": {
     "name": "#%%\n"
    }
   },
   "outputs": [],
   "source": [
    "# Incluir el grafico de barras"
   ]
  },
  {
   "cell_type": "markdown",
   "id": "b548d143",
   "metadata": {
    "pycharm": {
     "name": "#%% md\n"
    }
   },
   "source": [
    "## Incluir las varientas del grafico de barras, horizontal, vertical, vertical stacked, horizontal stacked bar"
   ]
  },
  {
   "cell_type": "markdown",
   "id": "797b8b41",
   "metadata": {
    "pycharm": {
     "name": "#%% md\n"
    }
   },
   "source": [
    "## Graficas de Linea\n",
    "\n",
    "Incluir ejemplos de graficas de linea aunque el dataset de pronto no se ajuste"
   ]
  },
  {
   "cell_type": "markdown",
   "id": "4ee2ad27",
   "metadata": {
    "pycharm": {
     "name": "#%% md\n"
    }
   },
   "source": [
    "## Graficas de Pie\n",
    "\n",
    "Incluir ejemplos de graficas de pie"
   ]
  },
  {
   "cell_type": "markdown",
   "id": "170af686",
   "metadata": {
    "pycharm": {
     "name": "#%% md\n"
    }
   },
   "source": [
    "## Graficas de Scatterplot\n",
    "\n",
    "Incluir ejemplos de graficas de pie"
   ]
  },
  {
   "cell_type": "code",
   "execution_count": null,
   "id": "8a8eb9c6",
   "metadata": {
    "pycharm": {
     "name": "#%%\n"
    }
   },
   "outputs": [],
   "source": []
  }
 ],
 "metadata": {
  "kernelspec": {
   "display_name": "Python 3 (ipykernel)",
   "language": "python",
   "name": "python3"
  },
  "language_info": {
   "codemirror_mode": {
    "name": "ipython",
    "version": 3
   },
   "file_extension": ".py",
   "mimetype": "text/x-python",
   "name": "python",
   "nbconvert_exporter": "python",
   "pygments_lexer": "ipython3",
   "version": "3.8.13"
  }
 },
 "nbformat": 4,
 "nbformat_minor": 5
}