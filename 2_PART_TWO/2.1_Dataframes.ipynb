{
 "cells": [
  {
   "cell_type": "markdown",
   "id": "4697f74c",
   "metadata": {
    "pycharm": {
     "name": "#%% md\n"
    }
   },
   "source": [
    "# Introducción a la manipulacion de Estructuras de Datos avanzadas con Pandas\n",
    "\n",
    "## Librería Numpy\n",
    "\n",
    "*Numpy* es una librería de Python fundamental para la computación científica. Entre sus características está la creación de arreglos multidimensionales, que se pueden tratar como vectores, y posee una gran rapidez a la hora de hacer operaciones matemáticas sobre los mismos. Lo cual la hace una herramienta necesaria para proyectos con requerimientos de alta computación y cálculo matemático y es por eso de su gran popularidad en el ecosistema científico.\n",
    "\n",
    "### Operaciones matemáticas con Arreglos de Numpy\n",
    "\n",
    "Para empezar, importaremos la librería y creamos nuestro primer Arreglo de Numpy, luego lo afectaremos con algunas operaciones matemáticas básicas. Es común renombrar la librería `Numpy` como `np`.\n"
   ]
  },
  {
   "cell_type": "code",
   "execution_count": 42,
   "id": "af82d819",
   "metadata": {
    "pycharm": {
     "name": "#%%\n"
    }
   },
   "outputs": [
    {
     "data": {
      "text/plain": "array([ 0,  1,  2,  3,  4,  5,  6,  7,  8,  9, 10])"
     },
     "execution_count": 42,
     "metadata": {},
     "output_type": "execute_result"
    }
   ],
   "source": [
    "# Se importa la librería numpy. Por lo general el acrónimo para la librería numpy es np.\n",
    "import numpy as np\n",
    "\n",
    "# Se crea un arreglo de números\n",
    "nums = np.array([0, 1, 2, 3, 4, 5, 6, 7, 8, 9, 10])\n",
    "\n",
    "# Se imprime el valor del arreglo\n",
    "nums"
   ]
  },
  {
   "cell_type": "markdown",
   "id": "97c4e2c7",
   "metadata": {
    "pycharm": {
     "name": "#%% md\n"
    }
   },
   "source": [
    "**Vale la pena mencionar que un arreglo de Numpy se parece mucho a una lista nativa de Python.** La diferencia principal radica en el tipo de operaciones de orden matemático que se pueden realizar sobre un arreglo de la librería y las listas nativas de Python.\n",
    "\n",
    "Tomemos como punto de partida la suma de dos arreglos de `Numpy`, comparado con una suma de listas de Python:"
   ]
  },
  {
   "cell_type": "code",
   "execution_count": 43,
   "id": "f07b4c21",
   "metadata": {
    "pycharm": {
     "name": "#%%\n"
    }
   },
   "outputs": [
    {
     "data": {
      "text/plain": "array([ 0,  2,  4,  6,  8, 10, 12, 14, 16, 18, 20])"
     },
     "execution_count": 43,
     "metadata": {},
     "output_type": "execute_result"
    }
   ],
   "source": [
    "# Se imprime la suma del arreglo de Numpy\n",
    "nums + nums"
   ]
  },
  {
   "cell_type": "markdown",
   "id": "60595dbe",
   "metadata": {
    "pycharm": {
     "name": "#%% md\n"
    }
   },
   "source": [
    "Se mantuvo el tamaño de la lista, pero sus elementos fueron sumados, y es aquí el potencial y la simpleza de los arreglos de `Numpy`, y porque de su basto uso en el mundo científico.\n",
    "\n",
    "Miremos un código equivalente con una lista nativa de Python:"
   ]
  },
  {
   "cell_type": "code",
   "execution_count": 44,
   "id": "272f70d4",
   "metadata": {
    "pycharm": {
     "name": "#%%\n"
    }
   },
   "outputs": [
    {
     "data": {
      "text/plain": "[0, 2, 4, 6, 8, 10, 12, 14, 16, 18, 20]"
     },
     "execution_count": 44,
     "metadata": {},
     "output_type": "execute_result"
    }
   ],
   "source": [
    "# Lista por compresion con adicion de sus elementos\n",
    "lista_nums = [0, 1, 2, 3, 4, 5, 6, 7, 8, 9, 10]\n",
    "[x + x for x in lista_nums]"
   ]
  },
  {
   "cell_type": "markdown",
   "id": "7124e3af",
   "metadata": {
    "pycharm": {
     "name": "#%% md\n"
    }
   },
   "source": [
    "No creemos que sea complicado estar creando *listas de comprensión* de Python, pero claramente se reducirían las líneas de código en nuestro programa usando los arreglos de **Numpy**. Y sería imposible lograrlo si necesitamos sumar dos listas.\n",
    "\n",
    "Los *arreglos de Numpy* también pueden realizar las demás operaciones siguiendo el mismo modelo:\n",
    "\n",
    "```markdown\n",
    "<arreglo_numpy> <operacion (+, -, *, /)> <arreglo_numpy>\n",
    "```\n",
    "*Tengamos cuidado con la división si hay ceros en el denominador, recordemos que no es posible dividir por cero, en tal caso saldría un error*\n",
    "\n",
    "Ahora, para ver el potencial de los arreglos de Numpy, ¿qué pasaría si intentamos sumar dos arreglos de tamaño $n$, hablemos de arreglos de $10,000,000$ elementos?"
   ]
  },
  {
   "cell_type": "code",
   "execution_count": 4,
   "id": "198d8fc3",
   "metadata": {
    "pycharm": {
     "name": "#%%\n"
    }
   },
   "outputs": [
    {
     "name": "stdout",
     "output_type": "stream",
     "text": [
      "[81 36 18 ... 56  8 27]\n"
     ]
    }
   ],
   "source": [
    "#Se importa la libreria de Numpy\n",
    "import numpy as np\n",
    "\n",
    "#Se crean dos arreglos con 1 millon de elementos, en donde cada elemento tiene un valor aleatorio entre 0-10\n",
    "x = np.random.choice(10, 1000000)\n",
    "y = np.random.choice(10, 1000000)\n",
    "\n",
    "print(x * y)"
   ]
  },
  {
   "cell_type": "markdown",
   "id": "eaac0abd",
   "metadata": {
    "pycharm": {
     "name": "#%% md\n"
    }
   },
   "source": [
    "¿Lo vieron? La multiplicación tomo tan solo milisegundos. Y es ahí donde hace que usar la librería valga la pena. "
   ]
  },
  {
   "cell_type": "markdown",
   "id": "0a9e3ca6",
   "metadata": {
    "pycharm": {
     "name": "#%% md\n"
    }
   },
   "source": [
    "##  Introducción a las Series de Panda\n",
    "\n",
    "Antes de hablar de Dataframes es importante que hagamos un pequeño repaso sobre las **Series**, al mismo tiempo empezaremos a interactuar con la librería de Pandas.\n",
    "\n",
    "**`Pandas`** es una librería de Python (Al igual que `Numpy`), que se caracteriza por proveer estructuras de datos que son de rápido procesamiento, que son fáciles de expresar para hacer que el trabajo con datos relacionales sea muy fácil e intuitivo. [Mas info aqui](https://pandas.pydata.org/docs/getting_started/overview.html)\n",
    "\n",
    "¿Qué es una Serie? ¿Cómo se crea una Serie? Veamos las respuestas a estas preguntas:\n",
    "\n",
    "Las Series son un tipo de estructura unidimensional *(1D)* muy parecida a un arreglo, con la característica de que podemos etiquetar en cierta medida sus datos a través de índices.\n",
    "\n",
    "Para estudiar el potencial de las series vamos a interactuar con el archivo `iris.data` (./data/iris.data) que proviene del repositorio de datos de la [UCI Machine Learning](https://archive-beta.ics.uci.edu/)."
   ]
  },
  {
   "cell_type": "code",
   "execution_count": 48,
   "id": "20ebe0f3",
   "metadata": {
    "pycharm": {
     "name": "#%%\n"
    }
   },
   "outputs": [
    {
     "data": {
      "text/plain": "0         [5.1, 3.5, 1.4, 0.2, Iris-setosa]\n1         [4.9, 3.0, 1.4, 0.2, Iris-setosa]\n2         [4.7, 3.2, 1.3, 0.2, Iris-setosa]\n3         [4.6, 3.1, 1.5, 0.2, Iris-setosa]\n4         [5.0, 3.6, 1.4, 0.2, Iris-setosa]\n                       ...                 \n145    [6.7, 3.0, 5.2, 2.3, Iris-virginica]\n146    [6.3, 2.5, 5.0, 1.9, Iris-virginica]\n147    [6.5, 3.0, 5.2, 2.0, Iris-virginica]\n148    [6.2, 3.4, 5.4, 2.3, Iris-virginica]\n149    [5.9, 3.0, 5.1, 1.8, Iris-virginica]\nLength: 150, dtype: object"
     },
     "execution_count": 48,
     "metadata": {},
     "output_type": "execute_result"
    }
   ],
   "source": [
    "import pandas as pd\n",
    "\n",
    "# Se importa el archivo iris.data y se lee su contenido\n",
    "with open(\"data/iris.data\", \"r\") as DATA:\n",
    "    iris_dataset = DATA.read()\n",
    "\n",
    "# Se limpia el dataset y se construye la serie a partir del arreglo generado por el `split` \n",
    "iris_dataset = iris_dataset.split('\\n')\n",
    "iris_dataset = [i.split(',') for i in iris_dataset]\n",
    "\n",
    "# Se crear la serie con los datos del dataset\n",
    "serie_de_iris = pd.Series(iris_dataset)\n",
    "\n",
    "# Se imprime la serie\n",
    "serie_de_iris"
   ]
  },
  {
   "cell_type": "markdown",
   "id": "8fe775c9",
   "metadata": {
    "pycharm": {
     "name": "#%% md\n"
    }
   },
   "source": [
    "*De ahora en adelante siempre que queramos visualizar el contenido de una serie y/o un Dataframe usaremos el método `head`, el cual solo muestra los primeros datos y no todo el conjunto.*\n",
    "\n",
    "Y así de fácil se construye una estructura de datos básica pero potente que nos da la libreria de *Pandas*. Exploremos lo que tenemos:\n",
    "\n",
    "- Cada renglón es un arreglo de una dimension con cinco elementos, se imprimieron $152$ filas, cada una con una lista de 5 elementos, más la columna de enumeración.\n",
    "\n",
    "- Las *series* al igual que las listas y arreglos de *Numpy* poseen métodos y su manipulación también se logra por medio de indexación.\n"
   ]
  },
  {
   "cell_type": "code",
   "execution_count": 6,
   "id": "85d36d26",
   "metadata": {
    "pycharm": {
     "name": "#%%\n"
    }
   },
   "outputs": [
    {
     "data": {
      "text/plain": "0    [5.1, 3.5, 1.4, 0.2, Iris-setosa]\n1    [4.9, 3.0, 1.4, 0.2, Iris-setosa]\n2    [4.7, 3.2, 1.3, 0.2, Iris-setosa]\n3    [4.6, 3.1, 1.5, 0.2, Iris-setosa]\n4    [5.0, 3.6, 1.4, 0.2, Iris-setosa]\ndtype: object"
     },
     "execution_count": 6,
     "metadata": {},
     "output_type": "execute_result"
    }
   ],
   "source": [
    "# Ejemplo 1: Se imprime los primeros datos de la serie utilizando el método head.\n",
    "serie_de_iris.head()"
   ]
  },
  {
   "cell_type": "markdown",
   "id": "276e3909",
   "metadata": {
    "pycharm": {
     "name": "#%% md\n"
    }
   },
   "source": [
    "Otro método útil es el método `index`, devuelve la lista de índices y su rango."
   ]
  },
  {
   "cell_type": "code",
   "execution_count": 7,
   "id": "f314a01e",
   "metadata": {
    "pycharm": {
     "name": "#%%\n"
    }
   },
   "outputs": [
    {
     "data": {
      "text/plain": "RangeIndex(start=0, stop=152, step=1)"
     },
     "execution_count": 7,
     "metadata": {},
     "output_type": "execute_result"
    }
   ],
   "source": [
    "# Se imprimen los indexes del arreglo, en este caso hace referencia a la primera columna\n",
    "serie_de_iris.index"
   ]
  },
  {
   "cell_type": "markdown",
   "id": "804edc42",
   "metadata": {
    "pycharm": {
     "name": "#%% md\n"
    }
   },
   "source": [
    "Que tal si quisieramos acceder a los elementos de la posicion $120$ en adelante:"
   ]
  },
  {
   "cell_type": "code",
   "execution_count": 8,
   "id": "8d588ebf",
   "metadata": {
    "pycharm": {
     "name": "#%%\n"
    }
   },
   "outputs": [
    {
     "data": {
      "text/plain": "120    [6.9, 3.2, 5.7, 2.3, Iris-virginica]\n121    [5.6, 2.8, 4.9, 2.0, Iris-virginica]\n122    [7.7, 2.8, 6.7, 2.0, Iris-virginica]\n123    [6.3, 2.7, 4.9, 1.8, Iris-virginica]\n124    [6.7, 3.3, 5.7, 2.1, Iris-virginica]\n125    [7.2, 3.2, 6.0, 1.8, Iris-virginica]\n126    [6.2, 2.8, 4.8, 1.8, Iris-virginica]\n127    [6.1, 3.0, 4.9, 1.8, Iris-virginica]\n128    [6.4, 2.8, 5.6, 2.1, Iris-virginica]\n129    [7.2, 3.0, 5.8, 1.6, Iris-virginica]\n130    [7.4, 2.8, 6.1, 1.9, Iris-virginica]\n131    [7.9, 3.8, 6.4, 2.0, Iris-virginica]\n132    [6.4, 2.8, 5.6, 2.2, Iris-virginica]\n133    [6.3, 2.8, 5.1, 1.5, Iris-virginica]\n134    [6.1, 2.6, 5.6, 1.4, Iris-virginica]\n135    [7.7, 3.0, 6.1, 2.3, Iris-virginica]\n136    [6.3, 3.4, 5.6, 2.4, Iris-virginica]\n137    [6.4, 3.1, 5.5, 1.8, Iris-virginica]\n138    [6.0, 3.0, 4.8, 1.8, Iris-virginica]\n139    [6.9, 3.1, 5.4, 2.1, Iris-virginica]\n140    [6.7, 3.1, 5.6, 2.4, Iris-virginica]\n141    [6.9, 3.1, 5.1, 2.3, Iris-virginica]\n142    [5.8, 2.7, 5.1, 1.9, Iris-virginica]\n143    [6.8, 3.2, 5.9, 2.3, Iris-virginica]\n144    [6.7, 3.3, 5.7, 2.5, Iris-virginica]\n145    [6.7, 3.0, 5.2, 2.3, Iris-virginica]\n146    [6.3, 2.5, 5.0, 1.9, Iris-virginica]\n147    [6.5, 3.0, 5.2, 2.0, Iris-virginica]\n148    [6.2, 3.4, 5.4, 2.3, Iris-virginica]\n149    [5.9, 3.0, 5.1, 1.8, Iris-virginica]\n150                                      []\n151                                      []\ndtype: object"
     },
     "execution_count": 8,
     "metadata": {},
     "output_type": "execute_result"
    }
   ],
   "source": [
    "# Se imprimen los elementos desde la posicion 100 en adelante\n",
    "serie_de_iris[120:]"
   ]
  },
  {
   "cell_type": "markdown",
   "id": "8143e447",
   "metadata": {
    "pycharm": {
     "name": "#%% md\n"
    }
   },
   "source": [
    "Como una *Serie* es una arreglo de una dimensión *(1D)*, cada fila contiene toda la información devuelta por el dataset original, representada en un arreglo nativo de *Python* para su manipulación. **Técnicamente esto hace que sea difícil** la manipulación de los datos al interior de cada serie (por ejemplo, hallar la media de la primera columna, lo que conlleva a que desperdiciemos las funcionalidades nativas de una Serie, porque tendríamos que crear una serie por cada columna de datos, luego serie ineficiente.\n",
    "\n",
    "Veamos un ejemplo de cómo extraer los valores de la primera columna en cuestión, para esto, comenzamos cargando nuevamente el dataset original pero esta vez solo tomamos la primera columna:"
   ]
  },
  {
   "cell_type": "code",
   "execution_count": 56,
   "id": "25af5138",
   "metadata": {
    "pycharm": {
     "name": "#%%\n"
    }
   },
   "outputs": [
    {
     "data": {
      "text/plain": "0      5.1\n1      4.9\n2      4.7\n3      4.6\n4      5.0\n      ... \n145    6.7\n146    6.3\n147    6.5\n148    6.2\n149    5.9\nLength: 150, dtype: float64"
     },
     "execution_count": 56,
     "metadata": {},
     "output_type": "execute_result"
    }
   ],
   "source": [
    "import pandas as pd\n",
    "\n",
    "with open(\"data/iris.data\", \"r\") as DATA:\n",
    "    iris_dataset = DATA.read()\n",
    "\n",
    "# Se limpia el dataset y se construye la serie a partir del arreglo generado por el `split` \n",
    "iris_dataset = iris_dataset.split('\\n')\n",
    "\n",
    "# Se extrae del dataset la primera columna y se convierte sus datos a tipo float\n",
    "iris_dataset = [float(j[0]) if j[0] != '' else 0  for j in [i.split(',') for i in iris_dataset]]\n",
    "\n",
    "# Se crea la serie con los datos del dataset\n",
    "serie_de_iris_col_1 = pd.Series(iris_dataset)\n",
    "\n",
    "# Se imprime la serie con la primera columna del dataset\n",
    "serie_de_iris_col_1"
   ]
  },
  {
   "cell_type": "markdown",
   "id": "ce77d826",
   "metadata": {
    "pycharm": {
     "name": "#%% md\n"
    }
   },
   "source": [
    "Y ahora si podemos encontrar algunas estadísticas como la media de todos los valores, y usaremos *Numpy* para esto:"
   ]
  },
  {
   "cell_type": "code",
   "execution_count": 57,
   "id": "d546f85f",
   "metadata": {
    "pycharm": {
     "name": "#%%\n"
    }
   },
   "outputs": [
    {
     "name": "stdout",
     "output_type": "stream",
     "text": [
      "Tamaño promedio los datos:\n"
     ]
    },
    {
     "data": {
      "text/plain": "5.843333333333334"
     },
     "execution_count": 57,
     "metadata": {},
     "output_type": "execute_result"
    }
   ],
   "source": [
    "import numpy as np\n",
    "\n",
    "# Se calcula la media de la serie a partir del metodo mean de numpy\n",
    "print('Tamaño promedio los datos:')\n",
    "np.mean(serie_de_iris_col_1)"
   ]
  },
  {
   "cell_type": "markdown",
   "id": "f7a47f49",
   "metadata": {
    "pycharm": {
     "name": "#%% md\n"
    }
   },
   "source": [
    "Debido a las limitaciones de las *Series (como lo vimos previamente)* tendremos que dar paso a una nueva estructura de datos, y es aquí en donde los *Dataframes* entran en juego. Pero, ¿qué tal si primero describimos las columnas que vienen de nuestro dataset?\n",
    "\n",
    "De acuerdo con la descripcion encontrada en la página sabemos que tiene la siguiente estructura:\n",
    "\n",
    "| No. |      Columna         |  Tipo de dato | Posibles Valores                                |\n",
    "|-----|:--------------------:|--------------:|:------------------------------------------------|\n",
    "| 1   |  longitud del sepalo | float/cm      | Positivos                                       |\n",
    "| 2   |    ancho del sepalo  |   float/cm    | Positivos                                       |\n",
    "| 3   |  longitud del petalo |    float/cm   | Positivos                                       |\n",
    "| 4   |   ancho del petalo   |    float/cm   | Positivos                                       |\n",
    "| 5   |    clase             | string/texto  | Iris Setosa, Iris Versicolour,  Iris Virginica  |\n",
    "\n",
    "Es momento de que modifiquemos la *Serie*, y la convirtamos en un *Dataframe* y usemos a nuestro favor todo su potencial."
   ]
  },
  {
   "cell_type": "markdown",
   "id": "57870dbb",
   "metadata": {
    "pycharm": {
     "name": "#%% md\n"
    }
   },
   "source": [
    "##  Introducción a los DataFrames\n",
    "\n",
    "Un *DataFrame* es un arreglo de $n$ dimensiones de datos estructurados que pueda almacenar datos de diferentes tipos. Si, es como una hoja de cálculo o una tabla de una base de datos.\n",
    "\n",
    "Los DataFrame son más comunes que las Series *(Aparecen por todos los lados en la computación científica, en el análisis y visualización de datos y entre otros)*  y es por esta razón que serán objeto de estudio en la práctica.\n",
    "\n",
    "Por lo General se puede crear un `DataFrame` desde diferentes fuentes de datos, pero en esta ocasión seguiremos usando el dataset de los [`iris`](./data/iris.data).\n"
   ]
  },
  {
   "cell_type": "code",
   "execution_count": 11,
   "id": "fbed6374",
   "metadata": {
    "pycharm": {
     "name": "#%%\n"
    }
   },
   "outputs": [
    {
     "data": {
      "text/plain": "   long_sepalo  ancho_sepalo  long_petalo  ancho_petalo        clase\n0          5.1           3.5          1.4           0.2  Iris-setosa\n1          4.9           3.0          1.4           0.2  Iris-setosa\n2          4.7           3.2          1.3           0.2  Iris-setosa\n3          4.6           3.1          1.5           0.2  Iris-setosa\n4          5.0           3.6          1.4           0.2  Iris-setosa",
      "text/html": "<div>\n<style scoped>\n    .dataframe tbody tr th:only-of-type {\n        vertical-align: middle;\n    }\n\n    .dataframe tbody tr th {\n        vertical-align: top;\n    }\n\n    .dataframe thead th {\n        text-align: right;\n    }\n</style>\n<table border=\"1\" class=\"dataframe\">\n  <thead>\n    <tr style=\"text-align: right;\">\n      <th></th>\n      <th>long_sepalo</th>\n      <th>ancho_sepalo</th>\n      <th>long_petalo</th>\n      <th>ancho_petalo</th>\n      <th>clase</th>\n    </tr>\n  </thead>\n  <tbody>\n    <tr>\n      <th>0</th>\n      <td>5.1</td>\n      <td>3.5</td>\n      <td>1.4</td>\n      <td>0.2</td>\n      <td>Iris-setosa</td>\n    </tr>\n    <tr>\n      <th>1</th>\n      <td>4.9</td>\n      <td>3.0</td>\n      <td>1.4</td>\n      <td>0.2</td>\n      <td>Iris-setosa</td>\n    </tr>\n    <tr>\n      <th>2</th>\n      <td>4.7</td>\n      <td>3.2</td>\n      <td>1.3</td>\n      <td>0.2</td>\n      <td>Iris-setosa</td>\n    </tr>\n    <tr>\n      <th>3</th>\n      <td>4.6</td>\n      <td>3.1</td>\n      <td>1.5</td>\n      <td>0.2</td>\n      <td>Iris-setosa</td>\n    </tr>\n    <tr>\n      <th>4</th>\n      <td>5.0</td>\n      <td>3.6</td>\n      <td>1.4</td>\n      <td>0.2</td>\n      <td>Iris-setosa</td>\n    </tr>\n  </tbody>\n</table>\n</div>"
     },
     "execution_count": 11,
     "metadata": {},
     "output_type": "execute_result"
    }
   ],
   "source": [
    "import pandas as pd\n",
    "\n",
    "# Creamos el DataFrame a partir de iris_dataset, el parámetro names permite nombrar las columnas\n",
    "df_iris = pd.read_csv(\"./data/iris.data\", names=[\"long_sepalo\", \"ancho_sepalo\", \"long_petalo\", \"ancho_petalo\", \"clase\"])\n",
    "\n",
    "# Se imprime los primeros 5 elementos del dataframe\n",
    "df_iris.head()"
   ]
  },
  {
   "cell_type": "markdown",
   "id": "01532f75",
   "metadata": {
    "pycharm": {
     "name": "#%% md\n"
    }
   },
   "source": [
    "*Nota: de ahora en adelante siempre que queramos importar el contenido de un dataset local usaremos el método `read_csv` de la librería de Pandas.*\n",
    "\n",
    "Como vimos fue muy fácil construir el `DataFrame`, ahora, ¿qué tal si lo manipulamos?, podríamos contestar preguntas del tipo: ¿cuántas clases de iris tenemos?, ¿cuál es el tamaño promedio de la longitud del pétalo?, ¿para todas las clases o para una en particular? Veamos cómo se hace:"
   ]
  },
  {
   "cell_type": "markdown",
   "source": [
    "Si queremos trabajar con la primera columna, podemos hacerlo fácimente de esta manera:"
   ],
   "metadata": {
    "collapsed": false,
    "pycharm": {
     "name": "#%% md\n"
    }
   }
  },
  {
   "cell_type": "code",
   "execution_count": 59,
   "outputs": [
    {
     "data": {
      "text/plain": "0    5.1\n1    4.9\n2    4.7\n3    4.6\n4    5.0\nName: long_sepalo, dtype: float64"
     },
     "execution_count": 59,
     "metadata": {},
     "output_type": "execute_result"
    }
   ],
   "source": [
    "df_iris['long_sepalo'].head()"
   ],
   "metadata": {
    "collapsed": false,
    "pycharm": {
     "name": "#%%\n"
    }
   }
  },
  {
   "cell_type": "markdown",
   "source": [
    "Los elementos de la columna se almacenan como una `Serie`, con la que se puede operar fácilmente, por ejemplo encontrar el promedio de la longitud del pétalo."
   ],
   "metadata": {
    "collapsed": false,
    "pycharm": {
     "name": "#%% md\n"
    }
   }
  },
  {
   "cell_type": "code",
   "execution_count": 58,
   "id": "af42aa48",
   "metadata": {
    "pycharm": {
     "name": "#%%\n"
    }
   },
   "outputs": [
    {
     "name": "stdout",
     "output_type": "stream",
     "text": [
      "Tamaño promedio del pétalo de las iris:\n",
      "5.843333333333334\n"
     ]
    }
   ],
   "source": [
    "### Ejemplo 1: Promedio de Longitud del Sepalo sin importar la clase\n",
    "mean_long_sepalo = np.mean(df_iris['long_sepalo'])\n",
    "print('Tamaño promedio del pétalo de las iris:')\n",
    "print(mean_long_sepalo)"
   ]
  },
  {
   "cell_type": "markdown",
   "source": [
    "Eso fue sencillo, hallar la media de $150$ filas y con ello, darle un poquito más de significado al dataset.\n",
    "\n",
    "Los *Dataframe* tienen muchos métodos que permiten operar, manipular, agrupar, filtrar los datos, entre otros. Veamos algunos de los más importantes:\n",
    "\n",
    "* **groupby**: sirve para agrupar las filas en torno a valor de alguna de sus columnas\n",
    "* **assign**: sirve para agregar nuevas columnas a partir de los valores de otras\n",
    "* **query**: sirve para filtrar el dataset a partir de alguna condición *(Como por ejemplo el valor de una columna)*\n",
    "* **filter**: filtra un Dataframe por columnas o filas de acuerdo con sus etiquetas en los índices. *(En buena medida, como el método `query` pero el filtro se basa en los índices)\n",
    "* **value_counts()**: sirve para contar cuantos valores en una columna\n",
    "\n",
    "¿Y ahora qué tal si ahora calculamos la cantidad de clases de iris que tenemos? Veamos cómo se hace:"
   ],
   "metadata": {
    "collapsed": false,
    "pycharm": {
     "name": "#%% md\n"
    }
   }
  },
  {
   "cell_type": "code",
   "execution_count": 13,
   "id": "cbeb0801",
   "metadata": {
    "pycharm": {
     "name": "#%%\n"
    }
   },
   "outputs": [
    {
     "name": "stdout",
     "output_type": "stream",
     "text": [
      "El numero de clases en el dataset es: \n"
     ]
    },
    {
     "data": {
      "text/plain": "3"
     },
     "execution_count": 13,
     "metadata": {},
     "output_type": "execute_result"
    }
   ],
   "source": [
    "# Ejemplo 2: se hace uso del metodo groupby para agrupar el dataframe por la columna clase\n",
    "print('El numero de clases en el dataset es: ') \n",
    "len(df_iris.groupby('clase'))"
   ]
  },
  {
   "cell_type": "code",
   "execution_count": 62,
   "outputs": [
    {
     "data": {
      "text/plain": "Iris-setosa        50\nIris-versicolor    50\nIris-virginica     50\nName: clase, dtype: int64"
     },
     "execution_count": 62,
     "metadata": {},
     "output_type": "execute_result"
    }
   ],
   "source": [
    "# cuántos datos hay de cada clase\n",
    "df_iris['clase'].value_counts()"
   ],
   "metadata": {
    "collapsed": false,
    "pycharm": {
     "name": "#%%\n"
    }
   }
  },
  {
   "cell_type": "markdown",
   "id": "7a619f7b",
   "metadata": {
    "pycharm": {
     "name": "#%% md\n"
    }
   },
   "source": [
    "Ahora vamos para darle paso a las respuesta de las preguntas faltantes, veamos cual la media de la longitud del pétalo para la clase de *Iris-setora* por medio del método **query**:"
   ]
  },
  {
   "cell_type": "code",
   "execution_count": 64,
   "id": "c029c74f",
   "metadata": {
    "pycharm": {
     "name": "#%%\n"
    }
   },
   "outputs": [
    {
     "name": "stdout",
     "output_type": "stream",
     "text": [
      "Tamaño promedio del pétalo de la clase Iris-setosa:\n",
      "1.464\n"
     ]
    }
   ],
   "source": [
    "# Ejemplo 2: Promedio de la Longitud del Petalo para la clase Iris-setosa\n",
    "df_iris_setosa = df_iris.query(\"clase == 'Iris-setosa'\")\n",
    "mean_long_petalo = np.mean(df_iris_setosa['long_petalo'])\n",
    "print('Tamaño promedio del pétalo de la clase Iris-setosa:')\n",
    "print(mean_long_petalo)"
   ]
  },
  {
   "cell_type": "markdown",
   "id": "47a29b84",
   "metadata": {
    "pycharm": {
     "name": "#%% md\n"
    }
   },
   "source": [
    "Y ahora haremos uso del **Method Chain** para calcular un valor computado en una nueva columna usando el método `assign`, ¿que significa eso del Method Chain?, difícil traducirlo al español pero digamos que es la posibilidad de invocar diferentes métodos sobre un mismo objeto en una misma línea de código, separando cada uno por un punto `.`\n",
    " Un ejemplo es mejor que mil palabras:"
   ]
  },
  {
   "cell_type": "code",
   "execution_count": 15,
   "id": "1830a52c",
   "metadata": {
    "pycharm": {
     "name": "#%%\n"
    }
   },
   "outputs": [
    {
     "data": {
      "text/plain": "     long_sepalo  ancho_sepalo  long_petalo  ancho_petalo           clase  \\\n100          6.3           3.3          6.0           2.5  Iris-virginica   \n101          5.8           2.7          5.1           1.9  Iris-virginica   \n102          7.1           3.0          5.9           2.1  Iris-virginica   \n103          6.3           2.9          5.6           1.8  Iris-virginica   \n104          6.5           3.0          5.8           2.2  Iris-virginica   \n\n     proporcion_petalo  \n100           0.416667  \n101           0.372549  \n102           0.355932  \n103           0.321429  \n104           0.379310  ",
      "text/html": "<div>\n<style scoped>\n    .dataframe tbody tr th:only-of-type {\n        vertical-align: middle;\n    }\n\n    .dataframe tbody tr th {\n        vertical-align: top;\n    }\n\n    .dataframe thead th {\n        text-align: right;\n    }\n</style>\n<table border=\"1\" class=\"dataframe\">\n  <thead>\n    <tr style=\"text-align: right;\">\n      <th></th>\n      <th>long_sepalo</th>\n      <th>ancho_sepalo</th>\n      <th>long_petalo</th>\n      <th>ancho_petalo</th>\n      <th>clase</th>\n      <th>proporcion_petalo</th>\n    </tr>\n  </thead>\n  <tbody>\n    <tr>\n      <th>100</th>\n      <td>6.3</td>\n      <td>3.3</td>\n      <td>6.0</td>\n      <td>2.5</td>\n      <td>Iris-virginica</td>\n      <td>0.416667</td>\n    </tr>\n    <tr>\n      <th>101</th>\n      <td>5.8</td>\n      <td>2.7</td>\n      <td>5.1</td>\n      <td>1.9</td>\n      <td>Iris-virginica</td>\n      <td>0.372549</td>\n    </tr>\n    <tr>\n      <th>102</th>\n      <td>7.1</td>\n      <td>3.0</td>\n      <td>5.9</td>\n      <td>2.1</td>\n      <td>Iris-virginica</td>\n      <td>0.355932</td>\n    </tr>\n    <tr>\n      <th>103</th>\n      <td>6.3</td>\n      <td>2.9</td>\n      <td>5.6</td>\n      <td>1.8</td>\n      <td>Iris-virginica</td>\n      <td>0.321429</td>\n    </tr>\n    <tr>\n      <th>104</th>\n      <td>6.5</td>\n      <td>3.0</td>\n      <td>5.8</td>\n      <td>2.2</td>\n      <td>Iris-virginica</td>\n      <td>0.379310</td>\n    </tr>\n  </tbody>\n</table>\n</div>"
     },
     "execution_count": 15,
     "metadata": {},
     "output_type": "execute_result"
    }
   ],
   "source": [
    "# Ejemplo 3: Proporcion computada de el tamano del petalo para la clase Iris-virginica\n",
    "# Primero se filtra los elementos de clase Iris-virginica, luego se crea una nueva columna donde se divide el ancho y la longitud del pétalo, finalmente se muestran solo los primeros cinco elementos.\n",
    "df_iris.query('clase == \"Iris-virginica\"').assign(proporcion_petalo=lambda i: i['ancho_petalo'] / i['long_petalo']).head()"
   ]
  },
  {
   "cell_type": "markdown",
   "id": "888c2bcf",
   "metadata": {
    "pycharm": {
     "name": "#%% md\n"
    }
   },
   "source": [
    "Y con esto logramos contestar las preguntas propuestas previamente. De forma que es fácil manipular un *DataFrame* al tiempo que jugamos con sus datos."
   ]
  },
  {
   "cell_type": "markdown",
   "id": "6bfa7b68",
   "metadata": {
    "pycharm": {
     "name": "#%% md\n"
    }
   },
   "source": [
    "## Más sobre los DataFrames\n",
    "\n",
    "\n",
    "Para continuar con la práctica, sería bueno dar un pequeño repaso sobre las ideas de manipulación más básicas y estándar de los *DataFrames*. Lo haremos al mismo tiempo que encontraremos la *desviación estándar sobre la longitud de los pétalos* de la clase *Iris-versicolor*.\n",
    "\n",
    "Este proceso demostrativo, de manipulación básica será paso a paso al mismo tiempo que nuevas columnas son agregadas, y para mayor comodidad trabajaremos con una porción del dataset original:"
   ]
  },
  {
   "cell_type": "code",
   "execution_count": 100,
   "id": "313446cc",
   "metadata": {
    "pycharm": {
     "name": "#%%\n"
    }
   },
   "outputs": [
    {
     "name": "stdout",
     "output_type": "stream",
     "text": [
      "DevSt = 0.04682896000000002\n"
     ]
    },
    {
     "data": {
      "text/plain": "    long_sepalo  ancho_sepalo  long_petalo  ancho_petalo            clase  \\\n50          7.0           3.2          4.7           1.4  Iris-versicolor   \n51          6.4           3.2          4.5           1.5  Iris-versicolor   \n52          6.9           3.1          4.9           1.5  Iris-versicolor   \n53          5.5           2.3          4.0           1.3  Iris-versicolor   \n54          6.5           2.8          4.6           1.5  Iris-versicolor   \n55          5.7           2.8          4.5           1.3  Iris-versicolor   \n56          6.3           3.3          4.7           1.6  Iris-versicolor   \n57          4.9           2.4          3.3           1.0  Iris-versicolor   \n58          6.6           2.9          4.6           1.3  Iris-versicolor   \n59          5.2           2.7          3.9           1.4  Iris-versicolor   \n60          5.0           2.0          3.5           1.0  Iris-versicolor   \n61          5.9           3.0          4.2           1.5  Iris-versicolor   \n62          6.0           2.2          4.0           1.0  Iris-versicolor   \n63          6.1           2.9          4.7           1.4  Iris-versicolor   \n64          5.6           2.9          3.6           1.3  Iris-versicolor   \n65          6.7           3.1          4.4           1.4  Iris-versicolor   \n66          5.6           3.0          4.5           1.5  Iris-versicolor   \n67          5.8           2.7          4.1           1.0  Iris-versicolor   \n68          6.2           2.2          4.5           1.5  Iris-versicolor   \n69          5.6           2.5          3.9           1.1  Iris-versicolor   \n70          5.9           3.2          4.8           1.8  Iris-versicolor   \n71          6.1           2.8          4.0           1.3  Iris-versicolor   \n72          6.3           2.5          4.9           1.5  Iris-versicolor   \n73          6.1           2.8          4.7           1.2  Iris-versicolor   \n74          6.4           2.9          4.3           1.3  Iris-versicolor   \n75          6.6           3.0          4.4           1.4  Iris-versicolor   \n76          6.8           2.8          4.8           1.4  Iris-versicolor   \n77          6.7           3.0          5.0           1.7  Iris-versicolor   \n78          6.0           2.9          4.5           1.5  Iris-versicolor   \n79          5.7           2.6          3.5           1.0  Iris-versicolor   \n80          5.5           2.4          3.8           1.1  Iris-versicolor   \n81          5.5           2.4          3.7           1.0  Iris-versicolor   \n82          5.8           2.7          3.9           1.2  Iris-versicolor   \n83          6.0           2.7          5.1           1.6  Iris-versicolor   \n84          5.4           3.0          4.5           1.5  Iris-versicolor   \n85          6.0           3.4          4.5           1.6  Iris-versicolor   \n86          6.7           3.1          4.7           1.5  Iris-versicolor   \n87          6.3           2.3          4.4           1.3  Iris-versicolor   \n88          5.6           3.0          4.1           1.3  Iris-versicolor   \n89          5.5           2.5          4.0           1.3  Iris-versicolor   \n90          5.5           2.6          4.4           1.2  Iris-versicolor   \n91          6.1           3.0          4.6           1.4  Iris-versicolor   \n92          5.8           2.6          4.0           1.2  Iris-versicolor   \n93          5.0           2.3          3.3           1.0  Iris-versicolor   \n94          5.6           2.7          4.2           1.3  Iris-versicolor   \n95          5.7           3.0          4.2           1.2  Iris-versicolor   \n96          5.7           2.9          4.2           1.3  Iris-versicolor   \n97          6.2           2.9          4.3           1.3  Iris-versicolor   \n98          5.1           2.5          3.0           1.1  Iris-versicolor   \n99          5.7           2.8          4.1           1.3  Iris-versicolor   \n\n    long_petalo_minus_media  long_petalo_minus_media_square  \n50                     0.44                          0.1936  \n51                     0.24                          0.0576  \n52                     0.64                          0.4096  \n53                    -0.26                          0.0676  \n54                     0.34                          0.1156  \n55                     0.24                          0.0576  \n56                     0.44                          0.1936  \n57                    -0.96                          0.9216  \n58                     0.34                          0.1156  \n59                    -0.36                          0.1296  \n60                    -0.76                          0.5776  \n61                    -0.06                          0.0036  \n62                    -0.26                          0.0676  \n63                     0.44                          0.1936  \n64                    -0.66                          0.4356  \n65                     0.14                          0.0196  \n66                     0.24                          0.0576  \n67                    -0.16                          0.0256  \n68                     0.24                          0.0576  \n69                    -0.36                          0.1296  \n70                     0.54                          0.2916  \n71                    -0.26                          0.0676  \n72                     0.64                          0.4096  \n73                     0.44                          0.1936  \n74                     0.04                          0.0016  \n75                     0.14                          0.0196  \n76                     0.54                          0.2916  \n77                     0.74                          0.5476  \n78                     0.24                          0.0576  \n79                    -0.76                          0.5776  \n80                    -0.46                          0.2116  \n81                    -0.56                          0.3136  \n82                    -0.36                          0.1296  \n83                     0.84                          0.7056  \n84                     0.24                          0.0576  \n85                     0.24                          0.0576  \n86                     0.44                          0.1936  \n87                     0.14                          0.0196  \n88                    -0.16                          0.0256  \n89                    -0.26                          0.0676  \n90                     0.14                          0.0196  \n91                     0.34                          0.1156  \n92                    -0.26                          0.0676  \n93                    -0.96                          0.9216  \n94                    -0.06                          0.0036  \n95                    -0.06                          0.0036  \n96                    -0.06                          0.0036  \n97                     0.04                          0.0016  \n98                    -1.26                          1.5876  \n99                    -0.16                          0.0256  ",
      "text/html": "<div>\n<style scoped>\n    .dataframe tbody tr th:only-of-type {\n        vertical-align: middle;\n    }\n\n    .dataframe tbody tr th {\n        vertical-align: top;\n    }\n\n    .dataframe thead th {\n        text-align: right;\n    }\n</style>\n<table border=\"1\" class=\"dataframe\">\n  <thead>\n    <tr style=\"text-align: right;\">\n      <th></th>\n      <th>long_sepalo</th>\n      <th>ancho_sepalo</th>\n      <th>long_petalo</th>\n      <th>ancho_petalo</th>\n      <th>clase</th>\n      <th>long_petalo_minus_media</th>\n      <th>long_petalo_minus_media_square</th>\n    </tr>\n  </thead>\n  <tbody>\n    <tr>\n      <th>50</th>\n      <td>7.0</td>\n      <td>3.2</td>\n      <td>4.7</td>\n      <td>1.4</td>\n      <td>Iris-versicolor</td>\n      <td>0.44</td>\n      <td>0.1936</td>\n    </tr>\n    <tr>\n      <th>51</th>\n      <td>6.4</td>\n      <td>3.2</td>\n      <td>4.5</td>\n      <td>1.5</td>\n      <td>Iris-versicolor</td>\n      <td>0.24</td>\n      <td>0.0576</td>\n    </tr>\n    <tr>\n      <th>52</th>\n      <td>6.9</td>\n      <td>3.1</td>\n      <td>4.9</td>\n      <td>1.5</td>\n      <td>Iris-versicolor</td>\n      <td>0.64</td>\n      <td>0.4096</td>\n    </tr>\n    <tr>\n      <th>53</th>\n      <td>5.5</td>\n      <td>2.3</td>\n      <td>4.0</td>\n      <td>1.3</td>\n      <td>Iris-versicolor</td>\n      <td>-0.26</td>\n      <td>0.0676</td>\n    </tr>\n    <tr>\n      <th>54</th>\n      <td>6.5</td>\n      <td>2.8</td>\n      <td>4.6</td>\n      <td>1.5</td>\n      <td>Iris-versicolor</td>\n      <td>0.34</td>\n      <td>0.1156</td>\n    </tr>\n    <tr>\n      <th>55</th>\n      <td>5.7</td>\n      <td>2.8</td>\n      <td>4.5</td>\n      <td>1.3</td>\n      <td>Iris-versicolor</td>\n      <td>0.24</td>\n      <td>0.0576</td>\n    </tr>\n    <tr>\n      <th>56</th>\n      <td>6.3</td>\n      <td>3.3</td>\n      <td>4.7</td>\n      <td>1.6</td>\n      <td>Iris-versicolor</td>\n      <td>0.44</td>\n      <td>0.1936</td>\n    </tr>\n    <tr>\n      <th>57</th>\n      <td>4.9</td>\n      <td>2.4</td>\n      <td>3.3</td>\n      <td>1.0</td>\n      <td>Iris-versicolor</td>\n      <td>-0.96</td>\n      <td>0.9216</td>\n    </tr>\n    <tr>\n      <th>58</th>\n      <td>6.6</td>\n      <td>2.9</td>\n      <td>4.6</td>\n      <td>1.3</td>\n      <td>Iris-versicolor</td>\n      <td>0.34</td>\n      <td>0.1156</td>\n    </tr>\n    <tr>\n      <th>59</th>\n      <td>5.2</td>\n      <td>2.7</td>\n      <td>3.9</td>\n      <td>1.4</td>\n      <td>Iris-versicolor</td>\n      <td>-0.36</td>\n      <td>0.1296</td>\n    </tr>\n    <tr>\n      <th>60</th>\n      <td>5.0</td>\n      <td>2.0</td>\n      <td>3.5</td>\n      <td>1.0</td>\n      <td>Iris-versicolor</td>\n      <td>-0.76</td>\n      <td>0.5776</td>\n    </tr>\n    <tr>\n      <th>61</th>\n      <td>5.9</td>\n      <td>3.0</td>\n      <td>4.2</td>\n      <td>1.5</td>\n      <td>Iris-versicolor</td>\n      <td>-0.06</td>\n      <td>0.0036</td>\n    </tr>\n    <tr>\n      <th>62</th>\n      <td>6.0</td>\n      <td>2.2</td>\n      <td>4.0</td>\n      <td>1.0</td>\n      <td>Iris-versicolor</td>\n      <td>-0.26</td>\n      <td>0.0676</td>\n    </tr>\n    <tr>\n      <th>63</th>\n      <td>6.1</td>\n      <td>2.9</td>\n      <td>4.7</td>\n      <td>1.4</td>\n      <td>Iris-versicolor</td>\n      <td>0.44</td>\n      <td>0.1936</td>\n    </tr>\n    <tr>\n      <th>64</th>\n      <td>5.6</td>\n      <td>2.9</td>\n      <td>3.6</td>\n      <td>1.3</td>\n      <td>Iris-versicolor</td>\n      <td>-0.66</td>\n      <td>0.4356</td>\n    </tr>\n    <tr>\n      <th>65</th>\n      <td>6.7</td>\n      <td>3.1</td>\n      <td>4.4</td>\n      <td>1.4</td>\n      <td>Iris-versicolor</td>\n      <td>0.14</td>\n      <td>0.0196</td>\n    </tr>\n    <tr>\n      <th>66</th>\n      <td>5.6</td>\n      <td>3.0</td>\n      <td>4.5</td>\n      <td>1.5</td>\n      <td>Iris-versicolor</td>\n      <td>0.24</td>\n      <td>0.0576</td>\n    </tr>\n    <tr>\n      <th>67</th>\n      <td>5.8</td>\n      <td>2.7</td>\n      <td>4.1</td>\n      <td>1.0</td>\n      <td>Iris-versicolor</td>\n      <td>-0.16</td>\n      <td>0.0256</td>\n    </tr>\n    <tr>\n      <th>68</th>\n      <td>6.2</td>\n      <td>2.2</td>\n      <td>4.5</td>\n      <td>1.5</td>\n      <td>Iris-versicolor</td>\n      <td>0.24</td>\n      <td>0.0576</td>\n    </tr>\n    <tr>\n      <th>69</th>\n      <td>5.6</td>\n      <td>2.5</td>\n      <td>3.9</td>\n      <td>1.1</td>\n      <td>Iris-versicolor</td>\n      <td>-0.36</td>\n      <td>0.1296</td>\n    </tr>\n    <tr>\n      <th>70</th>\n      <td>5.9</td>\n      <td>3.2</td>\n      <td>4.8</td>\n      <td>1.8</td>\n      <td>Iris-versicolor</td>\n      <td>0.54</td>\n      <td>0.2916</td>\n    </tr>\n    <tr>\n      <th>71</th>\n      <td>6.1</td>\n      <td>2.8</td>\n      <td>4.0</td>\n      <td>1.3</td>\n      <td>Iris-versicolor</td>\n      <td>-0.26</td>\n      <td>0.0676</td>\n    </tr>\n    <tr>\n      <th>72</th>\n      <td>6.3</td>\n      <td>2.5</td>\n      <td>4.9</td>\n      <td>1.5</td>\n      <td>Iris-versicolor</td>\n      <td>0.64</td>\n      <td>0.4096</td>\n    </tr>\n    <tr>\n      <th>73</th>\n      <td>6.1</td>\n      <td>2.8</td>\n      <td>4.7</td>\n      <td>1.2</td>\n      <td>Iris-versicolor</td>\n      <td>0.44</td>\n      <td>0.1936</td>\n    </tr>\n    <tr>\n      <th>74</th>\n      <td>6.4</td>\n      <td>2.9</td>\n      <td>4.3</td>\n      <td>1.3</td>\n      <td>Iris-versicolor</td>\n      <td>0.04</td>\n      <td>0.0016</td>\n    </tr>\n    <tr>\n      <th>75</th>\n      <td>6.6</td>\n      <td>3.0</td>\n      <td>4.4</td>\n      <td>1.4</td>\n      <td>Iris-versicolor</td>\n      <td>0.14</td>\n      <td>0.0196</td>\n    </tr>\n    <tr>\n      <th>76</th>\n      <td>6.8</td>\n      <td>2.8</td>\n      <td>4.8</td>\n      <td>1.4</td>\n      <td>Iris-versicolor</td>\n      <td>0.54</td>\n      <td>0.2916</td>\n    </tr>\n    <tr>\n      <th>77</th>\n      <td>6.7</td>\n      <td>3.0</td>\n      <td>5.0</td>\n      <td>1.7</td>\n      <td>Iris-versicolor</td>\n      <td>0.74</td>\n      <td>0.5476</td>\n    </tr>\n    <tr>\n      <th>78</th>\n      <td>6.0</td>\n      <td>2.9</td>\n      <td>4.5</td>\n      <td>1.5</td>\n      <td>Iris-versicolor</td>\n      <td>0.24</td>\n      <td>0.0576</td>\n    </tr>\n    <tr>\n      <th>79</th>\n      <td>5.7</td>\n      <td>2.6</td>\n      <td>3.5</td>\n      <td>1.0</td>\n      <td>Iris-versicolor</td>\n      <td>-0.76</td>\n      <td>0.5776</td>\n    </tr>\n    <tr>\n      <th>80</th>\n      <td>5.5</td>\n      <td>2.4</td>\n      <td>3.8</td>\n      <td>1.1</td>\n      <td>Iris-versicolor</td>\n      <td>-0.46</td>\n      <td>0.2116</td>\n    </tr>\n    <tr>\n      <th>81</th>\n      <td>5.5</td>\n      <td>2.4</td>\n      <td>3.7</td>\n      <td>1.0</td>\n      <td>Iris-versicolor</td>\n      <td>-0.56</td>\n      <td>0.3136</td>\n    </tr>\n    <tr>\n      <th>82</th>\n      <td>5.8</td>\n      <td>2.7</td>\n      <td>3.9</td>\n      <td>1.2</td>\n      <td>Iris-versicolor</td>\n      <td>-0.36</td>\n      <td>0.1296</td>\n    </tr>\n    <tr>\n      <th>83</th>\n      <td>6.0</td>\n      <td>2.7</td>\n      <td>5.1</td>\n      <td>1.6</td>\n      <td>Iris-versicolor</td>\n      <td>0.84</td>\n      <td>0.7056</td>\n    </tr>\n    <tr>\n      <th>84</th>\n      <td>5.4</td>\n      <td>3.0</td>\n      <td>4.5</td>\n      <td>1.5</td>\n      <td>Iris-versicolor</td>\n      <td>0.24</td>\n      <td>0.0576</td>\n    </tr>\n    <tr>\n      <th>85</th>\n      <td>6.0</td>\n      <td>3.4</td>\n      <td>4.5</td>\n      <td>1.6</td>\n      <td>Iris-versicolor</td>\n      <td>0.24</td>\n      <td>0.0576</td>\n    </tr>\n    <tr>\n      <th>86</th>\n      <td>6.7</td>\n      <td>3.1</td>\n      <td>4.7</td>\n      <td>1.5</td>\n      <td>Iris-versicolor</td>\n      <td>0.44</td>\n      <td>0.1936</td>\n    </tr>\n    <tr>\n      <th>87</th>\n      <td>6.3</td>\n      <td>2.3</td>\n      <td>4.4</td>\n      <td>1.3</td>\n      <td>Iris-versicolor</td>\n      <td>0.14</td>\n      <td>0.0196</td>\n    </tr>\n    <tr>\n      <th>88</th>\n      <td>5.6</td>\n      <td>3.0</td>\n      <td>4.1</td>\n      <td>1.3</td>\n      <td>Iris-versicolor</td>\n      <td>-0.16</td>\n      <td>0.0256</td>\n    </tr>\n    <tr>\n      <th>89</th>\n      <td>5.5</td>\n      <td>2.5</td>\n      <td>4.0</td>\n      <td>1.3</td>\n      <td>Iris-versicolor</td>\n      <td>-0.26</td>\n      <td>0.0676</td>\n    </tr>\n    <tr>\n      <th>90</th>\n      <td>5.5</td>\n      <td>2.6</td>\n      <td>4.4</td>\n      <td>1.2</td>\n      <td>Iris-versicolor</td>\n      <td>0.14</td>\n      <td>0.0196</td>\n    </tr>\n    <tr>\n      <th>91</th>\n      <td>6.1</td>\n      <td>3.0</td>\n      <td>4.6</td>\n      <td>1.4</td>\n      <td>Iris-versicolor</td>\n      <td>0.34</td>\n      <td>0.1156</td>\n    </tr>\n    <tr>\n      <th>92</th>\n      <td>5.8</td>\n      <td>2.6</td>\n      <td>4.0</td>\n      <td>1.2</td>\n      <td>Iris-versicolor</td>\n      <td>-0.26</td>\n      <td>0.0676</td>\n    </tr>\n    <tr>\n      <th>93</th>\n      <td>5.0</td>\n      <td>2.3</td>\n      <td>3.3</td>\n      <td>1.0</td>\n      <td>Iris-versicolor</td>\n      <td>-0.96</td>\n      <td>0.9216</td>\n    </tr>\n    <tr>\n      <th>94</th>\n      <td>5.6</td>\n      <td>2.7</td>\n      <td>4.2</td>\n      <td>1.3</td>\n      <td>Iris-versicolor</td>\n      <td>-0.06</td>\n      <td>0.0036</td>\n    </tr>\n    <tr>\n      <th>95</th>\n      <td>5.7</td>\n      <td>3.0</td>\n      <td>4.2</td>\n      <td>1.2</td>\n      <td>Iris-versicolor</td>\n      <td>-0.06</td>\n      <td>0.0036</td>\n    </tr>\n    <tr>\n      <th>96</th>\n      <td>5.7</td>\n      <td>2.9</td>\n      <td>4.2</td>\n      <td>1.3</td>\n      <td>Iris-versicolor</td>\n      <td>-0.06</td>\n      <td>0.0036</td>\n    </tr>\n    <tr>\n      <th>97</th>\n      <td>6.2</td>\n      <td>2.9</td>\n      <td>4.3</td>\n      <td>1.3</td>\n      <td>Iris-versicolor</td>\n      <td>0.04</td>\n      <td>0.0016</td>\n    </tr>\n    <tr>\n      <th>98</th>\n      <td>5.1</td>\n      <td>2.5</td>\n      <td>3.0</td>\n      <td>1.1</td>\n      <td>Iris-versicolor</td>\n      <td>-1.26</td>\n      <td>1.5876</td>\n    </tr>\n    <tr>\n      <th>99</th>\n      <td>5.7</td>\n      <td>2.8</td>\n      <td>4.1</td>\n      <td>1.3</td>\n      <td>Iris-versicolor</td>\n      <td>-0.16</td>\n      <td>0.0256</td>\n    </tr>\n  </tbody>\n</table>\n</div>"
     },
     "execution_count": 100,
     "metadata": {},
     "output_type": "execute_result"
    }
   ],
   "source": [
    "# Ejemplo 4: Calcular la desviacion estandar del largo del pétalo para la clase Iris Versicolor\n",
    "df_iris_versicolor = df_iris.query('clase == \"Iris-versicolor\"').copy()\n",
    "\n",
    "# Se calcula la media del largo del pétalo\n",
    "media_long_petalo = np.mean(df_iris_versicolor['long_petalo'])\n",
    "\n",
    "# Se crea una columna con la resta la media de cada largo del pétalo\n",
    "df_iris_versicolor['long_petalo_minus_media'] = df_iris_versicolor['long_petalo'] - media_long_petalo\n",
    "\n",
    "# Se crea una columna con la diferencia anterior al cuadrado\n",
    "df_iris_versicolor['long_petalo_minus_media_square'] = (df_iris_versicolor['long_petalo'] - media_long_petalo)**2\n",
    "\n",
    "# Se calcula la media elevada al cuadrado\n",
    "media_long_petalo_error = np.mean(df_iris_versicolor['long_petalo_minus_media_square'])\n",
    "\n",
    "# Se calcula deviacion estandar\n",
    "print(f'DevSt = {np.square(media_long_petalo_error)}')\n",
    "\n",
    "# Se imprime el dataset\n",
    "df_iris_versicolor"
   ]
  },
  {
   "cell_type": "markdown",
   "source": [
    "Como observamos, el cálculo fue bastante abrumador y es por esto por lo que los métodos previamente expuestos permiten de alguna forma que en tan pocas líneas de código se logre mucho.\n",
    "Por ejemplo, podemos hacer lo mismo mucho más eficiente con el método `np.std()`. Tomando como parámetro la columna 'long_petalo'"
   ],
   "metadata": {
    "collapsed": false,
    "pycharm": {
     "name": "#%% md\n"
    }
   }
  },
  {
   "cell_type": "code",
   "execution_count": 101,
   "outputs": [
    {
     "name": "stdout",
     "output_type": "stream",
     "text": [
      "DevSt = 0.4651881339845203\n"
     ]
    }
   ],
   "source": [
    "devstd_long_petalo = np.std(df_iris_versicolor['long_petalo'])\n",
    "print(f'DevSt = {devstd_long_petalo}')"
   ],
   "metadata": {
    "collapsed": false,
    "pycharm": {
     "name": "#%%\n"
    }
   }
  },
  {
   "cell_type": "markdown",
   "id": "efa16fbb-1a4e-48a9-ac27-b627b2c602da",
   "metadata": {
    "pycharm": {
     "name": "#%% md\n"
    }
   },
   "source": [
    "# Práctica 1: Adquirir datos de ChEMBL\n",
    "\n",
    "## Conceptos a trabajar\n",
    "**Uniprot:** Es una base de datos que busca proporcionar a la comunidad científica un recurso integral, de alta calidad y de libre acceso de secuencias de proteínas e información funcional. Referencia: [Uniprot](https://www.uniprot.org/).\n",
    "\n",
    "**ChEMBL:** Es una base de datos que contiene moléculas bioactivas, reune datos químicos, de bioactividad y genómicos. Refernecia: [ChEMBL](https://www.ebi.ac.uk/chembl/)\n",
    "\n",
    "**Half-maximal inhibitory concentration (IC50):** Expresa la cantidad de fármaco necesaria para inhibir un proceso biológico a la mitad del valor no inhibido, es la medida más utilizada de la eficacia o potencia de un fármaco. Referencia: [Aykul, S. y Martínez-Hackert, E. (2016)](https://doi.org/10.1016/j.ab.2016.06.025)\n",
    "\n",
    "**pIC50:** Es el logaritmo negativo en base diez del IC50, cuando las unidades de son **molares (M)**. Se usa para facilitar la comparación entre distintos IC50. También, es importante saber que a mayor pIC50 el fármaco tiene una mayor eficacia o mayor potencial.\n",
    "\n",
    "**Half maximal effective concentration (EC50):** Es la concentración efectiva para producir el 50 % de la respuesta máxima, se usa para comparar las potencias de los fármacos. También, es importante saber que a menor sea el EC50 más potente será el fármaco. A esta pedida también se le calcula el logaritmo negativo en base diez **(pEC50)** para facilitar su comprensión. Referencia: [Waller, D., & Sampson, A. (2018)](https://doi.org/10.1016/B978-0-7020-7167-6.00001-4)\n",
    "\n",
    "**Inhibitor constant (Ki):** Es la concentración requerida para producir la mitad de la inhibición máxima, es útil para describir la afinidad de unión de una molécula a un receptor.\n",
    "\n",
    "**SMILES (Simplified Molecular-Input Line-Entry System):** Es una notación de línea para describir estructuras químicas utilizando cadenas ASCII cortas. Referencia: [Daylight Chemical Information Systems](https://www.daylight.com/smiles/)"
   ]
  },
  {
   "cell_type": "markdown",
   "id": "d7663773-6f54-47bf-9c9a-1eff4eb5b10a",
   "metadata": {
    "pycharm": {
     "name": "#%% md\n"
    }
   },
   "source": [
    "## Planteamiento del problema\n",
    "Para una investigación queremos identificar los compuestos que actúan con un target específico, la proteína Glucógeno sintasa quinasa-3 beta, que actúa como un regulador negativo en el control hormonal de la homeostasis de la glucosa, señalización Wnt y regulación de factores de transcripción y microtúbulos.\n",
    "\n",
    "En esta práctica vamos a explorar y conocer los compuestos bioactivos de la proteína, sus estructuras y algunas características fisicoquímicas.\n",
    "\n",
    "Para lo cual, usaremos la información que proporciona la base de datos **ChEMBL**, que nos permite filtrar y descargar los datos de bioactividad conocidos de los compuestos que interactúan con nuestro target de interés. Posteriormente, trabajaremos los datos en un ` DataFrame `, que nos permitirá organizarlos, visualizarlos y manipularlos fácilmente.\n",
    "\n",
    "Lo primero que debemos hacer es conectarnos a **ChEMBL**, empleando la biblioteca **webresource client**"
   ]
  },
  {
   "cell_type": "markdown",
   "id": "f84dc1df-030e-4a1d-a809-4ac8edd672fd",
   "metadata": {
    "pycharm": {
     "name": "#%% md\n"
    }
   },
   "source": [
    "## Conectarse a la base de datos ChEMBL\n"
   ]
  },
  {
   "cell_type": "code",
   "execution_count": 102,
   "id": "99e2612c-a497-4cb8-bd51-fdcefcb13e42",
   "metadata": {
    "pycharm": {
     "name": "#%%\n"
    }
   },
   "outputs": [],
   "source": [
    "from chembl_webresource_client.new_client import new_client #Se importa la biblioteca webresource client que permite conectase a ChEMBL\n",
    "import pandas as pd\n",
    "import math\n",
    "from rdkit.Chem import PandasTools"
   ]
  },
  {
   "cell_type": "markdown",
   "id": "88b8cdc0-6939-4c4c-a183-374eacace60b",
   "metadata": {
    "pycharm": {
     "name": "#%% md\n"
    }
   },
   "source": [
    "Se deben crear para el acceso a la API"
   ]
  },
  {
   "cell_type": "code",
   "execution_count": 103,
   "id": "568fddfc-ef9a-4189-911d-8f0e3d00c5ce",
   "metadata": {
    "pycharm": {
     "name": "#%%\n"
    }
   },
   "outputs": [],
   "source": [
    "targets = new_client.target\n",
    "compounds = new_client.molecule\n",
    "bioactivities = new_client.activity"
   ]
  },
  {
   "cell_type": "markdown",
   "id": "d6d7e2d7-f5a2-4473-83bd-2daff23ef7d3",
   "metadata": {
    "pycharm": {
     "name": "#%% md\n"
    }
   },
   "source": [
    "## Datos del target \n",
    "Luego, debemos buscar el ID del target de interes en la base de datos Uniprot, que en este caso es Glucógeno sintasa quinasa-3 beta, ID: [P49841](https://www.uniprot.org/uniprot/P49841)."
   ]
  },
  {
   "cell_type": "code",
   "execution_count": 104,
   "id": "aaaf0217-bde5-40ea-be59-73092c07b5c0",
   "metadata": {
    "pycharm": {
     "name": "#%%\n"
    }
   },
   "outputs": [
    {
     "data": {
      "text/plain": "       organism                               pref_name target_chembl_id  \\\n0  Homo sapiens         Glycogen synthase kinase-3 beta        CHEMBL262   \n1  Homo sapiens         Glycogen synthase kinase-3 beta        CHEMBL262   \n2  Homo sapiens              Glycogen synthase kinase-3    CHEMBL2095188   \n3  Homo sapiens  Axin-1/Glycogen synthase kinase-3 beta    CHEMBL3883309   \n\n                   target_type  \n0               SINGLE PROTEIN  \n1               SINGLE PROTEIN  \n2               PROTEIN FAMILY  \n3  PROTEIN-PROTEIN INTERACTION  ",
      "text/html": "<div>\n<style scoped>\n    .dataframe tbody tr th:only-of-type {\n        vertical-align: middle;\n    }\n\n    .dataframe tbody tr th {\n        vertical-align: top;\n    }\n\n    .dataframe thead th {\n        text-align: right;\n    }\n</style>\n<table border=\"1\" class=\"dataframe\">\n  <thead>\n    <tr style=\"text-align: right;\">\n      <th></th>\n      <th>organism</th>\n      <th>pref_name</th>\n      <th>target_chembl_id</th>\n      <th>target_type</th>\n    </tr>\n  </thead>\n  <tbody>\n    <tr>\n      <th>0</th>\n      <td>Homo sapiens</td>\n      <td>Glycogen synthase kinase-3 beta</td>\n      <td>CHEMBL262</td>\n      <td>SINGLE PROTEIN</td>\n    </tr>\n    <tr>\n      <th>1</th>\n      <td>Homo sapiens</td>\n      <td>Glycogen synthase kinase-3 beta</td>\n      <td>CHEMBL262</td>\n      <td>SINGLE PROTEIN</td>\n    </tr>\n    <tr>\n      <th>2</th>\n      <td>Homo sapiens</td>\n      <td>Glycogen synthase kinase-3</td>\n      <td>CHEMBL2095188</td>\n      <td>PROTEIN FAMILY</td>\n    </tr>\n    <tr>\n      <th>3</th>\n      <td>Homo sapiens</td>\n      <td>Axin-1/Glycogen synthase kinase-3 beta</td>\n      <td>CHEMBL3883309</td>\n      <td>PROTEIN-PROTEIN INTERACTION</td>\n    </tr>\n  </tbody>\n</table>\n</div>"
     },
     "execution_count": 104,
     "metadata": {},
     "output_type": "execute_result"
    }
   ],
   "source": [
    "uniprot_id = 'P49841'\n",
    "# Se toma sola alguna información de  ChEMBL que sea de interesbut restrict to specified values only\n",
    "target_P49841 = targets.get(target_components__accession=uniprot_id) \\\n",
    "                     .only('target_chembl_id', 'organism', 'pref_name', 'target_type')\n",
    "pd.DataFrame.from_records(target_P49841)"
   ]
  },
  {
   "cell_type": "markdown",
   "id": "26b05cd6-df7a-47fc-b396-f181a6118b97",
   "metadata": {
    "pycharm": {
     "name": "#%% md\n"
    }
   },
   "source": [
    "Vamos a seleccionar el target de interes `CHEMBL262` y guardar el ChEMBL-ID \n"
   ]
  },
  {
   "cell_type": "code",
   "execution_count": 105,
   "id": "dab282de-f599-4496-b5b3-78158b787d8e",
   "metadata": {
    "pycharm": {
     "name": "#%%\n"
    }
   },
   "outputs": [
    {
     "name": "stdout",
     "output_type": "stream",
     "text": [
      "El target de interes es: {'organism': 'Homo sapiens', 'pref_name': 'Glycogen synthase kinase-3 beta', 'target_chembl_id': 'CHEMBL262', 'target_type': 'SINGLE PROTEIN'}\n"
     ]
    }
   ],
   "source": [
    "# Seleccionar el target de interes\n",
    "target = target_P49841[0]\n",
    "print(f'El target de interes es: {str(target)}')"
   ]
  },
  {
   "cell_type": "code",
   "execution_count": 106,
   "id": "c522cf8d-d0eb-478e-90c7-86fd833bc412",
   "metadata": {
    "pycharm": {
     "name": "#%%\n"
    }
   },
   "outputs": [
    {
     "name": "stdout",
     "output_type": "stream",
     "text": [
      "El ChEMBL-ID de interes es: CHEMBL262\n"
     ]
    }
   ],
   "source": [
    "# Guardar el ChEMBL-ID\n",
    "chembl_id = target['target_chembl_id']\n",
    "print(f'El ChEMBL-ID de interes es: {chembl_id}')"
   ]
  },
  {
   "cell_type": "markdown",
   "id": "d287d52d",
   "metadata": {
    "pycharm": {
     "name": "#%% md\n"
    }
   },
   "source": [
    "## Datos de bioactividad\n",
    "\n",
    "Ahora consultamos los datos de bioactividad que son de interés. Los pasos a seguir son:\n",
    "1. Descargar y filtrar bioactividades para el target\n",
    "    Los datos de bioactividad se van a filtrar de la siguiente manera:\n",
    "        * Tipo de bioactividad: IC50, EC50, Ki\n",
    "        * Relación: \"=\"\n",
    "2. Convertir los datos descargados en un data frame:\n",
    "    Las columnas de interés son: `molecule_chembl_id`, `type`, `relation`, `pchembl_value`\n",
    "\n",
    "\n"
   ]
  },
  {
   "cell_type": "code",
   "execution_count": 186,
   "id": "7aab8630",
   "metadata": {
    "pycharm": {
     "name": "#%%\n"
    }
   },
   "outputs": [
    {
     "data": {
      "text/plain": "     molecule_chembl_id              type relation                 value  \\\n0          CHEMBL322970              IC50        =                  0.38   \n1          CHEMBL322970              EC50        =                  45.6   \n2          CHEMBL322970              EC50        =                 30.62   \n3          CHEMBL322970  Fold stimulation        =                   1.3   \n4          CHEMBL112564              IC50        =                  6.92   \n...                 ...               ...      ...                   ...   \n6863       CHEMBL102714              IC50        =  0.028999999999999998   \n6864      CHEMBL4868123               INH        =                  13.0   \n6865       CHEMBL156277              IC50        =                  14.0   \n6866      CHEMBL4875188              IC50        =                  36.0   \n6867       CHEMBL388978              IC50        =                   5.1   \n\n     units pchembl_value  \n0       uM          6.42  \n1       uM          4.34  \n2       uM          4.51  \n3     None          None  \n4       uM          5.16  \n...    ...           ...  \n6863    uM          7.54  \n6864     %          None  \n6865    nM          7.85  \n6866    nM          7.44  \n6867    nM          8.29  \n\n[6868 rows x 6 columns]",
      "text/html": "<div>\n<style scoped>\n    .dataframe tbody tr th:only-of-type {\n        vertical-align: middle;\n    }\n\n    .dataframe tbody tr th {\n        vertical-align: top;\n    }\n\n    .dataframe thead th {\n        text-align: right;\n    }\n</style>\n<table border=\"1\" class=\"dataframe\">\n  <thead>\n    <tr style=\"text-align: right;\">\n      <th></th>\n      <th>molecule_chembl_id</th>\n      <th>type</th>\n      <th>relation</th>\n      <th>value</th>\n      <th>units</th>\n      <th>pchembl_value</th>\n    </tr>\n  </thead>\n  <tbody>\n    <tr>\n      <th>0</th>\n      <td>CHEMBL322970</td>\n      <td>IC50</td>\n      <td>=</td>\n      <td>0.38</td>\n      <td>uM</td>\n      <td>6.42</td>\n    </tr>\n    <tr>\n      <th>1</th>\n      <td>CHEMBL322970</td>\n      <td>EC50</td>\n      <td>=</td>\n      <td>45.6</td>\n      <td>uM</td>\n      <td>4.34</td>\n    </tr>\n    <tr>\n      <th>2</th>\n      <td>CHEMBL322970</td>\n      <td>EC50</td>\n      <td>=</td>\n      <td>30.62</td>\n      <td>uM</td>\n      <td>4.51</td>\n    </tr>\n    <tr>\n      <th>3</th>\n      <td>CHEMBL322970</td>\n      <td>Fold stimulation</td>\n      <td>=</td>\n      <td>1.3</td>\n      <td>None</td>\n      <td>None</td>\n    </tr>\n    <tr>\n      <th>4</th>\n      <td>CHEMBL112564</td>\n      <td>IC50</td>\n      <td>=</td>\n      <td>6.92</td>\n      <td>uM</td>\n      <td>5.16</td>\n    </tr>\n    <tr>\n      <th>...</th>\n      <td>...</td>\n      <td>...</td>\n      <td>...</td>\n      <td>...</td>\n      <td>...</td>\n      <td>...</td>\n    </tr>\n    <tr>\n      <th>6863</th>\n      <td>CHEMBL102714</td>\n      <td>IC50</td>\n      <td>=</td>\n      <td>0.028999999999999998</td>\n      <td>uM</td>\n      <td>7.54</td>\n    </tr>\n    <tr>\n      <th>6864</th>\n      <td>CHEMBL4868123</td>\n      <td>INH</td>\n      <td>=</td>\n      <td>13.0</td>\n      <td>%</td>\n      <td>None</td>\n    </tr>\n    <tr>\n      <th>6865</th>\n      <td>CHEMBL156277</td>\n      <td>IC50</td>\n      <td>=</td>\n      <td>14.0</td>\n      <td>nM</td>\n      <td>7.85</td>\n    </tr>\n    <tr>\n      <th>6866</th>\n      <td>CHEMBL4875188</td>\n      <td>IC50</td>\n      <td>=</td>\n      <td>36.0</td>\n      <td>nM</td>\n      <td>7.44</td>\n    </tr>\n    <tr>\n      <th>6867</th>\n      <td>CHEMBL388978</td>\n      <td>IC50</td>\n      <td>=</td>\n      <td>5.1</td>\n      <td>nM</td>\n      <td>8.29</td>\n    </tr>\n  </tbody>\n</table>\n<p>6868 rows × 6 columns</p>\n</div>"
     },
     "execution_count": 186,
     "metadata": {},
     "output_type": "execute_result"
    }
   ],
   "source": [
    "# Primero, descargamos toda la base de datos\n",
    "bioact_temp = bioactivities.filter(target_chembl_id = chembl_id)\\\n",
    "                      .filter(relation = '=') \\\n",
    "                      .only('molecule_chembl_id', 'type', 'relation', 'standar_value', 'standar_units', 'pchembl_value', )\n",
    "df_bioact_temp = pd.DataFrame(bioact_temp)\n",
    "# se re organizan las columnas\n",
    "df_bioact_temp = df_bioact_temp[['molecule_chembl_id', 'type', 'relation', 'value', 'units', 'pchembl_value']]\n",
    "df_bioact_temp"
   ]
  },
  {
   "cell_type": "code",
   "execution_count": 187,
   "id": "662bad24",
   "metadata": {
    "pycharm": {
     "name": "#%%\n"
    }
   },
   "outputs": [
    {
     "name": "stdout",
     "output_type": "stream",
     "text": [
      "Total de datos cargados: 3065\n"
     ]
    }
   ],
   "source": [
    "# Luego, filtramos por el tipo de actividad deseada\n",
    "df_bioact = df_bioact_temp[(df_bioact_temp['type'] == 'IC50') |\n",
    "                             (df_bioact_temp['type'] == 'EC50')|\n",
    "                             (df_bioact_temp['type'] == 'Ki')]\n",
    "print(f'Total de datos cargados: {len(df_bioact)}')"
   ]
  },
  {
   "cell_type": "code",
   "execution_count": 188,
   "outputs": [
    {
     "data": {
      "text/plain": "     molecule_chembl_id  type relation                 value units  \\\n0          CHEMBL322970  IC50        =                  0.38    uM   \n1          CHEMBL322970  EC50        =                  45.6    uM   \n2          CHEMBL322970  EC50        =                 30.62    uM   \n4          CHEMBL112564  IC50        =                  6.92    uM   \n5          CHEMBL321421  IC50        =                  0.41    uM   \n...                 ...   ...      ...                   ...   ...   \n6862      CHEMBL4877175  IC50        =    0.8370000000000001    uM   \n6863       CHEMBL102714  IC50        =  0.028999999999999998    uM   \n6865       CHEMBL156277  IC50        =                  14.0    nM   \n6866      CHEMBL4875188  IC50        =                  36.0    nM   \n6867       CHEMBL388978  IC50        =                   5.1    nM   \n\n     pchembl_value  \n0             6.42  \n1             4.34  \n2             4.51  \n4             5.16  \n5             6.39  \n...            ...  \n6862          6.08  \n6863          7.54  \n6865          7.85  \n6866          7.44  \n6867          8.29  \n\n[3065 rows x 6 columns]",
      "text/html": "<div>\n<style scoped>\n    .dataframe tbody tr th:only-of-type {\n        vertical-align: middle;\n    }\n\n    .dataframe tbody tr th {\n        vertical-align: top;\n    }\n\n    .dataframe thead th {\n        text-align: right;\n    }\n</style>\n<table border=\"1\" class=\"dataframe\">\n  <thead>\n    <tr style=\"text-align: right;\">\n      <th></th>\n      <th>molecule_chembl_id</th>\n      <th>type</th>\n      <th>relation</th>\n      <th>value</th>\n      <th>units</th>\n      <th>pchembl_value</th>\n    </tr>\n  </thead>\n  <tbody>\n    <tr>\n      <th>0</th>\n      <td>CHEMBL322970</td>\n      <td>IC50</td>\n      <td>=</td>\n      <td>0.38</td>\n      <td>uM</td>\n      <td>6.42</td>\n    </tr>\n    <tr>\n      <th>1</th>\n      <td>CHEMBL322970</td>\n      <td>EC50</td>\n      <td>=</td>\n      <td>45.6</td>\n      <td>uM</td>\n      <td>4.34</td>\n    </tr>\n    <tr>\n      <th>2</th>\n      <td>CHEMBL322970</td>\n      <td>EC50</td>\n      <td>=</td>\n      <td>30.62</td>\n      <td>uM</td>\n      <td>4.51</td>\n    </tr>\n    <tr>\n      <th>4</th>\n      <td>CHEMBL112564</td>\n      <td>IC50</td>\n      <td>=</td>\n      <td>6.92</td>\n      <td>uM</td>\n      <td>5.16</td>\n    </tr>\n    <tr>\n      <th>5</th>\n      <td>CHEMBL321421</td>\n      <td>IC50</td>\n      <td>=</td>\n      <td>0.41</td>\n      <td>uM</td>\n      <td>6.39</td>\n    </tr>\n    <tr>\n      <th>...</th>\n      <td>...</td>\n      <td>...</td>\n      <td>...</td>\n      <td>...</td>\n      <td>...</td>\n      <td>...</td>\n    </tr>\n    <tr>\n      <th>6862</th>\n      <td>CHEMBL4877175</td>\n      <td>IC50</td>\n      <td>=</td>\n      <td>0.8370000000000001</td>\n      <td>uM</td>\n      <td>6.08</td>\n    </tr>\n    <tr>\n      <th>6863</th>\n      <td>CHEMBL102714</td>\n      <td>IC50</td>\n      <td>=</td>\n      <td>0.028999999999999998</td>\n      <td>uM</td>\n      <td>7.54</td>\n    </tr>\n    <tr>\n      <th>6865</th>\n      <td>CHEMBL156277</td>\n      <td>IC50</td>\n      <td>=</td>\n      <td>14.0</td>\n      <td>nM</td>\n      <td>7.85</td>\n    </tr>\n    <tr>\n      <th>6866</th>\n      <td>CHEMBL4875188</td>\n      <td>IC50</td>\n      <td>=</td>\n      <td>36.0</td>\n      <td>nM</td>\n      <td>7.44</td>\n    </tr>\n    <tr>\n      <th>6867</th>\n      <td>CHEMBL388978</td>\n      <td>IC50</td>\n      <td>=</td>\n      <td>5.1</td>\n      <td>nM</td>\n      <td>8.29</td>\n    </tr>\n  </tbody>\n</table>\n<p>3065 rows × 6 columns</p>\n</div>"
     },
     "execution_count": 188,
     "metadata": {},
     "output_type": "execute_result"
    }
   ],
   "source": [
    "# primeros compuestos del dataframe\n",
    "df_bioact"
   ],
   "metadata": {
    "collapsed": false,
    "pycharm": {
     "name": "#%%\n"
    }
   }
  },
  {
   "cell_type": "markdown",
   "source": [
    "Recordemos que el método `.head()` muestra los cinco primeros elementos del `dataframe`, sin embargo, podemos ver rápidamente qué elementos hay en las columnas *realtion* y *type*."
   ],
   "metadata": {
    "collapsed": false,
    "pycharm": {
     "name": "#%% md\n"
    }
   }
  },
  {
   "cell_type": "code",
   "execution_count": 189,
   "outputs": [
    {
     "data": {
      "text/plain": "=    3065\nName: relation, dtype: int64"
     },
     "execution_count": 189,
     "metadata": {},
     "output_type": "execute_result"
    }
   ],
   "source": [
    "df_bioact['relation'].value_counts()"
   ],
   "metadata": {
    "collapsed": false,
    "pycharm": {
     "name": "#%%\n"
    }
   }
  },
  {
   "cell_type": "code",
   "execution_count": 190,
   "outputs": [
    {
     "data": {
      "text/plain": "IC50    2707\nKi       289\nEC50      69\nName: type, dtype: int64"
     },
     "execution_count": 190,
     "metadata": {},
     "output_type": "execute_result"
    }
   ],
   "source": [
    "df_bioact['type'].value_counts()"
   ],
   "metadata": {
    "collapsed": false,
    "pycharm": {
     "name": "#%%\n"
    }
   }
  },
  {
   "cell_type": "markdown",
   "source": [
    "Ya que la columna *realtion* tiene solo un tipo (esto se debe al filtro incial de la base de datos), podemos quitarla:"
   ],
   "metadata": {
    "collapsed": false,
    "pycharm": {
     "name": "#%% md\n"
    }
   }
  },
  {
   "cell_type": "code",
   "execution_count": 191,
   "outputs": [
    {
     "data": {
      "text/plain": "  molecule_chembl_id  type  value units pchembl_value\n0       CHEMBL322970  IC50   0.38    uM          6.42\n1       CHEMBL322970  EC50   45.6    uM          4.34\n2       CHEMBL322970  EC50  30.62    uM          4.51\n4       CHEMBL112564  IC50   6.92    uM          5.16\n5       CHEMBL321421  IC50   0.41    uM          6.39",
      "text/html": "<div>\n<style scoped>\n    .dataframe tbody tr th:only-of-type {\n        vertical-align: middle;\n    }\n\n    .dataframe tbody tr th {\n        vertical-align: top;\n    }\n\n    .dataframe thead th {\n        text-align: right;\n    }\n</style>\n<table border=\"1\" class=\"dataframe\">\n  <thead>\n    <tr style=\"text-align: right;\">\n      <th></th>\n      <th>molecule_chembl_id</th>\n      <th>type</th>\n      <th>value</th>\n      <th>units</th>\n      <th>pchembl_value</th>\n    </tr>\n  </thead>\n  <tbody>\n    <tr>\n      <th>0</th>\n      <td>CHEMBL322970</td>\n      <td>IC50</td>\n      <td>0.38</td>\n      <td>uM</td>\n      <td>6.42</td>\n    </tr>\n    <tr>\n      <th>1</th>\n      <td>CHEMBL322970</td>\n      <td>EC50</td>\n      <td>45.6</td>\n      <td>uM</td>\n      <td>4.34</td>\n    </tr>\n    <tr>\n      <th>2</th>\n      <td>CHEMBL322970</td>\n      <td>EC50</td>\n      <td>30.62</td>\n      <td>uM</td>\n      <td>4.51</td>\n    </tr>\n    <tr>\n      <th>4</th>\n      <td>CHEMBL112564</td>\n      <td>IC50</td>\n      <td>6.92</td>\n      <td>uM</td>\n      <td>5.16</td>\n    </tr>\n    <tr>\n      <th>5</th>\n      <td>CHEMBL321421</td>\n      <td>IC50</td>\n      <td>0.41</td>\n      <td>uM</td>\n      <td>6.39</td>\n    </tr>\n  </tbody>\n</table>\n</div>"
     },
     "execution_count": 191,
     "metadata": {},
     "output_type": "execute_result"
    }
   ],
   "source": [
    "df_bioact.pop('relation')\n",
    "df_bioact.head()"
   ],
   "metadata": {
    "collapsed": false,
    "pycharm": {
     "name": "#%%\n"
    }
   }
  },
  {
   "cell_type": "markdown",
   "id": "58875462-fe53-4001-8cb3-b8513708d37a",
   "metadata": {
    "pycharm": {
     "name": "#%% md\n"
    }
   },
   "source": [
    "### Limpiar los datos\n",
    "Es posible que algunos compuestos tengan valores faltantes y también duplicados, ya que el mismo compuesto puede haber sido probado más de una vez (nosotros nos quedaremos solo con el que primero haya sido probado)"
   ]
  },
  {
   "cell_type": "code",
   "execution_count": 192,
   "id": "c1d74226-b9dc-4143-8048-872b15ddbc0f",
   "metadata": {
    "pycharm": {
     "name": "#%%\n"
    }
   },
   "outputs": [
    {
     "name": "stdout",
     "output_type": "stream",
     "text": [
      "Total de compuestos originales es: 3065\n"
     ]
    }
   ],
   "source": [
    "# Primero verificamos cuantos compuestos tenemos en total\n",
    "ori_len = len(df_bioact)\n",
    "print(f'Total de compuestos originales es: {ori_len}')"
   ]
  },
  {
   "cell_type": "code",
   "execution_count": 193,
   "id": "6e013877-f792-4177-8b3f-4740f67a8176",
   "metadata": {
    "pycharm": {
     "name": "#%%\n"
    }
   },
   "outputs": [
    {
     "name": "stdout",
     "output_type": "stream",
     "text": [
      "Total de compuestos despues de eliminar aquellos con datos faltantes: 3042\n",
      "Total compuestos eliminados 23\n"
     ]
    }
   ],
   "source": [
    "# Se eliminan los compuestos que no tienen pChEMBL_value\n",
    "df_bioact = df_bioact.dropna(axis=0, how = 'any')\n",
    "new_len = len(df_bioact)\n",
    "print(f'Total de compuestos despues de eliminar aquellos con datos faltantes: {new_len}')\n",
    "# Se le resta al número total de compuestos el número total de compuestos al eliminar los que no tienen pChEMBL_value\n",
    "print(f'Total compuestos eliminados {ori_len - new_len}')\n",
    "ori_len = new_len"
   ]
  },
  {
   "cell_type": "code",
   "execution_count": 194,
   "id": "9a4fdcc5-ac95-4ddf-be47-2ef940619532",
   "metadata": {
    "pycharm": {
     "name": "#%%\n"
    }
   },
   "outputs": [
    {
     "name": "stdout",
     "output_type": "stream",
     "text": [
      "Total de compuestos sin duplicados : 2605\n",
      "Total compuestos eliminados 437\n"
     ]
    }
   ],
   "source": [
    "# Se eliminan los compuestos duplicados y nos quedamos con el primer compuesto probado\n",
    "df_bioact = df_bioact.drop_duplicates('molecule_chembl_id', keep = 'first')\n",
    "new_len = len(df_bioact)\n",
    "print(f'Total de compuestos sin duplicados : {new_len}')\n",
    "# Se le resta al número total de compuestos al eliminar los que no tienen pChEMBL_value el número total de compuestos sin duplicados\n",
    "print(f'Total compuestos eliminados {ori_len - new_len}')\n",
    "ori_len = new_len"
   ]
  },
  {
   "cell_type": "code",
   "execution_count": 195,
   "outputs": [
    {
     "data": {
      "text/plain": "  molecule_chembl_id  type value units pchembl_value\n0       CHEMBL322970  IC50  0.38    uM          6.42\n4       CHEMBL112564  IC50  6.92    uM          5.16\n5       CHEMBL321421  IC50  0.41    uM          6.39\n6       CHEMBL388978  IC50  0.16    uM          6.80\n8       CHEMBL115875  IC50   9.6    uM          5.02",
      "text/html": "<div>\n<style scoped>\n    .dataframe tbody tr th:only-of-type {\n        vertical-align: middle;\n    }\n\n    .dataframe tbody tr th {\n        vertical-align: top;\n    }\n\n    .dataframe thead th {\n        text-align: right;\n    }\n</style>\n<table border=\"1\" class=\"dataframe\">\n  <thead>\n    <tr style=\"text-align: right;\">\n      <th></th>\n      <th>molecule_chembl_id</th>\n      <th>type</th>\n      <th>value</th>\n      <th>units</th>\n      <th>pchembl_value</th>\n    </tr>\n  </thead>\n  <tbody>\n    <tr>\n      <th>0</th>\n      <td>CHEMBL322970</td>\n      <td>IC50</td>\n      <td>0.38</td>\n      <td>uM</td>\n      <td>6.42</td>\n    </tr>\n    <tr>\n      <th>4</th>\n      <td>CHEMBL112564</td>\n      <td>IC50</td>\n      <td>6.92</td>\n      <td>uM</td>\n      <td>5.16</td>\n    </tr>\n    <tr>\n      <th>5</th>\n      <td>CHEMBL321421</td>\n      <td>IC50</td>\n      <td>0.41</td>\n      <td>uM</td>\n      <td>6.39</td>\n    </tr>\n    <tr>\n      <th>6</th>\n      <td>CHEMBL388978</td>\n      <td>IC50</td>\n      <td>0.16</td>\n      <td>uM</td>\n      <td>6.80</td>\n    </tr>\n    <tr>\n      <th>8</th>\n      <td>CHEMBL115875</td>\n      <td>IC50</td>\n      <td>9.6</td>\n      <td>uM</td>\n      <td>5.02</td>\n    </tr>\n  </tbody>\n</table>\n</div>"
     },
     "execution_count": 195,
     "metadata": {},
     "output_type": "execute_result"
    }
   ],
   "source": [
    "df_bioact.head()"
   ],
   "metadata": {
    "collapsed": false,
    "pycharm": {
     "name": "#%%\n"
    }
   }
  },
  {
   "cell_type": "markdown",
   "id": "5a26f580-dd5b-4c51-a8c1-889b9621c64e",
   "metadata": {
    "pycharm": {
     "name": "#%% md\n"
    }
   },
   "source": [
    "Ahora que hemos eliminado algunas filas restableceremos el índice para que este sea continuo"
   ]
  },
  {
   "cell_type": "code",
   "execution_count": 196,
   "id": "548bbf5d-c428-4bc5-bd97-e04d669295bd",
   "metadata": {
    "pycharm": {
     "name": "#%%\n"
    }
   },
   "outputs": [
    {
     "data": {
      "text/plain": "  molecule_chembl_id  type value units pchembl_value\n0       CHEMBL322970  IC50  0.38    uM          6.42\n1       CHEMBL112564  IC50  6.92    uM          5.16\n2       CHEMBL321421  IC50  0.41    uM          6.39\n3       CHEMBL388978  IC50  0.16    uM          6.80\n4       CHEMBL115875  IC50   9.6    uM          5.02",
      "text/html": "<div>\n<style scoped>\n    .dataframe tbody tr th:only-of-type {\n        vertical-align: middle;\n    }\n\n    .dataframe tbody tr th {\n        vertical-align: top;\n    }\n\n    .dataframe thead th {\n        text-align: right;\n    }\n</style>\n<table border=\"1\" class=\"dataframe\">\n  <thead>\n    <tr style=\"text-align: right;\">\n      <th></th>\n      <th>molecule_chembl_id</th>\n      <th>type</th>\n      <th>value</th>\n      <th>units</th>\n      <th>pchembl_value</th>\n    </tr>\n  </thead>\n  <tbody>\n    <tr>\n      <th>0</th>\n      <td>CHEMBL322970</td>\n      <td>IC50</td>\n      <td>0.38</td>\n      <td>uM</td>\n      <td>6.42</td>\n    </tr>\n    <tr>\n      <th>1</th>\n      <td>CHEMBL112564</td>\n      <td>IC50</td>\n      <td>6.92</td>\n      <td>uM</td>\n      <td>5.16</td>\n    </tr>\n    <tr>\n      <th>2</th>\n      <td>CHEMBL321421</td>\n      <td>IC50</td>\n      <td>0.41</td>\n      <td>uM</td>\n      <td>6.39</td>\n    </tr>\n    <tr>\n      <th>3</th>\n      <td>CHEMBL388978</td>\n      <td>IC50</td>\n      <td>0.16</td>\n      <td>uM</td>\n      <td>6.80</td>\n    </tr>\n    <tr>\n      <th>4</th>\n      <td>CHEMBL115875</td>\n      <td>IC50</td>\n      <td>9.6</td>\n      <td>uM</td>\n      <td>5.02</td>\n    </tr>\n  </tbody>\n</table>\n</div>"
     },
     "execution_count": 196,
     "metadata": {},
     "output_type": "execute_result"
    }
   ],
   "source": [
    "df_bioact.reset_index(drop=True, inplace=True)\n",
    "df_bioact.head()"
   ]
  },
  {
   "cell_type": "markdown",
   "id": "6bf55ab4-486f-485a-9414-b1c4e38682be",
   "metadata": {
    "pycharm": {
     "name": "#%% md\n"
    }
   },
   "source": [
    "### Organizar los datos\n",
    "Vamos a organizar el DataFrame de mayor a menor pchembl_value. Notemos que los valores de la columna no son numéricos"
   ]
  },
  {
   "cell_type": "code",
   "execution_count": 199,
   "outputs": [
    {
     "name": "stdout",
     "output_type": "stream",
     "text": [
      "6.42 <class 'str'>\n"
     ]
    }
   ],
   "source": [
    "print(df_bioact['pchembl_value'][0],type(df_bioact['pchembl_value'][0]))"
   ],
   "metadata": {
    "collapsed": false,
    "pycharm": {
     "name": "#%%\n"
    }
   }
  },
  {
   "cell_type": "markdown",
   "source": [
    "Por tanto, primero debemos convertirlos en tipo `float`."
   ],
   "metadata": {
    "collapsed": false,
    "pycharm": {
     "name": "#%% md\n"
    }
   }
  },
  {
   "cell_type": "code",
   "execution_count": 200,
   "outputs": [
    {
     "name": "stdout",
     "output_type": "stream",
     "text": [
      "6.42 <class 'numpy.float64'>\n"
     ]
    }
   ],
   "source": [
    "df_bioact['pchembl_value'] = df_bioact['pchembl_value'].astype(float)\n",
    "print(df_bioact['pchembl_value'][0],type(df_bioact['pchembl_value'][0]))"
   ],
   "metadata": {
    "collapsed": false,
    "pycharm": {
     "name": "#%%\n"
    }
   }
  },
  {
   "cell_type": "markdown",
   "source": [
    "Ahora procedemos a organizar el DataFrame"
   ],
   "metadata": {
    "collapsed": false,
    "pycharm": {
     "name": "#%% md\n"
    }
   }
  },
  {
   "cell_type": "code",
   "execution_count": 202,
   "id": "648690df-a26b-486b-83fd-d812139fa3df",
   "metadata": {
    "pycharm": {
     "name": "#%%\n"
    }
   },
   "outputs": [
    {
     "data": {
      "text/plain": "  molecule_chembl_id  type    value units  pchembl_value\n0      CHEMBL2386094  IC50    0.013    nM          10.89\n1      CHEMBL3895998  IC50      0.1    nM          10.00\n2      CHEMBL4084855  IC50      0.1    nM          10.00\n3       CHEMBL564450  IC50  0.00014    uM           9.85\n4      CHEMBL3957649  IC50      0.2    nM           9.70",
      "text/html": "<div>\n<style scoped>\n    .dataframe tbody tr th:only-of-type {\n        vertical-align: middle;\n    }\n\n    .dataframe tbody tr th {\n        vertical-align: top;\n    }\n\n    .dataframe thead th {\n        text-align: right;\n    }\n</style>\n<table border=\"1\" class=\"dataframe\">\n  <thead>\n    <tr style=\"text-align: right;\">\n      <th></th>\n      <th>molecule_chembl_id</th>\n      <th>type</th>\n      <th>value</th>\n      <th>units</th>\n      <th>pchembl_value</th>\n    </tr>\n  </thead>\n  <tbody>\n    <tr>\n      <th>0</th>\n      <td>CHEMBL2386094</td>\n      <td>IC50</td>\n      <td>0.013</td>\n      <td>nM</td>\n      <td>10.89</td>\n    </tr>\n    <tr>\n      <th>1</th>\n      <td>CHEMBL3895998</td>\n      <td>IC50</td>\n      <td>0.1</td>\n      <td>nM</td>\n      <td>10.00</td>\n    </tr>\n    <tr>\n      <th>2</th>\n      <td>CHEMBL4084855</td>\n      <td>IC50</td>\n      <td>0.1</td>\n      <td>nM</td>\n      <td>10.00</td>\n    </tr>\n    <tr>\n      <th>3</th>\n      <td>CHEMBL564450</td>\n      <td>IC50</td>\n      <td>0.00014</td>\n      <td>uM</td>\n      <td>9.85</td>\n    </tr>\n    <tr>\n      <th>4</th>\n      <td>CHEMBL3957649</td>\n      <td>IC50</td>\n      <td>0.2</td>\n      <td>nM</td>\n      <td>9.70</td>\n    </tr>\n  </tbody>\n</table>\n</div>"
     },
     "execution_count": 202,
     "metadata": {},
     "output_type": "execute_result"
    }
   ],
   "source": [
    "# Organizamos de mayor a menor pchembl_value\n",
    "df_bioact.sort_values(by=\"pchembl_value\", ascending=False, inplace=True)\n",
    "# Restablecemos el índice\n",
    "df_bioact.reset_index(drop=True, inplace=True)\n",
    "# Imprimimos los primeros datos del Dataframe\n",
    "df_bioact.head()"
   ]
  },
  {
   "cell_type": "markdown",
   "id": "626601c2-45ff-4868-90f6-398cfb500bcd",
   "metadata": {
    "pycharm": {
     "name": "#%% md\n"
    }
   },
   "source": [
    "### Guardar y cargar los datos\n",
    "Para continuar usando el Data Frame en la práctica sin necesidad de siempre estarnos conectando a ChEMBL, vamos a guardar el Data Frame obtenido como un archivo separado por comas (data/compuestos_uniprot_id.csv)"
   ]
  },
  {
   "cell_type": "code",
   "execution_count": 203,
   "id": "93433e81-f986-4cab-86ce-6ce498637102",
   "metadata": {
    "pycharm": {
     "name": "#%%\n"
    }
   },
   "outputs": [],
   "source": [
    "df_bioact.to_csv(f\"./data/compuestos_{uniprot_id}.csv\", index=0)"
   ]
  },
  {
   "cell_type": "markdown",
   "id": "ffce212f",
   "metadata": {
    "pycharm": {
     "name": "#%% md\n"
    }
   },
   "source": [
    "En adelante, si queremos utilizar el Dataframe, podemos cargar el archivo guardado"
   ]
  },
  {
   "cell_type": "code",
   "execution_count": 204,
   "id": "4d3a4eb8",
   "metadata": {
    "pycharm": {
     "name": "#%%\n"
    }
   },
   "outputs": [
    {
     "data": {
      "text/plain": "  molecule_chembl_id  type    value units  pchembl_value\n0      CHEMBL2386094  IC50  0.01300    nM          10.89\n1      CHEMBL3895998  IC50  0.10000    nM          10.00\n2      CHEMBL4084855  IC50  0.10000    nM          10.00\n3       CHEMBL564450  IC50  0.00014    uM           9.85\n4      CHEMBL3957649  IC50  0.20000    nM           9.70",
      "text/html": "<div>\n<style scoped>\n    .dataframe tbody tr th:only-of-type {\n        vertical-align: middle;\n    }\n\n    .dataframe tbody tr th {\n        vertical-align: top;\n    }\n\n    .dataframe thead th {\n        text-align: right;\n    }\n</style>\n<table border=\"1\" class=\"dataframe\">\n  <thead>\n    <tr style=\"text-align: right;\">\n      <th></th>\n      <th>molecule_chembl_id</th>\n      <th>type</th>\n      <th>value</th>\n      <th>units</th>\n      <th>pchembl_value</th>\n    </tr>\n  </thead>\n  <tbody>\n    <tr>\n      <th>0</th>\n      <td>CHEMBL2386094</td>\n      <td>IC50</td>\n      <td>0.01300</td>\n      <td>nM</td>\n      <td>10.89</td>\n    </tr>\n    <tr>\n      <th>1</th>\n      <td>CHEMBL3895998</td>\n      <td>IC50</td>\n      <td>0.10000</td>\n      <td>nM</td>\n      <td>10.00</td>\n    </tr>\n    <tr>\n      <th>2</th>\n      <td>CHEMBL4084855</td>\n      <td>IC50</td>\n      <td>0.10000</td>\n      <td>nM</td>\n      <td>10.00</td>\n    </tr>\n    <tr>\n      <th>3</th>\n      <td>CHEMBL564450</td>\n      <td>IC50</td>\n      <td>0.00014</td>\n      <td>uM</td>\n      <td>9.85</td>\n    </tr>\n    <tr>\n      <th>4</th>\n      <td>CHEMBL3957649</td>\n      <td>IC50</td>\n      <td>0.20000</td>\n      <td>nM</td>\n      <td>9.70</td>\n    </tr>\n  </tbody>\n</table>\n</div>"
     },
     "execution_count": 204,
     "metadata": {},
     "output_type": "execute_result"
    }
   ],
   "source": [
    "df_bioact = pd.read_csv(f\"data/compuestos_{uniprot_id}.csv\")\n",
    "df_bioact.head()"
   ]
  },
  {
   "cell_type": "markdown",
   "id": "11f74443-157b-4a05-8619-846f9b0df968",
   "metadata": {
    "pycharm": {
     "name": "#%% md\n"
    }
   },
   "source": [
    "## Datos de los compuestos\n",
    "\n",
    "A continuación vamos a obtener los datos de las moléculas que estan almacenados dentro de cada molecule_chembl_id"
   ]
  },
  {
   "cell_type": "code",
   "execution_count": 205,
   "id": "77d28bf9-cc57-4907-b947-7079ae41f8e0",
   "metadata": {
    "pycharm": {
     "name": "#%%\n"
    }
   },
   "outputs": [],
   "source": [
    "# Cargamos el archivo antes guardado\n",
    "df_bioact = pd.read_csv(f\"data/compuestos_{uniprot_id}.csv\")"
   ]
  },
  {
   "cell_type": "code",
   "execution_count": 206,
   "id": "c96968a6-8b33-4a9b-8072-5c7db156fb88",
   "metadata": {
    "pycharm": {
     "name": "#%%\n"
    }
   },
   "outputs": [],
   "source": [
    "# Primero tenemos que obtener la lista de los compuestos que definimos como bioactivos\n",
    "lista_comp_id = list(df_bioact['molecule_chembl_id'])\n",
    "# Obtener la estructura de cada compuesto\n",
    "lista_compuestos = compounds.filter(molecule_chembl_id__in = lista_comp_id) \\\n",
    "                            .only('molecule_chembl_id','molecule_structures')"
   ]
  },
  {
   "cell_type": "code",
   "execution_count": 207,
   "id": "c7061d81-a918-4fa3-9e85-acf4d0882a0b",
   "metadata": {
    "pycharm": {
     "name": "#%%\n"
    }
   },
   "outputs": [
    {
     "name": "stdout",
     "output_type": "stream",
     "text": [
      "Total de compuestos es: 2605\n"
     ]
    },
    {
     "data": {
      "text/plain": "  molecule_chembl_id                                molecule_structures\n0         CHEMBL6246  {'canonical_smiles': 'O=c1oc2c(O)c(O)cc3c(=O)o...\n1         CHEMBL6291  {'canonical_smiles': 'Cn1cc(C2=C(c3cn(CCCSC(=N...\n2       CHEMBL269538  {'canonical_smiles': 'COc1ccc2c(c1)[nH]c1c(C)n...\n3           CHEMBL28  {'canonical_smiles': 'O=c1cc(-c2ccc(O)cc2)oc2c...\n4         CHEMBL7463  {'canonical_smiles': 'CN(C)CCCn1cc(C2=C(c3c[nH...",
      "text/html": "<div>\n<style scoped>\n    .dataframe tbody tr th:only-of-type {\n        vertical-align: middle;\n    }\n\n    .dataframe tbody tr th {\n        vertical-align: top;\n    }\n\n    .dataframe thead th {\n        text-align: right;\n    }\n</style>\n<table border=\"1\" class=\"dataframe\">\n  <thead>\n    <tr style=\"text-align: right;\">\n      <th></th>\n      <th>molecule_chembl_id</th>\n      <th>molecule_structures</th>\n    </tr>\n  </thead>\n  <tbody>\n    <tr>\n      <th>0</th>\n      <td>CHEMBL6246</td>\n      <td>{'canonical_smiles': 'O=c1oc2c(O)c(O)cc3c(=O)o...</td>\n    </tr>\n    <tr>\n      <th>1</th>\n      <td>CHEMBL6291</td>\n      <td>{'canonical_smiles': 'Cn1cc(C2=C(c3cn(CCCSC(=N...</td>\n    </tr>\n    <tr>\n      <th>2</th>\n      <td>CHEMBL269538</td>\n      <td>{'canonical_smiles': 'COc1ccc2c(c1)[nH]c1c(C)n...</td>\n    </tr>\n    <tr>\n      <th>3</th>\n      <td>CHEMBL28</td>\n      <td>{'canonical_smiles': 'O=c1cc(-c2ccc(O)cc2)oc2c...</td>\n    </tr>\n    <tr>\n      <th>4</th>\n      <td>CHEMBL7463</td>\n      <td>{'canonical_smiles': 'CN(C)CCCn1cc(C2=C(c3c[nH...</td>\n    </tr>\n  </tbody>\n</table>\n</div>"
     },
     "execution_count": 207,
     "metadata": {},
     "output_type": "execute_result"
    }
   ],
   "source": [
    "# Debemos convertir la lista obtenida en un dataframe. Esto puede tardar unos minutos\n",
    "df_comp = pd.DataFrame(lista_compuestos)\n",
    "# Eliminamos duplicados\n",
    "df_comp = df_comp.drop_duplicates('molecule_chembl_id', keep = 'first')\n",
    "# print(f'El número total de compuestos es: ' + str(len(dataframe_comp)))\n",
    "print(f'Total de compuestos es: {str(len(df_comp))}')\n",
    "df_comp.head()"
   ]
  },
  {
   "cell_type": "markdown",
   "id": "b28ba27f-1564-40ff-aaf2-873ddce01521",
   "metadata": {
    "pycharm": {
     "name": "#%% md\n"
    }
   },
   "source": [
    "Los compuestos tienen distintos tipos de representaciones como el SMILES, el InChI y el InChI Key. Nos interesa unicamente quedarnos con el SMILES ya que describe la estructura química."
   ]
  },
  {
   "cell_type": "code",
   "execution_count": 208,
   "id": "314eef2a-838b-459e-af78-3b3799d5db3e",
   "metadata": {
    "pycharm": {
     "name": "#%%\n"
    }
   },
   "outputs": [
    {
     "data": {
      "text/plain": "  molecule_chembl_id                                molecule_structures\n0         CHEMBL6246         O=c1oc2c(O)c(O)cc3c(=O)oc4c(O)c(O)cc1c4c23\n1         CHEMBL6291  Cn1cc(C2=C(c3cn(CCCSC(=N)N)c4ccccc34)C(=O)NC2=...\n2       CHEMBL269538                      COc1ccc2c(c1)[nH]c1c(C)nccc12\n3           CHEMBL28               O=c1cc(-c2ccc(O)cc2)oc2cc(O)cc(O)c12\n4         CHEMBL7463  CN(C)CCCn1cc(C2=C(c3c[nH]c4ccccc34)C(=O)NC2=O)...",
      "text/html": "<div>\n<style scoped>\n    .dataframe tbody tr th:only-of-type {\n        vertical-align: middle;\n    }\n\n    .dataframe tbody tr th {\n        vertical-align: top;\n    }\n\n    .dataframe thead th {\n        text-align: right;\n    }\n</style>\n<table border=\"1\" class=\"dataframe\">\n  <thead>\n    <tr style=\"text-align: right;\">\n      <th></th>\n      <th>molecule_chembl_id</th>\n      <th>molecule_structures</th>\n    </tr>\n  </thead>\n  <tbody>\n    <tr>\n      <th>0</th>\n      <td>CHEMBL6246</td>\n      <td>O=c1oc2c(O)c(O)cc3c(=O)oc4c(O)c(O)cc1c4c23</td>\n    </tr>\n    <tr>\n      <th>1</th>\n      <td>CHEMBL6291</td>\n      <td>Cn1cc(C2=C(c3cn(CCCSC(=N)N)c4ccccc34)C(=O)NC2=...</td>\n    </tr>\n    <tr>\n      <th>2</th>\n      <td>CHEMBL269538</td>\n      <td>COc1ccc2c(c1)[nH]c1c(C)nccc12</td>\n    </tr>\n    <tr>\n      <th>3</th>\n      <td>CHEMBL28</td>\n      <td>O=c1cc(-c2ccc(O)cc2)oc2cc(O)cc(O)c12</td>\n    </tr>\n    <tr>\n      <th>4</th>\n      <td>CHEMBL7463</td>\n      <td>CN(C)CCCn1cc(C2=C(c3c[nH]c4ccccc34)C(=O)NC2=O)...</td>\n    </tr>\n  </tbody>\n</table>\n</div>"
     },
     "execution_count": 208,
     "metadata": {},
     "output_type": "execute_result"
    }
   ],
   "source": [
    "# Vamos a utilizar un ciclo for para iterar por cada renglón (df_comp.iterrows())\n",
    "for i, cmpd in df_comp.iterrows():\n",
    "    if df_comp.loc[i]['molecule_structures'] is not None:\n",
    "        df_comp.loc[i]['molecule_structures'] = cmpd['molecule_structures']['canonical_smiles']\n",
    "\n",
    "df_comp.head()"
   ]
  },
  {
   "cell_type": "markdown",
   "id": "16416518-adc0-461c-8ba8-1cd0d8c8f03d",
   "metadata": {
    "pycharm": {
     "name": "#%% md\n"
    }
   },
   "source": [
    "## Combinar los Dataframe\n",
    "\n",
    "Ahora tenemos dos dataframes que vamos a combinar para tener todos los datos en uno solo dataframe y poder guardarlos"
   ]
  },
  {
   "cell_type": "code",
   "execution_count": 209,
   "id": "c2aeec75-3767-4444-a6c7-8875303f87a8",
   "metadata": {
    "pycharm": {
     "name": "#%%\n"
    }
   },
   "outputs": [
    {
     "name": "stdout",
     "output_type": "stream",
     "text": [
      "Total de compuestos es: 2605\n"
     ]
    },
    {
     "data": {
      "text/plain": "  molecule_chembl_id  pchembl_value  \\\n0      CHEMBL2386094          10.89   \n1      CHEMBL3895998          10.00   \n2      CHEMBL4084855          10.00   \n3       CHEMBL564450           9.85   \n4      CHEMBL3957649           9.70   \n\n                                 molecule_structures  \n0  O=C1NC(=O)C(c2cn3c4c(cc(F)cc24)CN(C(=O)N2CCOCC...  \n1     Nc1ncc(-c2ccccc2F)nc1C(=O)Nc1cnccc1N1CCC(N)CC1  \n2  COc1ccc(N2CCN(c3nc(-c4ccncn4)cc(=O)n3C)[C@H](C...  \n3  COc1cc(C2=C(c3cn(CCN4CCN(C)CC4)c4ccccc34)C(=O)...  \n4        Nc1ncc(-c2ccccc2F)nc1C(=O)Nc1cnccc1N1CCNCC1  ",
      "text/html": "<div>\n<style scoped>\n    .dataframe tbody tr th:only-of-type {\n        vertical-align: middle;\n    }\n\n    .dataframe tbody tr th {\n        vertical-align: top;\n    }\n\n    .dataframe thead th {\n        text-align: right;\n    }\n</style>\n<table border=\"1\" class=\"dataframe\">\n  <thead>\n    <tr style=\"text-align: right;\">\n      <th></th>\n      <th>molecule_chembl_id</th>\n      <th>pchembl_value</th>\n      <th>molecule_structures</th>\n    </tr>\n  </thead>\n  <tbody>\n    <tr>\n      <th>0</th>\n      <td>CHEMBL2386094</td>\n      <td>10.89</td>\n      <td>O=C1NC(=O)C(c2cn3c4c(cc(F)cc24)CN(C(=O)N2CCOCC...</td>\n    </tr>\n    <tr>\n      <th>1</th>\n      <td>CHEMBL3895998</td>\n      <td>10.00</td>\n      <td>Nc1ncc(-c2ccccc2F)nc1C(=O)Nc1cnccc1N1CCC(N)CC1</td>\n    </tr>\n    <tr>\n      <th>2</th>\n      <td>CHEMBL4084855</td>\n      <td>10.00</td>\n      <td>COc1ccc(N2CCN(c3nc(-c4ccncn4)cc(=O)n3C)[C@H](C...</td>\n    </tr>\n    <tr>\n      <th>3</th>\n      <td>CHEMBL564450</td>\n      <td>9.85</td>\n      <td>COc1cc(C2=C(c3cn(CCN4CCN(C)CC4)c4ccccc34)C(=O)...</td>\n    </tr>\n    <tr>\n      <th>4</th>\n      <td>CHEMBL3957649</td>\n      <td>9.70</td>\n      <td>Nc1ncc(-c2ccccc2F)nc1C(=O)Nc1cnccc1N1CCNCC1</td>\n    </tr>\n  </tbody>\n</table>\n</div>"
     },
     "execution_count": 209,
     "metadata": {},
     "output_type": "execute_result"
    }
   ],
   "source": [
    "# En el Dataframe de bioactividad se filtran solamente dos columnas\n",
    "df_output = pd.merge(df_bioact[['molecule_chembl_id','pchembl_value']], df_comp, on='molecule_chembl_id')\n",
    "print(f'Total de compuestos es: {str(len(df_output))}')\n",
    "df_output.head()"
   ]
  },
  {
   "cell_type": "markdown",
   "id": "153402ff-b090-48f6-9a92-aff104c892e4",
   "metadata": {
    "pycharm": {
     "name": "#%% md\n"
    }
   },
   "source": [
    "Se pueden renombrar las columnas"
   ]
  },
  {
   "cell_type": "code",
   "execution_count": 210,
   "id": "cfaff736-a9ee-4547-be51-d77260de6f9f",
   "metadata": {
    "pycharm": {
     "name": "#%%\n"
    }
   },
   "outputs": [
    {
     "name": "stdout",
     "output_type": "stream",
     "text": [
      "Total de compuestos es: 2605\n"
     ]
    },
    {
     "data": {
      "text/plain": "  molecule_chembl_id  pIC50                                             smiles\n0      CHEMBL2386094  10.89  O=C1NC(=O)C(c2cn3c4c(cc(F)cc24)CN(C(=O)N2CCOCC...\n1      CHEMBL3895998  10.00     Nc1ncc(-c2ccccc2F)nc1C(=O)Nc1cnccc1N1CCC(N)CC1\n2      CHEMBL4084855  10.00  COc1ccc(N2CCN(c3nc(-c4ccncn4)cc(=O)n3C)[C@H](C...\n3       CHEMBL564450   9.85  COc1cc(C2=C(c3cn(CCN4CCN(C)CC4)c4ccccc34)C(=O)...\n4      CHEMBL3957649   9.70        Nc1ncc(-c2ccccc2F)nc1C(=O)Nc1cnccc1N1CCNCC1",
      "text/html": "<div>\n<style scoped>\n    .dataframe tbody tr th:only-of-type {\n        vertical-align: middle;\n    }\n\n    .dataframe tbody tr th {\n        vertical-align: top;\n    }\n\n    .dataframe thead th {\n        text-align: right;\n    }\n</style>\n<table border=\"1\" class=\"dataframe\">\n  <thead>\n    <tr style=\"text-align: right;\">\n      <th></th>\n      <th>molecule_chembl_id</th>\n      <th>pIC50</th>\n      <th>smiles</th>\n    </tr>\n  </thead>\n  <tbody>\n    <tr>\n      <th>0</th>\n      <td>CHEMBL2386094</td>\n      <td>10.89</td>\n      <td>O=C1NC(=O)C(c2cn3c4c(cc(F)cc24)CN(C(=O)N2CCOCC...</td>\n    </tr>\n    <tr>\n      <th>1</th>\n      <td>CHEMBL3895998</td>\n      <td>10.00</td>\n      <td>Nc1ncc(-c2ccccc2F)nc1C(=O)Nc1cnccc1N1CCC(N)CC1</td>\n    </tr>\n    <tr>\n      <th>2</th>\n      <td>CHEMBL4084855</td>\n      <td>10.00</td>\n      <td>COc1ccc(N2CCN(c3nc(-c4ccncn4)cc(=O)n3C)[C@H](C...</td>\n    </tr>\n    <tr>\n      <th>3</th>\n      <td>CHEMBL564450</td>\n      <td>9.85</td>\n      <td>COc1cc(C2=C(c3cn(CCN4CCN(C)CC4)c4ccccc34)C(=O)...</td>\n    </tr>\n    <tr>\n      <th>4</th>\n      <td>CHEMBL3957649</td>\n      <td>9.70</td>\n      <td>Nc1ncc(-c2ccccc2F)nc1C(=O)Nc1cnccc1N1CCNCC1</td>\n    </tr>\n  </tbody>\n</table>\n</div>"
     },
     "execution_count": 210,
     "metadata": {},
     "output_type": "execute_result"
    }
   ],
   "source": [
    "df_output = df_output.rename(columns= {'molecule_structures':'smiles', 'pchembl_value':'pIC50'})\n",
    "print(f'Total de compuestos es: {str(len(df_output))}')\n",
    "df_output.head()"
   ]
  },
  {
   "cell_type": "markdown",
   "id": "aba828e0-2ab3-4a0d-a638-35f81d237f7e",
   "metadata": {
    "pycharm": {
     "name": "#%% md\n"
    }
   },
   "source": [
    "Para poder emplear la siguiente función de rdkit es necesario que todos los compuestos tenga SMILES, por esto eliminamos los compuestos sin SMILES en el dataframe"
   ]
  },
  {
   "cell_type": "code",
   "execution_count": 211,
   "id": "b680a0e6-1220-4078-a235-40c2fc86173d",
   "metadata": {
    "pycharm": {
     "name": "#%%\n"
    }
   },
   "outputs": [
    {
     "name": "stdout",
     "output_type": "stream",
     "text": [
      "Total de compuestos es: 2605\n"
     ]
    },
    {
     "data": {
      "text/plain": "  molecule_chembl_id  pIC50                                             smiles\n0      CHEMBL2386094  10.89  O=C1NC(=O)C(c2cn3c4c(cc(F)cc24)CN(C(=O)N2CCOCC...\n1      CHEMBL3895998  10.00     Nc1ncc(-c2ccccc2F)nc1C(=O)Nc1cnccc1N1CCC(N)CC1\n2      CHEMBL4084855  10.00  COc1ccc(N2CCN(c3nc(-c4ccncn4)cc(=O)n3C)[C@H](C...\n3       CHEMBL564450   9.85  COc1cc(C2=C(c3cn(CCN4CCN(C)CC4)c4ccccc34)C(=O)...\n4      CHEMBL3957649   9.70        Nc1ncc(-c2ccccc2F)nc1C(=O)Nc1cnccc1N1CCNCC1",
      "text/html": "<div>\n<style scoped>\n    .dataframe tbody tr th:only-of-type {\n        vertical-align: middle;\n    }\n\n    .dataframe tbody tr th {\n        vertical-align: top;\n    }\n\n    .dataframe thead th {\n        text-align: right;\n    }\n</style>\n<table border=\"1\" class=\"dataframe\">\n  <thead>\n    <tr style=\"text-align: right;\">\n      <th></th>\n      <th>molecule_chembl_id</th>\n      <th>pIC50</th>\n      <th>smiles</th>\n    </tr>\n  </thead>\n  <tbody>\n    <tr>\n      <th>0</th>\n      <td>CHEMBL2386094</td>\n      <td>10.89</td>\n      <td>O=C1NC(=O)C(c2cn3c4c(cc(F)cc24)CN(C(=O)N2CCOCC...</td>\n    </tr>\n    <tr>\n      <th>1</th>\n      <td>CHEMBL3895998</td>\n      <td>10.00</td>\n      <td>Nc1ncc(-c2ccccc2F)nc1C(=O)Nc1cnccc1N1CCC(N)CC1</td>\n    </tr>\n    <tr>\n      <th>2</th>\n      <td>CHEMBL4084855</td>\n      <td>10.00</td>\n      <td>COc1ccc(N2CCN(c3nc(-c4ccncn4)cc(=O)n3C)[C@H](C...</td>\n    </tr>\n    <tr>\n      <th>3</th>\n      <td>CHEMBL564450</td>\n      <td>9.85</td>\n      <td>COc1cc(C2=C(c3cn(CCN4CCN(C)CC4)c4ccccc34)C(=O)...</td>\n    </tr>\n    <tr>\n      <th>4</th>\n      <td>CHEMBL3957649</td>\n      <td>9.70</td>\n      <td>Nc1ncc(-c2ccccc2F)nc1C(=O)Nc1cnccc1N1CCNCC1</td>\n    </tr>\n  </tbody>\n</table>\n</div>"
     },
     "execution_count": 211,
     "metadata": {},
     "output_type": "execute_result"
    }
   ],
   "source": [
    "df_output = df_output[~df_output['smiles'].isnull()]\n",
    "print(f'Total de compuestos es: {str(len(df_output))}')\n",
    "df_output.head()"
   ]
  },
  {
   "cell_type": "markdown",
   "id": "bf8ab5d4-0762-4983-ad1b-bff5e5d82357",
   "metadata": {
    "pycharm": {
     "name": "#%% md\n"
    }
   },
   "source": [
    "## Dibujar la molécula\n",
    "\n",
    "Vamos a añadir una nueva columna al dataframe con la función `.AddMoleculeColumnToFrame` la cual convierte las moléculas contenidas en \"smilesCol\" en moléculas RDKit y las agrega al dataframe"
   ]
  },
  {
   "cell_type": "code",
   "execution_count": 212,
   "id": "fdf4de68-a012-464c-93ee-4f316a4d950d",
   "metadata": {
    "pycharm": {
     "name": "#%%\n"
    }
   },
   "outputs": [
    {
     "data": {
      "text/plain": "  molecule_chembl_id  pIC50  \\\n0      CHEMBL2386094  10.89   \n1      CHEMBL3895998  10.00   \n2      CHEMBL4084855  10.00   \n3       CHEMBL564450   9.85   \n4      CHEMBL3957649   9.70   \n\n                                              smiles  \\\n0  O=C1NC(=O)C(c2cn3c4c(cc(F)cc24)CN(C(=O)N2CCOCC...   \n1     Nc1ncc(-c2ccccc2F)nc1C(=O)Nc1cnccc1N1CCC(N)CC1   \n2  COc1ccc(N2CCN(c3nc(-c4ccncn4)cc(=O)n3C)[C@H](C...   \n3  COc1cc(C2=C(c3cn(CCN4CCN(C)CC4)c4ccccc34)C(=O)...   \n4        Nc1ncc(-c2ccccc2F)nc1C(=O)Nc1cnccc1N1CCNCC1   \n\n                                               ROMol  \n0  <img data-content=\"rdkit/molecule\" src=\"data:i...  \n1  <img data-content=\"rdkit/molecule\" src=\"data:i...  \n2  <img data-content=\"rdkit/molecule\" src=\"data:i...  \n3  <img data-content=\"rdkit/molecule\" src=\"data:i...  \n4  <img data-content=\"rdkit/molecule\" src=\"data:i...  ",
      "text/html": "<div>\n<style scoped>\n    .dataframe tbody tr th:only-of-type {\n        vertical-align: middle;\n    }\n\n    .dataframe tbody tr th {\n        vertical-align: top;\n    }\n\n    .dataframe thead th {\n        text-align: right;\n    }\n</style>\n<table border=\"1\" class=\"dataframe\">\n  <thead>\n    <tr style=\"text-align: right;\">\n      <th></th>\n      <th>molecule_chembl_id</th>\n      <th>pIC50</th>\n      <th>smiles</th>\n      <th>ROMol</th>\n    </tr>\n  </thead>\n  <tbody>\n    <tr>\n      <th>0</th>\n      <td>CHEMBL2386094</td>\n      <td>10.89</td>\n      <td>O=C1NC(=O)C(c2cn3c4c(cc(F)cc24)CN(C(=O)N2CCOCC...</td>\n      <td style=\"text-align: center;\"><img data-content=\"rdkit/molecule\" src=\"data:image/png;base64,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\" alt=\"Mol\"/></td>\n    </tr>\n    <tr>\n      <th>1</th>\n      <td>CHEMBL3895998</td>\n      <td>10.00</td>\n      <td>Nc1ncc(-c2ccccc2F)nc1C(=O)Nc1cnccc1N1CCC(N)CC1</td>\n      <td style=\"text-align: center;\"><img data-content=\"rdkit/molecule\" src=\"data:image/png;base64,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\" alt=\"Mol\"/></td>\n    </tr>\n    <tr>\n      <th>2</th>\n      <td>CHEMBL4084855</td>\n      <td>10.00</td>\n      <td>COc1ccc(N2CCN(c3nc(-c4ccncn4)cc(=O)n3C)[C@H](C...</td>\n      <td style=\"text-align: center;\"><img data-content=\"rdkit/molecule\" src=\"data:image/png;base64,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\" alt=\"Mol\"/></td>\n    </tr>\n    <tr>\n      <th>3</th>\n      <td>CHEMBL564450</td>\n      <td>9.85</td>\n      <td>COc1cc(C2=C(c3cn(CCN4CCN(C)CC4)c4ccccc34)C(=O)...</td>\n      <td style=\"text-align: center;\"><img data-content=\"rdkit/molecule\" src=\"data:image/png;base64,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\" alt=\"Mol\"/></td>\n    </tr>\n    <tr>\n      <th>4</th>\n      <td>CHEMBL3957649</td>\n      <td>9.70</td>\n      <td>Nc1ncc(-c2ccccc2F)nc1C(=O)Nc1cnccc1N1CCNCC1</td>\n      <td style=\"text-align: center;\"><img data-content=\"rdkit/molecule\" src=\"data:image/png;base64,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\" alt=\"Mol\"/></td>\n    </tr>\n  </tbody>\n</table>\n</div>"
     },
     "execution_count": 212,
     "metadata": {},
     "output_type": "execute_result"
    }
   ],
   "source": [
    "PandasTools.AddMoleculeColumnToFrame(df_output, smilesCol='smiles')\n",
    "df_output.head()"
   ]
  },
  {
   "cell_type": "markdown",
   "id": "8f573681",
   "metadata": {
    "pycharm": {
     "name": "#%% md\n"
    }
   },
   "source": [
    "Ahora podemos llamar a cualquier compuesto para ver su representación en 2D"
   ]
  },
  {
   "cell_type": "code",
   "execution_count": 213,
   "id": "65947622",
   "metadata": {
    "pycharm": {
     "name": "#%%\n"
    }
   },
   "outputs": [
    {
     "data": {
      "text/plain": "<rdkit.Chem.rdchem.Mol at 0x253f66a9e80>",
      "image/png": "[encoded data removed]"
     },
     "execution_count": 213,
     "metadata": {},
     "output_type": "execute_result"
    }
   ],
   "source": [
    "df_output.ROMol.iloc[0]"
   ]
  },
  {
   "cell_type": "markdown",
   "id": "3d27814b-50c3-476e-8eb4-2784d28a7cd1",
   "metadata": {
    "pycharm": {
     "name": "#%% md\n"
    }
   },
   "source": [
    "## Guardar el dataframe obtenido\n",
    "\n",
    "Se va a guardar el dataframe como un archivo csv"
   ]
  },
  {
   "cell_type": "code",
   "execution_count": 214,
   "id": "1887019d-902a-4e22-b721-7239dd9533a6",
   "metadata": {
    "pycharm": {
     "name": "#%%\n"
    }
   },
   "outputs": [],
   "source": [
    "df_output.to_csv(f\"data/compounds_{uniprot_id}_full.csv\", index=0)"
   ]
  },
  {
   "cell_type": "markdown",
   "id": "eb180565-c7d3-4f26-bb57-f4f7360a57e4",
   "metadata": {
    "pycharm": {
     "name": "#%% md\n"
    }
   },
   "source": [
    "## Actividad práctica\n",
    "Teniendo en cuenta lo aprendido en este Notebook, responda:\n",
    "1. ¿Qué otros datos podemos obtener de ChEMBL del target de interés?\n",
    "2. ¿Se podría realizar una nueva clasificación de los compuestos filtrándolos únicamente por el pEC50?, compruébelo y observe las diferencias\n",
    "3. Obtenga los datos conocidos de los compuestos, referentes a inhibición y actividad."
   ]
  },
  {
   "cell_type": "markdown",
   "id": "caf9d893-0c03-402a-89d8-f2cc46c18ede",
   "metadata": {
    "pycharm": {
     "name": "#%% md\n"
    }
   },
   "source": [
    "## Conclusiones\n",
    "En esta práctica se empleó la base de datos ChEMBL para obtener datos de compuestos bioactivos frente a nuestro target de interés. Estos datos extraidos en forma de diccionarios y listas se convirtieron en un DataFrame el cual permite visualizar fácilmente la información obtenida. Además, se obtuvieron datos de los compuestos bioactivos, combinaron DataFrames, se renombraron columnas y se utilizo una herramienta de panda para añadir una nueva columna al DataFrame construido."
   ]
  }
 ],
 "metadata": {
  "kernelspec": {
   "display_name": "Python 3 (ipykernel)",
   "language": "python",
   "name": "python3"
  },
  "language_info": {
   "codemirror_mode": {
    "name": "ipython",
    "version": 3
   },
   "file_extension": ".py",
   "mimetype": "text/x-python",
   "name": "python",
   "nbconvert_exporter": "python",
   "pygments_lexer": "ipython3",
   "version": "3.8.13"
  }
 },
 "nbformat": 4,
 "nbformat_minor": 5
}