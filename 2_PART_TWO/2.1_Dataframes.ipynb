{
 "cells": [
  {
   "cell_type": "markdown",
   "id": "4697f74c",
   "metadata": {
    "pycharm": {
     "name": "#%% md\n"
    }
   },
   "source": [
    "# Introducción a la manipulacion de Estructuras de Datos avanzadas con Pandas\n",
    "\n",
    "## Librería Numpy\n",
    "\n",
    "*Numpy* es una librearia fundamental para la computacion cientifica en Python. Entre sus caracteristicas esta la creacion de arreglos multidimensionales, que se pueden tratar como vectores, y posee una gran rapidez a la hora de hacer operaciones matematicas sobre los mismos. Lo cual la hace una libreria necesaria para proyectos con requerimientos de alta computacion y calculo matematico y es por eso de su gran popularidad en el ecosistema cientifico.\n",
    "\n",
    "### Operaciones Matematicas con Arreglos de Numpy\n",
    "\n",
    "Para empezar, importaremos la libreria y creamos nuestro primer Arreglo de Numpy, luego lo afectaremos con algunas operaciones matematicas. Es común renombrar la librería `Numpy` como `np`.\n",
    "\n"
   ]
  },
  {
   "cell_type": "code",
   "execution_count": 2,
   "id": "af82d819",
   "metadata": {
    "pycharm": {
     "name": "#%%\n"
    }
   },
   "outputs": [
    {
     "data": {
      "text/plain": [
       "array([ 0,  1,  2,  3,  4,  5,  6,  7,  8,  9, 10])"
      ]
     },
     "execution_count": 2,
     "metadata": {},
     "output_type": "execute_result"
    }
   ],
   "source": [
    "# Se importa la librería numpy. Por lo general el acrónimo para la librería numpy es np.\n",
    "import numpy as np\n",
    "\n",
    "# Se crea un arreglo de números\n",
    "nums = np.array([0, 1, 2, 3, 4, 5, 6, 7, 8, 9, 10])\n",
    "\n",
    "# Se imprime el valor del arreglo\n",
    "nums"
   ]
  },
  {
   "cell_type": "markdown",
   "id": "97c4e2c7",
   "metadata": {
    "pycharm": {
     "name": "#%% md\n"
    }
   },
   "source": [
    "**Vale la pena mencionar que un array de Numpy se parece mucho a una lista de Python.** La diferencia principal radica en el tipo de operaciones de orden matematico que se pueden realizar sobre un arreglo y las listas nativas de Python.\n",
    "\n",
    "Tomemos como punto de partida la suma de dos arreglos de `Numpy`, comparado con una suma de listas de Python:"
   ]
  },
  {
   "cell_type": "code",
   "execution_count": 3,
   "id": "f07b4c21",
   "metadata": {
    "pycharm": {
     "name": "#%%\n"
    }
   },
   "outputs": [
    {
     "data": {
      "text/plain": [
       "array([ 0,  2,  4,  6,  8, 10, 12, 14, 16, 18, 20])"
      ]
     },
     "execution_count": 3,
     "metadata": {},
     "output_type": "execute_result"
    }
   ],
   "source": [
    "# Se imprime la suma del arreglo de Numpy\n",
    "nums + nums"
   ]
  },
  {
   "cell_type": "markdown",
   "id": "60595dbe",
   "metadata": {
    "pycharm": {
     "name": "#%% md\n"
    }
   },
   "source": [
    "Se mantuvo el tamano de la lista, pero sus elementos fueron sumados, y es aqui el potencial y la simpleza de los arreglos de `Numpy`, y porque de su basto uso en el mundo científico.\n",
    "Miremos un código equivalente con las lista de Python:"
   ]
  },
  {
   "cell_type": "code",
   "execution_count": 4,
   "id": "272f70d4",
   "metadata": {
    "pycharm": {
     "name": "#%%\n"
    }
   },
   "outputs": [
    {
     "data": {
      "text/plain": [
       "[0, 2, 4, 6, 8, 10, 12, 14, 16, 18, 20]"
      ]
     },
     "execution_count": 4,
     "metadata": {},
     "output_type": "execute_result"
    }
   ],
   "source": [
    "# Lista por compresion con adicion de sus elementos\n",
    "lista_nums = [0, 1, 2, 3, 4, 5, 6, 7, 8, 9, 10]\n",
    "[x + x for x in lista_nums]"
   ]
  },
  {
   "cell_type": "markdown",
   "id": "7124e3af",
   "metadata": {
    "pycharm": {
     "name": "#%% md\n"
    }
   },
   "source": [
    "No creemos que sea complicado estar creando *listas de comprension* de Python pero claramente se reducirian las lineas de codigo en nuestro programa usando los arreglos de **Numpy**. Y seria imposible lograrlo si necesitamos sumar dos listas.\n",
    "\n",
    "Los *arreglos de Numpy* también pueden realizar las demás operaciones siguiendo el mismo modelo:\n",
    "\n",
    "```markdown\n",
    "<arreglo_numpy> <operacion (+, -, *, /)> <arreglo_numpy>\n",
    "```\n",
    "\n",
    "*Tengamos cuidado con la division si hay ceros en el denominador*\n",
    "\n",
    "Pero no hemos visto el potencial de los arreglos de Numpy, Que pasaria si intentamos sumar dos arreglos de tamano $n$, hablemos de Arreglos de $10,000,000$ de elementos?"
   ]
  },
  {
   "cell_type": "code",
   "execution_count": 5,
   "id": "198d8fc3",
   "metadata": {
    "pycharm": {
     "name": "#%%\n"
    }
   },
   "outputs": [
    {
     "name": "stdout",
     "output_type": "stream",
     "text": [
      "[ 7  0  0 ... 49 25  0]\n"
     ]
    }
   ],
   "source": [
    "#Se importa la libreria de Numpy\n",
    "import numpy as np\n",
    "\n",
    "#Se crean dos arreglos con 1 millon de elementos, en donde cada elemento tiene un valor entre 0-10\n",
    "x = np.random.choice(10, 1000000)\n",
    "y = np.random.choice(10, 1000000)\n",
    "\n",
    "print(x * y)"
   ]
  },
  {
   "cell_type": "markdown",
   "id": "eaac0abd",
   "metadata": {
    "pycharm": {
     "name": "#%% md\n"
    }
   },
   "source": [
    "Lo vieron? La multiplicacion tomo milisegundos. Y es ahi donde hace que usar la libreria valga la pena. "
   ]
  },
  {
   "cell_type": "markdown",
   "id": "0a9e3ca6",
   "metadata": {
    "pycharm": {
     "name": "#%% md\n"
    }
   },
   "source": [
    "##  Introducción a las Series de Panda\n",
    "\n",
    "Antes de hablar de Dataframes es importante que hagamos un pequeno repaso sobre las **Series**, al mismo tiempo empezaremos a interactuar con la libreria de Pandas.\n",
    "\n",
    "**Pandas** es una libreria de Python, que se caracteriza por proveer estructuras de datos que son de rápido procesamiento, que son fáciles de expresar para hacer que el trabajo con datos relacionales sea muy fácil e intuitivo. [Mas info aqui](https://pandas.pydata.org/docs/getting_started/overview.html)\n",
    "\n",
    "¿Qué es una Serie? ¿Cómo se crea una Serie? Veamos las respuestas a estas preguntas:\n",
    "\n",
    "Las Series son un tipo de estructura unidimensional *(1D)* muy parecida a un arreglo, con la característica de que podemos etiquetar en cierta medida sus datos.\n",
    "\n",
    "Para demostrar el potencial de las series vamos a interactuar con el archivo `iris.data` (./data/iris.data) que proviene del repositorio de datos de la [UCI Machine Learning](https://archive-beta.ics.uci.edu/)."
   ]
  },
  {
   "cell_type": "code",
   "execution_count": 7,
   "id": "20ebe0f3",
   "metadata": {
    "pycharm": {
     "name": "#%%\n"
    }
   },
   "outputs": [
    {
     "data": {
      "text/plain": "0         [5.1, 3.5, 1.4, 0.2, Iris-setosa]\n1         [4.9, 3.0, 1.4, 0.2, Iris-setosa]\n2         [4.7, 3.2, 1.3, 0.2, Iris-setosa]\n3         [4.6, 3.1, 1.5, 0.2, Iris-setosa]\n4         [5.0, 3.6, 1.4, 0.2, Iris-setosa]\n                       ...                 \n147    [6.5, 3.0, 5.2, 2.0, Iris-virginica]\n148    [6.2, 3.4, 5.4, 2.3, Iris-virginica]\n149    [5.9, 3.0, 5.1, 1.8, Iris-virginica]\n150                                      []\n151                                      []\nLength: 152, dtype: object"
     },
     "execution_count": 7,
     "metadata": {},
     "output_type": "execute_result"
    }
   ],
   "source": [
    "import pandas as pd\n",
    "\n",
    "with open(\"data/iris.data\", \"r\") as DATA:\n",
    "    iris_dataset = DATA.read()\n",
    "\n",
    "# Se limpia el dataset y se construye la serie a partir del arreglo generado por el `split` \n",
    "iris_dataset = iris_dataset.split('\\n')\n",
    "iris_dataset = [i.split(',') for i in iris_dataset]\n",
    "serie_de_iris = pd.Series(iris_dataset)\n",
    "\n",
    "# Se imprime la serie\n",
    "serie_de_iris"
   ]
  },
  {
   "cell_type": "markdown",
   "id": "8fe775c9",
   "metadata": {
    "pycharm": {
     "name": "#%% md\n"
    }
   },
   "source": [
    "Y así de fácil se construye una estructura de datos básica pero potente que nos da la libreria de *Pandas*. Exploremos lo que tenemos:\n",
    "\n",
    "La serie es como un arreglo de 1 dimension, (Ya lo sabiamos) y claramente es lo que vemos, se imprimieron aproximadamente $152$ filas cada una con una lista de 5 elementos, más la columna de enumeración.\n",
    "\n",
    "Las *series* al igual que las listas y arreglos de *Numpy* poseen métodos y su manipulación también se logra por medio de indexación.\n"
   ]
  },
  {
   "cell_type": "code",
   "execution_count": 9,
   "id": "85d36d26",
   "metadata": {
    "pycharm": {
     "name": "#%%\n"
    }
   },
   "outputs": [
    {
     "data": {
      "text/plain": "RangeIndex(start=0, stop=152, step=1)"
     },
     "execution_count": 9,
     "metadata": {},
     "output_type": "execute_result"
    }
   ],
   "source": [
    "# Se imprimen los indexes del arreglo, en este caso hace referencia a la primera columna\n",
    "serie_de_iris.index"
   ]
  },
  {
   "cell_type": "markdown",
   "source": [
    "Que tal si quisieramos acceder a los elementos de la posicion $120$ en adelante:"
   ],
   "metadata": {
    "collapsed": false,
    "pycharm": {
     "name": "#%% md\n"
    }
   }
  },
  {
   "cell_type": "code",
   "execution_count": 10,
   "id": "8d588ebf",
   "metadata": {
    "pycharm": {
     "name": "#%%\n"
    }
   },
   "outputs": [
    {
     "data": {
      "text/plain": "120    [6.9, 3.2, 5.7, 2.3, Iris-virginica]\n121    [5.6, 2.8, 4.9, 2.0, Iris-virginica]\n122    [7.7, 2.8, 6.7, 2.0, Iris-virginica]\n123    [6.3, 2.7, 4.9, 1.8, Iris-virginica]\n124    [6.7, 3.3, 5.7, 2.1, Iris-virginica]\n125    [7.2, 3.2, 6.0, 1.8, Iris-virginica]\n126    [6.2, 2.8, 4.8, 1.8, Iris-virginica]\n127    [6.1, 3.0, 4.9, 1.8, Iris-virginica]\n128    [6.4, 2.8, 5.6, 2.1, Iris-virginica]\n129    [7.2, 3.0, 5.8, 1.6, Iris-virginica]\n130    [7.4, 2.8, 6.1, 1.9, Iris-virginica]\n131    [7.9, 3.8, 6.4, 2.0, Iris-virginica]\n132    [6.4, 2.8, 5.6, 2.2, Iris-virginica]\n133    [6.3, 2.8, 5.1, 1.5, Iris-virginica]\n134    [6.1, 2.6, 5.6, 1.4, Iris-virginica]\n135    [7.7, 3.0, 6.1, 2.3, Iris-virginica]\n136    [6.3, 3.4, 5.6, 2.4, Iris-virginica]\n137    [6.4, 3.1, 5.5, 1.8, Iris-virginica]\n138    [6.0, 3.0, 4.8, 1.8, Iris-virginica]\n139    [6.9, 3.1, 5.4, 2.1, Iris-virginica]\n140    [6.7, 3.1, 5.6, 2.4, Iris-virginica]\n141    [6.9, 3.1, 5.1, 2.3, Iris-virginica]\n142    [5.8, 2.7, 5.1, 1.9, Iris-virginica]\n143    [6.8, 3.2, 5.9, 2.3, Iris-virginica]\n144    [6.7, 3.3, 5.7, 2.5, Iris-virginica]\n145    [6.7, 3.0, 5.2, 2.3, Iris-virginica]\n146    [6.3, 2.5, 5.0, 1.9, Iris-virginica]\n147    [6.5, 3.0, 5.2, 2.0, Iris-virginica]\n148    [6.2, 3.4, 5.4, 2.3, Iris-virginica]\n149    [5.9, 3.0, 5.1, 1.8, Iris-virginica]\n150                                      []\n151                                      []\ndtype: object"
     },
     "execution_count": 10,
     "metadata": {},
     "output_type": "execute_result"
    }
   ],
   "source": [
    "# Se imprimen los elementos desde la posicion 100 en adelante\n",
    "serie_de_iris[120:]"
   ]
  },
  {
   "cell_type": "markdown",
   "id": "8143e447",
   "metadata": {
    "pycharm": {
     "name": "#%% md\n"
    }
   },
   "source": [
    "Que tal si ahora describimos las columnas manipulando un poco la Serie? Bueno y es aqui en donde los *Dataframes* entran en juego:\n",
    "\n",
    "De acuerdo con la descripcion del dataset sabemos que tiene la siguiente estructura:\n",
    "\n",
    "| No. |      Columna         |  Tipo de dato | Posibles Valores                                |\n",
    "|-----|:--------------------:|--------------:|:------------------------------------------------|\n",
    "| 1   |  longitud del sepalo | float/cm      | Positivos                                       |\n",
    "| 2   |    ancho del sepalo  |   float/cm    | Positivos                                       |\n",
    "| 3   |  longitud del petalo |    float/cm   | Positivos                                       |\n",
    "| 4   |   ancho del petalo   |    float/cm   | Positivos                                       |\n",
    "| 5   |    clase             | string/texto  | Iris Setosa, Iris Versicolour,  Iris Virginica  |\n",
    "\n",
    "Es momento de que modifiquemos la *Serie*, la convirtamos en un Dataframe y usemos a nuestro favor todo su potencial."
   ]
  },
  {
   "cell_type": "markdown",
   "id": "57870dbb",
   "metadata": {
    "pycharm": {
     "name": "#%% md\n"
    }
   },
   "source": [
    "##  Introducción a los DataFrames\n",
    "\n",
    "Un *DataFrame* es un arreglo de $n$ dimensiones de datos estructurados que pueda almacenar datos de diferentes tipos. Si, es como una hoja de calculo o una tabla de una base de datos.\n",
    "\n",
    "Los `DataFrame` son mas comunes que las *Series* y es por esta razón que serán objeto de estudio en esta práctica.\n",
    "\n",
    "Por lo General se puede crear un `DataFrame` desde diferentes fuentes de datos, pero en esta ocasión seguiremos usando el dataset de los `iris` (./data/iris.data).\n"
   ]
  },
  {
   "cell_type": "code",
   "execution_count": 27,
   "id": "fbed6374",
   "metadata": {
    "pycharm": {
     "name": "#%%\n"
    }
   },
   "outputs": [
    {
     "data": {
      "text/plain": "   long_sepalo  ancho_sepalo  long_petalo  ancho_petalo        clase\n0          5.1           3.5          1.4           0.2  Iris-setosa\n1          4.9           3.0          1.4           0.2  Iris-setosa\n2          4.7           3.2          1.3           0.2  Iris-setosa\n3          4.6           3.1          1.5           0.2  Iris-setosa\n4          5.0           3.6          1.4           0.2  Iris-setosa",
      "text/html": "<div>\n<style scoped>\n    .dataframe tbody tr th:only-of-type {\n        vertical-align: middle;\n    }\n\n    .dataframe tbody tr th {\n        vertical-align: top;\n    }\n\n    .dataframe thead th {\n        text-align: right;\n    }\n</style>\n<table border=\"1\" class=\"dataframe\">\n  <thead>\n    <tr style=\"text-align: right;\">\n      <th></th>\n      <th>long_sepalo</th>\n      <th>ancho_sepalo</th>\n      <th>long_petalo</th>\n      <th>ancho_petalo</th>\n      <th>clase</th>\n    </tr>\n  </thead>\n  <tbody>\n    <tr>\n      <th>0</th>\n      <td>5.1</td>\n      <td>3.5</td>\n      <td>1.4</td>\n      <td>0.2</td>\n      <td>Iris-setosa</td>\n    </tr>\n    <tr>\n      <th>1</th>\n      <td>4.9</td>\n      <td>3.0</td>\n      <td>1.4</td>\n      <td>0.2</td>\n      <td>Iris-setosa</td>\n    </tr>\n    <tr>\n      <th>2</th>\n      <td>4.7</td>\n      <td>3.2</td>\n      <td>1.3</td>\n      <td>0.2</td>\n      <td>Iris-setosa</td>\n    </tr>\n    <tr>\n      <th>3</th>\n      <td>4.6</td>\n      <td>3.1</td>\n      <td>1.5</td>\n      <td>0.2</td>\n      <td>Iris-setosa</td>\n    </tr>\n    <tr>\n      <th>4</th>\n      <td>5.0</td>\n      <td>3.6</td>\n      <td>1.4</td>\n      <td>0.2</td>\n      <td>Iris-setosa</td>\n    </tr>\n  </tbody>\n</table>\n</div>"
     },
     "execution_count": 27,
     "metadata": {},
     "output_type": "execute_result"
    }
   ],
   "source": [
    "import pandas as pd\n",
    "\n",
    "# Creamos el DataFrame a partir de iris_dataset, el parametro names permite nombrar las columnas\n",
    "df_iris = pd.read_csv(\"./data/iris.data\", names=[\"long_sepalo\", \"ancho_sepalo\", \"long_petalo\", \"ancho_petalo\", \"clase\"])\n",
    "\n",
    "# Se imprime los primeros 5 elementos del dataframe\n",
    "df_iris.head()"
   ]
  },
  {
   "cell_type": "markdown",
   "id": "01532f75",
   "metadata": {
    "pycharm": {
     "name": "#%% md\n"
    }
   },
   "source": [
    "Como vimos fue muy fácil construir el `DataFrame`, ahora, ¿qué tal si lo manipulamos?, podriamos contestar preguntas del tipo: ¿cuántas clases de iris tenemos?, ¿cuál es el tamano promedio de la longitud del petalo?, ¿para todas las clase o para una en particular? Veamos como se hace:\n"
   ]
  },
  {
   "cell_type": "code",
   "execution_count": 28,
   "id": "af42aa48",
   "metadata": {
    "pycharm": {
     "name": "#%%\n"
    }
   },
   "outputs": [
    {
     "name": "stdout",
     "output_type": "stream",
     "text": [
      "Tamaño promedio del pétalo de las iris:\n",
      "5.843333333333334\n"
     ]
    }
   ],
   "source": [
    "### Ejemplo 1: Promedio de Longitud del Sepalo sin importar la clase\n",
    "mean_long_sepalo = np.mean(df_iris['long_sepalo'])\n",
    "print('Tamaño promedio del pétalo de las iris:')\n",
    "print(mean_long_sepalo)"
   ]
  },
  {
   "cell_type": "code",
   "execution_count": null,
   "outputs": [],
   "source": [
    "#### JAVIER ####\n",
    "# Qué pasó con las otras preguntas?\n",
    "# Falta manejo de dataframes"
   ],
   "metadata": {
    "collapsed": false,
    "pycharm": {
     "name": "#%%\n"
    }
   }
  },
  {
   "cell_type": "code",
   "execution_count": null,
   "outputs": [],
   "source": [],
   "metadata": {
    "collapsed": false,
    "pycharm": {
     "name": "#%%\n"
    }
   }
  },
  {
   "cell_type": "markdown",
   "id": "efa16fbb-1a4e-48a9-ac27-b627b2c602da",
   "metadata": {
    "pycharm": {
     "name": "#%% md\n"
    }
   },
   "source": [
    "# Práctica 1: Adquirir datos de ChEMBL\n",
    "\n",
    "## Conceptos a trabajar\n",
    "**Uniprot:** Es una base de datos que busca proporcionar a la comunidad científica un recurso integral, de alta calidad y de libre acceso de secuencias de proteínas e información funcional. Referencia: [Uniprot](https://www.uniprot.org/).\n",
    "\n",
    "**ChEMBL:** Es una base de datos que contiene moléculas bioactivas, reune datos químicos, de bioactividad y genómicos. Refernecia: [ChEMBL](https://www.ebi.ac.uk/chembl/)\n",
    "\n",
    "**Half-maximal inhibitory concentration (IC50):** Expresa la cantidad de fármaco necesaria para inhibir un proceso biológico a la mitad del valor no inhibido, es la medida más utilizada de la eficacia o potencia de un fármaco. Referencia: [Aykul, S. y Martínez-Hackert, E. (2016)](https://doi.org/10.1016/j.ab.2016.06.025)\n",
    "\n",
    "**pIC50:** Es el logaritmo negativo en base diez del IC50, cuando las unidades de son **molares (M)**. Se usa para facilitar la comparación entre distintos IC50. También, es importante saber que a mayor pIC50 el fármaco tiene una mayor eficacia o mayor potencial.\n",
    "\n",
    "**Half maximal effective concentration (EC50):** Es la concentración efectiva para producir el 50 % de la respuesta máxima, se usa para comparar las potencias de los fármacos. También, es importante saber que a menor sea el EC50 más potente será el fármaco. A esta pedida también se le calcula el logaritmo negativo en base diez **(pEC50)** para facilitar su comprensión. Referencia: [Waller, D., & Sampson, A. (2018)](https://doi.org/10.1016/B978-0-7020-7167-6.00001-4)\n",
    "\n",
    "**Inhibitor constant (Ki):** Es la concentración requerida para producir la mitad de la inhibición máxima, es útil para describir la afinidad de unión de una molécula a un receptor.\n",
    "\n",
    "**SMILES (Simplified Molecular-Input Line-Entry System):** Es una notación de línea para describir estructuras químicas utilizando cadenas ASCII cortas. Referencia: [Daylight Chemical Information Systems](https://www.daylight.com/smiles/)"
   ]
  },
  {
   "cell_type": "markdown",
   "id": "d7663773-6f54-47bf-9c9a-1eff4eb5b10a",
   "metadata": {
    "pycharm": {
     "name": "#%% md\n"
    }
   },
   "source": [
    "## Planteamiento del problema\n",
    "Para una investigación queremos identificar los compuestos que actúan con un target específico, la proteína Glucógeno sintasa quinasa-3 beta, que actúa como un regulador negativo en el control hormonal de la homeostasis de la glucosa, señalización Wnt y regulación de factores de transcripción y microtúbulos.\n",
    "\n",
    "En esta práctica vamos a explorar y conocer los compuestos bioactivos de la proteína, sus estructuras y algunas características fisicoquímicas.\n",
    "\n",
    "Para lo cual, usaremos la información que proporciona la base de datos **ChEMBL**, que nos permite filtrar y descargar los datos de bioactividad conocidos de los compuestos que interactúan con nuestro target de interés. Posteriormente, trabajaremos los datos en un ` DataFrame `, que nos permitirá organizarlos, visualizarlos y manipularlos fácilmente.\n",
    "\n",
    "Lo primero que debemos hacer es conectarnos a **ChEMBL**, empleando la biblioteca **webresource client**"
   ]
  },
  {
   "cell_type": "markdown",
   "id": "f84dc1df-030e-4a1d-a809-4ac8edd672fd",
   "metadata": {
    "pycharm": {
     "name": "#%% md\n"
    }
   },
   "source": [
    "## Conectarse a la base de datos ChEMBL\n"
   ]
  },
  {
   "cell_type": "code",
   "execution_count": 3,
   "id": "99e2612c-a497-4cb8-bd51-fdcefcb13e42",
   "metadata": {
    "pycharm": {
     "name": "#%%\n"
    }
   },
   "outputs": [],
   "source": [
    "from chembl_webresource_client.new_client import new_client #Se importa la biblioteca webresource client que permite conectase a ChEMBL\n",
    "import pandas as pd\n",
    "import math\n",
    "from rdkit.Chem import PandasTools"
   ]
  },
  {
   "cell_type": "markdown",
   "id": "88b8cdc0-6939-4c4c-a183-374eacace60b",
   "metadata": {
    "pycharm": {
     "name": "#%% md\n"
    }
   },
   "source": [
    "Se deben crear para el acceso a la API"
   ]
  },
  {
   "cell_type": "code",
   "execution_count": 4,
   "id": "568fddfc-ef9a-4189-911d-8f0e3d00c5ce",
   "metadata": {
    "pycharm": {
     "name": "#%%\n"
    }
   },
   "outputs": [],
   "source": [
    "targets = new_client.target\n",
    "compounds = new_client.molecule\n",
    "bioactivities = new_client.activity"
   ]
  },
  {
   "cell_type": "markdown",
   "id": "d6d7e2d7-f5a2-4473-83bd-2daff23ef7d3",
   "metadata": {
    "pycharm": {
     "name": "#%% md\n"
    }
   },
   "source": [
    "## Datos del target \n",
    "Luego, debemos buscar el ID del target de interes en la base de datos Uniprot, que en este caso es Glucógeno sintasa quinasa-3 beta, ID: [P49841](https://www.uniprot.org/uniprot/P49841)."
   ]
  },
  {
   "cell_type": "code",
   "execution_count": 5,
   "id": "aaaf0217-bde5-40ea-be59-73092c07b5c0",
   "metadata": {
    "pycharm": {
     "name": "#%%\n"
    }
   },
   "outputs": [
    {
     "data": {
      "text/plain": "       organism                               pref_name target_chembl_id  \\\n0  Homo sapiens         Glycogen synthase kinase-3 beta        CHEMBL262   \n1  Homo sapiens         Glycogen synthase kinase-3 beta        CHEMBL262   \n2  Homo sapiens              Glycogen synthase kinase-3    CHEMBL2095188   \n3  Homo sapiens  Axin-1/Glycogen synthase kinase-3 beta    CHEMBL3883309   \n\n                   target_type  \n0               SINGLE PROTEIN  \n1               SINGLE PROTEIN  \n2               PROTEIN FAMILY  \n3  PROTEIN-PROTEIN INTERACTION  ",
      "text/html": "<div>\n<style scoped>\n    .dataframe tbody tr th:only-of-type {\n        vertical-align: middle;\n    }\n\n    .dataframe tbody tr th {\n        vertical-align: top;\n    }\n\n    .dataframe thead th {\n        text-align: right;\n    }\n</style>\n<table border=\"1\" class=\"dataframe\">\n  <thead>\n    <tr style=\"text-align: right;\">\n      <th></th>\n      <th>organism</th>\n      <th>pref_name</th>\n      <th>target_chembl_id</th>\n      <th>target_type</th>\n    </tr>\n  </thead>\n  <tbody>\n    <tr>\n      <th>0</th>\n      <td>Homo sapiens</td>\n      <td>Glycogen synthase kinase-3 beta</td>\n      <td>CHEMBL262</td>\n      <td>SINGLE PROTEIN</td>\n    </tr>\n    <tr>\n      <th>1</th>\n      <td>Homo sapiens</td>\n      <td>Glycogen synthase kinase-3 beta</td>\n      <td>CHEMBL262</td>\n      <td>SINGLE PROTEIN</td>\n    </tr>\n    <tr>\n      <th>2</th>\n      <td>Homo sapiens</td>\n      <td>Glycogen synthase kinase-3</td>\n      <td>CHEMBL2095188</td>\n      <td>PROTEIN FAMILY</td>\n    </tr>\n    <tr>\n      <th>3</th>\n      <td>Homo sapiens</td>\n      <td>Axin-1/Glycogen synthase kinase-3 beta</td>\n      <td>CHEMBL3883309</td>\n      <td>PROTEIN-PROTEIN INTERACTION</td>\n    </tr>\n  </tbody>\n</table>\n</div>"
     },
     "execution_count": 5,
     "metadata": {},
     "output_type": "execute_result"
    }
   ],
   "source": [
    "uniprot_id = 'P49841'\n",
    "# Se toma sola alguna información de  ChEMBL que sea de interesbut restrict to specified values only\n",
    "target_P49841 = targets.get(target_components__accession=uniprot_id) \\\n",
    "                     .only('target_chembl_id', 'organism', 'pref_name', 'target_type')\n",
    "pd.DataFrame.from_records(target_P49841)"
   ]
  },
  {
   "cell_type": "markdown",
   "id": "26b05cd6-df7a-47fc-b396-f181a6118b97",
   "metadata": {
    "pycharm": {
     "name": "#%% md\n"
    }
   },
   "source": [
    "Vamos a seleccionar el target de interes `CHEMBL262` y guardar el ChEMBL-ID \n"
   ]
  },
  {
   "cell_type": "code",
   "execution_count": 6,
   "id": "dab282de-f599-4496-b5b3-78158b787d8e",
   "metadata": {
    "pycharm": {
     "name": "#%%\n"
    }
   },
   "outputs": [
    {
     "name": "stdout",
     "output_type": "stream",
     "text": [
      "El target de interes es: {'organism': 'Homo sapiens', 'pref_name': 'Glycogen synthase kinase-3 beta', 'target_chembl_id': 'CHEMBL262', 'target_type': 'SINGLE PROTEIN'}\n"
     ]
    }
   ],
   "source": [
    "# Seleccionar el target de interes\n",
    "target = target_P49841[0]\n",
    "print(f'El target de interes es: {str(target)}')"
   ]
  },
  {
   "cell_type": "code",
   "execution_count": 7,
   "id": "c522cf8d-d0eb-478e-90c7-86fd833bc412",
   "metadata": {
    "pycharm": {
     "name": "#%%\n"
    }
   },
   "outputs": [
    {
     "name": "stdout",
     "output_type": "stream",
     "text": [
      "El ChEMBL-ID de interes es: CHEMBL262\n"
     ]
    }
   ],
   "source": [
    "# Guardar el ChEMBL-ID\n",
    "chembl_id = target['target_chembl_id']\n",
    "print(f'El ChEMBL-ID de interes es: {chembl_id}')"
   ]
  },
  {
   "cell_type": "markdown",
   "source": [
    "## Datos de bioactividad\n",
    "\n",
    "Ahora consultamos los datos de bioactividad que son de interés. Los pasos a seguir son:\n",
    "1. Descargar y filtrar bioactividades para el target\n",
    "    Los datos de bioactividad se van a filtrar de la siguiente manera:\n",
    "        * Tipo de bioactividad: IC50\n",
    "        * Relación: \"=\"\n",
    "2. Convertir los datos descargados en un data frame:\n",
    "    Las columnas de interés son: `molecule_chembl_id`, `type`, `relation`, `pchembl_value`\n",
    "\n",
    "\n"
   ],
   "metadata": {
    "collapsed": false,
    "pycharm": {
     "name": "#%% md\n"
    }
   }
  },
  {
   "cell_type": "code",
   "execution_count": 84,
   "id": "ccbfd67f-ead5-464e-a79a-0ad77db4ac83",
   "metadata": {
    "pycharm": {
     "name": "#%%\n"
    }
   },
   "outputs": [],
   "source": [
    "# Descargar los datos de la bioactivdad del target. Esto puede tardar unos minutos\n",
    "bioact = bioactivities.filter(target_chembl_id = chembl_id) \\\n",
    "                      .filter(type = 'IC50') \\\n",
    "                      .filter(relation = '=') \\\n",
    "                      .only('molecule_chembl_id', 'type', 'relation', 'pchembl_value')\n",
    "df_bioact = pd.DataFrame(bioact)"
   ]
  },
  {
   "cell_type": "code",
   "execution_count": 85,
   "outputs": [
    {
     "data": {
      "text/plain": "  molecule_chembl_id pchembl_value relation  type value\n0       CHEMBL322970          6.42        =  IC50  0.38\n1       CHEMBL112564          5.16        =  IC50  6.92\n2       CHEMBL321421          6.39        =  IC50  0.41\n3       CHEMBL388978          6.80        =  IC50  0.16\n4       CHEMBL115875          5.02        =  IC50   9.6",
      "text/html": "<div>\n<style scoped>\n    .dataframe tbody tr th:only-of-type {\n        vertical-align: middle;\n    }\n\n    .dataframe tbody tr th {\n        vertical-align: top;\n    }\n\n    .dataframe thead th {\n        text-align: right;\n    }\n</style>\n<table border=\"1\" class=\"dataframe\">\n  <thead>\n    <tr style=\"text-align: right;\">\n      <th></th>\n      <th>molecule_chembl_id</th>\n      <th>pchembl_value</th>\n      <th>relation</th>\n      <th>type</th>\n      <th>value</th>\n    </tr>\n  </thead>\n  <tbody>\n    <tr>\n      <th>0</th>\n      <td>CHEMBL322970</td>\n      <td>6.42</td>\n      <td>=</td>\n      <td>IC50</td>\n      <td>0.38</td>\n    </tr>\n    <tr>\n      <th>1</th>\n      <td>CHEMBL112564</td>\n      <td>5.16</td>\n      <td>=</td>\n      <td>IC50</td>\n      <td>6.92</td>\n    </tr>\n    <tr>\n      <th>2</th>\n      <td>CHEMBL321421</td>\n      <td>6.39</td>\n      <td>=</td>\n      <td>IC50</td>\n      <td>0.41</td>\n    </tr>\n    <tr>\n      <th>3</th>\n      <td>CHEMBL388978</td>\n      <td>6.80</td>\n      <td>=</td>\n      <td>IC50</td>\n      <td>0.16</td>\n    </tr>\n    <tr>\n      <th>4</th>\n      <td>CHEMBL115875</td>\n      <td>5.02</td>\n      <td>=</td>\n      <td>IC50</td>\n      <td>9.6</td>\n    </tr>\n  </tbody>\n</table>\n</div>"
     },
     "execution_count": 85,
     "metadata": {},
     "output_type": "execute_result"
    }
   ],
   "source": [
    "#Primeros elementos del dataframe\n",
    "df_bioact.head()"
   ],
   "metadata": {
    "collapsed": false,
    "pycharm": {
     "name": "#%%\n"
    }
   }
  },
  {
   "cell_type": "code",
   "execution_count": 9,
   "outputs": [],
   "source": [
    "bioact_temp = bioactivities.filter(target_chembl_id = chembl_id)\\\n",
    "                      .filter(relation = '=') \\\n",
    "                      .only('molecule_chembl_id', 'type', 'relation', 'pchembl_value')\n",
    "df_bioact_temp = pd.DataFrame(bioact_temp)"
   ],
   "metadata": {
    "collapsed": false,
    "pycharm": {
     "name": "#%%\n"
    }
   }
  },
  {
   "cell_type": "code",
   "execution_count": 18,
   "outputs": [],
   "source": [
    "bioact_temp = df_bioact_temp[(df_bioact_temp['type'] == 'IC50') |\n",
    "                             (df_bioact_temp['type'] == 'EC50')|\n",
    "                             (df_bioact_temp['type'] == 'Ki')]"
   ],
   "metadata": {
    "collapsed": false,
    "pycharm": {
     "name": "#%%\n"
    }
   }
  },
  {
   "cell_type": "markdown",
   "id": "58875462-fe53-4001-8cb3-b8513708d37a",
   "metadata": {
    "pycharm": {
     "name": "#%% md\n"
    }
   },
   "source": [
    "Es posible que hayan compuestos con valores faltantes y que hayan duplicados porque el mismo compuesto puede haber sido probado más de una vez (nosotros nos quedaremos solo con el que primero haya sido probado)"
   ]
  },
  {
   "cell_type": "code",
   "execution_count": 86,
   "id": "c1d74226-b9dc-4143-8048-872b15ddbc0f",
   "metadata": {
    "pycharm": {
     "name": "#%%\n"
    }
   },
   "outputs": [
    {
     "name": "stdout",
     "output_type": "stream",
     "text": [
      "Total de compuestos originales es: 2648\n"
     ]
    }
   ],
   "source": [
    "# Primero verificamos cuantos compuestos tenemos en total\n",
    "ori_len = len(df_bioact)\n",
    "print(f'Total de compuestos originales es: {ori_len}')"
   ]
  },
  {
   "cell_type": "code",
   "execution_count": 87,
   "id": "6e013877-f792-4177-8b3f-4740f67a8176",
   "metadata": {
    "pycharm": {
     "name": "#%%\n"
    }
   },
   "outputs": [
    {
     "name": "stdout",
     "output_type": "stream",
     "text": [
      "Total de compuestos despues de eliminar daltantes: 2626\n"
     ]
    }
   ],
   "source": [
    "# Se eliminan los compuestos que no tienen pChEMBL_value\n",
    "df_bioact = df_bioact.dropna(axis=0, how = 'any')\n",
    "new_len = len(df_bioact)\n",
    "print(f'Total de compuestos despues de eliminar daltantes: {new_len}')"
   ]
  },
  {
   "cell_type": "markdown",
   "id": "3267f752-2dba-48c9-b7f5-1037d21ad55f",
   "metadata": {
    "pycharm": {
     "name": "#%% md\n"
    }
   },
   "source": [
    "Para saber cuantos compuestos eliminamos por no tener un valor de pChEMBL usamos la siguiente línea. "
   ]
  },
  {
   "cell_type": "code",
   "execution_count": 88,
   "id": "861be90c-548f-4737-bfd8-2e2e9393db77",
   "metadata": {
    "pycharm": {
     "name": "#%%\n"
    }
   },
   "outputs": [
    {
     "name": "stdout",
     "output_type": "stream",
     "text": [
      "Total compuestos eliminados 22\n"
     ]
    }
   ],
   "source": [
    "# Se le resta al número total de compuestos el número total de compuestos al eliminar los que no tienen pChEMBL_value\n",
    "print(f'Total compuestos eliminados {ori_len - new_len}')\n",
    "ori_len = new_len"
   ]
  },
  {
   "cell_type": "code",
   "execution_count": 89,
   "id": "9a4fdcc5-ac95-4ddf-be47-2ef940619532",
   "metadata": {
    "pycharm": {
     "name": "#%%\n"
    }
   },
   "outputs": [
    {
     "name": "stdout",
     "output_type": "stream",
     "text": [
      "Total de compuestos sin duplicados : 2291\n"
     ]
    }
   ],
   "source": [
    "# Se eliminan los compuestos duplicados y nos quedamos con el primer compuesto probado\n",
    "df_bioact = df_bioact.drop_duplicates('molecule_chembl_id', keep = 'first')\n",
    "new_len = len(df_bioact)\n",
    "print(f'Total de compuestos sin duplicados : {new_len}')"
   ]
  },
  {
   "cell_type": "markdown",
   "id": "12729e22-0962-4128-9f8d-d2ae77a1d553",
   "metadata": {
    "pycharm": {
     "name": "#%% md\n"
    }
   },
   "source": [
    "Para saber cuantos compuestos duplicados habían usamos la siguiente línea. "
   ]
  },
  {
   "cell_type": "code",
   "execution_count": 90,
   "id": "455158c5-5589-42da-9bc9-c5e825fd5761",
   "metadata": {
    "pycharm": {
     "name": "#%%\n"
    }
   },
   "outputs": [
    {
     "name": "stdout",
     "output_type": "stream",
     "text": [
      "Total compuestos eliminados 335\n"
     ]
    }
   ],
   "source": [
    "# Se le resta al número total de compuestos al eliminar los que no tienen pChEMBL_value el número total de compuestos sin duplicados\n",
    "print(f'Total compuestos eliminados {ori_len - new_len}')\n",
    "ori_len = new_len"
   ]
  },
  {
   "cell_type": "markdown",
   "id": "5a26f580-dd5b-4c51-a8c1-889b9621c64e",
   "metadata": {
    "pycharm": {
     "name": "#%% md\n"
    }
   },
   "source": [
    "Ahora que hemos eliminado algunas filas restableceremos el índice para que este sea continuo"
   ]
  },
  {
   "cell_type": "code",
   "execution_count": 91,
   "id": "548bbf5d-c428-4bc5-bd97-e04d669295bd",
   "metadata": {
    "pycharm": {
     "name": "#%%\n"
    }
   },
   "outputs": [
    {
     "data": {
      "text/plain": "  molecule_chembl_id pchembl_value relation  type value\n0       CHEMBL322970          6.42        =  IC50  0.38\n1       CHEMBL112564          5.16        =  IC50  6.92\n2       CHEMBL321421          6.39        =  IC50  0.41\n3       CHEMBL388978          6.80        =  IC50  0.16\n4       CHEMBL115875          5.02        =  IC50   9.6",
      "text/html": "<div>\n<style scoped>\n    .dataframe tbody tr th:only-of-type {\n        vertical-align: middle;\n    }\n\n    .dataframe tbody tr th {\n        vertical-align: top;\n    }\n\n    .dataframe thead th {\n        text-align: right;\n    }\n</style>\n<table border=\"1\" class=\"dataframe\">\n  <thead>\n    <tr style=\"text-align: right;\">\n      <th></th>\n      <th>molecule_chembl_id</th>\n      <th>pchembl_value</th>\n      <th>relation</th>\n      <th>type</th>\n      <th>value</th>\n    </tr>\n  </thead>\n  <tbody>\n    <tr>\n      <th>0</th>\n      <td>CHEMBL322970</td>\n      <td>6.42</td>\n      <td>=</td>\n      <td>IC50</td>\n      <td>0.38</td>\n    </tr>\n    <tr>\n      <th>1</th>\n      <td>CHEMBL112564</td>\n      <td>5.16</td>\n      <td>=</td>\n      <td>IC50</td>\n      <td>6.92</td>\n    </tr>\n    <tr>\n      <th>2</th>\n      <td>CHEMBL321421</td>\n      <td>6.39</td>\n      <td>=</td>\n      <td>IC50</td>\n      <td>0.41</td>\n    </tr>\n    <tr>\n      <th>3</th>\n      <td>CHEMBL388978</td>\n      <td>6.80</td>\n      <td>=</td>\n      <td>IC50</td>\n      <td>0.16</td>\n    </tr>\n    <tr>\n      <th>4</th>\n      <td>CHEMBL115875</td>\n      <td>5.02</td>\n      <td>=</td>\n      <td>IC50</td>\n      <td>9.6</td>\n    </tr>\n  </tbody>\n</table>\n</div>"
     },
     "execution_count": 91,
     "metadata": {},
     "output_type": "execute_result"
    }
   ],
   "source": [
    "df_bioact.reset_index(drop=True, inplace=True)\n",
    "df_bioact.head()"
   ]
  },
  {
   "cell_type": "markdown",
   "id": "6bf55ab4-486f-485a-9414-b1c4e38682be",
   "metadata": {
    "pycharm": {
     "name": "#%% md\n"
    }
   },
   "source": [
    "Vamos a organizar el DataFrame de mayor a menor pchembl_value"
   ]
  },
  {
   "cell_type": "code",
   "execution_count": 92,
   "id": "648690df-a26b-486b-83fd-d812139fa3df",
   "metadata": {
    "pycharm": {
     "name": "#%%\n"
    }
   },
   "outputs": [
    {
     "data": {
      "text/plain": "  molecule_chembl_id pchembl_value relation  type    value\n0       CHEMBL564450          9.85        =  IC50  0.00014\n1      CHEMBL3957649          9.70        =  IC50      0.2\n2      CHEMBL3942619          9.70        =  IC50      0.2\n3      CHEMBL3963605          9.70        =  IC50      0.2\n4      CHEMBL2386090          9.70        =  IC50      0.2",
      "text/html": "<div>\n<style scoped>\n    .dataframe tbody tr th:only-of-type {\n        vertical-align: middle;\n    }\n\n    .dataframe tbody tr th {\n        vertical-align: top;\n    }\n\n    .dataframe thead th {\n        text-align: right;\n    }\n</style>\n<table border=\"1\" class=\"dataframe\">\n  <thead>\n    <tr style=\"text-align: right;\">\n      <th></th>\n      <th>molecule_chembl_id</th>\n      <th>pchembl_value</th>\n      <th>relation</th>\n      <th>type</th>\n      <th>value</th>\n    </tr>\n  </thead>\n  <tbody>\n    <tr>\n      <th>0</th>\n      <td>CHEMBL564450</td>\n      <td>9.85</td>\n      <td>=</td>\n      <td>IC50</td>\n      <td>0.00014</td>\n    </tr>\n    <tr>\n      <th>1</th>\n      <td>CHEMBL3957649</td>\n      <td>9.70</td>\n      <td>=</td>\n      <td>IC50</td>\n      <td>0.2</td>\n    </tr>\n    <tr>\n      <th>2</th>\n      <td>CHEMBL3942619</td>\n      <td>9.70</td>\n      <td>=</td>\n      <td>IC50</td>\n      <td>0.2</td>\n    </tr>\n    <tr>\n      <th>3</th>\n      <td>CHEMBL3963605</td>\n      <td>9.70</td>\n      <td>=</td>\n      <td>IC50</td>\n      <td>0.2</td>\n    </tr>\n    <tr>\n      <th>4</th>\n      <td>CHEMBL2386090</td>\n      <td>9.70</td>\n      <td>=</td>\n      <td>IC50</td>\n      <td>0.2</td>\n    </tr>\n  </tbody>\n</table>\n</div>"
     },
     "execution_count": 92,
     "metadata": {},
     "output_type": "execute_result"
    }
   ],
   "source": [
    "# Organizamos de mayor a menor pchembl_value\n",
    "df_bioact.sort_values(by=\"pchembl_value\", ascending=False, inplace=True)\n",
    "# Restablecemos el índice\n",
    "df_bioact.reset_index(drop=True, inplace=True)\n",
    "# Imprimimos los primeros datos del Dataframe\n",
    "df_bioact.head()"
   ]
  },
  {
   "cell_type": "markdown",
   "id": "626601c2-45ff-4868-90f6-398cfb500bcd",
   "metadata": {
    "pycharm": {
     "name": "#%% md\n"
    }
   },
   "source": [
    "Para continuar usando el Data Frame en la práctica sin necesidad de siempre estarnos conectando a ChEMBL, vamos a guardar el Data Frame obtenido como un archivo separado por comas (data/compuestos.csv)"
   ]
  },
  {
   "cell_type": "code",
   "execution_count": 93,
   "id": "93433e81-f986-4cab-86ce-6ce498637102",
   "metadata": {
    "pycharm": {
     "name": "#%%\n"
    }
   },
   "outputs": [],
   "source": [
    "df_bioact.to_csv(\"./data/compuestos.csv\", index=0)"
   ]
  },
  {
   "cell_type": "markdown",
   "source": [
    "En adelante, si queremos utilizar el Dataframe, podemos cargar el archivo guardado"
   ],
   "metadata": {
    "collapsed": false,
    "pycharm": {
     "name": "#%% md\n"
    }
   }
  },
  {
   "cell_type": "code",
   "execution_count": 95,
   "outputs": [
    {
     "data": {
      "text/plain": "  molecule_chembl_id  pchembl_value relation  type    value\n0       CHEMBL564450           9.85        =  IC50  0.00014\n1      CHEMBL3957649           9.70        =  IC50  0.20000\n2      CHEMBL3942619           9.70        =  IC50  0.20000\n3      CHEMBL3963605           9.70        =  IC50  0.20000\n4      CHEMBL2386090           9.70        =  IC50  0.20000",
      "text/html": "<div>\n<style scoped>\n    .dataframe tbody tr th:only-of-type {\n        vertical-align: middle;\n    }\n\n    .dataframe tbody tr th {\n        vertical-align: top;\n    }\n\n    .dataframe thead th {\n        text-align: right;\n    }\n</style>\n<table border=\"1\" class=\"dataframe\">\n  <thead>\n    <tr style=\"text-align: right;\">\n      <th></th>\n      <th>molecule_chembl_id</th>\n      <th>pchembl_value</th>\n      <th>relation</th>\n      <th>type</th>\n      <th>value</th>\n    </tr>\n  </thead>\n  <tbody>\n    <tr>\n      <th>0</th>\n      <td>CHEMBL564450</td>\n      <td>9.85</td>\n      <td>=</td>\n      <td>IC50</td>\n      <td>0.00014</td>\n    </tr>\n    <tr>\n      <th>1</th>\n      <td>CHEMBL3957649</td>\n      <td>9.70</td>\n      <td>=</td>\n      <td>IC50</td>\n      <td>0.20000</td>\n    </tr>\n    <tr>\n      <th>2</th>\n      <td>CHEMBL3942619</td>\n      <td>9.70</td>\n      <td>=</td>\n      <td>IC50</td>\n      <td>0.20000</td>\n    </tr>\n    <tr>\n      <th>3</th>\n      <td>CHEMBL3963605</td>\n      <td>9.70</td>\n      <td>=</td>\n      <td>IC50</td>\n      <td>0.20000</td>\n    </tr>\n    <tr>\n      <th>4</th>\n      <td>CHEMBL2386090</td>\n      <td>9.70</td>\n      <td>=</td>\n      <td>IC50</td>\n      <td>0.20000</td>\n    </tr>\n  </tbody>\n</table>\n</div>"
     },
     "execution_count": 95,
     "metadata": {},
     "output_type": "execute_result"
    }
   ],
   "source": [
    "df_bioact = pd.read_csv(\"data/compuestos.csv\")\n",
    "df_bioact.head()"
   ],
   "metadata": {
    "collapsed": false,
    "pycharm": {
     "name": "#%%\n"
    }
   }
  },
  {
   "cell_type": "markdown",
   "id": "11f74443-157b-4a05-8619-846f9b0df968",
   "metadata": {
    "pycharm": {
     "name": "#%% md\n"
    }
   },
   "source": [
    "## Datos de los compuestos\n",
    "\n",
    "A continuación vamos a obtener los datos de las moléculas que estan almacenados dentro de cada molecule_chembl_id"
   ]
  },
  {
   "cell_type": "code",
   "execution_count": 101,
   "id": "77d28bf9-cc57-4907-b947-7079ae41f8e0",
   "metadata": {
    "pycharm": {
     "name": "#%%\n"
    }
   },
   "outputs": [],
   "source": [
    "# Cargamos el archivo antes guardado\n",
    "df_bioact = pd.read_csv(\"data/compuestos.csv\")"
   ]
  },
  {
   "cell_type": "code",
   "execution_count": 102,
   "id": "c96968a6-8b33-4a9b-8072-5c7db156fb88",
   "metadata": {
    "pycharm": {
     "name": "#%%\n"
    }
   },
   "outputs": [],
   "source": [
    "# Primero tenemos que obtener la lista de los compuestos que definimos como bioactivos\n",
    "lista_comp_id = list(df_bioact['molecule_chembl_id'])\n",
    "# Obtener la estructura de cada compuesto\n",
    "lista_compuestos = compounds.filter(molecule_chembl_id__in = lista_comp_id) \\\n",
    "                            .only('molecule_chembl_id','molecule_structures')"
   ]
  },
  {
   "cell_type": "code",
   "execution_count": 120,
   "id": "c7061d81-a918-4fa3-9e85-acf4d0882a0b",
   "metadata": {
    "pycharm": {
     "name": "#%%\n"
    }
   },
   "outputs": [
    {
     "name": "stdout",
     "output_type": "stream",
     "text": [
      "Total de compuestos es: 2291\n"
     ]
    },
    {
     "data": {
      "text/plain": "  molecule_chembl_id                                molecule_structures\n0         CHEMBL6246  {'canonical_smiles': 'O=c1oc2c(O)c(O)cc3c(=O)o...\n1         CHEMBL6291  {'canonical_smiles': 'Cn1cc(C2=C(c3cn(CCCSC(=N...\n2           CHEMBL28  {'canonical_smiles': 'O=c1cc(-c2ccc(O)cc2)oc2c...\n3         CHEMBL7463  {'canonical_smiles': 'CN(C)CCCn1cc(C2=C(c3c[nH...\n4           CHEMBL50  {'canonical_smiles': 'O=c1c(O)c(-c2ccc(O)c(O)c...",
      "text/html": "<div>\n<style scoped>\n    .dataframe tbody tr th:only-of-type {\n        vertical-align: middle;\n    }\n\n    .dataframe tbody tr th {\n        vertical-align: top;\n    }\n\n    .dataframe thead th {\n        text-align: right;\n    }\n</style>\n<table border=\"1\" class=\"dataframe\">\n  <thead>\n    <tr style=\"text-align: right;\">\n      <th></th>\n      <th>molecule_chembl_id</th>\n      <th>molecule_structures</th>\n    </tr>\n  </thead>\n  <tbody>\n    <tr>\n      <th>0</th>\n      <td>CHEMBL6246</td>\n      <td>{'canonical_smiles': 'O=c1oc2c(O)c(O)cc3c(=O)o...</td>\n    </tr>\n    <tr>\n      <th>1</th>\n      <td>CHEMBL6291</td>\n      <td>{'canonical_smiles': 'Cn1cc(C2=C(c3cn(CCCSC(=N...</td>\n    </tr>\n    <tr>\n      <th>2</th>\n      <td>CHEMBL28</td>\n      <td>{'canonical_smiles': 'O=c1cc(-c2ccc(O)cc2)oc2c...</td>\n    </tr>\n    <tr>\n      <th>3</th>\n      <td>CHEMBL7463</td>\n      <td>{'canonical_smiles': 'CN(C)CCCn1cc(C2=C(c3c[nH...</td>\n    </tr>\n    <tr>\n      <th>4</th>\n      <td>CHEMBL50</td>\n      <td>{'canonical_smiles': 'O=c1c(O)c(-c2ccc(O)c(O)c...</td>\n    </tr>\n  </tbody>\n</table>\n</div>"
     },
     "execution_count": 120,
     "metadata": {},
     "output_type": "execute_result"
    }
   ],
   "source": [
    "# Debemos convertir la lista obtenida en un dataframe. Esto puede tardar unos minutos\n",
    "df_comp = pd.DataFrame(lista_compuestos)\n",
    "# Eliminamos duplicados\n",
    "df_comp = df_comp.drop_duplicates('molecule_chembl_id', keep = 'first')\n",
    "# print(f'El número total de compuestos es: ' + str(len(dataframe_comp)))\n",
    "print(f'Total de compuestos es: {str(len(df_comp))}')\n",
    "df_comp.head()"
   ]
  },
  {
   "cell_type": "markdown",
   "id": "b28ba27f-1564-40ff-aaf2-873ddce01521",
   "metadata": {
    "pycharm": {
     "name": "#%% md\n"
    }
   },
   "source": [
    "Los compuestos tienen distintos tipos de representaciones como el SMILES, el InChI y el InChI Key. Nos interesa unicamente quedarnos con el SMILES ya que describe la estructura química."
   ]
  },
  {
   "cell_type": "code",
   "execution_count": 121,
   "id": "314eef2a-838b-459e-af78-3b3799d5db3e",
   "metadata": {
    "pycharm": {
     "name": "#%%\n"
    }
   },
   "outputs": [
    {
     "data": {
      "text/plain": "  molecule_chembl_id                                molecule_structures\n0         CHEMBL6246         O=c1oc2c(O)c(O)cc3c(=O)oc4c(O)c(O)cc1c4c23\n1         CHEMBL6291  Cn1cc(C2=C(c3cn(CCCSC(=N)N)c4ccccc34)C(=O)NC2=...\n2           CHEMBL28               O=c1cc(-c2ccc(O)cc2)oc2cc(O)cc(O)c12\n3         CHEMBL7463  CN(C)CCCn1cc(C2=C(c3c[nH]c4ccccc34)C(=O)NC2=O)...\n4           CHEMBL50         O=c1c(O)c(-c2ccc(O)c(O)c2)oc2cc(O)cc(O)c12",
      "text/html": "<div>\n<style scoped>\n    .dataframe tbody tr th:only-of-type {\n        vertical-align: middle;\n    }\n\n    .dataframe tbody tr th {\n        vertical-align: top;\n    }\n\n    .dataframe thead th {\n        text-align: right;\n    }\n</style>\n<table border=\"1\" class=\"dataframe\">\n  <thead>\n    <tr style=\"text-align: right;\">\n      <th></th>\n      <th>molecule_chembl_id</th>\n      <th>molecule_structures</th>\n    </tr>\n  </thead>\n  <tbody>\n    <tr>\n      <th>0</th>\n      <td>CHEMBL6246</td>\n      <td>O=c1oc2c(O)c(O)cc3c(=O)oc4c(O)c(O)cc1c4c23</td>\n    </tr>\n    <tr>\n      <th>1</th>\n      <td>CHEMBL6291</td>\n      <td>Cn1cc(C2=C(c3cn(CCCSC(=N)N)c4ccccc34)C(=O)NC2=...</td>\n    </tr>\n    <tr>\n      <th>2</th>\n      <td>CHEMBL28</td>\n      <td>O=c1cc(-c2ccc(O)cc2)oc2cc(O)cc(O)c12</td>\n    </tr>\n    <tr>\n      <th>3</th>\n      <td>CHEMBL7463</td>\n      <td>CN(C)CCCn1cc(C2=C(c3c[nH]c4ccccc34)C(=O)NC2=O)...</td>\n    </tr>\n    <tr>\n      <th>4</th>\n      <td>CHEMBL50</td>\n      <td>O=c1c(O)c(-c2ccc(O)c(O)c2)oc2cc(O)cc(O)c12</td>\n    </tr>\n  </tbody>\n</table>\n</div>"
     },
     "execution_count": 121,
     "metadata": {},
     "output_type": "execute_result"
    }
   ],
   "source": [
    "for i, cmpd in df_comp.iterrows():\n",
    "    if df_comp.loc[i]['molecule_structures'] is not None:\n",
    "        df_comp.loc[i]['molecule_structures'] = cmpd['molecule_structures']['canonical_smiles']\n",
    "\n",
    "df_comp.head()"
   ]
  },
  {
   "cell_type": "markdown",
   "id": "16416518-adc0-461c-8ba8-1cd0d8c8f03d",
   "metadata": {
    "pycharm": {
     "name": "#%% md\n"
    }
   },
   "source": [
    "## Combinar los Dataframe\n",
    "\n",
    "Ahora tenemos dos dataframes que vamos a combinar para tener todos los datos en uno solo dataframe y poder guardarlos"
   ]
  },
  {
   "cell_type": "code",
   "execution_count": 122,
   "id": "c2aeec75-3767-4444-a6c7-8875303f87a8",
   "metadata": {
    "pycharm": {
     "name": "#%%\n"
    }
   },
   "outputs": [
    {
     "name": "stdout",
     "output_type": "stream",
     "text": [
      "Total de compuestos es: 2291\n"
     ]
    },
    {
     "data": {
      "text/plain": "  molecule_chembl_id  pchembl_value  \\\n0       CHEMBL564450           9.85   \n1      CHEMBL3957649           9.70   \n2      CHEMBL3942619           9.70   \n3      CHEMBL3963605           9.70   \n4      CHEMBL2386090           9.70   \n\n                                 molecule_structures  \n0  COc1cc(C2=C(c3cn(CCN4CCN(C)CC4)c4ccccc34)C(=O)...  \n1        Nc1ncc(-c2ccccc2F)nc1C(=O)Nc1cnccc1N1CCNCC1  \n2  COc1ccc(-c2cnc(N)c(C(=O)Nc3cnccc3N3CCC(N)CC3)n...  \n3      Nc1ncc(-c2ccccc2)nc1C(=O)Nc1cnccc1N1CCC(N)CC1  \n4  O=C1NC(=O)C(c2cn3c4c(cccc24)CN(C(=O)c2cnccn2)C...  ",
      "text/html": "<div>\n<style scoped>\n    .dataframe tbody tr th:only-of-type {\n        vertical-align: middle;\n    }\n\n    .dataframe tbody tr th {\n        vertical-align: top;\n    }\n\n    .dataframe thead th {\n        text-align: right;\n    }\n</style>\n<table border=\"1\" class=\"dataframe\">\n  <thead>\n    <tr style=\"text-align: right;\">\n      <th></th>\n      <th>molecule_chembl_id</th>\n      <th>pchembl_value</th>\n      <th>molecule_structures</th>\n    </tr>\n  </thead>\n  <tbody>\n    <tr>\n      <th>0</th>\n      <td>CHEMBL564450</td>\n      <td>9.85</td>\n      <td>COc1cc(C2=C(c3cn(CCN4CCN(C)CC4)c4ccccc34)C(=O)...</td>\n    </tr>\n    <tr>\n      <th>1</th>\n      <td>CHEMBL3957649</td>\n      <td>9.70</td>\n      <td>Nc1ncc(-c2ccccc2F)nc1C(=O)Nc1cnccc1N1CCNCC1</td>\n    </tr>\n    <tr>\n      <th>2</th>\n      <td>CHEMBL3942619</td>\n      <td>9.70</td>\n      <td>COc1ccc(-c2cnc(N)c(C(=O)Nc3cnccc3N3CCC(N)CC3)n...</td>\n    </tr>\n    <tr>\n      <th>3</th>\n      <td>CHEMBL3963605</td>\n      <td>9.70</td>\n      <td>Nc1ncc(-c2ccccc2)nc1C(=O)Nc1cnccc1N1CCC(N)CC1</td>\n    </tr>\n    <tr>\n      <th>4</th>\n      <td>CHEMBL2386090</td>\n      <td>9.70</td>\n      <td>O=C1NC(=O)C(c2cn3c4c(cccc24)CN(C(=O)c2cnccn2)C...</td>\n    </tr>\n  </tbody>\n</table>\n</div>"
     },
     "execution_count": 122,
     "metadata": {},
     "output_type": "execute_result"
    }
   ],
   "source": [
    "# En el Dataframe de bioactividad se filtran solamente dos columnas\n",
    "df_output = pd.merge(df_bioact[['molecule_chembl_id','pchembl_value']], df_comp, on='molecule_chembl_id')\n",
    "print(f'Total de compuestos es: {str(len(df_output))}')\n",
    "df_output.head()"
   ]
  },
  {
   "cell_type": "markdown",
   "id": "153402ff-b090-48f6-9a92-aff104c892e4",
   "metadata": {
    "pycharm": {
     "name": "#%% md\n"
    }
   },
   "source": [
    "Se pueden renombrar las columnas"
   ]
  },
  {
   "cell_type": "code",
   "execution_count": 126,
   "id": "cfaff736-a9ee-4547-be51-d77260de6f9f",
   "metadata": {
    "pycharm": {
     "name": "#%%\n"
    }
   },
   "outputs": [
    {
     "name": "stdout",
     "output_type": "stream",
     "text": [
      "Total de compuestos es: 2291\n"
     ]
    },
    {
     "data": {
      "text/plain": "  molecule_chembl_id  pIC50                                             smiles\n0       CHEMBL564450   9.85  COc1cc(C2=C(c3cn(CCN4CCN(C)CC4)c4ccccc34)C(=O)...\n1      CHEMBL3957649   9.70        Nc1ncc(-c2ccccc2F)nc1C(=O)Nc1cnccc1N1CCNCC1\n2      CHEMBL3942619   9.70  COc1ccc(-c2cnc(N)c(C(=O)Nc3cnccc3N3CCC(N)CC3)n...\n3      CHEMBL3963605   9.70      Nc1ncc(-c2ccccc2)nc1C(=O)Nc1cnccc1N1CCC(N)CC1\n4      CHEMBL2386090   9.70  O=C1NC(=O)C(c2cn3c4c(cccc24)CN(C(=O)c2cnccn2)C...",
      "text/html": "<div>\n<style scoped>\n    .dataframe tbody tr th:only-of-type {\n        vertical-align: middle;\n    }\n\n    .dataframe tbody tr th {\n        vertical-align: top;\n    }\n\n    .dataframe thead th {\n        text-align: right;\n    }\n</style>\n<table border=\"1\" class=\"dataframe\">\n  <thead>\n    <tr style=\"text-align: right;\">\n      <th></th>\n      <th>molecule_chembl_id</th>\n      <th>pIC50</th>\n      <th>smiles</th>\n    </tr>\n  </thead>\n  <tbody>\n    <tr>\n      <th>0</th>\n      <td>CHEMBL564450</td>\n      <td>9.85</td>\n      <td>COc1cc(C2=C(c3cn(CCN4CCN(C)CC4)c4ccccc34)C(=O)...</td>\n    </tr>\n    <tr>\n      <th>1</th>\n      <td>CHEMBL3957649</td>\n      <td>9.70</td>\n      <td>Nc1ncc(-c2ccccc2F)nc1C(=O)Nc1cnccc1N1CCNCC1</td>\n    </tr>\n    <tr>\n      <th>2</th>\n      <td>CHEMBL3942619</td>\n      <td>9.70</td>\n      <td>COc1ccc(-c2cnc(N)c(C(=O)Nc3cnccc3N3CCC(N)CC3)n...</td>\n    </tr>\n    <tr>\n      <th>3</th>\n      <td>CHEMBL3963605</td>\n      <td>9.70</td>\n      <td>Nc1ncc(-c2ccccc2)nc1C(=O)Nc1cnccc1N1CCC(N)CC1</td>\n    </tr>\n    <tr>\n      <th>4</th>\n      <td>CHEMBL2386090</td>\n      <td>9.70</td>\n      <td>O=C1NC(=O)C(c2cn3c4c(cccc24)CN(C(=O)c2cnccn2)C...</td>\n    </tr>\n  </tbody>\n</table>\n</div>"
     },
     "execution_count": 126,
     "metadata": {},
     "output_type": "execute_result"
    }
   ],
   "source": [
    "df_output = df_output.rename(columns= {'molecule_structures':'smiles', 'pchembl_value':'pIC50'})\n",
    "print(f'Total de compuestos es: {str(len(df_output))}')\n",
    "df_output.head()"
   ]
  },
  {
   "cell_type": "markdown",
   "id": "aba828e0-2ab3-4a0d-a638-35f81d237f7e",
   "metadata": {
    "pycharm": {
     "name": "#%% md\n"
    }
   },
   "source": [
    "Para poder emplear la siguiente función de rdkit es necesario que todos los compuestos tenga SMILES, por esto eliminamos los compuestos sin SMILES en el dataframe"
   ]
  },
  {
   "cell_type": "code",
   "execution_count": 127,
   "id": "b680a0e6-1220-4078-a235-40c2fc86173d",
   "metadata": {
    "pycharm": {
     "name": "#%%\n"
    }
   },
   "outputs": [
    {
     "name": "stdout",
     "output_type": "stream",
     "text": [
      "Total de compuestos es: 2291\n"
     ]
    },
    {
     "data": {
      "text/plain": "  molecule_chembl_id  pIC50                                             smiles\n0       CHEMBL564450   9.85  COc1cc(C2=C(c3cn(CCN4CCN(C)CC4)c4ccccc34)C(=O)...\n1      CHEMBL3957649   9.70        Nc1ncc(-c2ccccc2F)nc1C(=O)Nc1cnccc1N1CCNCC1\n2      CHEMBL3942619   9.70  COc1ccc(-c2cnc(N)c(C(=O)Nc3cnccc3N3CCC(N)CC3)n...\n3      CHEMBL3963605   9.70      Nc1ncc(-c2ccccc2)nc1C(=O)Nc1cnccc1N1CCC(N)CC1\n4      CHEMBL2386090   9.70  O=C1NC(=O)C(c2cn3c4c(cccc24)CN(C(=O)c2cnccn2)C...",
      "text/html": "<div>\n<style scoped>\n    .dataframe tbody tr th:only-of-type {\n        vertical-align: middle;\n    }\n\n    .dataframe tbody tr th {\n        vertical-align: top;\n    }\n\n    .dataframe thead th {\n        text-align: right;\n    }\n</style>\n<table border=\"1\" class=\"dataframe\">\n  <thead>\n    <tr style=\"text-align: right;\">\n      <th></th>\n      <th>molecule_chembl_id</th>\n      <th>pIC50</th>\n      <th>smiles</th>\n    </tr>\n  </thead>\n  <tbody>\n    <tr>\n      <th>0</th>\n      <td>CHEMBL564450</td>\n      <td>9.85</td>\n      <td>COc1cc(C2=C(c3cn(CCN4CCN(C)CC4)c4ccccc34)C(=O)...</td>\n    </tr>\n    <tr>\n      <th>1</th>\n      <td>CHEMBL3957649</td>\n      <td>9.70</td>\n      <td>Nc1ncc(-c2ccccc2F)nc1C(=O)Nc1cnccc1N1CCNCC1</td>\n    </tr>\n    <tr>\n      <th>2</th>\n      <td>CHEMBL3942619</td>\n      <td>9.70</td>\n      <td>COc1ccc(-c2cnc(N)c(C(=O)Nc3cnccc3N3CCC(N)CC3)n...</td>\n    </tr>\n    <tr>\n      <th>3</th>\n      <td>CHEMBL3963605</td>\n      <td>9.70</td>\n      <td>Nc1ncc(-c2ccccc2)nc1C(=O)Nc1cnccc1N1CCC(N)CC1</td>\n    </tr>\n    <tr>\n      <th>4</th>\n      <td>CHEMBL2386090</td>\n      <td>9.70</td>\n      <td>O=C1NC(=O)C(c2cn3c4c(cccc24)CN(C(=O)c2cnccn2)C...</td>\n    </tr>\n  </tbody>\n</table>\n</div>"
     },
     "execution_count": 127,
     "metadata": {},
     "output_type": "execute_result"
    }
   ],
   "source": [
    "df_output = df_output[~df_output['smiles'].isnull()]\n",
    "print(f'Total de compuestos es: {str(len(df_output))}')\n",
    "df_output.head()"
   ]
  },
  {
   "cell_type": "markdown",
   "id": "bf8ab5d4-0762-4983-ad1b-bff5e5d82357",
   "metadata": {
    "pycharm": {
     "name": "#%% md\n"
    }
   },
   "source": [
    "## Dibujar la molécula\n",
    "\n",
    "Vamos a añadir una nueva columna al dataframe con la función `.AddMoleculeColumnToFrame` la cual convierte las moléculas contenidas en \"smilesCol\" en moléculas RDKit y las agrega al dataframe"
   ]
  },
  {
   "cell_type": "code",
   "execution_count": 128,
   "id": "fdf4de68-a012-464c-93ee-4f316a4d950d",
   "metadata": {
    "pycharm": {
     "name": "#%%\n"
    }
   },
   "outputs": [
    {
     "data": {
      "text/plain": "  molecule_chembl_id  pIC50  \\\n0       CHEMBL564450   9.85   \n1      CHEMBL3957649   9.70   \n2      CHEMBL3942619   9.70   \n3      CHEMBL3963605   9.70   \n4      CHEMBL2386090   9.70   \n\n                                              smiles  \\\n0  COc1cc(C2=C(c3cn(CCN4CCN(C)CC4)c4ccccc34)C(=O)...   \n1        Nc1ncc(-c2ccccc2F)nc1C(=O)Nc1cnccc1N1CCNCC1   \n2  COc1ccc(-c2cnc(N)c(C(=O)Nc3cnccc3N3CCC(N)CC3)n...   \n3      Nc1ncc(-c2ccccc2)nc1C(=O)Nc1cnccc1N1CCC(N)CC1   \n4  O=C1NC(=O)C(c2cn3c4c(cccc24)CN(C(=O)c2cnccn2)C...   \n\n                                               ROMol  \n0  <img data-content=\"rdkit/molecule\" src=\"data:i...  \n1  <img data-content=\"rdkit/molecule\" src=\"data:i...  \n2  <img data-content=\"rdkit/molecule\" src=\"data:i...  \n3  <img data-content=\"rdkit/molecule\" src=\"data:i...  \n4  <img data-content=\"rdkit/molecule\" src=\"data:i...  ",
      "text/html": "<div>\n<style scoped>\n    .dataframe tbody tr th:only-of-type {\n        vertical-align: middle;\n    }\n\n    .dataframe tbody tr th {\n        vertical-align: top;\n    }\n\n    .dataframe thead th {\n        text-align: right;\n    }\n</style>\n<table border=\"1\" class=\"dataframe\">\n  <thead>\n    <tr style=\"text-align: right;\">\n      <th></th>\n      <th>molecule_chembl_id</th>\n      <th>pIC50</th>\n      <th>smiles</th>\n      <th>ROMol</th>\n    </tr>\n  </thead>\n  <tbody>\n    <tr>\n      <th>0</th>\n      <td>CHEMBL564450</td>\n      <td>9.85</td>\n      <td>COc1cc(C2=C(c3cn(CCN4CCN(C)CC4)c4ccccc34)C(=O)...</td>\n      <td>&lt;img data-content=\"rdkit/molecule\" src=\"data:image/png;base64,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\" alt=\"Mol\"/&gt;</td>\n    </tr>\n    <tr>\n      <th>1</th>\n      <td>CHEMBL3957649</td>\n      <td>9.70</td>\n      <td>Nc1ncc(-c2ccccc2F)nc1C(=O)Nc1cnccc1N1CCNCC1</td>\n      <td>&lt;img data-content=\"rdkit/molecule\" src=\"data:image/png;base64,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\" alt=\"Mol\"/&gt;</td>\n    </tr>\n    <tr>\n      <th>2</th>\n      <td>CHEMBL3942619</td>\n      <td>9.70</td>\n      <td>COc1ccc(-c2cnc(N)c(C(=O)Nc3cnccc3N3CCC(N)CC3)n...</td>\n      <td>&lt;img data-content=\"rdkit/molecule\" src=\"data:image/png;base64,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\" alt=\"Mol\"/&gt;</td>\n    </tr>\n    <tr>\n      <th>3</th>\n      <td>CHEMBL3963605</td>\n      <td>9.70</td>\n      <td>Nc1ncc(-c2ccccc2)nc1C(=O)Nc1cnccc1N1CCC(N)CC1</td>\n      <td>&lt;img data-content=\"rdkit/molecule\" src=\"data:image/png;base64,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\" alt=\"Mol\"/&gt;</td>\n    </tr>\n    <tr>\n      <th>4</th>\n      <td>CHEMBL2386090</td>\n      <td>9.70</td>\n      <td>O=C1NC(=O)C(c2cn3c4c(cccc24)CN(C(=O)c2cnccn2)C...</td>\n      <td>&lt;img data-content=\"rdkit/molecule\" src=\"data:image/png;base64,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\" alt=\"Mol\"/&gt;</td>\n    </tr>\n  </tbody>\n</table>\n</div>"
     },
     "execution_count": 128,
     "metadata": {},
     "output_type": "execute_result"
    }
   ],
   "source": [
    "PandasTools.AddMoleculeColumnToFrame(df_output, smilesCol='smiles')\n",
    "df_output.head()"
   ]
  },
  {
   "cell_type": "markdown",
   "source": [
    "Ahora podemos llamar a cualquier compuesto para ver su representación en 2D"
   ],
   "metadata": {
    "collapsed": false,
    "pycharm": {
     "name": "#%% md\n"
    }
   }
  },
  {
   "cell_type": "code",
   "execution_count": 139,
   "outputs": [
    {
     "data": {
      "text/plain": "<rdkit.Chem.rdchem.Mol at 0x1efaa5089a0>",
      "image/png": "[encoded data removed]"
     },
     "execution_count": 139,
     "metadata": {},
     "output_type": "execute_result"
    }
   ],
   "source": [
    "df_output.ROMol.iloc[0]"
   ],
   "metadata": {
    "collapsed": false,
    "pycharm": {
     "name": "#%%\n"
    }
   }
  },
  {
   "cell_type": "markdown",
   "id": "3d27814b-50c3-476e-8eb4-2784d28a7cd1",
   "metadata": {
    "pycharm": {
     "name": "#%% md\n"
    }
   },
   "source": [
    "## Guardar el dataframe obtenido\n",
    "\n",
    "Se va a guardar el dataframe como un archivo csv"
   ]
  },
  {
   "cell_type": "code",
   "execution_count": 140,
   "id": "1887019d-902a-4e22-b721-7239dd9533a6",
   "metadata": {
    "pycharm": {
     "name": "#%%\n"
    }
   },
   "outputs": [],
   "source": [
    "df_output.to_csv(\"data/GSK3B_compounds.csv\", index=0)"
   ]
  },
  {
   "cell_type": "markdown",
   "id": "eb180565-c7d3-4f26-bb57-f4f7360a57e4",
   "metadata": {
    "pycharm": {
     "name": "#%% md\n"
    }
   },
   "source": [
    "## Actividad práctica\n",
    "Teniendo en cuenta lo aprendido en este Notebook, responda:\n",
    "1.\t¿Qué otros datos podemos obtener de ChEMBL del target de interés?\n",
    "2.\t¿Se podría realizar una nueva clasificación de los compuestos filtrándolos únicamente por el pEC50?, compruébelo y observe las diferencias\n",
    "3.\tObtenga los datos conocidos de los compuestos, referentes a inhibición y actividad."
   ]
  },
  {
   "cell_type": "markdown",
   "id": "caf9d893-0c03-402a-89d8-f2cc46c18ede",
   "metadata": {
    "pycharm": {
     "name": "#%% md\n"
    }
   },
   "source": [
    "## Conclusiones\n",
    "En esta práctica se empleó la base de datos ChEMBL para obtener datos de compuestos bioactivos frente a nuestro target de interés. Estos datos extraídos en forma de diccionarios y listas se convirtieron en un `DataFrame` el cual permite visualizar fácilmente la información obtenida. Además, se obtuvieron datos de los compuestos bioactivos, combinaron DataFrames, se renombraron columnas y se utilizó una herramienta de `pandas` para añadir columnas al DataFrame."
   ]
  }
 ],
 "metadata": {
  "kernelspec": {
   "display_name": "Python 3 (ipykernel)",
   "language": "python",
   "name": "python3"
  },
  "language_info": {
   "codemirror_mode": {
    "name": "ipython",
    "version": 3
   },
   "file_extension": ".py",
   "mimetype": "text/x-python",
   "name": "python",
   "nbconvert_exporter": "python",
   "pygments_lexer": "ipython3",
   "version": "3.8.13"
  }
 },
 "nbformat": 4,
 "nbformat_minor": 5
}