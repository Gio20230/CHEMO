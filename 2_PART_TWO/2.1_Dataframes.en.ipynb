{
 "cells": [
  {
   "cell_type": "markdown",
   "metadata": {},
   "source": [
    "# Introduction to handling advanced Data Structures with Pandas\n",
    "\n",
    "## Numpy Library\n",
    "\n",
    "*Numpy* is a fundamental Python library for scientific computing. Among its features is the creation of multidimensional arrays, which can be treated as vectors, and is very fast when performing mathematical operations on them. Which makes it a necessary tool for projects with high computing and mathematical calculation requirements and that is why it is so popular in the scientific ecosystem.\n",
    "\n",
    "### Math Operations with Numpy Arrays\n",
    "\n",
    "To get started, we'll import the library and create our first Numpy Array, then affect it with some basic math. It is common to rename the `Numpy` library as `np`."
   ]
  },
  {
   "cell_type": "code",
   "execution_count": 1,
   "metadata": {},
   "outputs": [
    {
     "data": {
      "text/plain": [
       "array([ 0,  1,  2,  3,  4,  5,  6,  7,  8,  9, 10])"
      ]
     },
     "execution_count": 1,
     "metadata": {},
     "output_type": "execute_result"
    }
   ],
   "source": [
    "# The numpy library is imported. The acronym for the numpy library is usually np.\n",
    "import numpy as np\n",
    "\n",
    "# Create an array of numbers\n",
    "nums = np.array([0, 1, 2, 3, 4, 5, 6, 7, 8, 9, 10])\n",
    "\n",
    "# print the value of the array\n",
    "nums"
   ]
  },
  {
   "cell_type": "markdown",
   "metadata": {},
   "source": [
    "**It is worth mentioning that a Numpy array is very similar to a native Python list.** The main difference lies in the type of mathematical ordering operations that can be performed on a library array and the native lists of Python. python.\n",
    "\n",
    "Let's take as a starting point the sum of two `Numpy` arrays, compared to a Python sum of lists:"
   ]
  },
  {
   "cell_type": "code",
   "execution_count": 2,
   "metadata": {},
   "outputs": [
    {
     "data": {
      "text/plain": [
       "array([ 0,  2,  4,  6,  8, 10, 12, 14, 16, 18, 20])"
      ]
     },
     "execution_count": 2,
     "metadata": {},
     "output_type": "execute_result"
    }
   ],
   "source": [
    "# Print the sum of the Numpy array\n",
    "nums+nums"
   ]
  },
  {
   "cell_type": "markdown",
   "metadata": {},
   "source": [
    "The size of the list was kept, but its elements were added, and this is the potential and simplicity of Numpy arrays, and because of its vast use in the scientific world.\n",
    "\n",
    "Let's look at equivalent code with a native Python list:"
   ]
  },
  {
   "cell_type": "code",
   "execution_count": 3,
   "metadata": {},
   "outputs": [
    {
     "data": {
      "text/plain": [
       "[0, 2, 4, 6, 8, 10, 12, 14, 16, 18, 20]"
      ]
     },
     "execution_count": 3,
     "metadata": {},
     "output_type": "execute_result"
    }
   ],
   "source": [
    "# Compressed list with addition of its elements\n",
    "list_nums = [0, 1, 2, 3, 4, 5, 6, 7, 8, 9, 10]\n",
    "[x + x for x in list_nums]"
   ]
  },
  {
   "cell_type": "markdown",
   "metadata": {},
   "source": [
    "We don't think it's complicated to be creating Python *list comprehensions*, but it would clearly reduce the lines of code in our program using **Numpy** arrays. And it would be impossible to achieve it if we need to add two lists.\n",
    "\n",
    "*Numpy arrays* can also perform the other operations following the same pattern:\n",
    "\n",
    "```markdown\n",
    "<numpy_array> <operation (+, -, *, /)> <numpy_array>\n",
    "```\n",
    "*Let's be careful with division if there are zeros in the denominator, remember that it is not possible to divide by zero, in which case an error would appear*\n",
    "\n",
    "Now, to see the potential of Numpy arrays, what would happen if we tried to add two arrays of size $n$, let's talk arrays of $10,000,000 elements?"
   ]
  },
  {
   "cell_type": "code",
   "execution_count": 4,
   "metadata": {},
   "outputs": [
    {
     "name": "stdout",
     "output_type": "stream",
     "text": [
      "[42  6 10 ...  0  5  0]\n"
     ]
    }
   ],
   "source": [
    "#Numpy library is imported\n",
    "import numpy as np\n",
    "\n",
    "# Two arrays with 1 million elements are created, where each element has a random value between 0-10\n",
    "x = np.random.choice(10, 1000000)\n",
    "y = np.random.choice(10, 1000000)\n",
    "\n",
    "print(x * y)"
   ]
  },
  {
   "cell_type": "markdown",
   "metadata": {},
   "source": [
    "Did you see it? The multiplication took just milliseconds. And that's where it makes using the library worthwhile."
   ]
  },
  {
   "cell_type": "markdown",
   "metadata": {},
   "source": [
    "## Introduction to the Panda Series\n",
    "\n",
    "Before talking about Dataframes it is important that we do a little review about the **Series**, at the same time we will begin to interact with the Pandas library.\n",
    "\n",
    "**`Pandas`** is a Python library (like `Numpy`), which is characterized by providing data structures that are fast processing, that are easy to express to make working with relational data it's easy and intuitive. [More information here](https://pandas.pydata.org/docs/getting_started/overview.html)\n",
    "\n",
    "What is a Serie? How do you create a Serie? Let's see the answers to these questions:\n",
    "\n",
    "Series are a type of one-dimensional structure *(1D)* very similar to an array, with the characteristic that we can label its data to a certain extent through indices.\n",
    "\n",
    "To study the potential of the series we are going to interact with the `iris.data` file (./data/iris.data) that comes from the data repository of the [UCI Machine Learning](https://archive-beta.ics.uci.edu/)."
   ]
  },
  {
   "cell_type": "code",
   "execution_count": 5,
   "metadata": {},
   "outputs": [
    {
     "data": {
      "text/plain": [
       "0         [5.1, 3.5, 1.4, 0.2, Iris-setosa]\n",
       "1         [4.9, 3.0, 1.4, 0.2, Iris-setosa]\n",
       "2         [4.7, 3.2, 1.3, 0.2, Iris-setosa]\n",
       "3         [4.6, 3.1, 1.5, 0.2, Iris-setosa]\n",
       "4         [5.0, 3.6, 1.4, 0.2, Iris-setosa]\n",
       "                       ...                 \n",
       "145    [6.7, 3.0, 5.2, 2.3, Iris-virginica]\n",
       "146    [6.3, 2.5, 5.0, 1.9, Iris-virginica]\n",
       "147    [6.5, 3.0, 5.2, 2.0, Iris-virginica]\n",
       "148    [6.2, 3.4, 5.4, 2.3, Iris-virginica]\n",
       "149    [5.9, 3.0, 5.1, 1.8, Iris-virginica]\n",
       "Length: 150, dtype: object"
      ]
     },
     "execution_count": 5,
     "metadata": {},
     "output_type": "execute_result"
    }
   ],
   "source": [
    "import pandas as pd\n",
    "\n",
    "# The iris.data file is imported and its contents are read\n",
    "with open(\"data/iris.data\", \"r\") as DATA:\n",
    "     iris_dataset = DATA.read()\n",
    "\n",
    "# The dataset is cleaned and the series is built from the array generated by the `split`\n",
    "iris_dataset = iris_dataset.split('\\n')\n",
    "iris_dataset = [i.split(',') for i in iris_dataset]\n",
    "\n",
    "# The series will be created with the dataset data\n",
    "iris_series = pd.Series(iris_dataset)\n",
    "\n",
    "# print the string\n",
    "iris_series"
   ]
  },
  {
   "cell_type": "markdown",
   "metadata": {},
   "source": [
    "*From now on whenever we want to display the content of a series and/or a Dataframe we will use the `head` method, which only displays the first data and not the entire set.*\n",
    "\n",
    "And that's how easy a basic but powerful data structure is built that gives us the *Pandas* library. Let's explore what we have:\n",
    "\n",
    "- Each row is a one-dimensional array with five elements, $152$ rows were printed, each with a list of 5 elements, plus the enumeration column.\n",
    "\n",
    "- The *series* as well as the lists and arrays of *Numpy* have methods and their manipulation is also achieved through indexing."
   ]
  },
  {
   "cell_type": "code",
   "execution_count": 6,
   "metadata": {},
   "outputs": [
    {
     "data": {
      "text/plain": [
       "0    [5.1, 3.5, 1.4, 0.2, Iris-setosa]\n",
       "1    [4.9, 3.0, 1.4, 0.2, Iris-setosa]\n",
       "2    [4.7, 3.2, 1.3, 0.2, Iris-setosa]\n",
       "3    [4.6, 3.1, 1.5, 0.2, Iris-setosa]\n",
       "4    [5.0, 3.6, 1.4, 0.2, Iris-setosa]\n",
       "dtype: object"
      ]
     },
     "execution_count": 6,
     "metadata": {},
     "output_type": "execute_result"
    }
   ],
   "source": [
    "# Example 1: The first data in the series is printed using the head method.\n",
    "iris_series.head()"
   ]
  },
  {
   "cell_type": "markdown",
   "metadata": {},
   "source": [
    "Another useful method is the `index` method, it returns the list of indices and their range."
   ]
  },
  {
   "cell_type": "code",
   "execution_count": 7,
   "metadata": {},
   "outputs": [
    {
     "data": {
      "text/plain": [
       "RangeIndex(start=0, stop=150, step=1)"
      ]
     },
     "execution_count": 7,
     "metadata": {},
     "output_type": "execute_result"
    }
   ],
   "source": [
    "# The array indices are printed, in this case it refers to the first column serie_de_iris.index\n",
    "iris_series.index"
   ]
  },
  {
   "cell_type": "markdown",
   "metadata": {},
   "source": [
    "What if we wanted to access the elements of position $120$ and up:"
   ]
  },
  {
   "cell_type": "code",
   "execution_count": 8,
   "metadata": {},
   "outputs": [
    {
     "data": {
      "text/plain": [
       "120    [6.9, 3.2, 5.7, 2.3, Iris-virginica]\n",
       "121    [5.6, 2.8, 4.9, 2.0, Iris-virginica]\n",
       "122    [7.7, 2.8, 6.7, 2.0, Iris-virginica]\n",
       "123    [6.3, 2.7, 4.9, 1.8, Iris-virginica]\n",
       "124    [6.7, 3.3, 5.7, 2.1, Iris-virginica]\n",
       "125    [7.2, 3.2, 6.0, 1.8, Iris-virginica]\n",
       "126    [6.2, 2.8, 4.8, 1.8, Iris-virginica]\n",
       "127    [6.1, 3.0, 4.9, 1.8, Iris-virginica]\n",
       "128    [6.4, 2.8, 5.6, 2.1, Iris-virginica]\n",
       "129    [7.2, 3.0, 5.8, 1.6, Iris-virginica]\n",
       "130    [7.4, 2.8, 6.1, 1.9, Iris-virginica]\n",
       "131    [7.9, 3.8, 6.4, 2.0, Iris-virginica]\n",
       "132    [6.4, 2.8, 5.6, 2.2, Iris-virginica]\n",
       "133    [6.3, 2.8, 5.1, 1.5, Iris-virginica]\n",
       "134    [6.1, 2.6, 5.6, 1.4, Iris-virginica]\n",
       "135    [7.7, 3.0, 6.1, 2.3, Iris-virginica]\n",
       "136    [6.3, 3.4, 5.6, 2.4, Iris-virginica]\n",
       "137    [6.4, 3.1, 5.5, 1.8, Iris-virginica]\n",
       "138    [6.0, 3.0, 4.8, 1.8, Iris-virginica]\n",
       "139    [6.9, 3.1, 5.4, 2.1, Iris-virginica]\n",
       "140    [6.7, 3.1, 5.6, 2.4, Iris-virginica]\n",
       "141    [6.9, 3.1, 5.1, 2.3, Iris-virginica]\n",
       "142    [5.8, 2.7, 5.1, 1.9, Iris-virginica]\n",
       "143    [6.8, 3.2, 5.9, 2.3, Iris-virginica]\n",
       "144    [6.7, 3.3, 5.7, 2.5, Iris-virginica]\n",
       "145    [6.7, 3.0, 5.2, 2.3, Iris-virginica]\n",
       "146    [6.3, 2.5, 5.0, 1.9, Iris-virginica]\n",
       "147    [6.5, 3.0, 5.2, 2.0, Iris-virginica]\n",
       "148    [6.2, 3.4, 5.4, 2.3, Iris-virginica]\n",
       "149    [5.9, 3.0, 5.1, 1.8, Iris-virginica]\n",
       "dtype: object"
      ]
     },
     "execution_count": 8,
     "metadata": {},
     "output_type": "execute_result"
    }
   ],
   "source": [
    "# Print the elements from position 100 onwards\n",
    "iris_series[120:]"
   ]
  },
  {
   "cell_type": "markdown",
   "metadata": {},
   "source": [
    "As a *Series* is a one-dimensional *(1D)* array, each row contains all the information returned by the original dataset, represented in a native *Python* array for manipulation. **Technically this makes it difficult** to manipulate the data within each series (for example, finding the mean of the first column, which leads to us wasting the native functionality of a Series, because we would have to create a new one). series for each column of data, then inefficient series.\n",
    "\n",
    "Let's see an example of how to extract the values of the first column in question, for this, we start loading the original dataset again but this time we only take the first column:"
   ]
  },
  {
   "cell_type": "code",
   "execution_count": 9,
   "metadata": {},
   "outputs": [
    {
     "data": {
      "text/plain": [
       "0      5.1\n",
       "1      4.9\n",
       "2      4.7\n",
       "3      4.6\n",
       "4      5.0\n",
       "      ... \n",
       "145    6.7\n",
       "146    6.3\n",
       "147    6.5\n",
       "148    6.2\n",
       "149    5.9\n",
       "Length: 150, dtype: float64"
      ]
     },
     "execution_count": 9,
     "metadata": {},
     "output_type": "execute_result"
    }
   ],
   "source": [
    "import pandas as pd\n",
    "\n",
    "with open(\"data/iris.data\", \"r\") as DATA:\n",
    "     iris_dataset = DATA.read()\n",
    "\n",
    "# The dataset is cleaned and the series is built from the array generated by the `split`\n",
    "iris_dataset = iris_dataset.split('\\n')\n",
    "\n",
    "# The first column is extracted from the dataset and its data is converted to float type\n",
    "iris_dataset = [float(j[0]) if j[0] != '' else 0 for j in [i.split(',') for i in iris_dataset]]\n",
    "\n",
    "# The series is created with the dataset data\n",
    "iris_series_col_1 = pd.Series(iris_dataset)\n",
    "\n",
    "# The series is printed with the first column of the dataset\n",
    "iris_series_col_1"
   ]
  },
  {
   "cell_type": "markdown",
   "metadata": {},
   "source": [
    "And now if we can find some statistics as the mean of all the values, and we'll use *Numpy* for this:"
   ]
  },
  {
   "cell_type": "code",
   "execution_count": 10,
   "metadata": {},
   "outputs": [
    {
     "name": "stdout",
     "output_type": "stream",
     "text": [
      "Average data size:\n"
     ]
    },
    {
     "data": {
      "text/plain": [
       "5.843333333333335"
      ]
     },
     "execution_count": 10,
     "metadata": {},
     "output_type": "execute_result"
    }
   ],
   "source": [
    "import numpy as np\n",
    "\n",
    "# The mean of the series is calculated from the mean method of numpy\n",
    "print('Average data size:')\n",
    "np.mean(iris_series_col_1)"
   ]
  },
  {
   "cell_type": "markdown",
   "metadata": {},
   "source": [
    "Due to the limitations of the *Series (as we saw previously)* we will have to give way to a new data structure, and this is where the *Dataframes* come into play. But how about we first describe the columns coming from our dataset?\n",
    "\n",
    "According to the description found on the page we know that it has the following structure:\n",
    "\n",
    "| no | Column | Data type | Possible Values ​​|\n",
    "|-----|:---------------------:|--------------:|:--- --------------------------------------------|\n",
    "| 1 | sepal length | float/cm | Positives |\n",
    "| 2 | sepal width | float/cm | Positives |\n",
    "| 3 | petal length | float/cm | Positives |\n",
    "| 4 | petal width | float/cm | Positives |\n",
    "| 5 | class | string/text | Iris Setosa, Iris Versicolour, Iris Virginica |\n",
    "\n",
    "It is time for us to modify the *Series*, and convert it into a *Dataframe* and use its full potential to our advantage."
   ]
  },
  {
   "cell_type": "markdown",
   "metadata": {},
   "source": [
    "## Introduction to DataFrames\n",
    "\n",
    "A *DataFrame* is an $n$ dimensional array of structured data that can store data of different types. Yes, it's like a spreadsheet or a database table.\n",
    "\n",
    "The DataFrame are more common than the Series *(They appear everywhere in scientific computing, in the analysis and visualization of data and among others)* and it is for this reason that they will be studied in practice.\n",
    "\n",
    "Usually you can create a `DataFrame` from different data sources, but this time we will continue using the [`iris`](./data/iris.data) dataset."
   ]
  },
  {
   "cell_type": "code",
   "execution_count": 11,
   "metadata": {},
   "outputs": [
    {
     "data": {
      "text/html": [
       "<div>\n",
       "<style scoped>\n",
       "    .dataframe tbody tr th:only-of-type {\n",
       "        vertical-align: middle;\n",
       "    }\n",
       "\n",
       "    .dataframe tbody tr th {\n",
       "        vertical-align: top;\n",
       "    }\n",
       "\n",
       "    .dataframe thead th {\n",
       "        text-align: right;\n",
       "    }\n",
       "</style>\n",
       "<table border=\"1\" class=\"dataframe\">\n",
       "  <thead>\n",
       "    <tr style=\"text-align: right;\">\n",
       "      <th></th>\n",
       "      <th>long_sepal</th>\n",
       "      <th>width_sepal</th>\n",
       "      <th>long_petal</th>\n",
       "      <th>width_petal</th>\n",
       "      <th>class_1</th>\n",
       "    </tr>\n",
       "  </thead>\n",
       "  <tbody>\n",
       "    <tr>\n",
       "      <th>0</th>\n",
       "      <td>5.1</td>\n",
       "      <td>3.5</td>\n",
       "      <td>1.4</td>\n",
       "      <td>0.2</td>\n",
       "      <td>Iris-setosa</td>\n",
       "    </tr>\n",
       "    <tr>\n",
       "      <th>1</th>\n",
       "      <td>4.9</td>\n",
       "      <td>3.0</td>\n",
       "      <td>1.4</td>\n",
       "      <td>0.2</td>\n",
       "      <td>Iris-setosa</td>\n",
       "    </tr>\n",
       "    <tr>\n",
       "      <th>2</th>\n",
       "      <td>4.7</td>\n",
       "      <td>3.2</td>\n",
       "      <td>1.3</td>\n",
       "      <td>0.2</td>\n",
       "      <td>Iris-setosa</td>\n",
       "    </tr>\n",
       "    <tr>\n",
       "      <th>3</th>\n",
       "      <td>4.6</td>\n",
       "      <td>3.1</td>\n",
       "      <td>1.5</td>\n",
       "      <td>0.2</td>\n",
       "      <td>Iris-setosa</td>\n",
       "    </tr>\n",
       "    <tr>\n",
       "      <th>4</th>\n",
       "      <td>5.0</td>\n",
       "      <td>3.6</td>\n",
       "      <td>1.4</td>\n",
       "      <td>0.2</td>\n",
       "      <td>Iris-setosa</td>\n",
       "    </tr>\n",
       "  </tbody>\n",
       "</table>\n",
       "</div>"
      ],
      "text/plain": [
       "   long_sepal  width_sepal  long_petal  width_petal      class_1\n",
       "0         5.1          3.5         1.4          0.2  Iris-setosa\n",
       "1         4.9          3.0         1.4          0.2  Iris-setosa\n",
       "2         4.7          3.2         1.3          0.2  Iris-setosa\n",
       "3         4.6          3.1         1.5          0.2  Iris-setosa\n",
       "4         5.0          3.6         1.4          0.2  Iris-setosa"
      ]
     },
     "execution_count": 11,
     "metadata": {},
     "output_type": "execute_result"
    }
   ],
   "source": [
    "import pandas as pd\n",
    "\n",
    "# We create the DataFrame from iris_dataset, the names parameter allows us to name the columns\n",
    "df_iris = pd.read_csv(\"./data/iris.data\", names=[\"long_sepal\", \"width_sepal\", \"long_petal\", \"width_petal\", \"class_1\"])\n",
    "\n",
    "# Print the first 5 elements of the dataframe\n",
    "df_iris.head()"
   ]
  },
  {
   "cell_type": "markdown",
   "metadata": {},
   "source": [
    "*Note: from now on whenever we want to import the content of a local dataset we will use the `read_csv` method of the Pandas library.*\n",
    "\n",
    "As we saw it was very easy to build the `DataFrame`, now, how about we manipulate it? We could answer questions like: how many kinds of iris do we have? What is the average size of the petal length? all classes or one in particular? Let's see how it's done:"
   ]
  },
  {
   "cell_type": "markdown",
   "metadata": {},
   "source": [
    "If we want to work with the first column, we can easily do it like this:"
   ]
  },
  {
   "cell_type": "code",
   "execution_count": 12,
   "metadata": {},
   "outputs": [
    {
     "data": {
      "text/plain": [
       "0    5.1\n",
       "1    4.9\n",
       "2    4.7\n",
       "3    4.6\n",
       "4    5.0\n",
       "Name: long_sepal, dtype: float64"
      ]
     },
     "execution_count": 12,
     "metadata": {},
     "output_type": "execute_result"
    }
   ],
   "source": [
    "df_iris['long_sepal'].head()"
   ]
  },
  {
   "cell_type": "markdown",
   "metadata": {},
   "source": [
    "The column elements are stored as a `Range`, which can be easily operated on, for example finding the average petal length."
   ]
  },
  {
   "cell_type": "code",
   "execution_count": 13,
   "metadata": {},
   "outputs": [
    {
     "name": "stdout",
     "output_type": "stream",
     "text": [
      "Average Iris Petal Size:\n",
      "5.843333333333335\n"
     ]
    }
   ],
   "source": [
    "### Example 1: Average Sepal Length regardless of class\n",
    "mean_long_sepal = np.mean(df_iris['long_sepal'])\n",
    "print('Average Iris Petal Size:')\n",
    "print(mean_long_sepal)"
   ]
  },
  {
   "cell_type": "markdown",
   "metadata": {},
   "source": [
    "That was easy, find the average of $150$ rows and with it, give a little more meaning to the dataset.\n",
    "\n",
    "The *Dataframe* have many methods that allow to operate, manipulate, group, filter the data, among others. Let's see some of the most important:\n",
    "\n",
    "* **groupby**: used to group the rows around the value of one of its columns\n",
    "* **assign**: used to add new columns from the values of other\n",
    "* **query**: used to filter the dataset based on some condition *(such as the value of a column)*\n",
    "* **filter**: filters a Dataframe by columns or rows according to their labels in the indexes. *(Kindly like the `query` method but the filter is based on the indices)\n",
    "* **value_counts()**: used to count how many values in a column\n",
    "\n",
    "And now how about we now calculate the number of iris classes we have? Let's see how it's done:"
   ]
  },
  {
   "cell_type": "code",
   "execution_count": 14,
   "metadata": {},
   "outputs": [
    {
     "name": "stdout",
     "output_type": "stream",
     "text": [
      "The number of classes in the dataset is: \n"
     ]
    },
    {
     "data": {
      "text/plain": [
       "3"
      ]
     },
     "execution_count": 14,
     "metadata": {},
     "output_type": "execute_result"
    }
   ],
   "source": [
    "# Example 2: the groupby method is used to group the dataframe by the class column\n",
    "print('The number of classes in the dataset is: ') \n",
    "len(df_iris.groupby('class_1'))"
   ]
  },
  {
   "cell_type": "code",
   "execution_count": 15,
   "metadata": {},
   "outputs": [
    {
     "data": {
      "text/plain": [
       "Iris-setosa        50\n",
       "Iris-virginica     50\n",
       "Iris-versicolor    50\n",
       "Name: class_1, dtype: int64"
      ]
     },
     "execution_count": 15,
     "metadata": {},
     "output_type": "execute_result"
    }
   ],
   "source": [
    "# how much data there is of each class\n",
    "df_iris['class_1'].value_counts()"
   ]
  },
  {
   "cell_type": "markdown",
   "metadata": {},
   "source": [
    "Now we are going to give way to the answers of the missing questions, let's see what the mean of the petal length for the Iris-setosa class through the query method:"
   ]
  },
  {
   "cell_type": "code",
   "execution_count": 16,
   "metadata": {},
   "outputs": [
    {
     "name": "stdout",
     "output_type": "stream",
     "text": [
      "Average petal size of the Iris-setosa class:\n",
      "1.464\n"
     ]
    }
   ],
   "source": [
    "# Example 2: Average Petal Length for the class Iris-setosa\n",
    "df_iris_setosa = df_iris.query(\"class_1 == 'Iris-setosa'\")\n",
    "mean_long_petal = np.mean(df_iris_setosa['long_petal'])\n",
    "print('Average petal size of the Iris-setosa class:')\n",
    "print(mean_long_petal)"
   ]
  },
  {
   "cell_type": "markdown",
   "metadata": {},
   "source": [
    "And now we will use the **Method Chain** to calculate a computed value in a new column using the `assign` method, what does that mean about the Method Chain? on the same object in the same line of code, separating each one by a period `.`\n",
    "  An example is better than a thousand words:"
   ]
  },
  {
   "cell_type": "code",
   "execution_count": 17,
   "metadata": {},
   "outputs": [
    {
     "data": {
      "text/html": [
       "<div>\n",
       "<style scoped>\n",
       "    .dataframe tbody tr th:only-of-type {\n",
       "        vertical-align: middle;\n",
       "    }\n",
       "\n",
       "    .dataframe tbody tr th {\n",
       "        vertical-align: top;\n",
       "    }\n",
       "\n",
       "    .dataframe thead th {\n",
       "        text-align: right;\n",
       "    }\n",
       "</style>\n",
       "<table border=\"1\" class=\"dataframe\">\n",
       "  <thead>\n",
       "    <tr style=\"text-align: right;\">\n",
       "      <th></th>\n",
       "      <th>long_sepal</th>\n",
       "      <th>width_sepal</th>\n",
       "      <th>long_petal</th>\n",
       "      <th>width_petal</th>\n",
       "      <th>class_1</th>\n",
       "      <th>petal_proportion</th>\n",
       "    </tr>\n",
       "  </thead>\n",
       "  <tbody>\n",
       "    <tr>\n",
       "      <th>100</th>\n",
       "      <td>6.3</td>\n",
       "      <td>3.3</td>\n",
       "      <td>6.0</td>\n",
       "      <td>2.5</td>\n",
       "      <td>Iris-virginica</td>\n",
       "      <td>0.416667</td>\n",
       "    </tr>\n",
       "    <tr>\n",
       "      <th>101</th>\n",
       "      <td>5.8</td>\n",
       "      <td>2.7</td>\n",
       "      <td>5.1</td>\n",
       "      <td>1.9</td>\n",
       "      <td>Iris-virginica</td>\n",
       "      <td>0.372549</td>\n",
       "    </tr>\n",
       "    <tr>\n",
       "      <th>102</th>\n",
       "      <td>7.1</td>\n",
       "      <td>3.0</td>\n",
       "      <td>5.9</td>\n",
       "      <td>2.1</td>\n",
       "      <td>Iris-virginica</td>\n",
       "      <td>0.355932</td>\n",
       "    </tr>\n",
       "    <tr>\n",
       "      <th>103</th>\n",
       "      <td>6.3</td>\n",
       "      <td>2.9</td>\n",
       "      <td>5.6</td>\n",
       "      <td>1.8</td>\n",
       "      <td>Iris-virginica</td>\n",
       "      <td>0.321429</td>\n",
       "    </tr>\n",
       "    <tr>\n",
       "      <th>104</th>\n",
       "      <td>6.5</td>\n",
       "      <td>3.0</td>\n",
       "      <td>5.8</td>\n",
       "      <td>2.2</td>\n",
       "      <td>Iris-virginica</td>\n",
       "      <td>0.379310</td>\n",
       "    </tr>\n",
       "  </tbody>\n",
       "</table>\n",
       "</div>"
      ],
      "text/plain": [
       "     long_sepal  width_sepal  long_petal  width_petal         class_1  \\\n",
       "100         6.3          3.3         6.0          2.5  Iris-virginica   \n",
       "101         5.8          2.7         5.1          1.9  Iris-virginica   \n",
       "102         7.1          3.0         5.9          2.1  Iris-virginica   \n",
       "103         6.3          2.9         5.6          1.8  Iris-virginica   \n",
       "104         6.5          3.0         5.8          2.2  Iris-virginica   \n",
       "\n",
       "     petal_proportion  \n",
       "100          0.416667  \n",
       "101          0.372549  \n",
       "102          0.355932  \n",
       "103          0.321429  \n",
       "104          0.379310  "
      ]
     },
     "execution_count": 17,
     "metadata": {},
     "output_type": "execute_result"
    }
   ],
   "source": [
    "# Example 3: Computed ratio of petal size for class Iris-virginica\n",
    "# First the Iris-virginica class elements are filtered, then a new column is created where the width and the length of the petal are divided, finally only the first five elements are shown.\n",
    "df_iris.query('class_1 == \"Iris-virginica\"').assign(petal_proportion=lambda i: i['width_petal'] / i['long_petal']).head()"
   ]
  },
  {
   "cell_type": "markdown",
   "metadata": {},
   "source": [
    "And with this we managed to answer the questions previously proposed. So it's easy to manipulate a *DataFrame* while playing with its data."
   ]
  },
  {
   "cell_type": "markdown",
   "metadata": {},
   "source": [
    "## More about DataFrames\n",
    "\n",
    "\n",
    "To continue with the practice, it would be good to give a little review on the most basic and standard manipulation ideas of *DataFrames*. We will do this at the same time that we will find the *standard deviation on the length of the petals* of the class *Iris-versicolor*.\n",
    "\n",
    "This demo, basic manipulation process will be step by step as new columns are added, and for convenience we will work with a portion of the original dataset:"
   ]
  },
  {
   "cell_type": "code",
   "execution_count": 18,
   "metadata": {},
   "outputs": [
    {
     "name": "stdout",
     "output_type": "stream",
     "text": [
      "DevSt = 0.04682896000000005\n"
     ]
    },
    {
     "data": {
      "text/html": [
       "<div>\n",
       "<style scoped>\n",
       "    .dataframe tbody tr th:only-of-type {\n",
       "        vertical-align: middle;\n",
       "    }\n",
       "\n",
       "    .dataframe tbody tr th {\n",
       "        vertical-align: top;\n",
       "    }\n",
       "\n",
       "    .dataframe thead th {\n",
       "        text-align: right;\n",
       "    }\n",
       "</style>\n",
       "<table border=\"1\" class=\"dataframe\">\n",
       "  <thead>\n",
       "    <tr style=\"text-align: right;\">\n",
       "      <th></th>\n",
       "      <th>long_sepal</th>\n",
       "      <th>width_sepal</th>\n",
       "      <th>long_petal</th>\n",
       "      <th>width_petal</th>\n",
       "      <th>class_1</th>\n",
       "      <th>long_petal_minus_media</th>\n",
       "      <th>long_petal_minus_media_square</th>\n",
       "    </tr>\n",
       "  </thead>\n",
       "  <tbody>\n",
       "    <tr>\n",
       "      <th>50</th>\n",
       "      <td>7.0</td>\n",
       "      <td>3.2</td>\n",
       "      <td>4.7</td>\n",
       "      <td>1.4</td>\n",
       "      <td>Iris-versicolor</td>\n",
       "      <td>0.44</td>\n",
       "      <td>0.1936</td>\n",
       "    </tr>\n",
       "    <tr>\n",
       "      <th>51</th>\n",
       "      <td>6.4</td>\n",
       "      <td>3.2</td>\n",
       "      <td>4.5</td>\n",
       "      <td>1.5</td>\n",
       "      <td>Iris-versicolor</td>\n",
       "      <td>0.24</td>\n",
       "      <td>0.0576</td>\n",
       "    </tr>\n",
       "    <tr>\n",
       "      <th>52</th>\n",
       "      <td>6.9</td>\n",
       "      <td>3.1</td>\n",
       "      <td>4.9</td>\n",
       "      <td>1.5</td>\n",
       "      <td>Iris-versicolor</td>\n",
       "      <td>0.64</td>\n",
       "      <td>0.4096</td>\n",
       "    </tr>\n",
       "    <tr>\n",
       "      <th>53</th>\n",
       "      <td>5.5</td>\n",
       "      <td>2.3</td>\n",
       "      <td>4.0</td>\n",
       "      <td>1.3</td>\n",
       "      <td>Iris-versicolor</td>\n",
       "      <td>-0.26</td>\n",
       "      <td>0.0676</td>\n",
       "    </tr>\n",
       "    <tr>\n",
       "      <th>54</th>\n",
       "      <td>6.5</td>\n",
       "      <td>2.8</td>\n",
       "      <td>4.6</td>\n",
       "      <td>1.5</td>\n",
       "      <td>Iris-versicolor</td>\n",
       "      <td>0.34</td>\n",
       "      <td>0.1156</td>\n",
       "    </tr>\n",
       "    <tr>\n",
       "      <th>55</th>\n",
       "      <td>5.7</td>\n",
       "      <td>2.8</td>\n",
       "      <td>4.5</td>\n",
       "      <td>1.3</td>\n",
       "      <td>Iris-versicolor</td>\n",
       "      <td>0.24</td>\n",
       "      <td>0.0576</td>\n",
       "    </tr>\n",
       "    <tr>\n",
       "      <th>56</th>\n",
       "      <td>6.3</td>\n",
       "      <td>3.3</td>\n",
       "      <td>4.7</td>\n",
       "      <td>1.6</td>\n",
       "      <td>Iris-versicolor</td>\n",
       "      <td>0.44</td>\n",
       "      <td>0.1936</td>\n",
       "    </tr>\n",
       "    <tr>\n",
       "      <th>57</th>\n",
       "      <td>4.9</td>\n",
       "      <td>2.4</td>\n",
       "      <td>3.3</td>\n",
       "      <td>1.0</td>\n",
       "      <td>Iris-versicolor</td>\n",
       "      <td>-0.96</td>\n",
       "      <td>0.9216</td>\n",
       "    </tr>\n",
       "    <tr>\n",
       "      <th>58</th>\n",
       "      <td>6.6</td>\n",
       "      <td>2.9</td>\n",
       "      <td>4.6</td>\n",
       "      <td>1.3</td>\n",
       "      <td>Iris-versicolor</td>\n",
       "      <td>0.34</td>\n",
       "      <td>0.1156</td>\n",
       "    </tr>\n",
       "    <tr>\n",
       "      <th>59</th>\n",
       "      <td>5.2</td>\n",
       "      <td>2.7</td>\n",
       "      <td>3.9</td>\n",
       "      <td>1.4</td>\n",
       "      <td>Iris-versicolor</td>\n",
       "      <td>-0.36</td>\n",
       "      <td>0.1296</td>\n",
       "    </tr>\n",
       "    <tr>\n",
       "      <th>60</th>\n",
       "      <td>5.0</td>\n",
       "      <td>2.0</td>\n",
       "      <td>3.5</td>\n",
       "      <td>1.0</td>\n",
       "      <td>Iris-versicolor</td>\n",
       "      <td>-0.76</td>\n",
       "      <td>0.5776</td>\n",
       "    </tr>\n",
       "    <tr>\n",
       "      <th>61</th>\n",
       "      <td>5.9</td>\n",
       "      <td>3.0</td>\n",
       "      <td>4.2</td>\n",
       "      <td>1.5</td>\n",
       "      <td>Iris-versicolor</td>\n",
       "      <td>-0.06</td>\n",
       "      <td>0.0036</td>\n",
       "    </tr>\n",
       "    <tr>\n",
       "      <th>62</th>\n",
       "      <td>6.0</td>\n",
       "      <td>2.2</td>\n",
       "      <td>4.0</td>\n",
       "      <td>1.0</td>\n",
       "      <td>Iris-versicolor</td>\n",
       "      <td>-0.26</td>\n",
       "      <td>0.0676</td>\n",
       "    </tr>\n",
       "    <tr>\n",
       "      <th>63</th>\n",
       "      <td>6.1</td>\n",
       "      <td>2.9</td>\n",
       "      <td>4.7</td>\n",
       "      <td>1.4</td>\n",
       "      <td>Iris-versicolor</td>\n",
       "      <td>0.44</td>\n",
       "      <td>0.1936</td>\n",
       "    </tr>\n",
       "    <tr>\n",
       "      <th>64</th>\n",
       "      <td>5.6</td>\n",
       "      <td>2.9</td>\n",
       "      <td>3.6</td>\n",
       "      <td>1.3</td>\n",
       "      <td>Iris-versicolor</td>\n",
       "      <td>-0.66</td>\n",
       "      <td>0.4356</td>\n",
       "    </tr>\n",
       "    <tr>\n",
       "      <th>65</th>\n",
       "      <td>6.7</td>\n",
       "      <td>3.1</td>\n",
       "      <td>4.4</td>\n",
       "      <td>1.4</td>\n",
       "      <td>Iris-versicolor</td>\n",
       "      <td>0.14</td>\n",
       "      <td>0.0196</td>\n",
       "    </tr>\n",
       "    <tr>\n",
       "      <th>66</th>\n",
       "      <td>5.6</td>\n",
       "      <td>3.0</td>\n",
       "      <td>4.5</td>\n",
       "      <td>1.5</td>\n",
       "      <td>Iris-versicolor</td>\n",
       "      <td>0.24</td>\n",
       "      <td>0.0576</td>\n",
       "    </tr>\n",
       "    <tr>\n",
       "      <th>67</th>\n",
       "      <td>5.8</td>\n",
       "      <td>2.7</td>\n",
       "      <td>4.1</td>\n",
       "      <td>1.0</td>\n",
       "      <td>Iris-versicolor</td>\n",
       "      <td>-0.16</td>\n",
       "      <td>0.0256</td>\n",
       "    </tr>\n",
       "    <tr>\n",
       "      <th>68</th>\n",
       "      <td>6.2</td>\n",
       "      <td>2.2</td>\n",
       "      <td>4.5</td>\n",
       "      <td>1.5</td>\n",
       "      <td>Iris-versicolor</td>\n",
       "      <td>0.24</td>\n",
       "      <td>0.0576</td>\n",
       "    </tr>\n",
       "    <tr>\n",
       "      <th>69</th>\n",
       "      <td>5.6</td>\n",
       "      <td>2.5</td>\n",
       "      <td>3.9</td>\n",
       "      <td>1.1</td>\n",
       "      <td>Iris-versicolor</td>\n",
       "      <td>-0.36</td>\n",
       "      <td>0.1296</td>\n",
       "    </tr>\n",
       "    <tr>\n",
       "      <th>70</th>\n",
       "      <td>5.9</td>\n",
       "      <td>3.2</td>\n",
       "      <td>4.8</td>\n",
       "      <td>1.8</td>\n",
       "      <td>Iris-versicolor</td>\n",
       "      <td>0.54</td>\n",
       "      <td>0.2916</td>\n",
       "    </tr>\n",
       "    <tr>\n",
       "      <th>71</th>\n",
       "      <td>6.1</td>\n",
       "      <td>2.8</td>\n",
       "      <td>4.0</td>\n",
       "      <td>1.3</td>\n",
       "      <td>Iris-versicolor</td>\n",
       "      <td>-0.26</td>\n",
       "      <td>0.0676</td>\n",
       "    </tr>\n",
       "    <tr>\n",
       "      <th>72</th>\n",
       "      <td>6.3</td>\n",
       "      <td>2.5</td>\n",
       "      <td>4.9</td>\n",
       "      <td>1.5</td>\n",
       "      <td>Iris-versicolor</td>\n",
       "      <td>0.64</td>\n",
       "      <td>0.4096</td>\n",
       "    </tr>\n",
       "    <tr>\n",
       "      <th>73</th>\n",
       "      <td>6.1</td>\n",
       "      <td>2.8</td>\n",
       "      <td>4.7</td>\n",
       "      <td>1.2</td>\n",
       "      <td>Iris-versicolor</td>\n",
       "      <td>0.44</td>\n",
       "      <td>0.1936</td>\n",
       "    </tr>\n",
       "    <tr>\n",
       "      <th>74</th>\n",
       "      <td>6.4</td>\n",
       "      <td>2.9</td>\n",
       "      <td>4.3</td>\n",
       "      <td>1.3</td>\n",
       "      <td>Iris-versicolor</td>\n",
       "      <td>0.04</td>\n",
       "      <td>0.0016</td>\n",
       "    </tr>\n",
       "    <tr>\n",
       "      <th>75</th>\n",
       "      <td>6.6</td>\n",
       "      <td>3.0</td>\n",
       "      <td>4.4</td>\n",
       "      <td>1.4</td>\n",
       "      <td>Iris-versicolor</td>\n",
       "      <td>0.14</td>\n",
       "      <td>0.0196</td>\n",
       "    </tr>\n",
       "    <tr>\n",
       "      <th>76</th>\n",
       "      <td>6.8</td>\n",
       "      <td>2.8</td>\n",
       "      <td>4.8</td>\n",
       "      <td>1.4</td>\n",
       "      <td>Iris-versicolor</td>\n",
       "      <td>0.54</td>\n",
       "      <td>0.2916</td>\n",
       "    </tr>\n",
       "    <tr>\n",
       "      <th>77</th>\n",
       "      <td>6.7</td>\n",
       "      <td>3.0</td>\n",
       "      <td>5.0</td>\n",
       "      <td>1.7</td>\n",
       "      <td>Iris-versicolor</td>\n",
       "      <td>0.74</td>\n",
       "      <td>0.5476</td>\n",
       "    </tr>\n",
       "    <tr>\n",
       "      <th>78</th>\n",
       "      <td>6.0</td>\n",
       "      <td>2.9</td>\n",
       "      <td>4.5</td>\n",
       "      <td>1.5</td>\n",
       "      <td>Iris-versicolor</td>\n",
       "      <td>0.24</td>\n",
       "      <td>0.0576</td>\n",
       "    </tr>\n",
       "    <tr>\n",
       "      <th>79</th>\n",
       "      <td>5.7</td>\n",
       "      <td>2.6</td>\n",
       "      <td>3.5</td>\n",
       "      <td>1.0</td>\n",
       "      <td>Iris-versicolor</td>\n",
       "      <td>-0.76</td>\n",
       "      <td>0.5776</td>\n",
       "    </tr>\n",
       "    <tr>\n",
       "      <th>80</th>\n",
       "      <td>5.5</td>\n",
       "      <td>2.4</td>\n",
       "      <td>3.8</td>\n",
       "      <td>1.1</td>\n",
       "      <td>Iris-versicolor</td>\n",
       "      <td>-0.46</td>\n",
       "      <td>0.2116</td>\n",
       "    </tr>\n",
       "    <tr>\n",
       "      <th>81</th>\n",
       "      <td>5.5</td>\n",
       "      <td>2.4</td>\n",
       "      <td>3.7</td>\n",
       "      <td>1.0</td>\n",
       "      <td>Iris-versicolor</td>\n",
       "      <td>-0.56</td>\n",
       "      <td>0.3136</td>\n",
       "    </tr>\n",
       "    <tr>\n",
       "      <th>82</th>\n",
       "      <td>5.8</td>\n",
       "      <td>2.7</td>\n",
       "      <td>3.9</td>\n",
       "      <td>1.2</td>\n",
       "      <td>Iris-versicolor</td>\n",
       "      <td>-0.36</td>\n",
       "      <td>0.1296</td>\n",
       "    </tr>\n",
       "    <tr>\n",
       "      <th>83</th>\n",
       "      <td>6.0</td>\n",
       "      <td>2.7</td>\n",
       "      <td>5.1</td>\n",
       "      <td>1.6</td>\n",
       "      <td>Iris-versicolor</td>\n",
       "      <td>0.84</td>\n",
       "      <td>0.7056</td>\n",
       "    </tr>\n",
       "    <tr>\n",
       "      <th>84</th>\n",
       "      <td>5.4</td>\n",
       "      <td>3.0</td>\n",
       "      <td>4.5</td>\n",
       "      <td>1.5</td>\n",
       "      <td>Iris-versicolor</td>\n",
       "      <td>0.24</td>\n",
       "      <td>0.0576</td>\n",
       "    </tr>\n",
       "    <tr>\n",
       "      <th>85</th>\n",
       "      <td>6.0</td>\n",
       "      <td>3.4</td>\n",
       "      <td>4.5</td>\n",
       "      <td>1.6</td>\n",
       "      <td>Iris-versicolor</td>\n",
       "      <td>0.24</td>\n",
       "      <td>0.0576</td>\n",
       "    </tr>\n",
       "    <tr>\n",
       "      <th>86</th>\n",
       "      <td>6.7</td>\n",
       "      <td>3.1</td>\n",
       "      <td>4.7</td>\n",
       "      <td>1.5</td>\n",
       "      <td>Iris-versicolor</td>\n",
       "      <td>0.44</td>\n",
       "      <td>0.1936</td>\n",
       "    </tr>\n",
       "    <tr>\n",
       "      <th>87</th>\n",
       "      <td>6.3</td>\n",
       "      <td>2.3</td>\n",
       "      <td>4.4</td>\n",
       "      <td>1.3</td>\n",
       "      <td>Iris-versicolor</td>\n",
       "      <td>0.14</td>\n",
       "      <td>0.0196</td>\n",
       "    </tr>\n",
       "    <tr>\n",
       "      <th>88</th>\n",
       "      <td>5.6</td>\n",
       "      <td>3.0</td>\n",
       "      <td>4.1</td>\n",
       "      <td>1.3</td>\n",
       "      <td>Iris-versicolor</td>\n",
       "      <td>-0.16</td>\n",
       "      <td>0.0256</td>\n",
       "    </tr>\n",
       "    <tr>\n",
       "      <th>89</th>\n",
       "      <td>5.5</td>\n",
       "      <td>2.5</td>\n",
       "      <td>4.0</td>\n",
       "      <td>1.3</td>\n",
       "      <td>Iris-versicolor</td>\n",
       "      <td>-0.26</td>\n",
       "      <td>0.0676</td>\n",
       "    </tr>\n",
       "    <tr>\n",
       "      <th>90</th>\n",
       "      <td>5.5</td>\n",
       "      <td>2.6</td>\n",
       "      <td>4.4</td>\n",
       "      <td>1.2</td>\n",
       "      <td>Iris-versicolor</td>\n",
       "      <td>0.14</td>\n",
       "      <td>0.0196</td>\n",
       "    </tr>\n",
       "    <tr>\n",
       "      <th>91</th>\n",
       "      <td>6.1</td>\n",
       "      <td>3.0</td>\n",
       "      <td>4.6</td>\n",
       "      <td>1.4</td>\n",
       "      <td>Iris-versicolor</td>\n",
       "      <td>0.34</td>\n",
       "      <td>0.1156</td>\n",
       "    </tr>\n",
       "    <tr>\n",
       "      <th>92</th>\n",
       "      <td>5.8</td>\n",
       "      <td>2.6</td>\n",
       "      <td>4.0</td>\n",
       "      <td>1.2</td>\n",
       "      <td>Iris-versicolor</td>\n",
       "      <td>-0.26</td>\n",
       "      <td>0.0676</td>\n",
       "    </tr>\n",
       "    <tr>\n",
       "      <th>93</th>\n",
       "      <td>5.0</td>\n",
       "      <td>2.3</td>\n",
       "      <td>3.3</td>\n",
       "      <td>1.0</td>\n",
       "      <td>Iris-versicolor</td>\n",
       "      <td>-0.96</td>\n",
       "      <td>0.9216</td>\n",
       "    </tr>\n",
       "    <tr>\n",
       "      <th>94</th>\n",
       "      <td>5.6</td>\n",
       "      <td>2.7</td>\n",
       "      <td>4.2</td>\n",
       "      <td>1.3</td>\n",
       "      <td>Iris-versicolor</td>\n",
       "      <td>-0.06</td>\n",
       "      <td>0.0036</td>\n",
       "    </tr>\n",
       "    <tr>\n",
       "      <th>95</th>\n",
       "      <td>5.7</td>\n",
       "      <td>3.0</td>\n",
       "      <td>4.2</td>\n",
       "      <td>1.2</td>\n",
       "      <td>Iris-versicolor</td>\n",
       "      <td>-0.06</td>\n",
       "      <td>0.0036</td>\n",
       "    </tr>\n",
       "    <tr>\n",
       "      <th>96</th>\n",
       "      <td>5.7</td>\n",
       "      <td>2.9</td>\n",
       "      <td>4.2</td>\n",
       "      <td>1.3</td>\n",
       "      <td>Iris-versicolor</td>\n",
       "      <td>-0.06</td>\n",
       "      <td>0.0036</td>\n",
       "    </tr>\n",
       "    <tr>\n",
       "      <th>97</th>\n",
       "      <td>6.2</td>\n",
       "      <td>2.9</td>\n",
       "      <td>4.3</td>\n",
       "      <td>1.3</td>\n",
       "      <td>Iris-versicolor</td>\n",
       "      <td>0.04</td>\n",
       "      <td>0.0016</td>\n",
       "    </tr>\n",
       "    <tr>\n",
       "      <th>98</th>\n",
       "      <td>5.1</td>\n",
       "      <td>2.5</td>\n",
       "      <td>3.0</td>\n",
       "      <td>1.1</td>\n",
       "      <td>Iris-versicolor</td>\n",
       "      <td>-1.26</td>\n",
       "      <td>1.5876</td>\n",
       "    </tr>\n",
       "    <tr>\n",
       "      <th>99</th>\n",
       "      <td>5.7</td>\n",
       "      <td>2.8</td>\n",
       "      <td>4.1</td>\n",
       "      <td>1.3</td>\n",
       "      <td>Iris-versicolor</td>\n",
       "      <td>-0.16</td>\n",
       "      <td>0.0256</td>\n",
       "    </tr>\n",
       "  </tbody>\n",
       "</table>\n",
       "</div>"
      ],
      "text/plain": [
       "    long_sepal  width_sepal  long_petal  width_petal          class_1  \\\n",
       "50         7.0          3.2         4.7          1.4  Iris-versicolor   \n",
       "51         6.4          3.2         4.5          1.5  Iris-versicolor   \n",
       "52         6.9          3.1         4.9          1.5  Iris-versicolor   \n",
       "53         5.5          2.3         4.0          1.3  Iris-versicolor   \n",
       "54         6.5          2.8         4.6          1.5  Iris-versicolor   \n",
       "55         5.7          2.8         4.5          1.3  Iris-versicolor   \n",
       "56         6.3          3.3         4.7          1.6  Iris-versicolor   \n",
       "57         4.9          2.4         3.3          1.0  Iris-versicolor   \n",
       "58         6.6          2.9         4.6          1.3  Iris-versicolor   \n",
       "59         5.2          2.7         3.9          1.4  Iris-versicolor   \n",
       "60         5.0          2.0         3.5          1.0  Iris-versicolor   \n",
       "61         5.9          3.0         4.2          1.5  Iris-versicolor   \n",
       "62         6.0          2.2         4.0          1.0  Iris-versicolor   \n",
       "63         6.1          2.9         4.7          1.4  Iris-versicolor   \n",
       "64         5.6          2.9         3.6          1.3  Iris-versicolor   \n",
       "65         6.7          3.1         4.4          1.4  Iris-versicolor   \n",
       "66         5.6          3.0         4.5          1.5  Iris-versicolor   \n",
       "67         5.8          2.7         4.1          1.0  Iris-versicolor   \n",
       "68         6.2          2.2         4.5          1.5  Iris-versicolor   \n",
       "69         5.6          2.5         3.9          1.1  Iris-versicolor   \n",
       "70         5.9          3.2         4.8          1.8  Iris-versicolor   \n",
       "71         6.1          2.8         4.0          1.3  Iris-versicolor   \n",
       "72         6.3          2.5         4.9          1.5  Iris-versicolor   \n",
       "73         6.1          2.8         4.7          1.2  Iris-versicolor   \n",
       "74         6.4          2.9         4.3          1.3  Iris-versicolor   \n",
       "75         6.6          3.0         4.4          1.4  Iris-versicolor   \n",
       "76         6.8          2.8         4.8          1.4  Iris-versicolor   \n",
       "77         6.7          3.0         5.0          1.7  Iris-versicolor   \n",
       "78         6.0          2.9         4.5          1.5  Iris-versicolor   \n",
       "79         5.7          2.6         3.5          1.0  Iris-versicolor   \n",
       "80         5.5          2.4         3.8          1.1  Iris-versicolor   \n",
       "81         5.5          2.4         3.7          1.0  Iris-versicolor   \n",
       "82         5.8          2.7         3.9          1.2  Iris-versicolor   \n",
       "83         6.0          2.7         5.1          1.6  Iris-versicolor   \n",
       "84         5.4          3.0         4.5          1.5  Iris-versicolor   \n",
       "85         6.0          3.4         4.5          1.6  Iris-versicolor   \n",
       "86         6.7          3.1         4.7          1.5  Iris-versicolor   \n",
       "87         6.3          2.3         4.4          1.3  Iris-versicolor   \n",
       "88         5.6          3.0         4.1          1.3  Iris-versicolor   \n",
       "89         5.5          2.5         4.0          1.3  Iris-versicolor   \n",
       "90         5.5          2.6         4.4          1.2  Iris-versicolor   \n",
       "91         6.1          3.0         4.6          1.4  Iris-versicolor   \n",
       "92         5.8          2.6         4.0          1.2  Iris-versicolor   \n",
       "93         5.0          2.3         3.3          1.0  Iris-versicolor   \n",
       "94         5.6          2.7         4.2          1.3  Iris-versicolor   \n",
       "95         5.7          3.0         4.2          1.2  Iris-versicolor   \n",
       "96         5.7          2.9         4.2          1.3  Iris-versicolor   \n",
       "97         6.2          2.9         4.3          1.3  Iris-versicolor   \n",
       "98         5.1          2.5         3.0          1.1  Iris-versicolor   \n",
       "99         5.7          2.8         4.1          1.3  Iris-versicolor   \n",
       "\n",
       "    long_petal_minus_media  long_petal_minus_media_square  \n",
       "50                    0.44                         0.1936  \n",
       "51                    0.24                         0.0576  \n",
       "52                    0.64                         0.4096  \n",
       "53                   -0.26                         0.0676  \n",
       "54                    0.34                         0.1156  \n",
       "55                    0.24                         0.0576  \n",
       "56                    0.44                         0.1936  \n",
       "57                   -0.96                         0.9216  \n",
       "58                    0.34                         0.1156  \n",
       "59                   -0.36                         0.1296  \n",
       "60                   -0.76                         0.5776  \n",
       "61                   -0.06                         0.0036  \n",
       "62                   -0.26                         0.0676  \n",
       "63                    0.44                         0.1936  \n",
       "64                   -0.66                         0.4356  \n",
       "65                    0.14                         0.0196  \n",
       "66                    0.24                         0.0576  \n",
       "67                   -0.16                         0.0256  \n",
       "68                    0.24                         0.0576  \n",
       "69                   -0.36                         0.1296  \n",
       "70                    0.54                         0.2916  \n",
       "71                   -0.26                         0.0676  \n",
       "72                    0.64                         0.4096  \n",
       "73                    0.44                         0.1936  \n",
       "74                    0.04                         0.0016  \n",
       "75                    0.14                         0.0196  \n",
       "76                    0.54                         0.2916  \n",
       "77                    0.74                         0.5476  \n",
       "78                    0.24                         0.0576  \n",
       "79                   -0.76                         0.5776  \n",
       "80                   -0.46                         0.2116  \n",
       "81                   -0.56                         0.3136  \n",
       "82                   -0.36                         0.1296  \n",
       "83                    0.84                         0.7056  \n",
       "84                    0.24                         0.0576  \n",
       "85                    0.24                         0.0576  \n",
       "86                    0.44                         0.1936  \n",
       "87                    0.14                         0.0196  \n",
       "88                   -0.16                         0.0256  \n",
       "89                   -0.26                         0.0676  \n",
       "90                    0.14                         0.0196  \n",
       "91                    0.34                         0.1156  \n",
       "92                   -0.26                         0.0676  \n",
       "93                   -0.96                         0.9216  \n",
       "94                   -0.06                         0.0036  \n",
       "95                   -0.06                         0.0036  \n",
       "96                   -0.06                         0.0036  \n",
       "97                    0.04                         0.0016  \n",
       "98                   -1.26                         1.5876  \n",
       "99                   -0.16                         0.0256  "
      ]
     },
     "execution_count": 18,
     "metadata": {},
     "output_type": "execute_result"
    }
   ],
   "source": [
    "# Example 4: Calculate the standard deviation of the petal length for the Iris Versicolor class\n",
    "df_iris_versicolor = df_iris.query('class_1 == \"Iris-versicolor\"').copy()\n",
    "\n",
    "# Calculate the mean length of the petal\n",
    "media_long_petal = np.mean(df_iris_versicolor['long_petal'])\n",
    "\n",
    "# A column is created with the subtraction of the average of each length of the petal\n",
    "df_iris_versicolor['long_petal_minus_media'] = df_iris_versicolor['long_petal'] - media_long_petal\n",
    "\n",
    "# Create a column with the difference above the square\n",
    "df_iris_versicolor['long_petal_minus_media_square'] = (df_iris_versicolor['long_petal'] - media_long_petal)**2\n",
    "\n",
    "# Calculate the mean squared\n",
    "media_long_petal_error = np.mean(df_iris_versicolor['long_petal_minus_media_square'])\n",
    "\n",
    "# Calculate standard deviation\n",
    "print(f'DevSt = {np.square(media_long_petal_error)}')\n",
    "\n",
    "# Print the dataset\n",
    "df_iris_versicolor\n"
   ]
  },
  {
   "cell_type": "markdown",
   "metadata": {},
   "source": [
    "As we observed, the calculation was quite overwhelming and that is why the previously exposed methods somehow allow a lot to be achieved in so few lines of code.\n",
    "For example, we can do the same thing much more efficiently with the `np.std()` method. Taking the column 'long_petalo' as a parameter"
   ]
  },
  {
   "cell_type": "code",
   "execution_count": 19,
   "metadata": {},
   "outputs": [
    {
     "name": "stdout",
     "output_type": "stream",
     "text": [
      "DevSt = 0.4651881339845204\n"
     ]
    }
   ],
   "source": [
    "devstd_long_petal = np.std(df_iris_versicolor['long_petal'])\n",
    "print(f'DevSt = {devstd_long_petal}')"
   ]
  },
  {
   "cell_type": "markdown",
   "metadata": {},
   "source": [
    "# Practice 1: Acquire data from ChEMBL\n",
    "\n",
    "## Concepts to work\n",
    "**Uniprot:** It is a database that seeks to provide the scientific community with a comprehensive, high-quality and freely accessible resource of protein sequences and functional information. Reference: [Uniprot](https://www.uniprot.org/).\n",
    "\n",
    "**ChEMBL:** It is a database that contains bioactive molecules, it gathers chemical, bioactivity and genomic data. Reference: [ChEMBL](https://www.ebi.ac.uk/chembl/)\n",
    "\n",
    "**Half-maximal inhibitory concentration (IC50):** Expresses the amount of drug necessary to inhibit a biological process by half the uninhibited value, it is the most widely used measure of drug efficacy or potency. Reference: [Aykul, S. and Martínez-Hackert, E. (2016)](https://doi.org/10.1016/j.ab.2016.06.025)\n",
    "\n",
    "**pIC50:** Is the negative logarithm to the base ten of the IC50, when the units of are **molars (M)**. It is used to facilitate the comparison between different IC50. Also, it is important to know that the higher the pIC50 the drug has a greater efficacy or greater potential.\n",
    "\n",
    "**Half maximal effective concentration (EC50):** It is the effective concentration to produce 50% of the maximum response, it is used to compare the potencies of the drugs. Also, it is important to know that the lower the EC50, the more potent the drug will be. The negative logarithm in base ten **(pEC50)** is also calculated for this request to facilitate its understanding. Reference: [Waller, D., & Sampson, A. (2018)](https://doi.org/10.1016/B978-0-7020-7167-6.00001-4)\n",
    "\n",
    "**Inhibitor constant (Ki):** It is the concentration required to produce half of the maximum inhibition, it is useful to describe the binding affinity of a molecule to a receptor.\n",
    "\n",
    "**SMILES (Simplified Molecular-Input Line-Entry System):** This is a line notation for describing chemical structures using short ASCII strings. Reference: [Daylight Chemical Information Systems](https://www.daylight.com/smiles/)"
   ]
  },
  {
   "cell_type": "markdown",
   "metadata": {},
   "source": [
    "## Problem Statement\n",
    "For an investigation we want to identify the compounds that act with a specific target, the glycogen synthase kinase-3 beta protein, which acts as a negative regulator in the hormonal control of glucose homeostasis, Wnt signaling and regulation of transcription factors and microtubules .\n",
    "\n",
    "In this practice we are going to explore and learn about the bioactive compounds of the protein, their structures and some physicochemical characteristics.\n",
    "\n",
    "For which, we will use the information provided by the **ChEMBL** database, which allows us to filter and download the known bioactivity data of the compounds that interact with our target of interest. Later, we will work the data in a ` DataFrame `, which will allow us to easily organize, visualize and manipulate it.\n",
    "\n",
    "The first thing to do is connect to **ChEMBL**, using the **webresource client** library."
   ]
  },
  {
   "cell_type": "markdown",
   "metadata": {},
   "source": [
    "## Connect to the ChEMBL database"
   ]
  },
  {
   "cell_type": "code",
   "execution_count": 20,
   "metadata": {},
   "outputs": [],
   "source": [
    "from chembl_webresource_client.new_client import new_client # The webresource client library is imported that allows connecting to ChEMBL\n",
    "import pandas as pd\n",
    "import math\n",
    "from rdkit.Chem import PandasTools"
   ]
  },
  {
   "cell_type": "markdown",
   "metadata": {},
   "source": [
    "Must be created for API access"
   ]
  },
  {
   "cell_type": "code",
   "execution_count": 21,
   "metadata": {},
   "outputs": [],
   "source": [
    "targets = new_client.target\n",
    "compounds = new_client.molecule\n",
    "bioactivities = new_client.activity"
   ]
  },
  {
   "cell_type": "markdown",
   "metadata": {},
   "source": [
    "## Target data\n",
    "Then, we must look for the ID of the target of interest in the Uniprot database, which in this case is Glycogen synthase kinase-3 beta, ID: [P49841](https://www.uniprot.org/uniprot/P49841)."
   ]
  },
  {
   "cell_type": "code",
   "execution_count": null,
   "outputs": [],
   "source": [
    "uniprot_id = 'P49841'\n",
    "target_P49841 = targets.get(target_components__accession=uniprot_id) \\\n",
    "                     .only('target_chembl_id', 'organism', 'pref_name', 'target_type')\n",
    "pd.DataFrame.from_records(target_P49841)"
   ],
   "metadata": {
    "collapsed": false
   }
  },
  {
   "cell_type": "code",
   "execution_count": 33,
   "metadata": {},
   "outputs": [
    {
     "name": "stdout",
     "output_type": "stream",
     "text": [
      "The target of interest is: {'organism': 'Homo sapiens', 'pref_name': 'Glycogen synthase kinase-3 beta', 'target_chembl_id': 'CHEMBL262', 'target_type': 'SINGLE PROTEIN'}\n"
     ]
    }
   ],
   "source": [
    "# Select the target of interest\n",
    "target = target_P49841[0]\n",
    "print(f'The target of interest is: {str(target)}')"
   ]
  },
  {
   "cell_type": "code",
   "execution_count": 23,
   "metadata": {},
   "outputs": [
    {
     "data": {
      "text/html": [
       "<div>\n",
       "<style scoped>\n",
       "    .dataframe tbody tr th:only-of-type {\n",
       "        vertical-align: middle;\n",
       "    }\n",
       "\n",
       "    .dataframe tbody tr th {\n",
       "        vertical-align: top;\n",
       "    }\n",
       "\n",
       "    .dataframe thead th {\n",
       "        text-align: right;\n",
       "    }\n",
       "</style>\n",
       "<table border=\"1\" class=\"dataframe\">\n",
       "  <thead>\n",
       "    <tr style=\"text-align: right;\">\n",
       "      <th></th>\n",
       "      <th>organism</th>\n",
       "      <th>pref_name</th>\n",
       "      <th>target_chembl_id</th>\n",
       "      <th>target_type</th>\n",
       "    </tr>\n",
       "  </thead>\n",
       "  <tbody>\n",
       "    <tr>\n",
       "      <th>0</th>\n",
       "      <td>Homo sapiens</td>\n",
       "      <td>Glycogen synthase kinase-3 beta</td>\n",
       "      <td>CHEMBL262</td>\n",
       "      <td>SINGLE PROTEIN</td>\n",
       "    </tr>\n",
       "    <tr>\n",
       "      <th>1</th>\n",
       "      <td>Homo sapiens</td>\n",
       "      <td>Glycogen synthase kinase-3 beta</td>\n",
       "      <td>CHEMBL262</td>\n",
       "      <td>SINGLE PROTEIN</td>\n",
       "    </tr>\n",
       "    <tr>\n",
       "      <th>2</th>\n",
       "      <td>Homo sapiens</td>\n",
       "      <td>Glycogen synthase kinase-3</td>\n",
       "      <td>CHEMBL2095188</td>\n",
       "      <td>PROTEIN FAMILY</td>\n",
       "    </tr>\n",
       "    <tr>\n",
       "      <th>3</th>\n",
       "      <td>Homo sapiens</td>\n",
       "      <td>Axin-1/Glycogen synthase kinase-3 beta</td>\n",
       "      <td>CHEMBL3883309</td>\n",
       "      <td>PROTEIN-PROTEIN INTERACTION</td>\n",
       "    </tr>\n",
       "  </tbody>\n",
       "</table>\n",
       "</div>"
      ],
      "text/plain": [
       "       organism                               pref_name target_chembl_id  \\\n",
       "0  Homo sapiens         Glycogen synthase kinase-3 beta        CHEMBL262   \n",
       "1  Homo sapiens         Glycogen synthase kinase-3 beta        CHEMBL262   \n",
       "2  Homo sapiens              Glycogen synthase kinase-3    CHEMBL2095188   \n",
       "3  Homo sapiens  Axin-1/Glycogen synthase kinase-3 beta    CHEMBL3883309   \n",
       "\n",
       "                   target_type  \n",
       "0               SINGLE PROTEIN  \n",
       "1               SINGLE PROTEIN  \n",
       "2               PROTEIN FAMILY  \n",
       "3  PROTEIN-PROTEIN INTERACTION  "
      ]
     },
     "execution_count": 23,
     "metadata": {},
     "output_type": "execute_result"
    }
   ],
   "source": [
    "uniprot_id = 'P49841'\n",
    "# Take only any information from ChEMBL that is of interest\n",
    "target_P49841 = targets.get(target_components__accession=uniprot_id) \\\n",
    "                     .only('target_chembl_id', 'organism', 'pref_name', 'target_type')\n",
    "pd.DataFrame.from_records(target_P49841)"
   ]
  },
  {
   "cell_type": "markdown",
   "metadata": {},
   "source": [
    "We are going to select the target of interest `CHEMBL262` and save the ChEMBL-ID"
   ]
  },
  {
   "cell_type": "code",
   "execution_count": 24,
   "metadata": {},
   "outputs": [
    {
     "name": "stdout",
     "output_type": "stream",
     "text": [
      "The target of interest is: {'organism': 'Homo sapiens', 'pref_name': 'Glycogen synthase kinase-3 beta', 'target_chembl_id': 'CHEMBL262', 'target_type': 'SINGLE PROTEIN'}\n"
     ]
    }
   ],
   "source": [
    "# Select the target of interest\n",
    "target = target_P49841[0]\n",
    "print(f'The target of interest is: {str(target)}')"
   ]
  },
  {
   "cell_type": "code",
   "execution_count": 26,
   "metadata": {},
   "outputs": [
    {
     "name": "stdout",
     "output_type": "stream",
     "text": [
      "The ChEMBL-ID of interest is: CHEMBL262\n"
     ]
    }
   ],
   "source": [
    "# Save the ChEMBL-ID\n",
    "chembl_id = target['target_chembl_id']\n",
    "print(f'The ChEMBL-ID of interest is: {chembl_id}')"
   ]
  },
  {
   "cell_type": "markdown",
   "metadata": {},
   "source": [
    "## Bioactivity data\n",
    "\n",
    "Now we consult the bioactivity data that is of interest. The steps to follow are:\n",
    "1. Download and filter bioactivities for the target\n",
    "     Bioactivity data will be filtered as follows:\n",
    "         * Type of bioactivity: IC50, EC50, Ki\n",
    "         * Relationship: \"=\"\n",
    "2. Convert the downloaded data into a data frame:\n",
    "     The columns of interest are: `molecule_chembl_id`, `type`, `relation`, `pchembl_value`"
   ]
  },
  {
   "cell_type": "code",
   "execution_count": 27,
   "metadata": {},
   "outputs": [
    {
     "data": {
      "text/html": [
       "<div>\n",
       "<style scoped>\n",
       "    .dataframe tbody tr th:only-of-type {\n",
       "        vertical-align: middle;\n",
       "    }\n",
       "\n",
       "    .dataframe tbody tr th {\n",
       "        vertical-align: top;\n",
       "    }\n",
       "\n",
       "    .dataframe thead th {\n",
       "        text-align: right;\n",
       "    }\n",
       "</style>\n",
       "<table border=\"1\" class=\"dataframe\">\n",
       "  <thead>\n",
       "    <tr style=\"text-align: right;\">\n",
       "      <th></th>\n",
       "      <th>molecule_chembl_id</th>\n",
       "      <th>type</th>\n",
       "      <th>relation</th>\n",
       "      <th>value</th>\n",
       "      <th>units</th>\n",
       "      <th>pchembl_value</th>\n",
       "    </tr>\n",
       "  </thead>\n",
       "  <tbody>\n",
       "    <tr>\n",
       "      <th>0</th>\n",
       "      <td>CHEMBL322970</td>\n",
       "      <td>IC50</td>\n",
       "      <td>=</td>\n",
       "      <td>0.38</td>\n",
       "      <td>uM</td>\n",
       "      <td>6.42</td>\n",
       "    </tr>\n",
       "    <tr>\n",
       "      <th>1</th>\n",
       "      <td>CHEMBL322970</td>\n",
       "      <td>EC50</td>\n",
       "      <td>=</td>\n",
       "      <td>45.6</td>\n",
       "      <td>uM</td>\n",
       "      <td>4.34</td>\n",
       "    </tr>\n",
       "    <tr>\n",
       "      <th>2</th>\n",
       "      <td>CHEMBL322970</td>\n",
       "      <td>EC50</td>\n",
       "      <td>=</td>\n",
       "      <td>30.62</td>\n",
       "      <td>uM</td>\n",
       "      <td>4.51</td>\n",
       "    </tr>\n",
       "    <tr>\n",
       "      <th>3</th>\n",
       "      <td>CHEMBL322970</td>\n",
       "      <td>Fold stimulation</td>\n",
       "      <td>=</td>\n",
       "      <td>1.3</td>\n",
       "      <td>None</td>\n",
       "      <td>None</td>\n",
       "    </tr>\n",
       "    <tr>\n",
       "      <th>4</th>\n",
       "      <td>CHEMBL112564</td>\n",
       "      <td>IC50</td>\n",
       "      <td>=</td>\n",
       "      <td>6.92</td>\n",
       "      <td>uM</td>\n",
       "      <td>5.16</td>\n",
       "    </tr>\n",
       "    <tr>\n",
       "      <th>...</th>\n",
       "      <td>...</td>\n",
       "      <td>...</td>\n",
       "      <td>...</td>\n",
       "      <td>...</td>\n",
       "      <td>...</td>\n",
       "      <td>...</td>\n",
       "    </tr>\n",
       "    <tr>\n",
       "      <th>6863</th>\n",
       "      <td>CHEMBL102714</td>\n",
       "      <td>IC50</td>\n",
       "      <td>=</td>\n",
       "      <td>0.028999999999999998</td>\n",
       "      <td>uM</td>\n",
       "      <td>7.54</td>\n",
       "    </tr>\n",
       "    <tr>\n",
       "      <th>6864</th>\n",
       "      <td>CHEMBL4868123</td>\n",
       "      <td>INH</td>\n",
       "      <td>=</td>\n",
       "      <td>13.0</td>\n",
       "      <td>%</td>\n",
       "      <td>None</td>\n",
       "    </tr>\n",
       "    <tr>\n",
       "      <th>6865</th>\n",
       "      <td>CHEMBL156277</td>\n",
       "      <td>IC50</td>\n",
       "      <td>=</td>\n",
       "      <td>14.0</td>\n",
       "      <td>nM</td>\n",
       "      <td>7.85</td>\n",
       "    </tr>\n",
       "    <tr>\n",
       "      <th>6866</th>\n",
       "      <td>CHEMBL4875188</td>\n",
       "      <td>IC50</td>\n",
       "      <td>=</td>\n",
       "      <td>36.0</td>\n",
       "      <td>nM</td>\n",
       "      <td>7.44</td>\n",
       "    </tr>\n",
       "    <tr>\n",
       "      <th>6867</th>\n",
       "      <td>CHEMBL388978</td>\n",
       "      <td>IC50</td>\n",
       "      <td>=</td>\n",
       "      <td>5.1</td>\n",
       "      <td>nM</td>\n",
       "      <td>8.29</td>\n",
       "    </tr>\n",
       "  </tbody>\n",
       "</table>\n",
       "<p>6868 rows × 6 columns</p>\n",
       "</div>"
      ],
      "text/plain": [
       "     molecule_chembl_id              type relation                 value  \\\n",
       "0          CHEMBL322970              IC50        =                  0.38   \n",
       "1          CHEMBL322970              EC50        =                  45.6   \n",
       "2          CHEMBL322970              EC50        =                 30.62   \n",
       "3          CHEMBL322970  Fold stimulation        =                   1.3   \n",
       "4          CHEMBL112564              IC50        =                  6.92   \n",
       "...                 ...               ...      ...                   ...   \n",
       "6863       CHEMBL102714              IC50        =  0.028999999999999998   \n",
       "6864      CHEMBL4868123               INH        =                  13.0   \n",
       "6865       CHEMBL156277              IC50        =                  14.0   \n",
       "6866      CHEMBL4875188              IC50        =                  36.0   \n",
       "6867       CHEMBL388978              IC50        =                   5.1   \n",
       "\n",
       "     units pchembl_value  \n",
       "0       uM          6.42  \n",
       "1       uM          4.34  \n",
       "2       uM          4.51  \n",
       "3     None          None  \n",
       "4       uM          5.16  \n",
       "...    ...           ...  \n",
       "6863    uM          7.54  \n",
       "6864     %          None  \n",
       "6865    nM          7.85  \n",
       "6866    nM          7.44  \n",
       "6867    nM          8.29  \n",
       "\n",
       "[6868 rows x 6 columns]"
      ]
     },
     "execution_count": 27,
     "metadata": {},
     "output_type": "execute_result"
    }
   ],
   "source": [
    "# First, we download the entire database\n",
    "bioact_temp = bioactivities.filter(target_chembl_id = chembl_id)\\\n",
    "                       .filter(relation = '=') \\\n",
    "                       .only('molecule_chembl_id', 'type', 'relation', 'standard_value', 'standard_units', 'pchembl_value', )\n",
    "df_bioact_temp = pd.DataFrame(bioact_temp)\n",
    "# rearrange the columns\n",
    "df_bioact_temp = df_bioact_temp[['molecule_chembl_id', 'type', 'relation', 'value', 'units', 'pchembl_value']]\n",
    "df_bioact_temp"
   ]
  },
  {
   "cell_type": "code",
   "execution_count": 28,
   "metadata": {},
   "outputs": [
    {
     "name": "stdout",
     "output_type": "stream",
     "text": [
      "Total data loaded: 3065\n"
     ]
    }
   ],
   "source": [
    "# Then, we filter by the type of activity desired\n",
    "df_bioact = df_bioact_temp[(df_bioact_temp['type'] == 'IC50') |\n",
    "                              (df_bioact_temp['type'] == 'EC50')|\n",
    "                              (df_bioact_temp['type'] == 'Ki')]\n",
    "print(f'Total data loaded: {len(df_bioact)}')"
   ]
  },
  {
   "cell_type": "code",
   "execution_count": 29,
   "metadata": {},
   "outputs": [
    {
     "data": {
      "text/html": [
       "<div>\n",
       "<style scoped>\n",
       "    .dataframe tbody tr th:only-of-type {\n",
       "        vertical-align: middle;\n",
       "    }\n",
       "\n",
       "    .dataframe tbody tr th {\n",
       "        vertical-align: top;\n",
       "    }\n",
       "\n",
       "    .dataframe thead th {\n",
       "        text-align: right;\n",
       "    }\n",
       "</style>\n",
       "<table border=\"1\" class=\"dataframe\">\n",
       "  <thead>\n",
       "    <tr style=\"text-align: right;\">\n",
       "      <th></th>\n",
       "      <th>molecule_chembl_id</th>\n",
       "      <th>type</th>\n",
       "      <th>relation</th>\n",
       "      <th>value</th>\n",
       "      <th>units</th>\n",
       "      <th>pchembl_value</th>\n",
       "    </tr>\n",
       "  </thead>\n",
       "  <tbody>\n",
       "    <tr>\n",
       "      <th>0</th>\n",
       "      <td>CHEMBL322970</td>\n",
       "      <td>IC50</td>\n",
       "      <td>=</td>\n",
       "      <td>0.38</td>\n",
       "      <td>uM</td>\n",
       "      <td>6.42</td>\n",
       "    </tr>\n",
       "    <tr>\n",
       "      <th>1</th>\n",
       "      <td>CHEMBL322970</td>\n",
       "      <td>EC50</td>\n",
       "      <td>=</td>\n",
       "      <td>45.6</td>\n",
       "      <td>uM</td>\n",
       "      <td>4.34</td>\n",
       "    </tr>\n",
       "    <tr>\n",
       "      <th>2</th>\n",
       "      <td>CHEMBL322970</td>\n",
       "      <td>EC50</td>\n",
       "      <td>=</td>\n",
       "      <td>30.62</td>\n",
       "      <td>uM</td>\n",
       "      <td>4.51</td>\n",
       "    </tr>\n",
       "    <tr>\n",
       "      <th>4</th>\n",
       "      <td>CHEMBL112564</td>\n",
       "      <td>IC50</td>\n",
       "      <td>=</td>\n",
       "      <td>6.92</td>\n",
       "      <td>uM</td>\n",
       "      <td>5.16</td>\n",
       "    </tr>\n",
       "    <tr>\n",
       "      <th>5</th>\n",
       "      <td>CHEMBL321421</td>\n",
       "      <td>IC50</td>\n",
       "      <td>=</td>\n",
       "      <td>0.41</td>\n",
       "      <td>uM</td>\n",
       "      <td>6.39</td>\n",
       "    </tr>\n",
       "    <tr>\n",
       "      <th>...</th>\n",
       "      <td>...</td>\n",
       "      <td>...</td>\n",
       "      <td>...</td>\n",
       "      <td>...</td>\n",
       "      <td>...</td>\n",
       "      <td>...</td>\n",
       "    </tr>\n",
       "    <tr>\n",
       "      <th>6862</th>\n",
       "      <td>CHEMBL4877175</td>\n",
       "      <td>IC50</td>\n",
       "      <td>=</td>\n",
       "      <td>0.8370000000000001</td>\n",
       "      <td>uM</td>\n",
       "      <td>6.08</td>\n",
       "    </tr>\n",
       "    <tr>\n",
       "      <th>6863</th>\n",
       "      <td>CHEMBL102714</td>\n",
       "      <td>IC50</td>\n",
       "      <td>=</td>\n",
       "      <td>0.028999999999999998</td>\n",
       "      <td>uM</td>\n",
       "      <td>7.54</td>\n",
       "    </tr>\n",
       "    <tr>\n",
       "      <th>6865</th>\n",
       "      <td>CHEMBL156277</td>\n",
       "      <td>IC50</td>\n",
       "      <td>=</td>\n",
       "      <td>14.0</td>\n",
       "      <td>nM</td>\n",
       "      <td>7.85</td>\n",
       "    </tr>\n",
       "    <tr>\n",
       "      <th>6866</th>\n",
       "      <td>CHEMBL4875188</td>\n",
       "      <td>IC50</td>\n",
       "      <td>=</td>\n",
       "      <td>36.0</td>\n",
       "      <td>nM</td>\n",
       "      <td>7.44</td>\n",
       "    </tr>\n",
       "    <tr>\n",
       "      <th>6867</th>\n",
       "      <td>CHEMBL388978</td>\n",
       "      <td>IC50</td>\n",
       "      <td>=</td>\n",
       "      <td>5.1</td>\n",
       "      <td>nM</td>\n",
       "      <td>8.29</td>\n",
       "    </tr>\n",
       "  </tbody>\n",
       "</table>\n",
       "<p>3065 rows × 6 columns</p>\n",
       "</div>"
      ],
      "text/plain": [
       "     molecule_chembl_id  type relation                 value units  \\\n",
       "0          CHEMBL322970  IC50        =                  0.38    uM   \n",
       "1          CHEMBL322970  EC50        =                  45.6    uM   \n",
       "2          CHEMBL322970  EC50        =                 30.62    uM   \n",
       "4          CHEMBL112564  IC50        =                  6.92    uM   \n",
       "5          CHEMBL321421  IC50        =                  0.41    uM   \n",
       "...                 ...   ...      ...                   ...   ...   \n",
       "6862      CHEMBL4877175  IC50        =    0.8370000000000001    uM   \n",
       "6863       CHEMBL102714  IC50        =  0.028999999999999998    uM   \n",
       "6865       CHEMBL156277  IC50        =                  14.0    nM   \n",
       "6866      CHEMBL4875188  IC50        =                  36.0    nM   \n",
       "6867       CHEMBL388978  IC50        =                   5.1    nM   \n",
       "\n",
       "     pchembl_value  \n",
       "0             6.42  \n",
       "1             4.34  \n",
       "2             4.51  \n",
       "4             5.16  \n",
       "5             6.39  \n",
       "...            ...  \n",
       "6862          6.08  \n",
       "6863          7.54  \n",
       "6865          7.85  \n",
       "6866          7.44  \n",
       "6867          8.29  \n",
       "\n",
       "[3065 rows x 6 columns]"
      ]
     },
     "execution_count": 29,
     "metadata": {},
     "output_type": "execute_result"
    }
   ],
   "source": [
    "# first composites of the dataframe\n",
    "df_bioact"
   ]
  },
  {
   "cell_type": "markdown",
   "metadata": {},
   "source": [
    "Recall that the `.head()` method displays the first five elements of the `dataframe`, however, we can quickly see what elements are in the *realtion* and *type* columns."
   ]
  },
  {
   "cell_type": "code",
   "execution_count": 30,
   "metadata": {},
   "outputs": [
    {
     "data": {
      "text/plain": [
       "=    3065\n",
       "Name: relation, dtype: int64"
      ]
     },
     "execution_count": 30,
     "metadata": {},
     "output_type": "execute_result"
    }
   ],
   "source": [
    "df_bioact['relation'].value_counts()"
   ]
  },
  {
   "cell_type": "code",
   "execution_count": 31,
   "metadata": {},
   "outputs": [
    {
     "data": {
      "text/plain": [
       "IC50    2707\n",
       "Ki       289\n",
       "EC50      69\n",
       "Name: type, dtype: int64"
      ]
     },
     "execution_count": 31,
     "metadata": {},
     "output_type": "execute_result"
    }
   ],
   "source": [
    "df_bioact['type'].value_counts()"
   ]
  },
  {
   "cell_type": "markdown",
   "metadata": {},
   "source": [
    "Since the *realtion* column has only one type (this is due to the initial database filter), we can remove it:"
   ]
  },
  {
   "cell_type": "code",
   "execution_count": 32,
   "metadata": {},
   "outputs": [
    {
     "data": {
      "text/html": [
       "<div>\n",
       "<style scoped>\n",
       "    .dataframe tbody tr th:only-of-type {\n",
       "        vertical-align: middle;\n",
       "    }\n",
       "\n",
       "    .dataframe tbody tr th {\n",
       "        vertical-align: top;\n",
       "    }\n",
       "\n",
       "    .dataframe thead th {\n",
       "        text-align: right;\n",
       "    }\n",
       "</style>\n",
       "<table border=\"1\" class=\"dataframe\">\n",
       "  <thead>\n",
       "    <tr style=\"text-align: right;\">\n",
       "      <th></th>\n",
       "      <th>molecule_chembl_id</th>\n",
       "      <th>type</th>\n",
       "      <th>value</th>\n",
       "      <th>units</th>\n",
       "      <th>pchembl_value</th>\n",
       "    </tr>\n",
       "  </thead>\n",
       "  <tbody>\n",
       "    <tr>\n",
       "      <th>0</th>\n",
       "      <td>CHEMBL322970</td>\n",
       "      <td>IC50</td>\n",
       "      <td>0.38</td>\n",
       "      <td>uM</td>\n",
       "      <td>6.42</td>\n",
       "    </tr>\n",
       "    <tr>\n",
       "      <th>1</th>\n",
       "      <td>CHEMBL322970</td>\n",
       "      <td>EC50</td>\n",
       "      <td>45.6</td>\n",
       "      <td>uM</td>\n",
       "      <td>4.34</td>\n",
       "    </tr>\n",
       "    <tr>\n",
       "      <th>2</th>\n",
       "      <td>CHEMBL322970</td>\n",
       "      <td>EC50</td>\n",
       "      <td>30.62</td>\n",
       "      <td>uM</td>\n",
       "      <td>4.51</td>\n",
       "    </tr>\n",
       "    <tr>\n",
       "      <th>4</th>\n",
       "      <td>CHEMBL112564</td>\n",
       "      <td>IC50</td>\n",
       "      <td>6.92</td>\n",
       "      <td>uM</td>\n",
       "      <td>5.16</td>\n",
       "    </tr>\n",
       "    <tr>\n",
       "      <th>5</th>\n",
       "      <td>CHEMBL321421</td>\n",
       "      <td>IC50</td>\n",
       "      <td>0.41</td>\n",
       "      <td>uM</td>\n",
       "      <td>6.39</td>\n",
       "    </tr>\n",
       "  </tbody>\n",
       "</table>\n",
       "</div>"
      ],
      "text/plain": [
       "  molecule_chembl_id  type  value units pchembl_value\n",
       "0       CHEMBL322970  IC50   0.38    uM          6.42\n",
       "1       CHEMBL322970  EC50   45.6    uM          4.34\n",
       "2       CHEMBL322970  EC50  30.62    uM          4.51\n",
       "4       CHEMBL112564  IC50   6.92    uM          5.16\n",
       "5       CHEMBL321421  IC50   0.41    uM          6.39"
      ]
     },
     "execution_count": 32,
     "metadata": {},
     "output_type": "execute_result"
    }
   ],
   "source": [
    "df_bioact.pop('relation')\n",
    "df_bioact.head()"
   ]
  },
  {
   "cell_type": "markdown",
   "metadata": {},
   "source": [
    "### Clear data\n",
    "It is possible that some compounds have missing values and also duplicates, since the same compound may have been tested more than once (we will keep only the one that was tested first)"
   ]
  },
  {
   "cell_type": "code",
   "execution_count": 33,
   "metadata": {},
   "outputs": [
    {
     "name": "stdout",
     "output_type": "stream",
     "text": [
      "Total original compounds is: 3065\n"
     ]
    }
   ],
   "source": [
    "# First we check how many compounds we have in total\n",
    "ori_len = len(df_bioact)\n",
    "print(f'Total original compounds is: {ori_len}')"
   ]
  },
  {
   "cell_type": "code",
   "execution_count": 35,
   "metadata": {},
   "outputs": [
    {
     "name": "stdout",
     "output_type": "stream",
     "text": [
      "Total compounds after removing those with missing data: 3042\n",
      "Total compounds removed 0\n"
     ]
    }
   ],
   "source": [
    "# Remove compounds that do not have pChEMBL_value\n",
    "df_bioact = df_bioact.dropna(axis=0, how = 'any')\n",
    "new_len = len(df_bioact)\n",
    "print(f'Total compounds after removing those with missing data: {new_len}')\n",
    "# Subtract the total number of compounds from the total number of compounds by removing those without pChEMBL_value\n",
    "print(f'Total compounds removed {ori_len - new_len}')\n",
    "ori_len = new_len"
   ]
  },
  {
   "cell_type": "code",
   "execution_count": 36,
   "metadata": {},
   "outputs": [
    {
     "name": "stdout",
     "output_type": "stream",
     "text": [
      "Total compounds without duplicates : 2605\n",
      "Total compounds removed 437\n"
     ]
    }
   ],
   "source": [
    "# Duplicate compounds are removed and we are left with the first tested compound\n",
    "df_bioact = df_bioact.drop_duplicates('molecule_chembl_id', keep = 'first')\n",
    "new_len = len(df_bioact)\n",
    "print(f'Total compounds without duplicates : {new_len}')\n",
    "# Subtract from the total number of compounds by removing those without pChEMBL_value the total number of compounds without duplicates\n",
    "print(f'Total compounds removed {ori_len - new_len}')\n",
    "ori_len = new_len"
   ]
  },
  {
   "cell_type": "code",
   "execution_count": 37,
   "metadata": {},
   "outputs": [
    {
     "data": {
      "text/html": [
       "<div>\n",
       "<style scoped>\n",
       "    .dataframe tbody tr th:only-of-type {\n",
       "        vertical-align: middle;\n",
       "    }\n",
       "\n",
       "    .dataframe tbody tr th {\n",
       "        vertical-align: top;\n",
       "    }\n",
       "\n",
       "    .dataframe thead th {\n",
       "        text-align: right;\n",
       "    }\n",
       "</style>\n",
       "<table border=\"1\" class=\"dataframe\">\n",
       "  <thead>\n",
       "    <tr style=\"text-align: right;\">\n",
       "      <th></th>\n",
       "      <th>molecule_chembl_id</th>\n",
       "      <th>type</th>\n",
       "      <th>value</th>\n",
       "      <th>units</th>\n",
       "      <th>pchembl_value</th>\n",
       "    </tr>\n",
       "  </thead>\n",
       "  <tbody>\n",
       "    <tr>\n",
       "      <th>0</th>\n",
       "      <td>CHEMBL322970</td>\n",
       "      <td>IC50</td>\n",
       "      <td>0.38</td>\n",
       "      <td>uM</td>\n",
       "      <td>6.42</td>\n",
       "    </tr>\n",
       "    <tr>\n",
       "      <th>4</th>\n",
       "      <td>CHEMBL112564</td>\n",
       "      <td>IC50</td>\n",
       "      <td>6.92</td>\n",
       "      <td>uM</td>\n",
       "      <td>5.16</td>\n",
       "    </tr>\n",
       "    <tr>\n",
       "      <th>5</th>\n",
       "      <td>CHEMBL321421</td>\n",
       "      <td>IC50</td>\n",
       "      <td>0.41</td>\n",
       "      <td>uM</td>\n",
       "      <td>6.39</td>\n",
       "    </tr>\n",
       "    <tr>\n",
       "      <th>6</th>\n",
       "      <td>CHEMBL388978</td>\n",
       "      <td>IC50</td>\n",
       "      <td>0.16</td>\n",
       "      <td>uM</td>\n",
       "      <td>6.80</td>\n",
       "    </tr>\n",
       "    <tr>\n",
       "      <th>8</th>\n",
       "      <td>CHEMBL115875</td>\n",
       "      <td>IC50</td>\n",
       "      <td>9.6</td>\n",
       "      <td>uM</td>\n",
       "      <td>5.02</td>\n",
       "    </tr>\n",
       "  </tbody>\n",
       "</table>\n",
       "</div>"
      ],
      "text/plain": [
       "  molecule_chembl_id  type value units pchembl_value\n",
       "0       CHEMBL322970  IC50  0.38    uM          6.42\n",
       "4       CHEMBL112564  IC50  6.92    uM          5.16\n",
       "5       CHEMBL321421  IC50  0.41    uM          6.39\n",
       "6       CHEMBL388978  IC50  0.16    uM          6.80\n",
       "8       CHEMBL115875  IC50   9.6    uM          5.02"
      ]
     },
     "execution_count": 37,
     "metadata": {},
     "output_type": "execute_result"
    }
   ],
   "source": [
    "df_bioact.head()"
   ]
  },
  {
   "cell_type": "markdown",
   "metadata": {},
   "source": [
    "Now that we have removed some rows we will reset the index so that it is continuous"
   ]
  },
  {
   "cell_type": "code",
   "execution_count": 38,
   "metadata": {},
   "outputs": [
    {
     "data": {
      "text/html": [
       "<div>\n",
       "<style scoped>\n",
       "    .dataframe tbody tr th:only-of-type {\n",
       "        vertical-align: middle;\n",
       "    }\n",
       "\n",
       "    .dataframe tbody tr th {\n",
       "        vertical-align: top;\n",
       "    }\n",
       "\n",
       "    .dataframe thead th {\n",
       "        text-align: right;\n",
       "    }\n",
       "</style>\n",
       "<table border=\"1\" class=\"dataframe\">\n",
       "  <thead>\n",
       "    <tr style=\"text-align: right;\">\n",
       "      <th></th>\n",
       "      <th>molecule_chembl_id</th>\n",
       "      <th>type</th>\n",
       "      <th>value</th>\n",
       "      <th>units</th>\n",
       "      <th>pchembl_value</th>\n",
       "    </tr>\n",
       "  </thead>\n",
       "  <tbody>\n",
       "    <tr>\n",
       "      <th>0</th>\n",
       "      <td>CHEMBL322970</td>\n",
       "      <td>IC50</td>\n",
       "      <td>0.38</td>\n",
       "      <td>uM</td>\n",
       "      <td>6.42</td>\n",
       "    </tr>\n",
       "    <tr>\n",
       "      <th>1</th>\n",
       "      <td>CHEMBL112564</td>\n",
       "      <td>IC50</td>\n",
       "      <td>6.92</td>\n",
       "      <td>uM</td>\n",
       "      <td>5.16</td>\n",
       "    </tr>\n",
       "    <tr>\n",
       "      <th>2</th>\n",
       "      <td>CHEMBL321421</td>\n",
       "      <td>IC50</td>\n",
       "      <td>0.41</td>\n",
       "      <td>uM</td>\n",
       "      <td>6.39</td>\n",
       "    </tr>\n",
       "    <tr>\n",
       "      <th>3</th>\n",
       "      <td>CHEMBL388978</td>\n",
       "      <td>IC50</td>\n",
       "      <td>0.16</td>\n",
       "      <td>uM</td>\n",
       "      <td>6.80</td>\n",
       "    </tr>\n",
       "    <tr>\n",
       "      <th>4</th>\n",
       "      <td>CHEMBL115875</td>\n",
       "      <td>IC50</td>\n",
       "      <td>9.6</td>\n",
       "      <td>uM</td>\n",
       "      <td>5.02</td>\n",
       "    </tr>\n",
       "  </tbody>\n",
       "</table>\n",
       "</div>"
      ],
      "text/plain": [
       "  molecule_chembl_id  type value units pchembl_value\n",
       "0       CHEMBL322970  IC50  0.38    uM          6.42\n",
       "1       CHEMBL112564  IC50  6.92    uM          5.16\n",
       "2       CHEMBL321421  IC50  0.41    uM          6.39\n",
       "3       CHEMBL388978  IC50  0.16    uM          6.80\n",
       "4       CHEMBL115875  IC50   9.6    uM          5.02"
      ]
     },
     "execution_count": 38,
     "metadata": {},
     "output_type": "execute_result"
    }
   ],
   "source": [
    "df_bioact.reset_index(drop=True, inplace=True)\n",
    "df_bioact.head()"
   ]
  },
  {
   "cell_type": "markdown",
   "metadata": {},
   "source": [
    "### Organize the data\n",
    "Let's arrange the DataFrame from largest to smallest pchembl_value. Notice that the column values are not numeric"
   ]
  },
  {
   "cell_type": "code",
   "execution_count": 39,
   "metadata": {},
   "outputs": [
    {
     "name": "stdout",
     "output_type": "stream",
     "text": [
      "6.42 <class 'str'>\n"
     ]
    }
   ],
   "source": [
    "print(df_bioact['pchembl_value'][0],type(df_bioact['pchembl_value'][0]))"
   ]
  },
  {
   "cell_type": "markdown",
   "metadata": {},
   "source": [
    "Therefore, we must first convert them to type `float`."
   ]
  },
  {
   "cell_type": "code",
   "execution_count": 40,
   "metadata": {},
   "outputs": [
    {
     "name": "stdout",
     "output_type": "stream",
     "text": [
      "6.42 <class 'numpy.float64'>\n"
     ]
    }
   ],
   "source": [
    "df_bioact['pchembl_value'] = df_bioact['pchembl_value'].astype(float)\n",
    "print(df_bioact['pchembl_value'][0],type(df_bioact['pchembl_value'][0]))"
   ]
  },
  {
   "cell_type": "markdown",
   "metadata": {},
   "source": [
    "Now we proceed to organize the DataFrame"
   ]
  },
  {
   "cell_type": "code",
   "execution_count": 41,
   "metadata": {},
   "outputs": [
    {
     "data": {
      "text/html": [
       "<div>\n",
       "<style scoped>\n",
       "    .dataframe tbody tr th:only-of-type {\n",
       "        vertical-align: middle;\n",
       "    }\n",
       "\n",
       "    .dataframe tbody tr th {\n",
       "        vertical-align: top;\n",
       "    }\n",
       "\n",
       "    .dataframe thead th {\n",
       "        text-align: right;\n",
       "    }\n",
       "</style>\n",
       "<table border=\"1\" class=\"dataframe\">\n",
       "  <thead>\n",
       "    <tr style=\"text-align: right;\">\n",
       "      <th></th>\n",
       "      <th>molecule_chembl_id</th>\n",
       "      <th>type</th>\n",
       "      <th>value</th>\n",
       "      <th>units</th>\n",
       "      <th>pchembl_value</th>\n",
       "    </tr>\n",
       "  </thead>\n",
       "  <tbody>\n",
       "    <tr>\n",
       "      <th>0</th>\n",
       "      <td>CHEMBL2386094</td>\n",
       "      <td>IC50</td>\n",
       "      <td>0.013</td>\n",
       "      <td>nM</td>\n",
       "      <td>10.89</td>\n",
       "    </tr>\n",
       "    <tr>\n",
       "      <th>1</th>\n",
       "      <td>CHEMBL4084855</td>\n",
       "      <td>IC50</td>\n",
       "      <td>0.1</td>\n",
       "      <td>nM</td>\n",
       "      <td>10.00</td>\n",
       "    </tr>\n",
       "    <tr>\n",
       "      <th>2</th>\n",
       "      <td>CHEMBL3895998</td>\n",
       "      <td>IC50</td>\n",
       "      <td>0.1</td>\n",
       "      <td>nM</td>\n",
       "      <td>10.00</td>\n",
       "    </tr>\n",
       "    <tr>\n",
       "      <th>3</th>\n",
       "      <td>CHEMBL564450</td>\n",
       "      <td>IC50</td>\n",
       "      <td>0.00014</td>\n",
       "      <td>uM</td>\n",
       "      <td>9.85</td>\n",
       "    </tr>\n",
       "    <tr>\n",
       "      <th>4</th>\n",
       "      <td>CHEMBL4077376</td>\n",
       "      <td>IC50</td>\n",
       "      <td>0.2</td>\n",
       "      <td>nM</td>\n",
       "      <td>9.70</td>\n",
       "    </tr>\n",
       "  </tbody>\n",
       "</table>\n",
       "</div>"
      ],
      "text/plain": [
       "  molecule_chembl_id  type    value units  pchembl_value\n",
       "0      CHEMBL2386094  IC50    0.013    nM          10.89\n",
       "1      CHEMBL4084855  IC50      0.1    nM          10.00\n",
       "2      CHEMBL3895998  IC50      0.1    nM          10.00\n",
       "3       CHEMBL564450  IC50  0.00014    uM           9.85\n",
       "4      CHEMBL4077376  IC50      0.2    nM           9.70"
      ]
     },
     "execution_count": 41,
     "metadata": {},
     "output_type": "execute_result"
    }
   ],
   "source": [
    "# Arrange from highest to lowest pchembl_value\n",
    "df_bioact.sort_values(by=\"pchembl_value\", ascending=False, inplace=True)\n",
    "# reset the index\n",
    "df_bioact.reset_index(drop=True, inplace=True)\n",
    "# We print the first data\n",
    "df_bioact.head()"
   ]
  },
  {
   "cell_type": "markdown",
   "metadata": {},
   "source": [
    "### Save and load the data\n",
    "To continue using the Data Frame in practice without always having to connect to ChEMBL, we are going to save the obtained Data Frame as a file separated by commas (data/composites_uniprot_id.csv)"
   ]
  },
  {
   "cell_type": "code",
   "execution_count": 42,
   "metadata": {},
   "outputs": [],
   "source": [
    "df_bioact.to_csv(f\"./data/compounds_{uniprot_id}.csv\", index=0)"
   ]
  },
  {
   "cell_type": "markdown",
   "metadata": {},
   "source": [
    "From now on, if we want to use the Dataframe, we can load the saved file"
   ]
  },
  {
   "cell_type": "code",
   "execution_count": 43,
   "metadata": {},
   "outputs": [
    {
     "data": {
      "text/html": [
       "<div>\n",
       "<style scoped>\n",
       "    .dataframe tbody tr th:only-of-type {\n",
       "        vertical-align: middle;\n",
       "    }\n",
       "\n",
       "    .dataframe tbody tr th {\n",
       "        vertical-align: top;\n",
       "    }\n",
       "\n",
       "    .dataframe thead th {\n",
       "        text-align: right;\n",
       "    }\n",
       "</style>\n",
       "<table border=\"1\" class=\"dataframe\">\n",
       "  <thead>\n",
       "    <tr style=\"text-align: right;\">\n",
       "      <th></th>\n",
       "      <th>molecule_chembl_id</th>\n",
       "      <th>type</th>\n",
       "      <th>value</th>\n",
       "      <th>units</th>\n",
       "      <th>pchembl_value</th>\n",
       "    </tr>\n",
       "  </thead>\n",
       "  <tbody>\n",
       "    <tr>\n",
       "      <th>0</th>\n",
       "      <td>CHEMBL2386094</td>\n",
       "      <td>IC50</td>\n",
       "      <td>0.01300</td>\n",
       "      <td>nM</td>\n",
       "      <td>10.89</td>\n",
       "    </tr>\n",
       "    <tr>\n",
       "      <th>1</th>\n",
       "      <td>CHEMBL4084855</td>\n",
       "      <td>IC50</td>\n",
       "      <td>0.10000</td>\n",
       "      <td>nM</td>\n",
       "      <td>10.00</td>\n",
       "    </tr>\n",
       "    <tr>\n",
       "      <th>2</th>\n",
       "      <td>CHEMBL3895998</td>\n",
       "      <td>IC50</td>\n",
       "      <td>0.10000</td>\n",
       "      <td>nM</td>\n",
       "      <td>10.00</td>\n",
       "    </tr>\n",
       "    <tr>\n",
       "      <th>3</th>\n",
       "      <td>CHEMBL564450</td>\n",
       "      <td>IC50</td>\n",
       "      <td>0.00014</td>\n",
       "      <td>uM</td>\n",
       "      <td>9.85</td>\n",
       "    </tr>\n",
       "    <tr>\n",
       "      <th>4</th>\n",
       "      <td>CHEMBL4077376</td>\n",
       "      <td>IC50</td>\n",
       "      <td>0.20000</td>\n",
       "      <td>nM</td>\n",
       "      <td>9.70</td>\n",
       "    </tr>\n",
       "  </tbody>\n",
       "</table>\n",
       "</div>"
      ],
      "text/plain": [
       "  molecule_chembl_id  type    value units  pchembl_value\n",
       "0      CHEMBL2386094  IC50  0.01300    nM          10.89\n",
       "1      CHEMBL4084855  IC50  0.10000    nM          10.00\n",
       "2      CHEMBL3895998  IC50  0.10000    nM          10.00\n",
       "3       CHEMBL564450  IC50  0.00014    uM           9.85\n",
       "4      CHEMBL4077376  IC50  0.20000    nM           9.70"
      ]
     },
     "execution_count": 43,
     "metadata": {},
     "output_type": "execute_result"
    }
   ],
   "source": [
    "df_bioact = pd.read_csv(f\"data/compounds_{uniprot_id}.csv\")\n",
    "df_bioact.head()"
   ]
  },
  {
   "cell_type": "markdown",
   "metadata": {},
   "source": [
    "## Compound data\n",
    "\n",
    "Next we are going to obtain the data of the molecules that are stored within each molecule_chembl_id"
   ]
  },
  {
   "cell_type": "code",
   "execution_count": 44,
   "metadata": {},
   "outputs": [],
   "source": [
    "# Load the previously saved file\n",
    "df_bioact = pd.read_csv(f\"data/compounds_{uniprot_id}.csv\")"
   ]
  },
  {
   "cell_type": "code",
   "execution_count": 45,
   "metadata": {},
   "outputs": [],
   "source": [
    "# First we need to get the list of compounds that we define as bioactive\n",
    "list_comp_id = list(df_bioact['molecule_chembl_id'])\n",
    "# Get the structure of each compound\n",
    "compounds_list = compounds.filter(molecule_chembl_id__in = list_comp_id) \\\n",
    "                             .only('molecule_chembl_id','molecule_structures')"
   ]
  },
  {
   "cell_type": "code",
   "execution_count": 46,
   "metadata": {},
   "outputs": [
    {
     "name": "stdout",
     "output_type": "stream",
     "text": [
      "Total of compounds is: 2605\n"
     ]
    },
    {
     "data": {
      "text/html": [
       "<div>\n",
       "<style scoped>\n",
       "    .dataframe tbody tr th:only-of-type {\n",
       "        vertical-align: middle;\n",
       "    }\n",
       "\n",
       "    .dataframe tbody tr th {\n",
       "        vertical-align: top;\n",
       "    }\n",
       "\n",
       "    .dataframe thead th {\n",
       "        text-align: right;\n",
       "    }\n",
       "</style>\n",
       "<table border=\"1\" class=\"dataframe\">\n",
       "  <thead>\n",
       "    <tr style=\"text-align: right;\">\n",
       "      <th></th>\n",
       "      <th>molecule_chembl_id</th>\n",
       "      <th>molecule_structures</th>\n",
       "    </tr>\n",
       "  </thead>\n",
       "  <tbody>\n",
       "    <tr>\n",
       "      <th>0</th>\n",
       "      <td>CHEMBL6246</td>\n",
       "      <td>{'canonical_smiles': 'O=c1oc2c(O)c(O)cc3c(=O)o...</td>\n",
       "    </tr>\n",
       "    <tr>\n",
       "      <th>1</th>\n",
       "      <td>CHEMBL6291</td>\n",
       "      <td>{'canonical_smiles': 'Cn1cc(C2=C(c3cn(CCCSC(=N...</td>\n",
       "    </tr>\n",
       "    <tr>\n",
       "      <th>2</th>\n",
       "      <td>CHEMBL269538</td>\n",
       "      <td>{'canonical_smiles': 'COc1ccc2c(c1)[nH]c1c(C)n...</td>\n",
       "    </tr>\n",
       "    <tr>\n",
       "      <th>3</th>\n",
       "      <td>CHEMBL28</td>\n",
       "      <td>{'canonical_smiles': 'O=c1cc(-c2ccc(O)cc2)oc2c...</td>\n",
       "    </tr>\n",
       "    <tr>\n",
       "      <th>4</th>\n",
       "      <td>CHEMBL7463</td>\n",
       "      <td>{'canonical_smiles': 'CN(C)CCCn1cc(C2=C(c3c[nH...</td>\n",
       "    </tr>\n",
       "  </tbody>\n",
       "</table>\n",
       "</div>"
      ],
      "text/plain": [
       "  molecule_chembl_id                                molecule_structures\n",
       "0         CHEMBL6246  {'canonical_smiles': 'O=c1oc2c(O)c(O)cc3c(=O)o...\n",
       "1         CHEMBL6291  {'canonical_smiles': 'Cn1cc(C2=C(c3cn(CCCSC(=N...\n",
       "2       CHEMBL269538  {'canonical_smiles': 'COc1ccc2c(c1)[nH]c1c(C)n...\n",
       "3           CHEMBL28  {'canonical_smiles': 'O=c1cc(-c2ccc(O)cc2)oc2c...\n",
       "4         CHEMBL7463  {'canonical_smiles': 'CN(C)CCCn1cc(C2=C(c3c[nH..."
      ]
     },
     "execution_count": 46,
     "metadata": {},
     "output_type": "execute_result"
    }
   ],
   "source": [
    "# We must convert the obtained list into a dataframe. This may take a few minutes\n",
    "df_comp = pd.DataFrame(compounds_list)\n",
    "# remove duplicates\n",
    "df_comp = df_comp.drop_duplicates('molecule_chembl_id', keep = 'first')\n",
    "# print(f'The total number of compounds is: ' + str(len(dataframe_comp)))\n",
    "print(f'Total of compounds is: {str(len(df_comp))}')\n",
    "df_comp.head()"
   ]
  },
  {
   "cell_type": "markdown",
   "metadata": {},
   "source": [
    "Compounds have different types of representations such as the SMILES, the InChI and the InChI Key. We are only interested in staying with the SMILES since it describes the chemical structure."
   ]
  },
  {
   "cell_type": "code",
   "execution_count": 47,
   "metadata": {},
   "outputs": [
    {
     "data": {
      "text/html": [
       "<div>\n",
       "<style scoped>\n",
       "    .dataframe tbody tr th:only-of-type {\n",
       "        vertical-align: middle;\n",
       "    }\n",
       "\n",
       "    .dataframe tbody tr th {\n",
       "        vertical-align: top;\n",
       "    }\n",
       "\n",
       "    .dataframe thead th {\n",
       "        text-align: right;\n",
       "    }\n",
       "</style>\n",
       "<table border=\"1\" class=\"dataframe\">\n",
       "  <thead>\n",
       "    <tr style=\"text-align: right;\">\n",
       "      <th></th>\n",
       "      <th>molecule_chembl_id</th>\n",
       "      <th>molecule_structures</th>\n",
       "    </tr>\n",
       "  </thead>\n",
       "  <tbody>\n",
       "    <tr>\n",
       "      <th>0</th>\n",
       "      <td>CHEMBL6246</td>\n",
       "      <td>O=c1oc2c(O)c(O)cc3c(=O)oc4c(O)c(O)cc1c4c23</td>\n",
       "    </tr>\n",
       "    <tr>\n",
       "      <th>1</th>\n",
       "      <td>CHEMBL6291</td>\n",
       "      <td>Cn1cc(C2=C(c3cn(CCCSC(=N)N)c4ccccc34)C(=O)NC2=...</td>\n",
       "    </tr>\n",
       "    <tr>\n",
       "      <th>2</th>\n",
       "      <td>CHEMBL269538</td>\n",
       "      <td>COc1ccc2c(c1)[nH]c1c(C)nccc12</td>\n",
       "    </tr>\n",
       "    <tr>\n",
       "      <th>3</th>\n",
       "      <td>CHEMBL28</td>\n",
       "      <td>O=c1cc(-c2ccc(O)cc2)oc2cc(O)cc(O)c12</td>\n",
       "    </tr>\n",
       "    <tr>\n",
       "      <th>4</th>\n",
       "      <td>CHEMBL7463</td>\n",
       "      <td>CN(C)CCCn1cc(C2=C(c3c[nH]c4ccccc34)C(=O)NC2=O)...</td>\n",
       "    </tr>\n",
       "  </tbody>\n",
       "</table>\n",
       "</div>"
      ],
      "text/plain": [
       "  molecule_chembl_id                                molecule_structures\n",
       "0         CHEMBL6246         O=c1oc2c(O)c(O)cc3c(=O)oc4c(O)c(O)cc1c4c23\n",
       "1         CHEMBL6291  Cn1cc(C2=C(c3cn(CCCSC(=N)N)c4ccccc34)C(=O)NC2=...\n",
       "2       CHEMBL269538                      COc1ccc2c(c1)[nH]c1c(C)nccc12\n",
       "3           CHEMBL28               O=c1cc(-c2ccc(O)cc2)oc2cc(O)cc(O)c12\n",
       "4         CHEMBL7463  CN(C)CCCn1cc(C2=C(c3c[nH]c4ccccc34)C(=O)NC2=O)..."
      ]
     },
     "execution_count": 47,
     "metadata": {},
     "output_type": "execute_result"
    }
   ],
   "source": [
    "# We are going to use a for loop to iterate through each row (df_comp.iterrows())\n",
    "for i, cmpd in df_comp.iterrows():\n",
    "     if df_comp.loc[i]['molecule_structures'] is not None:\n",
    "         df_comp.loc[i]['molecule_structures'] = cmpd['molecule_structures']['canonical_smiles']\n",
    "\n",
    "df_comp.head()"
   ]
  },
  {
   "cell_type": "markdown",
   "metadata": {},
   "source": [
    "## Merge the Dataframes\n",
    "\n",
    "Now we have two dataframes that we are going to combine to have all the data in a single dataframe and be able to save it."
   ]
  },
  {
   "cell_type": "code",
   "execution_count": 48,
   "metadata": {},
   "outputs": [
    {
     "name": "stdout",
     "output_type": "stream",
     "text": [
      "Total of compounds is: 2605\n"
     ]
    },
    {
     "data": {
      "text/html": [
       "<div>\n",
       "<style scoped>\n",
       "    .dataframe tbody tr th:only-of-type {\n",
       "        vertical-align: middle;\n",
       "    }\n",
       "\n",
       "    .dataframe tbody tr th {\n",
       "        vertical-align: top;\n",
       "    }\n",
       "\n",
       "    .dataframe thead th {\n",
       "        text-align: right;\n",
       "    }\n",
       "</style>\n",
       "<table border=\"1\" class=\"dataframe\">\n",
       "  <thead>\n",
       "    <tr style=\"text-align: right;\">\n",
       "      <th></th>\n",
       "      <th>molecule_chembl_id</th>\n",
       "      <th>pchembl_value</th>\n",
       "      <th>molecule_structures</th>\n",
       "    </tr>\n",
       "  </thead>\n",
       "  <tbody>\n",
       "    <tr>\n",
       "      <th>0</th>\n",
       "      <td>CHEMBL2386094</td>\n",
       "      <td>10.89</td>\n",
       "      <td>O=C1NC(=O)C(c2cn3c4c(cc(F)cc24)CN(C(=O)N2CCOCC...</td>\n",
       "    </tr>\n",
       "    <tr>\n",
       "      <th>1</th>\n",
       "      <td>CHEMBL4084855</td>\n",
       "      <td>10.00</td>\n",
       "      <td>COc1ccc(N2CCN(c3nc(-c4ccncn4)cc(=O)n3C)[C@H](C...</td>\n",
       "    </tr>\n",
       "    <tr>\n",
       "      <th>2</th>\n",
       "      <td>CHEMBL3895998</td>\n",
       "      <td>10.00</td>\n",
       "      <td>Nc1ncc(-c2ccccc2F)nc1C(=O)Nc1cnccc1N1CCC(N)CC1</td>\n",
       "    </tr>\n",
       "    <tr>\n",
       "      <th>3</th>\n",
       "      <td>CHEMBL564450</td>\n",
       "      <td>9.85</td>\n",
       "      <td>COc1cc(C2=C(c3cn(CCN4CCN(C)CC4)c4ccccc34)C(=O)...</td>\n",
       "    </tr>\n",
       "    <tr>\n",
       "      <th>4</th>\n",
       "      <td>CHEMBL4077376</td>\n",
       "      <td>9.70</td>\n",
       "      <td>C[C@@H]1CN(c2ccccc2F)CCN1c1nc(-c2ccncn2)cc(=O)n1C</td>\n",
       "    </tr>\n",
       "  </tbody>\n",
       "</table>\n",
       "</div>"
      ],
      "text/plain": [
       "  molecule_chembl_id  pchembl_value  \\\n",
       "0      CHEMBL2386094          10.89   \n",
       "1      CHEMBL4084855          10.00   \n",
       "2      CHEMBL3895998          10.00   \n",
       "3       CHEMBL564450           9.85   \n",
       "4      CHEMBL4077376           9.70   \n",
       "\n",
       "                                 molecule_structures  \n",
       "0  O=C1NC(=O)C(c2cn3c4c(cc(F)cc24)CN(C(=O)N2CCOCC...  \n",
       "1  COc1ccc(N2CCN(c3nc(-c4ccncn4)cc(=O)n3C)[C@H](C...  \n",
       "2     Nc1ncc(-c2ccccc2F)nc1C(=O)Nc1cnccc1N1CCC(N)CC1  \n",
       "3  COc1cc(C2=C(c3cn(CCN4CCN(C)CC4)c4ccccc34)C(=O)...  \n",
       "4  C[C@@H]1CN(c2ccccc2F)CCN1c1nc(-c2ccncn2)cc(=O)n1C  "
      ]
     },
     "execution_count": 48,
     "metadata": {},
     "output_type": "execute_result"
    }
   ],
   "source": [
    "# In the Bioactivity Dataframe, only two columns are filtered\n",
    "df_output = pd.merge(df_bioact[['molecule_chembl_id','pchembl_value']], df_comp, on='molecule_chembl_id')\n",
    "print(f'Total of compounds is: {str(len(df_output))}')\n",
    "df_output.head()"
   ]
  },
  {
   "cell_type": "markdown",
   "metadata": {},
   "source": [
    "Columns can be renamed"
   ]
  },
  {
   "cell_type": "code",
   "execution_count": 52,
   "metadata": {},
   "outputs": [
    {
     "name": "stdout",
     "output_type": "stream",
     "text": [
      "Total of compounds is: 2605\n"
     ]
    },
    {
     "data": {
      "text/html": [
       "<div>\n",
       "<style scoped>\n",
       "    .dataframe tbody tr th:only-of-type {\n",
       "        vertical-align: middle;\n",
       "    }\n",
       "\n",
       "    .dataframe tbody tr th {\n",
       "        vertical-align: top;\n",
       "    }\n",
       "\n",
       "    .dataframe thead th {\n",
       "        text-align: right;\n",
       "    }\n",
       "</style>\n",
       "<table border=\"1\" class=\"dataframe\">\n",
       "  <thead>\n",
       "    <tr style=\"text-align: right;\">\n",
       "      <th></th>\n",
       "      <th>molecule_chembl_id</th>\n",
       "      <th>pIC50</th>\n",
       "      <th>smiles</th>\n",
       "    </tr>\n",
       "  </thead>\n",
       "  <tbody>\n",
       "    <tr>\n",
       "      <th>0</th>\n",
       "      <td>CHEMBL2386094</td>\n",
       "      <td>10.89</td>\n",
       "      <td>O=C1NC(=O)C(c2cn3c4c(cc(F)cc24)CN(C(=O)N2CCOCC...</td>\n",
       "    </tr>\n",
       "    <tr>\n",
       "      <th>1</th>\n",
       "      <td>CHEMBL4084855</td>\n",
       "      <td>10.00</td>\n",
       "      <td>COc1ccc(N2CCN(c3nc(-c4ccncn4)cc(=O)n3C)[C@H](C...</td>\n",
       "    </tr>\n",
       "    <tr>\n",
       "      <th>2</th>\n",
       "      <td>CHEMBL3895998</td>\n",
       "      <td>10.00</td>\n",
       "      <td>Nc1ncc(-c2ccccc2F)nc1C(=O)Nc1cnccc1N1CCC(N)CC1</td>\n",
       "    </tr>\n",
       "    <tr>\n",
       "      <th>3</th>\n",
       "      <td>CHEMBL564450</td>\n",
       "      <td>9.85</td>\n",
       "      <td>COc1cc(C2=C(c3cn(CCN4CCN(C)CC4)c4ccccc34)C(=O)...</td>\n",
       "    </tr>\n",
       "    <tr>\n",
       "      <th>4</th>\n",
       "      <td>CHEMBL4077376</td>\n",
       "      <td>9.70</td>\n",
       "      <td>C[C@@H]1CN(c2ccccc2F)CCN1c1nc(-c2ccncn2)cc(=O)n1C</td>\n",
       "    </tr>\n",
       "  </tbody>\n",
       "</table>\n",
       "</div>"
      ],
      "text/plain": [
       "  molecule_chembl_id  pIC50                                             smiles\n",
       "0      CHEMBL2386094  10.89  O=C1NC(=O)C(c2cn3c4c(cc(F)cc24)CN(C(=O)N2CCOCC...\n",
       "1      CHEMBL4084855  10.00  COc1ccc(N2CCN(c3nc(-c4ccncn4)cc(=O)n3C)[C@H](C...\n",
       "2      CHEMBL3895998  10.00     Nc1ncc(-c2ccccc2F)nc1C(=O)Nc1cnccc1N1CCC(N)CC1\n",
       "3       CHEMBL564450   9.85  COc1cc(C2=C(c3cn(CCN4CCN(C)CC4)c4ccccc34)C(=O)...\n",
       "4      CHEMBL4077376   9.70  C[C@@H]1CN(c2ccccc2F)CCN1c1nc(-c2ccncn2)cc(=O)n1C"
      ]
     },
     "execution_count": 52,
     "metadata": {},
     "output_type": "execute_result"
    }
   ],
   "source": [
    "df_output = df_output.rename(columns= {'molecule_structures':'smiles', 'pchembl_value':'pIC50'})\n",
    "print(f'Total of compounds is: {str(len(df_output))}')\n",
    "df_output.head()"
   ]
  },
  {
   "cell_type": "markdown",
   "metadata": {},
   "source": [
    "In order to use the following rdkit function, it is necessary that all the compounds have SMILES, for this reason we eliminate the compounds without SMILES in the dataframe"
   ]
  },
  {
   "cell_type": "code",
   "execution_count": 53,
   "metadata": {},
   "outputs": [
    {
     "name": "stdout",
     "output_type": "stream",
     "text": [
      "Total of compounds is: 2605\n"
     ]
    },
    {
     "data": {
      "text/html": [
       "<div>\n",
       "<style scoped>\n",
       "    .dataframe tbody tr th:only-of-type {\n",
       "        vertical-align: middle;\n",
       "    }\n",
       "\n",
       "    .dataframe tbody tr th {\n",
       "        vertical-align: top;\n",
       "    }\n",
       "\n",
       "    .dataframe thead th {\n",
       "        text-align: right;\n",
       "    }\n",
       "</style>\n",
       "<table border=\"1\" class=\"dataframe\">\n",
       "  <thead>\n",
       "    <tr style=\"text-align: right;\">\n",
       "      <th></th>\n",
       "      <th>molecule_chembl_id</th>\n",
       "      <th>pIC50</th>\n",
       "      <th>smiles</th>\n",
       "    </tr>\n",
       "  </thead>\n",
       "  <tbody>\n",
       "    <tr>\n",
       "      <th>0</th>\n",
       "      <td>CHEMBL2386094</td>\n",
       "      <td>10.89</td>\n",
       "      <td>O=C1NC(=O)C(c2cn3c4c(cc(F)cc24)CN(C(=O)N2CCOCC...</td>\n",
       "    </tr>\n",
       "    <tr>\n",
       "      <th>1</th>\n",
       "      <td>CHEMBL4084855</td>\n",
       "      <td>10.00</td>\n",
       "      <td>COc1ccc(N2CCN(c3nc(-c4ccncn4)cc(=O)n3C)[C@H](C...</td>\n",
       "    </tr>\n",
       "    <tr>\n",
       "      <th>2</th>\n",
       "      <td>CHEMBL3895998</td>\n",
       "      <td>10.00</td>\n",
       "      <td>Nc1ncc(-c2ccccc2F)nc1C(=O)Nc1cnccc1N1CCC(N)CC1</td>\n",
       "    </tr>\n",
       "    <tr>\n",
       "      <th>3</th>\n",
       "      <td>CHEMBL564450</td>\n",
       "      <td>9.85</td>\n",
       "      <td>COc1cc(C2=C(c3cn(CCN4CCN(C)CC4)c4ccccc34)C(=O)...</td>\n",
       "    </tr>\n",
       "    <tr>\n",
       "      <th>4</th>\n",
       "      <td>CHEMBL4077376</td>\n",
       "      <td>9.70</td>\n",
       "      <td>C[C@@H]1CN(c2ccccc2F)CCN1c1nc(-c2ccncn2)cc(=O)n1C</td>\n",
       "    </tr>\n",
       "  </tbody>\n",
       "</table>\n",
       "</div>"
      ],
      "text/plain": [
       "  molecule_chembl_id  pIC50                                             smiles\n",
       "0      CHEMBL2386094  10.89  O=C1NC(=O)C(c2cn3c4c(cc(F)cc24)CN(C(=O)N2CCOCC...\n",
       "1      CHEMBL4084855  10.00  COc1ccc(N2CCN(c3nc(-c4ccncn4)cc(=O)n3C)[C@H](C...\n",
       "2      CHEMBL3895998  10.00     Nc1ncc(-c2ccccc2F)nc1C(=O)Nc1cnccc1N1CCC(N)CC1\n",
       "3       CHEMBL564450   9.85  COc1cc(C2=C(c3cn(CCN4CCN(C)CC4)c4ccccc34)C(=O)...\n",
       "4      CHEMBL4077376   9.70  C[C@@H]1CN(c2ccccc2F)CCN1c1nc(-c2ccncn2)cc(=O)n1C"
      ]
     },
     "execution_count": 53,
     "metadata": {},
     "output_type": "execute_result"
    }
   ],
   "source": [
    "df_output = df_output[~df_output['smiles'].isnull()]\n",
    "print(f'Total of compounds is: {str(len(df_output))}')\n",
    "df_output.head()"
   ]
  },
  {
   "cell_type": "markdown",
   "metadata": {},
   "source": [
    "## Draw the molecule\n",
    "\n",
    "Let's add a new column to the dataframe with the `.AddMoleculeColumnToFrame` function which converts the molecules contained in \"smilesCol\" into RDKit molecules and adds them to the dataframe"
   ]
  },
  {
   "cell_type": "code",
   "execution_count": 54,
   "metadata": {},
   "outputs": [
    {
     "data": {
      "text/html": [
       "<div>\n",
       "<style scoped>\n",
       "    .dataframe tbody tr th:only-of-type {\n",
       "        vertical-align: middle;\n",
       "    }\n",
       "\n",
       "    .dataframe tbody tr th {\n",
       "        vertical-align: top;\n",
       "    }\n",
       "\n",
       "    .dataframe thead th {\n",
       "        text-align: right;\n",
       "    }\n",
       "</style>\n",
       "<table border=\"1\" class=\"dataframe\">\n",
       "  <thead>\n",
       "    <tr style=\"text-align: right;\">\n",
       "      <th></th>\n",
       "      <th>molecule_chembl_id</th>\n",
       "      <th>pIC50</th>\n",
       "      <th>smiles</th>\n",
       "      <th>ROMol</th>\n",
       "    </tr>\n",
       "  </thead>\n",
       "  <tbody>\n",
       "    <tr>\n",
       "      <th>0</th>\n",
       "      <td>CHEMBL2386094</td>\n",
       "      <td>10.89</td>\n",
       "      <td>O=C1NC(=O)C(c2cn3c4c(cc(F)cc24)CN(C(=O)N2CCOCC...</td>\n",
       "      <td style=\"text-align: center;\"><img data-content=\"rdkit/molecule\" src=\"data:image/png;base64,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\" alt=\"Mol\"/></td>\n",
       "    </tr>\n",
       "    <tr>\n",
       "      <th>1</th>\n",
       "      <td>CHEMBL4084855</td>\n",
       "      <td>10.00</td>\n",
       "      <td>COc1ccc(N2CCN(c3nc(-c4ccncn4)cc(=O)n3C)[C@H](C...</td>\n",
       "      <td style=\"text-align: center;\"><img data-content=\"rdkit/molecule\" src=\"data:image/png;base64,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\" alt=\"Mol\"/></td>\n",
       "    </tr>\n",
       "    <tr>\n",
       "      <th>2</th>\n",
       "      <td>CHEMBL3895998</td>\n",
       "      <td>10.00</td>\n",
       "      <td>Nc1ncc(-c2ccccc2F)nc1C(=O)Nc1cnccc1N1CCC(N)CC1</td>\n",
       "      <td style=\"text-align: center;\"><img data-content=\"rdkit/molecule\" src=\"data:image/png;base64,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\" alt=\"Mol\"/></td>\n",
       "    </tr>\n",
       "    <tr>\n",
       "      <th>3</th>\n",
       "      <td>CHEMBL564450</td>\n",
       "      <td>9.85</td>\n",
       "      <td>COc1cc(C2=C(c3cn(CCN4CCN(C)CC4)c4ccccc34)C(=O)...</td>\n",
       "      <td style=\"text-align: center;\"><img data-content=\"rdkit/molecule\" src=\"data:image/png;base64,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\" alt=\"Mol\"/></td>\n",
       "    </tr>\n",
       "    <tr>\n",
       "      <th>4</th>\n",
       "      <td>CHEMBL4077376</td>\n",
       "      <td>9.70</td>\n",
       "      <td>C[C@@H]1CN(c2ccccc2F)CCN1c1nc(-c2ccncn2)cc(=O)n1C</td>\n",
       "      <td style=\"text-align: center;\"><img data-content=\"rdkit/molecule\" src=\"data:image/png;base64,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\" alt=\"Mol\"/></td>\n",
       "    </tr>\n",
       "  </tbody>\n",
       "</table>\n",
       "</div>"
      ],
      "text/plain": [
       "  molecule_chembl_id  pIC50  \\\n",
       "0      CHEMBL2386094  10.89   \n",
       "1      CHEMBL4084855  10.00   \n",
       "2      CHEMBL3895998  10.00   \n",
       "3       CHEMBL564450   9.85   \n",
       "4      CHEMBL4077376   9.70   \n",
       "\n",
       "                                              smiles  \\\n",
       "0  O=C1NC(=O)C(c2cn3c4c(cc(F)cc24)CN(C(=O)N2CCOCC...   \n",
       "1  COc1ccc(N2CCN(c3nc(-c4ccncn4)cc(=O)n3C)[C@H](C...   \n",
       "2     Nc1ncc(-c2ccccc2F)nc1C(=O)Nc1cnccc1N1CCC(N)CC1   \n",
       "3  COc1cc(C2=C(c3cn(CCN4CCN(C)CC4)c4ccccc34)C(=O)...   \n",
       "4  C[C@@H]1CN(c2ccccc2F)CCN1c1nc(-c2ccncn2)cc(=O)n1C   \n",
       "\n",
       "                                               ROMol  \n",
       "0  <img data-content=\"rdkit/molecule\" src=\"data:i...  \n",
       "1  <img data-content=\"rdkit/molecule\" src=\"data:i...  \n",
       "2  <img data-content=\"rdkit/molecule\" src=\"data:i...  \n",
       "3  <img data-content=\"rdkit/molecule\" src=\"data:i...  \n",
       "4  <img data-content=\"rdkit/molecule\" src=\"data:i...  "
      ]
     },
     "execution_count": 54,
     "metadata": {},
     "output_type": "execute_result"
    }
   ],
   "source": [
    "PandasTools.AddMoleculeColumnToFrame(df_output, smilesCol='smiles')\n",
    "df_output.head()"
   ]
  },
  {
   "cell_type": "markdown",
   "metadata": {},
   "source": [
    "Now we can call any compound to see its 2D representation"
   ]
  },
  {
   "cell_type": "code",
   "execution_count": 55,
   "metadata": {},
   "outputs": [
    {
     "data": {
      "image/png": "[encoded data removed]",
      "text/plain": [
       "<rdkit.Chem.rdchem.Mol at 0x147181eb6620>"
      ]
     },
     "execution_count": 55,
     "metadata": {},
     "output_type": "execute_result"
    }
   ],
   "source": [
    "df_output.ROMol.iloc[0]"
   ]
  },
  {
   "cell_type": "markdown",
   "metadata": {},
   "source": [
    "## Save the obtained dataframe\n",
    "\n",
    "It will save the dataframe as a csv file"
   ]
  },
  {
   "cell_type": "code",
   "execution_count": 56,
   "metadata": {},
   "outputs": [],
   "source": [
    "df_output.to_csv(f\"data/compounds_{uniprot_id}_full.csv\", index=0)"
   ]
  },
  {
   "cell_type": "markdown",
   "metadata": {},
   "source": [
    "## Practice Activity\n",
    "Taking into account what you have learned in this Notebook, answer:\n",
    "1. What other data can we obtain from ChEMBL of the target of interest?\n",
    "2. Could a new classification of the compounds be carried out filtering them only by the pEC50?, check it and observe the differences\n",
    "3. Obtain the known data of the compounds, referring to inhibition and activity."
   ]
  },
  {
   "cell_type": "markdown",
   "metadata": {},
   "source": [
    "## Conclusions\n",
    "In this practice, the ChEMBL database was used to obtain data on bioactive compounds against our target of interest. These extracted data in the form of dictionaries and lists were converted into a DataFrame which allows easy visualization of the information obtained. In addition, data from the bioactive compounds were obtained, DataFrames were combined, columns were renamed and a panda tool was used to add a new column to the constructed DataFrame."
   ]
  }
 ],
 "metadata": {
  "kernelspec": {
   "display_name": "Python 3",
   "language": "python",
   "name": "python3"
  },
  "language_info": {
   "codemirror_mode": {
    "name": "ipython",
    "version": 3
   },
   "file_extension": ".py",
   "mimetype": "text/x-python",
   "name": "python",
   "nbconvert_exporter": "python",
   "pygments_lexer": "ipython3",
   "version": "3.8.3"
  }
 },
 "nbformat": 4,
 "nbformat_minor": 4
}
