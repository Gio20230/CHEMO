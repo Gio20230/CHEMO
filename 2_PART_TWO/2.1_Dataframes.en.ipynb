{
 "cells": [
  {
   "cell_type": "markdown",
   "metadata": {},
   "source": [
    "# Introduction to handling advanced Data Structures with Pandas\n",
    "\n",
    "## Numpy Library\n",
    "\n",
    "*Numpy* is a fundamental Python library for scientific computing. Among its features is the creation of multidimensional arrays, which can be treated as vectors, and is very fast when performing mathematical operations on them. Which makes it a necessary tool for projects with high computing and mathematical calculation requirements and that is why it is so popular in the scientific ecosystem.\n",
    "\n",
    "### Math Operations with Numpy Arrays\n",
    "\n",
    "To get started, we'll import the library and create our first Numpy Array, then affect it with some basic math. It is common to rename the `Numpy` library as `np`."
   ]
  },
  {
   "cell_type": "code",
   "execution_count": 1,
   "metadata": {},
   "outputs": [
    {
     "data": {
      "text/plain": [
       "array([ 0,  1,  2,  3,  4,  5,  6,  7,  8,  9, 10])"
      ]
     },
     "execution_count": 1,
     "metadata": {},
     "output_type": "execute_result"
    }
   ],
   "source": [
    "# The numpy library is imported. The acronym for the numpy library is usually np.\n",
    "import numpy as np\n",
    "\n",
    "# Create an array of numbers\n",
    "nums = np.array([0, 1, 2, 3, 4, 5, 6, 7, 8, 9, 10])\n",
    "\n",
    "# print the value of the array\n",
    "nums"
   ]
  },
  {
   "cell_type": "markdown",
   "metadata": {},
   "source": [
    "**It is worth mentioning that a Numpy array is very similar to a native Python list.** The main difference lies in the type of mathematical ordering operations that can be performed on a library array and the native lists of Python. python.\n",
    "\n",
    "Let's take as a starting point the sum of two `Numpy` arrays, compared to a Python sum of lists:"
   ]
  },
  {
   "cell_type": "code",
   "execution_count": 2,
   "metadata": {},
   "outputs": [
    {
     "data": {
      "text/plain": [
       "array([ 0,  2,  4,  6,  8, 10, 12, 14, 16, 18, 20])"
      ]
     },
     "execution_count": 2,
     "metadata": {},
     "output_type": "execute_result"
    }
   ],
   "source": [
    "# Print the sum of the Numpy array\n",
    "nums+nums"
   ]
  },
  {
   "cell_type": "markdown",
   "metadata": {},
   "source": [
    "The size of the list was kept, but its elements were added, and this is the potential and simplicity of Numpy arrays, and because of its vast use in the scientific world.\n",
    "\n",
    "Let's look at equivalent code with a native Python list:"
   ]
  },
  {
   "cell_type": "code",
   "execution_count": 3,
   "metadata": {},
   "outputs": [
    {
     "data": {
      "text/plain": [
       "[0, 2, 4, 6, 8, 10, 12, 14, 16, 18, 20]"
      ]
     },
     "execution_count": 3,
     "metadata": {},
     "output_type": "execute_result"
    }
   ],
   "source": [
    "# Compressed list with addition of its elements\n",
    "list_nums = [0, 1, 2, 3, 4, 5, 6, 7, 8, 9, 10]\n",
    "[x + x for x in list_nums]"
   ]
  },
  {
   "cell_type": "markdown",
   "metadata": {},
   "source": [
    "We don't think it's complicated to be creating Python *list comprehensions*, but it would clearly reduce the lines of code in our program using **Numpy** arrays. And it would be impossible to achieve it if we need to add two lists.\n",
    "\n",
    "*Numpy arrays* can also perform the other operations following the same pattern:\n",
    "\n",
    "```markdown\n",
    "<numpy_array> <operation (+, -, *, /)> <numpy_array>\n",
    "```\n",
    "*Let's be careful with division if there are zeros in the denominator, remember that it is not possible to divide by zero, in which case an error would appear*\n",
    "\n",
    "Now, to see the potential of Numpy arrays, what would happen if we tried to add two arrays of size $n$, let's talk arrays of $10,000,000 elements?"
   ]
  },
  {
   "cell_type": "code",
   "execution_count": 4,
   "metadata": {},
   "outputs": [
    {
     "name": "stdout",
     "output_type": "stream",
     "text": [
      "[ 4 27 10 ... 54 10 27]\n"
     ]
    }
   ],
   "source": [
    "#Numpy library is imported\n",
    "import numpy as np\n",
    "\n",
    "# Two arrays with 1 million elements are created, where each element has a random value between 0-10\n",
    "x = np.random.choice(10, 1000000)\n",
    "y = np.random.choice(10, 1000000)\n",
    "\n",
    "print(x * y)"
   ]
  },
  {
   "cell_type": "markdown",
   "metadata": {},
   "source": [
    "Did you see it? The multiplication took just milliseconds. And that's where it makes using the library worthwhile."
   ]
  },
  {
   "cell_type": "markdown",
   "metadata": {},
   "source": [
    "## Introduction to the Panda Series\n",
    "\n",
    "Before talking about Dataframes it is important that we do a little review about the **Series**, at the same time we will begin to interact with the Pandas library.\n",
    "\n",
    "**`Pandas`** is a Python library (like `Numpy`), which is characterized by providing data structures that are fast processing, that are easy to express to make working with relational data it's easy and intuitive. [More information here](https://pandas.pydata.org/docs/getting_started/overview.html)\n",
    "\n",
    "What is a Serie? How do you create a Serie? Let's see the answers to these questions:\n",
    "\n",
    "Series are a type of one-dimensional structure *(1D)* very similar to an array, with the characteristic that we can label its data to a certain extent through indices.\n",
    "\n",
    "To study the potential of the series we are going to interact with the `iris.data` file (./data/iris.data) that comes from the data repository of the [UCI Machine Learning](https://archive-beta.ics.uci.edu/)."
   ]
  },
  {
   "cell_type": "code",
   "execution_count": 5,
   "metadata": {},
   "outputs": [
    {
     "data": {
      "text/plain": [
       "0         [5.1, 3.5, 1.4, 0.2, Iris-setosa]\n",
       "1         [4.9, 3.0, 1.4, 0.2, Iris-setosa]\n",
       "2         [4.7, 3.2, 1.3, 0.2, Iris-setosa]\n",
       "3         [4.6, 3.1, 1.5, 0.2, Iris-setosa]\n",
       "4         [5.0, 3.6, 1.4, 0.2, Iris-setosa]\n",
       "                       ...                 \n",
       "147    [6.5, 3.0, 5.2, 2.0, Iris-virginica]\n",
       "148    [6.2, 3.4, 5.4, 2.3, Iris-virginica]\n",
       "149    [5.9, 3.0, 5.1, 1.8, Iris-virginica]\n",
       "150                                      []\n",
       "151                                      []\n",
       "Length: 152, dtype: object"
      ]
     },
     "execution_count": 5,
     "metadata": {},
     "output_type": "execute_result"
    }
   ],
   "source": [
    "import pandas as pd\n",
    "\n",
    "# The iris.data file is imported and its contents are read\n",
    "with open(\"data/iris.data\", \"r\") as DATA:\n",
    "     iris_dataset = DATA.read()\n",
    "\n",
    "# The dataset is cleaned and the series is built from the array generated by the `split`\n",
    "iris_dataset = iris_dataset.split('\\n')\n",
    "iris_dataset = [i.split(',') for i in iris_dataset]\n",
    "\n",
    "# The series will be created with the dataset data\n",
    "iris_series = pd.Series(iris_dataset)\n",
    "\n",
    "# print the string\n",
    "iris_series"
   ]
  },
  {
   "cell_type": "markdown",
   "metadata": {},
   "source": [
    "*From now on whenever we want to display the content of a series and/or a Dataframe we will use the `head` method, which only displays the first data and not the entire set.*\n",
    "\n",
    "And that's how easy a basic but powerful data structure is built that gives us the *Pandas* library. Let's explore what we have:\n",
    "\n",
    "- Each row is a one-dimensional array with five elements, $150$ rows were printed, each with a list of 5 elements, plus the enumeration column.\n",
    "\n",
    "- The *series* as well as the lists and arrays of *Numpy* have methods and their manipulation is also achieved through indexing."
   ]
  },
  {
   "cell_type": "code",
   "execution_count": 6,
   "metadata": {},
   "outputs": [
    {
     "data": {
      "text/plain": [
       "0    [5.1, 3.5, 1.4, 0.2, Iris-setosa]\n",
       "1    [4.9, 3.0, 1.4, 0.2, Iris-setosa]\n",
       "2    [4.7, 3.2, 1.3, 0.2, Iris-setosa]\n",
       "3    [4.6, 3.1, 1.5, 0.2, Iris-setosa]\n",
       "4    [5.0, 3.6, 1.4, 0.2, Iris-setosa]\n",
       "dtype: object"
      ]
     },
     "execution_count": 6,
     "metadata": {},
     "output_type": "execute_result"
    }
   ],
   "source": [
    "# Example 1: The first data in the series is printed using the head method.\n",
    "iris_series.head()"
   ]
  },
  {
   "cell_type": "markdown",
   "metadata": {},
   "source": [
    "Another useful method is the `index` method, it returns the list of indices and their range."
   ]
  },
  {
   "cell_type": "code",
   "execution_count": 7,
   "metadata": {},
   "outputs": [
    {
     "data": {
      "text/plain": [
       "RangeIndex(start=0, stop=152, step=1)"
      ]
     },
     "execution_count": 7,
     "metadata": {},
     "output_type": "execute_result"
    }
   ],
   "source": [
    "# The array indices are printed, in this case it refers to the first column serie_de_iris.index\n",
    "iris_series.index"
   ]
  },
  {
   "cell_type": "markdown",
   "metadata": {},
   "source": [
    "What if we wanted to access the elements of position $120$ and up:"
   ]
  },
  {
   "cell_type": "code",
   "execution_count": 8,
   "metadata": {},
   "outputs": [
    {
     "data": {
      "text/plain": [
       "120    [6.9, 3.2, 5.7, 2.3, Iris-virginica]\n",
       "121    [5.6, 2.8, 4.9, 2.0, Iris-virginica]\n",
       "122    [7.7, 2.8, 6.7, 2.0, Iris-virginica]\n",
       "123    [6.3, 2.7, 4.9, 1.8, Iris-virginica]\n",
       "124    [6.7, 3.3, 5.7, 2.1, Iris-virginica]\n",
       "125    [7.2, 3.2, 6.0, 1.8, Iris-virginica]\n",
       "126    [6.2, 2.8, 4.8, 1.8, Iris-virginica]\n",
       "127    [6.1, 3.0, 4.9, 1.8, Iris-virginica]\n",
       "128    [6.4, 2.8, 5.6, 2.1, Iris-virginica]\n",
       "129    [7.2, 3.0, 5.8, 1.6, Iris-virginica]\n",
       "130    [7.4, 2.8, 6.1, 1.9, Iris-virginica]\n",
       "131    [7.9, 3.8, 6.4, 2.0, Iris-virginica]\n",
       "132    [6.4, 2.8, 5.6, 2.2, Iris-virginica]\n",
       "133    [6.3, 2.8, 5.1, 1.5, Iris-virginica]\n",
       "134    [6.1, 2.6, 5.6, 1.4, Iris-virginica]\n",
       "135    [7.7, 3.0, 6.1, 2.3, Iris-virginica]\n",
       "136    [6.3, 3.4, 5.6, 2.4, Iris-virginica]\n",
       "137    [6.4, 3.1, 5.5, 1.8, Iris-virginica]\n",
       "138    [6.0, 3.0, 4.8, 1.8, Iris-virginica]\n",
       "139    [6.9, 3.1, 5.4, 2.1, Iris-virginica]\n",
       "140    [6.7, 3.1, 5.6, 2.4, Iris-virginica]\n",
       "141    [6.9, 3.1, 5.1, 2.3, Iris-virginica]\n",
       "142    [5.8, 2.7, 5.1, 1.9, Iris-virginica]\n",
       "143    [6.8, 3.2, 5.9, 2.3, Iris-virginica]\n",
       "144    [6.7, 3.3, 5.7, 2.5, Iris-virginica]\n",
       "145    [6.7, 3.0, 5.2, 2.3, Iris-virginica]\n",
       "146    [6.3, 2.5, 5.0, 1.9, Iris-virginica]\n",
       "147    [6.5, 3.0, 5.2, 2.0, Iris-virginica]\n",
       "148    [6.2, 3.4, 5.4, 2.3, Iris-virginica]\n",
       "149    [5.9, 3.0, 5.1, 1.8, Iris-virginica]\n",
       "150                                      []\n",
       "151                                      []\n",
       "dtype: object"
      ]
     },
     "execution_count": 8,
     "metadata": {},
     "output_type": "execute_result"
    }
   ],
   "source": [
    "# Print the elements from position 120 onwards\n",
    "iris_series[120:]"
   ]
  },
  {
   "cell_type": "markdown",
   "metadata": {},
   "source": [
    "As a *Series* is a one-dimensional *(1D)* array, each row contains all the information returned by the original dataset, represented in a native *Python* array for manipulation. **Technically this makes it difficult** to manipulate the data within each series (for example, finding the mean of the first column, which leads to us wasting the native functionality of a Series, because we would have to create a new one). series for each column of data, then inefficient series.\n",
    "\n",
    "Let's see an example of how to extract the values of the first column in question, for this, we start loading the original dataset again but this time we only take the first column:"
   ]
  },
  {
   "cell_type": "code",
   "execution_count": 9,
   "metadata": {},
   "outputs": [
    {
     "data": {
      "text/plain": [
       "0      5.1\n",
       "1      4.9\n",
       "2      4.7\n",
       "3      4.6\n",
       "4      5.0\n",
       "      ... \n",
       "147    6.5\n",
       "148    6.2\n",
       "149    5.9\n",
       "150    0.0\n",
       "151    0.0\n",
       "Length: 152, dtype: float64"
      ]
     },
     "execution_count": 9,
     "metadata": {},
     "output_type": "execute_result"
    }
   ],
   "source": [
    "import pandas as pd\n",
    "\n",
    "with open(\"data/iris.data\", \"r\") as DATA:\n",
    "     iris_dataset = DATA.read()\n",
    "\n",
    "# The dataset is cleaned and the series is built from the array generated by the `split`\n",
    "iris_dataset = iris_dataset.split('\\n')\n",
    "\n",
    "# The first column is extracted from the dataset and its data is converted to float type\n",
    "iris_dataset = [float(j[0]) if j[0] != '' else 0 for j in [i.split(',') for i in iris_dataset]]\n",
    "\n",
    "# The series is created with the dataset data\n",
    "iris_series_col_1 = pd.Series(iris_dataset)\n",
    "\n",
    "# The series is printed with the first column of the dataset\n",
    "iris_series_col_1"
   ]
  },
  {
   "cell_type": "markdown",
   "metadata": {},
   "source": [
    "And now if we can find some statistics as the mean of all the values, and we'll use *Numpy* for this:"
   ]
  },
  {
   "cell_type": "code",
   "execution_count": 10,
   "metadata": {},
   "outputs": [
    {
     "name": "stdout",
     "output_type": "stream",
     "text": [
      "Average data size:\n"
     ]
    },
    {
     "data": {
      "text/plain": [
       "5.766447368421052"
      ]
     },
     "execution_count": 10,
     "metadata": {},
     "output_type": "execute_result"
    }
   ],
   "source": [
    "import numpy as np\n",
    "\n",
    "# The mean of the series is calculated from the mean method of numpy\n",
    "print('Average data size:')\n",
    "np.mean(iris_series_col_1)"
   ]
  },
  {
   "cell_type": "markdown",
   "metadata": {},
   "source": [
    "Due to the limitations of the *Series (as we saw previously)* we will have to give way to a new data structure, and this is where the *Dataframes* come into play. But how about we first describe the columns coming from our dataset?\n",
    "\n",
    "According to the description found on the page we know that it has the following structure:\n",
    "\n",
    "| no | Column | Data type | Possible Values ​​|\n",
    "|-----|:---------------------:|--------------:|:--- --------------------------------------------|\n",
    "| 1 | sepal length | float/cm | Positives |\n",
    "| 2 | sepal width | float/cm | Positives |\n",
    "| 3 | petal length | float/cm | Positives |\n",
    "| 4 | petal width | float/cm | Positives |\n",
    "| 5 | class | string/text | Iris Setosa, Iris Versicolour, Iris Virginica |\n",
    "\n",
    "It is time for us to modify the *Series*, and convert it into a *Dataframe* and use its full potential to our advantage."
   ]
  },
  {
   "cell_type": "markdown",
   "metadata": {},
   "source": [
    "## Introduction to DataFrames\n",
    "\n",
    "A *DataFrame* is an $n$ dimensional array of structured data that can store data of different types. Yes, it's like a spreadsheet or a database table.\n",
    "\n",
    "The DataFrame are more common than the Series *(They appear everywhere in scientific computing, in the analysis and visualization of data and among others)* and it is for this reason that they will be studied in practice.\n",
    "\n",
    "Usually you can create a `DataFrame` from different data sources, but this time we will continue using the [`iris`](./data/iris.data) dataset."
   ]
  },
  {
   "cell_type": "code",
   "execution_count": 11,
   "metadata": {},
   "outputs": [
    {
     "data": {
      "text/html": [
       "<div>\n",
       "<style scoped>\n",
       "    .dataframe tbody tr th:only-of-type {\n",
       "        vertical-align: middle;\n",
       "    }\n",
       "\n",
       "    .dataframe tbody tr th {\n",
       "        vertical-align: top;\n",
       "    }\n",
       "\n",
       "    .dataframe thead th {\n",
       "        text-align: right;\n",
       "    }\n",
       "</style>\n",
       "<table border=\"1\" class=\"dataframe\">\n",
       "  <thead>\n",
       "    <tr style=\"text-align: right;\">\n",
       "      <th></th>\n",
       "      <th>long_sepal</th>\n",
       "      <th>width_sepal</th>\n",
       "      <th>long_petal</th>\n",
       "      <th>width_petal</th>\n",
       "      <th>class_1</th>\n",
       "    </tr>\n",
       "  </thead>\n",
       "  <tbody>\n",
       "    <tr>\n",
       "      <th>0</th>\n",
       "      <td>5.1</td>\n",
       "      <td>3.5</td>\n",
       "      <td>1.4</td>\n",
       "      <td>0.2</td>\n",
       "      <td>Iris-setosa</td>\n",
       "    </tr>\n",
       "    <tr>\n",
       "      <th>1</th>\n",
       "      <td>4.9</td>\n",
       "      <td>3.0</td>\n",
       "      <td>1.4</td>\n",
       "      <td>0.2</td>\n",
       "      <td>Iris-setosa</td>\n",
       "    </tr>\n",
       "    <tr>\n",
       "      <th>2</th>\n",
       "      <td>4.7</td>\n",
       "      <td>3.2</td>\n",
       "      <td>1.3</td>\n",
       "      <td>0.2</td>\n",
       "      <td>Iris-setosa</td>\n",
       "    </tr>\n",
       "    <tr>\n",
       "      <th>3</th>\n",
       "      <td>4.6</td>\n",
       "      <td>3.1</td>\n",
       "      <td>1.5</td>\n",
       "      <td>0.2</td>\n",
       "      <td>Iris-setosa</td>\n",
       "    </tr>\n",
       "    <tr>\n",
       "      <th>4</th>\n",
       "      <td>5.0</td>\n",
       "      <td>3.6</td>\n",
       "      <td>1.4</td>\n",
       "      <td>0.2</td>\n",
       "      <td>Iris-setosa</td>\n",
       "    </tr>\n",
       "  </tbody>\n",
       "</table>\n",
       "</div>"
      ],
      "text/plain": [
       "   long_sepal  width_sepal  long_petal  width_petal      class_1\n",
       "0         5.1          3.5         1.4          0.2  Iris-setosa\n",
       "1         4.9          3.0         1.4          0.2  Iris-setosa\n",
       "2         4.7          3.2         1.3          0.2  Iris-setosa\n",
       "3         4.6          3.1         1.5          0.2  Iris-setosa\n",
       "4         5.0          3.6         1.4          0.2  Iris-setosa"
      ]
     },
     "execution_count": 11,
     "metadata": {},
     "output_type": "execute_result"
    }
   ],
   "source": [
    "import pandas as pd\n",
    "\n",
    "# We create the DataFrame from iris_dataset, the names parameter allows us to name the columns\n",
    "df_iris = pd.read_csv(\"./data/iris.data\", names=[\"long_sepal\", \"width_sepal\", \"long_petal\", \"width_petal\", \"class_1\"])\n",
    "\n",
    "# Print the first 5 elements of the dataframe\n",
    "df_iris.head()"
   ]
  },
  {
   "cell_type": "markdown",
   "metadata": {},
   "source": [
    "*Note: from now on whenever we want to import the content of a local dataset we will use the `read_csv` method of the Pandas library.*\n",
    "\n",
    "As we saw it was very easy to build the `DataFrame`, now, how about we manipulate it? We could answer questions like: how many kinds of iris do we have? What is the average size of the petal length? all classes or one in particular? Let's see how it's done:"
   ]
  },
  {
   "cell_type": "markdown",
   "metadata": {},
   "source": [
    "If we want to work with the first column, we can easily do it like this:"
   ]
  },
  {
   "cell_type": "code",
   "execution_count": 12,
   "metadata": {},
   "outputs": [
    {
     "data": {
      "text/plain": [
       "0    5.1\n",
       "1    4.9\n",
       "2    4.7\n",
       "3    4.6\n",
       "4    5.0\n",
       "Name: long_sepal, dtype: float64"
      ]
     },
     "execution_count": 12,
     "metadata": {},
     "output_type": "execute_result"
    }
   ],
   "source": [
    "df_iris['long_sepal'].head()"
   ]
  },
  {
   "cell_type": "markdown",
   "metadata": {},
   "source": [
    "The column elements are stored as a `Range`, which can be easily operated on, for example finding the average sepal length."
   ]
  },
  {
   "cell_type": "code",
   "execution_count": 13,
   "metadata": {},
   "outputs": [
    {
     "name": "stdout",
     "output_type": "stream",
     "text": [
      "Average Iris Petal Size:\n",
      "5.843333333333334\n"
     ]
    }
   ],
   "source": [
    "### Example 1: Average Sepal Length regardless of class\n",
    "mean_long_sepal = np.mean(df_iris['long_sepal'])\n",
    "print('Average Iris Petal Size:')\n",
    "print(mean_long_sepal)"
   ]
  },
  {
   "cell_type": "markdown",
   "metadata": {},
   "source": [
    "That was easy, find the average of $150$ rows and with it, give a little more meaning to the dataset.\n",
    "\n",
    "The *Dataframe* have many methods that allow to operate, manipulate, group, filter the data, among others. Let's see some of the most important:\n",
    "\n",
    "* **groupby**: used to group the rows around the value of one of its columns\n",
    "* **assign**: used to add new columns from the values of other\n",
    "* **query**: used to filter the dataset based on some condition *(such as the value of a column)*\n",
    "* **filter**: filters a Dataframe by columns or rows according to their labels in the indexes. *(Kindly like the `query` method but the filter is based on the indices)\n",
    "* **value_counts()**: used to count how many values in a column\n",
    "\n",
    "And now how about we now calculate the number of iris classes we have? Let's see how it's done:"
   ]
  },
  {
   "cell_type": "code",
   "execution_count": 14,
   "metadata": {},
   "outputs": [
    {
     "name": "stdout",
     "output_type": "stream",
     "text": [
      "The number of classes in the dataset is: \n"
     ]
    },
    {
     "data": {
      "text/plain": [
       "3"
      ]
     },
     "execution_count": 14,
     "metadata": {},
     "output_type": "execute_result"
    }
   ],
   "source": [
    "# Example 2: the groupby method is used to group the dataframe by the class column\n",
    "print('The number of classes in the dataset is: ') \n",
    "len(df_iris.groupby('class_1'))"
   ]
  },
  {
   "cell_type": "code",
   "execution_count": 15,
   "metadata": {},
   "outputs": [
    {
     "data": {
      "text/plain": [
       "Iris-versicolor    50\n",
       "Iris-virginica     50\n",
       "Iris-setosa        50\n",
       "Name: class_1, dtype: int64"
      ]
     },
     "execution_count": 15,
     "metadata": {},
     "output_type": "execute_result"
    }
   ],
   "source": [
    "# how much data there is of each class\n",
    "df_iris['class_1'].value_counts()"
   ]
  },
  {
   "cell_type": "markdown",
   "metadata": {},
   "source": [
    "Now we are going to give way to the answers of the missing questions, let's see what the mean of the petal length for the Iris-setosa class through the query method:"
   ]
  },
  {
   "cell_type": "code",
   "execution_count": 16,
   "metadata": {},
   "outputs": [
    {
     "name": "stdout",
     "output_type": "stream",
     "text": [
      "Average petal size of the Iris-setosa class:\n",
      "1.464\n"
     ]
    }
   ],
   "source": [
    "# Example 2: Average Petal Length for the class Iris-setosa\n",
    "df_iris_setosa = df_iris.query(\"class_1 == 'Iris-setosa'\")\n",
    "mean_long_petal = np.mean(df_iris_setosa['long_petal'])\n",
    "print('Average petal size of the Iris-setosa class:')\n",
    "print(mean_long_petal)"
   ]
  },
  {
   "cell_type": "markdown",
   "metadata": {},
   "source": [
    "And now we will use the **Method Chain** to calculate a computed value in a new column using the `assign` method, what does that mean about the Method Chain? on the same object in the same line of code, separating each one by a period `.`\n",
    "  An example is better than a thousand words:"
   ]
  },
  {
   "cell_type": "code",
   "execution_count": 17,
   "metadata": {},
   "outputs": [
    {
     "data": {
      "text/html": [
       "<div>\n",
       "<style scoped>\n",
       "    .dataframe tbody tr th:only-of-type {\n",
       "        vertical-align: middle;\n",
       "    }\n",
       "\n",
       "    .dataframe tbody tr th {\n",
       "        vertical-align: top;\n",
       "    }\n",
       "\n",
       "    .dataframe thead th {\n",
       "        text-align: right;\n",
       "    }\n",
       "</style>\n",
       "<table border=\"1\" class=\"dataframe\">\n",
       "  <thead>\n",
       "    <tr style=\"text-align: right;\">\n",
       "      <th></th>\n",
       "      <th>long_sepal</th>\n",
       "      <th>width_sepal</th>\n",
       "      <th>long_petal</th>\n",
       "      <th>width_petal</th>\n",
       "      <th>class_1</th>\n",
       "      <th>petal_proportion</th>\n",
       "    </tr>\n",
       "  </thead>\n",
       "  <tbody>\n",
       "    <tr>\n",
       "      <th>100</th>\n",
       "      <td>6.3</td>\n",
       "      <td>3.3</td>\n",
       "      <td>6.0</td>\n",
       "      <td>2.5</td>\n",
       "      <td>Iris-virginica</td>\n",
       "      <td>0.416667</td>\n",
       "    </tr>\n",
       "    <tr>\n",
       "      <th>101</th>\n",
       "      <td>5.8</td>\n",
       "      <td>2.7</td>\n",
       "      <td>5.1</td>\n",
       "      <td>1.9</td>\n",
       "      <td>Iris-virginica</td>\n",
       "      <td>0.372549</td>\n",
       "    </tr>\n",
       "    <tr>\n",
       "      <th>102</th>\n",
       "      <td>7.1</td>\n",
       "      <td>3.0</td>\n",
       "      <td>5.9</td>\n",
       "      <td>2.1</td>\n",
       "      <td>Iris-virginica</td>\n",
       "      <td>0.355932</td>\n",
       "    </tr>\n",
       "    <tr>\n",
       "      <th>103</th>\n",
       "      <td>6.3</td>\n",
       "      <td>2.9</td>\n",
       "      <td>5.6</td>\n",
       "      <td>1.8</td>\n",
       "      <td>Iris-virginica</td>\n",
       "      <td>0.321429</td>\n",
       "    </tr>\n",
       "    <tr>\n",
       "      <th>104</th>\n",
       "      <td>6.5</td>\n",
       "      <td>3.0</td>\n",
       "      <td>5.8</td>\n",
       "      <td>2.2</td>\n",
       "      <td>Iris-virginica</td>\n",
       "      <td>0.379310</td>\n",
       "    </tr>\n",
       "  </tbody>\n",
       "</table>\n",
       "</div>"
      ],
      "text/plain": [
       "     long_sepal  width_sepal  long_petal  width_petal         class_1  \\\n",
       "100         6.3          3.3         6.0          2.5  Iris-virginica   \n",
       "101         5.8          2.7         5.1          1.9  Iris-virginica   \n",
       "102         7.1          3.0         5.9          2.1  Iris-virginica   \n",
       "103         6.3          2.9         5.6          1.8  Iris-virginica   \n",
       "104         6.5          3.0         5.8          2.2  Iris-virginica   \n",
       "\n",
       "     petal_proportion  \n",
       "100          0.416667  \n",
       "101          0.372549  \n",
       "102          0.355932  \n",
       "103          0.321429  \n",
       "104          0.379310  "
      ]
     },
     "execution_count": 17,
     "metadata": {},
     "output_type": "execute_result"
    }
   ],
   "source": [
    "# Example 3: Computed ratio of petal size for class Iris-virginica\n",
    "# First the Iris-virginica class elements are filtered, then a new column is created where the width and the length of the petal are divided, finally only the first five elements are shown.\n",
    "df_iris.query('class_1 == \"Iris-virginica\"').assign(petal_proportion=lambda i: i['width_petal'] / i['long_petal']).head()"
   ]
  },
  {
   "cell_type": "markdown",
   "metadata": {},
   "source": [
    "And with this we managed to answer the questions previously proposed. So it's easy to manipulate a *DataFrame* while playing with its data."
   ]
  },
  {
   "cell_type": "markdown",
   "metadata": {},
   "source": [
    "## More about DataFrames\n",
    "\n",
    "\n",
    "To continue with the practice, it would be good to give a little review on the most basic and standard manipulation ideas of *DataFrames*. We will do this at the same time that we will find the *standard deviation on the length of the petals* of the class *Iris-versicolor*.\n",
    "\n",
    "This demo, basic manipulation process will be step by step as new columns are added, and for convenience we will work with a portion of the original dataset:"
   ]
  },
  {
   "cell_type": "code",
   "execution_count": 18,
   "metadata": {},
   "outputs": [
    {
     "name": "stdout",
     "output_type": "stream",
     "text": [
      "DevSt = 0.04682896000000002\n"
     ]
    },
    {
     "data": {
      "text/html": [
       "<div>\n",
       "<style scoped>\n",
       "    .dataframe tbody tr th:only-of-type {\n",
       "        vertical-align: middle;\n",
       "    }\n",
       "\n",
       "    .dataframe tbody tr th {\n",
       "        vertical-align: top;\n",
       "    }\n",
       "\n",
       "    .dataframe thead th {\n",
       "        text-align: right;\n",
       "    }\n",
       "</style>\n",
       "<table border=\"1\" class=\"dataframe\">\n",
       "  <thead>\n",
       "    <tr style=\"text-align: right;\">\n",
       "      <th></th>\n",
       "      <th>long_sepal</th>\n",
       "      <th>width_sepal</th>\n",
       "      <th>long_petal</th>\n",
       "      <th>width_petal</th>\n",
       "      <th>class_1</th>\n",
       "      <th>long_petal_minus_media</th>\n",
       "      <th>long_petal_minus_media_square</th>\n",
       "    </tr>\n",
       "  </thead>\n",
       "  <tbody>\n",
       "    <tr>\n",
       "      <th>50</th>\n",
       "      <td>7.0</td>\n",
       "      <td>3.2</td>\n",
       "      <td>4.7</td>\n",
       "      <td>1.4</td>\n",
       "      <td>Iris-versicolor</td>\n",
       "      <td>0.44</td>\n",
       "      <td>0.1936</td>\n",
       "    </tr>\n",
       "    <tr>\n",
       "      <th>51</th>\n",
       "      <td>6.4</td>\n",
       "      <td>3.2</td>\n",
       "      <td>4.5</td>\n",
       "      <td>1.5</td>\n",
       "      <td>Iris-versicolor</td>\n",
       "      <td>0.24</td>\n",
       "      <td>0.0576</td>\n",
       "    </tr>\n",
       "    <tr>\n",
       "      <th>52</th>\n",
       "      <td>6.9</td>\n",
       "      <td>3.1</td>\n",
       "      <td>4.9</td>\n",
       "      <td>1.5</td>\n",
       "      <td>Iris-versicolor</td>\n",
       "      <td>0.64</td>\n",
       "      <td>0.4096</td>\n",
       "    </tr>\n",
       "    <tr>\n",
       "      <th>53</th>\n",
       "      <td>5.5</td>\n",
       "      <td>2.3</td>\n",
       "      <td>4.0</td>\n",
       "      <td>1.3</td>\n",
       "      <td>Iris-versicolor</td>\n",
       "      <td>-0.26</td>\n",
       "      <td>0.0676</td>\n",
       "    </tr>\n",
       "    <tr>\n",
       "      <th>54</th>\n",
       "      <td>6.5</td>\n",
       "      <td>2.8</td>\n",
       "      <td>4.6</td>\n",
       "      <td>1.5</td>\n",
       "      <td>Iris-versicolor</td>\n",
       "      <td>0.34</td>\n",
       "      <td>0.1156</td>\n",
       "    </tr>\n",
       "    <tr>\n",
       "      <th>55</th>\n",
       "      <td>5.7</td>\n",
       "      <td>2.8</td>\n",
       "      <td>4.5</td>\n",
       "      <td>1.3</td>\n",
       "      <td>Iris-versicolor</td>\n",
       "      <td>0.24</td>\n",
       "      <td>0.0576</td>\n",
       "    </tr>\n",
       "    <tr>\n",
       "      <th>56</th>\n",
       "      <td>6.3</td>\n",
       "      <td>3.3</td>\n",
       "      <td>4.7</td>\n",
       "      <td>1.6</td>\n",
       "      <td>Iris-versicolor</td>\n",
       "      <td>0.44</td>\n",
       "      <td>0.1936</td>\n",
       "    </tr>\n",
       "    <tr>\n",
       "      <th>57</th>\n",
       "      <td>4.9</td>\n",
       "      <td>2.4</td>\n",
       "      <td>3.3</td>\n",
       "      <td>1.0</td>\n",
       "      <td>Iris-versicolor</td>\n",
       "      <td>-0.96</td>\n",
       "      <td>0.9216</td>\n",
       "    </tr>\n",
       "    <tr>\n",
       "      <th>58</th>\n",
       "      <td>6.6</td>\n",
       "      <td>2.9</td>\n",
       "      <td>4.6</td>\n",
       "      <td>1.3</td>\n",
       "      <td>Iris-versicolor</td>\n",
       "      <td>0.34</td>\n",
       "      <td>0.1156</td>\n",
       "    </tr>\n",
       "    <tr>\n",
       "      <th>59</th>\n",
       "      <td>5.2</td>\n",
       "      <td>2.7</td>\n",
       "      <td>3.9</td>\n",
       "      <td>1.4</td>\n",
       "      <td>Iris-versicolor</td>\n",
       "      <td>-0.36</td>\n",
       "      <td>0.1296</td>\n",
       "    </tr>\n",
       "    <tr>\n",
       "      <th>60</th>\n",
       "      <td>5.0</td>\n",
       "      <td>2.0</td>\n",
       "      <td>3.5</td>\n",
       "      <td>1.0</td>\n",
       "      <td>Iris-versicolor</td>\n",
       "      <td>-0.76</td>\n",
       "      <td>0.5776</td>\n",
       "    </tr>\n",
       "    <tr>\n",
       "      <th>61</th>\n",
       "      <td>5.9</td>\n",
       "      <td>3.0</td>\n",
       "      <td>4.2</td>\n",
       "      <td>1.5</td>\n",
       "      <td>Iris-versicolor</td>\n",
       "      <td>-0.06</td>\n",
       "      <td>0.0036</td>\n",
       "    </tr>\n",
       "    <tr>\n",
       "      <th>62</th>\n",
       "      <td>6.0</td>\n",
       "      <td>2.2</td>\n",
       "      <td>4.0</td>\n",
       "      <td>1.0</td>\n",
       "      <td>Iris-versicolor</td>\n",
       "      <td>-0.26</td>\n",
       "      <td>0.0676</td>\n",
       "    </tr>\n",
       "    <tr>\n",
       "      <th>63</th>\n",
       "      <td>6.1</td>\n",
       "      <td>2.9</td>\n",
       "      <td>4.7</td>\n",
       "      <td>1.4</td>\n",
       "      <td>Iris-versicolor</td>\n",
       "      <td>0.44</td>\n",
       "      <td>0.1936</td>\n",
       "    </tr>\n",
       "    <tr>\n",
       "      <th>64</th>\n",
       "      <td>5.6</td>\n",
       "      <td>2.9</td>\n",
       "      <td>3.6</td>\n",
       "      <td>1.3</td>\n",
       "      <td>Iris-versicolor</td>\n",
       "      <td>-0.66</td>\n",
       "      <td>0.4356</td>\n",
       "    </tr>\n",
       "    <tr>\n",
       "      <th>65</th>\n",
       "      <td>6.7</td>\n",
       "      <td>3.1</td>\n",
       "      <td>4.4</td>\n",
       "      <td>1.4</td>\n",
       "      <td>Iris-versicolor</td>\n",
       "      <td>0.14</td>\n",
       "      <td>0.0196</td>\n",
       "    </tr>\n",
       "    <tr>\n",
       "      <th>66</th>\n",
       "      <td>5.6</td>\n",
       "      <td>3.0</td>\n",
       "      <td>4.5</td>\n",
       "      <td>1.5</td>\n",
       "      <td>Iris-versicolor</td>\n",
       "      <td>0.24</td>\n",
       "      <td>0.0576</td>\n",
       "    </tr>\n",
       "    <tr>\n",
       "      <th>67</th>\n",
       "      <td>5.8</td>\n",
       "      <td>2.7</td>\n",
       "      <td>4.1</td>\n",
       "      <td>1.0</td>\n",
       "      <td>Iris-versicolor</td>\n",
       "      <td>-0.16</td>\n",
       "      <td>0.0256</td>\n",
       "    </tr>\n",
       "    <tr>\n",
       "      <th>68</th>\n",
       "      <td>6.2</td>\n",
       "      <td>2.2</td>\n",
       "      <td>4.5</td>\n",
       "      <td>1.5</td>\n",
       "      <td>Iris-versicolor</td>\n",
       "      <td>0.24</td>\n",
       "      <td>0.0576</td>\n",
       "    </tr>\n",
       "    <tr>\n",
       "      <th>69</th>\n",
       "      <td>5.6</td>\n",
       "      <td>2.5</td>\n",
       "      <td>3.9</td>\n",
       "      <td>1.1</td>\n",
       "      <td>Iris-versicolor</td>\n",
       "      <td>-0.36</td>\n",
       "      <td>0.1296</td>\n",
       "    </tr>\n",
       "    <tr>\n",
       "      <th>70</th>\n",
       "      <td>5.9</td>\n",
       "      <td>3.2</td>\n",
       "      <td>4.8</td>\n",
       "      <td>1.8</td>\n",
       "      <td>Iris-versicolor</td>\n",
       "      <td>0.54</td>\n",
       "      <td>0.2916</td>\n",
       "    </tr>\n",
       "    <tr>\n",
       "      <th>71</th>\n",
       "      <td>6.1</td>\n",
       "      <td>2.8</td>\n",
       "      <td>4.0</td>\n",
       "      <td>1.3</td>\n",
       "      <td>Iris-versicolor</td>\n",
       "      <td>-0.26</td>\n",
       "      <td>0.0676</td>\n",
       "    </tr>\n",
       "    <tr>\n",
       "      <th>72</th>\n",
       "      <td>6.3</td>\n",
       "      <td>2.5</td>\n",
       "      <td>4.9</td>\n",
       "      <td>1.5</td>\n",
       "      <td>Iris-versicolor</td>\n",
       "      <td>0.64</td>\n",
       "      <td>0.4096</td>\n",
       "    </tr>\n",
       "    <tr>\n",
       "      <th>73</th>\n",
       "      <td>6.1</td>\n",
       "      <td>2.8</td>\n",
       "      <td>4.7</td>\n",
       "      <td>1.2</td>\n",
       "      <td>Iris-versicolor</td>\n",
       "      <td>0.44</td>\n",
       "      <td>0.1936</td>\n",
       "    </tr>\n",
       "    <tr>\n",
       "      <th>74</th>\n",
       "      <td>6.4</td>\n",
       "      <td>2.9</td>\n",
       "      <td>4.3</td>\n",
       "      <td>1.3</td>\n",
       "      <td>Iris-versicolor</td>\n",
       "      <td>0.04</td>\n",
       "      <td>0.0016</td>\n",
       "    </tr>\n",
       "    <tr>\n",
       "      <th>75</th>\n",
       "      <td>6.6</td>\n",
       "      <td>3.0</td>\n",
       "      <td>4.4</td>\n",
       "      <td>1.4</td>\n",
       "      <td>Iris-versicolor</td>\n",
       "      <td>0.14</td>\n",
       "      <td>0.0196</td>\n",
       "    </tr>\n",
       "    <tr>\n",
       "      <th>76</th>\n",
       "      <td>6.8</td>\n",
       "      <td>2.8</td>\n",
       "      <td>4.8</td>\n",
       "      <td>1.4</td>\n",
       "      <td>Iris-versicolor</td>\n",
       "      <td>0.54</td>\n",
       "      <td>0.2916</td>\n",
       "    </tr>\n",
       "    <tr>\n",
       "      <th>77</th>\n",
       "      <td>6.7</td>\n",
       "      <td>3.0</td>\n",
       "      <td>5.0</td>\n",
       "      <td>1.7</td>\n",
       "      <td>Iris-versicolor</td>\n",
       "      <td>0.74</td>\n",
       "      <td>0.5476</td>\n",
       "    </tr>\n",
       "    <tr>\n",
       "      <th>78</th>\n",
       "      <td>6.0</td>\n",
       "      <td>2.9</td>\n",
       "      <td>4.5</td>\n",
       "      <td>1.5</td>\n",
       "      <td>Iris-versicolor</td>\n",
       "      <td>0.24</td>\n",
       "      <td>0.0576</td>\n",
       "    </tr>\n",
       "    <tr>\n",
       "      <th>79</th>\n",
       "      <td>5.7</td>\n",
       "      <td>2.6</td>\n",
       "      <td>3.5</td>\n",
       "      <td>1.0</td>\n",
       "      <td>Iris-versicolor</td>\n",
       "      <td>-0.76</td>\n",
       "      <td>0.5776</td>\n",
       "    </tr>\n",
       "    <tr>\n",
       "      <th>80</th>\n",
       "      <td>5.5</td>\n",
       "      <td>2.4</td>\n",
       "      <td>3.8</td>\n",
       "      <td>1.1</td>\n",
       "      <td>Iris-versicolor</td>\n",
       "      <td>-0.46</td>\n",
       "      <td>0.2116</td>\n",
       "    </tr>\n",
       "    <tr>\n",
       "      <th>81</th>\n",
       "      <td>5.5</td>\n",
       "      <td>2.4</td>\n",
       "      <td>3.7</td>\n",
       "      <td>1.0</td>\n",
       "      <td>Iris-versicolor</td>\n",
       "      <td>-0.56</td>\n",
       "      <td>0.3136</td>\n",
       "    </tr>\n",
       "    <tr>\n",
       "      <th>82</th>\n",
       "      <td>5.8</td>\n",
       "      <td>2.7</td>\n",
       "      <td>3.9</td>\n",
       "      <td>1.2</td>\n",
       "      <td>Iris-versicolor</td>\n",
       "      <td>-0.36</td>\n",
       "      <td>0.1296</td>\n",
       "    </tr>\n",
       "    <tr>\n",
       "      <th>83</th>\n",
       "      <td>6.0</td>\n",
       "      <td>2.7</td>\n",
       "      <td>5.1</td>\n",
       "      <td>1.6</td>\n",
       "      <td>Iris-versicolor</td>\n",
       "      <td>0.84</td>\n",
       "      <td>0.7056</td>\n",
       "    </tr>\n",
       "    <tr>\n",
       "      <th>84</th>\n",
       "      <td>5.4</td>\n",
       "      <td>3.0</td>\n",
       "      <td>4.5</td>\n",
       "      <td>1.5</td>\n",
       "      <td>Iris-versicolor</td>\n",
       "      <td>0.24</td>\n",
       "      <td>0.0576</td>\n",
       "    </tr>\n",
       "    <tr>\n",
       "      <th>85</th>\n",
       "      <td>6.0</td>\n",
       "      <td>3.4</td>\n",
       "      <td>4.5</td>\n",
       "      <td>1.6</td>\n",
       "      <td>Iris-versicolor</td>\n",
       "      <td>0.24</td>\n",
       "      <td>0.0576</td>\n",
       "    </tr>\n",
       "    <tr>\n",
       "      <th>86</th>\n",
       "      <td>6.7</td>\n",
       "      <td>3.1</td>\n",
       "      <td>4.7</td>\n",
       "      <td>1.5</td>\n",
       "      <td>Iris-versicolor</td>\n",
       "      <td>0.44</td>\n",
       "      <td>0.1936</td>\n",
       "    </tr>\n",
       "    <tr>\n",
       "      <th>87</th>\n",
       "      <td>6.3</td>\n",
       "      <td>2.3</td>\n",
       "      <td>4.4</td>\n",
       "      <td>1.3</td>\n",
       "      <td>Iris-versicolor</td>\n",
       "      <td>0.14</td>\n",
       "      <td>0.0196</td>\n",
       "    </tr>\n",
       "    <tr>\n",
       "      <th>88</th>\n",
       "      <td>5.6</td>\n",
       "      <td>3.0</td>\n",
       "      <td>4.1</td>\n",
       "      <td>1.3</td>\n",
       "      <td>Iris-versicolor</td>\n",
       "      <td>-0.16</td>\n",
       "      <td>0.0256</td>\n",
       "    </tr>\n",
       "    <tr>\n",
       "      <th>89</th>\n",
       "      <td>5.5</td>\n",
       "      <td>2.5</td>\n",
       "      <td>4.0</td>\n",
       "      <td>1.3</td>\n",
       "      <td>Iris-versicolor</td>\n",
       "      <td>-0.26</td>\n",
       "      <td>0.0676</td>\n",
       "    </tr>\n",
       "    <tr>\n",
       "      <th>90</th>\n",
       "      <td>5.5</td>\n",
       "      <td>2.6</td>\n",
       "      <td>4.4</td>\n",
       "      <td>1.2</td>\n",
       "      <td>Iris-versicolor</td>\n",
       "      <td>0.14</td>\n",
       "      <td>0.0196</td>\n",
       "    </tr>\n",
       "    <tr>\n",
       "      <th>91</th>\n",
       "      <td>6.1</td>\n",
       "      <td>3.0</td>\n",
       "      <td>4.6</td>\n",
       "      <td>1.4</td>\n",
       "      <td>Iris-versicolor</td>\n",
       "      <td>0.34</td>\n",
       "      <td>0.1156</td>\n",
       "    </tr>\n",
       "    <tr>\n",
       "      <th>92</th>\n",
       "      <td>5.8</td>\n",
       "      <td>2.6</td>\n",
       "      <td>4.0</td>\n",
       "      <td>1.2</td>\n",
       "      <td>Iris-versicolor</td>\n",
       "      <td>-0.26</td>\n",
       "      <td>0.0676</td>\n",
       "    </tr>\n",
       "    <tr>\n",
       "      <th>93</th>\n",
       "      <td>5.0</td>\n",
       "      <td>2.3</td>\n",
       "      <td>3.3</td>\n",
       "      <td>1.0</td>\n",
       "      <td>Iris-versicolor</td>\n",
       "      <td>-0.96</td>\n",
       "      <td>0.9216</td>\n",
       "    </tr>\n",
       "    <tr>\n",
       "      <th>94</th>\n",
       "      <td>5.6</td>\n",
       "      <td>2.7</td>\n",
       "      <td>4.2</td>\n",
       "      <td>1.3</td>\n",
       "      <td>Iris-versicolor</td>\n",
       "      <td>-0.06</td>\n",
       "      <td>0.0036</td>\n",
       "    </tr>\n",
       "    <tr>\n",
       "      <th>95</th>\n",
       "      <td>5.7</td>\n",
       "      <td>3.0</td>\n",
       "      <td>4.2</td>\n",
       "      <td>1.2</td>\n",
       "      <td>Iris-versicolor</td>\n",
       "      <td>-0.06</td>\n",
       "      <td>0.0036</td>\n",
       "    </tr>\n",
       "    <tr>\n",
       "      <th>96</th>\n",
       "      <td>5.7</td>\n",
       "      <td>2.9</td>\n",
       "      <td>4.2</td>\n",
       "      <td>1.3</td>\n",
       "      <td>Iris-versicolor</td>\n",
       "      <td>-0.06</td>\n",
       "      <td>0.0036</td>\n",
       "    </tr>\n",
       "    <tr>\n",
       "      <th>97</th>\n",
       "      <td>6.2</td>\n",
       "      <td>2.9</td>\n",
       "      <td>4.3</td>\n",
       "      <td>1.3</td>\n",
       "      <td>Iris-versicolor</td>\n",
       "      <td>0.04</td>\n",
       "      <td>0.0016</td>\n",
       "    </tr>\n",
       "    <tr>\n",
       "      <th>98</th>\n",
       "      <td>5.1</td>\n",
       "      <td>2.5</td>\n",
       "      <td>3.0</td>\n",
       "      <td>1.1</td>\n",
       "      <td>Iris-versicolor</td>\n",
       "      <td>-1.26</td>\n",
       "      <td>1.5876</td>\n",
       "    </tr>\n",
       "    <tr>\n",
       "      <th>99</th>\n",
       "      <td>5.7</td>\n",
       "      <td>2.8</td>\n",
       "      <td>4.1</td>\n",
       "      <td>1.3</td>\n",
       "      <td>Iris-versicolor</td>\n",
       "      <td>-0.16</td>\n",
       "      <td>0.0256</td>\n",
       "    </tr>\n",
       "  </tbody>\n",
       "</table>\n",
       "</div>"
      ],
      "text/plain": [
       "    long_sepal  width_sepal  long_petal  width_petal          class_1  \\\n",
       "50         7.0          3.2         4.7          1.4  Iris-versicolor   \n",
       "51         6.4          3.2         4.5          1.5  Iris-versicolor   \n",
       "52         6.9          3.1         4.9          1.5  Iris-versicolor   \n",
       "53         5.5          2.3         4.0          1.3  Iris-versicolor   \n",
       "54         6.5          2.8         4.6          1.5  Iris-versicolor   \n",
       "55         5.7          2.8         4.5          1.3  Iris-versicolor   \n",
       "56         6.3          3.3         4.7          1.6  Iris-versicolor   \n",
       "57         4.9          2.4         3.3          1.0  Iris-versicolor   \n",
       "58         6.6          2.9         4.6          1.3  Iris-versicolor   \n",
       "59         5.2          2.7         3.9          1.4  Iris-versicolor   \n",
       "60         5.0          2.0         3.5          1.0  Iris-versicolor   \n",
       "61         5.9          3.0         4.2          1.5  Iris-versicolor   \n",
       "62         6.0          2.2         4.0          1.0  Iris-versicolor   \n",
       "63         6.1          2.9         4.7          1.4  Iris-versicolor   \n",
       "64         5.6          2.9         3.6          1.3  Iris-versicolor   \n",
       "65         6.7          3.1         4.4          1.4  Iris-versicolor   \n",
       "66         5.6          3.0         4.5          1.5  Iris-versicolor   \n",
       "67         5.8          2.7         4.1          1.0  Iris-versicolor   \n",
       "68         6.2          2.2         4.5          1.5  Iris-versicolor   \n",
       "69         5.6          2.5         3.9          1.1  Iris-versicolor   \n",
       "70         5.9          3.2         4.8          1.8  Iris-versicolor   \n",
       "71         6.1          2.8         4.0          1.3  Iris-versicolor   \n",
       "72         6.3          2.5         4.9          1.5  Iris-versicolor   \n",
       "73         6.1          2.8         4.7          1.2  Iris-versicolor   \n",
       "74         6.4          2.9         4.3          1.3  Iris-versicolor   \n",
       "75         6.6          3.0         4.4          1.4  Iris-versicolor   \n",
       "76         6.8          2.8         4.8          1.4  Iris-versicolor   \n",
       "77         6.7          3.0         5.0          1.7  Iris-versicolor   \n",
       "78         6.0          2.9         4.5          1.5  Iris-versicolor   \n",
       "79         5.7          2.6         3.5          1.0  Iris-versicolor   \n",
       "80         5.5          2.4         3.8          1.1  Iris-versicolor   \n",
       "81         5.5          2.4         3.7          1.0  Iris-versicolor   \n",
       "82         5.8          2.7         3.9          1.2  Iris-versicolor   \n",
       "83         6.0          2.7         5.1          1.6  Iris-versicolor   \n",
       "84         5.4          3.0         4.5          1.5  Iris-versicolor   \n",
       "85         6.0          3.4         4.5          1.6  Iris-versicolor   \n",
       "86         6.7          3.1         4.7          1.5  Iris-versicolor   \n",
       "87         6.3          2.3         4.4          1.3  Iris-versicolor   \n",
       "88         5.6          3.0         4.1          1.3  Iris-versicolor   \n",
       "89         5.5          2.5         4.0          1.3  Iris-versicolor   \n",
       "90         5.5          2.6         4.4          1.2  Iris-versicolor   \n",
       "91         6.1          3.0         4.6          1.4  Iris-versicolor   \n",
       "92         5.8          2.6         4.0          1.2  Iris-versicolor   \n",
       "93         5.0          2.3         3.3          1.0  Iris-versicolor   \n",
       "94         5.6          2.7         4.2          1.3  Iris-versicolor   \n",
       "95         5.7          3.0         4.2          1.2  Iris-versicolor   \n",
       "96         5.7          2.9         4.2          1.3  Iris-versicolor   \n",
       "97         6.2          2.9         4.3          1.3  Iris-versicolor   \n",
       "98         5.1          2.5         3.0          1.1  Iris-versicolor   \n",
       "99         5.7          2.8         4.1          1.3  Iris-versicolor   \n",
       "\n",
       "    long_petal_minus_media  long_petal_minus_media_square  \n",
       "50                    0.44                         0.1936  \n",
       "51                    0.24                         0.0576  \n",
       "52                    0.64                         0.4096  \n",
       "53                   -0.26                         0.0676  \n",
       "54                    0.34                         0.1156  \n",
       "55                    0.24                         0.0576  \n",
       "56                    0.44                         0.1936  \n",
       "57                   -0.96                         0.9216  \n",
       "58                    0.34                         0.1156  \n",
       "59                   -0.36                         0.1296  \n",
       "60                   -0.76                         0.5776  \n",
       "61                   -0.06                         0.0036  \n",
       "62                   -0.26                         0.0676  \n",
       "63                    0.44                         0.1936  \n",
       "64                   -0.66                         0.4356  \n",
       "65                    0.14                         0.0196  \n",
       "66                    0.24                         0.0576  \n",
       "67                   -0.16                         0.0256  \n",
       "68                    0.24                         0.0576  \n",
       "69                   -0.36                         0.1296  \n",
       "70                    0.54                         0.2916  \n",
       "71                   -0.26                         0.0676  \n",
       "72                    0.64                         0.4096  \n",
       "73                    0.44                         0.1936  \n",
       "74                    0.04                         0.0016  \n",
       "75                    0.14                         0.0196  \n",
       "76                    0.54                         0.2916  \n",
       "77                    0.74                         0.5476  \n",
       "78                    0.24                         0.0576  \n",
       "79                   -0.76                         0.5776  \n",
       "80                   -0.46                         0.2116  \n",
       "81                   -0.56                         0.3136  \n",
       "82                   -0.36                         0.1296  \n",
       "83                    0.84                         0.7056  \n",
       "84                    0.24                         0.0576  \n",
       "85                    0.24                         0.0576  \n",
       "86                    0.44                         0.1936  \n",
       "87                    0.14                         0.0196  \n",
       "88                   -0.16                         0.0256  \n",
       "89                   -0.26                         0.0676  \n",
       "90                    0.14                         0.0196  \n",
       "91                    0.34                         0.1156  \n",
       "92                   -0.26                         0.0676  \n",
       "93                   -0.96                         0.9216  \n",
       "94                   -0.06                         0.0036  \n",
       "95                   -0.06                         0.0036  \n",
       "96                   -0.06                         0.0036  \n",
       "97                    0.04                         0.0016  \n",
       "98                   -1.26                         1.5876  \n",
       "99                   -0.16                         0.0256  "
      ]
     },
     "execution_count": 18,
     "metadata": {},
     "output_type": "execute_result"
    }
   ],
   "source": [
    "# Example 4: Calculate the standard deviation of the petal length for the Iris Versicolor class\n",
    "df_iris_versicolor = df_iris.query('class_1 == \"Iris-versicolor\"').copy()\n",
    "\n",
    "# Calculate the mean length of the petal\n",
    "media_long_petal = np.mean(df_iris_versicolor['long_petal'])\n",
    "\n",
    "# A column is created with the subtraction of the average of each length of the petal\n",
    "df_iris_versicolor['long_petal_minus_media'] = df_iris_versicolor['long_petal'] - media_long_petal\n",
    "\n",
    "# Create a column with the difference above the square\n",
    "df_iris_versicolor['long_petal_minus_media_square'] = (df_iris_versicolor['long_petal'] - media_long_petal)**2\n",
    "\n",
    "# Calculate the mean squared\n",
    "media_long_petal_error = np.mean(df_iris_versicolor['long_petal_minus_media_square'])\n",
    "\n",
    "# Calculate standard deviation\n",
    "print(f'DevSt = {np.square(media_long_petal_error)}')\n",
    "\n",
    "# Print the dataset\n",
    "df_iris_versicolor\n"
   ]
  },
  {
   "cell_type": "markdown",
   "metadata": {},
   "source": [
    "As we observed, the calculation was quite overwhelming and that is why the previously exposed methods somehow allow a lot to be achieved in so few lines of code.\n",
    "For example, we can do the same thing much more efficiently with the `np.std()` method. Taking the column 'long_petalo' as a parameter"
   ]
  },
  {
   "cell_type": "code",
   "execution_count": 19,
   "metadata": {},
   "outputs": [
    {
     "name": "stdout",
     "output_type": "stream",
     "text": [
      "DevSt = 0.4651881339845203\n"
     ]
    }
   ],
   "source": [
    "devstd_long_petal = np.std(df_iris_versicolor['long_petal'])\n",
    "print(f'DevSt = {devstd_long_petal}')"
   ]
  },
  {
   "cell_type": "markdown",
   "metadata": {},
   "source": [
    "# Practice 1: Acquire data from ChEMBL\n",
    "\n",
    "## Concepts to work\n",
    "**[Uniprot](https://www.uniprot.org/):** It is a database that seeks to provide the scientific community with a comprehensive, high-quality and freely accessible resource of protein sequences and functional information<sup> 1 </sup>.\n",
    "\n",
    "**[ChEMBL](https://www.ebi.ac.uk/chembl/):** It is a database that contains bioactive molecules, it gathers chemical, bioactivity and genomic data<sup> 2 </sup>.\n",
    "\n",
    "**Half-maximal inhibitory concentration (IC50):** Expresses the amount of drug necessary to inhibit a biological process by half the uninhibited value, it is the most widely used measure of drug efficacy or potency<sup> 3 </sup>.\n",
    "\n",
    "**pIC50:** Is the negative logarithm to the base ten of the IC50, when the units of are **molars (M)**. It is used to facilitate the comparison between different IC50. Also, it is important to know that the higher the pIC50 the drug has a greater efficacy or greater potential<sup> 3 </sup>.\n",
    "\n",
    "**Half maximal effective concentration (EC50):** It is the effective concentration to produce 50% of the maximum response, it is used to compare the potencies of the drugs. Also, it is important to know that the lower the EC50, the more potent the drug will be. The negative logarithm in base ten **(pEC50)** is also calculated for this request to facilitate its understanding. Reference: [Waller, D., & Sampson, A. (2018)](https://doi.org/10.1016/B978-0-7020-7167-6.00001-4)\n",
    "\n",
    "**Inhibitor constant (Ki):** It is the concentration required to produce half of the maximum inhibition, it is useful to describe the binding affinity of a molecule to a receptor.\n",
    "\n",
    "**SMILES (Simplified Molecular-Input Line-Entry System):** This is a line notation for describing chemical structures using short ASCII strings. Reference: [Daylight Chemical Information Systems](https://www.daylight.com/smiles/)"
   ]
  },
  {
   "cell_type": "markdown",
   "metadata": {},
   "source": [
    "## Problem Statement\n",
    "For an investigation we want to identify the compounds that act with a specific target, the glycogen synthase kinase-3 beta protein, which acts as a negative regulator in the hormonal control of glucose homeostasis, Wnt signaling and regulation of transcription factors and microtubules .\n",
    "\n",
    "In this practice we are going to explore and learn about the bioactive compounds of the protein, their structures and some physicochemical characteristics.\n",
    "\n",
    "For which, we will use the information provided by the **ChEMBL** database, which allows us to filter and download the known bioactivity data of the compounds that interact with our target of interest. Later, we will work the data in a ` DataFrame `, which will allow us to easily organize, visualize and manipulate it.\n",
    "\n",
    "The first thing to do is connect to **ChEMBL**, using the **webresource client** library."
   ]
  },
  {
   "cell_type": "markdown",
   "metadata": {},
   "source": [
    "## Connect to the ChEMBL database"
   ]
  },
  {
   "cell_type": "code",
   "execution_count": 20,
   "metadata": {},
   "outputs": [],
   "source": [
    "from chembl_webresource_client.new_client import new_client # The webresource client library is imported that allows connecting to ChEMBL\n",
    "import pandas as pd\n",
    "import math\n",
    "from rdkit.Chem import PandasTools"
   ]
  },
  {
   "cell_type": "markdown",
   "metadata": {},
   "source": [
    "Must be created for API access"
   ]
  },
  {
   "cell_type": "code",
   "execution_count": 21,
   "metadata": {},
   "outputs": [],
   "source": [
    "targets = new_client.target\n",
    "compounds = new_client.molecule\n",
    "bioactivities = new_client.activity"
   ]
  },
  {
   "cell_type": "markdown",
   "metadata": {},
   "source": [
    "## Target data\n",
    "Then, we must look for the ID of the target of interest in the Uniprot database, which in this case is Glycogen synthase kinase-3 beta, ID: [P49841](https://www.uniprot.org/uniprot/P49841)."
   ]
  },
  {
   "cell_type": "code",
   "execution_count": 22,
   "metadata": {},
   "outputs": [
    {
     "data": {
      "text/html": [
       "<div>\n",
       "<style scoped>\n",
       "    .dataframe tbody tr th:only-of-type {\n",
       "        vertical-align: middle;\n",
       "    }\n",
       "\n",
       "    .dataframe tbody tr th {\n",
       "        vertical-align: top;\n",
       "    }\n",
       "\n",
       "    .dataframe thead th {\n",
       "        text-align: right;\n",
       "    }\n",
       "</style>\n",
       "<table border=\"1\" class=\"dataframe\">\n",
       "  <thead>\n",
       "    <tr style=\"text-align: right;\">\n",
       "      <th></th>\n",
       "      <th>organism</th>\n",
       "      <th>pref_name</th>\n",
       "      <th>target_chembl_id</th>\n",
       "      <th>target_type</th>\n",
       "    </tr>\n",
       "  </thead>\n",
       "  <tbody>\n",
       "    <tr>\n",
       "      <th>0</th>\n",
       "      <td>Homo sapiens</td>\n",
       "      <td>Glycogen synthase kinase-3 beta</td>\n",
       "      <td>CHEMBL262</td>\n",
       "      <td>SINGLE PROTEIN</td>\n",
       "    </tr>\n",
       "    <tr>\n",
       "      <th>1</th>\n",
       "      <td>Homo sapiens</td>\n",
       "      <td>Glycogen synthase kinase-3 beta</td>\n",
       "      <td>CHEMBL262</td>\n",
       "      <td>SINGLE PROTEIN</td>\n",
       "    </tr>\n",
       "    <tr>\n",
       "      <th>2</th>\n",
       "      <td>Homo sapiens</td>\n",
       "      <td>Glycogen synthase kinase-3</td>\n",
       "      <td>CHEMBL2095188</td>\n",
       "      <td>PROTEIN FAMILY</td>\n",
       "    </tr>\n",
       "    <tr>\n",
       "      <th>3</th>\n",
       "      <td>Homo sapiens</td>\n",
       "      <td>Axin-1/Glycogen synthase kinase-3 beta</td>\n",
       "      <td>CHEMBL3883309</td>\n",
       "      <td>PROTEIN-PROTEIN INTERACTION</td>\n",
       "    </tr>\n",
       "  </tbody>\n",
       "</table>\n",
       "</div>"
      ],
      "text/plain": [
       "       organism                               pref_name target_chembl_id  \\\n",
       "0  Homo sapiens         Glycogen synthase kinase-3 beta        CHEMBL262   \n",
       "1  Homo sapiens         Glycogen synthase kinase-3 beta        CHEMBL262   \n",
       "2  Homo sapiens              Glycogen synthase kinase-3    CHEMBL2095188   \n",
       "3  Homo sapiens  Axin-1/Glycogen synthase kinase-3 beta    CHEMBL3883309   \n",
       "\n",
       "                   target_type  \n",
       "0               SINGLE PROTEIN  \n",
       "1               SINGLE PROTEIN  \n",
       "2               PROTEIN FAMILY  \n",
       "3  PROTEIN-PROTEIN INTERACTION  "
      ]
     },
     "execution_count": 22,
     "metadata": {},
     "output_type": "execute_result"
    }
   ],
   "source": [
    "uniprot_id = 'P49841'\n",
    "# It takes only some information from ChEMBL that is of interest\n",
    "target_P49841 = targets.get(target_components__accession=uniprot_id) \\\n",
    "                     .only('target_chembl_id', 'organism', 'pref_name', 'target_type')\n",
    "pd.DataFrame.from_records(target_P49841)"
   ]
  },
  {
   "cell_type": "code",
   "execution_count": 23,
   "metadata": {},
   "outputs": [
    {
     "name": "stdout",
     "output_type": "stream",
     "text": [
      "The target of interest is: {'organism': 'Homo sapiens', 'pref_name': 'Glycogen synthase kinase-3 beta', 'target_chembl_id': 'CHEMBL262', 'target_type': 'SINGLE PROTEIN'}\n"
     ]
    }
   ],
   "source": [
    "# Select the target of interest\n",
    "target = target_P49841[0]\n",
    "print(f'The target of interest is: {str(target)}')"
   ]
  },
  {
   "cell_type": "code",
   "execution_count": 24,
   "metadata": {},
   "outputs": [
    {
     "name": "stdout",
     "output_type": "stream",
     "text": [
      "The ChEMBL-ID of interest is: CHEMBL262\n"
     ]
    }
   ],
   "source": [
    "# Save the ChEMBL-ID\n",
    "chembl_id = target['target_chembl_id']\n",
    "print(f'The ChEMBL-ID of interest is: {chembl_id}')"
   ]
  },
  {
   "cell_type": "markdown",
   "metadata": {},
   "source": [
    "## Bioactivity data\n",
    "\n",
    "Now we consult the bioactivity data that is of interest. The steps to follow are:\n",
    "1. Download and filter bioactivities for the target\n",
    "     Bioactivity data will be filtered as follows:\n",
    "         * Type of bioactivity: IC50, EC50, Ki\n",
    "         * Relationship: \"=\"\n",
    "2. Convert the downloaded data into a data frame:\n",
    "     The columns of interest are: `molecule_chembl_id`, `type`, `relation`, `pchembl_value`"
   ]
  },
  {
   "cell_type": "code",
   "execution_count": 25,
   "metadata": {},
   "outputs": [
    {
     "data": {
      "text/html": [
       "<div>\n",
       "<style scoped>\n",
       "    .dataframe tbody tr th:only-of-type {\n",
       "        vertical-align: middle;\n",
       "    }\n",
       "\n",
       "    .dataframe tbody tr th {\n",
       "        vertical-align: top;\n",
       "    }\n",
       "\n",
       "    .dataframe thead th {\n",
       "        text-align: right;\n",
       "    }\n",
       "</style>\n",
       "<table border=\"1\" class=\"dataframe\">\n",
       "  <thead>\n",
       "    <tr style=\"text-align: right;\">\n",
       "      <th></th>\n",
       "      <th>molecule_chembl_id</th>\n",
       "      <th>type</th>\n",
       "      <th>relation</th>\n",
       "      <th>value</th>\n",
       "      <th>units</th>\n",
       "      <th>pchembl_value</th>\n",
       "    </tr>\n",
       "  </thead>\n",
       "  <tbody>\n",
       "    <tr>\n",
       "      <th>0</th>\n",
       "      <td>CHEMBL322970</td>\n",
       "      <td>IC50</td>\n",
       "      <td>=</td>\n",
       "      <td>0.38</td>\n",
       "      <td>uM</td>\n",
       "      <td>6.42</td>\n",
       "    </tr>\n",
       "    <tr>\n",
       "      <th>1</th>\n",
       "      <td>CHEMBL322970</td>\n",
       "      <td>EC50</td>\n",
       "      <td>=</td>\n",
       "      <td>45.6</td>\n",
       "      <td>uM</td>\n",
       "      <td>4.34</td>\n",
       "    </tr>\n",
       "    <tr>\n",
       "      <th>2</th>\n",
       "      <td>CHEMBL322970</td>\n",
       "      <td>EC50</td>\n",
       "      <td>=</td>\n",
       "      <td>30.62</td>\n",
       "      <td>uM</td>\n",
       "      <td>4.51</td>\n",
       "    </tr>\n",
       "    <tr>\n",
       "      <th>3</th>\n",
       "      <td>CHEMBL322970</td>\n",
       "      <td>Fold stimulation</td>\n",
       "      <td>=</td>\n",
       "      <td>1.3</td>\n",
       "      <td>None</td>\n",
       "      <td>None</td>\n",
       "    </tr>\n",
       "    <tr>\n",
       "      <th>4</th>\n",
       "      <td>CHEMBL112564</td>\n",
       "      <td>IC50</td>\n",
       "      <td>=</td>\n",
       "      <td>6.92</td>\n",
       "      <td>uM</td>\n",
       "      <td>5.16</td>\n",
       "    </tr>\n",
       "    <tr>\n",
       "      <th>...</th>\n",
       "      <td>...</td>\n",
       "      <td>...</td>\n",
       "      <td>...</td>\n",
       "      <td>...</td>\n",
       "      <td>...</td>\n",
       "      <td>...</td>\n",
       "    </tr>\n",
       "    <tr>\n",
       "      <th>7913</th>\n",
       "      <td>CHEMBL388978</td>\n",
       "      <td>Delta TM</td>\n",
       "      <td>=</td>\n",
       "      <td>10.75</td>\n",
       "      <td>C</td>\n",
       "      <td>None</td>\n",
       "    </tr>\n",
       "    <tr>\n",
       "      <th>7914</th>\n",
       "      <td>CHEMBL4752253</td>\n",
       "      <td>Delta TM</td>\n",
       "      <td>=</td>\n",
       "      <td>-0.46333122</td>\n",
       "      <td>c</td>\n",
       "      <td>None</td>\n",
       "    </tr>\n",
       "    <tr>\n",
       "      <th>7915</th>\n",
       "      <td>CHEMBL4762515</td>\n",
       "      <td>Delta TM</td>\n",
       "      <td>=</td>\n",
       "      <td>0.0</td>\n",
       "      <td>c</td>\n",
       "      <td>None</td>\n",
       "    </tr>\n",
       "    <tr>\n",
       "      <th>7916</th>\n",
       "      <td>CHEMBL4591082</td>\n",
       "      <td>Delta TM</td>\n",
       "      <td>=</td>\n",
       "      <td>-0.06677437</td>\n",
       "      <td>c</td>\n",
       "      <td>None</td>\n",
       "    </tr>\n",
       "    <tr>\n",
       "      <th>7917</th>\n",
       "      <td>CHEMBL5085558</td>\n",
       "      <td>Delta TM</td>\n",
       "      <td>=</td>\n",
       "      <td>0.69</td>\n",
       "      <td>c</td>\n",
       "      <td>None</td>\n",
       "    </tr>\n",
       "  </tbody>\n",
       "</table>\n",
       "<p>7918 rows × 6 columns</p>\n",
       "</div>"
      ],
      "text/plain": [
       "     molecule_chembl_id              type relation        value units  \\\n",
       "0          CHEMBL322970              IC50        =         0.38    uM   \n",
       "1          CHEMBL322970              EC50        =         45.6    uM   \n",
       "2          CHEMBL322970              EC50        =        30.62    uM   \n",
       "3          CHEMBL322970  Fold stimulation        =          1.3  None   \n",
       "4          CHEMBL112564              IC50        =         6.92    uM   \n",
       "...                 ...               ...      ...          ...   ...   \n",
       "7913       CHEMBL388978          Delta TM        =        10.75     C   \n",
       "7914      CHEMBL4752253          Delta TM        =  -0.46333122     c   \n",
       "7915      CHEMBL4762515          Delta TM        =          0.0     c   \n",
       "7916      CHEMBL4591082          Delta TM        =  -0.06677437     c   \n",
       "7917      CHEMBL5085558          Delta TM        =         0.69     c   \n",
       "\n",
       "     pchembl_value  \n",
       "0             6.42  \n",
       "1             4.34  \n",
       "2             4.51  \n",
       "3             None  \n",
       "4             5.16  \n",
       "...            ...  \n",
       "7913          None  \n",
       "7914          None  \n",
       "7915          None  \n",
       "7916          None  \n",
       "7917          None  \n",
       "\n",
       "[7918 rows x 6 columns]"
      ]
     },
     "execution_count": 25,
     "metadata": {},
     "output_type": "execute_result"
    }
   ],
   "source": [
    "# First, we download the entire database\n",
    "bioact_temp = bioactivities.filter(target_chembl_id = chembl_id)\\\n",
    "                       .filter(relation = '=') \\\n",
    "                       .only('molecule_chembl_id', 'type', 'relation', 'standard_value', 'standard_units', 'pchembl_value', )\n",
    "df_bioact_temp = pd.DataFrame(bioact_temp)\n",
    "# rearrange the columns\n",
    "df_bioact_temp = df_bioact_temp[['molecule_chembl_id', 'type', 'relation', 'value', 'units', 'pchembl_value']]\n",
    "df_bioact_temp"
   ]
  },
  {
   "cell_type": "code",
   "execution_count": 26,
   "metadata": {},
   "outputs": [
    {
     "name": "stdout",
     "output_type": "stream",
     "text": [
      "Total data loaded: 3130\n"
     ]
    }
   ],
   "source": [
    "# Then, we filter by the type of activity desired\n",
    "df_bioact = df_bioact_temp[(df_bioact_temp['type'] == 'IC50') |\n",
    "                              (df_bioact_temp['type'] == 'EC50')|\n",
    "                              (df_bioact_temp['type'] == 'Ki')]\n",
    "print(f'Total data loaded: {len(df_bioact)}')"
   ]
  },
  {
   "cell_type": "code",
   "execution_count": 27,
   "metadata": {},
   "outputs": [
    {
     "data": {
      "text/html": [
       "<div>\n",
       "<style scoped>\n",
       "    .dataframe tbody tr th:only-of-type {\n",
       "        vertical-align: middle;\n",
       "    }\n",
       "\n",
       "    .dataframe tbody tr th {\n",
       "        vertical-align: top;\n",
       "    }\n",
       "\n",
       "    .dataframe thead th {\n",
       "        text-align: right;\n",
       "    }\n",
       "</style>\n",
       "<table border=\"1\" class=\"dataframe\">\n",
       "  <thead>\n",
       "    <tr style=\"text-align: right;\">\n",
       "      <th></th>\n",
       "      <th>molecule_chembl_id</th>\n",
       "      <th>type</th>\n",
       "      <th>relation</th>\n",
       "      <th>value</th>\n",
       "      <th>units</th>\n",
       "      <th>pchembl_value</th>\n",
       "    </tr>\n",
       "  </thead>\n",
       "  <tbody>\n",
       "    <tr>\n",
       "      <th>0</th>\n",
       "      <td>CHEMBL322970</td>\n",
       "      <td>IC50</td>\n",
       "      <td>=</td>\n",
       "      <td>0.38</td>\n",
       "      <td>uM</td>\n",
       "      <td>6.42</td>\n",
       "    </tr>\n",
       "    <tr>\n",
       "      <th>1</th>\n",
       "      <td>CHEMBL322970</td>\n",
       "      <td>EC50</td>\n",
       "      <td>=</td>\n",
       "      <td>45.6</td>\n",
       "      <td>uM</td>\n",
       "      <td>4.34</td>\n",
       "    </tr>\n",
       "    <tr>\n",
       "      <th>2</th>\n",
       "      <td>CHEMBL322970</td>\n",
       "      <td>EC50</td>\n",
       "      <td>=</td>\n",
       "      <td>30.62</td>\n",
       "      <td>uM</td>\n",
       "      <td>4.51</td>\n",
       "    </tr>\n",
       "    <tr>\n",
       "      <th>4</th>\n",
       "      <td>CHEMBL112564</td>\n",
       "      <td>IC50</td>\n",
       "      <td>=</td>\n",
       "      <td>6.92</td>\n",
       "      <td>uM</td>\n",
       "      <td>5.16</td>\n",
       "    </tr>\n",
       "    <tr>\n",
       "      <th>5</th>\n",
       "      <td>CHEMBL321421</td>\n",
       "      <td>IC50</td>\n",
       "      <td>=</td>\n",
       "      <td>0.41</td>\n",
       "      <td>uM</td>\n",
       "      <td>6.39</td>\n",
       "    </tr>\n",
       "    <tr>\n",
       "      <th>...</th>\n",
       "      <td>...</td>\n",
       "      <td>...</td>\n",
       "      <td>...</td>\n",
       "      <td>...</td>\n",
       "      <td>...</td>\n",
       "      <td>...</td>\n",
       "    </tr>\n",
       "    <tr>\n",
       "      <th>6950</th>\n",
       "      <td>CHEMBL5074629</td>\n",
       "      <td>IC50</td>\n",
       "      <td>=</td>\n",
       "      <td>0.13</td>\n",
       "      <td>uM</td>\n",
       "      <td>6.89</td>\n",
       "    </tr>\n",
       "    <tr>\n",
       "      <th>6951</th>\n",
       "      <td>CHEMBL5088263</td>\n",
       "      <td>IC50</td>\n",
       "      <td>=</td>\n",
       "      <td>0.066</td>\n",
       "      <td>uM</td>\n",
       "      <td>7.18</td>\n",
       "    </tr>\n",
       "    <tr>\n",
       "      <th>6952</th>\n",
       "      <td>CHEMBL5071096</td>\n",
       "      <td>IC50</td>\n",
       "      <td>=</td>\n",
       "      <td>0.132</td>\n",
       "      <td>uM</td>\n",
       "      <td>6.88</td>\n",
       "    </tr>\n",
       "    <tr>\n",
       "      <th>6953</th>\n",
       "      <td>CHEMBL5077814</td>\n",
       "      <td>IC50</td>\n",
       "      <td>=</td>\n",
       "      <td>0.002</td>\n",
       "      <td>uM</td>\n",
       "      <td>8.70</td>\n",
       "    </tr>\n",
       "    <tr>\n",
       "      <th>6979</th>\n",
       "      <td>CHEMBL5070887</td>\n",
       "      <td>IC50</td>\n",
       "      <td>=</td>\n",
       "      <td>64.3</td>\n",
       "      <td>nM</td>\n",
       "      <td>7.19</td>\n",
       "    </tr>\n",
       "  </tbody>\n",
       "</table>\n",
       "<p>3130 rows × 6 columns</p>\n",
       "</div>"
      ],
      "text/plain": [
       "     molecule_chembl_id  type relation  value units pchembl_value\n",
       "0          CHEMBL322970  IC50        =   0.38    uM          6.42\n",
       "1          CHEMBL322970  EC50        =   45.6    uM          4.34\n",
       "2          CHEMBL322970  EC50        =  30.62    uM          4.51\n",
       "4          CHEMBL112564  IC50        =   6.92    uM          5.16\n",
       "5          CHEMBL321421  IC50        =   0.41    uM          6.39\n",
       "...                 ...   ...      ...    ...   ...           ...\n",
       "6950      CHEMBL5074629  IC50        =   0.13    uM          6.89\n",
       "6951      CHEMBL5088263  IC50        =  0.066    uM          7.18\n",
       "6952      CHEMBL5071096  IC50        =  0.132    uM          6.88\n",
       "6953      CHEMBL5077814  IC50        =  0.002    uM          8.70\n",
       "6979      CHEMBL5070887  IC50        =   64.3    nM          7.19\n",
       "\n",
       "[3130 rows x 6 columns]"
      ]
     },
     "execution_count": 27,
     "metadata": {},
     "output_type": "execute_result"
    }
   ],
   "source": [
    "# first composites of the dataframe\n",
    "df_bioact"
   ]
  },
  {
   "cell_type": "markdown",
   "metadata": {},
   "source": [
    "Recall that the `.head()` method displays the first five elements of the `dataframe`, however, we can quickly see what elements are in the *realtion* and *type* columns."
   ]
  },
  {
   "cell_type": "code",
   "execution_count": 28,
   "metadata": {},
   "outputs": [
    {
     "data": {
      "text/plain": [
       "=    3130\n",
       "Name: relation, dtype: int64"
      ]
     },
     "execution_count": 28,
     "metadata": {},
     "output_type": "execute_result"
    }
   ],
   "source": [
    "df_bioact['relation'].value_counts()"
   ]
  },
  {
   "cell_type": "code",
   "execution_count": 29,
   "metadata": {},
   "outputs": [
    {
     "data": {
      "text/plain": [
       "IC50    2772\n",
       "Ki       289\n",
       "EC50      69\n",
       "Name: type, dtype: int64"
      ]
     },
     "execution_count": 29,
     "metadata": {},
     "output_type": "execute_result"
    }
   ],
   "source": [
    "df_bioact['type'].value_counts()"
   ]
  },
  {
   "cell_type": "markdown",
   "metadata": {},
   "source": [
    "Since the *realtion* column has only one type (this is due to the initial database filter), we can remove it:"
   ]
  },
  {
   "cell_type": "code",
   "execution_count": 30,
   "metadata": {},
   "outputs": [
    {
     "data": {
      "text/html": [
       "<div>\n",
       "<style scoped>\n",
       "    .dataframe tbody tr th:only-of-type {\n",
       "        vertical-align: middle;\n",
       "    }\n",
       "\n",
       "    .dataframe tbody tr th {\n",
       "        vertical-align: top;\n",
       "    }\n",
       "\n",
       "    .dataframe thead th {\n",
       "        text-align: right;\n",
       "    }\n",
       "</style>\n",
       "<table border=\"1\" class=\"dataframe\">\n",
       "  <thead>\n",
       "    <tr style=\"text-align: right;\">\n",
       "      <th></th>\n",
       "      <th>molecule_chembl_id</th>\n",
       "      <th>type</th>\n",
       "      <th>value</th>\n",
       "      <th>units</th>\n",
       "      <th>pchembl_value</th>\n",
       "    </tr>\n",
       "  </thead>\n",
       "  <tbody>\n",
       "    <tr>\n",
       "      <th>0</th>\n",
       "      <td>CHEMBL322970</td>\n",
       "      <td>IC50</td>\n",
       "      <td>0.38</td>\n",
       "      <td>uM</td>\n",
       "      <td>6.42</td>\n",
       "    </tr>\n",
       "    <tr>\n",
       "      <th>1</th>\n",
       "      <td>CHEMBL322970</td>\n",
       "      <td>EC50</td>\n",
       "      <td>45.6</td>\n",
       "      <td>uM</td>\n",
       "      <td>4.34</td>\n",
       "    </tr>\n",
       "    <tr>\n",
       "      <th>2</th>\n",
       "      <td>CHEMBL322970</td>\n",
       "      <td>EC50</td>\n",
       "      <td>30.62</td>\n",
       "      <td>uM</td>\n",
       "      <td>4.51</td>\n",
       "    </tr>\n",
       "    <tr>\n",
       "      <th>4</th>\n",
       "      <td>CHEMBL112564</td>\n",
       "      <td>IC50</td>\n",
       "      <td>6.92</td>\n",
       "      <td>uM</td>\n",
       "      <td>5.16</td>\n",
       "    </tr>\n",
       "    <tr>\n",
       "      <th>5</th>\n",
       "      <td>CHEMBL321421</td>\n",
       "      <td>IC50</td>\n",
       "      <td>0.41</td>\n",
       "      <td>uM</td>\n",
       "      <td>6.39</td>\n",
       "    </tr>\n",
       "  </tbody>\n",
       "</table>\n",
       "</div>"
      ],
      "text/plain": [
       "  molecule_chembl_id  type  value units pchembl_value\n",
       "0       CHEMBL322970  IC50   0.38    uM          6.42\n",
       "1       CHEMBL322970  EC50   45.6    uM          4.34\n",
       "2       CHEMBL322970  EC50  30.62    uM          4.51\n",
       "4       CHEMBL112564  IC50   6.92    uM          5.16\n",
       "5       CHEMBL321421  IC50   0.41    uM          6.39"
      ]
     },
     "execution_count": 30,
     "metadata": {},
     "output_type": "execute_result"
    }
   ],
   "source": [
    "df_bioact.pop('relation')\n",
    "df_bioact.head()"
   ]
  },
  {
   "cell_type": "markdown",
   "metadata": {},
   "source": [
    "### Clear data\n",
    "It is possible that some compounds have missing values and also duplicates, since the same compound may have been tested more than once (we will keep only the one that was tested first)"
   ]
  },
  {
   "cell_type": "code",
   "execution_count": 31,
   "metadata": {},
   "outputs": [
    {
     "name": "stdout",
     "output_type": "stream",
     "text": [
      "Total original compounds is: 3130\n"
     ]
    }
   ],
   "source": [
    "# First we check how many compounds we have in total\n",
    "ori_len = len(df_bioact)\n",
    "print(f'Total original compounds is: {ori_len}')"
   ]
  },
  {
   "cell_type": "code",
   "execution_count": 32,
   "metadata": {},
   "outputs": [
    {
     "name": "stdout",
     "output_type": "stream",
     "text": [
      "Total compounds after removing those with missing data: 3099\n",
      "Total compounds removed 31\n"
     ]
    }
   ],
   "source": [
    "# Remove compounds that do not have pChEMBL_value\n",
    "df_bioact = df_bioact.dropna(axis=0, how = 'any')\n",
    "new_len = len(df_bioact)\n",
    "print(f'Total compounds after removing those with missing data: {new_len}')\n",
    "# Subtract the total number of compounds from the total number of compounds by removing those without pChEMBL_value\n",
    "print(f'Total compounds removed {ori_len - new_len}')\n",
    "ori_len = new_len"
   ]
  },
  {
   "cell_type": "code",
   "execution_count": 33,
   "metadata": {},
   "outputs": [
    {
     "name": "stdout",
     "output_type": "stream",
     "text": [
      "Total compounds without duplicates : 2658\n",
      "Total compounds removed 441\n"
     ]
    }
   ],
   "source": [
    "# Duplicate compounds are removed and we are left with the first tested compound\n",
    "df_bioact = df_bioact.drop_duplicates('molecule_chembl_id', keep = 'first')\n",
    "new_len = len(df_bioact)\n",
    "print(f'Total compounds without duplicates : {new_len}')\n",
    "# Subtract from the total number of compounds by removing those without pChEMBL_value the total number of compounds without duplicates\n",
    "print(f'Total compounds removed {ori_len - new_len}')\n",
    "ori_len = new_len"
   ]
  },
  {
   "cell_type": "code",
   "execution_count": 34,
   "metadata": {},
   "outputs": [
    {
     "data": {
      "text/html": [
       "<div>\n",
       "<style scoped>\n",
       "    .dataframe tbody tr th:only-of-type {\n",
       "        vertical-align: middle;\n",
       "    }\n",
       "\n",
       "    .dataframe tbody tr th {\n",
       "        vertical-align: top;\n",
       "    }\n",
       "\n",
       "    .dataframe thead th {\n",
       "        text-align: right;\n",
       "    }\n",
       "</style>\n",
       "<table border=\"1\" class=\"dataframe\">\n",
       "  <thead>\n",
       "    <tr style=\"text-align: right;\">\n",
       "      <th></th>\n",
       "      <th>molecule_chembl_id</th>\n",
       "      <th>type</th>\n",
       "      <th>value</th>\n",
       "      <th>units</th>\n",
       "      <th>pchembl_value</th>\n",
       "    </tr>\n",
       "  </thead>\n",
       "  <tbody>\n",
       "    <tr>\n",
       "      <th>0</th>\n",
       "      <td>CHEMBL322970</td>\n",
       "      <td>IC50</td>\n",
       "      <td>0.38</td>\n",
       "      <td>uM</td>\n",
       "      <td>6.42</td>\n",
       "    </tr>\n",
       "    <tr>\n",
       "      <th>4</th>\n",
       "      <td>CHEMBL112564</td>\n",
       "      <td>IC50</td>\n",
       "      <td>6.92</td>\n",
       "      <td>uM</td>\n",
       "      <td>5.16</td>\n",
       "    </tr>\n",
       "    <tr>\n",
       "      <th>5</th>\n",
       "      <td>CHEMBL321421</td>\n",
       "      <td>IC50</td>\n",
       "      <td>0.41</td>\n",
       "      <td>uM</td>\n",
       "      <td>6.39</td>\n",
       "    </tr>\n",
       "    <tr>\n",
       "      <th>6</th>\n",
       "      <td>CHEMBL388978</td>\n",
       "      <td>IC50</td>\n",
       "      <td>0.16</td>\n",
       "      <td>uM</td>\n",
       "      <td>6.80</td>\n",
       "    </tr>\n",
       "    <tr>\n",
       "      <th>8</th>\n",
       "      <td>CHEMBL115875</td>\n",
       "      <td>IC50</td>\n",
       "      <td>9.6</td>\n",
       "      <td>uM</td>\n",
       "      <td>5.02</td>\n",
       "    </tr>\n",
       "  </tbody>\n",
       "</table>\n",
       "</div>"
      ],
      "text/plain": [
       "  molecule_chembl_id  type value units pchembl_value\n",
       "0       CHEMBL322970  IC50  0.38    uM          6.42\n",
       "4       CHEMBL112564  IC50  6.92    uM          5.16\n",
       "5       CHEMBL321421  IC50  0.41    uM          6.39\n",
       "6       CHEMBL388978  IC50  0.16    uM          6.80\n",
       "8       CHEMBL115875  IC50   9.6    uM          5.02"
      ]
     },
     "execution_count": 34,
     "metadata": {},
     "output_type": "execute_result"
    }
   ],
   "source": [
    "df_bioact.head()"
   ]
  },
  {
   "cell_type": "markdown",
   "metadata": {},
   "source": [
    "Now that we have removed some rows we will reset the index so that it is continuous"
   ]
  },
  {
   "cell_type": "code",
   "execution_count": 35,
   "metadata": {},
   "outputs": [
    {
     "data": {
      "text/html": [
       "<div>\n",
       "<style scoped>\n",
       "    .dataframe tbody tr th:only-of-type {\n",
       "        vertical-align: middle;\n",
       "    }\n",
       "\n",
       "    .dataframe tbody tr th {\n",
       "        vertical-align: top;\n",
       "    }\n",
       "\n",
       "    .dataframe thead th {\n",
       "        text-align: right;\n",
       "    }\n",
       "</style>\n",
       "<table border=\"1\" class=\"dataframe\">\n",
       "  <thead>\n",
       "    <tr style=\"text-align: right;\">\n",
       "      <th></th>\n",
       "      <th>molecule_chembl_id</th>\n",
       "      <th>type</th>\n",
       "      <th>value</th>\n",
       "      <th>units</th>\n",
       "      <th>pchembl_value</th>\n",
       "    </tr>\n",
       "  </thead>\n",
       "  <tbody>\n",
       "    <tr>\n",
       "      <th>0</th>\n",
       "      <td>CHEMBL322970</td>\n",
       "      <td>IC50</td>\n",
       "      <td>0.38</td>\n",
       "      <td>uM</td>\n",
       "      <td>6.42</td>\n",
       "    </tr>\n",
       "    <tr>\n",
       "      <th>1</th>\n",
       "      <td>CHEMBL112564</td>\n",
       "      <td>IC50</td>\n",
       "      <td>6.92</td>\n",
       "      <td>uM</td>\n",
       "      <td>5.16</td>\n",
       "    </tr>\n",
       "    <tr>\n",
       "      <th>2</th>\n",
       "      <td>CHEMBL321421</td>\n",
       "      <td>IC50</td>\n",
       "      <td>0.41</td>\n",
       "      <td>uM</td>\n",
       "      <td>6.39</td>\n",
       "    </tr>\n",
       "    <tr>\n",
       "      <th>3</th>\n",
       "      <td>CHEMBL388978</td>\n",
       "      <td>IC50</td>\n",
       "      <td>0.16</td>\n",
       "      <td>uM</td>\n",
       "      <td>6.80</td>\n",
       "    </tr>\n",
       "    <tr>\n",
       "      <th>4</th>\n",
       "      <td>CHEMBL115875</td>\n",
       "      <td>IC50</td>\n",
       "      <td>9.6</td>\n",
       "      <td>uM</td>\n",
       "      <td>5.02</td>\n",
       "    </tr>\n",
       "  </tbody>\n",
       "</table>\n",
       "</div>"
      ],
      "text/plain": [
       "  molecule_chembl_id  type value units pchembl_value\n",
       "0       CHEMBL322970  IC50  0.38    uM          6.42\n",
       "1       CHEMBL112564  IC50  6.92    uM          5.16\n",
       "2       CHEMBL321421  IC50  0.41    uM          6.39\n",
       "3       CHEMBL388978  IC50  0.16    uM          6.80\n",
       "4       CHEMBL115875  IC50   9.6    uM          5.02"
      ]
     },
     "execution_count": 35,
     "metadata": {},
     "output_type": "execute_result"
    }
   ],
   "source": [
    "df_bioact.reset_index(drop=True, inplace=True)\n",
    "df_bioact.head()"
   ]
  },
  {
   "cell_type": "markdown",
   "metadata": {},
   "source": [
    "### Organize the data\n",
    "Let's arrange the DataFrame from largest to smallest pchembl_value. Notice that the column values are not numeric"
   ]
  },
  {
   "cell_type": "code",
   "execution_count": 36,
   "metadata": {},
   "outputs": [
    {
     "name": "stdout",
     "output_type": "stream",
     "text": [
      "6.42 <class 'str'>\n"
     ]
    }
   ],
   "source": [
    "print(df_bioact['pchembl_value'][0],type(df_bioact['pchembl_value'][0]))"
   ]
  },
  {
   "cell_type": "markdown",
   "metadata": {},
   "source": [
    "Therefore, we must first convert them to type `float`."
   ]
  },
  {
   "cell_type": "code",
   "execution_count": 37,
   "metadata": {},
   "outputs": [
    {
     "name": "stdout",
     "output_type": "stream",
     "text": [
      "6.42 <class 'numpy.float64'>\n"
     ]
    }
   ],
   "source": [
    "df_bioact['pchembl_value'] = df_bioact['pchembl_value'].astype(float)\n",
    "print(df_bioact['pchembl_value'][0],type(df_bioact['pchembl_value'][0]))"
   ]
  },
  {
   "cell_type": "markdown",
   "metadata": {},
   "source": [
    "Now we proceed to organize the DataFrame"
   ]
  },
  {
   "cell_type": "code",
   "execution_count": 38,
   "metadata": {},
   "outputs": [
    {
     "data": {
      "text/html": [
       "<div>\n",
       "<style scoped>\n",
       "    .dataframe tbody tr th:only-of-type {\n",
       "        vertical-align: middle;\n",
       "    }\n",
       "\n",
       "    .dataframe tbody tr th {\n",
       "        vertical-align: top;\n",
       "    }\n",
       "\n",
       "    .dataframe thead th {\n",
       "        text-align: right;\n",
       "    }\n",
       "</style>\n",
       "<table border=\"1\" class=\"dataframe\">\n",
       "  <thead>\n",
       "    <tr style=\"text-align: right;\">\n",
       "      <th></th>\n",
       "      <th>molecule_chembl_id</th>\n",
       "      <th>type</th>\n",
       "      <th>value</th>\n",
       "      <th>units</th>\n",
       "      <th>pchembl_value</th>\n",
       "    </tr>\n",
       "  </thead>\n",
       "  <tbody>\n",
       "    <tr>\n",
       "      <th>0</th>\n",
       "      <td>CHEMBL2386094</td>\n",
       "      <td>IC50</td>\n",
       "      <td>0.013</td>\n",
       "      <td>nM</td>\n",
       "      <td>10.89</td>\n",
       "    </tr>\n",
       "    <tr>\n",
       "      <th>1</th>\n",
       "      <td>CHEMBL3895998</td>\n",
       "      <td>IC50</td>\n",
       "      <td>0.1</td>\n",
       "      <td>nM</td>\n",
       "      <td>10.00</td>\n",
       "    </tr>\n",
       "    <tr>\n",
       "      <th>2</th>\n",
       "      <td>CHEMBL4084855</td>\n",
       "      <td>IC50</td>\n",
       "      <td>0.1</td>\n",
       "      <td>nM</td>\n",
       "      <td>10.00</td>\n",
       "    </tr>\n",
       "    <tr>\n",
       "      <th>3</th>\n",
       "      <td>CHEMBL564450</td>\n",
       "      <td>IC50</td>\n",
       "      <td>0.00014</td>\n",
       "      <td>uM</td>\n",
       "      <td>9.85</td>\n",
       "    </tr>\n",
       "    <tr>\n",
       "      <th>4</th>\n",
       "      <td>CHEMBL4063206</td>\n",
       "      <td>IC50</td>\n",
       "      <td>0.2</td>\n",
       "      <td>nM</td>\n",
       "      <td>9.70</td>\n",
       "    </tr>\n",
       "  </tbody>\n",
       "</table>\n",
       "</div>"
      ],
      "text/plain": [
       "  molecule_chembl_id  type    value units  pchembl_value\n",
       "0      CHEMBL2386094  IC50    0.013    nM          10.89\n",
       "1      CHEMBL3895998  IC50      0.1    nM          10.00\n",
       "2      CHEMBL4084855  IC50      0.1    nM          10.00\n",
       "3       CHEMBL564450  IC50  0.00014    uM           9.85\n",
       "4      CHEMBL4063206  IC50      0.2    nM           9.70"
      ]
     },
     "execution_count": 38,
     "metadata": {},
     "output_type": "execute_result"
    }
   ],
   "source": [
    "# Arrange from highest to lowest pchembl_value\n",
    "df_bioact.sort_values(by=\"pchembl_value\", ascending=False, inplace=True)\n",
    "# reset the index\n",
    "df_bioact.reset_index(drop=True, inplace=True)\n",
    "# We print the first data\n",
    "df_bioact.head()"
   ]
  },
  {
   "cell_type": "markdown",
   "metadata": {},
   "source": [
    "### Save and load the data\n",
    "To continue using the Data Frame in practice without always having to connect to ChEMBL, we are going to save the obtained Data Frame as a file separated by commas (data/composites_uniprot_id.csv)"
   ]
  },
  {
   "cell_type": "code",
   "execution_count": 39,
   "metadata": {},
   "outputs": [],
   "source": [
    "df_bioact.to_csv(f\"./data/compounds_{uniprot_id}.csv\", index=0)"
   ]
  },
  {
   "cell_type": "markdown",
   "metadata": {},
   "source": [
    "From now on, if we want to use the Dataframe, we can load the saved file"
   ]
  },
  {
   "cell_type": "code",
   "execution_count": 40,
   "metadata": {},
   "outputs": [
    {
     "data": {
      "text/html": [
       "<div>\n",
       "<style scoped>\n",
       "    .dataframe tbody tr th:only-of-type {\n",
       "        vertical-align: middle;\n",
       "    }\n",
       "\n",
       "    .dataframe tbody tr th {\n",
       "        vertical-align: top;\n",
       "    }\n",
       "\n",
       "    .dataframe thead th {\n",
       "        text-align: right;\n",
       "    }\n",
       "</style>\n",
       "<table border=\"1\" class=\"dataframe\">\n",
       "  <thead>\n",
       "    <tr style=\"text-align: right;\">\n",
       "      <th></th>\n",
       "      <th>molecule_chembl_id</th>\n",
       "      <th>type</th>\n",
       "      <th>value</th>\n",
       "      <th>units</th>\n",
       "      <th>pchembl_value</th>\n",
       "    </tr>\n",
       "  </thead>\n",
       "  <tbody>\n",
       "    <tr>\n",
       "      <th>0</th>\n",
       "      <td>CHEMBL2386094</td>\n",
       "      <td>IC50</td>\n",
       "      <td>0.01300</td>\n",
       "      <td>nM</td>\n",
       "      <td>10.89</td>\n",
       "    </tr>\n",
       "    <tr>\n",
       "      <th>1</th>\n",
       "      <td>CHEMBL3895998</td>\n",
       "      <td>IC50</td>\n",
       "      <td>0.10000</td>\n",
       "      <td>nM</td>\n",
       "      <td>10.00</td>\n",
       "    </tr>\n",
       "    <tr>\n",
       "      <th>2</th>\n",
       "      <td>CHEMBL4084855</td>\n",
       "      <td>IC50</td>\n",
       "      <td>0.10000</td>\n",
       "      <td>nM</td>\n",
       "      <td>10.00</td>\n",
       "    </tr>\n",
       "    <tr>\n",
       "      <th>3</th>\n",
       "      <td>CHEMBL564450</td>\n",
       "      <td>IC50</td>\n",
       "      <td>0.00014</td>\n",
       "      <td>uM</td>\n",
       "      <td>9.85</td>\n",
       "    </tr>\n",
       "    <tr>\n",
       "      <th>4</th>\n",
       "      <td>CHEMBL4063206</td>\n",
       "      <td>IC50</td>\n",
       "      <td>0.20000</td>\n",
       "      <td>nM</td>\n",
       "      <td>9.70</td>\n",
       "    </tr>\n",
       "  </tbody>\n",
       "</table>\n",
       "</div>"
      ],
      "text/plain": [
       "  molecule_chembl_id  type    value units  pchembl_value\n",
       "0      CHEMBL2386094  IC50  0.01300    nM          10.89\n",
       "1      CHEMBL3895998  IC50  0.10000    nM          10.00\n",
       "2      CHEMBL4084855  IC50  0.10000    nM          10.00\n",
       "3       CHEMBL564450  IC50  0.00014    uM           9.85\n",
       "4      CHEMBL4063206  IC50  0.20000    nM           9.70"
      ]
     },
     "execution_count": 40,
     "metadata": {},
     "output_type": "execute_result"
    }
   ],
   "source": [
    "df_bioact = pd.read_csv(f\"data/compounds_{uniprot_id}.csv\")\n",
    "df_bioact.head()"
   ]
  },
  {
   "cell_type": "markdown",
   "metadata": {},
   "source": [
    "## Compound data\n",
    "\n",
    "Next we are going to obtain the data of the molecules that are stored within each molecule_chembl_id"
   ]
  },
  {
   "cell_type": "code",
   "execution_count": 41,
   "metadata": {},
   "outputs": [],
   "source": [
    "# Load the previously saved file\n",
    "df_bioact = pd.read_csv(f\"data/compounds_{uniprot_id}.csv\")"
   ]
  },
  {
   "cell_type": "code",
   "execution_count": 42,
   "metadata": {},
   "outputs": [],
   "source": [
    "# First we need to get the list of compounds that we define as bioactive\n",
    "list_comp_id = list(df_bioact['molecule_chembl_id'])\n",
    "# Get the structure of each compound\n",
    "compounds_list = compounds.filter(molecule_chembl_id__in = list_comp_id) \\\n",
    "                             .only('molecule_chembl_id','molecule_structures')"
   ]
  },
  {
   "cell_type": "code",
   "execution_count": 43,
   "metadata": {},
   "outputs": [
    {
     "name": "stdout",
     "output_type": "stream",
     "text": [
      "Total of compounds is: 2658\n"
     ]
    },
    {
     "data": {
      "text/html": [
       "<div>\n",
       "<style scoped>\n",
       "    .dataframe tbody tr th:only-of-type {\n",
       "        vertical-align: middle;\n",
       "    }\n",
       "\n",
       "    .dataframe tbody tr th {\n",
       "        vertical-align: top;\n",
       "    }\n",
       "\n",
       "    .dataframe thead th {\n",
       "        text-align: right;\n",
       "    }\n",
       "</style>\n",
       "<table border=\"1\" class=\"dataframe\">\n",
       "  <thead>\n",
       "    <tr style=\"text-align: right;\">\n",
       "      <th></th>\n",
       "      <th>molecule_chembl_id</th>\n",
       "      <th>molecule_structures</th>\n",
       "    </tr>\n",
       "  </thead>\n",
       "  <tbody>\n",
       "    <tr>\n",
       "      <th>0</th>\n",
       "      <td>CHEMBL6246</td>\n",
       "      <td>{'canonical_smiles': 'O=c1oc2c(O)c(O)cc3c(=O)o...</td>\n",
       "    </tr>\n",
       "    <tr>\n",
       "      <th>1</th>\n",
       "      <td>CHEMBL6291</td>\n",
       "      <td>{'canonical_smiles': 'Cn1cc(C2=C(c3cn(CCCSC(=N...</td>\n",
       "    </tr>\n",
       "    <tr>\n",
       "      <th>2</th>\n",
       "      <td>CHEMBL269538</td>\n",
       "      <td>{'canonical_smiles': 'COc1ccc2c(c1)[nH]c1c(C)n...</td>\n",
       "    </tr>\n",
       "    <tr>\n",
       "      <th>3</th>\n",
       "      <td>CHEMBL28</td>\n",
       "      <td>{'canonical_smiles': 'O=c1cc(-c2ccc(O)cc2)oc2c...</td>\n",
       "    </tr>\n",
       "    <tr>\n",
       "      <th>4</th>\n",
       "      <td>CHEMBL7463</td>\n",
       "      <td>{'canonical_smiles': 'CN(C)CCCn1cc(C2=C(c3c[nH...</td>\n",
       "    </tr>\n",
       "  </tbody>\n",
       "</table>\n",
       "</div>"
      ],
      "text/plain": [
       "  molecule_chembl_id                                molecule_structures\n",
       "0         CHEMBL6246  {'canonical_smiles': 'O=c1oc2c(O)c(O)cc3c(=O)o...\n",
       "1         CHEMBL6291  {'canonical_smiles': 'Cn1cc(C2=C(c3cn(CCCSC(=N...\n",
       "2       CHEMBL269538  {'canonical_smiles': 'COc1ccc2c(c1)[nH]c1c(C)n...\n",
       "3           CHEMBL28  {'canonical_smiles': 'O=c1cc(-c2ccc(O)cc2)oc2c...\n",
       "4         CHEMBL7463  {'canonical_smiles': 'CN(C)CCCn1cc(C2=C(c3c[nH..."
      ]
     },
     "execution_count": 43,
     "metadata": {},
     "output_type": "execute_result"
    }
   ],
   "source": [
    "# We must convert the obtained list into a dataframe. This may take a few minutes\n",
    "df_comp = pd.DataFrame(compounds_list)\n",
    "# remove duplicates\n",
    "df_comp = df_comp.drop_duplicates('molecule_chembl_id', keep = 'first')\n",
    "# print(f'The total number of compounds is: ' + str(len(dataframe_comp)))\n",
    "print(f'Total of compounds is: {str(len(df_comp))}')\n",
    "df_comp.head()"
   ]
  },
  {
   "cell_type": "markdown",
   "metadata": {},
   "source": [
    "Compounds have different types of representations such as the SMILES, the InChI and the InChI Key. We are only interested in staying with the SMILES since it describes the chemical structure."
   ]
  },
  {
   "cell_type": "code",
   "execution_count": 44,
   "metadata": {},
   "outputs": [
    {
     "data": {
      "text/html": [
       "<div>\n",
       "<style scoped>\n",
       "    .dataframe tbody tr th:only-of-type {\n",
       "        vertical-align: middle;\n",
       "    }\n",
       "\n",
       "    .dataframe tbody tr th {\n",
       "        vertical-align: top;\n",
       "    }\n",
       "\n",
       "    .dataframe thead th {\n",
       "        text-align: right;\n",
       "    }\n",
       "</style>\n",
       "<table border=\"1\" class=\"dataframe\">\n",
       "  <thead>\n",
       "    <tr style=\"text-align: right;\">\n",
       "      <th></th>\n",
       "      <th>molecule_chembl_id</th>\n",
       "      <th>molecule_structures</th>\n",
       "    </tr>\n",
       "  </thead>\n",
       "  <tbody>\n",
       "    <tr>\n",
       "      <th>0</th>\n",
       "      <td>CHEMBL6246</td>\n",
       "      <td>O=c1oc2c(O)c(O)cc3c(=O)oc4c(O)c(O)cc1c4c23</td>\n",
       "    </tr>\n",
       "    <tr>\n",
       "      <th>1</th>\n",
       "      <td>CHEMBL6291</td>\n",
       "      <td>Cn1cc(C2=C(c3cn(CCCSC(=N)N)c4ccccc34)C(=O)NC2=...</td>\n",
       "    </tr>\n",
       "    <tr>\n",
       "      <th>2</th>\n",
       "      <td>CHEMBL269538</td>\n",
       "      <td>COc1ccc2c(c1)[nH]c1c(C)nccc12</td>\n",
       "    </tr>\n",
       "    <tr>\n",
       "      <th>3</th>\n",
       "      <td>CHEMBL28</td>\n",
       "      <td>O=c1cc(-c2ccc(O)cc2)oc2cc(O)cc(O)c12</td>\n",
       "    </tr>\n",
       "    <tr>\n",
       "      <th>4</th>\n",
       "      <td>CHEMBL7463</td>\n",
       "      <td>CN(C)CCCn1cc(C2=C(c3c[nH]c4ccccc34)C(=O)NC2=O)...</td>\n",
       "    </tr>\n",
       "  </tbody>\n",
       "</table>\n",
       "</div>"
      ],
      "text/plain": [
       "  molecule_chembl_id                                molecule_structures\n",
       "0         CHEMBL6246         O=c1oc2c(O)c(O)cc3c(=O)oc4c(O)c(O)cc1c4c23\n",
       "1         CHEMBL6291  Cn1cc(C2=C(c3cn(CCCSC(=N)N)c4ccccc34)C(=O)NC2=...\n",
       "2       CHEMBL269538                      COc1ccc2c(c1)[nH]c1c(C)nccc12\n",
       "3           CHEMBL28               O=c1cc(-c2ccc(O)cc2)oc2cc(O)cc(O)c12\n",
       "4         CHEMBL7463  CN(C)CCCn1cc(C2=C(c3c[nH]c4ccccc34)C(=O)NC2=O)..."
      ]
     },
     "execution_count": 44,
     "metadata": {},
     "output_type": "execute_result"
    }
   ],
   "source": [
    "# We are going to use a for loop to iterate through each row (df_comp.iterrows())\n",
    "for i, cmpd in df_comp.iterrows():\n",
    "     if df_comp.loc[i]['molecule_structures'] is not None:\n",
    "         df_comp.loc[i]['molecule_structures'] = cmpd['molecule_structures']['canonical_smiles']\n",
    "\n",
    "df_comp.head()"
   ]
  },
  {
   "cell_type": "markdown",
   "metadata": {},
   "source": [
    "### Clear salts of smiles\n",
    "If we look closely at the *smiles* representation of each molecule, we can see that some have *salts* that need to be cleaned up.\n",
    "First we will filter the molecules that have salts, usually you can see it in the smileies because they have a dot in the text string:"
   ]
  },
  {
   "cell_type": "code",
   "execution_count": 45,
   "metadata": {},
   "outputs": [
    {
     "data": {
      "text/html": [
       "<div>\n",
       "<style scoped>\n",
       "    .dataframe tbody tr th:only-of-type {\n",
       "        vertical-align: middle;\n",
       "    }\n",
       "\n",
       "    .dataframe tbody tr th {\n",
       "        vertical-align: top;\n",
       "    }\n",
       "\n",
       "    .dataframe thead th {\n",
       "        text-align: right;\n",
       "    }\n",
       "</style>\n",
       "<table border=\"1\" class=\"dataframe\">\n",
       "  <thead>\n",
       "    <tr style=\"text-align: right;\">\n",
       "      <th></th>\n",
       "      <th>molecule_chembl_id</th>\n",
       "      <th>molecule_structures</th>\n",
       "    </tr>\n",
       "  </thead>\n",
       "  <tbody>\n",
       "    <tr>\n",
       "      <th>168</th>\n",
       "      <td>CHEMBL69710</td>\n",
       "      <td>[Cl-].[Li+]</td>\n",
       "    </tr>\n",
       "    <tr>\n",
       "      <th>711</th>\n",
       "      <td>CHEMBL492244</td>\n",
       "      <td>CN1CCN(CCO/N=C2C(=C3/C(=O)Nc4cc(Br)ccc43)/Nc3c...</td>\n",
       "    </tr>\n",
       "    <tr>\n",
       "      <th>824</th>\n",
       "      <td>CHEMBL558982</td>\n",
       "      <td>Br.c1ccc(/N=c2/nc(-c3ccccc3)n(-c3ccccc3)s2)cc1</td>\n",
       "    </tr>\n",
       "    <tr>\n",
       "      <th>1251</th>\n",
       "      <td>CHEMBL1801613</td>\n",
       "      <td>Cl.NCC(=O)c1ccc(Br)cc1</td>\n",
       "    </tr>\n",
       "    <tr>\n",
       "      <th>1367</th>\n",
       "      <td>CHEMBL2022412</td>\n",
       "      <td>Br.c1ccc(-c2n/c(=N\\Cc3cccnc3)sn2-c2cccc3ccccc2...</td>\n",
       "    </tr>\n",
       "    <tr>\n",
       "      <th>...</th>\n",
       "      <td>...</td>\n",
       "      <td>...</td>\n",
       "    </tr>\n",
       "    <tr>\n",
       "      <th>2088</th>\n",
       "      <td>CHEMBL4098458</td>\n",
       "      <td>COc1cc(F)cc(F)c1C1CN(c2nc(-c3ccncc3)cc(=O)n2C)...</td>\n",
       "    </tr>\n",
       "    <tr>\n",
       "      <th>2090</th>\n",
       "      <td>CHEMBL4099428</td>\n",
       "      <td>Cl.Cn1c(N2CCNC(c3ccc(Br)cc3)C2)nc(-c2ccncc2)cc1=O</td>\n",
       "    </tr>\n",
       "    <tr>\n",
       "      <th>2105</th>\n",
       "      <td>CHEMBL4103742</td>\n",
       "      <td>Cl.Cn1c(N2CCNC(c3ccccc3)C2)nc(-c2ccncc2)cc1=O</td>\n",
       "    </tr>\n",
       "    <tr>\n",
       "      <th>2111</th>\n",
       "      <td>CHEMBL4105346</td>\n",
       "      <td>Cl.Cn1c(N2CCN[C@@H](c3ccc(Cl)cc3)C2)nc(-c2ccnc...</td>\n",
       "    </tr>\n",
       "    <tr>\n",
       "      <th>2498</th>\n",
       "      <td>CHEMBL4763626</td>\n",
       "      <td>Cl.NCCO/N=C1C(=C2/C(=O)Nc3ccc([N+](=O)[O-])cc3...</td>\n",
       "    </tr>\n",
       "  </tbody>\n",
       "</table>\n",
       "<p>67 rows × 2 columns</p>\n",
       "</div>"
      ],
      "text/plain": [
       "     molecule_chembl_id                                molecule_structures\n",
       "168         CHEMBL69710                                        [Cl-].[Li+]\n",
       "711        CHEMBL492244  CN1CCN(CCO/N=C2C(=C3/C(=O)Nc4cc(Br)ccc43)/Nc3c...\n",
       "824        CHEMBL558982     Br.c1ccc(/N=c2/nc(-c3ccccc3)n(-c3ccccc3)s2)cc1\n",
       "1251      CHEMBL1801613                             Cl.NCC(=O)c1ccc(Br)cc1\n",
       "1367      CHEMBL2022412  Br.c1ccc(-c2n/c(=N\\Cc3cccnc3)sn2-c2cccc3ccccc2...\n",
       "...                 ...                                                ...\n",
       "2088      CHEMBL4098458  COc1cc(F)cc(F)c1C1CN(c2nc(-c3ccncc3)cc(=O)n2C)...\n",
       "2090      CHEMBL4099428  Cl.Cn1c(N2CCNC(c3ccc(Br)cc3)C2)nc(-c2ccncc2)cc1=O\n",
       "2105      CHEMBL4103742      Cl.Cn1c(N2CCNC(c3ccccc3)C2)nc(-c2ccncc2)cc1=O\n",
       "2111      CHEMBL4105346  Cl.Cn1c(N2CCN[C@@H](c3ccc(Cl)cc3)C2)nc(-c2ccnc...\n",
       "2498      CHEMBL4763626  Cl.NCCO/N=C1C(=C2/C(=O)Nc3ccc([N+](=O)[O-])cc3...\n",
       "\n",
       "[67 rows x 2 columns]"
      ]
     },
     "execution_count": 45,
     "metadata": {},
     "output_type": "execute_result"
    }
   ],
   "source": [
    "df_comp[df_comp.molecule_structures.str.contains(\"\\.\")]"
   ]
  },
  {
   "cell_type": "markdown",
   "metadata": {},
   "source": [
    "That is, of the 2658 initial compounds, 67 have salts that must be cleaned. We can use a `rdkit` module to clean up salts called `rdkit.Chem.SaltRemover`.\n",
    "Suppose we want to remove the salt from the smile \"CN1CCN(CCO/N=C2C(=C3/C(=O)Nc4cc(Br)ccc43)/Nc3ccccc3/2)CC1.Cl\", the following can be done:"
   ]
  },
  {
   "cell_type": "code",
   "execution_count": 46,
   "metadata": {},
   "outputs": [
    {
     "data": {
      "text/plain": [
       "'CCCCCc1n/c(=N\\\\Cc2cccnc2)sn1-c1ccccc1'"
      ]
     },
     "execution_count": 46,
     "metadata": {},
     "output_type": "execute_result"
    }
   ],
   "source": [
    "# libraries\n",
    "from rdkit.Chem.SaltRemover import SaltRemover\n",
    "from rdkit.Chem import MolFromSmiles, MolToSmiles\n",
    "\n",
    "# The module to remove salts is loaded\n",
    "remover = SaltRemover()\n",
    "# convert the smiley to a mol object\n",
    "mol = MolFromSmiles('Br.CCCCCc1n/c(=N\\Cc2cccnc2)sn1-c1ccccc1')\n",
    "# remove salts (res=molecule, deleted=deleted fragment) smile to a mol object\n",
    "res, deleted = remover.StripMolWithDeleted(mol)\n",
    "# convert the mol object to smiles again and remove whitespace\n",
    "MolToSmiles(res).strip()"
   ]
  },
  {
   "cell_type": "markdown",
   "metadata": {},
   "source": [
    "Now we are going to create a function that does this process to pass it through the `df_comp` dataframe"
   ]
  },
  {
   "cell_type": "code",
   "execution_count": 47,
   "metadata": {},
   "outputs": [],
   "source": [
    "def remover_salts(smile):\n",
    "    remover = SaltRemover()\n",
    "    mol = MolFromSmiles(smile)\n",
    "    res, deleted = remover.StripMolWithDeleted(mol)\n",
    "    return MolToSmiles(res)"
   ]
  },
  {
   "cell_type": "markdown",
   "metadata": {},
   "source": [
    "We apply the function to the smiles column"
   ]
  },
  {
   "cell_type": "code",
   "execution_count": 48,
   "metadata": {},
   "outputs": [],
   "source": [
    "df_comp['molecule_structures'] = df_comp['molecule_structures'].apply(remover_salts)\n",
    "# Remove whitespace around the edges of each string in the \"molecule_structures\" column\n",
    "df_comp[\"molecule_structures\"] = df_comp[\"molecule_structures\"].str.strip()"
   ]
  },
  {
   "cell_type": "markdown",
   "metadata": {},
   "source": [
    "We look again for smiles that have salts to verify that the cleaning was successful"
   ]
  },
  {
   "cell_type": "code",
   "execution_count": 49,
   "metadata": {},
   "outputs": [
    {
     "data": {
      "text/html": [
       "<div>\n",
       "<style scoped>\n",
       "    .dataframe tbody tr th:only-of-type {\n",
       "        vertical-align: middle;\n",
       "    }\n",
       "\n",
       "    .dataframe tbody tr th {\n",
       "        vertical-align: top;\n",
       "    }\n",
       "\n",
       "    .dataframe thead th {\n",
       "        text-align: right;\n",
       "    }\n",
       "</style>\n",
       "<table border=\"1\" class=\"dataframe\">\n",
       "  <thead>\n",
       "    <tr style=\"text-align: right;\">\n",
       "      <th></th>\n",
       "      <th>molecule_chembl_id</th>\n",
       "      <th>molecule_structures</th>\n",
       "    </tr>\n",
       "  </thead>\n",
       "  <tbody>\n",
       "  </tbody>\n",
       "</table>\n",
       "</div>"
      ],
      "text/plain": [
       "Empty DataFrame\n",
       "Columns: [molecule_chembl_id, molecule_structures]\n",
       "Index: []"
      ]
     },
     "execution_count": 49,
     "metadata": {},
     "output_type": "execute_result"
    }
   ],
   "source": [
    "df_comp[df_comp.molecule_structures.str.contains(\"\\.\")]"
   ]
  },
  {
   "cell_type": "markdown",
   "metadata": {},
   "source": [
    "We already cleaned the salts from the molecules, now we must remove the molecules with empty data. For example, cleaning the molecule \"[Cl-].[Li+]\" removes the two salts and leaves the output empty `('')`. To remove these fields we can use `dropna` and filter for those that are not empty."
   ]
  },
  {
   "cell_type": "code",
   "execution_count": 50,
   "metadata": {},
   "outputs": [],
   "source": [
    "df_comp.dropna(subset=[\"molecule_structures\"], inplace=True)\n",
    "df_comp = df_comp[df_comp['molecule_structures'] != '']"
   ]
  },
  {
   "cell_type": "markdown",
   "metadata": {},
   "source": [
    "And we already have the set of clean molecules."
   ]
  },
  {
   "cell_type": "markdown",
   "metadata": {},
   "source": [
    "## Merge the Dataframes\n",
    "\n",
    "Now we have two dataframes that we are going to combine to have all the data in a single dataframe and be able to save it."
   ]
  },
  {
   "cell_type": "code",
   "execution_count": 51,
   "metadata": {},
   "outputs": [
    {
     "name": "stdout",
     "output_type": "stream",
     "text": [
      "Total of compounds is: 2657\n"
     ]
    },
    {
     "data": {
      "text/html": [
       "<div>\n",
       "<style scoped>\n",
       "    .dataframe tbody tr th:only-of-type {\n",
       "        vertical-align: middle;\n",
       "    }\n",
       "\n",
       "    .dataframe tbody tr th {\n",
       "        vertical-align: top;\n",
       "    }\n",
       "\n",
       "    .dataframe thead th {\n",
       "        text-align: right;\n",
       "    }\n",
       "</style>\n",
       "<table border=\"1\" class=\"dataframe\">\n",
       "  <thead>\n",
       "    <tr style=\"text-align: right;\">\n",
       "      <th></th>\n",
       "      <th>molecule_chembl_id</th>\n",
       "      <th>pchembl_value</th>\n",
       "      <th>molecule_structures</th>\n",
       "    </tr>\n",
       "  </thead>\n",
       "  <tbody>\n",
       "    <tr>\n",
       "      <th>0</th>\n",
       "      <td>CHEMBL2386094</td>\n",
       "      <td>10.89</td>\n",
       "      <td>O=C1NC(=O)C(c2cn3c4c(cc(F)cc24)CN(C(=O)N2CCOCC...</td>\n",
       "    </tr>\n",
       "    <tr>\n",
       "      <th>1</th>\n",
       "      <td>CHEMBL3895998</td>\n",
       "      <td>10.00</td>\n",
       "      <td>Nc1ncc(-c2ccccc2F)nc1C(=O)Nc1cnccc1N1CCC(N)CC1</td>\n",
       "    </tr>\n",
       "    <tr>\n",
       "      <th>2</th>\n",
       "      <td>CHEMBL4084855</td>\n",
       "      <td>10.00</td>\n",
       "      <td>COc1ccc(N2CCN(c3nc(-c4ccncn4)cc(=O)n3C)[C@H](C...</td>\n",
       "    </tr>\n",
       "    <tr>\n",
       "      <th>3</th>\n",
       "      <td>CHEMBL564450</td>\n",
       "      <td>9.85</td>\n",
       "      <td>COc1cc(C2=C(c3cn(CCN4CCN(C)CC4)c4ccccc34)C(=O)...</td>\n",
       "    </tr>\n",
       "    <tr>\n",
       "      <th>4</th>\n",
       "      <td>CHEMBL4063206</td>\n",
       "      <td>9.70</td>\n",
       "      <td>COc1cccc(N2CCN(c3nc(-c4ccncn4)cc(=O)n3C)[C@H](...</td>\n",
       "    </tr>\n",
       "  </tbody>\n",
       "</table>\n",
       "</div>"
      ],
      "text/plain": [
       "  molecule_chembl_id  pchembl_value  \\\n",
       "0      CHEMBL2386094          10.89   \n",
       "1      CHEMBL3895998          10.00   \n",
       "2      CHEMBL4084855          10.00   \n",
       "3       CHEMBL564450           9.85   \n",
       "4      CHEMBL4063206           9.70   \n",
       "\n",
       "                                 molecule_structures  \n",
       "0  O=C1NC(=O)C(c2cn3c4c(cc(F)cc24)CN(C(=O)N2CCOCC...  \n",
       "1     Nc1ncc(-c2ccccc2F)nc1C(=O)Nc1cnccc1N1CCC(N)CC1  \n",
       "2  COc1ccc(N2CCN(c3nc(-c4ccncn4)cc(=O)n3C)[C@H](C...  \n",
       "3  COc1cc(C2=C(c3cn(CCN4CCN(C)CC4)c4ccccc34)C(=O)...  \n",
       "4  COc1cccc(N2CCN(c3nc(-c4ccncn4)cc(=O)n3C)[C@H](...  "
      ]
     },
     "execution_count": 51,
     "metadata": {},
     "output_type": "execute_result"
    }
   ],
   "source": [
    "# In the Bioactivity Dataframe, only two columns are filtered\n",
    "df_output = pd.merge(df_bioact[['molecule_chembl_id','pchembl_value']], df_comp, on='molecule_chembl_id')\n",
    "print(f'Total of compounds is: {str(len(df_output))}')\n",
    "df_output.head()"
   ]
  },
  {
   "cell_type": "markdown",
   "metadata": {},
   "source": [
    "Columns can be renamed"
   ]
  },
  {
   "cell_type": "code",
   "execution_count": 52,
   "metadata": {},
   "outputs": [
    {
     "name": "stdout",
     "output_type": "stream",
     "text": [
      "Total of compounds is: 2657\n"
     ]
    },
    {
     "data": {
      "text/html": [
       "<div>\n",
       "<style scoped>\n",
       "    .dataframe tbody tr th:only-of-type {\n",
       "        vertical-align: middle;\n",
       "    }\n",
       "\n",
       "    .dataframe tbody tr th {\n",
       "        vertical-align: top;\n",
       "    }\n",
       "\n",
       "    .dataframe thead th {\n",
       "        text-align: right;\n",
       "    }\n",
       "</style>\n",
       "<table border=\"1\" class=\"dataframe\">\n",
       "  <thead>\n",
       "    <tr style=\"text-align: right;\">\n",
       "      <th></th>\n",
       "      <th>molecule_chembl_id</th>\n",
       "      <th>pIC50</th>\n",
       "      <th>smiles</th>\n",
       "    </tr>\n",
       "  </thead>\n",
       "  <tbody>\n",
       "    <tr>\n",
       "      <th>0</th>\n",
       "      <td>CHEMBL2386094</td>\n",
       "      <td>10.89</td>\n",
       "      <td>O=C1NC(=O)C(c2cn3c4c(cc(F)cc24)CN(C(=O)N2CCOCC...</td>\n",
       "    </tr>\n",
       "    <tr>\n",
       "      <th>1</th>\n",
       "      <td>CHEMBL3895998</td>\n",
       "      <td>10.00</td>\n",
       "      <td>Nc1ncc(-c2ccccc2F)nc1C(=O)Nc1cnccc1N1CCC(N)CC1</td>\n",
       "    </tr>\n",
       "    <tr>\n",
       "      <th>2</th>\n",
       "      <td>CHEMBL4084855</td>\n",
       "      <td>10.00</td>\n",
       "      <td>COc1ccc(N2CCN(c3nc(-c4ccncn4)cc(=O)n3C)[C@H](C...</td>\n",
       "    </tr>\n",
       "    <tr>\n",
       "      <th>3</th>\n",
       "      <td>CHEMBL564450</td>\n",
       "      <td>9.85</td>\n",
       "      <td>COc1cc(C2=C(c3cn(CCN4CCN(C)CC4)c4ccccc34)C(=O)...</td>\n",
       "    </tr>\n",
       "    <tr>\n",
       "      <th>4</th>\n",
       "      <td>CHEMBL4063206</td>\n",
       "      <td>9.70</td>\n",
       "      <td>COc1cccc(N2CCN(c3nc(-c4ccncn4)cc(=O)n3C)[C@H](...</td>\n",
       "    </tr>\n",
       "  </tbody>\n",
       "</table>\n",
       "</div>"
      ],
      "text/plain": [
       "  molecule_chembl_id  pIC50                                             smiles\n",
       "0      CHEMBL2386094  10.89  O=C1NC(=O)C(c2cn3c4c(cc(F)cc24)CN(C(=O)N2CCOCC...\n",
       "1      CHEMBL3895998  10.00     Nc1ncc(-c2ccccc2F)nc1C(=O)Nc1cnccc1N1CCC(N)CC1\n",
       "2      CHEMBL4084855  10.00  COc1ccc(N2CCN(c3nc(-c4ccncn4)cc(=O)n3C)[C@H](C...\n",
       "3       CHEMBL564450   9.85  COc1cc(C2=C(c3cn(CCN4CCN(C)CC4)c4ccccc34)C(=O)...\n",
       "4      CHEMBL4063206   9.70  COc1cccc(N2CCN(c3nc(-c4ccncn4)cc(=O)n3C)[C@H](..."
      ]
     },
     "execution_count": 52,
     "metadata": {},
     "output_type": "execute_result"
    }
   ],
   "source": [
    "df_output = df_output.rename(columns= {'molecule_structures':'smiles', 'pchembl_value':'pIC50'})\n",
    "print(f'Total of compounds is: {str(len(df_output))}')\n",
    "df_output.head()"
   ]
  },
  {
   "cell_type": "markdown",
   "metadata": {},
   "source": [
    "In order to use the following rdkit function, it is necessary that all the compounds have SMILES, for this reason we eliminate the compounds without SMILES in the dataframe"
   ]
  },
  {
   "cell_type": "code",
   "execution_count": 53,
   "metadata": {},
   "outputs": [
    {
     "name": "stdout",
     "output_type": "stream",
     "text": [
      "Total of compounds is: 2657\n"
     ]
    },
    {
     "data": {
      "text/html": [
       "<div>\n",
       "<style scoped>\n",
       "    .dataframe tbody tr th:only-of-type {\n",
       "        vertical-align: middle;\n",
       "    }\n",
       "\n",
       "    .dataframe tbody tr th {\n",
       "        vertical-align: top;\n",
       "    }\n",
       "\n",
       "    .dataframe thead th {\n",
       "        text-align: right;\n",
       "    }\n",
       "</style>\n",
       "<table border=\"1\" class=\"dataframe\">\n",
       "  <thead>\n",
       "    <tr style=\"text-align: right;\">\n",
       "      <th></th>\n",
       "      <th>molecule_chembl_id</th>\n",
       "      <th>pIC50</th>\n",
       "      <th>smiles</th>\n",
       "    </tr>\n",
       "  </thead>\n",
       "  <tbody>\n",
       "    <tr>\n",
       "      <th>0</th>\n",
       "      <td>CHEMBL2386094</td>\n",
       "      <td>10.89</td>\n",
       "      <td>O=C1NC(=O)C(c2cn3c4c(cc(F)cc24)CN(C(=O)N2CCOCC...</td>\n",
       "    </tr>\n",
       "    <tr>\n",
       "      <th>1</th>\n",
       "      <td>CHEMBL3895998</td>\n",
       "      <td>10.00</td>\n",
       "      <td>Nc1ncc(-c2ccccc2F)nc1C(=O)Nc1cnccc1N1CCC(N)CC1</td>\n",
       "    </tr>\n",
       "    <tr>\n",
       "      <th>2</th>\n",
       "      <td>CHEMBL4084855</td>\n",
       "      <td>10.00</td>\n",
       "      <td>COc1ccc(N2CCN(c3nc(-c4ccncn4)cc(=O)n3C)[C@H](C...</td>\n",
       "    </tr>\n",
       "    <tr>\n",
       "      <th>3</th>\n",
       "      <td>CHEMBL564450</td>\n",
       "      <td>9.85</td>\n",
       "      <td>COc1cc(C2=C(c3cn(CCN4CCN(C)CC4)c4ccccc34)C(=O)...</td>\n",
       "    </tr>\n",
       "    <tr>\n",
       "      <th>4</th>\n",
       "      <td>CHEMBL4063206</td>\n",
       "      <td>9.70</td>\n",
       "      <td>COc1cccc(N2CCN(c3nc(-c4ccncn4)cc(=O)n3C)[C@H](...</td>\n",
       "    </tr>\n",
       "  </tbody>\n",
       "</table>\n",
       "</div>"
      ],
      "text/plain": [
       "  molecule_chembl_id  pIC50                                             smiles\n",
       "0      CHEMBL2386094  10.89  O=C1NC(=O)C(c2cn3c4c(cc(F)cc24)CN(C(=O)N2CCOCC...\n",
       "1      CHEMBL3895998  10.00     Nc1ncc(-c2ccccc2F)nc1C(=O)Nc1cnccc1N1CCC(N)CC1\n",
       "2      CHEMBL4084855  10.00  COc1ccc(N2CCN(c3nc(-c4ccncn4)cc(=O)n3C)[C@H](C...\n",
       "3       CHEMBL564450   9.85  COc1cc(C2=C(c3cn(CCN4CCN(C)CC4)c4ccccc34)C(=O)...\n",
       "4      CHEMBL4063206   9.70  COc1cccc(N2CCN(c3nc(-c4ccncn4)cc(=O)n3C)[C@H](..."
      ]
     },
     "execution_count": 53,
     "metadata": {},
     "output_type": "execute_result"
    }
   ],
   "source": [
    "df_output = df_output[~df_output['smiles'].isnull()]\n",
    "print(f'Total of compounds is: {str(len(df_output))}')\n",
    "df_output.head()"
   ]
  },
  {
   "cell_type": "markdown",
   "metadata": {},
   "source": [
    "## Draw the molecule\n",
    "\n",
    "Let's add a new column to the dataframe with the `.AddMoleculeColumnToFrame` function which converts the molecules contained in \"smilesCol\" into RDKit molecules and adds them to the dataframe"
   ]
  },
  {
   "cell_type": "code",
   "execution_count": 54,
   "metadata": {},
   "outputs": [
    {
     "data": {
      "text/html": [
       "<div>\n",
       "<style scoped>\n",
       "    .dataframe tbody tr th:only-of-type {\n",
       "        vertical-align: middle;\n",
       "    }\n",
       "\n",
       "    .dataframe tbody tr th {\n",
       "        vertical-align: top;\n",
       "    }\n",
       "\n",
       "    .dataframe thead th {\n",
       "        text-align: right;\n",
       "    }\n",
       "</style>\n",
       "<table border=\"1\" class=\"dataframe\">\n",
       "  <thead>\n",
       "    <tr style=\"text-align: right;\">\n",
       "      <th></th>\n",
       "      <th>molecule_chembl_id</th>\n",
       "      <th>pIC50</th>\n",
       "      <th>smiles</th>\n",
       "      <th>ROMol</th>\n",
       "    </tr>\n",
       "  </thead>\n",
       "  <tbody>\n",
       "    <tr>\n",
       "      <th>0</th>\n",
       "      <td>CHEMBL2386094</td>\n",
       "      <td>10.89</td>\n",
       "      <td>O=C1NC(=O)C(c2cn3c4c(cc(F)cc24)CN(C(=O)N2CCOCC...</td>\n",
       "      <td><img data-content=\"rdkit/molecule\" src=\"data:image/png;base64,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\" alt=\"Mol\"/></td>\n",
       "    </tr>\n",
       "    <tr>\n",
       "      <th>1</th>\n",
       "      <td>CHEMBL3895998</td>\n",
       "      <td>10.00</td>\n",
       "      <td>Nc1ncc(-c2ccccc2F)nc1C(=O)Nc1cnccc1N1CCC(N)CC1</td>\n",
       "      <td><img data-content=\"rdkit/molecule\" src=\"data:image/png;base64,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\" alt=\"Mol\"/></td>\n",
       "    </tr>\n",
       "    <tr>\n",
       "      <th>2</th>\n",
       "      <td>CHEMBL4084855</td>\n",
       "      <td>10.00</td>\n",
       "      <td>COc1ccc(N2CCN(c3nc(-c4ccncn4)cc(=O)n3C)[C@H](C...</td>\n",
       "      <td><img data-content=\"rdkit/molecule\" src=\"data:image/png;base64,iVBORw0KGgoAAAANSUhEUgAAAMgAAADICAIAAAAiOjnJAAAABmJLR0QA/wD/AP+gvaeTAAAYaklEQVR4nO2daVhT19aAVxIGwUAdcEDhaUGpAwoqCrFQsSpqKb2CQh2x1oHHiqVqKaKt17FVccI+aqu1DnCvVYuKSHG+CqiACBXMV1ScmUSlDDLIkKzvx8GIipCcnG1Q1vv4I6XZ6+wTXvbZw9o7IkQEghAasa4rQLydkFgEE0gsggkkFsEEEotgAolFMIHEIphAYhFMILEIJpBYBBNILIIJJBbBBBKLYAKJRTCBxCKYQGIRTCCxCCaQWAQTSCyCCSQWwQQSi2ACiUUwgcQimEBiEUwgsQgmkFgEE0gsggkkFsEEEotgAolFMIHEIphAYhFMILEIJpBYBBNILIIJJBbBBBKLYAKJRTCBxCKYQGIRTCCxCCaQWAQTSCyCCSQWwQQSi2ACiUUwgcQimEBiEUwgsQgmkFgEE0gsggkkFsEEEotgAolFMIHEIphAYhFMILEIJpBYbwvJyXDuHCgUuq5HLSTWW8GiRXD9OhQUwFdf6boqtZBYbwVZWTBxIowaBWIxlJToujYAJNZbAuKzF+Im8TvV03UFCO2oqQE9PejSBXbtAqkU9PVBKtV1nQCoxXrj2bABuneH7t3B1hYsLWHDBl1XqBYS6w3n4EG4dg309CA2Fnx84D//0XWFaqFH4ZtMbi4kJYGREYwYAW5ukJUFLVvquk61UIv1JhMZCYgwciQ8fvzMsKYBifX6UCgUs2bNio6OFizioUMAAF5ecPAgKJUwYkTTabEAidfFnj17AMDY2PjcuXMChCssRH191NfHggIcNgwBcPduAcIKBInFE6VSmZiYWF5erlGpgIAAAHjnnXcuX76sZQX2h4evcnLKnD4dCwvRwKDWsCYDicWTf/3rX1zzM2bMmNjYWDVLKRQKHx8fAOjUqdPt27e1qcCoUaMAYMuWLb+Hh8/v1+//pk/XJprgkFh8KCkpkUgkqu6ElZVVTU2NmmWfPHny0UcfAUCPHj0ePqzkV4GysjJjY2OxWJyTk+Pp6QkAmzdv5heKEdR550NKSoqiTh6BSCRSv6yhoWFkZOSAAY5t2wa6uxuUlvKpQExMTHl5uUwma9Wq1cmTJ0UiEdeCNh1ILD4kJibW/c/Zs2fXbcAaxdTU9MiRhLy8qcnJMGYMVFVpXIFDhw4BgJeX17Fjx8rKymQymYWFhcZRmKLrJvONZPTo0aoPUCqVFhUV8Qhy8yaamyMAjhuHCoUGBauqqlq3bg0AN27cmDRpEgCEhITwqABTqMXiw8WLF1Wvp0yZ8s477/AIYm0Nx49D69awdy/Mnq1WEUTMyMjYsWNH165dW7VqdenSpaioKADgOvJNC12b/eaRm5ur+vREItHVq1e1iXb2LLZogRIJpqTU/4Z//sGYGFy//tTIkSNbtWpV93dnaGhoamrq7e2tTQUYQWuFGpOUlKR6PXLkyG7dumkTzdUV9uwBRFi6FH77DQDgwAFwcYGUFDh/Hs6dg6tXQamEQYPaxcUdAwBzc3MHBwcHBweZTLZu3bpTp0799ddf+fn5HTp00O62hEbXZr95LFiwQPXpHT16VKiwPj44Zw7m5uKMGQjw7J+REbq44NKlBREREdnZ2XWLlJWVDRw4EADs7OwKCwuFqokgUIulMaoOlo2NzfDhw4UK2749WFlBfDx07Ai2ttC3Lzg5gUwG9vagrw8AbQDGvFDE2Ng4KirKxcUlPT199OjRR48eNTQ0FKo+2qJrs98wlEqlqqOzadMmASP7+2N1NY4ahUuWaFbw3r17lpaWAODp6an+PC1rSCzN+PvvvzmrTE1Ni4uLhQqrUOD69YiISUn4xx8aF79y5Qo3ATFz5kyhqqQlJJZm7Nq1ixNr3rx5AoY9dw7FYpwwgX+EhISEli1bAsASTVs8NtA8lmYkJycDgFgs9vf3FzAsl0/VqRP/CDKZ7Pfff9fT01uyZMlPP/0kXNX4omuz3zAGDBgAAKNGjRI2rLU1AuD589rGCQsLE4lEYrF4//79QtSLPySWWty/fz8yMjIoKIhbEzx16pSAwVNTEQA7dNBsYedVrFy5EgAMDAyOHz8uQDi+kFj1U11dLZfLt27d6uvr27NnT1X+gqGhoUgkWrx4sYDXWrQIAVDAbve8efMAwMTE5NKlS4IF1RCax3rG3bt3ExMTExMTk5KSUlNTKysrVf/LxMTE0dFRJpOJxeKVK1cuXbq0devWX3/9tSDXVWWuC8WaNWuysrKio6NzcnIcHBwEi6sRujK66bBr1y5PT09zc/O6H4tYLLa1tZ06deqvv/565cqVuvND4eHhXD9m37592l89MzPT0tJ15MjjVVXaB8O7d+9yL3bs2AEAbm5uAgTlRXMXKzQ01MXFhZPJ1NR02LBhixcvjoqKevToUQOlBOzHrFq1CgB8fX21jIOIpaWlRkZG77//fkVFBZfv8PPPP2sflh/NWqyamhozMzMAWL169fXr1zUqO3fuXABwcwt6VVaCmjg5OQHAwYMHtYqCiIh//PEHADg7O9dNXNY+LD+atVinT58GgPfff59HWaVSGRR0CADbt8fMTJ4VyMnJEYlExsbGpaWlPEPUYcKECQCwdu1azrAPPvhA+5i8adYTpFyCr7e3N4+yIpFoxQpPd3d48ACGD4e8PJ4VQMQRI0a01HqjaXV1dUxMDAB4enqqEpe1jKkVOpRatyiVSm7tNjk5mXeQ8nJ0dkYA7NUL//lHg4LV1dWXL1/u3bs3AISFhSGiXC738/Orrq7mVxPOKnt7+7qJy/xCCULznW64ePFiVlaWhYWFNgNyIyM4fBgGDQK5HDw94cQJaCBv5f79+8nJySkpKSkpKefOnSsqKtLT05NKpaWlpQqFwsvLKzMzs6amZvv27Rpt++FQtVKnT58uLCy0t7fv0qUL7/sSAB1K3ShlZWWxsbEhISFJSUm5ubnCBl+z5qSNTe+vvvpK+1DZ2fjuuzhzZu2azJ07+PAhImJ1NcrluHUr+vpiz57Ys+eAup98165duQUiAwODEydOXLx4USqVAkBwcLCmFVAoFB07dgSA9PR0Pz8/aAJL0U1OrJycnP379wcEBDg7O6vS1mxtbS0tLe/duyfghbp1QwA8c0aI6SPEggKUy9HaGu/dw7AwXLECZTI0NHwuF3T48AVDhw79/vvvjxw58uDBA67gt99+CwDGxsYXLlw4evSovr6+sbHZL7/ka3T12NhYzlSVYWlpaYLcF290L1ZRUdHx48eXLl3q7u7etm3bun/Tenp6/fr18/Pz69WrFwD06tXrH406Mq9GLkcAbNsW+XZp6o/5ww/o54dhYbWrNABobY2+vhgaipcu1b8UqFQqp06dCgBmZmYZGRn//e8+O7sSkQjDwzW49Jw5cwAgKCgoLi4OAKysrIS6Kd7oRqzHjx9v3br1iy++6Nmzp/j5w1g7derk5eUVEhISFxdXVlbGvb+oqMjOzg4AZDKZICPz5csRAKdN0z7SM+Ry3LwZd+7ECRPwyBE8eRLVTASsrq728PAAgAEDvLKzcdMmBEB9ffzzT3UvbWVlBQAJCQnc7Nq3337L+y6EQgdiVVZWrl27Vk+vdtygr6/v4OAQEBCwe/duuVxeb5HU1NTs7Ox3330XADw8PHgPnVT064cAGB2tZZjn4MRSKvHDDzE+XrOyZWVlXl5BnTpVc6PL4GAEQGNjVOfckCdPnixZssTNzU2hUFhbWwPAhQsXeN2BkOhArGPHjgFAu3btNm7cmJSUVNXYIllgYKBYLN67d+/169fbt28PAL6+vkqlkncF7txBkQilUqyo4B2jHqKicO5clMuxuJhP5KIitLdHAHRywsePccYM1DSFIjU1FQA6duyoECT/Rjt0IJamw5aQkBCuYTt27Jhq6LRgwQLeFYiIQAMD/Owz3gHqx9sbAXDjRv4RcnLwvfcQAD08+HT+goKCAODLL7/kXwPheN1i1R22pKWlqXlwWWBgoGrodOrUKW60uG7dOk2vXlyMP/6IiHjhAgq3IxARsaICTUxQJMKn6QU8yczEDh0QACdNwkYb5ZqaGrlcvnv3bj8/P6632qJFi9DQUK1qIBCvWyzVsEWhUJibm0ul0jt37jRa6oWh0549e8RisUgk2rlzp0ZXz8vD3r0xJgb//BMPH+Z5C/Vy+DAC4IABAoS6eBGlUrSywvz65hzy8jAyEoODcdKkb6TPf1eAgYEBALRt2/bvv/8WoB7a8brFUg1b4uPjAeC9995Ts2BNTQ23+GVhYXHv3r3Nmzdzz8eYmJiGC5aWYmwsrl6NXl64fTsuW4aTJ2NEhMBiTZmCALXNofbExuKNG2hujo8eYVwcbtiAoaE4blztg5L7N3jw9wBgbm7u4+MTGhoaHx9fVlY2ZswYAOjcubM6f65MaUisCmE7t4iIqBq2cOmz33zzjfply8vLudwpW1vbgoICbqv7y2fFKpXKq1ev7tt3edYs7NsX9fSe/TJ8fXHZMkxPx0GDhBSrpgbNzBAAMzIEi1laipMn45w5GBeH8+Y9uwVTUxw6FL/7Do8dy1fNsqqoqKgYNGgQANjY2OTX2+K9Ll4pVl5eXp8+fdauXSvgxeoOWzjDND0/uKioyN7eHgCcnJweP348ffp0rvFPTk6Oj49ftWqVh4dHu3btAKBbt7Hcb0JPD/v1w1mzMCwMk5NxzRpExPnz8cABXLu28X6MOsTGZjg55fbpI+RYrLQUg4IwNBRXrcItW3DaNNy+Ha9caXzDRXFxcd++fQHA0dHx8ePHAlZJI14pVkREBNePCddoDrhBFi1axA1b/vrrLwDo0KEDj4FxVlYWN6E1fvz46upqLlVSX1//hVlWb+9xISHKuDh8Osn6HEoluroiAAYGCnBfs2fPBoDvvvtegFhP4cSqrkYXF81m4RExPz/fxsYGAIYNG/bkyRMBa6U+DT0KVf2YP9WfA24QW1tbADhx4sS///1v0GI/eGZmZo8ePRISEhAxNzdXIpFIpdKBAwfOnTt33759ai4p/u9/tWt5XBvGG1X6jbBbYqqq8MwZRMS0NHzFtHFD3Lhxgxt9jx8/nsdfb1ERcuN1bjWdB4103rl+jJGRkfZn3l+/fh0AWrVqVVlZyeUhaZMwrvqwuD3v/HYNHDqEEgmKRPjbb7wrgtx5pBYWFtrM2bIgLS2NO7/E399f07Jr1qCfHyLy35TWiFhKpXLatGkA8MPgwajdIFa1ayAzM1NlmDYBOVTHnfMrvmULAqBEgryTzufPnw8AX3/9Nc/yLDlz5kyLFi0AYOXKlWoWKSzEEydwzRoMCsIzZ5iJhYg1NTV/+PujgQFaWqIWiSuqXQOrV68GgEmTJvEOpUKQXQOLFmGrVv8MGOAWr+kKHyIicif6nT17lncFmBIZGSmRSEQi0fbt2+t9Q00NyuW4ezcGBKCDA4rFCIALFuCNG+jry3+dXr15rIoKHDQIAdDGpv5pu8bIzs5W7RqQyWQAcODAAR5xXiAiIgKE2DUQGLgMANq0afOqVfAXyMnJiYqKmj9/vqOjY8uWLdu1a9d0DqZ6mV9++QUAJBKJ6jPPy8uLjIwMDg52dXV1db33wgGCzs44Zw7euoVJSdipE9bU1D8Aahi1J0iLi7FvXwRAR0fUfBDLrfeNHj0aEcPDw729vQXJfpk4cSIArNGy+63GN5GUlpbGxsauXr365a2tPXr0uHXrlpYVYM2SJUsAwNDQ0M3NjRtTq3B1PWhujj4+GBqK8fHIDSLT0rCkBBExMhK9vXHIENR0cKnJzHtuLlpZIQB+/HGj8z+qZayAgAAHBweRSCSVSoU9U0q1a+DatWvaR6usrHRzcwOArl273r9/H5/PZeVWS1Sov7W16fDZZ59xM3xc/VW5rA8bHPjduYMdOyIAjh+v2ZklGi7p3LiBnTvjtm2IWE9qSH4+RkXhd9/tnTHDxMTk5WUswb5RDRERjx49CgB2dnZCBVRNLXbs2LFNmzZ166+np+fg4ODv7x8WFqbp1tYmwqxZswDgk08+uXLlikYTEOnp2Lo1AuCsWRpcTvO1Qu4RNncuLl2KM2ZgQgJu2oQTJ2KXLqoH9bnevbllLA8Pj1WrVsXHx1dUVAj4jWocXPqNsAe/3L9/f+DAgdyqCFf/xYsXnzx5soxHL6MpwXuvW1wcxsfXHkYPgCtWqFuQ1yJ0SkrtiZlVVfj559irV61SUikOHowLFlRFRXFPk7oI+I1qXDSur8Ni10BGRoawGzd0jmqyTaFQbNmyRc0l6tRUbNECW7fG9HQ8cAAlEjQwwPBwtY6H4yXW6dMYFlb7evJk3LkTt27FtDRsbGT0cj+GN1xyRFPYNfBGoJps484St7S0VKeUQoE+PgiAnTrh7du4bZuif/+FEolEnZMmeIlVWIiTJmFZGZ4+jcuXa1S0uLi4X79+ANC/f3+NlkgfPnx45MiRgqdfIsolRwQKstTXDFBNtgUHBwNAQECAmgWfPMEhQ7hUs6oHDx4sX74cnm6EbLgg33ysa9fwhx8wPJzH8YYPHjzg7nPIkCENLJFyZ+qp0iO5zcGqozW55Ijz2p/a2QyQy+UAYGZmVl1dzX3yZ7hlSPUoLsYRI8qtrd379+9fUlLCZdSZmpqmpqY2UEo3279u3rzJ9ZDGjRtXd4SSl5d34MCBwMBAFxcXY2PjuuOyli1burq6RkdH49P0G37JEc2QZcuWAcC0adM4w9q2bavpNidVW/DRRx9VVFRMnjwZANq1a9fARI/ONqymp6dzs1B1k/+5kaOKuumRlZWVqq2t3bt3h6Z0WH4Th5tDiY6O5h5k03gt09y8eZNLlxg7dmxlZeWQIUMMDAwiIyNf9X5d7oQ+e/Yst0S6/GlH7eDBgyNGjFi8eHFMTExBQcELs6x1t7YGBwdn8j6Wqjlx+/Ztbna6oqKC691G891OmZ6ebmZmxq05ckdRfvzxx696s4632B8+fJjbufrTTz9xP8nPz4+Kilq4cOGQIUNemGVt0aLFBx98wCVdaTmobD6sX7+e63LcuXNHZRjvaKpveeEOFVP91l5G92c3bNu2TSQSSSSSwYMHc13yulhZWU2YMGHjxo2JiYmCpNk0Nz788EMA2LdvH2fY2LFjtY9ZUVFhYmIiEonuvnqzm+7FQsQVK1Zw3Sauk+7s7BwQELB//35qlrQkPz9fIpEYGhoWFxdzhu3du1f7sJGRkQAwoMHNbk1CLEQsLy/fuXNnWlpaU84/eePYunUrAHh4eNQ1TPuwn3/+OQD82OBmt6Zyop+RkdGUKVN0XYu3DdUxf2ZmZmfPns3IyDA1NdUyZk0NXLhwEQA8PT0beFuzPtz2rcfFxcXExEQqlYrFYhcXlxkzZmgfMy4Obt264uGR0KNHjwbeRmK9zYjFYm73ZUpKilAxDx4EhUJiby9r5H3aP3GJJotSqfziiy8AwMzM7OrVq0IERAsLBMBGt7qRWG85VVVV7u7uACDIIa4JCQiAFhaN7yCnR+Fbjr6+fkREhLOzc1ZWlru7e2FhoTbRuC8qGzMGGj0vnMR6+zEyMoqOjrazs5PL5e7u7uXl5WoWzM6GiornfnL4MICa34CnZdtIvCmoDnH99NNPX5XdUF5efv58wdq1OGYMdu6MAM+Op0tJwYICzMzEuXMbTehEpD5Ws6LeQ1xLSkrCw8P9/f0dHBz09fU//PA/qj2GrVs/yxT+8kvkjpxSM6ekqUyQEq8BGxubI0eODB06NDw83MLC4scffwSA8vJyX19f7g16enpSacrMmRNlMnBygm7dID8fDh+GW7dAJAJra4iLU/daIkRkdBtE0+T06dOffPJJZWXlunXruAxvPz+/Ll26yGSy/v376+vrX74sSUiQJCVBQgLcuQMAIJHA1Knw888wdSoYGMCvv6pxGQYtLtHUUR3iumvXLqxzYoCzs7ORkVGfPoUvHyA4dSoiYmKiuuesUovVTNmwYcO8efMkEkmbNm0ePnyo+rlYLPbxiZNKnWUykMmgZ0/g0isfPQIzMwCA/Hzo0KHx+CRW82XhwoX5+fk7duwwNTV1dHR0dnZ2cHBwdnZ+YRc4P0isZk1paWleXh53rqSwkFgEE2jmnWACiUUwgcQimEBiEUwgsQgmkFgEE0gsggkkFsEEEotgAolFMIHEIphAYhFMILEIJpBYBBNILIIJJBbBBBKLYAKJRTCBxCKYQGIRTCCxCCaQWAQTSCyCCSQWwQQSi2ACiUUwgcQimEBiEUwgsQgmkFgEE0gsggkkFsEEEotgAolFMIHEIphAYhFMILEIJpBYBBNILIIJJBbBBBKLYAKJRTCBxCKYQGIRTCCxCCaQWAQTSCyCCSQWwQQSi2ACiUUwgcQimEBiEUwgsQgmkFgEE0gsggkkFsGE/wdZcTj393SIBwAAAiJ6VFh0cmRraXRQS0wgcmRraXQgMjAyMC4wOS4xAAB4nHu/b+09BiDgAWJGBgiQBWIFIG5gZGNIAIkzczBoAGlmJjYHMM3C5pABopkZkRgQGXaISmaITiYmGA0Xh6lzQOXjNhmhEpcATC/MlXAFUNezKZiA3MDIAheAOQ7DMm5gIDAyKTAxZzAxsySwsGYwsbIpsLEzsHMwcHAycHIpcHFnMHHzJPDwKvDyZTDx8SfwC2QwCQgmCAplMPEIZzAJiySIiGowiYgliIkzcEowSEiyMEpIMbBKJ0jLZDDJMCVIsTGIcSUI8SaIsLAxyUizsjCzsXNwSkixsXHzCIuIcbHx8QsICvGKwyKDQTZTWOqg/e3ufSDO5xecB+/c37AfxP7+9skBjyvtYPbXuGsHUhr32IHYbNXLD9wON7AHsaXU2g/UfLkG1hveYnBgtcTpvSD23y3390+fNQusl2fqhH2scslgttY2Azub01xgvfXLLtqnPooBsyVqNR0u7KsGm1O9qNlhqfVMWxA7/ftih6DQFrDe1IypDj+XyB4AsQP3bnWon5kCZjssfOKwVTgAzHYy+Oxw0uglWH3o7UsO1ZPNwOxaw0kO0R0HwHYp7Ex22GKh7gBiT8pucGiKbASzXT6yOrzcJARmX+vrsi9YHglm36wM27/K7zJY7wTmI/uWKrqCxYPThA+IOa8Ci8tsnXrgwMY3YLu4Zh45sOoeF9g9YgCkLpSASBmbuAAAAet6VFh0TU9MIHJka2l0IDIwMjAuMDkuMQAAeJydVU3OGzEI3ecUvkARYMzPuumq6lepi96h+95fZcLEmUqtFDEaRY9gv3lgwLdxPD/uX3/9Hvvh++02OMbkMfCfb0SMn4yIt1z+KUA57EAIbMeuXALpxfF5/I/i+j5YHJRCDkQwnfzC8v19FgNagsWCSk0tChpBtXeqN1kW8JxnHOruPRYB5imVXaFosjDYciqWPL5rRB/vsxCYmBVitKaWrBLnMyJ362U3d5CxFlrCvYgGgU6L2uvKvYgGg4rPMzZZ3tMiQDTPiNCkqWUB8e6AOaPHIqAaWJUj2uzp1KJWPT1hGTW1ZE+LWLHwouZJG6wIrbw4d7UoLI/zpI1mU4vAUl9Vfwulmd3M6arZlPVH3doVQJp0or/76P25mwowOApx9LsRnVfFJojt+eKzZlN29+qzTK+czlSFzTuAYWJlN2+12WXJbjQ/70aXaN9qJNNKFWnvJslQ+PF7GInmNhLJ46/DSLS2J5FuTyLbnkS+jUSxjRiETyMR0TZoHBOg2BLRVpCIZBsyaO1la5Bujw6y7bFBW0GiYyzwk43xaSTirSARbwWHsRUkYrmo5p2DRFwKqIxXDnTwVpCIt4IDvajtkrf8ziUh8Qr72xhfPu63PwF7hR4GZ5uBAAABcXpUWHRTTUlMRVMgcmRraXQgMjAyMC4wOS4xAAB4nDWRO27mMAyEr7KlDciE+CZhLBDATarkAIut3P8nyOF35GQrG59Gwxnq+rz5vu/tQ67rY7v1dW/Hbff9ul+2g//+3F967X+ut/e/27VfAsi/vrajKaTTxjFJUtlznEdRcGuOg0mLS4GS2G36QjOYlyooumePSRrF6UBOopoJFFVlDGQkoo+9cRf+zkMovWYtNrsZlwGZ0jJ5DZCZtXRIVKKVS1iVDONzEqf4muAmHJAxhWatGBXQ9ziFwkriqWRehmRGzOoF0UycYfjpxKL93Ui1HlFEdQ8EtFDupYlshZOSJyPJiT2YRS0izrKAdyMHbEq4YpxBXi1P6mTlquXsUW6DyacxNPBz7GwgKssqazSh1YEvetUqMVuQSkha1r4Rs8RqKNmcP/spLLsTtuH/kdbyU4jnskEXnYqgeEqdz7uhZtYqhcTWP0/JpquVEEfj/v71D7aielzq/S6JAAAAAElFTkSuQmCC\" alt=\"Mol\"/></td>\n",
       "    </tr>\n",
       "    <tr>\n",
       "      <th>3</th>\n",
       "      <td>CHEMBL564450</td>\n",
       "      <td>9.85</td>\n",
       "      <td>COc1cc(C2=C(c3cn(CCN4CCN(C)CC4)c4ccccc34)C(=O)...</td>\n",
       "      <td><img data-content=\"rdkit/molecule\" src=\"data:image/png;base64,iVBORw0KGgoAAAANSUhEUgAAAMgAAADICAIAAAAiOjnJAAAABmJLR0QA/wD/AP+gvaeTAAAgAElEQVR4nO2de1zN+fb/1750v6iIEmIaTCkkksLIuGVCGrnvcSnGbXoMX+dkDLMN55xpzBjxMC7DIOPMMZkwW+IMU+jQRZGijIgpqRTa1d7V3u3P+v3xzv7tKbIvn0837+fDH9ntz/qs6rXf7/dnvdd7LR4iAoXCNvzWdoDSMaHConACFRaFE6iwKJxAhUXhBCosCidQYVE4gQqLwglUWBROoMKicAIVFoUTqLAonECFReEEKiwKJ1BhUTiBCovCCVRYFE6gwqJwAhUWhROosCicQIVF4QQqLAonUGFROIEKi8IJVFgUTqDConACFRaFE6iwKJxAhUXhBCosCidQYVE4gQqLwglUWBROoMKicAIVFoUTqLAonECFReEEKiwKJ7AvLJlMVlNTwzAM65Yp7QiWhXX8+PE+ffoEBwePGzeuuLiYXeOU9gSyhFQqnT9/PrFpbm4OAA4ODufPn2fLPqV9wY6wUlNT3377bQAwMzOLiooqLS2dOHEiAPB4vPDwcIVCwcpdKO0IQ4VVX18fGRlpZGQEAEOHDv3jjz/I6wzDREVFkde9vb3z8/MNdpXSnjBIWA8fPhw1apR6ZKqrq5PJZLt27WIYhrwhJSWld+/eANCpU6eYmBg2HKa0D/QXVkxMjK2tLVlLnTt3DhGvX7/+zjvvAMCuXbvUbysvLw8MDCRrr6VLl9bW1rLgNaXNo4+wpFKpSCQiWgkODi4vLycTn4mJCQC4ubnduHFD8/3ku8bGxgAwZMiQvLw8QzxWKpVPnjwxxAKlBdBZWCkpKZrrdEQsKSkJCAggE+LSpUtlMtlLL0xPTycXWllZHT16VKeb3r9/Pzo6Ojw83M/Pz9zcfOLEiQsWLKiurtbVeUqLoYOwlEpl03X6yZMnu3TpAgD29vanT59u3oJUKp0zZw4Z6kQi0auUwTDM3bt3f/rppzVr1owePdrS0lIzPsLj8Tp16gQAgYGBSqVSe/8pLYm2wmq6TpfL5eHh4eSPPX78+KKiIi1NRUdHk0DXO++8c/PmTfJiUVGRRCIRi8WBgYFEqZo4OjoGBgaKxWKJRFJWVnbv3r2uXbsCQFhYmD4/NIV7tBKWUql0cXEBgJ49eyYmJiJidna2h4cHAJiamkZGRqpUKp3umpWV5erqSubT4cOHN1VS9+7dp06dunnz5vj4eM0VlXqISk1NtbCwAIAtW7bodGtKy6CVsC5evNizZ8/evXs/e/YMEffv309W4u7u7llZWfrdWC6Xz58/38LCgsfjAYCNjY2fn194eHh0dLRm0KuqqiopKSkqKkokErm5uU2ePFn9rdOnTwuFQh6Pd/DgQf18oHCHVsLKyckBgM6dO5MB4/Lly0KhsJl1upZ8/vnnADBx4sQ///xT/aJMJrty5cqOHTtEIpGrqyuf/5fdzF69emla2LdvHwAYGRmReAel7aDtGosEqMg8iIgGhgwIbm5uAPDbb7+R/3766acDBw4UCoWaSjI2Nh46dOiyZcsOHDiQmZnZdLUeERFBnjQzMjIMd4nCFtoKa926dQAQHh7O1o2zs7MBoEuXLmqtzJgxAwCEQqGbm5tIJIqKikpKSqqpqWneDsMwCxYsII+lrMidwgraCis1NRUAevTood6uMRAyDy5dulT9SkZGxtWrV+Vyua6mFArF+PHjAeDtt9/WP3ZaV4cbNuCKFbh8ORYU6GmE8gJthcUwTM+ePQGArRmHPBWylVcjlUoHDx4MAMOHD9dz5bdtG/78MyJiQQFOn86KV28y2ib68Xi8qVOnAsDJkye1vKQZsrOzc3Nzu3TpMmbMGMOtAYC1tfWZM2ecnZ1TU1Nnz56tUqm0ukyphOvX4fvv4cABuHIFyJ5mz54gl7Pi1ZuM8PVvecHiGTMGZWVNvXjR8LseP34cAIKDgxst1Q2he/fu8fHxI0eOPH369KpVq/bs2dP0PSqVipeTw09PB/Lv5k2oqwMA6NcPRowAqRTMzQEAaF614egwuikUaGeHAHjnjoHjJLvzoCaXLl0yNTUFgK+//pq8QmL6ERERfn5+FhYWSQMHIkDDPz4f+/fHefNwxw68dAkXLsTsbNyxAzdtYt2xDoZMJktPT2/mDTpuQotECIBffWWITzdv3oS/Pg+yy7Fjx/h8Po/H8/DwsLKyavRB2j99Os6ciVu3YkICSqV/uTI7G3fvRhL+SE/HH3/kwr0OANl3sbW1LXj1U46OwjpxAgHQx8cQtzZs2AAAH330kSFGmmfZsmX29vZESZr7jNo+MxYWoqUlCoV45gx3TrZHVCrV1q1byb6Lh4fHnVfPXToKSyZDCwvk8bCwUG/nyDx44cIFvS28lJSUFHVidGhoKADMmzevtLRUT3MbNiAAmptjcjJrLrYsubm5eXl5cXFxbEWISkpKJk2aBK/LjyLonugXFIQAuHu3fs5xNw/6+PgAQHx8vEKh6Ny5MwDcvn1bf3MMg4sWIQB26YJ377LnZgsRHR1tYWFBEgX69u0bFRWlR4BQk9jYE+S32q1bt/j4+Ne+X3dhRUcjAE6YoI93L+bBZcuW6Xf5qygoKODxeObm5tXV1WfPngUAd3d3Q40qFDhxIgKgiwvqPfK1OGVlZdOmTSPLAF9fXxJ9JEuCL7/88vnz57oalMsxPBzHjPkHAEyYMOHx48faXKW7sJ4+xUWL8NQprK/X+doXe46///67Htc2w9dffw0As2fPRsTFixcDwBdffMGC3cpK9PREgOLZsw3ccW8ZLly44OTkBACdOnX697//jYgKheLHH38cNGgQkZelpeWaNWsfPtTWYHo69u+PAGhhUb9/f4z2s6pehynWrMEVK3DxYvznP3W6LjMzEwDs7e1Znwe9vb0BIDY2VqFQ2NnZGToPavL4cV5goLWJybRp0+r1+iy1DAqFQiwWk2SQESNGND1vl5SUFBgYyOPxfH3n8PkYGIgpKc0ZZBiMikJjYwRANzfMzNTNHx4i6hb4unIFzp2DLVsAABYvhiVL4PJlsLKCv4Y6s83Nk+VyCwsL8gRBOHbs2IkTJ5YtW6aOXj58+JCcDzOEwsJCZ2dnc3Pz0tLSy5cvT5482d3dnWxys8K9e/d8fX3LysqWLl1KEnXaGnfu3Jk7d+6NGzeEQuFnn322ceNGgUDw0nfevHnz0CHz3bv7KpUAAO+9B2vXwsSJwOP95W0lJbBoEZw7BzweLFkC27c3RI51QDcdIuIPP+CxYw1fb9uG27b9/3ijxr+4d9996e1sbW0///xzRGQYRiwWm5mZXblyRWcf/srWrVvhxTy4aNEiYGse1CAlJYWkU//rX/9i17LhkHU6APTu3VvLX2ZBAf7f/6G1dcOfy8MDDx/Gjz9u2HzfuRNdXREAHRzw7Fk9vdJ9xLpwAdLSYP16AIAVK+CDD+D8eaiqgvp6zXcldet2tLS0urpaST4aAABQUFCQmppqamr622+/jRo1atWqVd99913nzp2vXLnSv39/3dzQwNvb+9q1a7GxsVOmTHFwcHj27FlOTg4JarCIRCIJDg5mGObQoUMkUafVKS8vDw0NlUgkACASiXbv3t3o4EnzVFXBwYOwbRsUFoK7O3TtCj16QHQ0LFgAwcHwww9w4AB07aqvczpLUaXCefPwyy9x40bUPT2LnL/o1KlTVlZWfX19UFAQAPTp06e4uFhnTxAR8cGDBzwez9LSUi6Xx8fHA4CHh4d+pl7Ljh07AMDY2LgtJBU2XafrR10dRkfj6dMYEoJffYUSCX74IVZWGuqeXot3hsF791Ajn1h7VCpVcHAwAPTo0aOgoEAul48YMQIAvLy8qqqq9DBI5sE5c+bgi3lw8+bNetjRkrVr14aFhbXusbPXrtP1IyQEFQp8/32cObO1hGUYcrncz88PANzd3Z8/f15WVtavXz8ACAgI0OMPNmzYMAA4ceKE+nkwJyeHC7cJbEWx9SY3N9fT0xMAhEKhWCxm8UE1JAQRMTERTU3bp7AQsby8nCyq/P39a2tr7927161bNwAIDQ3VyU5+fr56Hjxz5gyn82AbYfny5QDQt2/ftLQ0di2fOoWI+PQp7tmDdXWGWmsdYSFifn6+g4MDmcUYhklLSyOPNpt0SVk5e/Zs586dyTy4cOFCrufBVic5ORkAnJyc9Fs2vJbVqxEAv/mGBVOtJixETE9PJ08x69evR8S4uDhyTvCHH37Q3ohCoXjy5EnLzIOtTn5+PjQ5A8ciX32FALh2LQumWlNYiBgfH0+SSHfu3ImI33//PQAIBIJTZFzWGjIPDhw4kBs32wo1NTXksZSjpR7ZB543jwVTrVyOOyAg4NChQzweb/Xq1SdPnlyyZMmnn36qUql0iptXV1fv3bsXAEJCQjjztE1gampqY2OjUCiePXvGhX1HRwAAdooSsyBOg9m0aRMAkCg8wzCvTdVSKBS3bt0ihY28vLwEAoFAIHB3d8/NzW0Zh1sREvi9desWF8azsxEAXV1ZMNUmhIWIK1asAIDOnTu/NCmxrq4uPT197969YWFhgwcPbnQEw8jIaMiQIX/qFVdrd/j7+wM3xwUQsbwcAdDGhgVTrB2SMZCdO3cWFRX9+uuvAQEBycnJXbp0uXPnTsYLrl+/TpYXBIFA4Obm5qWBmZlZKzrfkjg6OgIARzX07ezAxAQqKqCmBgz8jbYVYQkEgqNHj/r7+6enp3t4eFRXV2sqic/nu7q6Dh061MvLa+jQoZ6enuY677Z3EAYMmDFmjKtM5smFcR4PJk1Kr6h4VFrq27u33tuEAG1HWABgaWkpkUj69+/P4/FqamocHR3VA5Kfnx+JJlCMjadfvDjdkxNdAQAUF69MS0srLr7acYQFAHfv3q2qqrKxsXn27BkpyUxpBJsPbi+3z85U27a6f5ET0vPnz6eqehVUWDrDMMyJEyfgDQhHGQIRVkkJd/Y7nLAuX75cXFz81ltveXK3gmj/ODgAcDlikQ3cEoOV24aERebBWbNmtbYjbRpbWzAzg8pKkMk4sd/RRiyGYUiBJDoPvhYHBxAKoayME+OPHz8GgOfPnxtqiIUgKxskJCQAwFtvvdXajrR1EhLw5MmGHF6Dj6H8BYVCsW7dOj6fb2RklKnraa8mtJURi8yDs2fPbm1H2jrJyfCPf4BUCgUFkJ7OmtkHDx6MGTMmMjKSz+evWbOG1B02hNcJ69YtiImBvDwDb9M8DMOcOnUK6DyoHatWwcaNbBo8cuTIwIEDr1696uzsnJCQoG5sYwjNCuvIEfjhB+jWDSIjIT7ewDs1w6VLl4qLi11cXEgdUUrzDBoEQiFkZAAArF0LaWn6m5JKpXPnziUdr0JCQm7cuEEa27BAc/PkhAkNBRpkMpwyxcBJtxlIHvdnn33G3S06ALGxOHIkbtqE169jRQW6uuLy5Q0nTv38MCZG52IaCQkJPXr0AABra+sjR46w6+3rhNXo64MHcc0aFlLtNaivrycnKQxfMLYRSktLIyMjN23adPjw4To2fldVVQ0llQBw1aqG88rx8Xj8OK5bhzY2Dd9ydcUDB1CbTqNKpVIsFpNj+MOHD793757hTjaiWWGJREjOrKWl4SefYEVFww8xbBjev8+WB7///jsA9OvXjy2DrUt8fDz5nJCksW7duonF4qdPn+pt8No17NsXAdDUFKOisGlOcmUlfvstOjs3yMvBAXfuPNXMHfPz88lZTqFQGBERwVEr+GaFVVSEoaG4YgUuW4bPniEiXruGLi4IgNbW+NNPrHiwbNmyjjEP1tTUREREkHOk/v7+e/bsIWceAcDS0jI8PFzXVETNei8DBmDz7bBUKpRIcPhwdHQsNDIysrCwWLp0qbrEoZro6GhygMXZ2TkpKUnXn1F7tI5jffQRhoejQoFSKc6e3fDpEInQsKpRHWYevH37NnnyIOdI1X321MWDAIDP5wcGBqampmpjsKCgYNGiuwDI4+GaNVpNcISLF3MnTZpE7igQCGbNmnXt2jVErKioUHchDQkJIY3cuEM7Yd2+jQIBAuC77+KjR4iIu3ejqSkClE2ZYsiJK1IVqFXmQbYOujAMfv/9z6QGeP/+/V9apDozM1MkEqmf4f38/CQSSTMO/PLLL3Z2dhYWjl5e8hc9rHQjKytrwYIF6hpSXl5e5APcqVOnn1iaappH6xErMRG7d2+oyRkXh4iYmakcOtSvRw91c2gtUalU6enpYrGYHIZ2cXEZMWKE7p7rT0VFxbfffuvp6RkYGBgdHV1pwHnyJ09wyhR0ds6ztLQSiUTNnyN9/PixWCy2sbEhf+yBAwfu27evUReqysrKpUuXkjdMnDhR71ophJKSErFYbGdnJxQK7ezsOFqnvxRdtnTKynDyZCSjc3g41tXJ5XL1b2HGjBkVFRXNXF1bW3vmzJklS5Z01SiNY29vTz5VP5M+Ni1Co31uc3PzkJCQmJgYXYtBxsdjt24IgJ07Y1yctn2dKisro6Ki1KVBHRwcxGIxmZjS0tL69u0LLxq5szWmVlZWnj17NicnpyUrEuq4V8gw+NVXaGSEADdFIlLnRL0e7Nev3/Xr1xtdIZPJJBKJSCQiHcIJvXv3Dg8PP3/+vFKpJNX9bGxsHmpfGdMAyORraWl58eLF7du3+/r68l5UszM3N1+5cu/x469fN9bUYEQE8vkIgGPHNqwOdKKuru7QoUPu7u7k1tbW1mPGjCFzpaenZwc4z63XJnRycoW/v7WJSadOnY4fP46Iubm5AwcOBABTU9Po6GhELC8vj46ODgwMNDExUevJzc1NLBY3XYWQKr+jRo3i+iN169Ytcgrj6NGj6hcLCwujoqL8/Px4PN7o0bcA0MwMAwMxOhpfOrPdvo2DByMACoUoFqOO7bAbo17du7q6kkbutdov1NswemY3SKVS9YQiEolkMllNTU14eLhAIFi5cuW4cePUR//4fL6fn19kZGTTR19E3L9/f3FxcVlZGUkD4rQQY3V1NdlbDQsLQ8SmA2RBQcGuXfIRI5DHa3jqtbDAWbMwNhYXLMB9+xAR9+zBadMQAN95B1msvkaOuJHHt46BQWkz0dHRZABwc3PLzs4uKytTt3A2NTUNDAw8cOBAM11GtmzZAgCTJk1iGOa3337j8/lCoTCZs04QpCybm5ubTCbLy8uzsrJauHDhS8ODBQUYFYV+fg0KMzfH4GCcMweLi3H7djx3DjdsMDDM0vExNB/rxo0b5OHO0tLSycnJyMgoODg4JiZGmzo7JSUl5BmYPFSuWbOGPCQa8pj2Kn7++Wci98zMzNra2iFDhpBwTvNXPXyI33yDGzbgzJmYm4uLFuH27XjxIuvedUBYSPSTy+VLliyxt7cnR2vKy8u1vzY+Pp7H45mYmJC/N8l2X7x4seFeaZKXl2dtbQ0A+/fvxxd1UF1cXJp/jNVk5kxUqXDDBvzgAyosrWAtg7SoqIgIS9eQ7kcffURmKLlcnpOTQ+bW//znP2w5ph6fZs6ciYhxcXE8Hs/IyEinOZcISy7HPn2osLSCzdRkElDQfhgg1NTUkF5Cq1atQsTdu3ezG31YtWoVGZ+kUmlhYSHpNLR9+3adjGRl4cWL+MsvmJ6OHO+FdBDYFBbpOqnHCik7O9vU1JTH40kkEmQ1+nD69GkyPqWkpCiVSlJUd/LkyXrEHseORQBkuwlQh4VNYZEiotXV1XpcS7os2dvbsxh9KCgoIOMTeThYt24dAPTo0aOsrEwPa2PGIAAmJhri0RsEm8IitYT064vHMExAQADZICPRBx6PJxQKU5rvJPRq1OPT+++/zzBMQkKCQCAQCoV654qMHo0AeOmSfle/cbApLH//lSNHLqit1TNxTB192LFjByKuXr3akOhDREQEGZ/Ky8tLSkrIEPhPHduVaeLnhwD4v//pbeDNQvdeOq/G2BiUSlAoQO8jHr/++mtQUJC5ufnDhw+tra19fHwyMzM9PDxIxqMaIyOjlzaN4fP55AEiLy/v0KFDfD4/MTHRz89vwoQJFy5cGDdu3H//+191CFdXfH0hORmuXoW/+kJ5BSyKlGzKGrjg3rhxY0JCAvl69+7dxsbG+kmhS5cuU14cAJFIJK6urlq2Bn0Vw4cjwGt6/FHUsDlikSwBhmnc/E4/CgsLPT09nz59Onv2bFJ4U41Sqayurm56CcMwUqkUAPLy8k6cOGFmZnbt2rUBAwaQb+k9VhG8veHaNUhLgxf5xpRmYUuhKhUCIJ/PjjWlUunr6wsvlt56WAgLCwOAAQMGGNhkW82MGSuGDBmXkfGSrXRKU1gTllLZkEnCCn//+9/hxdJbPwvV1dWk//Qnn3zCiktku6lpwhnlpbAmrLo6BEBjYxZMnTt3jmQ6/M+wZ7CMjAxjY2MejxdHcqkNg/Trbu+HPloM1oqCMAwAgGHLGACA0tLShQsXMgyzZcsWEojSmyFDhpCeTYsXLza8khjDMABg4ELtDUJvSaakNDwAPnqE+fn466+Yno7XrxtUW0elUo0bNw4A/P39WckmValU7733HrzI+jLEFHkI4KglRMdDf2HNnt2QuRsbiwcOoJUVnjiBiBgUpL83X3zxBQB07drVwNCAJo8ePSIbO7t27TLEDlmxvQldVVjBoIH9/n3Iy2uohxkQAIcPw8uCANqSlJS0efNmPp9/9OhREihnBScnp/379wPA2rVrs7Ky9LajUqmAToVaY9Cv6dw5iItrqKcjEEBEBGzeDADw3XewaBHEx4NCoa2p58+fz58/X6VSrV+/fvz48YZ41ZTp06eHhYXV1tbOnTtXs+GFNshkstOnT3/44YcPHz60sbFJTU1l17cOi95jXaOpcM4cRMRly3DoUPT0bDiMYGODIhFKJK+pT8MwjDpVhqM+3tXV1SSFWsvow+PHj/fs2TNhwgT1YWJySszY2JjFJMQOjP7CiohAEnq8cAFPnMD16xERy8pw2jS8cwe3bMGBAxvkBYC2trh4MZ49e/6lhxe++eYbALC1teX0aKE20Yf8/HxyFEw95QkEAnLK6O7du2Rjm8fjbdu2jTs/OwbcFrfNz2847gKA7u5VRD0ikUgikagLR127do38vXXtqqoHkZGRANC1a9eSkhLN12/duiUWi728vNQDOTlltG/fvkbvjIqKIkNXREQE1962a1qoanJuLu7Ykao++AsAdnZ2oaGhsbGxffr0AYDVq1e3gBsqlWrs2LEAEBAQUF9fn5SUFBERQU61E2xtbUNCQl5V0OHBgweIeOTIEXJkefny5SoDj6t2XFq6HHdOTs4XX3xBYkIEPp/v7OwcGBjI1qZe8xQWFpJGYiSRmuDk5LRixYrz518+UxP27NljYmJCakxIJBKS1RgUFNSoqgeF0Gp13hMTEydMmODs7BwXF0d2S1pgKiRs3rzZyckJAPr06RMeHp6UlKTNwEMSDwUCwd69exExOTmZhMf8/f2lUin3XrczWk1YpO+8p6cnIn755ZcAsGDBgpa5NWlBvWjRIl0vjIyM1Fxg3bp1iwjUy8urmQPfbyatJqza2lpyiDQ/P//u3btk1cVRrKERkyZNAgBSzkRXDh8+TMpSrFy5UqVSPXjwgCzRXFxcWqz0VLugNVuekLIi5Igfac6uzh3lDoZhyBqrsLCwsLDw/Pnzuk5kp06dIvX75s6dq1AoSkpKSEaNo6PjzZs3OXK73dGawjp27BgAjB49GhHXr18PAB9//DHXN83JyQGA7t27I2JUVBQAhIaG6mokMTGRJNe/9957lZWVVVVVZO/c1tbWwFSfDkNrCquqqsrU1FQgEJSWlqalpZGnM7bK2L2KgwcPwotyIKR1DynooCsZGRmkNOGwYcPKyspqa2tnzJgBAObm5mfOnGHb6/ZHK3f/mjx5MgAcOHCAYZhQX98LY8bUvqw4LIssWbIEAEjo3NnZGQzIhLl///7bb78NAK6urgUFBfX19YsXLyaLRV3rDHQ8WllYBw8c+MjDI2PFCkTEVasQoGFviDNInYirV6+SxnzW1taGBDmLioqIQXJom2EYHx8fR0dH/Z4MOhKt3a+wtBQFAjQxwcpK/P13BEA3N+7uVllZKRAITExMampqSP/p8ePHG2jz2bNnW7duVc/gI0eOBICzZ88a7Gz7prWzi7p2BV9fqKuDc+fg3XehSxfIyYE//uDobqmpqSqVytPT09TUNDk5GQBGGHz81NbW9m9/+xuJbymVyuvXr/N4PG9vbxbcbc+0trAAICgIAODkSRAI4P33AQBOneLoVkRMPj4+AJCSkqL+mi0yMzPlcnn//v1JRONNpg0IKzgYABrSAtUi4wYiphEjRiiVyoyMDNaHFrV9Fm22U9qAsHr3hkGDQCqFhASYOBEsLCAtDR49Yv0+iEiCGj4+Pjdv3pTL5f369SP7fWzBxSjYTmkDwgKA6dMBAE6dAjMzmDwZxo6FigrWb3L37t3y8vLu3bv36tWLo6GFrXVbB6BtCCsoCMzNARHkcli3Do4eBY3MLbbQFJPmYostnjx58uDBAysrK8M7dXcAhK3tAAAADBoEZWVQWgpz5sCUKfD99zBsGISGsnuTpit3doeWq1evAoC3tzfpXPqG0zaEBQDm5vDdd7B5MwwaBGFhMHYs68LSFFNiYmJycrJmviG79iltRlgA8PgxvOiJBWZmoFIBex/9mpqaO3fuCAQCkh7dq1evXr16sWWcwMX02n5pG2sswoABcOMGAIBCAfX1LKoKAMzMzNatW6dSqWbNmiWTyVi0TKivryfxi+HDh7NuvF3S2qF/DZ4/x3nz8OOPMSSEiyKyWVlZ3bt3B4Bhw4axnvCZkZEBHahluuG0JWERuOwsl5+fr5mPwKLlXbt2AcCHH37Ios12TVuaCglcPlL16dMnKSlp8ODBubm5Pj4+2dnZ+tmRyWSxsbHbt29Xv0JX7o1pbWW3As+fPx81ahQA2NnZXdGl6tLTp0+jo6NDQkJIzWYzMzN1twQXFxcAuHHjBjcutz/eRPZMIAUAAAIHSURBVGEhYm1tbXBwMABYWFi8NsXlzz//3LFjh7+/vzpARbp7fv311+Rca1lZGY/Hs7CwaJnDIO2CN1RYiFhfXx8aGgqvrvNx//59dUtfoidSxyEqKqqoqIi858GDB1FRUd7e3qSpc8v+BG2aN1dYiMgwDKmi27TOx5EjR9SrBSsrq5CQkJ9++kmdcJyRkbFx40bNigHe3t76NRHqqLzRwiK8tM5HSUmJvb29SCSKiYkhilGpVE1rPdjY2DRT6+FNhgoLEfHIkSPkGKpmnQ+SbVxTU3P+/Pnw8HAHBwe1nojmNGvmUBpBhdVAozof1dXVEolEJBKR49oEnWo9vOGw2fKkvXP58uWpU6dKpVInJ6eysjKFQgEAPB7Py8tr+vTpQUFBNB9Ge6iw/sLt27enT5/u4OBw9epVHx+fKVOmfPDBByRYT9EJKqzGKJXKgoICGxsbdrOW3zSosCic0Pb2CikdAiosCidQYVE4gQqLwglUWBROoMKicAIVFoUTqLAonECFReEEKiwKJ1BhUTiBCovCCVRYFE6gwqJwAhUWhROosCicQIVF4QQqLAonUGFROIEKi8IJVFgUTqDConACFRaFE6iwKJxAhUXhBCosCidQYVE4gQqLwglUWBROoMKicAIVFoUTqLAonECFReEEKiwKJ1BhUTiBCovCCVRYFE6gwqJwwv8D6WXI34tlVGoAAAKJelRYdHJka2l0UEtMIHJka2l0IDIwMjAuMDkuMQAAeJx9kU1oE0EUgCez2d38p/lPTJpskpZGKahoFA8m0x4UvSiiVQpp51Bxi5eKglCt1kpLsejBgwoNQuqlKv6g1YttMlqNiNVaBaUliDn2UAP+FiXU7AsRjNqBx/vmmzfDm5lC+sZ7VBqGUqhQedSVYmUpelUCoornNChSyhwWCGS1QGQlc6rfAlXl6kKxLLjyiRhXsogkxS+rVX8t/6OPZeDP1ip3EREUYFX1QmWDhlTm/z2yIvSlt1NhCXMy5tRUzUu8EMGCKIkaGWu0VKtDOj3SG5DBiIwmZDIjcw0yW5DFirQ2arPL2O6gDqeMnS7qcstY8EieFRHs8Upen+SrjWC1X8b+AA1IVArKOBiiobCMw5j6eCnkp26RWg3IbaN2QcDhkF/N8RrRbdMKRpPZYjUIdofT5bbxHoH3efmAPxSUXJWvRnVv5fvx1MWvcWVypy8XO369mSh8HvVnvvesBh6dfZg5mx+FmiPFGDs90Ae81Jlgx3a8TIMfqWeX3k1nFB7eMpTp7JoBbq/Zlg5Ec1DTspiMP5g6AF5z2Ue887oJheXiYbL4tAH8iDlFnuxLxBTelZkiBwemYW/Tq89k/t5H8CfXFkjzsx/Qw8agvqmxMQp9Tp+aJD9X1QPnu5Ikn52Dmv724fieTx4GvsdONmVbgb/0LsUXSBJ45k1N/PnYNeCrHbrM7PYzwNHxRNoytwF4fKyNJWqjwOhFEzu0exD424cke33bCfyoO8luZlvhLkO2SWZpcG9WeDB1gi2EtNDb3p23WEuhzNHHEyzXvR94690LbF3qHHBxPWX+NR3AbXWYXUkcBXb+Ar0ZumhbFG2BAAACXnpUWHRNT0wgcmRraXQgMjAyMC4wOS4xAAB4nJ1WS47VMBDcv1P4AmP113GvGVaIQWLBHdhzf1GO85oggTTTUfRUfo4r1dXtdh5tXd9fv/z81fKS18ej6WjGrdE/74hoP4SIHut57ibOGwXPYyHqmKX2qf2P4n4/9gpTOtdqJ+M7y7d3s7xwJ41Ti/TDhEtawOJsviNSDquxSI9pslmIo+bLi3bzGAvBIVKqavE5acc2RGfVF5qTLxYdUmOhzjHsikipliN4KjJ0swS531je3s8i3ezgzUKqUdOifbJcWoZ7rV6aLwWXp8J/ufuBiEZXlN2zXlxrWo4+OC4FNoqZBosdNq/O4KG1iGYf4WNnayrVahe+MMXF4pOKXcr6xLUjOiiKvqB2+aw17EvkqFgv0lVIrh7Bs5hpZCbGuQNWbFLcAdR9+PL0xbuqjWpncKOxtSi2QJUFS327O/0ongHw9Ih5sUjUfAELybzclUH3HH3gVDN0OLkiUrdar1v5Daw4HZpezdHotOtlrdW/3P1ARNrjmNduZJPieeTIUbK4S02L99BzH6GP+/SiL7b6ge0eYX4Uz0YoIH1qGcXOgCrBSeKbZQ4v7QAskvN3DYA0B0B2/rUGQJ4zQCMHQEc+BjRzBihyJhrTcwaIOQfcOBUAcSoAYsuBNU4FQJwKgNZn5J9BKgDiuL1UUgGQ8FMbkKQCoHXEXzPaJBUArc2ZkUoqAJL0YA1SAZCkAqD1XSdPEzUVAGkqANL0AEgzC0CaHgDh4/05M26ZW28c98fS66X/jztx8xoz6c7X1j6/vT5+A54L4rGo01pzAAABpHpUWHRTTUlMRVMgcmRraXQgMjAyMC4wOS4xAAB4nCWSS4rkQAxErzJLG9yJ/h+KXnnfdQjvZy7Qh59QlsFgnqVQKDLv98PPc9zyfR+PPn+P+/4xvMd93redjz3zqJ338f0+f1D3Ph/5ByYP//k9eJk45cWruaKvFy1TivJLFxmnXK8vXqRNdclKE4pNnM0cXcqtBSKry0RAiDsVRJd5e19fUCRp30VeRXahP0QzP9pAvZGGGBAt7lCX3alEDTVeIqE6qMktMFKWWbIPItVmhZyuYlEbFu46Q33+cly0hIPh5xVLu9Q/xlxh+pUruDlRZAFnm1ha9uTiLZCuFe3BCKGUSkaGqeOanSgxyFZVZaEjqbm3Z1YEibUxx2QsqxDXNdnwWEBNdzBWnW6ZTWl5eMLCly9V89yJOBS6pkyxxiclfDiyh3x57mOBbHZ+kHTLRiTFNp0SpAxkiFAspkrd3Daq6t5nVUA9LBbWQ+fEm4xcthrkdwhskkMcI8snBnYX3aSVBNfHwWWLIxAYNVyI5NoyTopinV3N9s3AKVmCVDiuw/n7H2NHlR7liluNAAAAAElFTkSuQmCC\" alt=\"Mol\"/></td>\n",
       "    </tr>\n",
       "    <tr>\n",
       "      <th>4</th>\n",
       "      <td>CHEMBL4063206</td>\n",
       "      <td>9.70</td>\n",
       "      <td>COc1cccc(N2CCN(c3nc(-c4ccncn4)cc(=O)n3C)[C@H](...</td>\n",
       "      <td><img data-content=\"rdkit/molecule\" src=\"data:image/png;base64,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\" alt=\"Mol\"/></td>\n",
       "    </tr>\n",
       "  </tbody>\n",
       "</table>\n",
       "</div>"
      ],
      "text/plain": [
       "  molecule_chembl_id  pIC50  \\\n",
       "0      CHEMBL2386094  10.89   \n",
       "1      CHEMBL3895998  10.00   \n",
       "2      CHEMBL4084855  10.00   \n",
       "3       CHEMBL564450   9.85   \n",
       "4      CHEMBL4063206   9.70   \n",
       "\n",
       "                                              smiles  \\\n",
       "0  O=C1NC(=O)C(c2cn3c4c(cc(F)cc24)CN(C(=O)N2CCOCC...   \n",
       "1     Nc1ncc(-c2ccccc2F)nc1C(=O)Nc1cnccc1N1CCC(N)CC1   \n",
       "2  COc1ccc(N2CCN(c3nc(-c4ccncn4)cc(=O)n3C)[C@H](C...   \n",
       "3  COc1cc(C2=C(c3cn(CCN4CCN(C)CC4)c4ccccc34)C(=O)...   \n",
       "4  COc1cccc(N2CCN(c3nc(-c4ccncn4)cc(=O)n3C)[C@H](...   \n",
       "\n",
       "                                               ROMol  \n",
       "0  <img data-content=\"rdkit/molecule\" src=\"data:i...  \n",
       "1  <img data-content=\"rdkit/molecule\" src=\"data:i...  \n",
       "2  <img data-content=\"rdkit/molecule\" src=\"data:i...  \n",
       "3  <img data-content=\"rdkit/molecule\" src=\"data:i...  \n",
       "4  <img data-content=\"rdkit/molecule\" src=\"data:i...  "
      ]
     },
     "execution_count": 54,
     "metadata": {},
     "output_type": "execute_result"
    }
   ],
   "source": [
    "PandasTools.AddMoleculeColumnToFrame(df_output, smilesCol='smiles')\n",
    "df_output.head()"
   ]
  },
  {
   "cell_type": "markdown",
   "metadata": {},
   "source": [
    "Now we can call any compound to see its 2D representation"
   ]
  },
  {
   "cell_type": "code",
   "execution_count": 55,
   "metadata": {},
   "outputs": [
    {
     "data": {
      "image/png": "[encoded data removed]",
      "text/plain": [
       "<rdkit.Chem.rdchem.Mol at 0x2c0a534a210>"
      ]
     },
     "execution_count": 55,
     "metadata": {},
     "output_type": "execute_result"
    }
   ],
   "source": [
    "df_output.ROMol.iloc[0]"
   ]
  },
  {
   "cell_type": "markdown",
   "metadata": {},
   "source": [
    "## Save the obtained dataframe\n",
    "\n",
    "It will save the dataframe as a csv file"
   ]
  },
  {
   "cell_type": "code",
   "execution_count": 56,
   "metadata": {},
   "outputs": [],
   "source": [
    "df_output.to_csv(f\"data/compounds_{uniprot_id}_full.csv\", index=0)"
   ]
  },
  {
   "cell_type": "markdown",
   "metadata": {},
   "source": [
    "## Practice Activity\n",
    "Taking into account what you have learned in this Notebook, answer:\n",
    "1. What other data can we obtain from ChEMBL of the target of interest?\n",
    "2. Could a new classification of the compounds be carried out filtering them only by the pEC50?, check it and observe the differences\n",
    "3. Obtain the known data of the compounds, referring to inhibition and activity."
   ]
  },
  {
   "cell_type": "markdown",
   "metadata": {},
   "source": [
    "## Conclusions\n",
    "In this practice, the ChEMBL database was used to obtain data on bioactive compounds against our target of interest. These extracted data in the form of dictionaries and lists were converted into a DataFrame which allows easy visualization of the information obtained. In addition, data from the bioactive compounds were obtained, DataFrames were combined, columns were renamed and a panda tool was used to add a new column to the constructed DataFrame."
   ]
  }
 ],
 "metadata": {
  "kernelspec": {
   "display_name": "Python 3",
   "language": "python",
   "name": "python3"
  },
  "language_info": {
   "codemirror_mode": {
    "name": "ipython",
    "version": 3
   },
   "file_extension": ".py",
   "mimetype": "text/x-python",
   "name": "python",
   "nbconvert_exporter": "python",
   "pygments_lexer": "ipython3",
   "version": "3.6.13"
  }
 },
 "nbformat": 4,
 "nbformat_minor": 4
}
