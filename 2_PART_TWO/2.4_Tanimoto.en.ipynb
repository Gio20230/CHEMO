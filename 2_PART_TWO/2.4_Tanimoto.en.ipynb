{
 "cells": [
  {
   "cell_type": "markdown",
   "id": "b2f41b30-1d46-4d9f-a8db-9e2055bbc905",
   "metadata": {},
   "source": [
    "# Practice: Statistical analysis of the Lipinski's rule of five\n",
    "\n",
    "## Theory\n",
    "\n",
    "### **Molecular fingerprints**\n",
    "Molecular fingerprints are essential cheminformatics tools for virtual screening and mapping chemical space. These is a way to describe a molecular structure that can convert a molecular structure into a bit string ([Seo, Shin, Myung, Hwang & No, 2020](https://doi.org/10.1186/s13321-020-0410-3)). Each bit corresponds to a predefined molecular feature or environment, where \"1\" represents the presence and \"0\" the absence of a feature. Since molecular fingerprint encodes the structure of a molecule, it is a useful method to describe the structural similarity among the molecules as a molecular descriptor. \n",
    "\n",
    "#### **Morgan fingerprints**\n",
    "The most popular molecular fingerprint is the Morgan fingerprint that is based on the Morgan algorithm.These algorithmm generated bits correspond to the circular environments of each atom in a molecule and the number of neighboring bonds and atoms to consider is set by the radius, which are predictive of the biological activities of small organic molecules ([Capecchi, Probst & Reymond, 2020](https://doi.org/10.1186/s13321-020-00445-4)).\n",
    "\n",
    "### **Molecular similarity measure: Tanimoto coefficient**\n",
    "Two such fingerprints are most commonly compared with the Tanimoto similarity metric. These metric take  a value between 0 and 1, with 1 corresponding to identical fingerprints ([Rácz, Bajusz & Héberger, 2018](https://doi.org/10.1186/s13321-018-0302-y))\n",
    "\n",
    "\n",
    "<img src=\"img/Tanimoto-coefficient-en.jpg\" alt=\"Tanimoto-coefficient\" width=\"800\"/>\n",
    "\n",
    "### **Clustering**\n",
    "Is the task of grouping a set of objects in such a way that objects in the same group (called a cluster) are more similar to each other than to those in other groups (clusters). Compound clustering in pharmaceutical research is often based on chemical or structural similarity between compounds to find groups that share properties.\n",
    "\n",
    "There are [key steps](https://www.sciencedirect.com/science/article/pii/B008045044X001474) in the clustering approach that we will folound:\n",
    "\n",
    "**1. Data preparation and compound encoding:**\n",
    "\n",
    "- The compounds in the input data will be encoded as molecular fingerprints.\n",
    "    \n",
    "**2. Tanimoto similarity (or distance) matrix:**\n",
    "\n",
    "- The similarity between two fingerprints is calculated using the Tanimoto coefficient.\n",
    "- Matrix with Tanimoto similarities between all possible molecule/fingerprint pairs (n * n similarity matrix with =number of molecules, upper triangle matrix used only).\n",
    "- Equally, the distances matrix can be calculated (1 - similarity).\n",
    "    \n",
    "**3. Clustering molecules**\n",
    "\n",
    "- The clustering result depends on the threshold chosen by the user:\n",
    "    - The smaller the distance value cut-off, the more similar the compounds are required to belong to one cluster.\n",
    "    - The higher the threshold (distance cutoff), the more molecules are considered as similar, you will have less clusters.\n",
    "    - The lower the threshold, the more small clusters and \"singletons\" appear."
   ]
  },
  {
   "cell_type": "markdown",
   "id": "c03c8a18-62a6-485f-a302-e3e2da6691f1",
   "metadata": {},
   "source": [
    "## Problem Statement\n",
    "We have a dataset with many compounds and we want to group them because similar compounds might bind to the same targets and show similar effects. From such a clustering, a diverse set of compounds can also be selected from a larger set of screening compounds for further experimental testing."
   ]
  },
  {
   "cell_type": "code",
   "execution_count": 2,
   "id": "15d1ccfb-87e6-490a-9253-83cca56421c6",
   "metadata": {
    "ExecuteTime": {
     "start_time": "2023-04-11T17:03:14.031732Z",
     "end_time": "2023-04-11T17:03:14.328556Z"
    }
   },
   "outputs": [],
   "source": [
    "# Import the necessary libraries\n",
    "from pathlib import Path\n",
    "import seaborn as sns\n",
    "import pandas as pd\n",
    "import numpy as np\n",
    "import matplotlib.pyplot as plt\n",
    "from rdkit import Chem, DataStructs\n",
    "from rdkit.ML.Cluster import Butina\n",
    "from rdkit.Chem import (\n",
    "    PandasTools,\n",
    "    Draw,\n",
    "    Descriptors,\n",
    "    rdFingerprintGenerator,\n",
    ")"
   ]
  },
  {
   "cell_type": "markdown",
   "id": "b62c4819-4f41-42e1-8c10-11cebe54de8e",
   "metadata": {},
   "source": [
    "## Load dataset of GSK3B\n",
    "The dataset contain the bioactive compounds against Glycogen synthase kinase-3 beta that we built in the tutorial 2.1_Dataframes. "
   ]
  },
  {
   "cell_type": "code",
   "execution_count": 4,
   "id": "55e9c0c6-9411-4d71-9cba-46b28610ab2c",
   "metadata": {
    "ExecuteTime": {
     "start_time": "2023-04-11T17:03:40.124223Z",
     "end_time": "2023-04-11T17:03:40.183087Z"
    }
   },
   "outputs": [
    {
     "name": "stdout",
     "output_type": "stream",
     "text": [
      "(2657, 3)\n"
     ]
    },
    {
     "data": {
      "text/plain": "  molecule_chembl_id  pchembl_value   \n0      CHEMBL2386094          10.89  \\\n1      CHEMBL3895998          10.00   \n2      CHEMBL4084855          10.00   \n3       CHEMBL564450           9.85   \n4      CHEMBL4063206           9.70   \n\n                                              smiles  \n0  O=C1NC(=O)C(c2cn3c4c(cc(F)cc24)CN(C(=O)N2CCOCC...  \n1     Nc1ncc(-c2ccccc2F)nc1C(=O)Nc1cnccc1N1CCC(N)CC1  \n2  COc1ccc(N2CCN(c3nc(-c4ccncn4)cc(=O)n3C)[C@H](C...  \n3  COc1cc(C2=C(c3cn(CCN4CCN(C)CC4)c4ccccc34)C(=O)...  \n4  COc1cccc(N2CCN(c3nc(-c4ccncn4)cc(=O)n3C)[C@H](...  ",
      "text/html": "<div>\n<style scoped>\n    .dataframe tbody tr th:only-of-type {\n        vertical-align: middle;\n    }\n\n    .dataframe tbody tr th {\n        vertical-align: top;\n    }\n\n    .dataframe thead th {\n        text-align: right;\n    }\n</style>\n<table border=\"1\" class=\"dataframe\">\n  <thead>\n    <tr style=\"text-align: right;\">\n      <th></th>\n      <th>molecule_chembl_id</th>\n      <th>pchembl_value</th>\n      <th>smiles</th>\n    </tr>\n  </thead>\n  <tbody>\n    <tr>\n      <th>0</th>\n      <td>CHEMBL2386094</td>\n      <td>10.89</td>\n      <td>O=C1NC(=O)C(c2cn3c4c(cc(F)cc24)CN(C(=O)N2CCOCC...</td>\n    </tr>\n    <tr>\n      <th>1</th>\n      <td>CHEMBL3895998</td>\n      <td>10.00</td>\n      <td>Nc1ncc(-c2ccccc2F)nc1C(=O)Nc1cnccc1N1CCC(N)CC1</td>\n    </tr>\n    <tr>\n      <th>2</th>\n      <td>CHEMBL4084855</td>\n      <td>10.00</td>\n      <td>COc1ccc(N2CCN(c3nc(-c4ccncn4)cc(=O)n3C)[C@H](C...</td>\n    </tr>\n    <tr>\n      <th>3</th>\n      <td>CHEMBL564450</td>\n      <td>9.85</td>\n      <td>COc1cc(C2=C(c3cn(CCN4CCN(C)CC4)c4ccccc34)C(=O)...</td>\n    </tr>\n    <tr>\n      <th>4</th>\n      <td>CHEMBL4063206</td>\n      <td>9.70</td>\n      <td>COc1cccc(N2CCN(c3nc(-c4ccncn4)cc(=O)n3C)[C@H](...</td>\n    </tr>\n  </tbody>\n</table>\n</div>"
     },
     "execution_count": 4,
     "metadata": {},
     "output_type": "execute_result"
    }
   ],
   "source": [
    "molecule_dataset = pd.read_csv(\"data/compounds_P49841_full.csv\",\n",
    "    usecols=[\"molecule_chembl_id\", \"smiles\", \"pchembl_value\"],\n",
    ")\n",
    "print(molecule_dataset.shape)\n",
    "molecule_dataset.head()"
   ]
  },
  {
   "cell_type": "markdown",
   "id": "91ae46a1-57cb-4cbc-a139-d5ca2d207c10",
   "metadata": {},
   "source": [
    "### Compare query molecule to all molecules in the data set\n",
    "\n",
    "Given one query molecule in this case Ruboxistaurin, we screen the data set for similar molecules."
   ]
  },
  {
   "cell_type": "markdown",
   "id": "b0b7dc14-db7b-4c32-9d57-d406ce2970e3",
   "metadata": {},
   "source": [
    "**Query:** For the query molecule Ruboxistaurin, generate the ROMol object from the query molecule's SMILES."
   ]
  },
  {
   "cell_type": "code",
   "execution_count": null,
   "id": "0da854b7-55da-4555-a40c-601f67b93a3f",
   "metadata": {},
   "outputs": [],
   "source": [
    "query = Chem.MolFromSmiles(\"CN(C)CC1CCN2C=C(C3=CC=CC=C32)C4=C(C5=CN(CCO1)C6=CC=CC=C65)C(=O)NC4=O\") # SMILES of Ruboxistaurin\n",
    "query"
   ]
  },
  {
   "cell_type": "markdown",
   "id": "44b9f83e-3576-42c9-8343-a818350a1a7e",
   "metadata": {},
   "source": [
    "Generate Morgan fingerprints for the query molecule Ruboxistaurin."
   ]
  },
  {
   "cell_type": "code",
   "execution_count": null,
   "id": "7f20ba19-996f-4eaf-b428-bcc1ac9e5780",
   "metadata": {},
   "outputs": [],
   "source": [
    "circular_fp_query = rdFingerprintGenerator.GetFPs([query])[0]\n",
    "\n",
    "# See the fingerprint as a bit\n",
    "circular_fp_query.ToBitString()"
   ]
  },
  {
   "cell_type": "markdown",
   "id": "599fb722-2453-4434-bbe0-71afbd241fc9",
   "metadata": {},
   "source": [
    "Generate Morgan fingerprints for all molecules in our dataset."
   ]
  },
  {
   "cell_type": "code",
   "execution_count": null,
   "id": "5b9fa8cd-6625-4d9d-93de-fe25ed6ef60a",
   "metadata": {},
   "outputs": [],
   "source": [
    "PandasTools.AddMoleculeColumnToFrame(molecule_dataset, \"smiles\")\n",
    "circular_fp_list = rdFingerprintGenerator.GetFPs(molecule_dataset[\"ROMol\"].tolist())"
   ]
  },
  {
   "cell_type": "markdown",
   "id": "404621c2-2a57-4cf6-952b-d3efce50d9f6",
   "metadata": {},
   "source": [
    "Calculate the Tanimoto similarity between the query molecule Ruboxistaurin and all molecules our dataset using Morgan fingerprints"
   ]
  },
  {
   "cell_type": "code",
   "execution_count": null,
   "id": "3934f306-8a27-4264-b703-679a40bb9075",
   "metadata": {},
   "outputs": [],
   "source": [
    "molecule_dataset[\"tanimoto_morgan\"] = DataStructs.BulkTanimotoSimilarity(circular_fp_query, circular_fp_list)\n",
    "molecule_dataset.head(3)"
   ]
  },
  {
   "cell_type": "code",
   "execution_count": null,
   "id": "6a8eaf50-e71b-41d2-8485-4e1e491123dc",
   "metadata": {},
   "outputs": [],
   "source": [
    "molecule_dataset.sort_values(by = [\"tanimoto_morgan\"], ascending=False, inplace=True)\n",
    "molecule_dataset.head(5)"
   ]
  },
  {
   "cell_type": "markdown",
   "id": "b2660767-4c4f-46fc-88b6-3dfa6d0f5cbc",
   "metadata": {},
   "source": [
    "So let's see the query and its most similar molecules"
   ]
  },
  {
   "cell_type": "code",
   "execution_count": null,
   "id": "770ef251-c4ea-4769-93e9-0396cf2499cb",
   "metadata": {},
   "outputs": [],
   "source": [
    "top_n_molecules = 3\n",
    "top_molecules = molecule_dataset[:top_n_molecules]\n",
    "legends = [\n",
    "    f\"#{index} {molecule['molecule_chembl_id']}\"\n",
    "    for index, molecule in top_molecules.iterrows()\n",
    "]\n",
    "Chem.Draw.MolsToGridImage(\n",
    "    mols=[query] + top_molecules[\"ROMol\"].tolist(),\n",
    "    legends=([\"Ruboxistaurin\"] + legends),\n",
    "    molsPerRow=4,\n",
    "    subImgSize=(250, 270),\n",
    ")"
   ]
  },
  {
   "cell_type": "markdown",
   "id": "2d276228-f5e8-460f-9682-57eb87994d23",
   "metadata": {},
   "source": [
    "**Now we can plot distribution of Tanimoto similarity**"
   ]
  },
  {
   "cell_type": "code",
   "execution_count": null,
   "id": "a33d2e33-667d-4efd-8427-04e4aef7f17c",
   "metadata": {},
   "outputs": [],
   "source": [
    "fig, axes = plt.subplots(figsize=(10, 6), nrows=1, ncols=1) # Set up the matplotlib figure\n",
    "molecule_dataset.hist([\"tanimoto_morgan\"], ax=axes, color = \"darkorchid\") # You can see more color name in the link https://www.w3schools.com/colors/colors_names.asp\n",
    "axes.set_xlabel(\"Similarity value\")\n",
    "axes.set_ylabel(\"# molecules\")\n",
    "fig;"
   ]
  },
  {
   "cell_type": "markdown",
   "id": "bb4a0f17-1079-450f-959d-09343500c606",
   "metadata": {},
   "source": [
    "We can also do a histogram with a kernel density estimates curve using seaborn. With this plot We can see how easier is the dataset distributed."
   ]
  },
  {
   "cell_type": "code",
   "execution_count": null,
   "id": "c425ba6c-2ccf-4139-921b-071cf30782aa",
   "metadata": {},
   "outputs": [],
   "source": [
    "sns.displot(\n",
    "    data=molecule_dataset[\"tanimoto_morgan\"], \n",
    "    kde=True,\n",
    "    height=8,\n",
    "    aspect=2,\n",
    "    color=\"darkorchid\",\n",
    ")"
   ]
  },
  {
   "cell_type": "markdown",
   "id": "92da384f-10c2-4ec4-8187-8be125a85c1d",
   "metadata": {},
   "source": [
    "### Clustering\n",
    "Now we are going to make clusters with the Tanomoto distance between the compounds (without a reference or query compound). For these we adapted the tutorial from [T005 · Compound clustering](https://github.com/volkamerlab/teachopencadd/blob/master/teachopencadd/talktorials/T005_compound_clustering/talktorial.ipynb)"
   ]
  },
  {
   "cell_type": "markdown",
   "id": "cc5b8848-3bff-47b0-922f-e0698688aabe",
   "metadata": {},
   "source": [
    "**1. Data preparation and compound encoding**"
   ]
  },
  {
   "cell_type": "code",
   "execution_count": null,
   "id": "e37c727e-a489-454d-873b-93d4b812797f",
   "metadata": {},
   "outputs": [],
   "source": [
    "compound_df = pd.read_csv(\n",
    "    'data/compounds_P49841_full.csv',\n",
    "    usecols=[\"molecule_chembl_id\", \"smiles\", \"pIC50\"]\n",
    ")\n",
    "print(compound_df.shape)\n",
    "compound_df.head()"
   ]
  },
  {
   "cell_type": "code",
   "execution_count": null,
   "id": "ab145092-100a-4d6b-b847-5ec3527b075f",
   "metadata": {},
   "outputs": [],
   "source": [
    "# Create molecules from SMILES and store in array\n",
    "compounds = []\n",
    "\n",
    "# note how we are slicing the dataframe to only the two columns we need now\n",
    "for _, chembl_id, smiles in compound_df[[\"molecule_chembl_id\", \"smiles\"]].itertuples():   # .itertuples() returns a tuple per row\n",
    "    compounds.append((Chem.MolFromSmiles(smiles), chembl_id))\n",
    "compounds[:5]"
   ]
  },
  {
   "cell_type": "markdown",
   "id": "78caa5b6-64c3-4f8f-b831-45c8257a0444",
   "metadata": {},
   "source": [
    "We will calculate the circular Morgan fingerprints with rdkit. The Morgan fingerprint can be calculated either as int or bit vector. By default the radius is 2 and the vector is 2048 long."
   ]
  },
  {
   "cell_type": "code",
   "execution_count": null,
   "id": "bcee6a3d-caf6-4555-88c5-1481454ee115",
   "metadata": {},
   "outputs": [],
   "source": [
    "# Create fingerprints for all molecules as bit vector\n",
    "rdkit_gen = rdFingerprintGenerator.GetRDKitFPGenerator(maxPath=5)\n",
    "fingerprints = [rdkit_gen.GetFingerprint(mol) for mol, idx in compounds]\n",
    "fingerprints[:5]"
   ]
  },
  {
   "cell_type": "markdown",
   "id": "a8f1a511-9463-4e68-b21b-59d1af3a9811",
   "metadata": {},
   "source": [
    "**2. Tanimoto similarity and distance matrix**"
   ]
  },
  {
   "cell_type": "markdown",
   "id": "c4477895-5336-47bd-8460-d59a9538507b",
   "metadata": {},
   "source": [
    "We will define functions to calculate the Tanimoto similarity and similarity matrix."
   ]
  },
  {
   "cell_type": "code",
   "execution_count": null,
   "id": "7f1edd8a-9a88-4451-8a18-1fc8453d2b0f",
   "metadata": {},
   "outputs": [],
   "source": [
    "def tanimoto_matrix(fp_list):\n",
    "    # Create a identity matrix whose diagonal is 0.5\n",
    "    similarity_matrix = 0.5*np.identity(len(fp_list))\n",
    "    for ind, i in enumerate(fp_list):\n",
    "        # Compare the current fingerprint against all the previous ones in the list\n",
    "        similarities = DataStructs.BulkTanimotoSimilarity(i, fp_list[:ind])\n",
    "        # Create a vector with the Tanimoto coefficient and zeros\n",
    "        n_zeros = len(fp_list) - len(similarities)\n",
    "        similarities.extend(np.zeros(n_zeros))\n",
    "        # Take the vector with the Tanimoto coefficiente and zeros and arrange it in the matrix\n",
    "        similarity_matrix[ind] = similarity_matrix[ind] + similarities\n",
    "    # Addition the constructed matrix and its transpose (swap rows for columns)\n",
    "    return similarity_matrix + similarity_matrix.T"
   ]
  },
  {
   "cell_type": "code",
   "execution_count": null,
   "id": "d35db46b",
   "metadata": {
    "collapsed": false,
    "jupyter": {
     "outputs_hidden": false
    }
   },
   "outputs": [],
   "source": [
    "similarity_matrix = tanimoto_matrix(fingerprints[0:10]) # Only for the first 10 compounds\n",
    "ax = sns.heatmap(similarity_matrix, annot=True, fmt='.2f') # annot= True print the Tanimoto coefficient and fmt='.2f' it gives me only two decimals \n",
    "ax.set(xlabel=\"\", ylabel=\"\")\n",
    "ax.xaxis.tick_top()"
   ]
  },
  {
   "cell_type": "code",
   "execution_count": null,
   "id": "0b879246",
   "metadata": {
    "collapsed": false,
    "jupyter": {
     "outputs_hidden": false
    }
   },
   "outputs": [],
   "source": [
    "similarity_matrix = tanimoto_matrix(fingerprints)\n",
    "ax = sns.heatmap(similarity_matrix)\n",
    "ax.set(xlabel=\"\", ylabel=\"\")\n",
    "ax.xaxis.tick_top()"
   ]
  },
  {
   "cell_type": "markdown",
   "id": "89eabe94-9155-4646-8074-f65144e93aa7",
   "metadata": {},
   "source": [
    "**3. Clustering** "
   ]
  },
  {
   "cell_type": "markdown",
   "id": "46470ada-c0f6-4cf6-ab78-3630eb457803",
   "metadata": {},
   "source": [
    "Now we will define a clustering fuction"
   ]
  },
  {
   "cell_type": "code",
   "execution_count": null,
   "id": "b8358e87-24e5-4f74-96bf-f3e5a917eb92",
   "metadata": {},
   "outputs": [],
   "source": [
    "def tanimoto_distance_matrix(fp_list):\n",
    "    \"\"\"Calculate distance matrix for fingerprint list\"\"\"\n",
    "    dissimilarity_matrix = []\n",
    "    # Notice how we are deliberately skipping the first and last items in the list\n",
    "    # because we don't need to compare them against themselves\n",
    "    for i in range(1, len(fp_list)):\n",
    "        # Compare the current fingerprint against all the previous ones in the list\n",
    "        similarities = DataStructs.BulkTanimotoSimilarity(fp_list[i], fp_list[:i])\n",
    "        # Since we need a distance matrix, calculate 1-x for every element in similarity matrix\n",
    "        dissimilarity_matrix.extend([1 - x for x in similarities])\n",
    "    return dissimilarity_matrix\n",
    "\n",
    "def cluster_fingerprints(fingerprints, cutoff=0.2):\n",
    "    # Calculate Tanimoto distance matrix\n",
    "    distance_matrix = tanimoto_distance_matrix(fingerprints)\n",
    "    # Now cluster the data with the implemented Butina algorithm:\n",
    "    clusters = Butina.ClusterData(distance_matrix, len(fingerprints), cutoff, isDistData=True)\n",
    "    clusters = sorted(clusters, key=len, reverse=True)\n",
    "    return clusters"
   ]
  },
  {
   "cell_type": "code",
   "execution_count": null,
   "id": "1c64ec79-bb3a-405b-8193-6ebfee640673",
   "metadata": {},
   "outputs": [],
   "source": [
    "# Run the clustering procedure for the dataset\n",
    "clusters = cluster_fingerprints(fingerprints, cutoff=0.2)"
   ]
  },
  {
   "cell_type": "markdown",
   "id": "f887fc7b-51ff-4013-a970-832bc9bfca7b",
   "metadata": {},
   "source": [
    "We can have a short report about the numbers of clusters and their sizes"
   ]
  },
  {
   "cell_type": "code",
   "execution_count": null,
   "id": "01025531-4bd5-4c66-83c3-a584c592f5b9",
   "metadata": {},
   "outputs": [],
   "source": [
    "num_clust_g1 = sum(1 for c in clusters if len(c) == 1)\n",
    "num_clust_g5 = sum(1 for c in clusters if len(c) > 5)\n",
    "num_clust_g25 = sum(1 for c in clusters if len(c) > 25)\n",
    "num_clust_g100 = sum(1 for c in clusters if len(c) > 100)\n",
    "\n",
    "print(\"total # clusters: \", len(clusters))\n",
    "print(\"# clusters with only 1 compound: \", num_clust_g1)\n",
    "print(\"# clusters with >5 compounds: \", num_clust_g5)\n",
    "print(\"# clusters with >25 compounds: \", num_clust_g25)\n",
    "print(\"# clusters with >100 compounds: \", num_clust_g100)"
   ]
  },
  {
   "cell_type": "markdown",
   "id": "52f91ab8-c416-4d09-b719-811fd3efb875",
   "metadata": {},
   "source": [
    "Also we can plot the size of the clusters"
   ]
  },
  {
   "cell_type": "code",
   "execution_count": null,
   "id": "a2240a45-cb9f-431b-866f-51da897b807b",
   "metadata": {},
   "outputs": [],
   "source": [
    "fig, ax = plt.subplots(figsize=(15, 4)) # Set up the matplotlib figure\n",
    "ax.set_title(f\"Threshold: 0.2\")\n",
    "ax.set_xlabel(\"Cluster index\")\n",
    "ax.set_ylabel(\"Number of molecules\")\n",
    "ax.bar(range(1, len(clusters) + 1), [len(c) for c in clusters], lw=5, color=\"mediumseagreen\");"
   ]
  },
  {
   "cell_type": "markdown",
   "id": "96aac884-af35-4aeb-8b1d-4c84edf60e00",
   "metadata": {},
   "source": [
    "As we see in the theory the clustering result depends on the threshold chosen, so lets visualize diferrents cutoff"
   ]
  },
  {
   "cell_type": "code",
   "execution_count": null,
   "id": "e8646d6d-a8c2-4249-b41c-1c2a34ccfd7a",
   "metadata": {},
   "outputs": [],
   "source": [
    "for cutoff in np.arange(0.0, 1.0, 0.2):\n",
    "    clusters = cluster_fingerprints(fingerprints, cutoff=cutoff)\n",
    "    fig, ax = plt.subplots(figsize=(15, 4))  # Set up the matplotlib figure\n",
    "    ax.set_title(f\"Threshold: {cutoff:3.1f}\")\n",
    "    ax.set_xlabel(\"Cluster index\")\n",
    "    ax.set_ylabel(\"Number of molecules\")\n",
    "    ax.bar(range(1, len(clusters) + 1), [len(c) for c in clusters], lw=5, color=\"mediumseagreen\")\n",
    "    plt.show()\n",
    "    plt.close()"
   ]
  },
  {
   "cell_type": "markdown",
   "id": "1f8c6ed3-57f3-4fac-b3a5-7c0bd72d1b40",
   "metadata": {},
   "source": [
    "With the plots above, we can see that the best two distance thresholds are 0.2 and 0.4, they have not many singletons and the cluster sizes don't have an extreme but smooth distribution. But lets have a short report about the numbers of clusters and their sizes in order to decide the cut-off distance."
   ]
  },
  {
   "cell_type": "code",
   "execution_count": null,
   "id": "134f952c-ff67-4961-a364-0f264a74c264",
   "metadata": {},
   "outputs": [],
   "source": [
    "cutoff = 0.2\n",
    "cluster_02 = cluster_fingerprints(fingerprints, cutoff=cutoff)\n",
    "\n",
    "# Plot the size of the clusters\n",
    "fig, ax = plt.subplots(figsize=(15, 4)) # Set up the matplotlib figure\n",
    "ax.set_xlabel(\"Cluster index\")\n",
    "ax.set_ylabel(\"# molecules\")\n",
    "ax.bar(range(1, len(cluster_02) + 1), [len(c) for c in cluster_02])\n",
    "ax.set_title(f\"Threshold: {cutoff:3.1f}\")\n",
    "\n",
    "print(f\"Number of clusters: {len(cluster_02)} from {len(compounds)} molecules at distance cut-off 0.2\")\n",
    "print(\"Number of molecules in largest cluster:\", len(cluster_02[0]))\n",
    "print(\"# clusters with only 1 compound: \", num_clust_g1)\n",
    "print(\"# clusters with >5 compounds: \", num_clust_g5)\n",
    "print(\"# clusters with >25 compounds: \", num_clust_g25)\n",
    "print(\"# clusters with >100 compounds: \", num_clust_g100)"
   ]
  },
  {
   "cell_type": "code",
   "execution_count": null,
   "id": "042e797a-1b7e-46c1-9e13-3979c975f672",
   "metadata": {},
   "outputs": [],
   "source": [
    "cutoff = 0.4\n",
    "cluster_04 = cluster_fingerprints(fingerprints, cutoff=cutoff)\n",
    "\n",
    "# Plot the size of the clusters - save plot\n",
    "fig, ax = plt.subplots(figsize=(15, 4)) # Set up the matplotlib figure\n",
    "ax.set_xlabel(\"Cluster index\")\n",
    "ax.set_ylabel(\"# molecules\")\n",
    "ax.bar(range(1, len(cluster_04) + 1), [len(c) for c in cluster_04])\n",
    "ax.set_title(f\"Threshold: {cutoff:3.1f}\")\n",
    "\n",
    "print(f\"Number of clusters: {len(cluster_04)} from {len(compounds)} molecules at distance cut-off 0.4\")\n",
    "print(\"Number of molecules in largest cluster:\", len(cluster_04[0]))\n",
    "print(\"# clusters with only 1 compound: \", num_clust_g1)\n",
    "print(\"# clusters with >5 compounds: \", num_clust_g5)\n",
    "print(\"# clusters with >25 compounds: \", num_clust_g25)\n",
    "print(\"# clusters with >100 compounds: \", num_clust_g100)"
   ]
  },
  {
   "cell_type": "markdown",
   "id": "244bed43-291f-415d-9804-911ee0f848cf",
   "metadata": {},
   "source": [
    "We can see that the main difference between the cut-off distance of 0.2 and 0.4 is the total number of clusters. So in this case we will choose a distance threshold of 0.2 because let´s remember that the smaller the distance value cut-off, the more similar the compounds are required to belong to one cluster."
   ]
  },
  {
   "cell_type": "markdown",
   "id": "bfc5ec61-aaeb-49e7-9582-0429c818bdad",
   "metadata": {},
   "source": [
    "**Now, let's have a closer look at the first 5 molecular structures of the first/largest clusters.**"
   ]
  },
  {
   "cell_type": "code",
   "execution_count": null,
   "id": "8f333f5a-7ae5-48d1-8e10-f86821b44f60",
   "metadata": {},
   "outputs": [],
   "source": [
    "print(\"Five molecules from largest cluster:\")\n",
    "# Draw molecules\n",
    "Draw.MolsToGridImage(\n",
    "    [compounds[i][0] for i in cluster_02[0][:5]],\n",
    "    legends=[compounds[i][1] for i in cluster_02[0][:5]],\n",
    "    molsPerRow=5,\n",
    ")"
   ]
  },
  {
   "cell_type": "markdown",
   "id": "73c44b48-58fe-4d30-86c2-466115eaffbb",
   "metadata": {},
   "source": [
    "For comparison, we can have a look at the cluster centers of the first 10 clusters."
   ]
  },
  {
   "cell_type": "code",
   "execution_count": null,
   "id": "30cceaa8-9146-4ba6-942b-aed5ac87e49f",
   "metadata": {},
   "outputs": [],
   "source": [
    "print(\"Ten molecules from first 10 clusters:\")\n",
    "# Draw molecules\n",
    "Draw.MolsToGridImage(\n",
    "    [compounds[cluster_02[i][0]][0] for i in range(10)],\n",
    "    legends=[compounds[cluster_02[i][0]][1] for i in range(10)],\n",
    "    molsPerRow=5,\n",
    ")"
   ]
  },
  {
   "cell_type": "markdown",
   "id": "8cba89d4-c226-470c-ab54-6b15d84ecd40",
   "metadata": {},
   "source": [
    "## Practical activity\n",
    "\n",
    "Taking into account what you have learned in this Notebook, answer:\n",
    "1. Visualize diferrents cutoff with an interval of 0.1 between each\n",
    "2. Select a different and appropriate threshold and visualize the clusters centers of the first 10 clusters."
   ]
  },
  {
   "cell_type": "markdown",
   "id": "6b495654-1284-4356-b30c-62cb1a0a51f8",
   "metadata": {},
   "source": [
    "## Conclusion\n",
    "\n",
    "In this practice, we have learned about how to use fingerprints and similarity measures to compare a query molecule with a dataset of molecules and rank the molecule by similarity. Also, we have lerned about clustering a compound dataset and discussed how to pick a reasonable clustering threshold."
   ]
  },
  {
   "cell_type": "code",
   "execution_count": null,
   "outputs": [],
   "source": [
    "# TODO: sort cluster"
   ],
   "metadata": {
    "collapsed": false
   }
  }
 ],
 "metadata": {
  "kernelspec": {
   "display_name": "Python 3",
   "language": "python",
   "name": "python3"
  },
  "language_info": {
   "codemirror_mode": {
    "name": "ipython",
    "version": 3
   },
   "file_extension": ".py",
   "mimetype": "text/x-python",
   "name": "python",
   "nbconvert_exporter": "python",
   "pygments_lexer": "ipython3",
   "version": "3.6.13"
  }
 },
 "nbformat": 4,
 "nbformat_minor": 5
}
