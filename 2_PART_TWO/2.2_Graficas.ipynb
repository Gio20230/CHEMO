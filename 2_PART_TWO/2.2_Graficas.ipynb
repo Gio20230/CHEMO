{
 "cells": [
  {
   "cell_type": "markdown",
   "id": "009257ad",
   "metadata": {
    "pycharm": {
     "name": "#%% md\n"
    }
   },
   "source": [
    "# Practice: Statistical analysis of the Lipinski's rule of five\n",
    "\n",
    "## Theory\n",
    "\n",
    "### **Pharmacokinetics**\n",
    "\n",
    "Pharmacokinetics are the study of what happens to a compound in an organism over a period of time ([Grogan S, Preuss CV. Pharmacokinetics, 2022](https://www.ncbi.nlm.nih.gov/books/NBK557744/)). It is divide into four steps: **A**bsorption, **D**istribution, **M**etabolism and **E**xcretion ([ADME](https://www.ncbi.nlm.nih.gov/pmc/articles/PMC4110820/)). Some times also is includes **T**oxicology (ADMET) and **L**iberation (LADME).\n",
    "\n",
    " \n",
    "![ADME](Data/ADME.jpg)\n",
    "\n",
    "*Figure 1*. Steps that make up the pharmacokinetics. From: [Somvanshi, Kharat, Jadhav, Thorat & Townley, 2021](https://doi.org/10.1016/B978-0-323-85050-6.00007-4)\n",
    "\n",
    "   * **Absorption:** It refers to the amount and time it takes for a compound or substance to enter to the systemic circulationt from the site of administration. This depends on multiple factors such as the ability of the compound to penetrate the intestinal wall, the solubility of the compound, the gastric emptying time, the chemical stability of the compound in the stomach, among others.\n",
    "   * **Distribution:** It refers to how a substance is spread throughout the body. This depends on the diffusion and convection which may be influenced by the polarity, size, or binding abilities of the drug, the fluid status of the patient, or the body habitus of the individual. It is very important to achieve the effective drug concentration in the receptor site because to be effective a medication must reach its designated compartmental destination.\n",
    "   * **Metabolism:** It refers to the processing of the drug by the body into subsequent compounds. It can be also to convert a drug  into more water-soluble substances in order to be more easily to excreted or in the case of prodrugs the metabolism is required to convert the drug into active metabolites.\n",
    "   * **Excretion:** It refers to the process by which the drug is eliminated from the body. Generally the kidneys are the conduct of excretion by a passive filtration in the glomerulus or secretion in the tubules.\n",
    "\n",
    "### **Lipinski's rule of five:**\n",
    "\n",
    "The Lipinski's rule of five is one way to screen out compounds with probable absorption problems. This rule states that poor absorption or permeation of a drug is more probable when the chemical structure fulfils two or more of the [following criteria:](https://www.sciencedirect.com/science/article/pii/B008045044X001474)\n",
    "1. Molecular weight (MW) is greater than 500.\n",
    "2. The calculated log P value is above 5.\n",
    "3. There are more than 5 hydrogen bond donors (–NH–, –OH).\n",
    "4. The number of hydrogen bond acceptors (–N ¼ , –O–) is greater than 10.\n",
    "\n",
    "It is importat to know that the rule of five e does not definitively categorize all well and poorly absorbed compounds, although it is simple, fast, and provides a reasonable degree of classification."
   ]
  },
  {
   "cell_type": "markdown",
   "id": "67d027cf",
   "metadata": {
    "pycharm": {
     "name": "#%% md\n"
    }
   },
   "source": [
    "## Problem Statement\n",
    "\n",
    "For an investigation of a new drug we want to know if it is really absorbed by the body, if it is able to cross certain barriers to reach his target, how is it metabolized and how is excreted from the body. In this way doctors will have greater flexibility in prescribing and administering medications thus providing greater benefit with less risk and making adjustments as necessary, given the varied physiology and lifestyles of patients.\n",
    "\n",
    "In order to know the absorption of the compounds we will use bioinformatic tools to be able to calculate Lipinski's rule of five and then we will calculate some statistics to plot them and analyze."
   ]
  },
  {
   "cell_type": "markdown",
   "id": "7d27fbcb",
   "metadata": {
    "pycharm": {
     "name": "#%% md\n"
    }
   },
   "source": [
    "## Import the necessary libraries"
   ]
  },
  {
   "cell_type": "code",
   "execution_count": 1,
   "id": "cce26c56",
   "metadata": {
    "pycharm": {
     "name": "#%%\n"
    }
   },
   "outputs": [],
   "source": [
    "from rdkit import Chem\n",
    "from rdkit.Chem import Descriptors\n",
    "import pandas as pd\n",
    "from rdkit.Chem import Draw\n",
    "import numpy as np\n",
    "\n",
    "import matplotlib.pyplot as plt\n",
    "import matplotlib.patches as mpatches\n",
    "from matplotlib.lines import Line2D\n",
    "from math import pi"
   ]
  },
  {
   "cell_type": "markdown",
   "id": "f2296d49",
   "metadata": {
    "pycharm": {
     "name": "#%% md\n"
    }
   },
   "source": [
    "## Load dataset of GSK3B"
   ]
  },
  {
   "cell_type": "code",
   "execution_count": 4,
   "id": "97ea431c",
   "metadata": {
    "scrolled": true,
    "pycharm": {
     "name": "#%%\n"
    }
   },
   "outputs": [
    {
     "name": "stdout",
     "output_type": "stream",
     "text": [
      "(2559, 3)\n"
     ]
    },
    {
     "data": {
      "text/html": [
       "<div>\n",
       "<style scoped>\n",
       "    .dataframe tbody tr th:only-of-type {\n",
       "        vertical-align: middle;\n",
       "    }\n",
       "\n",
       "    .dataframe tbody tr th {\n",
       "        vertical-align: top;\n",
       "    }\n",
       "\n",
       "    .dataframe thead th {\n",
       "        text-align: right;\n",
       "    }\n",
       "</style>\n",
       "<table border=\"1\" class=\"dataframe\">\n",
       "  <thead>\n",
       "    <tr style=\"text-align: right;\">\n",
       "      <th></th>\n",
       "      <th>pvalue</th>\n",
       "      <th>smiles</th>\n",
       "      <th>ROMol</th>\n",
       "    </tr>\n",
       "    <tr>\n",
       "      <th>molecule_chembl_id</th>\n",
       "      <th></th>\n",
       "      <th></th>\n",
       "      <th></th>\n",
       "    </tr>\n",
       "  </thead>\n",
       "  <tbody>\n",
       "    <tr>\n",
       "      <th>CHEMBL564450</th>\n",
       "      <td>9.85</td>\n",
       "      <td>COc1cc(C2=C(c3cn(CCN4CCN(C)CC4)c4ccccc34)C(=O)...</td>\n",
       "      <td>&lt;img data-content=\"rdkit/molecule\" src=\"data:i...</td>\n",
       "    </tr>\n",
       "    <tr>\n",
       "      <th>CHEMBL2386090</th>\n",
       "      <td>9.70</td>\n",
       "      <td>O=C1NC(=O)C(c2cn3c4c(cccc24)CN(C(=O)c2cnccn2)C...</td>\n",
       "      <td>&lt;img data-content=\"rdkit/molecule\" src=\"data:i...</td>\n",
       "    </tr>\n",
       "    <tr>\n",
       "      <th>CHEMBL4063206</th>\n",
       "      <td>9.70</td>\n",
       "      <td>COc1cccc(N2CCN(c3nc(-c4ccncn4)cc(=O)n3C)[C@H](...</td>\n",
       "      <td>&lt;img data-content=\"rdkit/molecule\" src=\"data:i...</td>\n",
       "    </tr>\n",
       "    <tr>\n",
       "      <th>CHEMBL3963605</th>\n",
       "      <td>9.70</td>\n",
       "      <td>Nc1ncc(-c2ccccc2)nc1C(=O)Nc1cnccc1N1CCC(N)CC1</td>\n",
       "      <td>&lt;img data-content=\"rdkit/molecule\" src=\"data:i...</td>\n",
       "    </tr>\n",
       "    <tr>\n",
       "      <th>CHEMBL3942619</th>\n",
       "      <td>9.70</td>\n",
       "      <td>COc1ccc(-c2cnc(N)c(C(=O)Nc3cnccc3N3CCC(N)CC3)n...</td>\n",
       "      <td>&lt;img data-content=\"rdkit/molecule\" src=\"data:i...</td>\n",
       "    </tr>\n",
       "  </tbody>\n",
       "</table>\n",
       "</div>"
      ],
      "text/plain": [
       "                    pvalue                                             smiles  \\\n",
       "molecule_chembl_id                                                              \n",
       "CHEMBL564450          9.85  COc1cc(C2=C(c3cn(CCN4CCN(C)CC4)c4ccccc34)C(=O)...   \n",
       "CHEMBL2386090         9.70  O=C1NC(=O)C(c2cn3c4c(cccc24)CN(C(=O)c2cnccn2)C...   \n",
       "CHEMBL4063206         9.70  COc1cccc(N2CCN(c3nc(-c4ccncn4)cc(=O)n3C)[C@H](...   \n",
       "CHEMBL3963605         9.70      Nc1ncc(-c2ccccc2)nc1C(=O)Nc1cnccc1N1CCC(N)CC1   \n",
       "CHEMBL3942619         9.70  COc1ccc(-c2cnc(N)c(C(=O)Nc3cnccc3N3CCC(N)CC3)n...   \n",
       "\n",
       "                                                                ROMol  \n",
       "molecule_chembl_id                                                     \n",
       "CHEMBL564450        <img data-content=\"rdkit/molecule\" src=\"data:i...  \n",
       "CHEMBL2386090       <img data-content=\"rdkit/molecule\" src=\"data:i...  \n",
       "CHEMBL4063206       <img data-content=\"rdkit/molecule\" src=\"data:i...  \n",
       "CHEMBL3963605       <img data-content=\"rdkit/molecule\" src=\"data:i...  \n",
       "CHEMBL3942619       <img data-content=\"rdkit/molecule\" src=\"data:i...  "
      ]
     },
     "execution_count": 4,
     "metadata": {},
     "output_type": "execute_result"
    }
   ],
   "source": [
    "comp_def = pd.read_csv('data/GSK3B_compounds.csv', index_col=0)\n",
    "print(comp_def.shape)\n",
    "comp_def.head()"
   ]
  },
  {
   "cell_type": "markdown",
   "id": "5080dd7d",
   "metadata": {
    "pycharm": {
     "name": "#%% md\n"
    }
   },
   "source": [
    "## Lipinski's rule of five"
   ]
  },
  {
   "cell_type": "code",
   "execution_count": 6,
   "id": "828a7114",
   "metadata": {
    "pycharm": {
     "name": "#%%\n"
    }
   },
   "outputs": [],
   "source": [
    "def df_rule_5(df):\n",
    "    \n",
    "    smi = df['smiles']\n",
    "    m = Chem.MolFromSmiles(smi)\n",
    "    \n",
    "    # Calculate rule of five chemical properties\n",
    "    MW = Descriptors.ExactMolWt(m)\n",
    "    HBA = Descriptors.NumHAcceptors(m)\n",
    "    HBD = Descriptors.NumHDonors(m)\n",
    "    LogP = Descriptors.MolLogP(m)\n",
    "    \n",
    "    # Rule of five conditions\n",
    "    conditions = [MW <= 500, HBA <= 10, HBD <= 5, LogP <= 5]\n",
    "    \n",
    "    # Create pandas row for conditions results with values and information whether rule of five is violated \n",
    "    return pd.Series([MW, HBA, HBD, LogP, 'yes']) if conditions.count(True) >= 3 else pd.Series([MW, HBA, HBD, LogP, 'no'])\n",
    "\n"
   ]
  },
  {
   "cell_type": "markdown",
   "id": "5a3d275b",
   "metadata": {
    "pycharm": {
     "name": "#%% md\n"
    }
   },
   "source": [
    "Now we are going to apply Lipinski's rule of 5 to our data set"
   ]
  },
  {
   "cell_type": "code",
   "execution_count": 7,
   "id": "001b3d2e",
   "metadata": {
    "pycharm": {
     "name": "#%%\n"
    }
   },
   "outputs": [
    {
     "name": "stdout",
     "output_type": "stream",
     "text": [
      "# of compounds in unfiltered data set: 2559\n"
     ]
    }
   ],
   "source": [
    "rule5_df = comp_def.apply(df_rule_5, axis=1)\n",
    "print('# of compounds in unfiltered data set:', len(comp_def))"
   ]
  },
  {
   "cell_type": "code",
   "execution_count": 8,
   "id": "34b2e72a",
   "metadata": {
    "pycharm": {
     "name": "#%%\n"
    }
   },
   "outputs": [],
   "source": [
    "# Name condition columns\n",
    "rule5_df.columns= ['MW', 'HBA', 'HBD', 'LogP', 'rule_of_five_conform']"
   ]
  },
  {
   "cell_type": "code",
   "execution_count": 9,
   "id": "41e41ab0",
   "metadata": {
    "pycharm": {
     "name": "#%%\n"
    }
   },
   "outputs": [],
   "source": [
    "# Concatenate dataset with computed values\n",
    "comp_def = comp_def.join(rule5_df)"
   ]
  },
  {
   "cell_type": "code",
   "execution_count": 10,
   "id": "cb363dfd",
   "metadata": {
    "pycharm": {
     "name": "#%%\n"
    }
   },
   "outputs": [
    {
     "name": "stdout",
     "output_type": "stream",
     "text": [
      "# of compounds in filtered data set: 2385\n",
      "# of compounds not compliant with Lipinski's rule of five: 174\n"
     ]
    }
   ],
   "source": [
    "# Delete empty rows --> rule of five\n",
    "fil_df = comp_def[comp_def['rule_of_five_conform']=='yes']\n",
    "print('# of compounds in filtered data set:', len(fil_df))\n",
    "print(\"# of compounds not compliant with Lipinski's rule of five:\", (len(comp_def)-len(fil_df)))"
   ]
  },
  {
   "cell_type": "markdown",
   "id": "8ec4fa5b",
   "metadata": {
    "pycharm": {
     "name": "#%% md\n"
    }
   },
   "source": [
    "Now we will save the filtered data"
   ]
  },
  {
   "cell_type": "code",
   "execution_count": 11,
   "id": "e83de2a4",
   "metadata": {
    "pycharm": {
     "name": "#%%\n"
    }
   },
   "outputs": [
    {
     "data": {
      "text/html": [
       "<div>\n",
       "<style scoped>\n",
       "    .dataframe tbody tr th:only-of-type {\n",
       "        vertical-align: middle;\n",
       "    }\n",
       "\n",
       "    .dataframe tbody tr th {\n",
       "        vertical-align: top;\n",
       "    }\n",
       "\n",
       "    .dataframe thead th {\n",
       "        text-align: right;\n",
       "    }\n",
       "</style>\n",
       "<table border=\"1\" class=\"dataframe\">\n",
       "  <thead>\n",
       "    <tr style=\"text-align: right;\">\n",
       "      <th></th>\n",
       "      <th>pvalue</th>\n",
       "      <th>smiles</th>\n",
       "      <th>ROMol</th>\n",
       "      <th>MW</th>\n",
       "      <th>HBA</th>\n",
       "      <th>HBD</th>\n",
       "      <th>LogP</th>\n",
       "      <th>rule_of_five_conform</th>\n",
       "    </tr>\n",
       "    <tr>\n",
       "      <th>molecule_chembl_id</th>\n",
       "      <th></th>\n",
       "      <th></th>\n",
       "      <th></th>\n",
       "      <th></th>\n",
       "      <th></th>\n",
       "      <th></th>\n",
       "      <th></th>\n",
       "      <th></th>\n",
       "    </tr>\n",
       "  </thead>\n",
       "  <tbody>\n",
       "    <tr>\n",
       "      <th>CHEMBL564450</th>\n",
       "      <td>9.85</td>\n",
       "      <td>COc1cc(C2=C(c3cn(CCN4CCN(C)CC4)c4ccccc34)C(=O)...</td>\n",
       "      <td>&lt;img data-content=\"rdkit/molecule\" src=\"data:i...</td>\n",
       "      <td>484.211055</td>\n",
       "      <td>7</td>\n",
       "      <td>1</td>\n",
       "      <td>3.2107</td>\n",
       "      <td>yes</td>\n",
       "    </tr>\n",
       "    <tr>\n",
       "      <th>CHEMBL2386090</th>\n",
       "      <td>9.70</td>\n",
       "      <td>O=C1NC(=O)C(c2cn3c4c(cccc24)CN(C(=O)c2cnccn2)C...</td>\n",
       "      <td>&lt;img data-content=\"rdkit/molecule\" src=\"data:i...</td>\n",
       "      <td>489.143704</td>\n",
       "      <td>7</td>\n",
       "      <td>1</td>\n",
       "      <td>3.4007</td>\n",
       "      <td>yes</td>\n",
       "    </tr>\n",
       "    <tr>\n",
       "      <th>CHEMBL4063206</th>\n",
       "      <td>9.70</td>\n",
       "      <td>COc1cccc(N2CCN(c3nc(-c4ccncn4)cc(=O)n3C)[C@H](...</td>\n",
       "      <td>&lt;img data-content=\"rdkit/molecule\" src=\"data:i...</td>\n",
       "      <td>392.196074</td>\n",
       "      <td>8</td>\n",
       "      <td>0</td>\n",
       "      <td>1.9610</td>\n",
       "      <td>yes</td>\n",
       "    </tr>\n",
       "    <tr>\n",
       "      <th>CHEMBL3963605</th>\n",
       "      <td>9.70</td>\n",
       "      <td>Nc1ncc(-c2ccccc2)nc1C(=O)Nc1cnccc1N1CCC(N)CC1</td>\n",
       "      <td>&lt;img data-content=\"rdkit/molecule\" src=\"data:i...</td>\n",
       "      <td>389.196408</td>\n",
       "      <td>7</td>\n",
       "      <td>3</td>\n",
       "      <td>2.3006</td>\n",
       "      <td>yes</td>\n",
       "    </tr>\n",
       "    <tr>\n",
       "      <th>CHEMBL3942619</th>\n",
       "      <td>9.70</td>\n",
       "      <td>COc1ccc(-c2cnc(N)c(C(=O)Nc3cnccc3N3CCC(N)CC3)n...</td>\n",
       "      <td>&lt;img data-content=\"rdkit/molecule\" src=\"data:i...</td>\n",
       "      <td>419.206973</td>\n",
       "      <td>8</td>\n",
       "      <td>3</td>\n",
       "      <td>2.3092</td>\n",
       "      <td>yes</td>\n",
       "    </tr>\n",
       "    <tr>\n",
       "      <th>CHEMBL3957649</th>\n",
       "      <td>9.70</td>\n",
       "      <td>Nc1ncc(-c2ccccc2F)nc1C(=O)Nc1cnccc1N1CCNCC1</td>\n",
       "      <td>&lt;img data-content=\"rdkit/molecule\" src=\"data:i...</td>\n",
       "      <td>393.171336</td>\n",
       "      <td>7</td>\n",
       "      <td>3</td>\n",
       "      <td>1.9218</td>\n",
       "      <td>yes</td>\n",
       "    </tr>\n",
       "    <tr>\n",
       "      <th>CHEMBL4077376</th>\n",
       "      <td>9.70</td>\n",
       "      <td>C[C@@H]1CN(c2ccccc2F)CCN1c1nc(-c2ccncn2)cc(=O)n1C</td>\n",
       "      <td>&lt;img data-content=\"rdkit/molecule\" src=\"data:i...</td>\n",
       "      <td>380.176088</td>\n",
       "      <td>7</td>\n",
       "      <td>0</td>\n",
       "      <td>2.0915</td>\n",
       "      <td>yes</td>\n",
       "    </tr>\n",
       "    <tr>\n",
       "      <th>CHEMBL2177173</th>\n",
       "      <td>9.66</td>\n",
       "      <td>CN1CCN(S(=O)(=O)c2ccc(-c3cnc(N)c(C(=O)Nc4cnccc...</td>\n",
       "      <td>&lt;img data-content=\"rdkit/molecule\" src=\"data:i...</td>\n",
       "      <td>536.231808</td>\n",
       "      <td>9</td>\n",
       "      <td>2</td>\n",
       "      <td>1.9050</td>\n",
       "      <td>yes</td>\n",
       "    </tr>\n",
       "    <tr>\n",
       "      <th>CHEMBL3091542</th>\n",
       "      <td>9.64</td>\n",
       "      <td>COc1cccc(OC)c1[C@H]1CN(c2nc(-c3ccncn3)cc(=O)n2...</td>\n",
       "      <td>&lt;img data-content=\"rdkit/molecule\" src=\"data:i...</td>\n",
       "      <td>409.175004</td>\n",
       "      <td>9</td>\n",
       "      <td>0</td>\n",
       "      <td>1.8324</td>\n",
       "      <td>yes</td>\n",
       "    </tr>\n",
       "    <tr>\n",
       "      <th>CHEMBL491647</th>\n",
       "      <td>9.64</td>\n",
       "      <td>COCc1cccc2c(C3=C(c4coc5ccccc45)C(=O)NC3=O)cn(C...</td>\n",
       "      <td>&lt;img data-content=\"rdkit/molecule\" src=\"data:i...</td>\n",
       "      <td>386.126657</td>\n",
       "      <td>5</td>\n",
       "      <td>1</td>\n",
       "      <td>3.6381</td>\n",
       "      <td>yes</td>\n",
       "    </tr>\n",
       "  </tbody>\n",
       "</table>\n",
       "</div>"
      ],
      "text/plain": [
       "                    pvalue                                             smiles  \\\n",
       "molecule_chembl_id                                                              \n",
       "CHEMBL564450          9.85  COc1cc(C2=C(c3cn(CCN4CCN(C)CC4)c4ccccc34)C(=O)...   \n",
       "CHEMBL2386090         9.70  O=C1NC(=O)C(c2cn3c4c(cccc24)CN(C(=O)c2cnccn2)C...   \n",
       "CHEMBL4063206         9.70  COc1cccc(N2CCN(c3nc(-c4ccncn4)cc(=O)n3C)[C@H](...   \n",
       "CHEMBL3963605         9.70      Nc1ncc(-c2ccccc2)nc1C(=O)Nc1cnccc1N1CCC(N)CC1   \n",
       "CHEMBL3942619         9.70  COc1ccc(-c2cnc(N)c(C(=O)Nc3cnccc3N3CCC(N)CC3)n...   \n",
       "CHEMBL3957649         9.70        Nc1ncc(-c2ccccc2F)nc1C(=O)Nc1cnccc1N1CCNCC1   \n",
       "CHEMBL4077376         9.70  C[C@@H]1CN(c2ccccc2F)CCN1c1nc(-c2ccncn2)cc(=O)n1C   \n",
       "CHEMBL2177173         9.66  CN1CCN(S(=O)(=O)c2ccc(-c3cnc(N)c(C(=O)Nc4cnccc...   \n",
       "CHEMBL3091542         9.64  COc1cccc(OC)c1[C@H]1CN(c2nc(-c3ccncn3)cc(=O)n2...   \n",
       "CHEMBL491647          9.64  COCc1cccc2c(C3=C(c4coc5ccccc45)C(=O)NC3=O)cn(C...   \n",
       "\n",
       "                                                                ROMol  \\\n",
       "molecule_chembl_id                                                      \n",
       "CHEMBL564450        <img data-content=\"rdkit/molecule\" src=\"data:i...   \n",
       "CHEMBL2386090       <img data-content=\"rdkit/molecule\" src=\"data:i...   \n",
       "CHEMBL4063206       <img data-content=\"rdkit/molecule\" src=\"data:i...   \n",
       "CHEMBL3963605       <img data-content=\"rdkit/molecule\" src=\"data:i...   \n",
       "CHEMBL3942619       <img data-content=\"rdkit/molecule\" src=\"data:i...   \n",
       "CHEMBL3957649       <img data-content=\"rdkit/molecule\" src=\"data:i...   \n",
       "CHEMBL4077376       <img data-content=\"rdkit/molecule\" src=\"data:i...   \n",
       "CHEMBL2177173       <img data-content=\"rdkit/molecule\" src=\"data:i...   \n",
       "CHEMBL3091542       <img data-content=\"rdkit/molecule\" src=\"data:i...   \n",
       "CHEMBL491647        <img data-content=\"rdkit/molecule\" src=\"data:i...   \n",
       "\n",
       "                            MW  HBA  HBD    LogP rule_of_five_conform  \n",
       "molecule_chembl_id                                                     \n",
       "CHEMBL564450        484.211055    7    1  3.2107                  yes  \n",
       "CHEMBL2386090       489.143704    7    1  3.4007                  yes  \n",
       "CHEMBL4063206       392.196074    8    0  1.9610                  yes  \n",
       "CHEMBL3963605       389.196408    7    3  2.3006                  yes  \n",
       "CHEMBL3942619       419.206973    8    3  2.3092                  yes  \n",
       "CHEMBL3957649       393.171336    7    3  1.9218                  yes  \n",
       "CHEMBL4077376       380.176088    7    0  2.0915                  yes  \n",
       "CHEMBL2177173       536.231808    9    2  1.9050                  yes  \n",
       "CHEMBL3091542       409.175004    9    0  1.8324                  yes  \n",
       "CHEMBL491647        386.126657    5    1  3.6381                  yes  "
      ]
     },
     "execution_count": 11,
     "metadata": {},
     "output_type": "execute_result"
    }
   ],
   "source": [
    "fil_df.to_csv('data/GSK3B_compounds_lipinski.csv', sep=';') \n",
    "fil_df.head(10)"
   ]
  },
  {
   "cell_type": "markdown",
   "id": "a8bed8a2",
   "metadata": {
    "pycharm": {
     "name": "#%% md\n"
    }
   },
   "source": [
    "## Plot the properties of the rule of five per molecule as bar plots."
   ]
  },
  {
   "cell_type": "code",
   "execution_count": 12,
   "id": "0b4c115c",
   "metadata": {
    "pycharm": {
     "name": "#%%\n"
    }
   },
   "outputs": [
    {
     "name": "stdout",
     "output_type": "stream",
     "text": [
      "(2385, 9)\n"
     ]
    },
    {
     "data": {
      "text/html": [
       "<div>\n",
       "<style scoped>\n",
       "    .dataframe tbody tr th:only-of-type {\n",
       "        vertical-align: middle;\n",
       "    }\n",
       "\n",
       "    .dataframe tbody tr th {\n",
       "        vertical-align: top;\n",
       "    }\n",
       "\n",
       "    .dataframe thead th {\n",
       "        text-align: right;\n",
       "    }\n",
       "</style>\n",
       "<table border=\"1\" class=\"dataframe\">\n",
       "  <thead>\n",
       "    <tr style=\"text-align: right;\">\n",
       "      <th></th>\n",
       "      <th>molecule_chembl_id</th>\n",
       "      <th>pvalue</th>\n",
       "      <th>smiles</th>\n",
       "      <th>ROMol</th>\n",
       "      <th>MW</th>\n",
       "      <th>HBA</th>\n",
       "      <th>HBD</th>\n",
       "      <th>LogP</th>\n",
       "      <th>rule_of_five_conform</th>\n",
       "    </tr>\n",
       "  </thead>\n",
       "  <tbody>\n",
       "    <tr>\n",
       "      <th>0</th>\n",
       "      <td>CHEMBL564450</td>\n",
       "      <td>9.85</td>\n",
       "      <td>COc1cc(C2=C(c3cn(CCN4CCN(C)CC4)c4ccccc34)C(=O)...</td>\n",
       "      <td>&lt;img data-content=\"rdkit/molecule\" src=\"data:i...</td>\n",
       "      <td>484.211055</td>\n",
       "      <td>7</td>\n",
       "      <td>1</td>\n",
       "      <td>3.2107</td>\n",
       "      <td>yes</td>\n",
       "    </tr>\n",
       "    <tr>\n",
       "      <th>1</th>\n",
       "      <td>CHEMBL2386090</td>\n",
       "      <td>9.70</td>\n",
       "      <td>O=C1NC(=O)C(c2cn3c4c(cccc24)CN(C(=O)c2cnccn2)C...</td>\n",
       "      <td>&lt;img data-content=\"rdkit/molecule\" src=\"data:i...</td>\n",
       "      <td>489.143704</td>\n",
       "      <td>7</td>\n",
       "      <td>1</td>\n",
       "      <td>3.4007</td>\n",
       "      <td>yes</td>\n",
       "    </tr>\n",
       "    <tr>\n",
       "      <th>2</th>\n",
       "      <td>CHEMBL4063206</td>\n",
       "      <td>9.70</td>\n",
       "      <td>COc1cccc(N2CCN(c3nc(-c4ccncn4)cc(=O)n3C)[C@H](...</td>\n",
       "      <td>&lt;img data-content=\"rdkit/molecule\" src=\"data:i...</td>\n",
       "      <td>392.196074</td>\n",
       "      <td>8</td>\n",
       "      <td>0</td>\n",
       "      <td>1.9610</td>\n",
       "      <td>yes</td>\n",
       "    </tr>\n",
       "    <tr>\n",
       "      <th>3</th>\n",
       "      <td>CHEMBL3963605</td>\n",
       "      <td>9.70</td>\n",
       "      <td>Nc1ncc(-c2ccccc2)nc1C(=O)Nc1cnccc1N1CCC(N)CC1</td>\n",
       "      <td>&lt;img data-content=\"rdkit/molecule\" src=\"data:i...</td>\n",
       "      <td>389.196408</td>\n",
       "      <td>7</td>\n",
       "      <td>3</td>\n",
       "      <td>2.3006</td>\n",
       "      <td>yes</td>\n",
       "    </tr>\n",
       "    <tr>\n",
       "      <th>4</th>\n",
       "      <td>CHEMBL3942619</td>\n",
       "      <td>9.70</td>\n",
       "      <td>COc1ccc(-c2cnc(N)c(C(=O)Nc3cnccc3N3CCC(N)CC3)n...</td>\n",
       "      <td>&lt;img data-content=\"rdkit/molecule\" src=\"data:i...</td>\n",
       "      <td>419.206973</td>\n",
       "      <td>8</td>\n",
       "      <td>3</td>\n",
       "      <td>2.3092</td>\n",
       "      <td>yes</td>\n",
       "    </tr>\n",
       "    <tr>\n",
       "      <th>5</th>\n",
       "      <td>CHEMBL3957649</td>\n",
       "      <td>9.70</td>\n",
       "      <td>Nc1ncc(-c2ccccc2F)nc1C(=O)Nc1cnccc1N1CCNCC1</td>\n",
       "      <td>&lt;img data-content=\"rdkit/molecule\" src=\"data:i...</td>\n",
       "      <td>393.171336</td>\n",
       "      <td>7</td>\n",
       "      <td>3</td>\n",
       "      <td>1.9218</td>\n",
       "      <td>yes</td>\n",
       "    </tr>\n",
       "    <tr>\n",
       "      <th>6</th>\n",
       "      <td>CHEMBL4077376</td>\n",
       "      <td>9.70</td>\n",
       "      <td>C[C@@H]1CN(c2ccccc2F)CCN1c1nc(-c2ccncn2)cc(=O)n1C</td>\n",
       "      <td>&lt;img data-content=\"rdkit/molecule\" src=\"data:i...</td>\n",
       "      <td>380.176088</td>\n",
       "      <td>7</td>\n",
       "      <td>0</td>\n",
       "      <td>2.0915</td>\n",
       "      <td>yes</td>\n",
       "    </tr>\n",
       "    <tr>\n",
       "      <th>7</th>\n",
       "      <td>CHEMBL2177173</td>\n",
       "      <td>9.66</td>\n",
       "      <td>CN1CCN(S(=O)(=O)c2ccc(-c3cnc(N)c(C(=O)Nc4cnccc...</td>\n",
       "      <td>&lt;img data-content=\"rdkit/molecule\" src=\"data:i...</td>\n",
       "      <td>536.231808</td>\n",
       "      <td>9</td>\n",
       "      <td>2</td>\n",
       "      <td>1.9050</td>\n",
       "      <td>yes</td>\n",
       "    </tr>\n",
       "    <tr>\n",
       "      <th>8</th>\n",
       "      <td>CHEMBL3091542</td>\n",
       "      <td>9.64</td>\n",
       "      <td>COc1cccc(OC)c1[C@H]1CN(c2nc(-c3ccncn3)cc(=O)n2...</td>\n",
       "      <td>&lt;img data-content=\"rdkit/molecule\" src=\"data:i...</td>\n",
       "      <td>409.175004</td>\n",
       "      <td>9</td>\n",
       "      <td>0</td>\n",
       "      <td>1.8324</td>\n",
       "      <td>yes</td>\n",
       "    </tr>\n",
       "    <tr>\n",
       "      <th>9</th>\n",
       "      <td>CHEMBL491647</td>\n",
       "      <td>9.64</td>\n",
       "      <td>COCc1cccc2c(C3=C(c4coc5ccccc45)C(=O)NC3=O)cn(C...</td>\n",
       "      <td>&lt;img data-content=\"rdkit/molecule\" src=\"data:i...</td>\n",
       "      <td>386.126657</td>\n",
       "      <td>5</td>\n",
       "      <td>1</td>\n",
       "      <td>3.6381</td>\n",
       "      <td>yes</td>\n",
       "    </tr>\n",
       "  </tbody>\n",
       "</table>\n",
       "</div>"
      ],
      "text/plain": [
       "  molecule_chembl_id  pvalue  \\\n",
       "0       CHEMBL564450    9.85   \n",
       "1      CHEMBL2386090    9.70   \n",
       "2      CHEMBL4063206    9.70   \n",
       "3      CHEMBL3963605    9.70   \n",
       "4      CHEMBL3942619    9.70   \n",
       "5      CHEMBL3957649    9.70   \n",
       "6      CHEMBL4077376    9.70   \n",
       "7      CHEMBL2177173    9.66   \n",
       "8      CHEMBL3091542    9.64   \n",
       "9       CHEMBL491647    9.64   \n",
       "\n",
       "                                              smiles  \\\n",
       "0  COc1cc(C2=C(c3cn(CCN4CCN(C)CC4)c4ccccc34)C(=O)...   \n",
       "1  O=C1NC(=O)C(c2cn3c4c(cccc24)CN(C(=O)c2cnccn2)C...   \n",
       "2  COc1cccc(N2CCN(c3nc(-c4ccncn4)cc(=O)n3C)[C@H](...   \n",
       "3      Nc1ncc(-c2ccccc2)nc1C(=O)Nc1cnccc1N1CCC(N)CC1   \n",
       "4  COc1ccc(-c2cnc(N)c(C(=O)Nc3cnccc3N3CCC(N)CC3)n...   \n",
       "5        Nc1ncc(-c2ccccc2F)nc1C(=O)Nc1cnccc1N1CCNCC1   \n",
       "6  C[C@@H]1CN(c2ccccc2F)CCN1c1nc(-c2ccncn2)cc(=O)n1C   \n",
       "7  CN1CCN(S(=O)(=O)c2ccc(-c3cnc(N)c(C(=O)Nc4cnccc...   \n",
       "8  COc1cccc(OC)c1[C@H]1CN(c2nc(-c3ccncn3)cc(=O)n2...   \n",
       "9  COCc1cccc2c(C3=C(c4coc5ccccc45)C(=O)NC3=O)cn(C...   \n",
       "\n",
       "                                               ROMol          MW  HBA  HBD  \\\n",
       "0  <img data-content=\"rdkit/molecule\" src=\"data:i...  484.211055    7    1   \n",
       "1  <img data-content=\"rdkit/molecule\" src=\"data:i...  489.143704    7    1   \n",
       "2  <img data-content=\"rdkit/molecule\" src=\"data:i...  392.196074    8    0   \n",
       "3  <img data-content=\"rdkit/molecule\" src=\"data:i...  389.196408    7    3   \n",
       "4  <img data-content=\"rdkit/molecule\" src=\"data:i...  419.206973    8    3   \n",
       "5  <img data-content=\"rdkit/molecule\" src=\"data:i...  393.171336    7    3   \n",
       "6  <img data-content=\"rdkit/molecule\" src=\"data:i...  380.176088    7    0   \n",
       "7  <img data-content=\"rdkit/molecule\" src=\"data:i...  536.231808    9    2   \n",
       "8  <img data-content=\"rdkit/molecule\" src=\"data:i...  409.175004    9    0   \n",
       "9  <img data-content=\"rdkit/molecule\" src=\"data:i...  386.126657    5    1   \n",
       "\n",
       "     LogP rule_of_five_conform  \n",
       "0  3.2107                  yes  \n",
       "1  3.4007                  yes  \n",
       "2  1.9610                  yes  \n",
       "3  2.3006                  yes  \n",
       "4  2.3092                  yes  \n",
       "5  1.9218                  yes  \n",
       "6  2.0915                  yes  \n",
       "7  1.9050                  yes  \n",
       "8  1.8324                  yes  \n",
       "9  3.6381                  yes  "
      ]
     },
     "execution_count": 12,
     "metadata": {},
     "output_type": "execute_result"
    }
   ],
   "source": [
    "# Import the filtered compounds\n",
    "lipinski_comp = pd.read_csv('data/GSK3B_compounds_lipinski.csv', sep=';')\n",
    "print(lipinski_comp.shape)\n",
    "lipinski_comp.head(10)"
   ]
  },
  {
   "cell_type": "markdown",
   "id": "80b48a8e",
   "metadata": {
    "pycharm": {
     "name": "#%% md\n"
    }
   },
   "source": [
    "Since we have many molecules we will do it only for the first 5 of the DataFrame"
   ]
  },
  {
   "cell_type": "code",
   "execution_count": 13,
   "id": "56e39f58",
   "metadata": {
    "scrolled": false,
    "pycharm": {
     "name": "#%%\n"
    }
   },
   "outputs": [
    {
     "data": {
      "text/html": [
       "<div>\n",
       "<style scoped>\n",
       "    .dataframe tbody tr th:only-of-type {\n",
       "        vertical-align: middle;\n",
       "    }\n",
       "\n",
       "    .dataframe tbody tr th {\n",
       "        vertical-align: top;\n",
       "    }\n",
       "\n",
       "    .dataframe thead th {\n",
       "        text-align: right;\n",
       "    }\n",
       "</style>\n",
       "<table border=\"1\" class=\"dataframe\">\n",
       "  <thead>\n",
       "    <tr style=\"text-align: right;\">\n",
       "      <th></th>\n",
       "      <th>molecule_chembl_id</th>\n",
       "      <th>pvalue</th>\n",
       "      <th>smiles</th>\n",
       "      <th>ROMol</th>\n",
       "      <th>MW</th>\n",
       "      <th>HBA</th>\n",
       "      <th>HBD</th>\n",
       "      <th>LogP</th>\n",
       "      <th>rule_of_five_conform</th>\n",
       "    </tr>\n",
       "  </thead>\n",
       "  <tbody>\n",
       "    <tr>\n",
       "      <th>0</th>\n",
       "      <td>CHEMBL564450</td>\n",
       "      <td>9.85</td>\n",
       "      <td>COc1cc(C2=C(c3cn(CCN4CCN(C)CC4)c4ccccc34)C(=O)...</td>\n",
       "      <td>&lt;img data-content=\"rdkit/molecule\" src=\"data:i...</td>\n",
       "      <td>484.211055</td>\n",
       "      <td>7</td>\n",
       "      <td>1</td>\n",
       "      <td>3.2107</td>\n",
       "      <td>yes</td>\n",
       "    </tr>\n",
       "    <tr>\n",
       "      <th>1</th>\n",
       "      <td>CHEMBL2386090</td>\n",
       "      <td>9.70</td>\n",
       "      <td>O=C1NC(=O)C(c2cn3c4c(cccc24)CN(C(=O)c2cnccn2)C...</td>\n",
       "      <td>&lt;img data-content=\"rdkit/molecule\" src=\"data:i...</td>\n",
       "      <td>489.143704</td>\n",
       "      <td>7</td>\n",
       "      <td>1</td>\n",
       "      <td>3.4007</td>\n",
       "      <td>yes</td>\n",
       "    </tr>\n",
       "    <tr>\n",
       "      <th>2</th>\n",
       "      <td>CHEMBL4063206</td>\n",
       "      <td>9.70</td>\n",
       "      <td>COc1cccc(N2CCN(c3nc(-c4ccncn4)cc(=O)n3C)[C@H](...</td>\n",
       "      <td>&lt;img data-content=\"rdkit/molecule\" src=\"data:i...</td>\n",
       "      <td>392.196074</td>\n",
       "      <td>8</td>\n",
       "      <td>0</td>\n",
       "      <td>1.9610</td>\n",
       "      <td>yes</td>\n",
       "    </tr>\n",
       "    <tr>\n",
       "      <th>3</th>\n",
       "      <td>CHEMBL3963605</td>\n",
       "      <td>9.70</td>\n",
       "      <td>Nc1ncc(-c2ccccc2)nc1C(=O)Nc1cnccc1N1CCC(N)CC1</td>\n",
       "      <td>&lt;img data-content=\"rdkit/molecule\" src=\"data:i...</td>\n",
       "      <td>389.196408</td>\n",
       "      <td>7</td>\n",
       "      <td>3</td>\n",
       "      <td>2.3006</td>\n",
       "      <td>yes</td>\n",
       "    </tr>\n",
       "    <tr>\n",
       "      <th>4</th>\n",
       "      <td>CHEMBL3942619</td>\n",
       "      <td>9.70</td>\n",
       "      <td>COc1ccc(-c2cnc(N)c(C(=O)Nc3cnccc3N3CCC(N)CC3)n...</td>\n",
       "      <td>&lt;img data-content=\"rdkit/molecule\" src=\"data:i...</td>\n",
       "      <td>419.206973</td>\n",
       "      <td>8</td>\n",
       "      <td>3</td>\n",
       "      <td>2.3092</td>\n",
       "      <td>yes</td>\n",
       "    </tr>\n",
       "  </tbody>\n",
       "</table>\n",
       "</div>"
      ],
      "text/plain": [
       "  molecule_chembl_id  pvalue  \\\n",
       "0       CHEMBL564450    9.85   \n",
       "1      CHEMBL2386090    9.70   \n",
       "2      CHEMBL4063206    9.70   \n",
       "3      CHEMBL3963605    9.70   \n",
       "4      CHEMBL3942619    9.70   \n",
       "\n",
       "                                              smiles  \\\n",
       "0  COc1cc(C2=C(c3cn(CCN4CCN(C)CC4)c4ccccc34)C(=O)...   \n",
       "1  O=C1NC(=O)C(c2cn3c4c(cccc24)CN(C(=O)c2cnccn2)C...   \n",
       "2  COc1cccc(N2CCN(c3nc(-c4ccncn4)cc(=O)n3C)[C@H](...   \n",
       "3      Nc1ncc(-c2ccccc2)nc1C(=O)Nc1cnccc1N1CCC(N)CC1   \n",
       "4  COc1ccc(-c2cnc(N)c(C(=O)Nc3cnccc3N3CCC(N)CC3)n...   \n",
       "\n",
       "                                               ROMol          MW  HBA  HBD  \\\n",
       "0  <img data-content=\"rdkit/molecule\" src=\"data:i...  484.211055    7    1   \n",
       "1  <img data-content=\"rdkit/molecule\" src=\"data:i...  489.143704    7    1   \n",
       "2  <img data-content=\"rdkit/molecule\" src=\"data:i...  392.196074    8    0   \n",
       "3  <img data-content=\"rdkit/molecule\" src=\"data:i...  389.196408    7    3   \n",
       "4  <img data-content=\"rdkit/molecule\" src=\"data:i...  419.206973    8    3   \n",
       "\n",
       "     LogP rule_of_five_conform  \n",
       "0  3.2107                  yes  \n",
       "1  3.4007                  yes  \n",
       "2  1.9610                  yes  \n",
       "3  2.3006                  yes  \n",
       "4  2.3092                  yes  "
      ]
     },
     "execution_count": 13,
     "metadata": {},
     "output_type": "execute_result"
    }
   ],
   "source": [
    "comp_5_lipinski = lipinski_comp.iloc[:5]\n",
    "comp_5_lipinski"
   ]
  },
  {
   "cell_type": "markdown",
   "id": "23e6fcb6",
   "metadata": {
    "pycharm": {
     "name": "#%% md\n"
    }
   },
   "source": [
    "Now we will make the bar plot. For these we followed the [talktorial T002 · Molecular filtering: ADME and lead-likeness criteria](https://github.com/volkamerlab/teachopencadd/blob/master/teachopencadd/talktorials/T002_compound_adme/talktorial.ipynb)"
   ]
  },
  {
   "cell_type": "code",
   "execution_count": 67,
   "id": "29713cec",
   "metadata": {
    "pycharm": {
     "name": "#%%\n"
    }
   },
   "outputs": [],
   "source": [
    "ro5_properties = {\n",
    "    \"MW\": (500, \"molecular weight (Da)\"),\n",
    "    \"HBA\": (10, \"# HBA\"),\n",
    "    \"HBD\": (5, \"# HBD\"),\n",
    "    \"LogP\": (5, \"logP\"),\n",
    "}"
   ]
  },
  {
   "cell_type": "code",
   "execution_count": 76,
   "id": "2a39bbc2",
   "metadata": {
    "pycharm": {
     "name": "#%%\n"
    }
   },
   "outputs": [
    {
     "data": {
      "image/png": "[encoded data removed]",
      "text/plain": [
       "<Figure size 720x180 with 4 Axes>"
      ]
     },
     "metadata": {
      "needs_background": "light"
     },
     "output_type": "display_data"
    }
   ],
   "source": [
    "# https://github.com/volkamerlab/teachopencadd/blob/master/teachopencadd/talktorials/T002_compound_adme/talktorial.ipynb\n",
    "\n",
    "\n",
    "# Start 1x4 plot frame\n",
    "fig, axes = plt.subplots(figsize=(10, 2.5), nrows=1, ncols=4)\n",
    "x = np.arange(1, len(comp_5_lipinski) + 1)\n",
    "colors = [\"red\", \"green\", \"blue\", \"cyan\", \"yellow\"]\n",
    "\n",
    "# Create subplots\n",
    "for index, (key, (threshold, title)) in enumerate(ro5_properties.items()):\n",
    "    axes[index].bar([0, 1, 2, 3, 4], comp_5_lipinski [key], color=colors)\n",
    "    axes[index].axhline(y=threshold, color=\"black\", linestyle=\"dashed\")\n",
    "    axes[index].set_title(title)\n",
    "    axes[index].set_xticks([])\n",
    "\n",
    "# Add legend- INTENTAR DE OTRA FORMA\n",
    "#legend_elements = [\n",
    "#    mpatches.Patch(color=row[\"color\"], label=row[\"name\"]) for index, row in comp_5_lipinski.iterrows()]\n",
    "#legend_elements.append(Line2D([0], [0], color=\"black\", ls=\"dashed\", label=\"Threshold\"))\n",
    "#fig.legend(handles=legend_elements, bbox_to_anchor=(1.2, 0.8))\n",
    "\n",
    "# Fit subplots and legend into figure\n",
    "plt.tight_layout()\n",
    "plt.show()"
   ]
  },
  {
   "cell_type": "markdown",
   "id": "e7d04ecf",
   "metadata": {
    "pycharm": {
     "name": "#%% md\n"
    }
   },
   "source": [
    "## Plot the properties of the rule of five per molecule as radar plot."
   ]
  },
  {
   "cell_type": "code",
   "execution_count": 17,
   "id": "79daf49a",
   "metadata": {
    "pycharm": {
     "name": "#%%\n"
    }
   },
   "outputs": [
    {
     "name": "stdout",
     "output_type": "stream",
     "text": [
      "(2121, 9)\n"
     ]
    },
    {
     "data": {
      "text/html": [
       "<div>\n",
       "<style scoped>\n",
       "    .dataframe tbody tr th:only-of-type {\n",
       "        vertical-align: middle;\n",
       "    }\n",
       "\n",
       "    .dataframe tbody tr th {\n",
       "        vertical-align: top;\n",
       "    }\n",
       "\n",
       "    .dataframe thead th {\n",
       "        text-align: right;\n",
       "    }\n",
       "</style>\n",
       "<table border=\"1\" class=\"dataframe\">\n",
       "  <thead>\n",
       "    <tr style=\"text-align: right;\">\n",
       "      <th></th>\n",
       "      <th>molecule_chembl_id</th>\n",
       "      <th>pIC50</th>\n",
       "      <th>smiles</th>\n",
       "      <th>ROMol</th>\n",
       "      <th>MW</th>\n",
       "      <th>HBA</th>\n",
       "      <th>HBD</th>\n",
       "      <th>LogP</th>\n",
       "      <th>rule_of_five_conform</th>\n",
       "    </tr>\n",
       "  </thead>\n",
       "  <tbody>\n",
       "    <tr>\n",
       "      <th>0</th>\n",
       "      <td>CHEMBL564450</td>\n",
       "      <td>9.85</td>\n",
       "      <td>COc1cc(C2=C(c3cn(CCN4CCN(C)CC4)c4ccccc34)C(=O)...</td>\n",
       "      <td>&lt;img data-content=\"rdkit/molecule\" src=\"data:i...</td>\n",
       "      <td>484.211055</td>\n",
       "      <td>7</td>\n",
       "      <td>1</td>\n",
       "      <td>3.2107</td>\n",
       "      <td>yes</td>\n",
       "    </tr>\n",
       "    <tr>\n",
       "      <th>1</th>\n",
       "      <td>CHEMBL3957649</td>\n",
       "      <td>9.70</td>\n",
       "      <td>Nc1ncc(-c2ccccc2F)nc1C(=O)Nc1cnccc1N1CCNCC1</td>\n",
       "      <td>&lt;img data-content=\"rdkit/molecule\" src=\"data:i...</td>\n",
       "      <td>393.171336</td>\n",
       "      <td>7</td>\n",
       "      <td>3</td>\n",
       "      <td>1.9218</td>\n",
       "      <td>yes</td>\n",
       "    </tr>\n",
       "    <tr>\n",
       "      <th>2</th>\n",
       "      <td>CHEMBL3942619</td>\n",
       "      <td>9.70</td>\n",
       "      <td>COc1ccc(-c2cnc(N)c(C(=O)Nc3cnccc3N3CCC(N)CC3)n...</td>\n",
       "      <td>&lt;img data-content=\"rdkit/molecule\" src=\"data:i...</td>\n",
       "      <td>419.206973</td>\n",
       "      <td>8</td>\n",
       "      <td>3</td>\n",
       "      <td>2.3092</td>\n",
       "      <td>yes</td>\n",
       "    </tr>\n",
       "    <tr>\n",
       "      <th>3</th>\n",
       "      <td>CHEMBL3963605</td>\n",
       "      <td>9.70</td>\n",
       "      <td>Nc1ncc(-c2ccccc2)nc1C(=O)Nc1cnccc1N1CCC(N)CC1</td>\n",
       "      <td>&lt;img data-content=\"rdkit/molecule\" src=\"data:i...</td>\n",
       "      <td>389.196408</td>\n",
       "      <td>7</td>\n",
       "      <td>3</td>\n",
       "      <td>2.3006</td>\n",
       "      <td>yes</td>\n",
       "    </tr>\n",
       "    <tr>\n",
       "      <th>4</th>\n",
       "      <td>CHEMBL2386090</td>\n",
       "      <td>9.70</td>\n",
       "      <td>O=C1NC(=O)C(c2cn3c4c(cccc24)CN(C(=O)c2cnccn2)C...</td>\n",
       "      <td>&lt;img data-content=\"rdkit/molecule\" src=\"data:i...</td>\n",
       "      <td>489.143704</td>\n",
       "      <td>7</td>\n",
       "      <td>1</td>\n",
       "      <td>3.4007</td>\n",
       "      <td>yes</td>\n",
       "    </tr>\n",
       "    <tr>\n",
       "      <th>5</th>\n",
       "      <td>CHEMBL4077376</td>\n",
       "      <td>9.70</td>\n",
       "      <td>C[C@@H]1CN(c2ccccc2F)CCN1c1nc(-c2ccncn2)cc(=O)n1C</td>\n",
       "      <td>&lt;img data-content=\"rdkit/molecule\" src=\"data:i...</td>\n",
       "      <td>380.176088</td>\n",
       "      <td>7</td>\n",
       "      <td>0</td>\n",
       "      <td>2.0915</td>\n",
       "      <td>yes</td>\n",
       "    </tr>\n",
       "    <tr>\n",
       "      <th>6</th>\n",
       "      <td>CHEMBL4063206</td>\n",
       "      <td>9.70</td>\n",
       "      <td>COc1cccc(N2CCN(c3nc(-c4ccncn4)cc(=O)n3C)[C@H](...</td>\n",
       "      <td>&lt;img data-content=\"rdkit/molecule\" src=\"data:i...</td>\n",
       "      <td>392.196074</td>\n",
       "      <td>8</td>\n",
       "      <td>0</td>\n",
       "      <td>1.9610</td>\n",
       "      <td>yes</td>\n",
       "    </tr>\n",
       "    <tr>\n",
       "      <th>7</th>\n",
       "      <td>CHEMBL3091542</td>\n",
       "      <td>9.64</td>\n",
       "      <td>COc1cccc(OC)c1[C@H]1CN(c2nc(-c3ccncn3)cc(=O)n2...</td>\n",
       "      <td>&lt;img data-content=\"rdkit/molecule\" src=\"data:i...</td>\n",
       "      <td>409.175004</td>\n",
       "      <td>9</td>\n",
       "      <td>0</td>\n",
       "      <td>1.8324</td>\n",
       "      <td>yes</td>\n",
       "    </tr>\n",
       "    <tr>\n",
       "      <th>8</th>\n",
       "      <td>CHEMBL491647</td>\n",
       "      <td>9.64</td>\n",
       "      <td>COCc1cccc2c(C3=C(c4coc5ccccc45)C(=O)NC3=O)cn(C...</td>\n",
       "      <td>&lt;img data-content=\"rdkit/molecule\" src=\"data:i...</td>\n",
       "      <td>386.126657</td>\n",
       "      <td>5</td>\n",
       "      <td>1</td>\n",
       "      <td>3.6381</td>\n",
       "      <td>yes</td>\n",
       "    </tr>\n",
       "    <tr>\n",
       "      <th>9</th>\n",
       "      <td>CHEMBL4076186</td>\n",
       "      <td>9.60</td>\n",
       "      <td>COc1cc(F)ccc1C1CN(c2nc(-c3ccncn3)cc(=O)n2C)CCN...</td>\n",
       "      <td>&lt;img data-content=\"rdkit/molecule\" src=\"data:i...</td>\n",
       "      <td>432.147680</td>\n",
       "      <td>8</td>\n",
       "      <td>1</td>\n",
       "      <td>1.9577</td>\n",
       "      <td>yes</td>\n",
       "    </tr>\n",
       "  </tbody>\n",
       "</table>\n",
       "</div>"
      ],
      "text/plain": [
       "  molecule_chembl_id  pIC50  \\\n",
       "0       CHEMBL564450   9.85   \n",
       "1      CHEMBL3957649   9.70   \n",
       "2      CHEMBL3942619   9.70   \n",
       "3      CHEMBL3963605   9.70   \n",
       "4      CHEMBL2386090   9.70   \n",
       "5      CHEMBL4077376   9.70   \n",
       "6      CHEMBL4063206   9.70   \n",
       "7      CHEMBL3091542   9.64   \n",
       "8       CHEMBL491647   9.64   \n",
       "9      CHEMBL4076186   9.60   \n",
       "\n",
       "                                              smiles  \\\n",
       "0  COc1cc(C2=C(c3cn(CCN4CCN(C)CC4)c4ccccc34)C(=O)...   \n",
       "1        Nc1ncc(-c2ccccc2F)nc1C(=O)Nc1cnccc1N1CCNCC1   \n",
       "2  COc1ccc(-c2cnc(N)c(C(=O)Nc3cnccc3N3CCC(N)CC3)n...   \n",
       "3      Nc1ncc(-c2ccccc2)nc1C(=O)Nc1cnccc1N1CCC(N)CC1   \n",
       "4  O=C1NC(=O)C(c2cn3c4c(cccc24)CN(C(=O)c2cnccn2)C...   \n",
       "5  C[C@@H]1CN(c2ccccc2F)CCN1c1nc(-c2ccncn2)cc(=O)n1C   \n",
       "6  COc1cccc(N2CCN(c3nc(-c4ccncn4)cc(=O)n3C)[C@H](...   \n",
       "7  COc1cccc(OC)c1[C@H]1CN(c2nc(-c3ccncn3)cc(=O)n2...   \n",
       "8  COCc1cccc2c(C3=C(c4coc5ccccc45)C(=O)NC3=O)cn(C...   \n",
       "9  COc1cc(F)ccc1C1CN(c2nc(-c3ccncn3)cc(=O)n2C)CCN...   \n",
       "\n",
       "                                               ROMol          MW  HBA  HBD  \\\n",
       "0  <img data-content=\"rdkit/molecule\" src=\"data:i...  484.211055    7    1   \n",
       "1  <img data-content=\"rdkit/molecule\" src=\"data:i...  393.171336    7    3   \n",
       "2  <img data-content=\"rdkit/molecule\" src=\"data:i...  419.206973    8    3   \n",
       "3  <img data-content=\"rdkit/molecule\" src=\"data:i...  389.196408    7    3   \n",
       "4  <img data-content=\"rdkit/molecule\" src=\"data:i...  489.143704    7    1   \n",
       "5  <img data-content=\"rdkit/molecule\" src=\"data:i...  380.176088    7    0   \n",
       "6  <img data-content=\"rdkit/molecule\" src=\"data:i...  392.196074    8    0   \n",
       "7  <img data-content=\"rdkit/molecule\" src=\"data:i...  409.175004    9    0   \n",
       "8  <img data-content=\"rdkit/molecule\" src=\"data:i...  386.126657    5    1   \n",
       "9  <img data-content=\"rdkit/molecule\" src=\"data:i...  432.147680    8    1   \n",
       "\n",
       "     LogP rule_of_five_conform  \n",
       "0  3.2107                  yes  \n",
       "1  1.9218                  yes  \n",
       "2  2.3092                  yes  \n",
       "3  2.3006                  yes  \n",
       "4  3.4007                  yes  \n",
       "5  2.0915                  yes  \n",
       "6  1.9610                  yes  \n",
       "7  1.8324                  yes  \n",
       "8  3.6381                  yes  \n",
       "9  1.9577                  yes  "
      ]
     },
     "execution_count": 17,
     "metadata": {},
     "output_type": "execute_result"
    }
   ],
   "source": [
    "# Import the filtered compounds\n",
    "lipinski_comp = pd.read_csv('../2.2_Graficas/Data/GSK3B_compounds_lipinski.csv', sep=';')\n",
    "print(lipinski_comp.shape)\n",
    "lipinski_comp.head(10)"
   ]
  },
  {
   "cell_type": "markdown",
   "id": "18ff89b4",
   "metadata": {
    "pycharm": {
     "name": "#%% md\n"
    }
   },
   "source": [
    "For the radar plot we need the mean and standard deviations of a dataset, so we will create a function that allows us to calculate these two statistics."
   ]
  },
  {
   "cell_type": "code",
   "execution_count": 18,
   "id": "902426e0",
   "metadata": {
    "pycharm": {
     "name": "#%%\n"
    }
   },
   "outputs": [],
   "source": [
    "def get_properties_stats(data_df):\n",
    "    \n",
    "    properties = [\"HBD\", \"HBA\", \"MW\", \"LogP\"]\n",
    "    \n",
    "    data_stats = []\n",
    "    \n",
    "    for i in properties:\n",
    "        std = data_df[i].std()\n",
    "        mean = data_df[i].mean()\n",
    "        stats = pd.DataFrame([[round(mean, 2), round(std, 2)]], index=[i], columns=[\"mean\", \"std\"])\n",
    "        data_stats.append(stats)\n",
    "    \n",
    "    data_stats = pd.concat(data_stats)\n",
    "    \n",
    "    return data_stats"
   ]
  },
  {
   "cell_type": "markdown",
   "id": "d011af8b",
   "metadata": {
    "pycharm": {
     "name": "#%% md\n"
    }
   },
   "source": [
    "Now we calculate the statistic for the dataset filtered of compounds compliant with Lipinski's rule of five."
   ]
  },
  {
   "cell_type": "code",
   "execution_count": 19,
   "id": "44874efa",
   "metadata": {
    "pycharm": {
     "name": "#%%\n"
    }
   },
   "outputs": [
    {
     "data": {
      "text/html": [
       "<div>\n",
       "<style scoped>\n",
       "    .dataframe tbody tr th:only-of-type {\n",
       "        vertical-align: middle;\n",
       "    }\n",
       "\n",
       "    .dataframe tbody tr th {\n",
       "        vertical-align: top;\n",
       "    }\n",
       "\n",
       "    .dataframe thead th {\n",
       "        text-align: right;\n",
       "    }\n",
       "</style>\n",
       "<table border=\"1\" class=\"dataframe\">\n",
       "  <thead>\n",
       "    <tr style=\"text-align: right;\">\n",
       "      <th></th>\n",
       "      <th>mean</th>\n",
       "      <th>std</th>\n",
       "    </tr>\n",
       "  </thead>\n",
       "  <tbody>\n",
       "    <tr>\n",
       "      <th>HBD</th>\n",
       "      <td>1.74</td>\n",
       "      <td>1.15</td>\n",
       "    </tr>\n",
       "    <tr>\n",
       "      <th>HBA</th>\n",
       "      <td>5.32</td>\n",
       "      <td>1.95</td>\n",
       "    </tr>\n",
       "    <tr>\n",
       "      <th>MW</th>\n",
       "      <td>374.44</td>\n",
       "      <td>78.60</td>\n",
       "    </tr>\n",
       "    <tr>\n",
       "      <th>LogP</th>\n",
       "      <td>3.24</td>\n",
       "      <td>1.26</td>\n",
       "    </tr>\n",
       "  </tbody>\n",
       "</table>\n",
       "</div>"
      ],
      "text/plain": [
       "        mean    std\n",
       "HBD     1.74   1.15\n",
       "HBA     5.32   1.95\n",
       "MW    374.44  78.60\n",
       "LogP    3.24   1.26"
      ]
     },
     "execution_count": 19,
     "metadata": {},
     "output_type": "execute_result"
    }
   ],
   "source": [
    "stats_rof = get_properties_stats(lipinski_comp)\n",
    "stats_rof"
   ]
  },
  {
   "cell_type": "markdown",
   "id": "c93f1370",
   "metadata": {
    "pycharm": {
     "name": "#%% md\n"
    }
   },
   "source": [
    "Now we calculate the statistic for the dataset of compounds NOT compliant with Lipinski's rule of five."
   ]
  },
  {
   "cell_type": "code",
   "execution_count": 20,
   "id": "9fdd344c",
   "metadata": {
    "pycharm": {
     "name": "#%%\n"
    }
   },
   "outputs": [
    {
     "data": {
      "text/html": [
       "<div>\n",
       "<style scoped>\n",
       "    .dataframe tbody tr th:only-of-type {\n",
       "        vertical-align: middle;\n",
       "    }\n",
       "\n",
       "    .dataframe tbody tr th {\n",
       "        vertical-align: top;\n",
       "    }\n",
       "\n",
       "    .dataframe thead th {\n",
       "        text-align: right;\n",
       "    }\n",
       "</style>\n",
       "<table border=\"1\" class=\"dataframe\">\n",
       "  <thead>\n",
       "    <tr style=\"text-align: right;\">\n",
       "      <th></th>\n",
       "      <th>mean</th>\n",
       "      <th>std</th>\n",
       "    </tr>\n",
       "  </thead>\n",
       "  <tbody>\n",
       "    <tr>\n",
       "      <th>HBD</th>\n",
       "      <td>2.41</td>\n",
       "      <td>2.08</td>\n",
       "    </tr>\n",
       "    <tr>\n",
       "      <th>HBA</th>\n",
       "      <td>7.86</td>\n",
       "      <td>3.47</td>\n",
       "    </tr>\n",
       "    <tr>\n",
       "      <th>MW</th>\n",
       "      <td>605.69</td>\n",
       "      <td>149.78</td>\n",
       "    </tr>\n",
       "    <tr>\n",
       "      <th>LogP</th>\n",
       "      <td>5.56</td>\n",
       "      <td>1.93</td>\n",
       "    </tr>\n",
       "  </tbody>\n",
       "</table>\n",
       "</div>"
      ],
      "text/plain": [
       "        mean     std\n",
       "HBD     2.41    2.08\n",
       "HBA     7.86    3.47\n",
       "MW    605.69  149.78\n",
       "LogP    5.56    1.93"
      ]
     },
     "execution_count": 20,
     "metadata": {},
     "output_type": "execute_result"
    }
   ],
   "source": [
    "stats_not_rof = get_properties_stats(comp_def[comp_def['rule_of_five_conform']=='no'])\n",
    "stats_not_rof"
   ]
  },
  {
   "cell_type": "markdown",
   "id": "3d27fdf7",
   "metadata": {
    "pycharm": {
     "name": "#%% md\n"
    }
   },
   "source": [
    "#### From this point forward we followed the [talktorial T002 · Molecular filtering: ADME and lead-likeness criteria](https://github.com/volkamerlab/teachopencadd/blob/master/teachopencadd/talktorials/T002_compound_adme/talktorial.ipynb)\n",
    "\n",
    "We will need some helper functions to that are only used for radar plotting.\n",
    "\n",
    "Frist we will prepare the y values of the radar plot. So we need to heed that the properties used for the Rule of five criteria are of different magnitudes. For example, the molecular_weight as a threshold of 500, whereas the number of HBAs and HBDs and the LogP have thresholds of only 10, 5, and 5, respectively. So we will scale all property values to a scaled threshold of 5."
   ]
  },
  {
   "cell_type": "code",
   "execution_count": 21,
   "id": "1d0d4e2c",
   "metadata": {
    "pycharm": {
     "name": "#%%\n"
    }
   },
   "outputs": [],
   "source": [
    "# stats is the Dataframe with \"mean\" and \"std\" for each physicochemical property.\n",
    "# thresholds defined for each property.\n",
    "# scaled_threshold across all properties\n",
    "def _scale_by_thresholds(stats, thresholds, scaled_threshold):\n",
    "    \n",
    "    # Raise error if scaling keys and data_stats indicies are not matching\n",
    "    for property_name in stats.index:\n",
    "        if property_name not in thresholds.keys():\n",
    "            raise KeyError(f\"Add property '{property_name}' to scaling variable.\")\n",
    "    # Scale property data\n",
    "    # scaled_scale = property value / property threshold * scaled property threshold\n",
    "    stats_scaled = stats.apply(lambda x: x / thresholds[x.name] * scaled_threshold, axis=1)\n",
    "    return stats_scaled"
   ]
  },
  {
   "cell_type": "markdown",
   "id": "202fed4d",
   "metadata": {
    "pycharm": {
     "name": "#%% md\n"
    }
   },
   "source": [
    "Having prepare the y values we will prepare the x values. These values are the angles as radians of the physicochemical property axes for the radar plot."
   ]
  },
  {
   "cell_type": "code",
   "execution_count": 22,
   "id": "00cb526a",
   "metadata": {
    "pycharm": {
     "name": "#%%\n"
    }
   },
   "outputs": [],
   "source": [
    "def _define_radial_axes_angles(n_axes):\n",
    "\n",
    "    x_angles = [i / float(n_axes) * 2 * math.pi for i in range(n_axes)]\n",
    "    x_angles += x_angles[:1]\n",
    "    return x_angles"
   ]
  },
  {
   "cell_type": "markdown",
   "id": "8b0aa226-5b8f-474a-a156-5e2dad7e58a2",
   "metadata": {
    "pycharm": {
     "name": "#%% md\n"
    }
   },
   "source": [
    "Finally we can do the radar plot."
   ]
  },
  {
   "cell_type": "code",
   "execution_count": 29,
   "id": "bf09cd4e-e968-419a-9e75-12914af8f41a",
   "metadata": {
    "pycharm": {
     "name": "#%%\n"
    }
   },
   "outputs": [
    {
     "ename": "SyntaxError",
     "evalue": "invalid syntax (<ipython-input-29-123b040f58e8>, line 12)",
     "output_type": "error",
     "traceback": [
      "\u001B[1;36m  File \u001B[1;32m\"<ipython-input-29-123b040f58e8>\"\u001B[1;36m, line \u001B[1;32m12\u001B[0m\n\u001B[1;33m    y = _scale_by_thresholds(y, thresholds, scaled_threshold)\u001B[0m\n\u001B[1;37m    ^\u001B[0m\n\u001B[1;31mSyntaxError\u001B[0m\u001B[1;31m:\u001B[0m invalid syntax\n"
     ]
    }
   ],
   "source": [
    "def plot_radar(\n",
    "    y,                    # Dataframe with \"mean\" and \"std\" for each physicochemical property.\n",
    "    thresholds,           # Thresholds defined for each property.\n",
    "    scaled_threshold,     # Scaled thresholds across all properties.\n",
    "    properties_labels,    # List of property names to be used as labels in the plot.\n",
    "    y_max=None,           # Set maximum y value. If None, let matplotlib decide.\n",
    "    output_path=None,     # If not None, save plot to file.\n",
    "    \n",
    "    # Use the helper function to define radial x-axes angles.\n",
    "    x = _define_radial_axes_angles(len(y))\n",
    "    # Use the helper funtion to scale y-axis values with respect to a defined threshold.\n",
    "    y = _scale_by_thresholds(y, thresholds, scaled_threshold)\n",
    "    # Since our chart will be circular we append the first value of each property to the end\n",
    "    y = y.append(y.iloc[0])\n",
    "    \n",
    "     # Set figure and subplot axis\n",
    "    plt.figure(figsize=(6, 6))\n",
    "    ax = plt.subplot(111, polar=True)\n",
    "    \n",
    "    # Plot data\n",
    "    ax.fill(x, [scaled_threshold] * 5, \"cornflowerblue\", alpha=0.2)\n",
    "    ax.plot(x, y[\"mean\"], \"b\", lw=3, ls=\"-\")\n",
    "    ax.plot(x, y[\"mean\"] + y[\"std\"], \"orange\", lw=2, ls=\"--\")\n",
    "    ax.plot(x, y[\"mean\"] - y[\"std\"], \"orange\", lw=2, ls=\"-.\")    "
   ]
  },
  {
   "cell_type": "code",
   "execution_count": null,
   "id": "3f9cffaf-26ae-4ad7-9bd0-4c55e6dff3a5",
   "metadata": {
    "pycharm": {
     "name": "#%%\n"
    }
   },
   "outputs": [],
   "source": []
  }
 ],
 "metadata": {
  "kernelspec": {
   "display_name": "Python 3",
   "language": "python",
   "name": "python3"
  },
  "language_info": {
   "codemirror_mode": {
    "name": "ipython",
    "version": 3
   },
   "file_extension": ".py",
   "mimetype": "text/x-python",
   "name": "python",
   "nbconvert_exporter": "python",
   "pygments_lexer": "ipython3",
   "version": "3.8.8"
  }
 },
 "nbformat": 4,
 "nbformat_minor": 5
}