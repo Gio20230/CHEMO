{
 "cells": [
  {
   "cell_type": "markdown",
   "metadata": {},
   "source": [
    "# Práctica 5: Modelo de clasificación de ligandos\n",
    "\n",
    "> **Nota:** Este libro esta disponible de dos maneras: \n",
    "> 1. Descargando el repositorio y siguiendo las instrucciones que estan en el archivo [README.md](https://github.com/ramirezlab/CHEMO/blob/main/README.md)\n",
    "> 2. Haciendo clic aquí en [![Open In Colab](https://colab.research.google.com/assets/colab-badge.svg)](https://colab.research.google.com/github/ramirezlab/CHEMO/blob/main/3_PART_THREE/3.2_Practica-1.es.ipynb?hl=es)\n",
    "\n",
    "## Introducción\n",
    "El aprendizaje automático se ha consolidado como un componente esencial en la ciencia de datos, habilitando a las computadoras para aprender de los datos y tomar decisiones o hacer predicciones sin ser explícitamente programadas para ello. Dentro de este marco, un algoritmo de particular importancia es el modelo de clasificación de *RandomForest*.\n",
    "\n",
    "<img src=\"./img/random_forest_es.png\" width=\"600\" align='right'>\n",
    "\n",
    "El modelo de RandomForest es un algoritmo de aprendizaje supervisado que se fundamenta en el método de ensamble. Este método conjuga varios algoritmos más débiles para conformar un modelo más potente y robusto. En el caso de RandomForest, se crea un \"bosque\" de *árboles de decisión*, cada uno entrenado en un subconjunto aleatorio de los datos <sup> **1** </sup>. El resultado final es la combinación de las predicciones de todos estos árboles individuales.\n",
    "\n",
    "RandomForest se caracteriza por ser versátil y eficiente, capaz de manejar un gran número de características y de abordar tanto problemas de clasificación como de regresión. Una de las ventajas de este algoritmo es que proporciona una medida de la importancia de las variables, ofreciendo un conocimiento valioso acerca del modelo y los datos.\n",
    "\n",
    "### Estrategia de validación: validación cruzada de K-fold\n",
    "\n",
    "La validación de modelos es un paso crucial en el desarrollo de cualquier algoritmo de aprendizaje automático. Su finalidad es evaluar qué tan bien el modelo aprendido puede generalizar a datos no vistos, es decir, que no se utilizaron durante la fase de entrenamiento. En nuestra práctica, emplearemos la estrategia de validación cruzada de K-Fold.\n",
    "\n",
    "<img src=\"./img/K-fold_Cross_Validation_es.png\" width=\"500\" align='left'>\n",
    "\n",
    "La validación cruzada de K-Fold es una técnica potente y ampliamente utilizada que mejora la estimación del rendimiento del modelo. En vez de dividir el conjunto de datos una sola vez en un conjunto de entrenamiento y un conjunto de prueba, la validación cruzada de K-Fold divide el conjunto en 'K' subconjuntos distintos. Luego, el algoritmo se entrena 'K' veces, utilizando en cada ocasión un subconjunto diferente como conjunto de prueba y el resto de los subconjuntos como conjunto de entrenamiento. Finalmente, el rendimiento del modelo se promedia en las 'K' iteraciones para obtener una estimación más robusta <sup> **2** </sup>.\n",
    "\n",
    "El objetivo es probar la capacidad del modelo para predecir datos no vistos anteriormente, detectar problemas como el sobreajuste y evaluar la capacidad de generalización del modelo.\n",
    "\n",
    "\n",
    "### Medidas de desempeño\n",
    "\n",
    "La elección de las medidas de desempeño depende de la naturaleza del problema que se está abordando. Sin embargo, hay algunas medidas comunes que suelen ser útiles para evaluar el rendimiento de los modelos de clasificación. Para entender y calcular estas medidas de desempeño, es útil conocer sus fórmulas. Antes de proporcionar las fórmulas, es importante destacar que se basan en los conceptos de Verdaderos Positivos (**TP**), Falsos Positivos (**FP**), Verdaderos Negativos (**TN**), y Falsos Negativos (**FN**), que son las cuatro categorías posibles en las que se pueden clasificar las predicciones de nuestro modelo. La matriz de confusión resulta útil para diferenciar cada concepto <sup> **3** </sup>:\n",
    "\n",
    "<img src=\"./img/confusion_matrix_es.png\" width=\"400\">\n",
    "\n",
    "* **Exactitud (Accuracy)**: Es la proporción de predicciones correctas entre el total de predicciones realizadas. Aunque es una medida intuitiva y fácil de entender, la exactitud puede ser engañosa si las clases están desequilibradas. La exactitud se calcula como la suma de las predicciones correctas (tanto positivas como negativas) dividida por el total de predicciones.\n",
    "  $$Accuracy = \\dfrac{TP + TN}{TP + TN + FP + FN}$$\n",
    "\n",
    "* **Precisión (Precision)**: Es la proporción de predicciones positivas que fueron correctas. Es una medida útil cuando los falsos positivos son particularmente preocupantes. La precisión se calcula como el número de verdaderos positivos dividido por la suma de verdaderos positivos y falsos positivos.\n",
    "  $$Precision = \\dfrac{TP}{TP+FP}$$\n",
    "\n",
    "* **Recall (Sensibilidad)**: Es la proporción de casos positivos reales que el modelo identificó correctamente. Es importante cuando los falsos negativos son una preocupación. El recall se calcula como el número de verdaderos positivos dividido por la suma de verdaderos positivos y falsos negativos.\n",
    "  $$Recall = \\dfrac{TP}{TP + FN}$$\n",
    "\n",
    "* **Puntuación F1 (F1 Score)**: Es la media armónica de la precisión y el recall. Esta medida busca un equilibrio entre la precisión y el recall. La puntuación F1 se calcula como el promedio armónico de la precisión y el recall.\n",
    "  $$F1_{score} = 2 \\times \\dfrac{Precision \\times Recall}{Precision + Recall}$$\n",
    "\n",
    "* **Curva ROC (Receiver Operating Characteristic)** <sup> **3** </sup>: Esta curva es una representación gráfica que ilustra la capacidad discriminativa de un clasificador binario a medida que varía su umbral de discriminación. Se crea trazando la tasa de verdaderos positivos (Recall) contra la tasa de falsos positivos (1-Especificidad), a varios niveles de umbral. Un modelo con un poder predictivo perfecto se ubicaría en la esquina superior izquierda del gráfico, mientras que un modelo aleatorio seguiría la línea diagonal.\n",
    "\n",
    "* **AUC (Área bajo la curva, en inglés Area Under the Curve)**: Esta métrica se calcula como el área bajo la curva ROC. Un AUC de 1.0 denota un modelo perfecto, mientras que un AUC de 0.5 denota un modelo que no tiene capacidad de discriminación, equivalente a una selección aleatoria. Cuanto mayor sea el AUC, mejor será el modelo en distinguir entre las clases positiva y negativa.\n",
    "\n",
    "En nuestro análisis de la implementación del modelo RandomForest, utilizaremos estas medidas para evaluar su desempeño y capacidad de generalización."
   ]
  },
  {
   "cell_type": "markdown",
   "metadata": {},
   "source": [
    "# Preparación de los datos\n",
    "Iniciamos importando los datos de la práctica anterior, como estos están guardados en la carpeta de la segunda parte, podemos crear un `directorio raíz` (`ROOT_DIR`) para navegar hasta el archivo y cargarlo en un dataframe\n",
    "\n",
    "## Carga de los datos"
   ]
  },
  {
   "cell_type": "code",
   "execution_count": 1,
   "metadata": {
    "ExecuteTime": {
     "end_time": "2023-08-28T01:05:55.349610500Z",
     "start_time": "2023-08-28T01:05:52.994816800Z"
    }
   },
   "outputs": [
    {
     "data": {
      "text/html": [
       "<div>\n",
       "<style scoped>\n",
       "    .dataframe tbody tr th:only-of-type {\n",
       "        vertical-align: middle;\n",
       "    }\n",
       "\n",
       "    .dataframe tbody tr th {\n",
       "        vertical-align: top;\n",
       "    }\n",
       "\n",
       "    .dataframe thead th {\n",
       "        text-align: right;\n",
       "    }\n",
       "</style>\n",
       "<table border=\"1\" class=\"dataframe\">\n",
       "  <thead>\n",
       "    <tr style=\"text-align: right;\">\n",
       "      <th></th>\n",
       "      <th>molecule_chembl_id</th>\n",
       "      <th>pchembl_value</th>\n",
       "      <th>smiles</th>\n",
       "      <th>ROMol</th>\n",
       "      <th>MW</th>\n",
       "      <th>HBA</th>\n",
       "      <th>HBD</th>\n",
       "      <th>LogP</th>\n",
       "      <th>rule_of_five_conform</th>\n",
       "    </tr>\n",
       "  </thead>\n",
       "  <tbody>\n",
       "    <tr>\n",
       "      <th>0</th>\n",
       "      <td>CHEMBL2386094</td>\n",
       "      <td>10.89</td>\n",
       "      <td>O=C1NC(=O)C(c2cn3c4c(cc(F)cc24)CN(C(=O)N2CCOCC...</td>\n",
       "      <td>&lt;rdkit.Chem.rdchem.Mol object at 0x0000022DE1B...</td>\n",
       "      <td>514.165248</td>\n",
       "      <td>6</td>\n",
       "      <td>1</td>\n",
       "      <td>3.3616</td>\n",
       "      <td>yes</td>\n",
       "    </tr>\n",
       "    <tr>\n",
       "      <th>1</th>\n",
       "      <td>CHEMBL3895998</td>\n",
       "      <td>10.00</td>\n",
       "      <td>Nc1ncc(-c2ccccc2F)nc1C(=O)Nc1cnccc1N1CCC(N)CC1</td>\n",
       "      <td>&lt;rdkit.Chem.rdchem.Mol object at 0x0000022DE1B...</td>\n",
       "      <td>407.186987</td>\n",
       "      <td>7</td>\n",
       "      <td>3</td>\n",
       "      <td>2.4397</td>\n",
       "      <td>yes</td>\n",
       "    </tr>\n",
       "    <tr>\n",
       "      <th>2</th>\n",
       "      <td>CHEMBL4084855</td>\n",
       "      <td>10.00</td>\n",
       "      <td>COc1ccc(N2CCN(c3nc(-c4ccncn4)cc(=O)n3C)[C@H](C...</td>\n",
       "      <td>&lt;rdkit.Chem.rdchem.Mol object at 0x0000022DE1B...</td>\n",
       "      <td>392.196074</td>\n",
       "      <td>8</td>\n",
       "      <td>0</td>\n",
       "      <td>1.9610</td>\n",
       "      <td>yes</td>\n",
       "    </tr>\n",
       "    <tr>\n",
       "      <th>3</th>\n",
       "      <td>CHEMBL564450</td>\n",
       "      <td>9.85</td>\n",
       "      <td>COc1cc(C2=C(c3cn(CCN4CCN(C)CC4)c4ccccc34)C(=O)...</td>\n",
       "      <td>&lt;rdkit.Chem.rdchem.Mol object at 0x0000022DE1B...</td>\n",
       "      <td>484.211055</td>\n",
       "      <td>7</td>\n",
       "      <td>1</td>\n",
       "      <td>3.2107</td>\n",
       "      <td>yes</td>\n",
       "    </tr>\n",
       "    <tr>\n",
       "      <th>4</th>\n",
       "      <td>CHEMBL3957649</td>\n",
       "      <td>9.70</td>\n",
       "      <td>Nc1ncc(-c2ccccc2F)nc1C(=O)Nc1cnccc1N1CCNCC1</td>\n",
       "      <td>&lt;rdkit.Chem.rdchem.Mol object at 0x0000022DE1B...</td>\n",
       "      <td>393.171336</td>\n",
       "      <td>7</td>\n",
       "      <td>3</td>\n",
       "      <td>1.9218</td>\n",
       "      <td>yes</td>\n",
       "    </tr>\n",
       "  </tbody>\n",
       "</table>\n",
       "</div>"
      ],
      "text/plain": [
       "  molecule_chembl_id  pchembl_value   \n",
       "0      CHEMBL2386094          10.89  \\\n",
       "1      CHEMBL3895998          10.00   \n",
       "2      CHEMBL4084855          10.00   \n",
       "3       CHEMBL564450           9.85   \n",
       "4      CHEMBL3957649           9.70   \n",
       "\n",
       "                                              smiles   \n",
       "0  O=C1NC(=O)C(c2cn3c4c(cc(F)cc24)CN(C(=O)N2CCOCC...  \\\n",
       "1     Nc1ncc(-c2ccccc2F)nc1C(=O)Nc1cnccc1N1CCC(N)CC1   \n",
       "2  COc1ccc(N2CCN(c3nc(-c4ccncn4)cc(=O)n3C)[C@H](C...   \n",
       "3  COc1cc(C2=C(c3cn(CCN4CCN(C)CC4)c4ccccc34)C(=O)...   \n",
       "4        Nc1ncc(-c2ccccc2F)nc1C(=O)Nc1cnccc1N1CCNCC1   \n",
       "\n",
       "                                               ROMol          MW  HBA  HBD   \n",
       "0  <rdkit.Chem.rdchem.Mol object at 0x0000022DE1B...  514.165248    6    1  \\\n",
       "1  <rdkit.Chem.rdchem.Mol object at 0x0000022DE1B...  407.186987    7    3   \n",
       "2  <rdkit.Chem.rdchem.Mol object at 0x0000022DE1B...  392.196074    8    0   \n",
       "3  <rdkit.Chem.rdchem.Mol object at 0x0000022DE1B...  484.211055    7    1   \n",
       "4  <rdkit.Chem.rdchem.Mol object at 0x0000022DE1B...  393.171336    7    3   \n",
       "\n",
       "     LogP rule_of_five_conform  \n",
       "0  3.3616                  yes  \n",
       "1  2.4397                  yes  \n",
       "2  1.9610                  yes  \n",
       "3  3.2107                  yes  \n",
       "4  1.9218                  yes  "
      ]
     },
     "execution_count": 1,
     "metadata": {},
     "output_type": "execute_result"
    }
   ],
   "source": [
    "import pandas as pd\n",
    "import os\n",
    "from pathlib import Path\n",
    "import requests\n",
    "\n",
    "# Definir el ID de UniProt y la URL del archivo CSV\n",
    "uniprot_id = 'P49841'\n",
    "csv_url = 'https://raw.githubusercontent.com/ramirezlab/CHEMO/main/2_PART_TWO/data/compounds_P49841_lipinski.csv'\n",
    "\n",
    "# Leer el archivo CSV desde la URL y cargarlo en un DataFrame\n",
    "df_output = pd.read_csv(csv_url)\n",
    "\n",
    "# Mostrar las primeras filas del DataFrame\n",
    "df_output.head()"
   ]
  },
  {
   "cell_type": "markdown",
   "metadata": {},
   "source": [
    "En esta práctica necesitamos solamente los ligandos que cumplen la *regla de los cinco*, por tanto, debemos filtrar por la columna: `rule_of_five_conform:yes`. Además, solamente necesitamos las primeras tres columnas"
   ]
  },
  {
   "cell_type": "code",
   "execution_count": 2,
   "metadata": {
    "ExecuteTime": {
     "end_time": "2023-08-28T01:05:55.392598200Z",
     "start_time": "2023-08-28T01:05:55.351605300Z"
    }
   },
   "outputs": [
    {
     "name": "stdout",
     "output_type": "stream",
     "text": [
      "# lignados totales: 2697\n",
      "# ligandos filtrados (rule_of_five_conform:yes): 2510\n"
     ]
    },
    {
     "data": {
      "text/html": [
       "<div>\n",
       "<style scoped>\n",
       "    .dataframe tbody tr th:only-of-type {\n",
       "        vertical-align: middle;\n",
       "    }\n",
       "\n",
       "    .dataframe tbody tr th {\n",
       "        vertical-align: top;\n",
       "    }\n",
       "\n",
       "    .dataframe thead th {\n",
       "        text-align: right;\n",
       "    }\n",
       "</style>\n",
       "<table border=\"1\" class=\"dataframe\">\n",
       "  <thead>\n",
       "    <tr style=\"text-align: right;\">\n",
       "      <th></th>\n",
       "      <th>molecule_chembl_id</th>\n",
       "      <th>pchembl_value</th>\n",
       "      <th>smiles</th>\n",
       "    </tr>\n",
       "  </thead>\n",
       "  <tbody>\n",
       "    <tr>\n",
       "      <th>0</th>\n",
       "      <td>CHEMBL2386094</td>\n",
       "      <td>10.89</td>\n",
       "      <td>O=C1NC(=O)C(c2cn3c4c(cc(F)cc24)CN(C(=O)N2CCOCC...</td>\n",
       "    </tr>\n",
       "    <tr>\n",
       "      <th>1</th>\n",
       "      <td>CHEMBL3895998</td>\n",
       "      <td>10.00</td>\n",
       "      <td>Nc1ncc(-c2ccccc2F)nc1C(=O)Nc1cnccc1N1CCC(N)CC1</td>\n",
       "    </tr>\n",
       "    <tr>\n",
       "      <th>2</th>\n",
       "      <td>CHEMBL4084855</td>\n",
       "      <td>10.00</td>\n",
       "      <td>COc1ccc(N2CCN(c3nc(-c4ccncn4)cc(=O)n3C)[C@H](C...</td>\n",
       "    </tr>\n",
       "    <tr>\n",
       "      <th>3</th>\n",
       "      <td>CHEMBL564450</td>\n",
       "      <td>9.85</td>\n",
       "      <td>COc1cc(C2=C(c3cn(CCN4CCN(C)CC4)c4ccccc34)C(=O)...</td>\n",
       "    </tr>\n",
       "    <tr>\n",
       "      <th>4</th>\n",
       "      <td>CHEMBL3957649</td>\n",
       "      <td>9.70</td>\n",
       "      <td>Nc1ncc(-c2ccccc2F)nc1C(=O)Nc1cnccc1N1CCNCC1</td>\n",
       "    </tr>\n",
       "  </tbody>\n",
       "</table>\n",
       "</div>"
      ],
      "text/plain": [
       "  molecule_chembl_id  pchembl_value   \n",
       "0      CHEMBL2386094          10.89  \\\n",
       "1      CHEMBL3895998          10.00   \n",
       "2      CHEMBL4084855          10.00   \n",
       "3       CHEMBL564450           9.85   \n",
       "4      CHEMBL3957649           9.70   \n",
       "\n",
       "                                              smiles  \n",
       "0  O=C1NC(=O)C(c2cn3c4c(cc(F)cc24)CN(C(=O)N2CCOCC...  \n",
       "1     Nc1ncc(-c2ccccc2F)nc1C(=O)Nc1cnccc1N1CCC(N)CC1  \n",
       "2  COc1ccc(N2CCN(c3nc(-c4ccncn4)cc(=O)n3C)[C@H](C...  \n",
       "3  COc1cc(C2=C(c3cn(CCN4CCN(C)CC4)c4ccccc34)C(=O)...  \n",
       "4        Nc1ncc(-c2ccccc2F)nc1C(=O)Nc1cnccc1N1CCNCC1  "
      ]
     },
     "execution_count": 2,
     "metadata": {},
     "output_type": "execute_result"
    }
   ],
   "source": [
    "print(f'# lignados totales: {len(df_output)}')\n",
    "df_output = df_output[df_output['rule_of_five_conform']=='yes']\n",
    "df_output = df_output[['molecule_chembl_id', 'pchembl_value', 'smiles']]\n",
    "print(f'# ligandos filtrados (rule_of_five_conform:yes): {len(df_output)}')\n",
    "\n",
    "df_output.head()"
   ]
  },
  {
   "cell_type": "markdown",
   "metadata": {},
   "source": [
    "\n",
    "## Procesamiento de los datos\n",
    "### Huellas Dactilares Moleculares (Fingerprints)\n",
    "\n",
    "Para entrenar nuestro algoritmo, es necesario convertir los ligandos en una lista de características. Actualmente, disponemos de la estructura molecular (SMILES) de cada ligando, y con esta información podemos generar una representación alternativa conocida como *fingerprint*. Esta representación se utilizará posteriormente para entrenar el modelo.\n",
    "\n",
    "Para identificar y generar las huellas dactilares de cada ligando, utilizaremos la librería `rdkit`. Esta operación resultará en la creación de una nueva columna en nuestro conjunto de datos que contendrá el fingerprint de cada ligando. Existen varios tipos de fingerprints, pero en esta ocasión trabajaremos con la [Extended Connectivity Fingerprint ECFP](https://docs.chemaxon.com/display/docs/extended-connectivity-fingerprint-ecfp.md) también conocida como morgan2_c/ecfp4 <sup> **4** </sup>."
   ]
  },
  {
   "cell_type": "code",
   "execution_count": 3,
   "metadata": {
    "ExecuteTime": {
     "end_time": "2023-08-28T01:06:23.022202600Z",
     "start_time": "2023-08-28T01:05:55.367566300Z"
    }
   },
   "outputs": [
    {
     "name": "stderr",
     "output_type": "stream",
     "text": [
      "WARNING: Ignoring invalid distribution -tkinter-pymol (c:\\users\\caramirezs\\anaconda3\\envs\\chemo\\dlls)\n",
      "WARNING: Ignoring invalid distribution -tkinter-pymol (c:\\users\\caramirezs\\anaconda3\\envs\\chemo\\dlls)\n",
      "WARNING: Ignoring invalid distribution -tkinter-pymol (c:\\users\\caramirezs\\anaconda3\\envs\\chemo\\dlls)\n",
      "WARNING: Ignoring invalid distribution -tkinter-pymol (c:\\users\\caramirezs\\anaconda3\\envs\\chemo\\dlls)\n",
      "WARNING: Ignoring invalid distribution -tkinter-pymol (c:\\users\\caramirezs\\anaconda3\\envs\\chemo\\dlls)\n",
      "WARNING: Ignoring invalid distribution -tkinter-pymol (c:\\users\\caramirezs\\anaconda3\\envs\\chemo\\dlls)\n"
     ]
    },
    {
     "name": "stdout",
     "output_type": "stream",
     "text": [
      "Collecting rdkit\n",
      "  Downloading rdkit-2023.3.3-cp39-cp39-win_amd64.whl (20.6 MB)\n",
      "                                              0.0/20.6 MB ? eta -:--:--\n",
      "                                              0.0/20.6 MB ? eta -:--:--\n",
      "                                              0.0/20.6 MB ? eta -:--:--\n",
      "                                              0.0/20.6 MB ? eta -:--:--\n",
      "                                             0.0/20.6 MB 131.3 kB/s eta 0:02:37\n",
      "                                             0.0/20.6 MB 151.3 kB/s eta 0:02:16\n",
      "                                             0.1/20.6 MB 218.8 kB/s eta 0:01:34\n",
      "                                             0.1/20.6 MB 218.6 kB/s eta 0:01:34\n",
      "                                             0.1/20.6 MB 218.6 kB/s eta 0:01:34\n",
      "                                             0.1/20.6 MB 218.6 kB/s eta 0:01:34\n",
      "                                             0.1/20.6 MB 218.6 kB/s eta 0:01:34\n",
      "                                             0.1/20.6 MB 218.6 kB/s eta 0:01:34\n",
      "                                             0.1/20.6 MB 163.8 kB/s eta 0:02:05\n",
      "                                             0.1/20.6 MB 194.9 kB/s eta 0:01:45\n",
      "                                             0.1/20.6 MB 218.6 kB/s eta 0:01:34\n",
      "                                             0.2/20.6 MB 238.5 kB/s eta 0:01:26\n",
      "                                             0.2/20.6 MB 238.5 kB/s eta 0:01:26\n",
      "                                             0.2/20.6 MB 238.5 kB/s eta 0:01:26\n",
      "                                             0.2/20.6 MB 239.6 kB/s eta 0:01:25\n",
      "                                             0.3/20.6 MB 280.9 kB/s eta 0:01:13\n",
      "                                             0.3/20.6 MB 345.2 kB/s eta 0:00:59\n",
      "                                             0.3/20.6 MB 345.2 kB/s eta 0:00:59\n",
      "                                             0.3/20.6 MB 345.2 kB/s eta 0:00:59\n",
      "                                             0.3/20.6 MB 345.2 kB/s eta 0:00:59\n",
      "                                             0.3/20.6 MB 345.2 kB/s eta 0:00:59\n",
      "                                             0.3/20.6 MB 345.2 kB/s eta 0:00:59\n",
      "                                             0.3/20.6 MB 345.2 kB/s eta 0:00:59\n",
      "                                             0.3/20.6 MB 345.2 kB/s eta 0:00:59\n",
      "                                             0.3/20.6 MB 345.2 kB/s eta 0:00:59\n",
      "                                             0.3/20.6 MB 249.8 kB/s eta 0:01:21\n",
      "                                             0.4/20.6 MB 256.2 kB/s eta 0:01:19\n",
      "                                             0.4/20.6 MB 254.9 kB/s eta 0:01:20\n",
      "                                             0.4/20.6 MB 260.8 kB/s eta 0:01:18\n",
      "                                             0.4/20.6 MB 262.2 kB/s eta 0:01:17\n",
      "                                             0.4/20.6 MB 260.8 kB/s eta 0:01:18\n",
      "                                             0.4/20.6 MB 266.1 kB/s eta 0:01:16\n",
      "                                             0.4/20.6 MB 266.1 kB/s eta 0:01:16\n",
      "                                             0.5/20.6 MB 261.0 kB/s eta 0:01:18\n",
      "                                             0.5/20.6 MB 259.8 kB/s eta 0:01:18\n",
      "     -                                       0.5/20.6 MB 293.2 kB/s eta 0:01:09\n",
      "     -                                       0.6/20.6 MB 305.2 kB/s eta 0:01:06\n",
      "     -                                       0.6/20.6 MB 305.2 kB/s eta 0:01:06\n",
      "     -                                       0.6/20.6 MB 305.2 kB/s eta 0:01:06\n",
      "     -                                       0.6/20.6 MB 305.2 kB/s eta 0:01:06\n",
      "     -                                       0.6/20.6 MB 305.2 kB/s eta 0:01:06\n",
      "     -                                       0.6/20.6 MB 305.2 kB/s eta 0:01:06\n",
      "     -                                       0.6/20.6 MB 305.2 kB/s eta 0:01:06\n",
      "     -                                       0.6/20.6 MB 305.2 kB/s eta 0:01:06\n",
      "     -                                       0.6/20.6 MB 305.2 kB/s eta 0:01:06\n",
      "     -                                       0.6/20.6 MB 305.2 kB/s eta 0:01:06\n",
      "     -                                       0.6/20.6 MB 305.2 kB/s eta 0:01:06\n",
      "     -                                       0.6/20.6 MB 305.2 kB/s eta 0:01:06\n",
      "     -                                       0.6/20.6 MB 305.2 kB/s eta 0:01:06\n",
      "     -                                       0.6/20.6 MB 305.2 kB/s eta 0:01:06\n",
      "     -                                       0.6/20.6 MB 228.2 kB/s eta 0:01:28\n",
      "     -                                       0.6/20.6 MB 229.2 kB/s eta 0:01:28\n",
      "     -                                       0.6/20.6 MB 229.2 kB/s eta 0:01:28\n",
      "     -                                       0.6/20.6 MB 231.6 kB/s eta 0:01:27\n",
      "     -                                       0.6/20.6 MB 228.7 kB/s eta 0:01:28\n",
      "     -                                       0.6/20.6 MB 228.7 kB/s eta 0:01:28\n",
      "     -                                       0.6/20.6 MB 230.9 kB/s eta 0:01:27\n",
      "     -                                       0.7/20.6 MB 229.4 kB/s eta 0:01:27\n",
      "     -                                       0.7/20.6 MB 229.4 kB/s eta 0:01:27\n",
      "     -                                       0.7/20.6 MB 229.0 kB/s eta 0:01:27\n",
      "     -                                       0.7/20.6 MB 229.0 kB/s eta 0:01:27\n",
      "     -                                       0.7/20.6 MB 231.2 kB/s eta 0:01:26\n",
      "     -                                       0.7/20.6 MB 227.4 kB/s eta 0:01:28\n",
      "     -                                       0.7/20.6 MB 227.4 kB/s eta 0:01:28\n",
      "     -                                       0.7/20.6 MB 230.6 kB/s eta 0:01:27\n",
      "     -                                       0.8/20.6 MB 234.6 kB/s eta 0:01:25\n",
      "     -                                       0.8/20.6 MB 247.0 kB/s eta 0:01:20\n",
      "     -                                       0.9/20.6 MB 260.3 kB/s eta 0:01:16\n",
      "     -                                       0.9/20.6 MB 260.3 kB/s eta 0:01:16\n",
      "     -                                       0.9/20.6 MB 262.8 kB/s eta 0:01:15\n",
      "     -                                       1.0/20.6 MB 280.1 kB/s eta 0:01:10\n",
      "     -                                       1.0/20.6 MB 283.0 kB/s eta 0:01:10\n",
      "     -                                       1.0/20.6 MB 283.0 kB/s eta 0:01:10\n",
      "     -                                       1.0/20.6 MB 283.0 kB/s eta 0:01:10\n",
      "     -                                       1.0/20.6 MB 283.0 kB/s eta 0:01:10\n",
      "     -                                       1.0/20.6 MB 271.7 kB/s eta 0:01:12\n",
      "     -                                       1.0/20.6 MB 276.5 kB/s eta 0:01:11\n",
      "     --                                      1.1/20.6 MB 303.1 kB/s eta 0:01:05\n",
      "     --                                      1.1/20.6 MB 303.1 kB/s eta 0:01:05\n",
      "     --                                      1.2/20.6 MB 313.1 kB/s eta 0:01:02\n",
      "     --                                      1.3/20.6 MB 339.6 kB/s eta 0:00:57\n",
      "     --                                      1.5/20.6 MB 390.1 kB/s eta 0:00:49\n",
      "     ---                                     1.8/20.6 MB 450.6 kB/s eta 0:00:42\n",
      "     ---                                     1.8/20.6 MB 452.2 kB/s eta 0:00:42\n",
      "     ---                                     1.8/20.6 MB 452.2 kB/s eta 0:00:42\n",
      "     ---                                     1.8/20.6 MB 452.2 kB/s eta 0:00:42\n",
      "     ---                                     1.8/20.6 MB 452.2 kB/s eta 0:00:42\n",
      "     ---                                     1.8/20.6 MB 452.2 kB/s eta 0:00:42\n",
      "     ---                                     1.8/20.6 MB 452.2 kB/s eta 0:00:42\n",
      "     ---                                     1.8/20.6 MB 452.2 kB/s eta 0:00:42\n",
      "     ---                                     1.9/20.6 MB 436.9 kB/s eta 0:00:43\n",
      "     ---                                     2.0/20.6 MB 448.6 kB/s eta 0:00:42\n",
      "     ---                                     2.0/20.6 MB 448.6 kB/s eta 0:00:42\n",
      "     ----                                    2.2/20.6 MB 483.1 kB/s eta 0:00:39\n",
      "     ----                                    2.2/20.6 MB 481.9 kB/s eta 0:00:39\n",
      "     ----                                    2.2/20.6 MB 481.9 kB/s eta 0:00:39\n",
      "     ----                                    2.2/20.6 MB 481.9 kB/s eta 0:00:39\n",
      "     ----                                    2.2/20.6 MB 474.1 kB/s eta 0:00:39\n",
      "     ----                                    2.3/20.6 MB 486.7 kB/s eta 0:00:38\n",
      "     ----                                    2.4/20.6 MB 493.7 kB/s eta 0:00:37\n",
      "     ----                                    2.4/20.6 MB 493.7 kB/s eta 0:00:37\n",
      "     ----                                    2.4/20.6 MB 487.3 kB/s eta 0:00:38\n",
      "     ----                                    2.4/20.6 MB 495.1 kB/s eta 0:00:37\n",
      "     ----                                    2.5/20.6 MB 497.8 kB/s eta 0:00:37\n",
      "     ----                                    2.5/20.6 MB 497.8 kB/s eta 0:00:37\n",
      "     ----                                    2.5/20.6 MB 497.8 kB/s eta 0:00:37\n",
      "     ----                                    2.5/20.6 MB 497.8 kB/s eta 0:00:37\n",
      "     ----                                    2.5/20.6 MB 497.8 kB/s eta 0:00:37\n",
      "     ----                                    2.5/20.6 MB 497.8 kB/s eta 0:00:37\n",
      "     ----                                    2.5/20.6 MB 468.7 kB/s eta 0:00:39\n",
      "     ----                                    2.5/20.6 MB 472.3 kB/s eta 0:00:39\n",
      "     ----                                    2.6/20.6 MB 485.3 kB/s eta 0:00:37\n",
      "     -----                                   2.8/20.6 MB 520.1 kB/s eta 0:00:35\n",
      "     -----                                   2.8/20.6 MB 520.1 kB/s eta 0:00:35\n",
      "     -----                                   2.8/20.6 MB 520.1 kB/s eta 0:00:35\n",
      "     -----                                   2.8/20.6 MB 520.1 kB/s eta 0:00:35\n",
      "     -----                                   2.8/20.6 MB 520.1 kB/s eta 0:00:35\n",
      "     -----                                   2.8/20.6 MB 520.1 kB/s eta 0:00:35\n",
      "     -----                                   2.8/20.6 MB 520.1 kB/s eta 0:00:35\n",
      "     -----                                   2.8/20.6 MB 520.1 kB/s eta 0:00:35\n",
      "     -----                                   2.8/20.6 MB 520.1 kB/s eta 0:00:35\n",
      "     -----                                   2.8/20.6 MB 484.5 kB/s eta 0:00:37\n",
      "     -----                                   2.9/20.6 MB 485.9 kB/s eta 0:00:37\n",
      "     -----                                   2.9/20.6 MB 486.8 kB/s eta 0:00:37\n",
      "     -----                                   2.9/20.6 MB 486.8 kB/s eta 0:00:37\n",
      "     -----                                   2.9/20.6 MB 488.1 kB/s eta 0:00:37\n",
      "     -----                                   3.0/20.6 MB 489.0 kB/s eta 0:00:37\n",
      "     -----                                   3.0/20.6 MB 489.0 kB/s eta 0:00:37\n",
      "     -----                                   3.0/20.6 MB 488.7 kB/s eta 0:00:36\n",
      "     -----                                   3.1/20.6 MB 498.2 kB/s eta 0:00:36\n",
      "     -----                                   3.1/20.6 MB 498.5 kB/s eta 0:00:36\n",
      "     -----                                   3.1/20.6 MB 498.5 kB/s eta 0:00:36\n",
      "     -----                                   3.1/20.6 MB 498.5 kB/s eta 0:00:36\n",
      "     -----                                   3.1/20.6 MB 498.5 kB/s eta 0:00:36\n",
      "     -----                                   3.1/20.6 MB 498.5 kB/s eta 0:00:36\n",
      "     -----                                   3.1/20.6 MB 482.4 kB/s eta 0:00:37\n",
      "     -----                                   3.1/20.6 MB 482.4 kB/s eta 0:00:37\n",
      "     -----                                   3.1/20.6 MB 482.4 kB/s eta 0:00:37\n",
      "     -----                                   3.1/20.6 MB 473.7 kB/s eta 0:00:37\n",
      "     ------                                  3.2/20.6 MB 475.4 kB/s eta 0:00:37\n",
      "     ------                                  3.2/20.6 MB 474.7 kB/s eta 0:00:37\n",
      "     ------                                  3.2/20.6 MB 474.8 kB/s eta 0:00:37\n",
      "     ------                                  3.3/20.6 MB 483.6 kB/s eta 0:00:36\n",
      "     ------                                  3.4/20.6 MB 491.9 kB/s eta 0:00:35\n",
      "     ------                                  3.4/20.6 MB 491.9 kB/s eta 0:00:35\n",
      "     ------                                  3.4/20.6 MB 491.9 kB/s eta 0:00:35\n",
      "     ------                                  3.4/20.6 MB 483.5 kB/s eta 0:00:36\n",
      "     ------                                  3.5/20.6 MB 496.6 kB/s eta 0:00:35\n",
      "     -------                                 3.7/20.6 MB 524.6 kB/s eta 0:00:33\n",
      "     -------                                 3.7/20.6 MB 524.6 kB/s eta 0:00:33\n",
      "     -------                                 3.9/20.6 MB 538.3 kB/s eta 0:00:32\n",
      "     -------                                 3.9/20.6 MB 538.3 kB/s eta 0:00:32\n",
      "     -------                                 3.9/20.6 MB 538.3 kB/s eta 0:00:32\n",
      "     -------                                 3.9/20.6 MB 538.3 kB/s eta 0:00:32\n",
      "     -------                                 3.9/20.6 MB 538.3 kB/s eta 0:00:32\n",
      "     -------                                 3.9/20.6 MB 525.4 kB/s eta 0:00:32\n",
      "     -------                                 4.0/20.6 MB 533.1 kB/s eta 0:00:32\n",
      "     -------                                 4.0/20.6 MB 537.7 kB/s eta 0:00:31\n",
      "     -------                                 4.1/20.6 MB 539.8 kB/s eta 0:00:31\n",
      "     -------                                 4.1/20.6 MB 539.8 kB/s eta 0:00:31\n",
      "     -------                                 4.1/20.6 MB 540.1 kB/s eta 0:00:31\n",
      "     ---------                               5.0/20.6 MB 644.7 kB/s eta 0:00:25\n",
      "     ---------                               5.2/20.6 MB 679.3 kB/s eta 0:00:23\n",
      "     ---------                               5.2/20.6 MB 679.3 kB/s eta 0:00:23\n",
      "     ---------                               5.2/20.6 MB 679.3 kB/s eta 0:00:23\n",
      "     ---------                               5.2/20.6 MB 679.3 kB/s eta 0:00:23\n",
      "     ---------                               5.2/20.6 MB 679.3 kB/s eta 0:00:23\n",
      "     ---------                               5.2/20.6 MB 679.3 kB/s eta 0:00:23\n",
      "     -----------                             5.9/20.6 MB 735.9 kB/s eta 0:00:20\n",
      "     -----------                             6.3/20.6 MB 781.6 kB/s eta 0:00:19\n",
      "     -----------                             6.3/20.6 MB 781.6 kB/s eta 0:00:19\n",
      "     -----------                             6.3/20.6 MB 781.6 kB/s eta 0:00:19\n",
      "     -----------                             6.3/20.6 MB 781.6 kB/s eta 0:00:19\n",
      "     -----------                             6.3/20.6 MB 781.6 kB/s eta 0:00:19\n",
      "     -----------                             6.3/20.6 MB 781.6 kB/s eta 0:00:19\n",
      "     -----------                             6.3/20.6 MB 781.6 kB/s eta 0:00:19\n",
      "     -------------                           7.2/20.6 MB 860.5 kB/s eta 0:00:16\n",
      "     -------------                           7.3/20.6 MB 871.0 kB/s eta 0:00:16\n",
      "     -------------                           7.3/20.6 MB 871.0 kB/s eta 0:00:16\n",
      "     ---------------                         8.0/20.6 MB 935.1 kB/s eta 0:00:14\n",
      "     ---------------                         8.4/20.6 MB 978.3 kB/s eta 0:00:13\n",
      "     -----------------                        8.9/20.6 MB 1.0 MB/s eta 0:00:12\n",
      "     ------------------                       9.4/20.6 MB 1.1 MB/s eta 0:00:11\n",
      "     ------------------                       9.4/20.6 MB 1.1 MB/s eta 0:00:11\n",
      "     ------------------                       9.4/20.6 MB 1.1 MB/s eta 0:00:11\n",
      "     ------------------                       9.4/20.6 MB 1.1 MB/s eta 0:00:11\n",
      "     ------------------                       9.5/20.6 MB 1.1 MB/s eta 0:00:11\n",
      "     -------------------                      10.2/20.6 MB 1.1 MB/s eta 0:00:10\n",
      "     --------------------                     10.6/20.6 MB 1.3 MB/s eta 0:00:08\n",
      "     ---------------------                    11.2/20.6 MB 1.9 MB/s eta 0:00:05\n",
      "     ----------------------                   11.5/20.6 MB 2.0 MB/s eta 0:00:05\n",
      "     -----------------------                  11.9/20.6 MB 2.0 MB/s eta 0:00:05\n",
      "     -----------------------                  11.9/20.6 MB 2.0 MB/s eta 0:00:05\n",
      "     -----------------------                  12.0/20.6 MB 2.0 MB/s eta 0:00:05\n",
      "     ------------------------                 12.4/20.6 MB 2.2 MB/s eta 0:00:04\n",
      "     ------------------------                 12.7/20.6 MB 2.6 MB/s eta 0:00:04\n",
      "     ------------------------                 12.8/20.6 MB 2.6 MB/s eta 0:00:04\n",
      "     -------------------------                13.2/20.6 MB 3.2 MB/s eta 0:00:03\n",
      "     --------------------------               13.6/20.6 MB 4.3 MB/s eta 0:00:02\n",
      "     --------------------------               13.8/20.6 MB 4.3 MB/s eta 0:00:02\n",
      "     ---------------------------              14.1/20.6 MB 4.4 MB/s eta 0:00:02\n",
      "     ----------------------------             14.6/20.6 MB 5.4 MB/s eta 0:00:02\n",
      "     -----------------------------            15.0/20.6 MB 5.4 MB/s eta 0:00:02\n",
      "     -----------------------------            15.3/20.6 MB 5.3 MB/s eta 0:00:02\n",
      "     -----------------------------            15.4/20.6 MB 5.2 MB/s eta 0:00:02\n",
      "     ------------------------------           15.6/20.6 MB 5.8 MB/s eta 0:00:01\n",
      "     ------------------------------           15.7/20.6 MB 5.8 MB/s eta 0:00:01\n",
      "     ------------------------------           15.9/20.6 MB 5.6 MB/s eta 0:00:01\n",
      "     ------------------------------           15.9/20.6 MB 5.5 MB/s eta 0:00:01\n",
      "     -------------------------------          16.0/20.6 MB 5.4 MB/s eta 0:00:01\n",
      "     -------------------------------          16.0/20.6 MB 5.4 MB/s eta 0:00:01\n",
      "     -------------------------------          16.0/20.6 MB 5.4 MB/s eta 0:00:01\n",
      "     -------------------------------          16.0/20.6 MB 5.0 MB/s eta 0:00:01\n",
      "     -------------------------------          16.1/20.6 MB 5.0 MB/s eta 0:00:01\n",
      "     -------------------------------          16.1/20.6 MB 5.0 MB/s eta 0:00:01\n",
      "     -------------------------------          16.1/20.6 MB 5.0 MB/s eta 0:00:01\n",
      "     -------------------------------          16.1/20.6 MB 5.0 MB/s eta 0:00:01\n",
      "     -------------------------------          16.1/20.6 MB 4.5 MB/s eta 0:00:01\n",
      "     -------------------------------          16.1/20.6 MB 4.5 MB/s eta 0:00:02\n",
      "     -------------------------------          16.1/20.6 MB 4.3 MB/s eta 0:00:02\n",
      "     -------------------------------          16.2/20.6 MB 4.3 MB/s eta 0:00:02\n",
      "     -------------------------------          16.2/20.6 MB 4.2 MB/s eta 0:00:02\n",
      "     -------------------------------          16.2/20.6 MB 4.2 MB/s eta 0:00:02\n",
      "     -------------------------------          16.2/20.6 MB 4.2 MB/s eta 0:00:02\n",
      "     -------------------------------          16.2/20.6 MB 4.2 MB/s eta 0:00:02\n",
      "     -------------------------------          16.2/20.6 MB 4.2 MB/s eta 0:00:02\n",
      "     -------------------------------          16.2/20.6 MB 4.2 MB/s eta 0:00:02\n",
      "     -------------------------------          16.2/20.6 MB 3.7 MB/s eta 0:00:02\n",
      "     -------------------------------          16.2/20.6 MB 3.7 MB/s eta 0:00:02\n",
      "     -------------------------------          16.2/20.6 MB 3.7 MB/s eta 0:00:02\n",
      "     -------------------------------          16.2/20.6 MB 3.6 MB/s eta 0:00:02\n",
      "     -------------------------------          16.3/20.6 MB 3.5 MB/s eta 0:00:02\n",
      "     -------------------------------          16.3/20.6 MB 3.5 MB/s eta 0:00:02\n",
      "     -------------------------------          16.3/20.6 MB 3.4 MB/s eta 0:00:02\n",
      "     -------------------------------          16.3/20.6 MB 3.4 MB/s eta 0:00:02\n",
      "     -------------------------------          16.4/20.6 MB 3.3 MB/s eta 0:00:02\n",
      "     -------------------------------          16.4/20.6 MB 3.3 MB/s eta 0:00:02\n",
      "     -------------------------------          16.4/20.6 MB 3.2 MB/s eta 0:00:02\n",
      "     -------------------------------          16.4/20.6 MB 3.2 MB/s eta 0:00:02\n",
      "     -------------------------------          16.4/20.6 MB 3.2 MB/s eta 0:00:02\n",
      "     -------------------------------          16.4/20.6 MB 3.2 MB/s eta 0:00:02\n",
      "     -------------------------------          16.4/20.6 MB 3.2 MB/s eta 0:00:02\n",
      "     -------------------------------          16.4/20.6 MB 3.2 MB/s eta 0:00:02\n",
      "     -------------------------------          16.4/20.6 MB 3.2 MB/s eta 0:00:02\n",
      "     -------------------------------          16.4/20.6 MB 3.2 MB/s eta 0:00:02\n",
      "     --------------------------------         16.5/20.6 MB 2.9 MB/s eta 0:00:02\n",
      "     --------------------------------         16.5/20.6 MB 2.8 MB/s eta 0:00:02\n",
      "     --------------------------------         16.5/20.6 MB 2.8 MB/s eta 0:00:02\n",
      "     --------------------------------         16.5/20.6 MB 2.8 MB/s eta 0:00:02\n",
      "     --------------------------------         16.5/20.6 MB 2.7 MB/s eta 0:00:02\n",
      "     --------------------------------         16.5/20.6 MB 2.9 MB/s eta 0:00:02\n",
      "     --------------------------------         16.7/20.6 MB 2.9 MB/s eta 0:00:02\n",
      "     --------------------------------         16.9/20.6 MB 2.9 MB/s eta 0:00:02\n",
      "     --------------------------------         17.0/20.6 MB 2.8 MB/s eta 0:00:02\n",
      "     ---------------------------------        17.0/20.6 MB 2.8 MB/s eta 0:00:02\n",
      "     ---------------------------------        17.0/20.6 MB 2.8 MB/s eta 0:00:02\n",
      "     ---------------------------------        17.2/20.6 MB 2.7 MB/s eta 0:00:02\n",
      "     ---------------------------------        17.3/20.6 MB 2.7 MB/s eta 0:00:02\n",
      "     ----------------------------------       17.6/20.6 MB 2.8 MB/s eta 0:00:02\n",
      "     ----------------------------------       17.7/20.6 MB 2.7 MB/s eta 0:00:02\n",
      "     ----------------------------------       17.7/20.6 MB 2.7 MB/s eta 0:00:02\n",
      "     ----------------------------------       17.7/20.6 MB 2.7 MB/s eta 0:00:02\n",
      "     ----------------------------------       17.7/20.6 MB 2.7 MB/s eta 0:00:02\n",
      "     ----------------------------------       17.7/20.6 MB 2.7 MB/s eta 0:00:02\n",
      "     ----------------------------------       17.7/20.6 MB 2.6 MB/s eta 0:00:02\n",
      "     ----------------------------------       17.8/20.6 MB 2.5 MB/s eta 0:00:02\n",
      "     ----------------------------------       17.9/20.6 MB 2.5 MB/s eta 0:00:02\n",
      "     ----------------------------------       17.9/20.6 MB 2.5 MB/s eta 0:00:02\n",
      "     ----------------------------------       17.9/20.6 MB 2.5 MB/s eta 0:00:02\n",
      "     ----------------------------------       17.9/20.6 MB 2.4 MB/s eta 0:00:02\n",
      "     ----------------------------------       18.0/20.6 MB 2.4 MB/s eta 0:00:02\n",
      "     ----------------------------------       18.0/20.6 MB 2.4 MB/s eta 0:00:02\n",
      "     -----------------------------------      18.0/20.6 MB 2.4 MB/s eta 0:00:02\n",
      "     -----------------------------------      18.1/20.6 MB 2.3 MB/s eta 0:00:02\n",
      "     -----------------------------------      18.1/20.6 MB 2.3 MB/s eta 0:00:02\n",
      "     -----------------------------------      18.1/20.6 MB 2.3 MB/s eta 0:00:02\n",
      "     -----------------------------------      18.2/20.6 MB 2.3 MB/s eta 0:00:02\n",
      "     -----------------------------------      18.2/20.6 MB 2.3 MB/s eta 0:00:02\n",
      "     -----------------------------------      18.3/20.6 MB 2.2 MB/s eta 0:00:02\n",
      "     -----------------------------------      18.3/20.6 MB 2.2 MB/s eta 0:00:02\n",
      "     -----------------------------------      18.3/20.6 MB 2.2 MB/s eta 0:00:02\n",
      "     -----------------------------------      18.3/20.6 MB 2.2 MB/s eta 0:00:02\n",
      "     -----------------------------------      18.3/20.6 MB 2.2 MB/s eta 0:00:02\n",
      "     -----------------------------------      18.4/20.6 MB 2.1 MB/s eta 0:00:02\n",
      "     -----------------------------------      18.4/20.6 MB 2.1 MB/s eta 0:00:02\n",
      "     -----------------------------------      18.4/20.6 MB 2.1 MB/s eta 0:00:02\n",
      "     -----------------------------------      18.4/20.6 MB 2.1 MB/s eta 0:00:02\n",
      "     -----------------------------------      18.4/20.6 MB 2.1 MB/s eta 0:00:02\n",
      "     -----------------------------------      18.5/20.6 MB 2.0 MB/s eta 0:00:02\n",
      "     -----------------------------------      18.5/20.6 MB 2.0 MB/s eta 0:00:02\n",
      "     -----------------------------------      18.5/20.6 MB 2.0 MB/s eta 0:00:02\n",
      "     -----------------------------------      18.5/20.6 MB 2.0 MB/s eta 0:00:02\n",
      "     -----------------------------------      18.5/20.6 MB 2.0 MB/s eta 0:00:02\n",
      "     -----------------------------------      18.5/20.6 MB 2.0 MB/s eta 0:00:02\n",
      "     -----------------------------------      18.5/20.6 MB 2.0 MB/s eta 0:00:02\n",
      "     -----------------------------------      18.5/20.6 MB 1.9 MB/s eta 0:00:02\n",
      "     ------------------------------------     18.5/20.6 MB 1.9 MB/s eta 0:00:02\n",
      "     ------------------------------------     18.5/20.6 MB 1.9 MB/s eta 0:00:02\n",
      "     ------------------------------------     18.5/20.6 MB 1.9 MB/s eta 0:00:02\n",
      "     ------------------------------------     18.6/20.6 MB 1.8 MB/s eta 0:00:02\n",
      "     ------------------------------------     18.6/20.6 MB 1.8 MB/s eta 0:00:02\n",
      "     ------------------------------------     18.6/20.6 MB 1.8 MB/s eta 0:00:02\n",
      "     ------------------------------------     18.7/20.6 MB 1.8 MB/s eta 0:00:02\n",
      "     ------------------------------------     18.7/20.6 MB 1.8 MB/s eta 0:00:02\n",
      "     ------------------------------------     18.7/20.6 MB 1.8 MB/s eta 0:00:02\n",
      "     ------------------------------------     18.7/20.6 MB 1.8 MB/s eta 0:00:02\n",
      "     ------------------------------------     18.8/20.6 MB 1.8 MB/s eta 0:00:02\n",
      "     ------------------------------------     18.8/20.6 MB 1.8 MB/s eta 0:00:02\n",
      "     ------------------------------------     18.8/20.6 MB 1.7 MB/s eta 0:00:01\n",
      "     ------------------------------------     18.9/20.6 MB 1.7 MB/s eta 0:00:01\n",
      "     ------------------------------------     18.9/20.6 MB 1.7 MB/s eta 0:00:01\n",
      "     ------------------------------------     18.9/20.6 MB 1.7 MB/s eta 0:00:01\n",
      "     ------------------------------------     18.9/20.6 MB 1.7 MB/s eta 0:00:01\n",
      "     ------------------------------------     19.0/20.6 MB 1.7 MB/s eta 0:00:01\n",
      "     ------------------------------------     19.0/20.6 MB 1.7 MB/s eta 0:00:01\n",
      "     ------------------------------------     19.0/20.6 MB 1.7 MB/s eta 0:00:01\n",
      "     ------------------------------------     19.0/20.6 MB 1.7 MB/s eta 0:00:01\n",
      "     ------------------------------------     19.0/20.6 MB 1.7 MB/s eta 0:00:01\n",
      "     ------------------------------------     19.0/20.6 MB 1.7 MB/s eta 0:00:01\n",
      "     ------------------------------------     19.0/20.6 MB 1.7 MB/s eta 0:00:01\n",
      "     ------------------------------------     19.0/20.6 MB 1.7 MB/s eta 0:00:01\n",
      "     ------------------------------------     19.0/20.6 MB 1.7 MB/s eta 0:00:01\n",
      "     ------------------------------------     19.0/20.6 MB 1.7 MB/s eta 0:00:01\n",
      "     ------------------------------------     19.0/20.6 MB 1.6 MB/s eta 0:00:02\n",
      "     ------------------------------------     19.0/20.6 MB 1.6 MB/s eta 0:00:02\n",
      "     ------------------------------------     19.0/20.6 MB 1.5 MB/s eta 0:00:02\n",
      "     -------------------------------------    19.0/20.6 MB 1.5 MB/s eta 0:00:02\n",
      "     -------------------------------------    19.0/20.6 MB 1.5 MB/s eta 0:00:02\n",
      "     -------------------------------------    19.1/20.6 MB 1.5 MB/s eta 0:00:01\n",
      "     -------------------------------------    19.1/20.6 MB 1.5 MB/s eta 0:00:01\n",
      "     -------------------------------------    19.1/20.6 MB 1.5 MB/s eta 0:00:01\n",
      "     -------------------------------------    19.1/20.6 MB 1.5 MB/s eta 0:00:01\n",
      "     -------------------------------------    19.1/20.6 MB 1.5 MB/s eta 0:00:01\n",
      "     -------------------------------------    19.1/20.6 MB 1.5 MB/s eta 0:00:01\n",
      "     -------------------------------------    19.1/20.6 MB 1.5 MB/s eta 0:00:01\n",
      "     -------------------------------------    19.1/20.6 MB 1.5 MB/s eta 0:00:01\n",
      "     -------------------------------------    19.1/20.6 MB 1.5 MB/s eta 0:00:01\n",
      "     -------------------------------------    19.2/20.6 MB 1.4 MB/s eta 0:00:01\n",
      "     -------------------------------------    19.2/20.6 MB 1.4 MB/s eta 0:00:01\n",
      "     -------------------------------------    19.2/20.6 MB 1.4 MB/s eta 0:00:01\n",
      "     -------------------------------------    19.2/20.6 MB 1.4 MB/s eta 0:00:01\n",
      "     -------------------------------------    19.3/20.6 MB 1.4 MB/s eta 0:00:01\n",
      "     -------------------------------------    19.3/20.6 MB 1.4 MB/s eta 0:00:01\n",
      "     -------------------------------------    19.3/20.6 MB 1.4 MB/s eta 0:00:01\n",
      "     -------------------------------------    19.3/20.6 MB 1.4 MB/s eta 0:00:01\n",
      "     -------------------------------------    19.3/20.6 MB 1.4 MB/s eta 0:00:01\n",
      "     -------------------------------------    19.3/20.6 MB 1.3 MB/s eta 0:00:01\n",
      "     -------------------------------------    19.3/20.6 MB 1.3 MB/s eta 0:00:01\n",
      "     -------------------------------------    19.4/20.6 MB 1.3 MB/s eta 0:00:01\n",
      "     -------------------------------------    19.4/20.6 MB 1.3 MB/s eta 0:00:01\n",
      "     -------------------------------------    19.4/20.6 MB 1.3 MB/s eta 0:00:01\n",
      "     -------------------------------------    19.4/20.6 MB 1.3 MB/s eta 0:00:01\n",
      "     -------------------------------------    19.4/20.6 MB 1.3 MB/s eta 0:00:01\n",
      "     -------------------------------------    19.4/20.6 MB 1.3 MB/s eta 0:00:01\n",
      "     -------------------------------------    19.4/20.6 MB 1.3 MB/s eta 0:00:01\n",
      "     -------------------------------------    19.4/20.6 MB 1.3 MB/s eta 0:00:01\n",
      "     -------------------------------------    19.4/20.6 MB 1.3 MB/s eta 0:00:01\n",
      "     -------------------------------------    19.4/20.6 MB 1.3 MB/s eta 0:00:01\n",
      "     -------------------------------------    19.4/20.6 MB 1.2 MB/s eta 0:00:01\n",
      "     -------------------------------------    19.5/20.6 MB 1.2 MB/s eta 0:00:01\n",
      "     -------------------------------------    19.5/20.6 MB 1.2 MB/s eta 0:00:01\n",
      "     -------------------------------------    19.5/20.6 MB 1.2 MB/s eta 0:00:01\n",
      "     -------------------------------------    19.5/20.6 MB 1.2 MB/s eta 0:00:01\n",
      "     --------------------------------------   19.6/20.6 MB 1.2 MB/s eta 0:00:01\n",
      "     --------------------------------------   19.6/20.6 MB 1.2 MB/s eta 0:00:01\n",
      "     --------------------------------------   19.7/20.6 MB 1.2 MB/s eta 0:00:01\n",
      "     --------------------------------------   19.8/20.6 MB 1.2 MB/s eta 0:00:01\n",
      "     --------------------------------------   19.8/20.6 MB 1.2 MB/s eta 0:00:01\n",
      "     --------------------------------------   19.8/20.6 MB 1.2 MB/s eta 0:00:01\n",
      "     --------------------------------------   19.8/20.6 MB 1.2 MB/s eta 0:00:01\n",
      "     --------------------------------------   19.8/20.6 MB 1.2 MB/s eta 0:00:01\n",
      "     --------------------------------------   19.8/20.6 MB 1.2 MB/s eta 0:00:01\n",
      "     --------------------------------------   19.8/20.6 MB 1.2 MB/s eta 0:00:01\n",
      "     --------------------------------------   19.8/20.6 MB 1.2 MB/s eta 0:00:01\n",
      "     --------------------------------------   19.8/20.6 MB 1.2 MB/s eta 0:00:01\n",
      "     --------------------------------------   19.8/20.6 MB 1.2 MB/s eta 0:00:01\n",
      "     --------------------------------------   19.8/20.6 MB 1.2 MB/s eta 0:00:01\n",
      "     --------------------------------------   19.9/20.6 MB 1.1 MB/s eta 0:00:01\n",
      "     --------------------------------------   19.9/20.6 MB 1.1 MB/s eta 0:00:01\n",
      "     --------------------------------------   19.9/20.6 MB 1.1 MB/s eta 0:00:01\n",
      "     ---------------------------------------  20.0/20.6 MB 1.1 MB/s eta 0:00:01\n",
      "     ---------------------------------------  20.1/20.6 MB 1.1 MB/s eta 0:00:01\n",
      "     ---------------------------------------  20.2/20.6 MB 1.1 MB/s eta 0:00:01\n",
      "     ---------------------------------------  20.2/20.6 MB 1.1 MB/s eta 0:00:01\n",
      "     ---------------------------------------  20.2/20.6 MB 1.1 MB/s eta 0:00:01\n",
      "     ---------------------------------------  20.2/20.6 MB 1.1 MB/s eta 0:00:01\n",
      "     ---------------------------------------  20.3/20.6 MB 1.1 MB/s eta 0:00:01\n",
      "     ---------------------------------------  20.3/20.6 MB 1.1 MB/s eta 0:00:01\n",
      "     ---------------------------------------  20.4/20.6 MB 1.1 MB/s eta 0:00:01\n",
      "     ---------------------------------------  20.4/20.6 MB 1.1 MB/s eta 0:00:01\n",
      "     ---------------------------------------  20.4/20.6 MB 1.1 MB/s eta 0:00:01\n",
      "     ---------------------------------------  20.4/20.6 MB 1.1 MB/s eta 0:00:01\n",
      "     ---------------------------------------  20.4/20.6 MB 1.1 MB/s eta 0:00:01\n",
      "     ---------------------------------------  20.4/20.6 MB 1.1 MB/s eta 0:00:01\n",
      "     ---------------------------------------  20.4/20.6 MB 1.1 MB/s eta 0:00:01\n",
      "     ---------------------------------------  20.4/20.6 MB 1.1 MB/s eta 0:00:01\n",
      "     ---------------------------------------  20.4/20.6 MB 1.1 MB/s eta 0:00:01\n",
      "     ---------------------------------------  20.4/20.6 MB 1.1 MB/s eta 0:00:01\n",
      "     ---------------------------------------  20.4/20.6 MB 1.1 MB/s eta 0:00:01\n",
      "     ---------------------------------------  20.4/20.6 MB 1.1 MB/s eta 0:00:01\n",
      "     ---------------------------------------  20.4/20.6 MB 1.1 MB/s eta 0:00:01\n",
      "     ---------------------------------------  20.4/20.6 MB 1.1 MB/s eta 0:00:01\n",
      "     ---------------------------------------  20.4/20.6 MB 1.1 MB/s eta 0:00:01\n",
      "     ---------------------------------------  20.4/20.6 MB 1.0 MB/s eta 0:00:01\n",
      "     ---------------------------------------  20.5/20.6 MB 1.0 MB/s eta 0:00:01\n",
      "     ---------------------------------------  20.5/20.6 MB 1.0 MB/s eta 0:00:01\n",
      "     -------------------------------------  20.5/20.6 MB 999.6 kB/s eta 0:00:01\n",
      "     -------------------------------------  20.5/20.6 MB 995.0 kB/s eta 0:00:01\n",
      "     -------------------------------------  20.5/20.6 MB 992.0 kB/s eta 0:00:01\n",
      "     -------------------------------------  20.6/20.6 MB 989.0 kB/s eta 0:00:01\n",
      "     -------------------------------------- 20.6/20.6 MB 982.3 kB/s eta 0:00:00\n",
      "Requirement already satisfied: numpy in c:\\users\\caramirezs\\anaconda3\\envs\\chemo\\lib\\site-packages (from rdkit) (1.24.3)\n",
      "Requirement already satisfied: Pillow in c:\\users\\caramirezs\\anaconda3\\envs\\chemo\\lib\\site-packages (from rdkit) (9.4.0)\n",
      "Installing collected packages: rdkit\n",
      "Successfully installed rdkit-2023.3.3\n"
     ]
    },
    {
     "data": {
      "text/html": [
       "<div>\n",
       "<style scoped>\n",
       "    .dataframe tbody tr th:only-of-type {\n",
       "        vertical-align: middle;\n",
       "    }\n",
       "\n",
       "    .dataframe tbody tr th {\n",
       "        vertical-align: top;\n",
       "    }\n",
       "\n",
       "    .dataframe thead th {\n",
       "        text-align: right;\n",
       "    }\n",
       "</style>\n",
       "<table border=\"1\" class=\"dataframe\">\n",
       "  <thead>\n",
       "    <tr style=\"text-align: right;\">\n",
       "      <th></th>\n",
       "      <th>molecule_chembl_id</th>\n",
       "      <th>morgan2_c</th>\n",
       "      <th>pchembl_value</th>\n",
       "    </tr>\n",
       "  </thead>\n",
       "  <tbody>\n",
       "    <tr>\n",
       "      <th>0</th>\n",
       "      <td>CHEMBL2386094</td>\n",
       "      <td>[0, 0, 0, 0, 0, 0, 0, 0, 0, 0, 0, 1, 0, 0, 0, ...</td>\n",
       "      <td>10.89</td>\n",
       "    </tr>\n",
       "    <tr>\n",
       "      <th>1</th>\n",
       "      <td>CHEMBL3895998</td>\n",
       "      <td>[0, 0, 0, 0, 0, 0, 0, 0, 0, 0, 0, 0, 0, 0, 0, ...</td>\n",
       "      <td>10.00</td>\n",
       "    </tr>\n",
       "    <tr>\n",
       "      <th>2</th>\n",
       "      <td>CHEMBL4084855</td>\n",
       "      <td>[0, 0, 0, 0, 0, 0, 0, 0, 0, 0, 0, 0, 0, 0, 0, ...</td>\n",
       "      <td>10.00</td>\n",
       "    </tr>\n",
       "    <tr>\n",
       "      <th>3</th>\n",
       "      <td>CHEMBL564450</td>\n",
       "      <td>[0, 0, 0, 0, 0, 1, 0, 0, 0, 0, 0, 0, 0, 0, 1, ...</td>\n",
       "      <td>9.85</td>\n",
       "    </tr>\n",
       "    <tr>\n",
       "      <th>4</th>\n",
       "      <td>CHEMBL3957649</td>\n",
       "      <td>[0, 0, 0, 0, 0, 0, 0, 0, 0, 0, 0, 0, 0, 0, 0, ...</td>\n",
       "      <td>9.70</td>\n",
       "    </tr>\n",
       "  </tbody>\n",
       "</table>\n",
       "</div>"
      ],
      "text/plain": [
       "  molecule_chembl_id                                          morgan2_c   \n",
       "0      CHEMBL2386094  [0, 0, 0, 0, 0, 0, 0, 0, 0, 0, 0, 1, 0, 0, 0, ...  \\\n",
       "1      CHEMBL3895998  [0, 0, 0, 0, 0, 0, 0, 0, 0, 0, 0, 0, 0, 0, 0, ...   \n",
       "2      CHEMBL4084855  [0, 0, 0, 0, 0, 0, 0, 0, 0, 0, 0, 0, 0, 0, 0, ...   \n",
       "3       CHEMBL564450  [0, 0, 0, 0, 0, 1, 0, 0, 0, 0, 0, 0, 0, 0, 1, ...   \n",
       "4      CHEMBL3957649  [0, 0, 0, 0, 0, 0, 0, 0, 0, 0, 0, 0, 0, 0, 0, ...   \n",
       "\n",
       "   pchembl_value  \n",
       "0          10.89  \n",
       "1          10.00  \n",
       "2          10.00  \n",
       "3           9.85  \n",
       "4           9.70  "
      ]
     },
     "execution_count": 3,
     "metadata": {},
     "output_type": "execute_result"
    }
   ],
   "source": [
    "!pip install rdkit\n",
    "from rdkit import Chem\n",
    "from rdkit.Chem import rdMolDescriptors\n",
    "df_fp = df_output.copy()\n",
    "df_fp['morgan2_c'] = df_output.smiles.map(lambda smile: rdMolDescriptors.GetMorganFingerprintAsBitVect(Chem.MolFromSmiles(smile), 2).ToList())\n",
    "df_fp = df_fp[['molecule_chembl_id', 'morgan2_c', 'pchembl_value']]\n",
    "df_fp.head()"
   ]
  },
  {
   "cell_type": "markdown",
   "metadata": {},
   "source": [
    "Exploremos el primer fingerprint: una lista binaria (unos y ceros) con una longitud de 2048 elementos. Estos elementos de la fingerprint serán las características que se usarán para entrenar el modelo."
   ]
  },
  {
   "cell_type": "code",
   "execution_count": 4,
   "metadata": {
    "ExecuteTime": {
     "end_time": "2023-08-28T01:06:23.103701900Z",
     "start_time": "2023-08-28T01:06:23.015168700Z"
    }
   },
   "outputs": [
    {
     "name": "stdout",
     "output_type": "stream",
     "text": [
      "[0, 0, 0, 0, 0, 0, 0, 0, 0, 0, 0, 1, 0, 0, 0, 0, 1, 0, 0, 0, 0, 0, 0, 0, 0, 0, 0, 0, 0, 0, 0, 0, 0, 0, 0, 0, 0, 0, 0, 0, 0, 0, 0, 1, 0, 0, 0, 0, 0, 0, 0, 0, 0, 0, 0, 0, 0, 0, 0, 0, 0, 0, 0, 0, 0, 0, 0, 0, 0, 0, 0, 0, 0, 0, 0, 0, 0, 0, 1, 0, 0, 0, 0, 1, 0, 0, 0, 0, 0, 0, 0, 0, 0, 0, 0, 0, 0, 0, 0, 0, 0, 0, 0, 0, 0, 0, 0, 0, 0, 0, 0, 0, 0, 0, 0, 0, 0, 0, 0, 0, 0, 0, 0, 0, 0, 0, 0, 0, 0, 0, 0, 0, 0, 0, 0, 1, 0, 0, 0, 0, 0, 1, 0, 0, 0, 0, 0, 0, 0, 0, 0, 0, 0, 0, 0, 0, 0, 0, 0, 0, 0, 0, 0, 0, 0, 0, 0, 0, 0, 0, 0, 0, 0, 0, 0, 0, 0, 0, 0, 0, 0, 0, 0, 0, 0, 0, 0, 0, 0, 0, 0, 0, 0, 1, 0, 0, 0, 0, 0, 0, 0, 0, 0, 0, 0, 0, 0, 0, 0, 0, 0, 0, 0, 0, 0, 0, 0, 0, 0, 0, 0, 0, 0, 0, 0, 0, 1, 0, 0, 0, 0, 1, 0, 0, 0, 0, 0, 0, 0, 0, 0, 0, 0, 0, 1, 0, 0, 0, 0, 0, 0, 0, 0, 0, 0, 0, 0, 0, 0, 0, 0, 0, 0, 0, 0, 0, 0, 0, 0, 0, 0, 0, 0, 0, 0, 0, 0, 0, 0, 0, 0, 0, 0, 0, 0, 0, 0, 0, 0, 0, 0, 0, 0, 0, 0, 0, 0, 0, 0, 0, 0, 0, 0, 0, 1, 0, 0, 0, 0, 0, 0, 0, 0, 0, 1, 0, 0, 0, 0, 0, 0, 0, 0, 0, 0, 0, 0, 0, 0, 0, 0, 0, 0, 0, 0, 0, 0, 0, 0, 0, 0, 0, 0, 0, 0, 0, 0, 0, 0, 0, 0, 0, 1, 0, 0, 0, 0, 0, 0, 0, 0, 0, 0, 0, 0, 0, 0, 0, 0, 0, 0, 0, 0, 0, 0, 0, 0, 0, 0, 0, 0, 0, 0, 0, 1, 0, 0, 0, 0, 0, 0, 0, 0, 0, 0, 0, 0, 0, 0, 0, 0, 0, 0, 0, 0, 0, 0, 0, 0, 0, 0, 0, 0, 0, 0, 0, 0, 0, 0, 0, 0, 0, 0, 0, 0, 0, 0, 0, 0, 0, 0, 0, 0, 0, 0, 0, 0, 0, 0, 0, 0, 0, 0, 0, 0, 0, 1, 0, 0, 0, 0, 0, 0, 0, 0, 0, 0, 0, 0, 0, 0, 0, 0, 0, 1, 1, 0, 0, 0, 0, 0, 0, 0, 0, 0, 0, 0, 0, 0, 0, 0, 0, 0, 0, 0, 0, 0, 0, 0, 0, 0, 0, 0, 0, 0, 0, 0, 0, 0, 0, 0, 0, 0, 0, 0, 0, 0, 0, 0, 0, 0, 0, 0, 0, 0, 0, 0, 0, 0, 0, 0, 0, 0, 1, 0, 0, 1, 0, 0, 0, 0, 0, 0, 0, 0, 0, 0, 0, 0, 0, 0, 0, 0, 0, 0, 0, 0, 0, 0, 0, 0, 0, 0, 0, 0, 0, 0, 0, 0, 0, 0, 0, 0, 0, 0, 0, 0, 0, 0, 0, 0, 0, 0, 0, 0, 0, 0, 0, 0, 0, 0, 0, 0, 0, 0, 0, 0, 0, 0, 0, 0, 0, 0, 0, 0, 0, 0, 0, 0, 0, 0, 0, 0, 0, 0, 0, 0, 0, 0, 0, 0, 0, 0, 0, 0, 0, 0, 0, 0, 0, 0, 0, 0, 0, 0, 0, 0, 0, 0, 0, 0, 0, 0, 0, 0, 0, 0, 0, 0, 0, 0, 0, 0, 0, 0, 0, 0, 0, 0, 0, 1, 0, 0, 0, 0, 0, 1, 0, 0, 0, 0, 0, 1, 0, 0, 0, 0, 0, 0, 0, 0, 0, 0, 0, 0, 0, 0, 0, 0, 0, 0, 0, 0, 0, 0, 0, 0, 0, 0, 0, 0, 0, 0, 0, 0, 0, 0, 0, 0, 1, 0, 0, 0, 0, 0, 0, 0, 0, 0, 0, 0, 0, 0, 0, 0, 0, 0, 0, 0, 0, 0, 0, 0, 0, 0, 0, 0, 0, 0, 0, 0, 0, 0, 0, 0, 0, 0, 0, 0, 0, 0, 0, 0, 0, 0, 0, 0, 0, 0, 0, 0, 0, 0, 0, 0, 0, 0, 0, 0, 0, 0, 0, 0, 0, 0, 0, 0, 1, 0, 0, 0, 0, 0, 0, 0, 0, 0, 0, 0, 0, 0, 0, 0, 0, 0, 0, 0, 0, 0, 0, 0, 0, 0, 0, 0, 0, 0, 0, 0, 0, 0, 0, 0, 0, 0, 0, 0, 1, 0, 0, 0, 0, 0, 0, 0, 0, 0, 0, 0, 0, 0, 0, 0, 0, 0, 0, 0, 0, 0, 0, 0, 0, 0, 0, 0, 0, 0, 0, 0, 0, 0, 0, 0, 0, 0, 0, 0, 0, 0, 0, 0, 0, 0, 0, 0, 0, 0, 0, 0, 0, 0, 0, 0, 0, 0, 0, 0, 0, 0, 0, 0, 0, 0, 0, 0, 1, 0, 0, 0, 0, 0, 0, 0, 0, 0, 0, 0, 0, 0, 0, 0, 0, 0, 0, 0, 0, 0, 0, 0, 0, 0, 0, 0, 0, 0, 0, 0, 0, 0, 0, 0, 0, 0, 0, 0, 0, 0, 0, 0, 0, 0, 0, 0, 0, 0, 0, 1, 0, 0, 0, 0, 0, 0, 0, 0, 1, 0, 0, 0, 0, 0, 0, 0, 0, 0, 0, 0, 0, 0, 0, 1, 0, 0, 0, 0, 0, 0, 0, 0, 0, 0, 0, 0, 0, 0, 0, 0, 0, 0, 0, 0, 0, 0, 0, 0, 0, 0, 0, 0, 0, 0, 0, 0, 0, 0, 0, 0, 0, 0, 0, 0, 0, 0, 0, 0, 0, 0, 0, 0, 0, 0, 0, 0, 0, 0, 0, 0, 0, 0, 0, 0, 0, 0, 0, 0, 1, 0, 0, 0, 0, 0, 0, 0, 0, 0, 0, 0, 0, 0, 0, 0, 0, 0, 0, 0, 0, 0, 0, 0, 0, 0, 0, 0, 0, 0, 0, 0, 0, 0, 0, 0, 0, 0, 0, 0, 0, 0, 0, 0, 0, 1, 0, 0, 0, 0, 0, 0, 0, 0, 0, 0, 0, 0, 0, 0, 0, 0, 0, 0, 0, 0, 0, 0, 0, 0, 0, 0, 0, 1, 0, 0, 0, 0, 0, 0, 0, 0, 0, 0, 0, 0, 0, 0, 0, 0, 0, 0, 0, 0, 0, 0, 0, 0, 0, 1, 0, 0, 0, 0, 0, 0, 0, 0, 0, 0, 0, 0, 0, 1, 0, 0, 0, 0, 0, 0, 0, 0, 0, 0, 0, 0, 0, 0, 0, 0, 0, 0, 0, 0, 0, 0, 0, 0, 0, 0, 0, 0, 0, 0, 0, 0, 0, 0, 0, 0, 0, 0, 0, 0, 0, 0, 0, 0, 0, 0, 0, 0, 0, 0, 0, 0, 0, 0, 0, 0, 0, 0, 0, 0, 0, 0, 0, 0, 0, 0, 0, 0, 0, 0, 1, 0, 0, 0, 0, 0, 0, 0, 0, 0, 0, 0, 0, 0, 0, 0, 0, 0, 0, 0, 0, 0, 0, 0, 0, 0, 0, 0, 0, 0, 0, 0, 0, 0, 1, 0, 0, 1, 0, 0, 0, 0, 0, 0, 0, 0, 0, 0, 0, 0, 0, 0, 0, 0, 0, 0, 0, 0, 0, 0, 0, 0, 0, 0, 0, 0, 0, 0, 0, 0, 0, 0, 0, 0, 0, 0, 0, 0, 0, 0, 0, 0, 0, 0, 0, 0, 0, 0, 0, 0, 0, 0, 0, 0, 0, 0, 0, 0, 0, 0, 0, 0, 0, 0, 0, 0, 0, 0, 0, 0, 0, 0, 0, 0, 0, 0, 0, 0, 0, 0, 0, 0, 0, 0, 0, 0, 0, 0, 0, 0, 0, 0, 0, 0, 0, 0, 0, 0, 0, 0, 0, 0, 0, 0, 0, 0, 0, 0, 0, 0, 0, 0, 0, 0, 0, 0, 0, 0, 1, 0, 0, 0, 0, 0, 0, 0, 0, 0, 0, 0, 0, 0, 0, 0, 0, 0, 0, 0, 0, 0, 0, 1, 0, 0, 0, 0, 0, 0, 0, 0, 0, 0, 0, 0, 0, 0, 0, 0, 0, 0, 0, 0, 0, 0, 0, 0, 1, 0, 0, 0, 0, 0, 0, 0, 0, 0, 0, 0, 0, 0, 0, 0, 0, 0, 0, 0, 0, 0, 0, 0, 0, 0, 0, 0, 0, 0, 0, 0, 0, 0, 0, 1, 1, 0, 0, 0, 0, 0, 0, 0, 0, 0, 0, 0, 0, 0, 0, 0, 0, 0, 0, 0, 0, 0, 0, 0, 0, 0, 0, 0, 0, 0, 0, 0, 0, 0, 0, 0, 0, 0, 0, 1, 0, 0, 0, 0, 0, 0, 0, 1, 0, 0, 0, 0, 0, 0, 0, 0, 0, 0, 0, 0, 0, 0, 0, 0, 0, 0, 0, 0, 0, 0, 0, 0, 0, 0, 0, 0, 0, 0, 0, 0, 0, 0, 0, 0, 0, 0, 0, 0, 0, 0, 0, 0, 0, 0, 0, 0, 0, 0, 0, 0, 0, 0, 0, 0, 0, 0, 0, 0, 0, 0, 0, 0, 0, 0, 0, 0, 0, 0, 0, 0, 0, 0, 0, 0, 0, 0, 0, 0, 0, 0, 0, 0, 1, 0, 0, 0, 0, 0, 0, 0, 0, 0, 0, 0, 0, 0, 0, 0, 1, 0, 0, 0, 0, 1, 0, 0, 0, 0, 0, 0, 0, 0, 0, 0, 0, 0, 0, 0, 0, 0, 0, 0, 0, 0, 0, 0, 0, 0, 0, 0, 0, 0, 0, 0, 0, 0, 0, 0, 0, 0, 0, 0, 0, 0, 0, 0, 0, 0, 0, 0, 0, 0, 0, 0, 0, 0, 0, 0, 0, 0, 0, 0, 0, 0, 0, 0, 1, 0, 0, 0, 0, 0, 0, 0, 0, 0, 0, 0, 0, 1, 0, 0, 0, 0, 0, 0, 0, 0, 0, 0, 0, 0, 0, 0, 0, 0, 0, 0, 0, 0, 0, 0, 0, 0, 0, 0, 0, 0, 0, 0, 0, 0, 0, 0, 0, 0, 0, 0, 0, 0, 0, 0, 0, 1, 0, 0, 0, 0, 0, 0, 0, 0, 0, 0, 0, 0, 0, 0, 0, 0, 0, 0, 0, 0, 0, 0, 0, 0, 0, 0, 0, 0, 0, 0, 0, 0, 0, 0, 0, 1, 0, 0, 0, 0, 0, 0, 0, 0, 0, 0, 0, 0, 0, 0, 0, 0, 0, 0, 0, 0, 0, 0, 0, 0, 0, 0, 0, 0, 0, 0, 0, 0, 0, 0, 0, 0, 0, 0, 0, 0, 0, 0, 0, 0, 0, 0, 0, 0, 0, 0, 0, 0, 0, 0, 0, 0, 0, 1, 0, 0, 0, 0, 0, 0, 0, 0, 0, 0, 0, 0, 0, 0, 0, 0, 0, 0, 0, 0, 0, 0, 0, 0, 0, 0, 0, 0, 0, 0, 0, 0, 0, 0, 0, 0, 0, 0, 0, 0, 0, 0, 0, 0, 0, 0, 0, 0, 0, 1, 0, 0, 0, 1, 0, 0, 0, 0, 0, 0, 0, 0, 0, 0, 1, 0, 0, 0, 0, 0, 0, 0, 0, 0, 0, 0, 0, 0, 0, 0, 0, 0, 0, 0, 0, 0, 0, 0, 0, 0, 0, 0, 0, 0, 0, 0, 0, 0, 0, 0, 0, 0, 0, 0, 0, 0, 0, 0, 1, 0, 0, 0, 0, 0, 0, 0, 0, 0, 0, 1, 0, 0, 0, 0, 0, 0, 0, 0, 0, 0, 0, 1, 0, 0, 0, 0, 0, 1, 0, 0, 0, 0, 0, 0, 0, 0, 0, 0, 0, 0, 0, 0, 0, 0, 0, 0, 0, 0, 0, 0, 0, 0, 0, 0, 0, 0, 0, 0, 0, 0, 0, 0, 0, 0, 0, 0, 0, 0, 0, 0, 0, 0, 0, 0, 0, 0, 0, 0, 0, 0, 0, 0, 0, 0, 0, 0, 0, 0, 0, 0, 1, 0, 0, 0, 0, 0, 0, 0, 0, 0, 0, 0, 0, 0, 0, 0, 0, 0, 0, 0, 0, 0, 0, 0, 0, 0, 0, 0, 0, 1, 0, 0, 0, 0, 0, 0, 0, 0, 0]\n",
      "2048\n"
     ]
    }
   ],
   "source": [
    "print(df_fp.morgan2_c[0])\n",
    "print(len(df_fp.morgan2_c[0]))"
   ]
  },
  {
   "cell_type": "markdown",
   "metadata": {},
   "source": [
    "### Clasificación de los ligandos\n",
    "\n",
    "Cada ligando debe ser clasificado como **activo** o **inactivo**, para esto usaremos la columna `pchembl_value` definiendo umbrales de actividiad\n",
    "La proteína *Glycogen synthase kinase-3 beta* se clasifica en el grupo de las *Kinasas*, por tanto, usaremos los siguientes umbrales:\n",
    "\n",
    "**Inactivo**: *pchembl_value* < 6.52 uM\n",
    "\n",
    "**Activo**: *pchembl_value* >= 7.52 uM"
   ]
  },
  {
   "cell_type": "code",
   "execution_count": 5,
   "metadata": {
    "ExecuteTime": {
     "end_time": "2023-08-28T01:06:23.246675100Z",
     "start_time": "2023-08-28T01:06:23.031684700Z"
    }
   },
   "outputs": [
    {
     "data": {
      "text/html": [
       "<div>\n",
       "<style scoped>\n",
       "    .dataframe tbody tr th:only-of-type {\n",
       "        vertical-align: middle;\n",
       "    }\n",
       "\n",
       "    .dataframe tbody tr th {\n",
       "        vertical-align: top;\n",
       "    }\n",
       "\n",
       "    .dataframe thead th {\n",
       "        text-align: right;\n",
       "    }\n",
       "</style>\n",
       "<table border=\"1\" class=\"dataframe\">\n",
       "  <thead>\n",
       "    <tr style=\"text-align: right;\">\n",
       "      <th></th>\n",
       "      <th>molecule_chembl_id</th>\n",
       "      <th>morgan2_c</th>\n",
       "      <th>pchembl_value</th>\n",
       "      <th>activity_type</th>\n",
       "    </tr>\n",
       "  </thead>\n",
       "  <tbody>\n",
       "    <tr>\n",
       "      <th>0</th>\n",
       "      <td>CHEMBL2386094</td>\n",
       "      <td>[0, 0, 0, 0, 0, 0, 0, 0, 0, 0, 0, 1, 0, 0, 0, ...</td>\n",
       "      <td>10.89</td>\n",
       "      <td>Active</td>\n",
       "    </tr>\n",
       "    <tr>\n",
       "      <th>1</th>\n",
       "      <td>CHEMBL3895998</td>\n",
       "      <td>[0, 0, 0, 0, 0, 0, 0, 0, 0, 0, 0, 0, 0, 0, 0, ...</td>\n",
       "      <td>10.00</td>\n",
       "      <td>Active</td>\n",
       "    </tr>\n",
       "    <tr>\n",
       "      <th>2</th>\n",
       "      <td>CHEMBL4084855</td>\n",
       "      <td>[0, 0, 0, 0, 0, 0, 0, 0, 0, 0, 0, 0, 0, 0, 0, ...</td>\n",
       "      <td>10.00</td>\n",
       "      <td>Active</td>\n",
       "    </tr>\n",
       "    <tr>\n",
       "      <th>3</th>\n",
       "      <td>CHEMBL564450</td>\n",
       "      <td>[0, 0, 0, 0, 0, 1, 0, 0, 0, 0, 0, 0, 0, 0, 1, ...</td>\n",
       "      <td>9.85</td>\n",
       "      <td>Active</td>\n",
       "    </tr>\n",
       "    <tr>\n",
       "      <th>4</th>\n",
       "      <td>CHEMBL3957649</td>\n",
       "      <td>[0, 0, 0, 0, 0, 0, 0, 0, 0, 0, 0, 0, 0, 0, 0, ...</td>\n",
       "      <td>9.70</td>\n",
       "      <td>Active</td>\n",
       "    </tr>\n",
       "  </tbody>\n",
       "</table>\n",
       "</div>"
      ],
      "text/plain": [
       "  molecule_chembl_id                                          morgan2_c   \n",
       "0      CHEMBL2386094  [0, 0, 0, 0, 0, 0, 0, 0, 0, 0, 0, 1, 0, 0, 0, ...  \\\n",
       "1      CHEMBL3895998  [0, 0, 0, 0, 0, 0, 0, 0, 0, 0, 0, 0, 0, 0, 0, ...   \n",
       "2      CHEMBL4084855  [0, 0, 0, 0, 0, 0, 0, 0, 0, 0, 0, 0, 0, 0, 0, ...   \n",
       "3       CHEMBL564450  [0, 0, 0, 0, 0, 1, 0, 0, 0, 0, 0, 0, 0, 0, 1, ...   \n",
       "4      CHEMBL3957649  [0, 0, 0, 0, 0, 0, 0, 0, 0, 0, 0, 0, 0, 0, 0, ...   \n",
       "\n",
       "   pchembl_value activity_type  \n",
       "0          10.89        Active  \n",
       "1          10.00        Active  \n",
       "2          10.00        Active  \n",
       "3           9.85        Active  \n",
       "4           9.70        Active  "
      ]
     },
     "execution_count": 5,
     "metadata": {},
     "output_type": "execute_result"
    }
   ],
   "source": [
    "# Añadir columna actividad, default = internet\n",
    "df_fp['activity_type'] = 'Intermediate'\n",
    "# Marcar cada molecula como activa con un pchembl_value >= 7.52\n",
    "df_fp.loc[df_fp[df_fp.pchembl_value >= 7.5].index, 'activity_type'] = 'Active'\n",
    "# Marcar cada molecula como inactiva con un pchembl_value < 6.52\n",
    "df_fp.loc[df_fp[df_fp.pchembl_value < 6.52].index, 'activity_type'] = 'Inactive'\n",
    "df_fp.head()"
   ]
  },
  {
   "cell_type": "markdown",
   "metadata": {},
   "source": [
    "Veamos gráficamente cómo quedo la clasificación"
   ]
  },
  {
   "cell_type": "code",
   "execution_count": 6,
   "metadata": {
    "ExecuteTime": {
     "end_time": "2023-08-28T01:06:24.119665600Z",
     "start_time": "2023-08-28T01:06:23.056802400Z"
    }
   },
   "outputs": [
    {
     "name": "stdout",
     "output_type": "stream",
     "text": [
      "activity_type\n",
      "Inactive        1195\n",
      "Intermediate     685\n",
      "Active           630\n",
      "Name: count, dtype: int64\n"
     ]
    },
    {
     "data": {
      "text/plain": [
       "<Axes: xlabel='activity_type'>"
      ]
     },
     "execution_count": 6,
     "metadata": {},
     "output_type": "execute_result"
    },
    {
     "data": {
      "image/png": "[encoded data removed]",
      "text/plain": [
       "<Figure size 640x480 with 1 Axes>"
      ]
     },
     "metadata": {},
     "output_type": "display_data"
    }
   ],
   "source": [
    "print(df_fp.activity_type.value_counts())\n",
    "df_fp.activity_type.value_counts().plot.bar(x='activity_type')"
   ]
  },
  {
   "cell_type": "markdown",
   "metadata": {},
   "source": [
    "Ahora filtramos los datos quitando aquellos que se calsificaron como *Intermedios*"
   ]
  },
  {
   "cell_type": "code",
   "execution_count": 7,
   "metadata": {
    "ExecuteTime": {
     "end_time": "2023-08-28T01:06:24.237731100Z",
     "start_time": "2023-08-28T01:06:24.023663100Z"
    }
   },
   "outputs": [
    {
     "name": "stdout",
     "output_type": "stream",
     "text": [
      "# ligandos (active/inactive): 1825\n",
      "activity_type\n",
      "Inactive    1195\n",
      "Active       630\n",
      "Name: count, dtype: int64\n"
     ]
    },
    {
     "data": {
      "text/html": [
       "<div>\n",
       "<style scoped>\n",
       "    .dataframe tbody tr th:only-of-type {\n",
       "        vertical-align: middle;\n",
       "    }\n",
       "\n",
       "    .dataframe tbody tr th {\n",
       "        vertical-align: top;\n",
       "    }\n",
       "\n",
       "    .dataframe thead th {\n",
       "        text-align: right;\n",
       "    }\n",
       "</style>\n",
       "<table border=\"1\" class=\"dataframe\">\n",
       "  <thead>\n",
       "    <tr style=\"text-align: right;\">\n",
       "      <th></th>\n",
       "      <th>molecule_chembl_id</th>\n",
       "      <th>morgan2_c</th>\n",
       "      <th>pchembl_value</th>\n",
       "      <th>activity_type</th>\n",
       "    </tr>\n",
       "  </thead>\n",
       "  <tbody>\n",
       "    <tr>\n",
       "      <th>0</th>\n",
       "      <td>CHEMBL2386094</td>\n",
       "      <td>[0, 0, 0, 0, 0, 0, 0, 0, 0, 0, 0, 1, 0, 0, 0, ...</td>\n",
       "      <td>10.89</td>\n",
       "      <td>Active</td>\n",
       "    </tr>\n",
       "    <tr>\n",
       "      <th>1</th>\n",
       "      <td>CHEMBL3895998</td>\n",
       "      <td>[0, 0, 0, 0, 0, 0, 0, 0, 0, 0, 0, 0, 0, 0, 0, ...</td>\n",
       "      <td>10.00</td>\n",
       "      <td>Active</td>\n",
       "    </tr>\n",
       "    <tr>\n",
       "      <th>2</th>\n",
       "      <td>CHEMBL4084855</td>\n",
       "      <td>[0, 0, 0, 0, 0, 0, 0, 0, 0, 0, 0, 0, 0, 0, 0, ...</td>\n",
       "      <td>10.00</td>\n",
       "      <td>Active</td>\n",
       "    </tr>\n",
       "    <tr>\n",
       "      <th>3</th>\n",
       "      <td>CHEMBL564450</td>\n",
       "      <td>[0, 0, 0, 0, 0, 1, 0, 0, 0, 0, 0, 0, 0, 0, 1, ...</td>\n",
       "      <td>9.85</td>\n",
       "      <td>Active</td>\n",
       "    </tr>\n",
       "    <tr>\n",
       "      <th>4</th>\n",
       "      <td>CHEMBL3957649</td>\n",
       "      <td>[0, 0, 0, 0, 0, 0, 0, 0, 0, 0, 0, 0, 0, 0, 0, ...</td>\n",
       "      <td>9.70</td>\n",
       "      <td>Active</td>\n",
       "    </tr>\n",
       "  </tbody>\n",
       "</table>\n",
       "</div>"
      ],
      "text/plain": [
       "  molecule_chembl_id                                          morgan2_c   \n",
       "0      CHEMBL2386094  [0, 0, 0, 0, 0, 0, 0, 0, 0, 0, 0, 1, 0, 0, 0, ...  \\\n",
       "1      CHEMBL3895998  [0, 0, 0, 0, 0, 0, 0, 0, 0, 0, 0, 0, 0, 0, 0, ...   \n",
       "2      CHEMBL4084855  [0, 0, 0, 0, 0, 0, 0, 0, 0, 0, 0, 0, 0, 0, 0, ...   \n",
       "3       CHEMBL564450  [0, 0, 0, 0, 0, 1, 0, 0, 0, 0, 0, 0, 0, 0, 1, ...   \n",
       "4      CHEMBL3957649  [0, 0, 0, 0, 0, 0, 0, 0, 0, 0, 0, 0, 0, 0, 0, ...   \n",
       "\n",
       "   pchembl_value activity_type  \n",
       "0          10.89        Active  \n",
       "1          10.00        Active  \n",
       "2          10.00        Active  \n",
       "3           9.85        Active  \n",
       "4           9.70        Active  "
      ]
     },
     "execution_count": 7,
     "metadata": {},
     "output_type": "execute_result"
    },
    {
     "data": {
      "image/png": "[encoded data removed]",
      "text/plain": [
       "<Figure size 640x480 with 1 Axes>"
      ]
     },
     "metadata": {},
     "output_type": "display_data"
    }
   ],
   "source": [
    "bd = df_fp[df_fp['activity_type'] != 'Intermediate'].copy()\n",
    "bd.activity_type.value_counts().plot.bar(x='activity_type')\n",
    "print(f'# ligandos (active/inactive): {len(bd)}')\n",
    "print(bd.activity_type.value_counts())\n",
    "bd.head()"
   ]
  },
  {
   "cell_type": "markdown",
   "metadata": {},
   "source": [
    "Como es una clasificación binaria, debemos asignar una etiqueta: (Inactive:0 / Active:1)"
   ]
  },
  {
   "cell_type": "code",
   "execution_count": 8,
   "metadata": {
    "ExecuteTime": {
     "end_time": "2023-08-28T01:06:24.333609800Z",
     "start_time": "2023-08-28T01:06:24.181716900Z"
    }
   },
   "outputs": [
    {
     "data": {
      "text/html": [
       "<div>\n",
       "<style scoped>\n",
       "    .dataframe tbody tr th:only-of-type {\n",
       "        vertical-align: middle;\n",
       "    }\n",
       "\n",
       "    .dataframe tbody tr th {\n",
       "        vertical-align: top;\n",
       "    }\n",
       "\n",
       "    .dataframe thead th {\n",
       "        text-align: right;\n",
       "    }\n",
       "</style>\n",
       "<table border=\"1\" class=\"dataframe\">\n",
       "  <thead>\n",
       "    <tr style=\"text-align: right;\">\n",
       "      <th></th>\n",
       "      <th>molecule_chembl_id</th>\n",
       "      <th>morgan2_c</th>\n",
       "      <th>activity</th>\n",
       "    </tr>\n",
       "  </thead>\n",
       "  <tbody>\n",
       "    <tr>\n",
       "      <th>0</th>\n",
       "      <td>CHEMBL2386094</td>\n",
       "      <td>[0, 0, 0, 0, 0, 0, 0, 0, 0, 0, 0, 1, 0, 0, 0, ...</td>\n",
       "      <td>1</td>\n",
       "    </tr>\n",
       "    <tr>\n",
       "      <th>1</th>\n",
       "      <td>CHEMBL3895998</td>\n",
       "      <td>[0, 0, 0, 0, 0, 0, 0, 0, 0, 0, 0, 0, 0, 0, 0, ...</td>\n",
       "      <td>1</td>\n",
       "    </tr>\n",
       "    <tr>\n",
       "      <th>2</th>\n",
       "      <td>CHEMBL4084855</td>\n",
       "      <td>[0, 0, 0, 0, 0, 0, 0, 0, 0, 0, 0, 0, 0, 0, 0, ...</td>\n",
       "      <td>1</td>\n",
       "    </tr>\n",
       "    <tr>\n",
       "      <th>3</th>\n",
       "      <td>CHEMBL564450</td>\n",
       "      <td>[0, 0, 0, 0, 0, 1, 0, 0, 0, 0, 0, 0, 0, 0, 1, ...</td>\n",
       "      <td>1</td>\n",
       "    </tr>\n",
       "    <tr>\n",
       "      <th>4</th>\n",
       "      <td>CHEMBL3957649</td>\n",
       "      <td>[0, 0, 0, 0, 0, 0, 0, 0, 0, 0, 0, 0, 0, 0, 0, ...</td>\n",
       "      <td>1</td>\n",
       "    </tr>\n",
       "  </tbody>\n",
       "</table>\n",
       "</div>"
      ],
      "text/plain": [
       "  molecule_chembl_id                                          morgan2_c   \n",
       "0      CHEMBL2386094  [0, 0, 0, 0, 0, 0, 0, 0, 0, 0, 0, 1, 0, 0, 0, ...  \\\n",
       "1      CHEMBL3895998  [0, 0, 0, 0, 0, 0, 0, 0, 0, 0, 0, 0, 0, 0, 0, ...   \n",
       "2      CHEMBL4084855  [0, 0, 0, 0, 0, 0, 0, 0, 0, 0, 0, 0, 0, 0, 0, ...   \n",
       "3       CHEMBL564450  [0, 0, 0, 0, 0, 1, 0, 0, 0, 0, 0, 0, 0, 0, 1, ...   \n",
       "4      CHEMBL3957649  [0, 0, 0, 0, 0, 0, 0, 0, 0, 0, 0, 0, 0, 0, 0, ...   \n",
       "\n",
       "   activity  \n",
       "0         1  \n",
       "1         1  \n",
       "2         1  \n",
       "3         1  \n",
       "4         1  "
      ]
     },
     "execution_count": 8,
     "metadata": {},
     "output_type": "execute_result"
    }
   ],
   "source": [
    "bd['activity'] = 0\n",
    "bd.loc[bd[bd.activity_type == 'Active'].index, 'activity'] = 1.0\n",
    "bd.drop(['activity_type', 'pchembl_value'], axis=1, inplace=True)\n",
    "bd.head()"
   ]
  },
  {
   "cell_type": "markdown",
   "metadata": {},
   "source": [
    "Ya tenemos las características (morgan2_c fingerprint) y etiquetas (activity) para poder entrenar el modelo"
   ]
  },
  {
   "cell_type": "markdown",
   "metadata": {},
   "source": [
    "\n",
    "# Entrenamiento del modelo con el algoritmo *Random Forest*\n",
    "\n",
    "Vamos a entrenar un modelo de Random Forest que clasifique ligandos conociendo el fingerprint. El objetivo es probar la capacidad del modelo para predecir datos que nunca antes había visto para detectar problemas conocidos como sobreajuste y evaluar la capacidad de generalización del modelo."
   ]
  },
  {
   "cell_type": "markdown",
   "metadata": {},
   "source": [
    "### Random Forest\n",
    "Usualmente, el primer paso es **dividir** el conjunto de datos, una parte para el entrenamiento (70%) y la otra parte para la prueba(30%).\n"
   ]
  },
  {
   "cell_type": "code",
   "execution_count": 9,
   "metadata": {
    "ExecuteTime": {
     "end_time": "2023-08-28T01:06:25.474252900Z",
     "start_time": "2023-08-28T01:06:24.196700200Z"
    }
   },
   "outputs": [
    {
     "name": "stdout",
     "output_type": "stream",
     "text": [
      "# datos entrenamiento: 1277,\n",
      "# datos prueba: 548\n"
     ]
    }
   ],
   "source": [
    "from sklearn.model_selection import train_test_split\n",
    "fp_df_train, fp_df_test = train_test_split(bd, test_size=0.3, random_state=142857,\n",
    "                                            shuffle=True, stratify=bd['activity'])\n",
    "fp_df_train.reset_index(drop=True, inplace=True)\n",
    "fp_df_test.reset_index(drop=True, inplace=True)\n",
    "print(f'# datos entrenamiento: {len(fp_df_train)},'\n",
    "      f'\\n# datos prueba: {len(fp_df_test)}')"
   ]
  },
  {
   "cell_type": "markdown",
   "metadata": {},
   "source": [
    "Ahora, para cada conjunto vamos a separar las características (el fingerprint) y la etiqueta"
   ]
  },
  {
   "cell_type": "code",
   "execution_count": 10,
   "metadata": {
    "ExecuteTime": {
     "end_time": "2023-08-28T01:06:25.518643100Z",
     "start_time": "2023-08-28T01:06:25.478770Z"
    }
   },
   "outputs": [],
   "source": [
    "X_train, y_train = fp_df_train.morgan2_c, fp_df_train.activity\n",
    "X_test, y_test = fp_df_test.morgan2_c, fp_df_test.activity\n",
    "# El vector de características se deben convertir a una lista de elementos\n",
    "X_train, X_test = X_train.tolist(), X_test.tolist()"
   ]
  },
  {
   "cell_type": "markdown",
   "metadata": {},
   "source": [
    "Escogemos el estimador de [Random Fores classificator](https://scikit-learn.org/stable/modules/generated/sklearn.ensemble.RandomForestClassifier.html) para entrenar el modelo, se debe instanciar y construir el modelo"
   ]
  },
  {
   "cell_type": "code",
   "execution_count": 11,
   "metadata": {
    "ExecuteTime": {
     "end_time": "2023-08-28T01:06:26.807166600Z",
     "start_time": "2023-08-28T01:06:25.491771100Z"
    }
   },
   "outputs": [
    {
     "data": {
      "text/html": [
       "<style>#sk-container-id-1 {color: black;background-color: white;}#sk-container-id-1 pre{padding: 0;}#sk-container-id-1 div.sk-toggleable {background-color: white;}#sk-container-id-1 label.sk-toggleable__label {cursor: pointer;display: block;width: 100%;margin-bottom: 0;padding: 0.3em;box-sizing: border-box;text-align: center;}#sk-container-id-1 label.sk-toggleable__label-arrow:before {content: \"▸\";float: left;margin-right: 0.25em;color: #696969;}#sk-container-id-1 label.sk-toggleable__label-arrow:hover:before {color: black;}#sk-container-id-1 div.sk-estimator:hover label.sk-toggleable__label-arrow:before {color: black;}#sk-container-id-1 div.sk-toggleable__content {max-height: 0;max-width: 0;overflow: hidden;text-align: left;background-color: #f0f8ff;}#sk-container-id-1 div.sk-toggleable__content pre {margin: 0.2em;color: black;border-radius: 0.25em;background-color: #f0f8ff;}#sk-container-id-1 input.sk-toggleable__control:checked~div.sk-toggleable__content {max-height: 200px;max-width: 100%;overflow: auto;}#sk-container-id-1 input.sk-toggleable__control:checked~label.sk-toggleable__label-arrow:before {content: \"▾\";}#sk-container-id-1 div.sk-estimator input.sk-toggleable__control:checked~label.sk-toggleable__label {background-color: #d4ebff;}#sk-container-id-1 div.sk-label input.sk-toggleable__control:checked~label.sk-toggleable__label {background-color: #d4ebff;}#sk-container-id-1 input.sk-hidden--visually {border: 0;clip: rect(1px 1px 1px 1px);clip: rect(1px, 1px, 1px, 1px);height: 1px;margin: -1px;overflow: hidden;padding: 0;position: absolute;width: 1px;}#sk-container-id-1 div.sk-estimator {font-family: monospace;background-color: #f0f8ff;border: 1px dotted black;border-radius: 0.25em;box-sizing: border-box;margin-bottom: 0.5em;}#sk-container-id-1 div.sk-estimator:hover {background-color: #d4ebff;}#sk-container-id-1 div.sk-parallel-item::after {content: \"\";width: 100%;border-bottom: 1px solid gray;flex-grow: 1;}#sk-container-id-1 div.sk-label:hover label.sk-toggleable__label {background-color: #d4ebff;}#sk-container-id-1 div.sk-serial::before {content: \"\";position: absolute;border-left: 1px solid gray;box-sizing: border-box;top: 0;bottom: 0;left: 50%;z-index: 0;}#sk-container-id-1 div.sk-serial {display: flex;flex-direction: column;align-items: center;background-color: white;padding-right: 0.2em;padding-left: 0.2em;position: relative;}#sk-container-id-1 div.sk-item {position: relative;z-index: 1;}#sk-container-id-1 div.sk-parallel {display: flex;align-items: stretch;justify-content: center;background-color: white;position: relative;}#sk-container-id-1 div.sk-item::before, #sk-container-id-1 div.sk-parallel-item::before {content: \"\";position: absolute;border-left: 1px solid gray;box-sizing: border-box;top: 0;bottom: 0;left: 50%;z-index: -1;}#sk-container-id-1 div.sk-parallel-item {display: flex;flex-direction: column;z-index: 1;position: relative;background-color: white;}#sk-container-id-1 div.sk-parallel-item:first-child::after {align-self: flex-end;width: 50%;}#sk-container-id-1 div.sk-parallel-item:last-child::after {align-self: flex-start;width: 50%;}#sk-container-id-1 div.sk-parallel-item:only-child::after {width: 0;}#sk-container-id-1 div.sk-dashed-wrapped {border: 1px dashed gray;margin: 0 0.4em 0.5em 0.4em;box-sizing: border-box;padding-bottom: 0.4em;background-color: white;}#sk-container-id-1 div.sk-label label {font-family: monospace;font-weight: bold;display: inline-block;line-height: 1.2em;}#sk-container-id-1 div.sk-label-container {text-align: center;}#sk-container-id-1 div.sk-container {/* jupyter's `normalize.less` sets `[hidden] { display: none; }` but bootstrap.min.css set `[hidden] { display: none !important; }` so we also need the `!important` here to be able to override the default hidden behavior on the sphinx rendered scikit-learn.org. See: https://github.com/scikit-learn/scikit-learn/issues/21755 */display: inline-block !important;position: relative;}#sk-container-id-1 div.sk-text-repr-fallback {display: none;}</style><div id=\"sk-container-id-1\" class=\"sk-top-container\"><div class=\"sk-text-repr-fallback\"><pre>RandomForestClassifier()</pre><b>In a Jupyter environment, please rerun this cell to show the HTML representation or trust the notebook. <br />On GitHub, the HTML representation is unable to render, please try loading this page with nbviewer.org.</b></div><div class=\"sk-container\" hidden><div class=\"sk-item\"><div class=\"sk-estimator sk-toggleable\"><input class=\"sk-toggleable__control sk-hidden--visually\" id=\"sk-estimator-id-1\" type=\"checkbox\" checked><label for=\"sk-estimator-id-1\" class=\"sk-toggleable__label sk-toggleable__label-arrow\">RandomForestClassifier</label><div class=\"sk-toggleable__content\"><pre>RandomForestClassifier()</pre></div></div></div></div></div>"
      ],
      "text/plain": [
       "RandomForestClassifier()"
      ]
     },
     "execution_count": 11,
     "metadata": {},
     "output_type": "execute_result"
    }
   ],
   "source": [
    "from sklearn.ensemble import RandomForestClassifier\n",
    "model = RandomForestClassifier()\n",
    "model.fit(X_train, y_train)"
   ]
  },
  {
   "cell_type": "markdown",
   "metadata": {},
   "source": [
    "## Validación\n",
    "### Accuracy score\n",
    "\n",
    "Exsiten varias métricas para medir la capacidad del modelo para hacer predicciones, vamos a ver un ejemplo usando la métrica [accuracy_score](https://scikit-learn.org/stable/modules/generated/sklearn.metrics.accuracy_score.html?highlight=accuracy_score#sklearn.metrics.accuracy_score).\n",
    "\n",
    "Lo primero es clasificar (*predecir*) los datos del conjunto y luego compararlos con las etiquetas verdaderas, esto lo haremos tanto con el **conjunto de entrenamiento** como con el **conjunto de prueba**:"
   ]
  },
  {
   "cell_type": "code",
   "execution_count": 12,
   "metadata": {
    "ExecuteTime": {
     "end_time": "2023-08-28T01:06:27.006762400Z",
     "start_time": "2023-08-28T01:06:26.803157900Z"
    }
   },
   "outputs": [
    {
     "name": "stdout",
     "output_type": "stream",
     "text": [
      "Accuracy conjunto de entrenamiento: 1.0000 (100.00%)\n",
      "Accuracy conjunto de prueba: 0.9051 (90.51%)\n"
     ]
    }
   ],
   "source": [
    "from sklearn.metrics import accuracy_score\n",
    "# Predicción conjunto de entrenamiento\n",
    "y_train_pred = model.predict(X_train)\n",
    "# Predicción conjunto de validación\n",
    "y_test_pre = model.predict(X_test)\n",
    "\n",
    "# Puntuación\n",
    "acc_train = accuracy_score(y_train, y_train_pred)\n",
    "acc_test = accuracy_score(y_test, y_test_pre)\n",
    "print(f'Accuracy conjunto de entrenamiento: {acc_train:.4f} ({acc_train:.2%})\\n'\n",
    "      f'Accuracy conjunto de prueba: {acc_test:.4f} ({acc_test:.2%})')\n"
   ]
  },
  {
   "cell_type": "markdown",
   "metadata": {},
   "source": [
    "El *accuracy* del conjunto de entrenamiento es del 100%, lo cual indica un caso de Sobreajuste (*Overfitting*), posiblemente se deba hacer un ajuste de los parámetros del modelo de clasificación o incluso utilizar otro modelo."
   ]
  },
  {
   "cell_type": "markdown",
   "metadata": {},
   "source": [
    "### Matriz de confusión\n",
    "Con esta matriz se puede comparar las etiquetas verdaderas versus las predicciones del modelo, [aquí](https://en.wikipedia.org/wiki/Confusion_matrix) se puede ver más información sobre la matriz de confusión. En este caso vamos a comparar los datos del conjunto de validación:"
   ]
  },
  {
   "cell_type": "code",
   "execution_count": 13,
   "metadata": {
    "ExecuteTime": {
     "end_time": "2023-08-28T01:06:27.115275900Z",
     "start_time": "2023-08-28T01:06:27.006762400Z"
    }
   },
   "outputs": [
    {
     "data": {
      "text/plain": [
       "<sklearn.metrics._plot.confusion_matrix.ConfusionMatrixDisplay at 0x228b5fe3910>"
      ]
     },
     "execution_count": 13,
     "metadata": {},
     "output_type": "execute_result"
    },
    {
     "data": {
      "image/png": "[encoded data removed]",
      "text/plain": [
       "<Figure size 640x480 with 1 Axes>"
      ]
     },
     "metadata": {},
     "output_type": "display_data"
    }
   ],
   "source": [
    "from sklearn.metrics import ConfusionMatrixDisplay\n",
    "import matplotlib.pyplot as plt\n",
    "ConfusionMatrixDisplay.from_predictions(y_test, y_test_pre, colorbar=False,  cmap=plt.cm.Blues)"
   ]
  },
  {
   "cell_type": "markdown",
   "metadata": {},
   "source": [
    "Se puede trabajar con los datos normalizados para verlos en forma de porcentaje"
   ]
  },
  {
   "cell_type": "code",
   "execution_count": 14,
   "metadata": {
    "ExecuteTime": {
     "end_time": "2023-08-28T01:06:27.195671100Z",
     "start_time": "2023-08-28T01:06:27.099775400Z"
    },
    "collapsed": false,
    "jupyter": {
     "outputs_hidden": false
    }
   },
   "outputs": [
    {
     "data": {
      "text/plain": [
       "<sklearn.metrics._plot.confusion_matrix.ConfusionMatrixDisplay at 0x228b906e850>"
      ]
     },
     "execution_count": 14,
     "metadata": {},
     "output_type": "execute_result"
    },
    {
     "data": {
      "image/png": "[encoded data removed]",
      "text/plain": [
       "<Figure size 640x480 with 1 Axes>"
      ]
     },
     "metadata": {},
     "output_type": "display_data"
    }
   ],
   "source": [
    "ConfusionMatrixDisplay.from_predictions(y_test, y_test_pre, colorbar=False,\n",
    "                                        cmap=plt.cm.Blues, normalize='true')"
   ]
  },
  {
   "cell_type": "markdown",
   "metadata": {},
   "source": [
    "### Curva ROC\n",
    "La curva ROC (ROC curve, Receiver Operating Characteristic) es una representación gráfica de la sensibilidad frente a la especificidad para un sistema clasificador binario según se varía el umbral de discriminación, usualmente se suele utilizar para representar qué tan bueno es el modelo, veamos como se puede construir una:"
   ]
  },
  {
   "cell_type": "code",
   "execution_count": 15,
   "metadata": {
    "ExecuteTime": {
     "end_time": "2023-08-28T01:06:27.629655300Z",
     "start_time": "2023-08-28T01:06:27.292014500Z"
    }
   },
   "outputs": [
    {
     "data": {
      "text/plain": [
       "<matplotlib.legend.Legend at 0x228b91407c0>"
      ]
     },
     "execution_count": 15,
     "metadata": {},
     "output_type": "execute_result"
    },
    {
     "data": {
      "image/png": "[encoded data removed]",
      "text/plain": [
       "<Figure size 700x700 with 1 Axes>"
      ]
     },
     "metadata": {},
     "output_type": "display_data"
    }
   ],
   "source": [
    "from sklearn.metrics import roc_curve\n",
    "from sklearn.metrics import auc\n",
    "import matplotlib as mpl\n",
    "import matplotlib.pyplot as plt\n",
    "\n",
    "# Probabilidad de las predcciones\n",
    "pred_prob_train = model.predict_proba(X_train)[:, 1]\n",
    "pred_prob_test = model.predict_proba(X_test)[:, 1]\n",
    "\n",
    "# tasas de falsos positivos / tasas de verdaderos positivos - entrenamiento\n",
    "fpr_train, tpr_train, _ = roc_curve(y_train, pred_prob_train)\n",
    "roc_auc_train = auc(fpr_train, tpr_train)\n",
    "# tasas de falsos positivos / tasas de verdaderos positivos - prueba\n",
    "fpr_test, tpr_test, _ = roc_curve(y_test, pred_prob_test)\n",
    "roc_auc_test = auc(fpr_test, tpr_test)\n",
    "\n",
    "plt.figure(figsize=(7, 7))\n",
    "plt.plot(fpr_train, tpr_train, label=f'AUC train = {roc_auc_train:.2f}', lw=2)\n",
    "plt.plot(fpr_test, tpr_test, label=f'AUC test = {roc_auc_test:.2f}', lw=2)\n",
    "plt.plot([0, 1], [0, 1], linestyle='--', label='Random', lw=2, color=\"black\")  # Curva aleatoria\n",
    "\n",
    "plt.xlabel('False positive rate', size=24)\n",
    "plt.ylabel('True positive rate', size=24)\n",
    "plt.title('Random forest ROC curves', size=24)\n",
    "plt.tick_params(labelsize=16)\n",
    "plt.legend(fontsize=16)"
   ]
  },
  {
   "cell_type": "markdown",
   "metadata": {},
   "source": [
    "### K-fold (validación cruzada)\n",
    "\n",
    "Vamos dividir los datos en 5 conjuntos, cada uno de ellos entrenará el algoritmo y medirá su capacidad de predicción, luego se contrastarán los datos de los cinco modelos para validar si el modelo entrenado funciona o no."
   ]
  },
  {
   "cell_type": "code",
   "execution_count": 16,
   "metadata": {
    "ExecuteTime": {
     "end_time": "2023-08-28T01:06:31.942885100Z",
     "start_time": "2023-08-28T01:06:27.634643400Z"
    }
   },
   "outputs": [],
   "source": [
    "import numpy as np\n",
    "from sklearn.ensemble import RandomForestClassifier\n",
    "from sklearn.model_selection import KFold\n",
    "from sklearn.metrics import auc\n",
    "from sklearn.metrics import roc_curve\n",
    "from sklearn.metrics import accuracy_score\n",
    "from sklearn.metrics import recall_score\n",
    "\n",
    "n_folds = 5\n",
    "# Vector de resultados vacío\n",
    "results = []\n",
    "# Mezcla los índices para la validación cruzada de k-fold\n",
    "kf = KFold(n_splits=n_folds, shuffle=True)\n",
    "# Etiquetas inicializadas con -1 para cada punto de datos\n",
    "labels = -1 * np.ones(len(bd))\n",
    "# Modelo de instancia\n",
    "model = RandomForestClassifier()\n",
    "\n",
    "for train_index, test_index in kf.split(bd):\n",
    "    # Entrenamiento\n",
    "    # Convierte el vector de bits y la etiqueta en una lista\n",
    "    train_x = bd.iloc[train_index].morgan2_c.tolist()\n",
    "    train_y = bd.iloc[train_index].activity.tolist()\n",
    "\n",
    "    # Ajustar el modelo\n",
    "    model.fit(train_x, train_y)\n",
    "\n",
    "    # Pruebas\n",
    "    # Convierte el vector de bits y la etiqueta en una lista\n",
    "    test_x = bd.iloc[test_index].morgan2_c.tolist()\n",
    "    test_y = bd.iloc[test_index].activity.tolist()\n",
    "    # Predecir en el conjunto de prueba\n",
    "    prediction_prob = model.predict_proba(test_x)[:, 1]\n",
    "    # Guardar la etiqueta predicha de cada pliegue\n",
    "    labels[test_index] = model.predict(test_x)\n",
    "\n",
    "    # Actuación\n",
    "    # Obtenga fpr, tpr y roc_auc para cada pliegue\n",
    "    fpr_l, tpr_l, _ = roc_curve(test_y, prediction_prob)\n",
    "    roc_auc_l = auc(fpr_l, tpr_l)\n",
    "    # Agregar a los resultados\n",
    "    results.append((fpr_l, tpr_l, roc_auc_l))\n",
    "# Obtenga precisión general, sensibilidad, especificidad\n",
    "y = bd.activity.tolist()\n",
    "acc = accuracy_score(y, labels)\n",
    "sens = recall_score(y, labels)\n",
    "spec = (acc * len(y) - sens * sum(y)) / (len(y) - sum(y))"
   ]
  },
  {
   "cell_type": "code",
   "execution_count": 17,
   "metadata": {
    "ExecuteTime": {
     "end_time": "2023-08-28T01:06:32.256564600Z",
     "start_time": "2023-08-28T01:06:31.947403400Z"
    }
   },
   "outputs": [
    {
     "data": {
      "image/png": "[encoded data removed]",
      "text/plain": [
       "<Figure size 700x700 with 1 Axes>"
      ]
     },
     "metadata": {},
     "output_type": "display_data"
    }
   ],
   "source": [
    "plt.figure(figsize=(7, 7))\n",
    "cmap = mpl.colormaps['Blues']\n",
    "colors = [cmap(i) for i in np.linspace(0.1, 1.0, n_folds)]\n",
    "\n",
    "for i, (fpr_l, tpr_l, roc_auc_l) in enumerate(results):\n",
    "    plt.plot(fpr_l, tpr_l, label='AUC CV$_{0}$ = {1:0.2f}'.format(str(i),roc_auc_l), lw=2, color=colors[i])\n",
    "    plt.xlim([-0.05, 1.05])\n",
    "    plt.ylim([-0.05, 1.05])\n",
    "plt.plot([0, 1], [0, 1], linestyle='--', label='Random', lw=2, color=\"black\")  # Random curve\n",
    "plt.xlabel('False positive rate', size=24)\n",
    "plt.ylabel('True positive rate', size=24)\n",
    "plt.title(f'Random forest ROC curves', size=24)\n",
    "plt.tick_params(labelsize=16)\n",
    "plt.legend(fontsize=16)\n",
    "\n",
    "plt.show()"
   ]
  },
  {
   "cell_type": "code",
   "execution_count": 18,
   "metadata": {
    "ExecuteTime": {
     "end_time": "2023-08-28T01:06:32.382561700Z",
     "start_time": "2023-08-28T01:06:32.258033600Z"
    }
   },
   "outputs": [
    {
     "name": "stdout",
     "output_type": "stream",
     "text": [
      "Mean AUC: 0.951\n",
      "Sensitivity: 0.795\n",
      "Accuracy: 0.887\n",
      "Specificity: 0.936\n"
     ]
    }
   ],
   "source": [
    "# Calcule el AUC media e imprima\n",
    "m_auc = np.mean([elem[2] for elem in results])\n",
    "print(f'Mean AUC: {m_auc:.3f}')\n",
    "\n",
    "# Mostrar precisión general, sensibilidad, especificidad\n",
    "print(f'Sensitivity: {sens:.3f}\\nAccuracy: {acc:.3f}\\nSpecificity: {spec:.3f}')"
   ]
  },
  {
   "cell_type": "markdown",
   "metadata": {
    "jp-MarkdownHeadingCollapsed": true,
    "tags": []
   },
   "source": [
    "## Conclusiones\n",
    "El algoritmo de clasificación Random Forest es excepcionalmente potente para realizar clasificaciones binarias. En el caso de nuestro estudio, esto implicó clasificar moléculas como activas o inactivas. No obstante, nuestra implementación inicial del modelo reveló un sobreajuste significativo de los datos. Este fenómeno sugiere que el algoritmo intenta captar todas las características de las moléculas en lugar de lograr una generalización efectiva. Un exceso de ajuste puede llevar a una baja capacidad de predicción para moléculas que no forman parte del conjunto de entrenamiento, un escenario que preferiríamos evitar."
   ]
  },
  {
   "cell_type": "markdown",
   "metadata": {},
   "source": [
    "# Machine Learning XGBoost\n",
    "\n",
    "Una alternativa al problema de sobreajuste es explorar la utilización de un modelo de clasificación distinto para entrenar nuestro algoritmo. En esta ocasión, decidimos implementar XGBoost, una eficiente y sofisticada biblioteca de software de aprendizaje automático basada en el algoritmo de boosting de árboles de decisión <sup> **5** </sup> .\n",
    "\n",
    "XGBoost, que significa eXtreme Gradient Boosting, es conocido por su velocidad y rendimiento. Es un algoritmo que ha demostrado ser valioso en una variedad de competencias de ciencia de datos y ha sido ampliamente adoptado en la industria. Como algoritmo de boosting, XGBoost se basa en la idea de crear un modelo predictivo fuerte a través de la combinación de una serie de modelos más débiles, mejorando de manera iterativa las predicciones del conjunto.\n"
   ]
  },
  {
   "cell_type": "markdown",
   "metadata": {},
   "source": [
    "## Entrenamiento del modelo\n",
    "\n",
    "En esta práctica vamos a entrenar un modelo con unos parámetros establecidos de antemano, los cuales mejoran el modelo por defecto."
   ]
  },
  {
   "cell_type": "code",
   "execution_count": 19,
   "metadata": {
    "ExecuteTime": {
     "end_time": "2023-08-28T01:06:32.383557100Z",
     "start_time": "2023-08-28T01:06:32.274044900Z"
    },
    "collapsed": false,
    "jupyter": {
     "outputs_hidden": false
    }
   },
   "outputs": [
    {
     "data": {
      "text/html": [
       "<style>#sk-container-id-2 {color: black;background-color: white;}#sk-container-id-2 pre{padding: 0;}#sk-container-id-2 div.sk-toggleable {background-color: white;}#sk-container-id-2 label.sk-toggleable__label {cursor: pointer;display: block;width: 100%;margin-bottom: 0;padding: 0.3em;box-sizing: border-box;text-align: center;}#sk-container-id-2 label.sk-toggleable__label-arrow:before {content: \"▸\";float: left;margin-right: 0.25em;color: #696969;}#sk-container-id-2 label.sk-toggleable__label-arrow:hover:before {color: black;}#sk-container-id-2 div.sk-estimator:hover label.sk-toggleable__label-arrow:before {color: black;}#sk-container-id-2 div.sk-toggleable__content {max-height: 0;max-width: 0;overflow: hidden;text-align: left;background-color: #f0f8ff;}#sk-container-id-2 div.sk-toggleable__content pre {margin: 0.2em;color: black;border-radius: 0.25em;background-color: #f0f8ff;}#sk-container-id-2 input.sk-toggleable__control:checked~div.sk-toggleable__content {max-height: 200px;max-width: 100%;overflow: auto;}#sk-container-id-2 input.sk-toggleable__control:checked~label.sk-toggleable__label-arrow:before {content: \"▾\";}#sk-container-id-2 div.sk-estimator input.sk-toggleable__control:checked~label.sk-toggleable__label {background-color: #d4ebff;}#sk-container-id-2 div.sk-label input.sk-toggleable__control:checked~label.sk-toggleable__label {background-color: #d4ebff;}#sk-container-id-2 input.sk-hidden--visually {border: 0;clip: rect(1px 1px 1px 1px);clip: rect(1px, 1px, 1px, 1px);height: 1px;margin: -1px;overflow: hidden;padding: 0;position: absolute;width: 1px;}#sk-container-id-2 div.sk-estimator {font-family: monospace;background-color: #f0f8ff;border: 1px dotted black;border-radius: 0.25em;box-sizing: border-box;margin-bottom: 0.5em;}#sk-container-id-2 div.sk-estimator:hover {background-color: #d4ebff;}#sk-container-id-2 div.sk-parallel-item::after {content: \"\";width: 100%;border-bottom: 1px solid gray;flex-grow: 1;}#sk-container-id-2 div.sk-label:hover label.sk-toggleable__label {background-color: #d4ebff;}#sk-container-id-2 div.sk-serial::before {content: \"\";position: absolute;border-left: 1px solid gray;box-sizing: border-box;top: 0;bottom: 0;left: 50%;z-index: 0;}#sk-container-id-2 div.sk-serial {display: flex;flex-direction: column;align-items: center;background-color: white;padding-right: 0.2em;padding-left: 0.2em;position: relative;}#sk-container-id-2 div.sk-item {position: relative;z-index: 1;}#sk-container-id-2 div.sk-parallel {display: flex;align-items: stretch;justify-content: center;background-color: white;position: relative;}#sk-container-id-2 div.sk-item::before, #sk-container-id-2 div.sk-parallel-item::before {content: \"\";position: absolute;border-left: 1px solid gray;box-sizing: border-box;top: 0;bottom: 0;left: 50%;z-index: -1;}#sk-container-id-2 div.sk-parallel-item {display: flex;flex-direction: column;z-index: 1;position: relative;background-color: white;}#sk-container-id-2 div.sk-parallel-item:first-child::after {align-self: flex-end;width: 50%;}#sk-container-id-2 div.sk-parallel-item:last-child::after {align-self: flex-start;width: 50%;}#sk-container-id-2 div.sk-parallel-item:only-child::after {width: 0;}#sk-container-id-2 div.sk-dashed-wrapped {border: 1px dashed gray;margin: 0 0.4em 0.5em 0.4em;box-sizing: border-box;padding-bottom: 0.4em;background-color: white;}#sk-container-id-2 div.sk-label label {font-family: monospace;font-weight: bold;display: inline-block;line-height: 1.2em;}#sk-container-id-2 div.sk-label-container {text-align: center;}#sk-container-id-2 div.sk-container {/* jupyter's `normalize.less` sets `[hidden] { display: none; }` but bootstrap.min.css set `[hidden] { display: none !important; }` so we also need the `!important` here to be able to override the default hidden behavior on the sphinx rendered scikit-learn.org. See: https://github.com/scikit-learn/scikit-learn/issues/21755 */display: inline-block !important;position: relative;}#sk-container-id-2 div.sk-text-repr-fallback {display: none;}</style><div id=\"sk-container-id-2\" class=\"sk-top-container\"><div class=\"sk-text-repr-fallback\"><pre>XGBClassifier(alpha=0.2, base_score=None, booster=None, callbacks=None,\n",
       "              colsample_bylevel=None, colsample_bynode=None,\n",
       "              colsample_bytree=None, early_stopping_rounds=20,\n",
       "              enable_categorical=False, eval_metric=[&#x27;error&#x27;, &#x27;auc&#x27;],\n",
       "              feature_types=None, gamma=0.2, gpu_id=None,\n",
       "              grow_policy=&#x27;depthwise&#x27;, importance_type=None,\n",
       "              interaction_constraints=None, lambda=1.4, learning_rate=0.32,\n",
       "              max_bin=None, max_cat_threshold=None, max_cat_to_onehot=None,\n",
       "              max_delta_step=None, max_depth=7, max_leaves=None,\n",
       "              min_child_weight=1, missing=nan, monotone_constraints=None,\n",
       "              n_estimators=100, n_jobs=None, num_parallel_tree=None, ...)</pre><b>In a Jupyter environment, please rerun this cell to show the HTML representation or trust the notebook. <br />On GitHub, the HTML representation is unable to render, please try loading this page with nbviewer.org.</b></div><div class=\"sk-container\" hidden><div class=\"sk-item\"><div class=\"sk-estimator sk-toggleable\"><input class=\"sk-toggleable__control sk-hidden--visually\" id=\"sk-estimator-id-2\" type=\"checkbox\" checked><label for=\"sk-estimator-id-2\" class=\"sk-toggleable__label sk-toggleable__label-arrow\">XGBClassifier</label><div class=\"sk-toggleable__content\"><pre>XGBClassifier(alpha=0.2, base_score=None, booster=None, callbacks=None,\n",
       "              colsample_bylevel=None, colsample_bynode=None,\n",
       "              colsample_bytree=None, early_stopping_rounds=20,\n",
       "              enable_categorical=False, eval_metric=[&#x27;error&#x27;, &#x27;auc&#x27;],\n",
       "              feature_types=None, gamma=0.2, gpu_id=None,\n",
       "              grow_policy=&#x27;depthwise&#x27;, importance_type=None,\n",
       "              interaction_constraints=None, lambda=1.4, learning_rate=0.32,\n",
       "              max_bin=None, max_cat_threshold=None, max_cat_to_onehot=None,\n",
       "              max_delta_step=None, max_depth=7, max_leaves=None,\n",
       "              min_child_weight=1, missing=nan, monotone_constraints=None,\n",
       "              n_estimators=100, n_jobs=None, num_parallel_tree=None, ...)</pre></div></div></div></div></div>"
      ],
      "text/plain": [
       "XGBClassifier(alpha=0.2, base_score=None, booster=None, callbacks=None,\n",
       "              colsample_bylevel=None, colsample_bynode=None,\n",
       "              colsample_bytree=None, early_stopping_rounds=20,\n",
       "              enable_categorical=False, eval_metric=['error', 'auc'],\n",
       "              feature_types=None, gamma=0.2, gpu_id=None,\n",
       "              grow_policy='depthwise', importance_type=None,\n",
       "              interaction_constraints=None, lambda=1.4, learning_rate=0.32,\n",
       "              max_bin=None, max_cat_threshold=None, max_cat_to_onehot=None,\n",
       "              max_delta_step=None, max_depth=7, max_leaves=None,\n",
       "              min_child_weight=1, missing=nan, monotone_constraints=None,\n",
       "              n_estimators=100, n_jobs=None, num_parallel_tree=None, ...)"
      ]
     },
     "execution_count": 19,
     "metadata": {},
     "output_type": "execute_result"
    }
   ],
   "source": [
    "import xgboost as xgb\n",
    "xgbc_model = xgb.XGBClassifier()\n",
    "# training parameters\n",
    "params = {'objective': 'binary:logistic', 'early_stopping_rounds': 20,\n",
    "           'enable_categorical': False, 'eval_metric': ['error', 'auc'],\n",
    "           'gamma': 0.2, 'grow_policy': 'depthwise',\n",
    "           'learning_rate': 0.32, 'max_depth': 7,\n",
    "           'min_child_weight': 1, 'n_estimators': 100,\n",
    "           'scale_pos_weight': 3.271, 'subsample': 0.8,\n",
    "           'alpha': 0.2, 'lambda': 1.4}\n",
    "xgbc_model.set_params(**params)"
   ]
  },
  {
   "cell_type": "markdown",
   "metadata": {},
   "source": [
    "Para entrenar el modelo XGBoost es necesario generar un conjunto de validación para usar la funcionalidad de \"early stopping\" de XGBoost. \"Early stopping\" es una forma de prevenir el sobreajuste del modelo deteniendo el entrenamiento cuando el error de validación deja de mejorar.\n",
    "\n",
    "Por tanto, nuestro conjunto inicial `X_train, y_train` se divide en dos: `X_temp, y_temp` y `X_valid, y_valid` con una razón de 80:20.\n",
    "\n",
    "Luego podemos entrenar el modelo:"
   ]
  },
  {
   "cell_type": "code",
   "execution_count": 20,
   "metadata": {
    "ExecuteTime": {
     "end_time": "2023-08-28T01:06:34.077985700Z",
     "start_time": "2023-08-28T01:06:32.319183100Z"
    },
    "collapsed": false,
    "jupyter": {
     "outputs_hidden": false
    }
   },
   "outputs": [
    {
     "name": "stdout",
     "output_type": "stream",
     "text": [
      "[0]\tvalidation_0-error:0.25391\tvalidation_0-auc:0.81419\n",
      "[1]\tvalidation_0-error:0.24219\tvalidation_0-auc:0.85467\n",
      "[2]\tvalidation_0-error:0.26172\tvalidation_0-auc:0.86577\n",
      "[3]\tvalidation_0-error:0.21484\tvalidation_0-auc:0.88078\n",
      "[4]\tvalidation_0-error:0.20312\tvalidation_0-auc:0.89604\n",
      "[5]\tvalidation_0-error:0.20703\tvalidation_0-auc:0.90118\n",
      "[6]\tvalidation_0-error:0.19141\tvalidation_0-auc:0.90669\n",
      "[7]\tvalidation_0-error:0.17578\tvalidation_0-auc:0.90672\n",
      "[8]\tvalidation_0-error:0.17969\tvalidation_0-auc:0.90967\n",
      "[9]\tvalidation_0-error:0.17578\tvalidation_0-auc:0.91132\n",
      "[10]\tvalidation_0-error:0.17188\tvalidation_0-auc:0.91301\n",
      "[11]\tvalidation_0-error:0.17578\tvalidation_0-auc:0.91071\n",
      "[12]\tvalidation_0-error:0.15625\tvalidation_0-auc:0.91315\n",
      "[13]\tvalidation_0-error:0.15625\tvalidation_0-auc:0.91376\n",
      "[14]\tvalidation_0-error:0.15234\tvalidation_0-auc:0.91464\n",
      "[15]\tvalidation_0-error:0.15625\tvalidation_0-auc:0.91498\n",
      "[16]\tvalidation_0-error:0.16016\tvalidation_0-auc:0.91457\n",
      "[17]\tvalidation_0-error:0.16406\tvalidation_0-auc:0.91437\n",
      "[18]\tvalidation_0-error:0.16406\tvalidation_0-auc:0.91437\n",
      "[19]\tvalidation_0-error:0.16797\tvalidation_0-auc:0.91457\n",
      "[20]\tvalidation_0-error:0.15625\tvalidation_0-auc:0.91694\n",
      "[21]\tvalidation_0-error:0.16406\tvalidation_0-auc:0.91849\n",
      "[22]\tvalidation_0-error:0.15625\tvalidation_0-auc:0.91802\n",
      "[23]\tvalidation_0-error:0.16016\tvalidation_0-auc:0.91829\n",
      "[24]\tvalidation_0-error:0.15625\tvalidation_0-auc:0.92005\n",
      "[25]\tvalidation_0-error:0.15234\tvalidation_0-auc:0.92127\n",
      "[26]\tvalidation_0-error:0.14844\tvalidation_0-auc:0.92039\n",
      "[27]\tvalidation_0-error:0.15625\tvalidation_0-auc:0.92025\n",
      "[28]\tvalidation_0-error:0.15234\tvalidation_0-auc:0.91870\n",
      "[29]\tvalidation_0-error:0.14844\tvalidation_0-auc:0.91897\n",
      "[30]\tvalidation_0-error:0.15625\tvalidation_0-auc:0.91958\n",
      "[31]\tvalidation_0-error:0.16797\tvalidation_0-auc:0.91728\n",
      "[32]\tvalidation_0-error:0.16797\tvalidation_0-auc:0.91741\n",
      "[33]\tvalidation_0-error:0.17969\tvalidation_0-auc:0.91788\n",
      "[34]\tvalidation_0-error:0.17188\tvalidation_0-auc:0.91924\n",
      "[35]\tvalidation_0-error:0.16406\tvalidation_0-auc:0.92039\n",
      "[36]\tvalidation_0-error:0.16406\tvalidation_0-auc:0.91761\n",
      "[37]\tvalidation_0-error:0.16406\tvalidation_0-auc:0.91944\n",
      "[38]\tvalidation_0-error:0.16406\tvalidation_0-auc:0.91971\n",
      "[39]\tvalidation_0-error:0.16406\tvalidation_0-auc:0.92309\n",
      "[40]\tvalidation_0-error:0.15234\tvalidation_0-auc:0.92458\n",
      "[41]\tvalidation_0-error:0.15234\tvalidation_0-auc:0.92505\n",
      "[42]\tvalidation_0-error:0.14844\tvalidation_0-auc:0.92330\n",
      "[43]\tvalidation_0-error:0.14844\tvalidation_0-auc:0.92465\n",
      "[44]\tvalidation_0-error:0.14844\tvalidation_0-auc:0.92370\n",
      "[45]\tvalidation_0-error:0.15625\tvalidation_0-auc:0.92275\n",
      "[46]\tvalidation_0-error:0.14453\tvalidation_0-auc:0.92282\n",
      "[47]\tvalidation_0-error:0.14453\tvalidation_0-auc:0.92221\n",
      "[48]\tvalidation_0-error:0.14453\tvalidation_0-auc:0.92215\n",
      "[49]\tvalidation_0-error:0.14453\tvalidation_0-auc:0.92201\n",
      "[50]\tvalidation_0-error:0.15234\tvalidation_0-auc:0.92160\n",
      "[51]\tvalidation_0-error:0.14062\tvalidation_0-auc:0.92323\n",
      "[52]\tvalidation_0-error:0.14453\tvalidation_0-auc:0.92357\n",
      "[53]\tvalidation_0-error:0.14844\tvalidation_0-auc:0.92377\n",
      "[54]\tvalidation_0-error:0.14844\tvalidation_0-auc:0.92539\n",
      "[55]\tvalidation_0-error:0.14844\tvalidation_0-auc:0.92546\n",
      "[56]\tvalidation_0-error:0.14844\tvalidation_0-auc:0.92526\n",
      "[57]\tvalidation_0-error:0.14453\tvalidation_0-auc:0.92390\n",
      "[58]\tvalidation_0-error:0.14453\tvalidation_0-auc:0.92269\n",
      "[59]\tvalidation_0-error:0.14062\tvalidation_0-auc:0.92384\n",
      "[60]\tvalidation_0-error:0.13672\tvalidation_0-auc:0.92316\n",
      "[61]\tvalidation_0-error:0.13672\tvalidation_0-auc:0.92390\n",
      "[62]\tvalidation_0-error:0.14062\tvalidation_0-auc:0.92282\n",
      "[63]\tvalidation_0-error:0.14062\tvalidation_0-auc:0.92302\n",
      "[64]\tvalidation_0-error:0.13672\tvalidation_0-auc:0.92363\n",
      "[65]\tvalidation_0-error:0.14062\tvalidation_0-auc:0.92445\n",
      "[66]\tvalidation_0-error:0.13672\tvalidation_0-auc:0.92499\n",
      "[67]\tvalidation_0-error:0.13672\tvalidation_0-auc:0.92593\n",
      "[68]\tvalidation_0-error:0.14062\tvalidation_0-auc:0.92688\n",
      "[69]\tvalidation_0-error:0.14844\tvalidation_0-auc:0.92654\n",
      "[70]\tvalidation_0-error:0.14844\tvalidation_0-auc:0.92634\n",
      "[71]\tvalidation_0-error:0.14062\tvalidation_0-auc:0.92614\n",
      "[72]\tvalidation_0-error:0.14453\tvalidation_0-auc:0.92776\n",
      "[73]\tvalidation_0-error:0.13672\tvalidation_0-auc:0.92850\n",
      "[74]\tvalidation_0-error:0.14062\tvalidation_0-auc:0.92817\n",
      "[75]\tvalidation_0-error:0.14453\tvalidation_0-auc:0.92857\n",
      "[76]\tvalidation_0-error:0.14844\tvalidation_0-auc:0.92634\n",
      "[77]\tvalidation_0-error:0.14844\tvalidation_0-auc:0.92702\n",
      "[78]\tvalidation_0-error:0.14062\tvalidation_0-auc:0.92749\n",
      "[79]\tvalidation_0-error:0.14062\tvalidation_0-auc:0.92810\n",
      "[80]\tvalidation_0-error:0.14453\tvalidation_0-auc:0.92756\n",
      "[81]\tvalidation_0-error:0.14062\tvalidation_0-auc:0.92729\n",
      "[82]\tvalidation_0-error:0.13672\tvalidation_0-auc:0.92729\n",
      "[83]\tvalidation_0-error:0.14062\tvalidation_0-auc:0.92729\n",
      "[84]\tvalidation_0-error:0.14453\tvalidation_0-auc:0.92776\n",
      "[85]\tvalidation_0-error:0.14453\tvalidation_0-auc:0.92803\n",
      "[86]\tvalidation_0-error:0.14453\tvalidation_0-auc:0.92857\n",
      "[87]\tvalidation_0-error:0.14453\tvalidation_0-auc:0.92810\n",
      "[88]\tvalidation_0-error:0.14453\tvalidation_0-auc:0.92742\n",
      "[89]\tvalidation_0-error:0.14062\tvalidation_0-auc:0.92661\n",
      "[90]\tvalidation_0-error:0.13281\tvalidation_0-auc:0.92729\n",
      "[91]\tvalidation_0-error:0.13281\tvalidation_0-auc:0.92735\n",
      "[92]\tvalidation_0-error:0.13672\tvalidation_0-auc:0.92702\n",
      "[93]\tvalidation_0-error:0.14453\tvalidation_0-auc:0.92675\n",
      "[94]\tvalidation_0-error:0.14453\tvalidation_0-auc:0.92647\n"
     ]
    },
    {
     "data": {
      "text/html": [
       "<style>#sk-container-id-3 {color: black;background-color: white;}#sk-container-id-3 pre{padding: 0;}#sk-container-id-3 div.sk-toggleable {background-color: white;}#sk-container-id-3 label.sk-toggleable__label {cursor: pointer;display: block;width: 100%;margin-bottom: 0;padding: 0.3em;box-sizing: border-box;text-align: center;}#sk-container-id-3 label.sk-toggleable__label-arrow:before {content: \"▸\";float: left;margin-right: 0.25em;color: #696969;}#sk-container-id-3 label.sk-toggleable__label-arrow:hover:before {color: black;}#sk-container-id-3 div.sk-estimator:hover label.sk-toggleable__label-arrow:before {color: black;}#sk-container-id-3 div.sk-toggleable__content {max-height: 0;max-width: 0;overflow: hidden;text-align: left;background-color: #f0f8ff;}#sk-container-id-3 div.sk-toggleable__content pre {margin: 0.2em;color: black;border-radius: 0.25em;background-color: #f0f8ff;}#sk-container-id-3 input.sk-toggleable__control:checked~div.sk-toggleable__content {max-height: 200px;max-width: 100%;overflow: auto;}#sk-container-id-3 input.sk-toggleable__control:checked~label.sk-toggleable__label-arrow:before {content: \"▾\";}#sk-container-id-3 div.sk-estimator input.sk-toggleable__control:checked~label.sk-toggleable__label {background-color: #d4ebff;}#sk-container-id-3 div.sk-label input.sk-toggleable__control:checked~label.sk-toggleable__label {background-color: #d4ebff;}#sk-container-id-3 input.sk-hidden--visually {border: 0;clip: rect(1px 1px 1px 1px);clip: rect(1px, 1px, 1px, 1px);height: 1px;margin: -1px;overflow: hidden;padding: 0;position: absolute;width: 1px;}#sk-container-id-3 div.sk-estimator {font-family: monospace;background-color: #f0f8ff;border: 1px dotted black;border-radius: 0.25em;box-sizing: border-box;margin-bottom: 0.5em;}#sk-container-id-3 div.sk-estimator:hover {background-color: #d4ebff;}#sk-container-id-3 div.sk-parallel-item::after {content: \"\";width: 100%;border-bottom: 1px solid gray;flex-grow: 1;}#sk-container-id-3 div.sk-label:hover label.sk-toggleable__label {background-color: #d4ebff;}#sk-container-id-3 div.sk-serial::before {content: \"\";position: absolute;border-left: 1px solid gray;box-sizing: border-box;top: 0;bottom: 0;left: 50%;z-index: 0;}#sk-container-id-3 div.sk-serial {display: flex;flex-direction: column;align-items: center;background-color: white;padding-right: 0.2em;padding-left: 0.2em;position: relative;}#sk-container-id-3 div.sk-item {position: relative;z-index: 1;}#sk-container-id-3 div.sk-parallel {display: flex;align-items: stretch;justify-content: center;background-color: white;position: relative;}#sk-container-id-3 div.sk-item::before, #sk-container-id-3 div.sk-parallel-item::before {content: \"\";position: absolute;border-left: 1px solid gray;box-sizing: border-box;top: 0;bottom: 0;left: 50%;z-index: -1;}#sk-container-id-3 div.sk-parallel-item {display: flex;flex-direction: column;z-index: 1;position: relative;background-color: white;}#sk-container-id-3 div.sk-parallel-item:first-child::after {align-self: flex-end;width: 50%;}#sk-container-id-3 div.sk-parallel-item:last-child::after {align-self: flex-start;width: 50%;}#sk-container-id-3 div.sk-parallel-item:only-child::after {width: 0;}#sk-container-id-3 div.sk-dashed-wrapped {border: 1px dashed gray;margin: 0 0.4em 0.5em 0.4em;box-sizing: border-box;padding-bottom: 0.4em;background-color: white;}#sk-container-id-3 div.sk-label label {font-family: monospace;font-weight: bold;display: inline-block;line-height: 1.2em;}#sk-container-id-3 div.sk-label-container {text-align: center;}#sk-container-id-3 div.sk-container {/* jupyter's `normalize.less` sets `[hidden] { display: none; }` but bootstrap.min.css set `[hidden] { display: none !important; }` so we also need the `!important` here to be able to override the default hidden behavior on the sphinx rendered scikit-learn.org. See: https://github.com/scikit-learn/scikit-learn/issues/21755 */display: inline-block !important;position: relative;}#sk-container-id-3 div.sk-text-repr-fallback {display: none;}</style><div id=\"sk-container-id-3\" class=\"sk-top-container\"><div class=\"sk-text-repr-fallback\"><pre>XGBClassifier(alpha=0.2, base_score=None, booster=None, callbacks=None,\n",
       "              colsample_bylevel=None, colsample_bynode=None,\n",
       "              colsample_bytree=None, early_stopping_rounds=20,\n",
       "              enable_categorical=False, eval_metric=[&#x27;error&#x27;, &#x27;auc&#x27;],\n",
       "              feature_types=None, gamma=0.2, gpu_id=None,\n",
       "              grow_policy=&#x27;depthwise&#x27;, importance_type=None,\n",
       "              interaction_constraints=None, lambda=1.4, learning_rate=0.32,\n",
       "              max_bin=None, max_cat_threshold=None, max_cat_to_onehot=None,\n",
       "              max_delta_step=None, max_depth=7, max_leaves=None,\n",
       "              min_child_weight=1, missing=nan, monotone_constraints=None,\n",
       "              n_estimators=100, n_jobs=None, num_parallel_tree=None, ...)</pre><b>In a Jupyter environment, please rerun this cell to show the HTML representation or trust the notebook. <br />On GitHub, the HTML representation is unable to render, please try loading this page with nbviewer.org.</b></div><div class=\"sk-container\" hidden><div class=\"sk-item\"><div class=\"sk-estimator sk-toggleable\"><input class=\"sk-toggleable__control sk-hidden--visually\" id=\"sk-estimator-id-3\" type=\"checkbox\" checked><label for=\"sk-estimator-id-3\" class=\"sk-toggleable__label sk-toggleable__label-arrow\">XGBClassifier</label><div class=\"sk-toggleable__content\"><pre>XGBClassifier(alpha=0.2, base_score=None, booster=None, callbacks=None,\n",
       "              colsample_bylevel=None, colsample_bynode=None,\n",
       "              colsample_bytree=None, early_stopping_rounds=20,\n",
       "              enable_categorical=False, eval_metric=[&#x27;error&#x27;, &#x27;auc&#x27;],\n",
       "              feature_types=None, gamma=0.2, gpu_id=None,\n",
       "              grow_policy=&#x27;depthwise&#x27;, importance_type=None,\n",
       "              interaction_constraints=None, lambda=1.4, learning_rate=0.32,\n",
       "              max_bin=None, max_cat_threshold=None, max_cat_to_onehot=None,\n",
       "              max_delta_step=None, max_depth=7, max_leaves=None,\n",
       "              min_child_weight=1, missing=nan, monotone_constraints=None,\n",
       "              n_estimators=100, n_jobs=None, num_parallel_tree=None, ...)</pre></div></div></div></div></div>"
      ],
      "text/plain": [
       "XGBClassifier(alpha=0.2, base_score=None, booster=None, callbacks=None,\n",
       "              colsample_bylevel=None, colsample_bynode=None,\n",
       "              colsample_bytree=None, early_stopping_rounds=20,\n",
       "              enable_categorical=False, eval_metric=['error', 'auc'],\n",
       "              feature_types=None, gamma=0.2, gpu_id=None,\n",
       "              grow_policy='depthwise', importance_type=None,\n",
       "              interaction_constraints=None, lambda=1.4, learning_rate=0.32,\n",
       "              max_bin=None, max_cat_threshold=None, max_cat_to_onehot=None,\n",
       "              max_delta_step=None, max_depth=7, max_leaves=None,\n",
       "              min_child_weight=1, missing=nan, monotone_constraints=None,\n",
       "              n_estimators=100, n_jobs=None, num_parallel_tree=None, ...)"
      ]
     },
     "execution_count": 20,
     "metadata": {},
     "output_type": "execute_result"
    }
   ],
   "source": [
    "X_temp, X_valid, y_temp, y_valid = train_test_split(X_train, y_train, test_size=0.2, random_state=42)\n",
    "xgbc_model.fit(X_temp, y_temp, eval_set=[(X_valid, y_valid)])"
   ]
  },
  {
   "cell_type": "markdown",
   "metadata": {},
   "source": [
    "## Salvar y Cargar el modelo"
   ]
  },
  {
   "cell_type": "markdown",
   "metadata": {},
   "source": [
    "Una vez entrenado el modelo se puede guardar, para esto utilizamos el comando `save_model`."
   ]
  },
  {
   "cell_type": "code",
   "execution_count": 25,
   "metadata": {
    "ExecuteTime": {
     "end_time": "2023-08-28T01:07:33.323523600Z",
     "start_time": "2023-08-28T01:07:33.237018100Z"
    },
    "collapsed": false,
    "jupyter": {
     "outputs_hidden": false
    }
   },
   "outputs": [],
   "source": [
    "xgbc_model.save_model('data/P49841_model.json')"
   ]
  },
  {
   "cell_type": "markdown",
   "metadata": {},
   "source": [
    "Para cargarlo y utilizarlo, se utiliza el comando `load_model()`, por ejemplo"
   ]
  },
  {
   "cell_type": "code",
   "execution_count": 26,
   "metadata": {
    "ExecuteTime": {
     "end_time": "2023-08-28T01:08:54.337777900Z",
     "start_time": "2023-08-28T01:08:54.285831Z"
    },
    "collapsed": false,
    "jupyter": {
     "outputs_hidden": false
    }
   },
   "outputs": [],
   "source": [
    "new_model = xgb.XGBClassifier()\n",
    "new_model.load_model('data/P49841_model.json')"
   ]
  },
  {
   "cell_type": "markdown",
   "metadata": {},
   "source": [
    "## Validación del modelo\n",
    "Con el modelo ya entrenado como `xgbc_model`, ahora podemos evaluar las métricas de desempeño, por ejemplo el accuracy:"
   ]
  },
  {
   "cell_type": "code",
   "execution_count": 21,
   "metadata": {
    "ExecuteTime": {
     "end_time": "2023-08-28T01:06:34.395148500Z",
     "start_time": "2023-08-28T01:06:34.100490400Z"
    },
    "collapsed": false,
    "jupyter": {
     "outputs_hidden": false
    }
   },
   "outputs": [
    {
     "name": "stdout",
     "output_type": "stream",
     "text": [
      "Accuracy conjunto de entrenamiento: 0.9655 (96.55%)\n",
      "Accuracy conjunto de prueba: 0.8960 (89.60%)\n"
     ]
    }
   ],
   "source": [
    "# Predicción conjunto de entrenamiento\n",
    "y_train_pred = xgbc_model.predict(X_train)\n",
    "# Predicción conjunto de prueba\n",
    "y_test_pre = xgbc_model.predict(X_test)\n",
    "\n",
    "# Puntuación\n",
    "acc_train = accuracy_score(y_train, y_train_pred)\n",
    "acc_test = accuracy_score(y_test, y_test_pre)\n",
    "print(f'Accuracy conjunto de entrenamiento: {acc_train:.4f} ({acc_train:.2%})\\n'\n",
    "      f'Accuracy conjunto de prueba: {acc_test:.4f} ({acc_test:.2%})')\n"
   ]
  },
  {
   "cell_type": "markdown",
   "metadata": {},
   "source": [
    "Este resultado indica que el sobreajuste se ha disminuido.\n",
    "\n",
    "Veamos la matriz de confusión:"
   ]
  },
  {
   "cell_type": "code",
   "execution_count": 22,
   "metadata": {
    "ExecuteTime": {
     "end_time": "2023-08-28T01:06:34.537519600Z",
     "start_time": "2023-08-28T01:06:34.397669900Z"
    },
    "collapsed": false,
    "jupyter": {
     "outputs_hidden": false
    }
   },
   "outputs": [
    {
     "data": {
      "text/plain": [
       "<sklearn.metrics._plot.confusion_matrix.ConfusionMatrixDisplay at 0x228b9226f40>"
      ]
     },
     "execution_count": 22,
     "metadata": {},
     "output_type": "execute_result"
    },
    {
     "data": {
      "image/png": "[encoded data removed]",
      "text/plain": [
       "<Figure size 640x480 with 1 Axes>"
      ]
     },
     "metadata": {},
     "output_type": "display_data"
    }
   ],
   "source": [
    "ConfusionMatrixDisplay.from_predictions(y_test, y_test_pre, colorbar=False,  cmap=plt.cm.Blues)"
   ]
  },
  {
   "cell_type": "code",
   "execution_count": 23,
   "metadata": {
    "ExecuteTime": {
     "end_time": "2023-08-28T01:06:34.645436200Z",
     "start_time": "2023-08-28T01:06:34.537519600Z"
    },
    "collapsed": false,
    "jupyter": {
     "outputs_hidden": false
    }
   },
   "outputs": [
    {
     "data": {
      "text/plain": [
       "<sklearn.metrics._plot.confusion_matrix.ConfusionMatrixDisplay at 0x228b91cbc40>"
      ]
     },
     "execution_count": 23,
     "metadata": {},
     "output_type": "execute_result"
    },
    {
     "data": {
      "image/png": "[encoded data removed]",
      "text/plain": [
       "<Figure size 640x480 with 1 Axes>"
      ]
     },
     "metadata": {},
     "output_type": "display_data"
    }
   ],
   "source": [
    "ConfusionMatrixDisplay.from_predictions(y_test, y_test_pre, colorbar=False,\n",
    "                                        cmap=plt.cm.Blues, normalize='true')"
   ]
  },
  {
   "cell_type": "markdown",
   "metadata": {},
   "source": [
    "También se puede repetir el proceso para graficar la curva ROC junto con el AUC"
   ]
  },
  {
   "cell_type": "code",
   "execution_count": 24,
   "metadata": {
    "ExecuteTime": {
     "end_time": "2023-08-28T01:06:35.171509900Z",
     "start_time": "2023-08-28T01:06:34.630029Z"
    },
    "collapsed": false,
    "jupyter": {
     "outputs_hidden": false
    }
   },
   "outputs": [
    {
     "data": {
      "text/plain": [
       "<matplotlib.legend.Legend at 0x228baba7f70>"
      ]
     },
     "execution_count": 24,
     "metadata": {},
     "output_type": "execute_result"
    },
    {
     "data": {
      "image/png": "[encoded data removed]",
      "text/plain": [
       "<Figure size 700x700 with 1 Axes>"
      ]
     },
     "metadata": {},
     "output_type": "display_data"
    }
   ],
   "source": [
    "# Probabilidad de las predcciones\n",
    "pred_prob_train = xgbc_model.predict_proba(X_train)[:, 1]\n",
    "pred_prob_test = xgbc_model.predict_proba(X_test)[:, 1]\n",
    "\n",
    "# tasas de falsos positivos / tasas de verdaderos positivos - entrenamiento\n",
    "fpr_train, tpr_train, _ = roc_curve(y_train, pred_prob_train)\n",
    "roc_auc_train = auc(fpr_train, tpr_train)\n",
    "# tasas de falsos positivos / tasas de verdaderos positivos - prueba\n",
    "fpr_test, tpr_test, _ = roc_curve(y_test, pred_prob_test)\n",
    "roc_auc_test = auc(fpr_test, tpr_test)\n",
    "\n",
    "plt.figure(figsize=(7, 7))\n",
    "plt.plot(fpr_train, tpr_train, label=f'AUC train = {roc_auc_train:.2f}', lw=2)\n",
    "plt.plot(fpr_test, tpr_test, label=f'AUC test = {roc_auc_test:.2f}', lw=2)\n",
    "plt.plot([0, 1], [0, 1], linestyle='--', label='Random', lw=2, color=\"black\")  # Curva aleatoria\n",
    "\n",
    "plt.xlabel('False positive rate', size=24)\n",
    "plt.ylabel('True positive rate', size=24)\n",
    "plt.title('XGBoost ROC curves', size=24)\n",
    "plt.tick_params(labelsize=16)\n",
    "plt.legend(fontsize=16)"
   ]
  },
  {
   "cell_type": "markdown",
   "metadata": {},
   "source": [
    "# Actividad Práctica\n",
    "\n",
    "Teniendo en cuenta lo revisado, realice un código en python con el cual:\n",
    "\n",
    "Descarge 10 compuestos aleatorios de la base de datos de ChEMBL con un peso molecular entre 500 y 600 g/mol y prediga si esos compuestos son activos o inactivos frente a la proteína *Glycogen synthase kinase-3 beta* utilizando el modelo de machine learning XGBoost empleado en esta práctica.\n",
    "\n",
    "\n",
    "Al finalizar deberá preparar un documento en formato PDF en el cual muestre el input y como resultado de ejecución:\n",
    "1. Una tabla con:\n",
    "    * ChEMBL ID.\n",
    "    * La estructura de los 10 compuestos.\n",
    "    * pchembL_value.\n",
    "    * Las reglas de Lipinski (peso molecular, aceptores y donores de enlaces de hidrogéno y logP).\n",
    "    * Si cumplen o no con las reglas de Lipinski.\n",
    "2. Una tabla con:\n",
    "    * ChEMBL ID.\n",
    "    * pchembL_value.\n",
    "    * SMILES\n",
    "    * Morgan Fingerprint (morgan2_c/ecfp4).\n",
    "    * Valor de la probablidad de ser o no activo.  "
   ]
  },
  {
   "cell_type": "markdown",
   "metadata": {},
   "source": [
    "# Conclusiones\n",
    "A lo largo de esta práctica, trabajamos con dos algoritmos de clasificación ampliamente utilizados: Random Forest y XGBoost. Cada uno de estos algoritmos tiene sus propias ventajas y limitaciones, y su desempeño puede variar enormemente dependiendo del tipo de datos y la configuración de los parámetros.\n",
    "\n",
    "Nuestro primer enfoque fue emplear el algoritmo de Random Forest utilizando los parámetros predeterminados. Aunque Random Forest es conocido por su capacidad para manejar una amplia gama de problemas de clasificación, observamos que, en nuestro caso, el modelo resultante sufría de sobreajuste. El sobreajuste es un fenómeno común en el aprendizaje automático, donde un modelo memoriza las características del conjunto de entrenamiento en lugar de aprender a generalizar a partir de las características subyacentes. Esto limita la capacidad del modelo para realizar predicciones precisas en datos no vistos.\n",
    "\n",
    "Para abordar este problema, experimentamos con un segundo algoritmo: XGBoost. XGBoost es un algoritmo potente y flexible que puede ser especialmente efectivo para abordar problemas de sobreajuste si se configura correctamente. Para nuestro modelo XGBoost, definimos un conjunto inicial de parámetros y observamos que, después de entrenar y validar el modelo, el sobreajuste había disminuido.\n",
    "\n",
    "Es crucial recordar que no existe un algoritmo de clasificación \"mejor\" o \"peor\" en general. La eficacia de un algoritmo depende en gran medida de los datos con los que se trabaje y de cómo se configuren sus parámetros. Por tanto, el proceso de buscar el algoritmo de clasificación más adecuado para un problema dado suele implicar la experimentación con diferentes modelos y la ajuste de sus parámetros. En última instancia, la elección del algoritmo y su configuración es un equilibrio entre el rendimiento del modelo, la interpretabilidad y la eficiencia computacional.\n",
    "\n",
    "Como continuación a esta práctica, sería interesante explorar otros modelos de clasificación, así como experimentar con diferentes técnicas de ajuste de parámetros, como la búsqueda de cuadrícula o la optimización bayesiana, para seguir mejorando el desempeño de nuestro modelo de clasificación."
   ]
  },
  {
   "cell_type": "markdown",
   "metadata": {},
   "source": [
    "# Referencias\n",
    "1. Sarica, A., Cerasa, A., & Quattrone, A. (2017). Random forest algorithm for the classification of neuroimaging data in alzheimer’s disease: A systematic review. Frontiers in Aging Neuroscience, 9. https://www.frontiersin.org/articles/10.3389/fnagi.2017.00329\n",
    "2. Refaeilzadeh, P., Tang, L., & Liu, H. (2009). Cross-validation. En L. LIU & M. T. ÖZSU (Eds.), Encyclopedia of Database Systems (pp. 532-538). Springer US. https://doi.org/10.1007/978-0-387-39940-9_565\n",
    "3. Larrañaga, P., Calvo, B., Santana, R., Bielza, C., Galdiano, J., Inza, I., Lozano, J. A., Armañanzas, R., Santafé, G., Pérez, A., & Robles, V. (2006). Machine learning in bioinformatics. Briefings in Bioinformatics, 7(1), 86-112. https://doi.org/10.1093/bib/bbk007\n",
    "4. Extended connectivity fingerprint ecfp | chemaxon docs. (s. f.). https://docs.chemaxon.com/display/docs/extended-connectivity-fingerprint-ecfp.md\n",
    "5. Chen, T., & Guestrin, C. (2016). XGBoost: A Scalable Tree Boosting System. In Proceedings of the 22nd ACM SIGKDD International Conference on Knowledge Discovery and Data Mining (pp. 785–794). New York, NY, USA: ACM. https://doi.org/10.1145/2939672.2939785"
   ]
  }
 ],
 "metadata": {
  "kernelspec": {
   "display_name": "Python 3 (ipykernel)",
   "language": "python",
   "name": "python3"
  },
  "language_info": {
   "codemirror_mode": {
    "name": "ipython",
    "version": 3
   },
   "file_extension": ".py",
   "mimetype": "text/x-python",
   "name": "python",
   "nbconvert_exporter": "python",
   "pygments_lexer": "ipython3",
   "version": "3.8.16"
  }
 },
 "nbformat": 4,
 "nbformat_minor": 4
}
