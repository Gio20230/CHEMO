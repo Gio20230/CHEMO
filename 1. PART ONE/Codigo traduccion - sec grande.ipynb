{
 "cells": [
  {
   "cell_type": "code",
   "execution_count": 1,
   "id": "1926c524",
   "metadata": {},
   "outputs": [
    {
     "name": "stdout",
     "output_type": "stream",
     "text": [
      "34815635\n"
     ]
    }
   ],
   "source": [
    "#Secuencia del adn completo de Marmota monax isolate (ID: JAIQCD010000022.1)\n",
    "with open(\"marmota.fasta\", \"r\") as GEN:\n",
    "        sec_CYP2C9 = (GEN.read())\n",
    "        ADN_CYP2C9= sec_CYP2C9.replace(\"\\n\",\"\")       \n",
    "TAM_ADN= len(ADN_CYP2C9)\n",
    "print(TAM_ADN)"
   ]
  },
  {
   "cell_type": "code",
   "execution_count": null,
   "id": "80dc122d",
   "metadata": {
    "scrolled": true
   },
   "outputs": [],
   "source": [
    "#Transcripcion de ADN a ARN\n",
    "for elem in ADN_CYP2C9:    \n",
    "    RNA= ADN_CYP2C9.replace(\"T\",\"U\")\n",
    "TAM_ARN= len(RNA)\n",
    "print(TAM_ARN)"
   ]
  },
  {
   "cell_type": "code",
   "execution_count": null,
   "id": "5182f7ee",
   "metadata": {},
   "outputs": [],
   "source": [
    "#Diccionario de codones para la traduccion\n",
    "codones= {\"GUU\": \"V\", \"GUC\": \"V\", \"GUA\": \"V\", \"GUG\": \"V\", \"GCU\": \"A\", \"GCC\": \"A\", \"GCA\": \"A\", \"GCG\": \"A\", \"GAU\": \"D\", \"GAC\": \"D\", \"GAA\": \"E\", \"GAG\": \"E\",\"GGU\": \"G\", \"GGC\": \"G\", \"GGA\": \"G\", \"GGG\": \"G\", \"AGA\": \"R\", \"AGG\": \"R\", \"AGU\": \"S\", \"AGC\": \"S\", \"AAU\": \"N\", \"AAC\": \"N\", \"AAA\": \"K\", \"AAG\": \"K\", \"ACU\" : \"T\", \"ACC\" : \"T\", \"ACA\" : \"T\", \"ACG\" : \"T\", \"AUU\" : \"I\", \"AUC\" : \"I\", \"AUA\" : \"I\", \"AUG\" : \"M\", \"CGU\" : \"R\", \"CGC\" : \"R\", \"CGA\" : \"R\", \"CGG\" : \"R\", \"CCU\" : \"P\", \"CCC\" : \"P\", \"CCA\" : \"P\", \"CCG\" : \"P\", \"CAU\" : \"H\", \"CAC\" : \"H\", \"CAA\" : \"Q\", \"CAG\" : \"Q\", \"UUU\": \"F\", \"UUC\": \"F\", \"UUA\": \"L\", \"UUG\": \"L\", \"UCU\": \"S\", \"UCC\": \"S\", \"UCA\": \"S\", \"UCG\" : \"S\", \"UAU\": \"Y\", \"UAC\": \"Y\", \"UAA\": \"STOP\", \"UAG\": \"STOP\", \"UGU\": \"C\", \"UGC\": \"C\", \"UGA\": \"STOP\", \"UGG\": \"W\",\"CUU\": \"L\", \"CUC\": \"L\", \"CUA\": \"L\", \"CUG\": \"L\", \"CCU\": \"P\", \"CCC\": \"P\", \"CCA\": \"P\", \"CCG\": \"P\", \"CAU\": \"H\", \"CAC\": \"H\", \"CAA\": \"Q\", \"CAG\": \"Q\", \"CGU\": \"R\", \"CGC\": \"R\", \"CGA\": \"R\", \"CGG\": \"R\"}\n",
    "print(codones.values())"
   ]
  },
  {
   "cell_type": "code",
   "execution_count": null,
   "id": "1f5645c5",
   "metadata": {},
   "outputs": [],
   "source": [
    "#Traducccion de ARN a aminoacidos\n",
    "protein = \"\"\n",
    "if len(RNA)%3 == 0:\n",
    "    for i in range(0, len(RNA), 3):\n",
    "        codon = RNA[i : i+3]\n",
    "        protein += codones[codon]\n",
    "print(protein[1:100])"
   ]
  }
 ],
 "metadata": {
  "kernelspec": {
   "display_name": "Python 3",
   "language": "python",
   "name": "python3"
  },
  "language_info": {
   "codemirror_mode": {
    "name": "ipython",
    "version": 3
   },
   "file_extension": ".py",
   "mimetype": "text/x-python",
   "name": "python",
   "nbconvert_exporter": "python",
   "pygments_lexer": "ipython3",
   "version": "3.8.8"
  }
 },
 "nbformat": 4,
 "nbformat_minor": 5
}
