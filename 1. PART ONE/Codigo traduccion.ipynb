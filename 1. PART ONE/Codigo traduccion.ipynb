{
 "cells": [
  {
   "cell_type": "code",
   "execution_count": 1,
   "id": "1926c524",
   "metadata": {},
   "outputs": [
    {
     "ename": "FileNotFoundError",
     "evalue": "[Errno 2] No such file or directory: 'dna_CYP2C9.fasta'",
     "output_type": "error",
     "traceback": [
      "\u001B[1;31m---------------------------------------------------------------------------\u001B[0m",
      "\u001B[1;31mFileNotFoundError\u001B[0m                         Traceback (most recent call last)",
      "Input \u001B[1;32mIn [1]\u001B[0m, in \u001B[0;36m<module>\u001B[1;34m\u001B[0m\n\u001B[1;32m----> 1\u001B[0m \u001B[38;5;28;01mwith\u001B[39;00m \u001B[38;5;28;43mopen\u001B[39;49m\u001B[43m(\u001B[49m\u001B[38;5;124;43m\"\u001B[39;49m\u001B[38;5;124;43mdna_CYP2C9.fasta\u001B[39;49m\u001B[38;5;124;43m\"\u001B[39;49m\u001B[43m,\u001B[49m\u001B[43m \u001B[49m\u001B[38;5;124;43m\"\u001B[39;49m\u001B[38;5;124;43mr\u001B[39;49m\u001B[38;5;124;43m\"\u001B[39;49m\u001B[43m)\u001B[49m \u001B[38;5;28;01mas\u001B[39;00m GEN:\n\u001B[0;32m      2\u001B[0m         sec_CYP2C9 \u001B[38;5;241m=\u001B[39m (GEN\u001B[38;5;241m.\u001B[39mread())\n\u001B[0;32m      3\u001B[0m         ADN_CYP2C9\u001B[38;5;241m=\u001B[39m sec_CYP2C9\u001B[38;5;241m.\u001B[39mreplace(\u001B[38;5;124m\"\u001B[39m\u001B[38;5;130;01m\\n\u001B[39;00m\u001B[38;5;124m\"\u001B[39m,\u001B[38;5;124m\"\u001B[39m\u001B[38;5;124m\"\u001B[39m)       \n",
      "\u001B[1;31mFileNotFoundError\u001B[0m: [Errno 2] No such file or directory: 'dna_CYP2C9.fasta'"
     ]
    }
   ],
   "source": [
    "with open(\"dna_CYP2C9.fasta\", \"r\") as GEN:\n",
    "        sec_CYP2C9 = (GEN.read())\n",
    "        ADN_CYP2C9= sec_CYP2C9.replace(\"\\n\",\"\")       \n",
    "    \n",
    "print(ADN_CYP2C9)\n",
    "TAM_ADN= len(ADN_CYP2C9)\n",
    "print(TAM_ADN)"
   ]
  },
  {
   "cell_type": "code",
   "execution_count": 71,
   "id": "80dc122d",
   "metadata": {
    "scrolled": true
   },
   "outputs": [
    {
     "name": "stdout",
     "output_type": "stream",
     "text": [
      "AUGGAUUCUCUUGUGGUCCUUGUGCUCUGUCUCUCAUGUUUGCUUCUCCUUUCACUCUGGAGACAGAGCUCUGGGAGAGGAAAACUCCCUCCUGGCCCCACUCCUCUCCCAGUGAUUGGAAAUAUCCUACAGAUAGGUAUUAAGGACAUCAGCAAAUCCUUAACCAAUCUCUCAAAGGUCUAUGGCCCUGUGUUCACUCUGUAUUUUGGCCUGAAACCCAUAGUGGUGCUGCAUGGAUAUGAAGCAGUGAAGGAAGCCCUGAUUGAUCUUGGAGAGGAGUUUUCUGGAAGAGGCAUUUUCCCACUGGCUGAAAGAGCUAACAGAGGAUUUGGAAUUGUUUUCAGCAAUGGAAAGAAAUGGAAGGAGAUCCGGCGUUUCUCCCUCAUGACGCUGCGGAAUUUUGGGAUGGGGAAGAGGAGCAUUGAGGACCGUGUUCAAGAGGAAGCCCGCUGCCUUGUGGAGGAGUUGAGAAAAACCAAGGCCUCACCCUGUGAUCCCACUUUCAUCCUGGGCUGUGCUCCCUGCAAUGUGAUCUGCUCCAUUAUUUUCCAUAAACGUUUUGAUUAUAAAGAUCAGCAAUUUCUUAACUUAAUGGAAAAGUUGAAUGAAAACAUCAAGAUUUUGAGCAGCCCCUGGGUCCAGAUCUGCAAUAAUUUUUCUCCUAUCAUUGAUUACUUCCCGGGAACUCACAACAAAUUACUUAAAAACGUUGCUUUUAUGAAAAGUUAUAUUUUGGAAAAAGUAAAAGAACACCAAGAAUCAAUGGACAUGAACAACCCUCAGGACUUUAUUGAUUGCUUCCUGAUGAAAAUGGAGAAGGAAAAGCACAACCAACCAUCUGAAUUUACUAUUGAAAGCUUGGAAAACACUGCAGUUGACUUGUUUGGAGCUGGGACAGAGACGACAAGCACAACCCUGAGAUAUGCUCUCCUUCUCCUGCUGAAGCACCCAGAGGUCACAGCUAAAGUCCAGGAAGAGAUUGAACGUGUGAUUGGCAGAAACCGGAGCCCCUGCAUGCAAGACAGGAGCCACAUGCCCUACACAGAUGCUGUGGUGCACGAGGUCCAGAGAUACAUUGACCUUCUCCCCACCAGCCUGCCCCAUGCAGUGACCUGUGACAUUAAAUUCAGAAACUAUCUCAUUCCCAAG\n",
      "1149\n"
     ]
    }
   ],
   "source": [
    "#Transcripcion de ADN a ARN\n",
    "for elem in ADN_CYP2C9:    \n",
    "    RNA= ADN_CYP2C9.replace(\"T\",\"<U>\")\n",
    "print(RNA)\n",
    "TAM_ARN= len(RNA)\n",
    "print(TAM_ARN)"
   ]
  },
  {
   "cell_type": "code",
   "execution_count": 72,
   "id": "5182f7ee",
   "metadata": {},
   "outputs": [
    {
     "name": "stdout",
     "output_type": "stream",
     "text": [
      "dict_values(['V', 'V', 'V', 'V', 'A', 'A', 'A', 'A', 'D', 'D', 'E', 'E', 'G', 'G', 'G', 'G', 'R', 'R', 'S', 'S', 'N', 'N', 'K', 'K', 'T', 'T', 'T', 'T', 'I', 'I', 'I', 'M', 'R', 'R', 'R', 'R', 'P', 'P', 'P', 'P', 'H', 'H', 'Q', 'Q', 'F', 'F', 'L', 'L', 'S', 'S', 'S', 'S', 'Y', 'Y', 'STOP', 'STOP', 'C', 'C', 'STOP', 'W', 'L', 'L', 'L', 'L'])\n"
     ]
    }
   ],
   "source": [
    "#Diccionario de codones para la traduccion\n",
    "codones= {\"GUU\": \"V\", \"GUC\": \"V\", \"GUA\": \"V\", \"GUG\": \"V\", \"GCU\": \"A\", \"GCC\": \"A\", \"GCA\": \"A\", \"GCG\": \"A\", \"GAU\": \"D\", \"GAC\": \"D\", \"GAA\": \"E\", \"GAG\": \"E\",\"GGU\": \"G\", \"GGC\": \"G\", \"GGA\": \"G\", \"GGG\": \"G\", \"AGA\": \"R\", \"AGG\": \"R\", \"AGU\": \"S\", \"AGC\": \"S\", \"AAU\": \"N\", \"AAC\": \"N\", \"AAA\": \"K\", \"AAG\": \"K\", \"ACU\" : \"T\", \"ACC\" : \"T\", \"ACA\" : \"T\", \"ACG\" : \"T\", \"AUU\" : \"I\", \"AUC\" : \"I\", \"AUA\" : \"I\", \"AUG\" : \"M\", \"CGU\" : \"R\", \"CGC\" : \"R\", \"CGA\" : \"R\", \"CGG\" : \"R\", \"CCU\" : \"P\", \"CCC\" : \"P\", \"CCA\" : \"P\", \"CCG\" : \"P\", \"CAU\" : \"H\", \"CAC\" : \"H\", \"CAA\" : \"Q\", \"CAG\" : \"Q\", \"UUU\": \"F\", \"UUC\": \"F\", \"UUA\": \"L\", \"UUG\": \"L\", \"UCU\": \"S\", \"UCC\": \"S\", \"UCA\": \"S\", \"UCG\" : \"S\", \"UAU\": \"Y\", \"UAC\": \"Y\", \"UAA\": \"STOP\", \"UAG\": \"STOP\", \"UGU\": \"C\", \"UGC\": \"C\", \"UGA\": \"STOP\", \"UGG\": \"W\",\"CUU\": \"L\", \"CUC\": \"L\", \"CUA\": \"L\", \"CUG\": \"L\", \"CCU\": \"P\", \"CCC\": \"P\", \"CCA\": \"P\", \"CCG\": \"P\", \"CAU\": \"H\", \"CAC\": \"H\", \"CAA\": \"Q\", \"CAG\": \"Q\", \"CGU\": \"R\", \"CGC\": \"R\", \"CGA\": \"R\", \"CGG\": \"R\"}\n",
    "print(codones.values())"
   ]
  },
  {
   "cell_type": "code",
   "execution_count": 73,
   "id": "1f5645c5",
   "metadata": {},
   "outputs": [
    {
     "name": "stdout",
     "output_type": "stream",
     "text": [
      "MDSLVVLVLCLSCLLLLSLWRQSSGRGKLPPGPTPLPVIGNILQIGIKDISKSLTNLSKVYGPVFTLYFGLKPIVVLHGYEAVKEALIDLGEEFSGRGIFPLAERANRGFGIVFSNGKKWKEIRRFSLMTLRNFGMGKRSIEDRVQEEARCLVEELRKTKASPCDPTFILGCAPCNVICSIIFHKRFDYKDQQFLNLMEKLNENIKILSSPWVQICNNFSPIIDYFPGTHNKLLKNVAFMKSYILEKVKEHQESMDMNNPQDFIDCFLMKMEKEKHNQPSEFTIESLENTAVDLFGAGTETTSTTLRYALLLLLKHPEVTAKVQEEIERVIGRNRSPCMQDRSHMPYTDAVVHEVQRYIDLLPTSLPHAVTCDIKFRNYLIPK\n"
     ]
    }
   ],
   "source": [
    "#Traducccion de ARN a aminoacidos\n",
    "protein = \"\"\n",
    "if len(RNA)%3 == 0:\n",
    "    for i in range(0, len(RNA), 3):\n",
    "        codon = RNA[i : i+3]\n",
    "        protein += codones[codon]\n",
    "print(protein)"
   ]
  },
  {
   "cell_type": "code",
   "execution_count": null,
   "id": "fa81e489",
   "metadata": {},
   "outputs": [],
   "source": []
  }
 ],
 "metadata": {
  "kernelspec": {
   "display_name": "Python 3",
   "language": "python",
   "name": "python3"
  },
  "language_info": {
   "codemirror_mode": {
    "name": "ipython",
    "version": 3
   },
   "file_extension": ".py",
   "mimetype": "text/x-python",
   "name": "python",
   "nbconvert_exporter": "python",
   "pygments_lexer": "ipython3",
   "version": "3.8.8"
  }
 },
 "nbformat": 4,
 "nbformat_minor": 5
}