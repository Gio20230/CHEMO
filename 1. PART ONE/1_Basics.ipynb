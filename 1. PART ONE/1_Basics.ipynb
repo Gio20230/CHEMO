{
 "cells": [
  {
   "cell_type": "markdown",
   "source": [
    "# Introducción al lenguaje de programación Python\n",
    "Manipulación de datos. En este cuaderno aprenderás sobre:\n",
    "\n",
    "---- Pendiente ----\n",
    "_____________________________________________________________________________________________________________________"
   ],
   "metadata": {
    "collapsed": false,
    "pycharm": {
     "name": "#%% md\n"
    }
   }
  },
  {
   "cell_type": "markdown",
   "source": [
    "# Teoría\n",
    "[caramirez] Javier arreglar las imagenes en github\n",
    "## Expresion del meterial genetico\n",
    "\n",
    "El DNA tiene como función es expresar de manera selectiva y regulada la información del material genético. El primer paso es la **transcripción** que sintetiza una cadena de ARN (ácido ribonucleico) a partir de una hebra de la cadena de ADN (Ácido desoxirribonucleico) o cadena molde, en la que, la tiamina (T) se sustituye por uracilo (U), por medio de mecanismos moleculares (figura 1).\n",
    "\n",
    "\n",
    "\n",
    "Figura 1. Dogma central de la biología molecular, evidenciando la transcripción de ADN a ARN con la construcción de la cadena de ARN a partir de la cadena molde de ADN, en ausencia de las enzimas implicadas.Figura tomada de:[Molecular biology of the gene, (2008), 13, 429-464]( https://books.google.com.co/books?id=7tadzgEACAAJ&dq=Molecular+biology+of+the+gene&hl=es-419&sa=X&redir_esc=y)\n",
    "\n",
    "El segundo paso es la **traducción**, en la que a partir de la secuencia de ARN resultante de la transcripción se codifica a una secuencia de aminoácidos durante síntesis de proteínas provenientes del código genético (figura 2). Es decir, es la relación entre tripletas de nucleótidos pertenecientes a un gen y la secuencia correspondiente de aminoácidos.\n",
    "\n",
    "Figura 2. Código genético esencial en la expresión de proteínas donde se evidencia la formación de un codón a partir de un nucleótido (uracilo, adenina, guanina, o citocina), desde la secuencia de inicio (verde) y las de parada (rojo). Figura tomada de: [Molecular biology of the gene, (2008), 15, 509-569]( https://books.google.com.co/books?id=7tadzgEACAAJ&dq=Molecular+biology+of+the+gene&hl=es-419&sa=X&redir_esc=y)\n",
    "\n",
    "_A continuación, se explicarán funciones de Python empleando ejemplos que permitirían comprender la expresión del material genético._"
   ],
   "metadata": {
    "collapsed": false,
    "pycharm": {
     "name": "#%% md\n"
    }
   },
   "outputs": [
    {
     "ename": "SyntaxError",
     "evalue": "invalid syntax (2241596746.py, line 4)",
     "output_type": "error",
     "traceback": [
      "\u001B[1;36m  Input \u001B[1;32mIn [1]\u001B[1;36m\u001B[0m\n\u001B[1;33m    El DNA tiene como función es expresar de manera selectiva y regulada la información del material genético. El primer paso es la **transcripción** que sintetiza una cadena de ARN (ácido ribonucleico) a partir de una hebra de la cadena de ADN (Ácido desoxirribonucleico) o cadena molde, en la que, la tiamina (T) se sustituye por uracilo (U), por medio de mecanismos moleculares (figura 1).\u001B[0m\n\u001B[1;37m       ^\u001B[0m\n\u001B[1;31mSyntaxError\u001B[0m\u001B[1;31m:\u001B[0m invalid syntax\n"
     ]
    }
   ],
   "execution_count": 1
  },
  {
   "cell_type": "markdown",
   "source": [
    "# Python Básico"
   ],
   "metadata": {
    "collapsed": false,
    "pycharm": {
     "name": "#%% md\n"
    }
   }
  },
  {
   "cell_type": "markdown",
   "source": [
    "## Variables\n",
    "\n",
    "Una variable es un espacio en la memoria del computador en donde se puede almacenar valores de datos. Python no tiene un comando para declarar una variable, estas son definidas por el programador quien le asigna un nombre o identificador que sea fácil de recordar y utilizar en el programa. Es importante saber que el nombre de las variables no puede comenzar por un número y distinguen entre mayusculas y minúsculas, además no se puede incluir espacios.\n",
    "\n",
    "Las variables como ya vimos pueden almacenar datos que pueden ser de diferentes tipos entre ellos los más empleadon en Python son:\n",
    "\n",
    "### Tipo: texto\n",
    "Son cadenas de caracteres (str)\n",
    "\n",
    "### Tipo: numéricos\n",
    "* **Enteros (int)**: son números enteros positivos o negativos\n",
    "* **Decimales (float)**: son números decimales\n",
    "\n",
    "### Tipo: arreglos\n",
    "Las listas, tuplas, diccionarios y conjuntos se emplean para almacenar varios elementos en una misma variables\n",
    "* **Listas (list):** los elemetos tienen orden modificable, se pueden hacer modificaciones y pueden haber duplicados, además están indexados\n",
    "* **Tuplas (tuple):** los elementos tienen un orden y no se pueden cambiar, agregar o eliminar una vez creada la tupla, además pueden hacer duplicados\n",
    "* **Conjuntos (set):** los elementos no tienen un orden, no se pueden cambiar, agregar o eliminar una vez creado el conjunto, además no están indexadas ni pueden haber duplicados\n",
    "* **Diccionarios (dict):** se emplean para almacenar valores de datos en pares clave:valor, los elementos tienen un orden no modificable, se pueden hacer modificaciones y no se permiten duplicados\n",
    "\n",
    "Para consultar el tipo de variable se usa la función de Python <code>type()</code>\n",
    "\n",
    "[caramirez] JAVIER: Hablar que hay más variables y donde las puede encontrar."
   ],
   "metadata": {
    "collapsed": false
   }
  },
  {
   "cell_type": "code",
   "execution_count": 11,
   "outputs": [
    {
     "name": "stdout",
     "output_type": "stream",
     "text": [
      "la variable donep es tipo: <class 'str'>\n",
      "la variable dosis_mg_donep es tipo: <class 'int'>\n",
      "la variable MW_donep es tipo: <class 'float'>\n",
      "la variable med_AD_list es tipo: <class 'list'>\n"
     ]
    }
   ],
   "source": [
    "# Variable tipo texto\n",
    "donep = \"Donepezil\"\n",
    "print('la variable donep es tipo:', type(donep))\n",
    "\n",
    "# Varieble tipo entero\n",
    "dosis_mg_donep = 5 # Pueden ser también número negativos\n",
    "print('la variable dosis_mg_donep es tipo:', type(dosis_mg_donep))\n",
    "\n",
    "# Variable tipo decimal\n",
    "MW_donep = 379.492\n",
    "print('la variable MW_donep es tipo:', type(MW_donep))\n",
    "\n",
    "# Variable tipo lista, tambien pueden ser tupla, conjunto y diccionario\n",
    "med_AD_list = [\"donepezil\", \"galantamine\", \"memantine\"] #También se puede emplear la función list(): med_AD_list = list((\"donepezil\", \"galantamine\", \"memantine\"))\n",
    "print('la variable med_AD_list es tipo:', type(med_AD_list))\n",
    "\n",
    "##-## poner tuplas, diccionarios y conjuntos"
   ],
   "metadata": {
    "collapsed": false,
    "pycharm": {
     "name": "#%%\n"
    }
   }
  },
  {
   "cell_type": "markdown",
   "source": [],
   "metadata": {
    "collapsed": false
   }
  },
  {
   "cell_type": "markdown",
   "source": [
    "## Tipos de datos\n",
    "Como ya se mencionó, el lenguaje de Python tiene valores que se almacenan en variables, los cuales, se expresan en diferentes tipos de datos que tienen características y propiedades determinadas, las cuales se explicaran a continuación (mas información de los tipos de datos en el [documento oficial]( https://docs.python.org/es/3/tutorial/classes.html#)).\n",
    "\n",
    "### Datos tipo: Objetos\n",
    "[caramirez] JAVIER Explicar que python esta enfocado a la programación con objetos, explicación breve de qué es esto.\n",
    "Se puede trabajar, por ejemplo, con la lectura de archivos"
   ],
   "metadata": {
    "collapsed": false
   }
  },
  {
   "cell_type": "markdown",
   "source": [
    "#### Manipulación de archivos\n",
    "[caramirez] Corregir JAVIER\n",
    "El desde el lenguaje de Python se puede manipular (abrir, cerrar, leer y escribir) archivos de texto (txt o csv). La función más útil es desde la <code>open()</code>, al finalizar el trabajo siempre debe ser cerrado con el comando <code>.close()</code>, la función tiene dos parámetros importantes, *filename*, con el argumentos como el nombre del fichero, y *mode*, el modo de apertura, el más empleado es <code>‘r’</code> para leer el fichero (mas información del modo en el [documento oficial]( https://docs.python.org/3/library/functions.html#open)). Una forma más practica de acceder al fichero y cerrarlo automáticamente es con la función <code>with()</code>, para leer todo el contenido del archivo como cadena de texto, se puede emplear la función  con <code>read().</code> ,como se muestra en el ejemplo a continuación:"
   ],
   "metadata": {
    "collapsed": false
   }
  },
  {
   "cell_type": "markdown",
   "source": [
    "[caramirez] LyC: primero descargar el LR898357.1 (CYP2C9)"
   ],
   "metadata": {
    "collapsed": false,
    "pycharm": {
     "name": "#%% md\n"
    }
   }
  },
  {
   "cell_type": "code",
   "execution_count": 37,
   "outputs": [
    {
     "name": "stdout",
     "output_type": "stream",
     "text": [
      "<_io.TextIOWrapper name='data/dna_CYP2C9.fasta' mode='r' encoding='cp1252'>\n"
     ]
    }
   ],
   "source": [
    "#Secuencia de nucleótidos del gen CYP2C9\n",
    "with open(\"data/dna_CYP2C9.fasta\", \"r\") as GEN:\n",
    "    sec_CYP2C9 = GEN.read()\n",
    "print(GEN)"
   ],
   "metadata": {
    "collapsed": false,
    "pycharm": {
     "name": "#%%\n"
    }
   }
  },
  {
   "cell_type": "markdown",
   "source": [
    "### Datos tipo: String\n",
    "Los string se denotan como <code>str</code> y son una secuencia de símbolos que pueden incluir letras mayúsculas y minúsculas, números, signos de puntuación y espacios.\n",
    "Existen tres formas de representar este tipo de datos, cualquiera de ellas es valida y no afecta el código:\n",
    "* **Entre comillas sencillas:** 'Donepezil'\n",
    "* **Entre comillas dobles:** \"Donepezil\"\n",
    "* **Entre tres comillas sencillas o tres comillas cobles:** '''Donepezil''' o \"\"\"Donepezil\"\"\"\n",
    "#### Metodos de String\n",
    "Hay varios operadores en el lenguaje de Python que permite trabajar con los datos de los String mediante operaciones en las que se devuelven los valores sin cambiar la cadena. Entre las que se encuentran:\n",
    "* <code>.replace()</code>: sustituye en el string un valor especifico por otro.\n",
    "* <code>.split()</code>: divide el string en subcadenas según el parámetro establecido\n",
    "* <code>.find()</code>:  Busca en el string un valor específico y evidencia la posición en la que se encuentra"
   ],
   "metadata": {
    "collapsed": false,
    "pycharm": {
     "name": "#%% md\n"
    }
   }
  },
  {
   "cell_type": "markdown",
   "source": [
    "Ejemplo, manipulación del archivo de secuencia del gen ...."
   ],
   "metadata": {
    "collapsed": false,
    "pycharm": {
     "name": "#%% md\n"
    }
   }
  },
  {
   "cell_type": "code",
   "execution_count": 38,
   "outputs": [
    {
     "data": {
      "text/plain": "'>LR898357.1 Homo sapiens CYP2C9 gene for CYP2C9\\nATGGATTCTCTTGTGGTCCTTGTGCTCTGTCTCTCATGTTTGCTTCTCCTTTCACTCTGGAGACAGAGCT\\nCTGGGAGAGGAAAACTCCCTCCTGGCCCCACTCCTCTCCCAGTGATTGGAAATATCCTACAGATAGGTAT\\nTAAGGACATCAGCAAATCCTTAACCAATCTCTCAAAGGTCTATGGCCCTGTGTTCACTCTGTATTTTGGC\\nCTGAAACCCATAGTGGTGCTGCATGGATATGAAGCAGTGAAGGAAGCCCTGATTGATCTTGGAGAGGAGT\\nTTTCTGGAAGAGGCATTTTCCCACTGGCTGAAAGAGCTAACAGAGGATTTGGAATTGTTTTCAGCAATGG\\nAAAGAAATGGAAGGAGATCCGGCGTTTCTCCCTCATGACGCTGCGGAATTTTGGGATGGGGAAGAGGAGC\\nATTGAGGACCGTGTTCAAGAGGAAGCCCGCTGCCTTGTGGAGGAGTTGAGAAAAACCAAGGCCTCACCCT\\nGTGATCCCACTTTCATCCTGGGCTGTGCTCCCTGCAATGTGATCTGCTCCATTATTTTCCATAAACGTTT\\nTGATTATAAAGATCAGCAATTTCTTAACTTAATGGAAAAGTTGAATGAAAACATCAAGATTTTGAGCAGC\\nCCCTGGGTCCAGATCTGCAATAATTTTTCTCCTATCATTGATTACTTCCCGGGAACTCACAACAAATTAC\\nTTAAAAACGTTGCTTTTATGAAAAGTTATATTTTGGAAAAAGTAAAAGAACACCAAGAATCAATGGACAT\\nGAACAACCCTCAGGACTTTATTGATTGCTTCCTGATGAAAATGGAGAAGGAAAAGCACAACCAACCATCT\\nGAATTTACTATTGAAAGCTTGGAAAACACTGCAGTTGACTTGTTTGGAGCTGGGACAGAGACGACAAGCA\\nCAACCCTGAGATATGCTCTCCTTCTCCTGCTGAAGCACCCAGAGGTCACAGCTAAAGTCCAGGAAGAGAT\\nTGAACGTGTGATTGGCAGAAACCGGAGCCCCTGCATGCAAGACAGGAGCCACATGCCCTACACAGATGCT\\nGTGGTGCACGAGGTCCAGAGATACATTGACCTTCTCCCCACCAGCCTGCCCCATGCAGTGACCTGTGACA\\nTTAAATTCAGAAACTATCTCATTCCCAAG\\n\\n'"
     },
     "execution_count": 38,
     "metadata": {},
     "output_type": "execute_result"
    }
   ],
   "source": [
    "sec_CYP2C9"
   ],
   "metadata": {
    "collapsed": false,
    "pycharm": {
     "name": "#%%\n"
    }
   }
  },
  {
   "cell_type": "code",
   "execution_count": 39,
   "outputs": [
    {
     "data": {
      "text/plain": "['>LR898357.1 Homo sapiens CYP2C9 gene for CYP2C9',\n 'ATGGATTCTCTTGTGGTCCTTGTGCTCTGTCTCTCATGTTTGCTTCTCCTTTCACTCTGGAGACAGAGCT',\n 'CTGGGAGAGGAAAACTCCCTCCTGGCCCCACTCCTCTCCCAGTGATTGGAAATATCCTACAGATAGGTAT',\n 'TAAGGACATCAGCAAATCCTTAACCAATCTCTCAAAGGTCTATGGCCCTGTGTTCACTCTGTATTTTGGC',\n 'CTGAAACCCATAGTGGTGCTGCATGGATATGAAGCAGTGAAGGAAGCCCTGATTGATCTTGGAGAGGAGT',\n 'TTTCTGGAAGAGGCATTTTCCCACTGGCTGAAAGAGCTAACAGAGGATTTGGAATTGTTTTCAGCAATGG',\n 'AAAGAAATGGAAGGAGATCCGGCGTTTCTCCCTCATGACGCTGCGGAATTTTGGGATGGGGAAGAGGAGC',\n 'ATTGAGGACCGTGTTCAAGAGGAAGCCCGCTGCCTTGTGGAGGAGTTGAGAAAAACCAAGGCCTCACCCT',\n 'GTGATCCCACTTTCATCCTGGGCTGTGCTCCCTGCAATGTGATCTGCTCCATTATTTTCCATAAACGTTT',\n 'TGATTATAAAGATCAGCAATTTCTTAACTTAATGGAAAAGTTGAATGAAAACATCAAGATTTTGAGCAGC',\n 'CCCTGGGTCCAGATCTGCAATAATTTTTCTCCTATCATTGATTACTTCCCGGGAACTCACAACAAATTAC',\n 'TTAAAAACGTTGCTTTTATGAAAAGTTATATTTTGGAAAAAGTAAAAGAACACCAAGAATCAATGGACAT',\n 'GAACAACCCTCAGGACTTTATTGATTGCTTCCTGATGAAAATGGAGAAGGAAAAGCACAACCAACCATCT',\n 'GAATTTACTATTGAAAGCTTGGAAAACACTGCAGTTGACTTGTTTGGAGCTGGGACAGAGACGACAAGCA',\n 'CAACCCTGAGATATGCTCTCCTTCTCCTGCTGAAGCACCCAGAGGTCACAGCTAAAGTCCAGGAAGAGAT',\n 'TGAACGTGTGATTGGCAGAAACCGGAGCCCCTGCATGCAAGACAGGAGCCACATGCCCTACACAGATGCT',\n 'GTGGTGCACGAGGTCCAGAGATACATTGACCTTCTCCCCACCAGCCTGCCCCATGCAGTGACCTGTGACA',\n 'TTAAATTCAGAAACTATCTCATTCCCAAG',\n '',\n '']"
     },
     "execution_count": 39,
     "metadata": {},
     "output_type": "execute_result"
    }
   ],
   "source": [
    "sec_CYP2C9.split('\\n')"
   ],
   "metadata": {
    "collapsed": false,
    "pycharm": {
     "name": "#%%\n"
    }
   }
  },
  {
   "cell_type": "code",
   "execution_count": 40,
   "outputs": [
    {
     "data": {
      "text/plain": "['ATGGATTCTCTTGTGGTCCTTGTGCTCTGTCTCTCATGTTTGCTTCTCCTTTCACTCTGGAGACAGAGCT',\n 'CTGGGAGAGGAAAACTCCCTCCTGGCCCCACTCCTCTCCCAGTGATTGGAAATATCCTACAGATAGGTAT',\n 'TAAGGACATCAGCAAATCCTTAACCAATCTCTCAAAGGTCTATGGCCCTGTGTTCACTCTGTATTTTGGC',\n 'CTGAAACCCATAGTGGTGCTGCATGGATATGAAGCAGTGAAGGAAGCCCTGATTGATCTTGGAGAGGAGT',\n 'TTTCTGGAAGAGGCATTTTCCCACTGGCTGAAAGAGCTAACAGAGGATTTGGAATTGTTTTCAGCAATGG',\n 'AAAGAAATGGAAGGAGATCCGGCGTTTCTCCCTCATGACGCTGCGGAATTTTGGGATGGGGAAGAGGAGC',\n 'ATTGAGGACCGTGTTCAAGAGGAAGCCCGCTGCCTTGTGGAGGAGTTGAGAAAAACCAAGGCCTCACCCT',\n 'GTGATCCCACTTTCATCCTGGGCTGTGCTCCCTGCAATGTGATCTGCTCCATTATTTTCCATAAACGTTT',\n 'TGATTATAAAGATCAGCAATTTCTTAACTTAATGGAAAAGTTGAATGAAAACATCAAGATTTTGAGCAGC',\n 'CCCTGGGTCCAGATCTGCAATAATTTTTCTCCTATCATTGATTACTTCCCGGGAACTCACAACAAATTAC',\n 'TTAAAAACGTTGCTTTTATGAAAAGTTATATTTTGGAAAAAGTAAAAGAACACCAAGAATCAATGGACAT',\n 'GAACAACCCTCAGGACTTTATTGATTGCTTCCTGATGAAAATGGAGAAGGAAAAGCACAACCAACCATCT',\n 'GAATTTACTATTGAAAGCTTGGAAAACACTGCAGTTGACTTGTTTGGAGCTGGGACAGAGACGACAAGCA',\n 'CAACCCTGAGATATGCTCTCCTTCTCCTGCTGAAGCACCCAGAGGTCACAGCTAAAGTCCAGGAAGAGAT',\n 'TGAACGTGTGATTGGCAGAAACCGGAGCCCCTGCATGCAAGACAGGAGCCACATGCCCTACACAGATGCT',\n 'GTGGTGCACGAGGTCCAGAGATACATTGACCTTCTCCCCACCAGCCTGCCCCATGCAGTGACCTGTGACA',\n 'TTAAATTCAGAAACTATCTCATTCCCAAG',\n '',\n '']"
     },
     "execution_count": 40,
     "metadata": {},
     "output_type": "execute_result"
    }
   ],
   "source": [
    "sec_CYP2C9.split('\\n')[1:]"
   ],
   "metadata": {
    "collapsed": false,
    "pycharm": {
     "name": "#%%\n"
    }
   }
  },
  {
   "cell_type": "code",
   "execution_count": 42,
   "outputs": [
    {
     "data": {
      "text/plain": "'ATGGATTCTCTTGTGGTCCTTGTGCTCTGTCTCTCATGTTTGCTTCTCCTTTCACTCTGGAGACAGAGCTCTGGGAGAGGAAAACTCCCTCCTGGCCCCACTCCTCTCCCAGTGATTGGAAATATCCTACAGATAGGTATTAAGGACATCAGCAAATCCTTAACCAATCTCTCAAAGGTCTATGGCCCTGTGTTCACTCTGTATTTTGGCCTGAAACCCATAGTGGTGCTGCATGGATATGAAGCAGTGAAGGAAGCCCTGATTGATCTTGGAGAGGAGTTTTCTGGAAGAGGCATTTTCCCACTGGCTGAAAGAGCTAACAGAGGATTTGGAATTGTTTTCAGCAATGGAAAGAAATGGAAGGAGATCCGGCGTTTCTCCCTCATGACGCTGCGGAATTTTGGGATGGGGAAGAGGAGCATTGAGGACCGTGTTCAAGAGGAAGCCCGCTGCCTTGTGGAGGAGTTGAGAAAAACCAAGGCCTCACCCTGTGATCCCACTTTCATCCTGGGCTGTGCTCCCTGCAATGTGATCTGCTCCATTATTTTCCATAAACGTTTTGATTATAAAGATCAGCAATTTCTTAACTTAATGGAAAAGTTGAATGAAAACATCAAGATTTTGAGCAGCCCCTGGGTCCAGATCTGCAATAATTTTTCTCCTATCATTGATTACTTCCCGGGAACTCACAACAAATTACTTAAAAACGTTGCTTTTATGAAAAGTTATATTTTGGAAAAAGTAAAAGAACACCAAGAATCAATGGACATGAACAACCCTCAGGACTTTATTGATTGCTTCCTGATGAAAATGGAGAAGGAAAAGCACAACCAACCATCTGAATTTACTATTGAAAGCTTGGAAAACACTGCAGTTGACTTGTTTGGAGCTGGGACAGAGACGACAAGCACAACCCTGAGATATGCTCTCCTTCTCCTGCTGAAGCACCCAGAGGTCACAGCTAAAGTCCAGGAAGAGATTGAACGTGTGATTGGCAGAAACCGGAGCCCCTGCATGCAAGACAGGAGCCACATGCCCTACACAGATGCTGTGGTGCACGAGGTCCAGAGATACATTGACCTTCTCCCCACCAGCCTGCCCCATGCAGTGACCTGTGACATTAAATTCAGAAACTATCTCATTCCCAAG'"
     },
     "execution_count": 42,
     "metadata": {},
     "output_type": "execute_result"
    }
   ],
   "source": [
    "''.join(sec_CYP2C9.split('\\n')[1:])"
   ],
   "metadata": {
    "collapsed": false,
    "pycharm": {
     "name": "#%%\n"
    }
   }
  },
  {
   "cell_type": "markdown",
   "source": [
    "#### Datos tipo: Strings FALTA\n",
    "\n",
    "Cómo invocar un elemento de un string (sec_CYP2C9[1])\n",
    "Cómo invocar una subcadena de un string (sec_CYP2C9[2:10], sec_CYP2C9[:10], sec_CYP2C9[25:], sec_CYP2C9[-5:], etc)"
   ],
   "metadata": {
    "collapsed": false,
    "pycharm": {
     "name": "#%% md\n"
    }
   }
  },
  {
   "cell_type": "code",
   "execution_count": 43,
   "outputs": [],
   "source": [
    "##-## Claudia y Lauria transcipción ### Ahora descargar el archivo grande...."
   ],
   "metadata": {
    "collapsed": false,
    "pycharm": {
     "name": "#%%\n"
    }
   }
  },
  {
   "cell_type": "markdown",
   "source": [
    "Primero se descargará el documento con el que se va a trabajar: En la base de datos de Genbank se buscará la secuencia del genoma completo de la Marmota monax, ID: [JAIQCD010000022.1](https://www.ncbi.nlm.nih.gov/nuccore/JAIQCD010000022.1?report=fasta), para descargar la secuencia, se selecciona el apartado **\"Fasta\"**, luego, en la sección **\"Complete Record\"** de **\"Send to\"**, se elige el archivo **(File)** y el formato para obtener la secuencia **(Fasta)**, posteriormente, se da clic en **\"Create File\"** y se descargar el documento. Para reconocer el archivo cambia el nombre del documento, en este caso \"dna_marmota.fasta\"."
   ],
   "metadata": {
    "collapsed": false
   }
  },
  {
   "cell_type": "code",
   "execution_count": 57,
   "outputs": [
    {
     "name": "stdout",
     "output_type": "stream",
     "text": [
      "34815635\n",
      "CCAATATTCTGTACAATTAATTAGTAGCAGGGCATGGGTTGCATGTCTGCCATGGCAGTGACTCCTGGAGCCTGAGATAGGAGGATCTCAAGTTTGAGGTCACTTTGTAGGACCTTGTCTCAAAAAAAAAAAAAAAAACCCGGCTGGAATGAAGTACAACTAGTGTGACAGCAGGTGGGTTTATCCCATTCCCATTTGAAAAATAATGGAAAATCTAGCCACTGGAGGGATTGAAGGCCCAATGAGGAGGGAGTAGGGTTAATACTGCCATTTTTCTTCTTTGGTGTATTTTACAAAAATGTGTGTGTGTGTGTGTGTGTGTGTGTGTGTGTGTGTGTGTGTTTCTCCCACCTTTGTTCTATTGCTTTGACGTGTTTTTTTTTTTTCTTTTATTTTTGGTATTGGCTTGTTTTCACTTTCTTGTCAATTTCTTTTGTATCAATTCTGTAGCTCTTTTTTTTTTACAGAAAAGAAAATTACAGTCAAAATATTTTATTTTCCTCTTAATACTAACTTAATTTCAATCTCATAAAGATACTGTACCTTTAGAATTCTATCTCCCACTGTATGTACTCATTTTTCTTCCTTTATTTTGGTGTTGTGCTGGGATAGAACTCAGGATGCTGCAGCACTGAGCTACATCTCTAGCTTTTCTTTCTATTTTTGCTTTGAGTGTGACCCAGTGTAAAGTGTTAGCCTAGCATGCCTGAGGCCTTGGCTTCAATTCTAACTATCATGAAACAAATATACTCTGTGTACCTGATCTGACACTACATGCTGTGTCCATTATTTTAAGGCTGCTATCCTATTGAAGAAGGTTTCAGAAAGGATCATGTAAGTCATGTAAACATGCTCCCCAAACATCAAGTATCCTTTACTTAATTGTTATGTTGAAGGCTAAGCTTATTTTGAATGTCATCATATGAGCAAAAAATCAAAGTGGACATTATGATAAATACTTGTCCCAACCCAATGCTTCCTTTCTATTTTATATAATCTT\n"
     ]
    }
   ],
   "source": [
    "with open(\"data/dns_WCK01_AAK20210901_F8.fasta\", \"r\") as GEN:\n",
    "    ADN_marmota =  ''.join((GEN.read()).split('\\n')[1:])\n",
    "print(len(ADN_marmota))\n",
    "print(ADN_marmota[:1000])"
   ],
   "metadata": {
    "collapsed": false,
    "pycharm": {
     "name": "#%%\n"
    }
   }
  },
  {
   "cell_type": "code",
   "execution_count": 58,
   "outputs": [
    {
     "name": "stdout",
     "output_type": "stream",
     "text": [
      "CCAAUAUUCUGUACAAUUAAUUAGUAGCAGGGCAUGGGUUGCAUGUCUGCCAUGGCAGUGACUCCUGGAGCCUGAGAUAGGAGGAUCUCAAGUUUGAGGUCACUUUGUAGGACCUUGUCUCAAAAAAAAAAAAAAAAACCCGGCUGGAAUGAAGUACAACUAGUGUGACAGCAGGUGGGUUUAUCCCAUUCCCAUUUGAAAAAUAAUGGAAAAUCUAGCCACUGGAGGGAUUGAAGGCCCAAUGAGGAGGGAGUAGGGUUAAUACUGCCAUUUUUCUUCUUUGGUGUAUUUUACAAAAAUGUGUGUGUGUGUGUGUGUGUGUGUGUGUGUGUGUGUGUGUGUUUCUCCCACCUUUGUUCUAUUGCUUUGACGUGUUUUUUUUUUUUCUUUUAUUUUUGGUAUUGGCUUGUUUUCACUUUCUUGUCAAUUUCUUUUGUAUCAAUUCUGUAGCUCUUUUUUUUUUACAGAAAAGAAAAUUACAGUCAAAAUAUUUUAUUUUCCUCUUAAUACUAACUUAAUUUCAAUCUCAUAAAGAUACUGUACCUUUAGAAUUCUAUCUCCCACUGUAUGUACUCAUUUUUCUUCCUUUAUUUUGGUGUUGUGCUGGGAUAGAACUCAGGAUGCUGCAGCACUGAGCUACAUCUCUAGCUUUUCUUUCUAUUUUUGCUUUGAGUGUGACCCAGUGUAAAGUGUUAGCCUAGCAUGCCUGAGGCCUUGGCUUCAAUUCUAACUAUCAUGAAACAAAUAUACUCUGUGUACCUGAUCUGACACUACAUGCUGUGUCCAUUAUUUUAAGGCUGCUAUCCUAUUGAAGAAGGUUUCAGAAAGGAUCAUGUAAGUCAUGUAAACAUGCUCCCCAAACAUCAAGUAUCCUUUACUUAAUUGUUAUGUUGAAGGCUAAGCUUAUUUUGAAUGUCAUCAUAUGAGCAAAAAAUCAAAGUGGACAUUAUGAUAAAUACUUGUCCCAACCCAAUGCUUCCUUUCUAUUUUAUAUAAUCUU\n"
     ]
    }
   ],
   "source": [
    "# Transcripción de la secuencia de marmota de ADN a ARN, empleando la función \".replace()\"\n",
    "RNA_marmota = ADN_marmota.replace(\"T\",\"U\")\n",
    "print(RNA_marmota[:1000])"
   ],
   "metadata": {
    "collapsed": false,
    "pycharm": {
     "name": "#%%\n"
    }
   }
  },
  {
   "cell_type": "markdown",
   "source": [
    "### Datos tipo: colecciones de elementos\n",
    "En Python hay cuatro tipos de datos tipo colecciones de elementos:\n",
    "#### - Dato tipo: listas\n",
    "Las listas se emplean para almacenar varios elementos en una sola variable. Los elementos o datos que se almacenan pueden ser de cualquier tipo. A continuación se encuentran als características de este tipo de datos:\n",
    "* Los elementos de las listas **están ordenados**, es decir, tienen un orden definido que no cambiará pues al agregar nuevos elementos a la lista se colocaran al final de la misma.\n",
    "* Los elementos de las listas **son modificables**, es decir, que se pueden cambiar, agregar y eliminar elementos después de que se haya creado la lista.\n",
    "* Las listas **permiten duplicados**, es decir, que pueden haber elementos con el mismo valor."
   ],
   "metadata": {
    "collapsed": false,
    "pycharm": {
     "name": "#%% md\n"
    }
   }
  },
  {
   "cell_type": "code",
   "execution_count": 68,
   "outputs": [
    {
     "name": "stdout",
     "output_type": "stream",
     "text": [
      "['C', 'C', 'A', 'A', 'U', 'A', 'U', 'U', 'C', 'U', 'G', 'U', 'A', 'C', 'A', 'A', 'U', 'U', 'A', 'A']\n"
     ]
    }
   ],
   "source": [
    "# Es posible convertir una lista con el string adn_marmota[:300]\n",
    "list_RNA_marmota = list(RNA_marmota[:20])\n",
    "print(list_RNA_marmota)"
   ],
   "metadata": {
    "collapsed": false,
    "pycharm": {
     "name": "#%%\n"
    }
   }
  },
  {
   "cell_type": "markdown",
   "source": [
    "En el anterior ejemplo se ve la forma en la que esta escrita una lista:\n",
    "* Se encuentra delimitada por corchetes cuadrados `[ ]`\n",
    "* Cada elemento está separado por comas `,`\n",
    "\n",
    "Como los elementos de la listas están ordenados se puede saber el índice de un elemento con la función <code>index()</code> la cual devuelve el índice del elemento en la primera aparición que encuentra a partir del índice 0 independientemente de cuántas veces este el elemento dentro de la lista."
   ],
   "metadata": {
    "collapsed": false,
    "pycharm": {
     "name": "#%% md\n"
    }
   }
  },
  {
   "cell_type": "code",
   "execution_count": 69,
   "outputs": [
    {
     "name": "stdout",
     "output_type": "stream",
     "text": [
      "0\n"
     ]
    }
   ],
   "source": [
    "# Ejemplo función index(). El primer elemento de la lista tienen índice 0\n",
    "print(list_RNA_marmota.index(\"C\"))"
   ],
   "metadata": {
    "collapsed": false,
    "pycharm": {
     "name": "#%%\n"
    }
   }
  },
  {
   "cell_type": "code",
   "execution_count": 70,
   "outputs": [
    {
     "name": "stdout",
     "output_type": "stream",
     "text": [
      "['C', 'Citocina', 'A', 'A', 'U', 'A', 'U', 'U', 'C', 'U', 'G', 'U', 'A', 'C', 'A', 'A', 'U', 'U', 'A', 'A']\n"
     ]
    }
   ],
   "source": [
    "# Cambiar elementos de la lista\n",
    "list_RNA_marmota[1] = \"Citocina\" # Se cambia el elemento con índice 1\n",
    "print(list_RNA_marmota[:20])"
   ],
   "metadata": {
    "collapsed": false,
    "pycharm": {
     "name": "#%%\n"
    }
   }
  },
  {
   "cell_type": "code",
   "execution_count": 74,
   "outputs": [
    {
     "name": "stdout",
     "output_type": "stream",
     "text": [
      "['C', 'Citocina', 'A', 'A', 'U', 'NNN', 'NNN', 'A', 'U', 'U', 'C', 'U', 'G', 'U', 'A', 'C', 'A', 'A', 'U', 'U']\n"
     ]
    }
   ],
   "source": [
    "# Insertar elementos a la lista\n",
    "list_RNA_marmota.insert(5, \"NNN\") # Se inserta en el índice 5 el elemento \"NNN\"\n",
    "print(list_RNA_marmota[:20])"
   ],
   "metadata": {
    "collapsed": false,
    "pycharm": {
     "name": "#%%\n"
    }
   }
  },
  {
   "cell_type": "code",
   "execution_count": 75,
   "outputs": [
    {
     "name": "stdout",
     "output_type": "stream",
     "text": [
      "['C', 'Citocina', 'A', 'A', 'U', 'NNN', 'NNN', 'A', 'U', 'U', 'C', 'U', 'G', 'U', 'A', 'C', 'A', 'A', 'U', 'U', 'A', 'A', 'NNN', 'NNN', 'NNN']\n"
     ]
    }
   ],
   "source": [
    "# Agregar elementos a la lista\n",
    "list_RNA_marmota.append(\"NNN\")\n",
    "print(list_RNA_marmota[:100])\n",
    "#Note que se agrega al final de la lista*"
   ],
   "metadata": {
    "collapsed": false,
    "pycharm": {
     "name": "#%%\n"
    }
   }
  },
  {
   "cell_type": "code",
   "execution_count": 78,
   "outputs": [
    {
     "name": "stdout",
     "output_type": "stream",
     "text": [
      "['C', 'Citocina', 'A', 'A', 'U', 'A', 'U', 'U', 'C', 'U', 'G', 'U', 'A', 'C', 'A', 'A', 'U', 'U', 'A', 'A', 'NNN', 'NNN', 'NNN']\n"
     ]
    }
   ],
   "source": [
    "# Eliminar elementos específicos de la lista\n",
    "list_RNA_marmota.remove(\"NNN\")\n",
    "print(list_RNA_marmota[:100])\n",
    "# Note que solo elimina el primer elemento que encuentre y no los duplicados"
   ],
   "metadata": {
    "collapsed": false,
    "pycharm": {
     "name": "#%%\n"
    }
   }
  },
  {
   "cell_type": "code",
   "execution_count": 88,
   "outputs": [
    {
     "name": "stdout",
     "output_type": "stream",
     "text": [
      "['C', 'Citocina', 'A', 'A', 'U', 'A', 'U', 'U', 'C', 'U', 'G', 'U', 'A', 'C', 'A', 'A']\n"
     ]
    }
   ],
   "source": [
    "# Eliminar elementos de la lista especificando el índice\n",
    "list_RNA_marmota.pop()\n",
    "print(list_RNA_marmota)\n",
    "# Si no se especifica el pindice se elimina el último elemento de la lista"
   ],
   "metadata": {
    "collapsed": false,
    "pycharm": {
     "name": "#%%\n"
    }
   }
  },
  {
   "cell_type": "markdown",
   "source": [
    "[caramirez] Ahora si explicar el ejemplo de dividir el RNA de la marmota en tres .... ¿y para qué? ...."
   ],
   "metadata": {
    "collapsed": false,
    "pycharm": {
     "name": "#%% md\n"
    }
   }
  },
  {
   "cell_type": "code",
   "execution_count": 62,
   "outputs": [
    {
     "name": "stdout",
     "output_type": "stream",
     "text": [
      "0\n"
     ]
    }
   ],
   "source": [
    "RNA_marmota_mod = RNA_marmota[:-2]\n",
    "print(len(RNA_marmota_mod)%3)"
   ],
   "metadata": {
    "collapsed": false,
    "pycharm": {
     "name": "#%%\n"
    }
   }
  },
  {
   "cell_type": "code",
   "execution_count": null,
   "outputs": [],
   "source": [
    "# cómo dividir de tres en tres...\n",
    "RNA_marmota_mod"
   ],
   "metadata": {
    "collapsed": false,
    "pycharm": {
     "name": "#%%\n"
    }
   }
  },
  {
   "cell_type": "markdown",
   "source": [
    "[caramirez] Javier revisar\n",
    "#### - Dato tipo: tuplas\n",
    "Las tuplas se emplean para almacenar varios elementos en una sola variable. Los elementos o datos que se almacenan pueden ser de cualquier tipo. A continuación se encuentran als características de este tipo de datos:\n",
    "* Los elementos de las tuplas **están ordenados**, es decir, tienen un orden definido que no cambiará pues al agregar nuevos elementos a la lista se colocaran al final de la misma.\n",
    "* Los elementos de las tuplas **son inmutables**, es decir, que no se pueden cambiar, agregar y eliminar elementos después de que se haya creado la tupla.\n",
    "* Las tuplas **permiten duplicados**, es decir, que pueden haber elementos con el mismo valor.\n",
    "\n",
    "#### - Dato tipo: conjuntos\n",
    "Los conjuntos se emplean para almacenar varios elementos en una sola variable. Los elementos o datos que se almacenan pueden ser de cualquier tipo. A continuación se encuentran als características de este tipo de datos:\n",
    "* Los elementos de los conjuntos **no están ordenados**, es decir, no tienen un orden definido ya que los elementos pueden aparecer en un orden diferente cada vez que los usa y no se puede hacer referencia a ellos por índice o clave.\n",
    "* Los elementos de los conjuntos **son inmutables**, es decir, que no se pueden cambiar elementos después de que se haya creado el conjunto.\n",
    "* Los conjuntos **no permiten duplicados**, es decir, no pueden haber elementos con el mismo valor.\n",
    "\n",
    "#### - Dato tipo: Diccionario\n",
    "\n",
    "Los diccionarios se emplean para almacenar valores de datos en pares clave:valor. Los elementos o datos que se almacenan pueden ser de cualquier tipo. A continuación se encuentran als características de este tipo de datos:\n",
    "* Los elementos de los diccionarios **están ordenados**, es decir, tienen un orden definido y no cambiará.\n",
    "* Los elementos de los diccionarios **son modificables**, es decir, que se pueden cambiar, agregar y eliminar elementos después de que se haya creado el diccionario.\n",
    "* Los diccionarios **no permiten duplicados**, es decir, no pueden haber elementos con la misma clave."
   ],
   "metadata": {
    "collapsed": false,
    "pycharm": {
     "name": "#%% md\n"
    }
   }
  },
  {
   "cell_type": "markdown",
   "source": [
    "##### Ejemplo 3: Diccionario de codones\n",
    "En el anterior ejemplo se ve la forma en la que esta escrita un diccionario:\n",
    "* Se encuentra delimitada por corchetes { }\n",
    "* Cada par clave:valor está separado por comas (,)"
   ],
   "metadata": {
    "collapsed": false,
    "pycharm": {
     "name": "#%% md\n"
    }
   }
  },
  {
   "cell_type": "code",
   "execution_count": 99,
   "outputs": [],
   "source": [
    "#Diccionario de codones para la traduccion\n",
    "codones= {\"GUU\": \"V\", \"GUC\": \"V\", \"GUA\": \"V\", \"GUG\": \"V\", \"GCU\": \"A\", \"GCC\": \"A\", \"GCA\": \"A\", \"GCG\": \"A\", \"GAU\": \"D\", \"GAC\": \"D\", \"GAA\": \"E\", \"GAG\": \"E\",\"GGU\": \"G\", \"GGC\": \"G\", \"GGA\": \"G\", \"GGG\": \"G\", \"AGA\": \"R\", \"AGG\": \"R\", \"AGU\": \"S\", \"AGC\": \"S\", \"AAU\": \"N\", \"AAC\": \"N\", \"AAA\": \"K\", \"AAG\": \"K\", \"ACU\" : \"T\", \"ACC\" : \"T\", \"ACA\" : \"T\", \"ACG\" : \"T\", \"AUU\" : \"I\", \"AUC\" : \"I\", \"AUA\" : \"I\", \"AUG\" : \"M\", \"CGU\" : \"R\", \"CGC\" : \"R\", \"CGA\" : \"R\", \"CGG\" : \"R\", \"CCU\" : \"P\", \"CCC\" : \"P\", \"CCA\" : \"P\", \"CCG\" : \"P\", \"CAU\" : \"H\", \"CAC\" : \"H\", \"CAA\" : \"Q\", \"CAG\" : \"Q\", \"UUU\": \"F\", \"UUC\": \"F\", \"UUA\": \"L\", \"UUG\": \"L\", \"UCU\": \"S\", \"UCC\": \"S\", \"UCA\": \"S\", \"UCG\" : \"S\", \"UAU\": \"Y\", \"UAC\": \"Y\", \"UAA\": \"STOP\", \"UAG\": \"STOP\", \"UGU\": \"C\", \"UGC\": \"C\", \"UGA\": \"STOP\", \"UGG\": \"W\",\"CUU\": \"L\", \"CUC\": \"L\", \"CUA\": \"L\", \"CUG\": \"L\", \"CCU\": \"P\", \"CCC\": \"P\", \"CCA\": \"P\", \"CCG\": \"P\", \"CAU\": \"H\", \"CAC\": \"H\", \"CAA\": \"Q\", \"CAG\": \"Q\", \"CGU\": \"R\", \"CGC\": \"R\", \"CGA\": \"R\", \"CGG\": \"R\"}"
   ],
   "metadata": {
    "collapsed": false,
    "pycharm": {
     "name": "#%%\n"
    }
   }
  },
  {
   "cell_type": "code",
   "execution_count": 96,
   "outputs": [
    {
     "name": "stdout",
     "output_type": "stream",
     "text": [
      "dict_keys(['GUU', 'GUC', 'GUA', 'GUG', 'GCU', 'GCC', 'GCA', 'GCG', 'GAU', 'GAC', 'GAA', 'GAG', 'GGU', 'GGC', 'GGA', 'GGG', 'AGA', 'AGG', 'AGU', 'AGC', 'AAU', 'AAC', 'AAA', 'AAG', 'ACU', 'ACC', 'ACA', 'ACG', 'AUU', 'AUC', 'AUA', 'AUG', 'CGU', 'CGC', 'CGA', 'CGG', 'CCU', 'CCC', 'CCA', 'CCG', 'CAU', 'CAC', 'CAA', 'CAG', 'UUU', 'UUC', 'UUA', 'UUG', 'UCU', 'UCC', 'UCA', 'UCG', 'UAU', 'UAC', 'UAA', 'UAG', 'UGU', 'UGC', 'UGA', 'UGG', 'CUU', 'CUC', 'CUA', 'CUG'])\n",
      "dict_values(['V', 'V', 'V', 'V', 'A', 'A', 'A', 'A', 'D', 'D', 'E', 'E', 'G', 'G', 'G', 'G', 'R', 'R', 'S', 'S', 'N', 'N', 'K', 'K', 'T', 'T', 'T', 'T', 'I', 'I', 'I', 'M', 'R', 'R', 'R', 'R', 'P', 'P', 'P', 'P', 'H', 'H', 'Q', 'Q', 'F', 'F', 'L', 'L', 'S', 'S', 'S', 'S', 'Y', 'Y', 'STOP', 'STOP', 'C', 'C', 'STOP', 'W', 'L', 'L', 'L', 'L'])\n"
     ]
    }
   ],
   "source": [
    "# Se pueden obtener las claves y los valores de un diccionario\n",
    "##-## poner el texto de que se está imprimiendo\n",
    "\n",
    "print(codones.keys())\n",
    "\n",
    "print(codones.values())"
   ],
   "metadata": {
    "collapsed": false,
    "pycharm": {
     "name": "#%%\n"
    }
   }
  },
  {
   "cell_type": "code",
   "execution_count": 97,
   "outputs": [
    {
     "name": "stdout",
     "output_type": "stream",
     "text": [
      "{'GUU': 'NNN', 'GUC': 'V', 'GUA': 'V', 'GUG': 'V', 'GCU': 'A', 'GCC': 'A', 'GCA': 'A', 'GCG': 'A', 'GAU': 'D', 'GAC': 'D', 'GAA': 'E', 'GAG': 'E', 'GGU': 'G', 'GGC': 'G', 'GGA': 'G', 'GGG': 'G', 'AGA': 'R', 'AGG': 'R', 'AGU': 'S', 'AGC': 'S', 'AAU': 'N', 'AAC': 'N', 'AAA': 'K', 'AAG': 'K', 'ACU': 'T', 'ACC': 'T', 'ACA': 'T', 'ACG': 'T', 'AUU': 'I', 'AUC': 'I', 'AUA': 'I', 'AUG': 'M', 'CGU': 'R', 'CGC': 'R', 'CGA': 'R', 'CGG': 'R', 'CCU': 'P', 'CCC': 'P', 'CCA': 'P', 'CCG': 'P', 'CAU': 'H', 'CAC': 'H', 'CAA': 'Q', 'CAG': 'Q', 'UUU': 'F', 'UUC': 'F', 'UUA': 'L', 'UUG': 'L', 'UCU': 'S', 'UCC': 'S', 'UCA': 'S', 'UCG': 'S', 'UAU': 'Y', 'UAC': 'Y', 'UAA': 'STOP', 'UAG': 'STOP', 'UGU': 'C', 'UGC': 'C', 'UGA': 'STOP', 'UGG': 'W', 'CUU': 'L', 'CUC': 'L', 'CUA': 'L', 'CUG': 'L'}\n"
     ]
    }
   ],
   "source": [
    "# Se pueden cambiar valores\n",
    "codones[\"GUU\"] = \"NNN\"\n",
    "##-## poner el texto de que se está imprimiendo\n",
    "print(codones)"
   ],
   "metadata": {
    "collapsed": false,
    "pycharm": {
     "name": "#%%\n"
    }
   }
  },
  {
   "cell_type": "code",
   "execution_count": 98,
   "outputs": [
    {
     "name": "stdout",
     "output_type": "stream",
     "text": [
      "{'GUU': 'V', 'GUC': 'V', 'GUA': 'V', 'GUG': 'V', 'GCU': 'A', 'GCC': 'A', 'GCA': 'A', 'GCG': 'A', 'GAU': 'D', 'GAC': 'D', 'GAA': 'E', 'GAG': 'E', 'GGU': 'G', 'GGC': 'G', 'GGA': 'G', 'GGG': 'G', 'AGA': 'R', 'AGG': 'R', 'AGU': 'S', 'AGC': 'S', 'AAU': 'N', 'AAC': 'N', 'AAA': 'K', 'AAG': 'K', 'ACU': 'T', 'ACC': 'T', 'ACA': 'T', 'ACG': 'T', 'AUU': 'I', 'AUC': 'I', 'AUA': 'I', 'AUG': 'M', 'CGU': 'R', 'CGC': 'R', 'CGA': 'R', 'CGG': 'R', 'CCU': 'P', 'CCC': 'P', 'CCA': 'P', 'CCG': 'P', 'CAU': 'H', 'CAC': 'H', 'CAA': 'Q', 'CAG': 'Q', 'UUU': 'F', 'UUC': 'F', 'UUA': 'L', 'UUG': 'L', 'UCU': 'S', 'UCC': 'S', 'UCA': 'S', 'UCG': 'S', 'UAU': 'Y', 'UAC': 'Y', 'UAA': 'STOP', 'UAG': 'STOP', 'UGU': 'C', 'UGC': 'C', 'UGA': 'STOP', 'UGG': 'W', 'CUU': 'L', 'CUC': 'L', 'CUA': 'L', 'CUG': 'L'}\n"
     ]
    }
   ],
   "source": [
    "# Se puede actualizar el diccionario con la función .update()\n",
    "codones.update({\"GUU\": \"V\"})\n",
    "##-## poner el texto de que se está imprimiendo\n",
    "print(codones)"
   ],
   "metadata": {
    "collapsed": false,
    "pycharm": {
     "name": "#%%\n"
    }
   }
  },
  {
   "cell_type": "markdown",
   "source": [
    "## Estructuras de control de flujo\n",
    "Python tiene sentencias de control de flujo que permite agrupar comandos de manera controlada. Dos de las mas empleadas son:\n",
    "1. Estructuras de control condicionales\n",
    "2. Estructuras de control iterativas"
   ],
   "metadata": {
    "collapsed": false,
    "pycharm": {
     "name": "#%% md\n"
    }
   }
  },
  {
   "cell_type": "markdown",
   "source": [
    "### 1. Condicionales\n",
    "Los condicionales permiten ejecutar una instrucción o tomar una decisión si se cumple una determinada condición, dando como resultado un valor booleano de verdadero o falso. Las funciones más empleadas:\n",
    "* <code>if</code>: donde si se cumple la expresión se ejecuta el bloque de sentencias seguidas.\n",
    "* <code>elif</code>: donde si no se cumplen las condiciones anteriores, se intenta con otra sentencia.\n",
    "* <code>else</code>:  donde la expresión booleana es falsa o no se cumple una condición tomar esta otra opción.\n",
    "\n",
    "Los operadores y las expresiones permiten validar la condición que se va a seguir, los mas conocidos son las condiciones lógicas:"
   ],
   "metadata": {
    "collapsed": false,
    "pycharm": {
     "name": "#%% md\n"
    }
   }
  },
  {
   "cell_type": "markdown",
   "source": [
    "### 2. Iterativas\n",
    "Las iteraciones o bubles permiten repetir una porción del código las veces que sea necesario, mientras la condición booleana sea verdadera o falsa, en python se incluyen únicamente dos funciones:\n",
    "* <code>while</code>: permite realizar múltiples iteraciones ejecutando un código mientras la condición sea verdadera.\n",
    "* <code>for</code>: permite iterar en orden sobre cada uno de los elementos de una secuencia, ya sea lista, tupla, diccionario, conjunto o cadena\n",
    "\n",
    "Para más información revise el siguiente [link]( https://entrenamiento-python-basico.readthedocs.io/es/latest/leccion4/bucle_while.html)"
   ],
   "metadata": {
    "collapsed": false,
    "pycharm": {
     "name": "#%% md\n"
    }
   }
  },
  {
   "cell_type": "markdown",
   "source": [
    "Este ejemplo sirve, pero hay que poner algo más simple primero."
   ],
   "metadata": {
    "collapsed": false,
    "pycharm": {
     "name": "#%% md\n"
    }
   }
  },
  {
   "cell_type": "code",
   "execution_count": 100,
   "outputs": [
    {
     "data": {
      "text/plain": "'CCAAUAUUCUGUACAAUUAAUUAGUAGCAGGGCAUGGGUUGCAUGUCUGCCAUGGCAGUGACUCCUGGAGCCUGAGAUAGGAGGAUCUCAAGUUUGAGGU'"
     },
     "execution_count": 100,
     "metadata": {},
     "output_type": "execute_result"
    }
   ],
   "source": [
    "RNA_marmota[:100]"
   ],
   "metadata": {
    "collapsed": false,
    "pycharm": {
     "name": "#%%\n"
    }
   }
  },
  {
   "cell_type": "markdown",
   "source": [
    "Extraer la primer proteina del RNA de la marmota:\n",
    "1. Identificar el inicio de la proteina: AUG\n",
    "2. Dividir de tres en tres\n",
    "3. Encontrar el stop (pueden ser varios, mirar diccionario)\n",
    "4. imprimir la proteina: AUG<de tres en tres>STOP"
   ],
   "metadata": {
    "collapsed": false,
    "pycharm": {
     "name": "#%% md\n"
    }
   }
  }
 ],
 "metadata": {
  "kernelspec": {
   "display_name": "Python 3",
   "language": "python",
   "name": "python3"
  },
  "language_info": {
   "codemirror_mode": {
    "name": "ipython",
    "version": 2
   },
   "file_extension": ".py",
   "mimetype": "text/x-python",
   "name": "python",
   "nbconvert_exporter": "python",
   "pygments_lexer": "ipython2",
   "version": "2.7.6"
  }
 },
 "nbformat": 4,
 "nbformat_minor": 0
}